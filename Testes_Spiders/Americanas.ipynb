{
 "cells": [
  {
   "cell_type": "code",
   "execution_count": 1,
   "metadata": {},
   "outputs": [],
   "source": [
    "#IMPORTANDO BIBLIOTECAS\n",
    "from bs4 import BeautifulSoup\n",
    "import requests\n",
    "import json\n",
    "import pandas as pd\n",
    "import sqlite3\n",
    "import time\n",
    "from tqdm import tqdm\n",
    "import os\n",
    "import random"
   ]
  },
  {
   "cell_type": "code",
   "execution_count": 2,
   "metadata": {},
   "outputs": [],
   "source": [
    "#GUARDANDO LISTAS\n",
    "Links_Americanas = []\n",
    "Urls_Americanas = []\n",
    "Sellers_Americanas = []\n",
    "Country_Americanas = []\n",
    "Price_Americanas = []\n",
    "SKU_Americanas = []\n",
    "Title_Americanas = []\n",
    "Installment_Americanas_quantidade = []\n",
    "Installment_Americanas_valor_parcela = []\n",
    "Installment_Americanas_valor_total = []\n",
    "More_offers_americanas = []"
   ]
  },
  {
   "cell_type": "code",
   "execution_count": 3,
   "metadata": {},
   "outputs": [],
   "source": [
    "#Configurando Header\n",
    "headers = {'authority':'www.americanas.com.br','scheme':'https','accept':'text/html,application/xhtml+xml,application/xml;q=0.9,image/avif,image/webp,image/apng,*/*;q=0.8,application/signed-exchange;v=b3;q=0.9',\n",
    "           'accept-encoding':'gzip, deflate, br','referer':'https://www.americanas.com.br/', 'user-agent':'Mozilla/5.0 (Windows NT 10.0; Win64; x64) AppleWebKit/537.36 (KHTML, like Gecko) Chrome/99.0.4844.84 Safari/537.36 OPR/85.0.4341.60'}"
   ]
  },
  {
   "cell_type": "code",
   "execution_count": 4,
   "metadata": {},
   "outputs": [],
   "source": [
    "User_agents_list = ['Mozilla/5.0 (Windows NT 10.0; Win64; x64) AppleWebKit/537.36 (KHTML, like Gecko) Chrome/99.0.4844.84 Safari/537.36 OPR/85.0.4341.60',\n",
    "                    'Mozilla/5.0 (Windows NT 10.0; WOW64) AppleWebKit/537.36 (KHTML, like Gecko) Chrome/44.0.2403.130 Safari/537.36',\n",
    "                    'Mozilla/5.0 (Windows NT 10.0; WOW64) AppleWebKit/537.36 (KHTML, like Gecko) Chrome/43.0.2357.134 Safari/537.36',\n",
    "                    'Mozilla/5.0 (Macintosh; Intel Mac OS X 10_10_3) AppleWebKit/537.36 (KHTML, like Gecko) Chrome/43.0.2357.130 Safari/537.36',\n",
    "                    'Mozilla/5.0 (Macintosh; Intel Mac OS X 10_10_0) AppleWebKit/537.36 (KHTML, like Gecko) Chrome/38.0.2125.101 Safari/537.36']"
   ]
  },
  {
   "cell_type": "code",
   "execution_count": 5,
   "metadata": {},
   "outputs": [],
   "source": [
    "def Random_User_Agents():\n",
    "    Choice_User_Agent = random.choice(User_agents_list)\n",
    "\n",
    "    #Configurando Header\n",
    "    headers = {'authority':'www.americanas.com.br','scheme':'https','accept':'text/html,application/xhtml+xml,application/xml;q=0.9,image/avif,image/webp,image/apng,*/*;q=0.8,application/signed-exchange;v=b3;q=0.9',\n",
    "               'accept-encoding':'gzip, deflate, br','referer':'https://www.americanas.com.br/', 'user-agent':Choice_User_Agent}\n",
    "\n",
    "\n",
    "    return headers"
   ]
  },
  {
   "cell_type": "code",
   "execution_count": 6,
   "metadata": {},
   "outputs": [],
   "source": [
    "def getting_n_creating_americanas_urls(brand):\n",
    "\n",
    "    Database_path = r\"C:\\Users\\pedro\\Documents\\Turte Brand Protection\\Turtle_Thinker_Alpha_0.1\" + \"\\Data\\\\\" + brand + \"\\\\\" + brand + \".db\"\n",
    "\n",
    "    table = brand + \"_products\"\n",
    "\n",
    "    #Criando a Query\n",
    "    query = \"SELECT * FROM \" + table\n",
    "\n",
    "    #Entrando dentro do databse\n",
    "    connection = sqlite3.connect(Database_path)\n",
    "\n",
    "    #Criando o dataset em brando\n",
    "    df = pd.read_sql_query(query, connection)\n",
    "\n",
    "    #Passando todo o Dataframe para LowerCase\n",
    "    df = df.apply(lambda x: x.astype(str).str.lower())\n",
    "\n",
    "    #Arrumando espaços vazios\n",
    "    # Arrumano os espaços vazios\n",
    "    df['Product_Name'] = df['Product_Name'].str.replace(\" \", \"-\")\n",
    "\n",
    "    # Criando uma nova coluna no database com a formatação certa\n",
    "    df['Urls'] = df['Brand'] + \"-\" + df['Product_Name']\n",
    "\n",
    "    # Criando a nova coluna que são as urls de pesquisa\n",
    "    df['Urls_search'] = \"https://www.americanas.com.br/busca/\" + df['Urls']\n",
    "\n",
    "    return df"
   ]
  },
  {
   "cell_type": "code",
   "execution_count": 7,
   "metadata": {},
   "outputs": [],
   "source": [
    "Df_Products_Links = getting_n_creating_americanas_urls(\"Wacom\")"
   ]
  },
  {
   "cell_type": "code",
   "execution_count": 8,
   "metadata": {},
   "outputs": [],
   "source": [
    "def search_links(url):\n",
    "    global Links_Americanas\n",
    "\n",
    "    time.sleep(10)\n",
    "\n",
    "    Headers_Choice = Random_User_Agents()\n",
    "\n",
    "    response = requests.get(url, headers=Headers_Choice)\n",
    "    \n",
    "    if response.status_code != 200:\n",
    "        Headers_Choice = Random_User_Agents()\n",
    "        response = requests.get(url, headers=Headers_Choice)\n",
    "\n",
    "    else:\n",
    "        print(response.status_code)\n",
    "\n",
    "    html = response.text\n",
    "\n",
    "    bs = BeautifulSoup(html, 'html.parser')\n",
    "\n",
    "    for link in bs.find_all(\"a\", href=True):\n",
    "        Links_Americanas.append(\"https://www.americanas.com.br\" + link['href'])\n",
    "\n",
    "    Links_Americanas = [s for s in Links_Americanas if 'produto' in s]"
   ]
  },
  {
   "cell_type": "code",
   "execution_count": 9,
   "metadata": {},
   "outputs": [
    {
     "name": "stderr",
     "output_type": "stream",
     "text": [
      " 10%|█         | 1/10 [00:10<01:38, 10.90s/it]"
     ]
    },
    {
     "name": "stdout",
     "output_type": "stream",
     "text": [
      "200\n"
     ]
    },
    {
     "name": "stderr",
     "output_type": "stream",
     "text": [
      " 20%|██        | 2/10 [00:21<01:26, 10.82s/it]"
     ]
    },
    {
     "name": "stdout",
     "output_type": "stream",
     "text": [
      "200\n"
     ]
    },
    {
     "name": "stderr",
     "output_type": "stream",
     "text": [
      " 30%|███       | 3/10 [00:32<01:15, 10.80s/it]"
     ]
    },
    {
     "name": "stdout",
     "output_type": "stream",
     "text": [
      "200\n"
     ]
    },
    {
     "name": "stderr",
     "output_type": "stream",
     "text": [
      " 40%|████      | 4/10 [00:43<01:05, 10.93s/it]"
     ]
    },
    {
     "name": "stdout",
     "output_type": "stream",
     "text": [
      "200\n"
     ]
    },
    {
     "name": "stderr",
     "output_type": "stream",
     "text": [
      " 50%|█████     | 5/10 [00:54<00:53, 10.80s/it]"
     ]
    },
    {
     "name": "stdout",
     "output_type": "stream",
     "text": [
      "200\n"
     ]
    },
    {
     "name": "stderr",
     "output_type": "stream",
     "text": [
      " 60%|██████    | 6/10 [01:04<00:43, 10.76s/it]"
     ]
    },
    {
     "name": "stdout",
     "output_type": "stream",
     "text": [
      "200\n"
     ]
    },
    {
     "name": "stderr",
     "output_type": "stream",
     "text": [
      " 70%|███████   | 7/10 [01:15<00:32, 10.68s/it]"
     ]
    },
    {
     "name": "stdout",
     "output_type": "stream",
     "text": [
      "200\n"
     ]
    },
    {
     "name": "stderr",
     "output_type": "stream",
     "text": [
      " 80%|████████  | 8/10 [01:26<00:21, 10.69s/it]"
     ]
    },
    {
     "name": "stdout",
     "output_type": "stream",
     "text": [
      "200\n"
     ]
    },
    {
     "name": "stderr",
     "output_type": "stream",
     "text": [
      " 90%|█████████ | 9/10 [01:36<00:10, 10.65s/it]"
     ]
    },
    {
     "name": "stdout",
     "output_type": "stream",
     "text": [
      "200\n"
     ]
    },
    {
     "name": "stderr",
     "output_type": "stream",
     "text": [
      "100%|██████████| 10/10 [01:47<00:00, 10.71s/it]"
     ]
    },
    {
     "name": "stdout",
     "output_type": "stream",
     "text": [
      "200\n"
     ]
    },
    {
     "name": "stderr",
     "output_type": "stream",
     "text": [
      "\n"
     ]
    }
   ],
   "source": [
    "for url in tqdm(Df_Products_Links['Urls_search']):\n",
    "    search_links(url)"
   ]
  },
  {
   "cell_type": "code",
   "execution_count": 10,
   "metadata": {},
   "outputs": [
    {
     "data": {
      "text/plain": [
       "109"
      ]
     },
     "execution_count": 10,
     "metadata": {},
     "output_type": "execute_result"
    }
   ],
   "source": [
    "len(Links_Americanas)"
   ]
  },
  {
   "cell_type": "code",
   "execution_count": 11,
   "metadata": {},
   "outputs": [],
   "source": [
    "def get_atributes(url):\n",
    "    time.sleep(30)\n",
    "\n",
    "    Headers_Choice = Random_User_Agents()\n",
    "\n",
    "    response = requests.get(url, headers=Headers_Choice)\n",
    "\n",
    "    if response.status_code != 200:\n",
    "        \n",
    "        Headers_Choice = Random_User_Agents()\n",
    "        response = requests.get(url, headers=Headers_Choice)\n",
    "\n",
    "    else:\n",
    "        pass\n",
    "\n",
    "    html = response.text\n",
    "\n",
    "    soup = BeautifulSoup(html, 'html.parser')\n",
    "\n",
    "    #Title\n",
    "    try:\n",
    "        Title_Americanas.append(soup.find(class_='product-title__Title-sc-1hlrxcw-0 jyetLr').text)\n",
    "    except:\n",
    "        Title_Americanas.append(\"Erro\")\n",
    "\n",
    "    #Preço\n",
    "    try:\n",
    "        Price_Americanas.append(soup.find(class_='styles__PriceText-sc-x06r9i-0 dUTOlD priceSales').text)\n",
    "    except:\n",
    "        Price_Americanas.append('Erro')\n",
    "\n",
    "    #Installment\n",
    "    try:\n",
    "        Installment_Americanas_valor_parcela.append(soup.find(class_='payment-installment-text__Text-sc-12txe9z-0 bfFyfi').text)\n",
    "    except:\n",
    "        Installment_Americanas_valor_parcela.append(\"Erro\")\n",
    "\n",
    "    #Seller\n",
    "    try:\n",
    "        Sellers_Americanas.append(soup.find(class_='offers-box__Wrapper-sc-189v1x3-0 kegaFO').text)\n",
    "    except:\n",
    "        Sellers_Americanas.append(\"Erro\")\n",
    "\n",
    "    #More offers \n",
    "    try:\n",
    "        More_offers_americanas.append(soup.find(class_='more-offers__Touchable-sc-15yqej3-2 hYfNEd').text)\n",
    "    except:\n",
    "        More_offers_americanas.append(\"Erro\")"
   ]
  },
  {
   "cell_type": "code",
   "execution_count": 12,
   "metadata": {},
   "outputs": [
    {
     "name": "stderr",
     "output_type": "stream",
     "text": [
      "100%|██████████| 109/109 [55:40<00:00, 30.64s/it]\n"
     ]
    }
   ],
   "source": [
    "for url in tqdm(Links_Americanas):\n",
    "    get_atributes(url)"
   ]
  },
  {
   "cell_type": "code",
   "execution_count": 13,
   "metadata": {},
   "outputs": [
    {
     "name": "stdout",
     "output_type": "stream",
     "text": [
      "109\n",
      "0\n",
      "109\n",
      "0\n",
      "109\n",
      "0\n",
      "109\n",
      "0\n",
      "109\n",
      "0\n",
      "109\n"
     ]
    }
   ],
   "source": [
    "#GUARDANDO LISTAS\n",
    "print(len(Links_Americanas))\n",
    "print(len(Urls_Americanas))\n",
    "print(len(Sellers_Americanas))\n",
    "print(len(Country_Americanas))\n",
    "print(len(Price_Americanas))\n",
    "print(len(SKU_Americanas))\n",
    "print(len(Title_Americanas))\n",
    "print(len(Installment_Americanas_quantidade))\n",
    "print(len(Installment_Americanas_valor_parcela))\n",
    "print(len(Installment_Americanas_valor_total))\n",
    "print(len(More_offers_americanas))"
   ]
  },
  {
   "cell_type": "code",
   "execution_count": 68,
   "metadata": {},
   "outputs": [],
   "source": [
    "def create_dataframe(url, sellers, price, installment, title):\n",
    "    df_raw = pd.DataFrame()\n",
    "\n",
    "    Hoje = pd.to_datetime('today', errors='ignore').date()\n",
    "\n",
    "    df_raw['URL'] = url\n",
    "\n",
    "    df_raw['DATE'] = Hoje\n",
    "\n",
    "    df_raw['MARKETPLACE'] = 'Americanas'\n",
    "\n",
    "    df_raw['SELLER'] = sellers\n",
    "    df_raw['SELLER'] = df_raw['SELLER'].str.replace(\"Este produto é vendido por\",\"\")\n",
    "    df_raw['SELLER'] = df_raw['SELLER'].str.partition(\" e\")[0]\n",
    "    \n",
    "\n",
    "\n",
    "    df_raw['PRICE'] = price\n",
    "    df_raw['PRICE'] = df_raw['PRICE'].str.replace(\"R$ \", \"\", regex=False)\n",
    "    df_raw['PRICE'] = df_raw['PRICE'].str.replace(\".\",\"\")\n",
    "    df_raw['PRICE'] = df_raw['PRICE'].str.replace(\",\",\".\")\n",
    "\n",
    "\n",
    "\n",
    "    df_raw['Installment_full'] = installment\n",
    "    df_raw['PARCEL'] = df_raw['Installment_full'].str.partition('x')[0].str.partition(\"até \")[2]\n",
    "\n",
    "    df_raw['INSTALLMENT'] = df_raw['Installment_full'].str.partition(\"x\")[2].str.partition(\"R$ \")[2]\n",
    "    df_raw['INSTALLMENT'] = df_raw['INSTALLMENT'].str.replace(\",\",\".\")\n",
    "\n",
    "    df_raw['PRODUCT'] = title\n",
    "\n",
    "    df_raw['MORE'] = More_offers_americanas\n",
    "\n",
    "    df_raw['ID'] = df_raw['URL'].str.partition(\"produto/\")[2].str.partition('?')[0]\n",
    "\n",
    "    df_raw = df_raw[['DATE', 'URL', 'MARKETPLACE', 'SELLER', 'PRICE', 'PARCEL', 'INSTALLMENT', 'ID', 'PRODUCT',  'MORE']]\n",
    "\n",
    "\n",
    "    return df_raw"
   ]
  },
  {
   "cell_type": "code",
   "execution_count": 69,
   "metadata": {},
   "outputs": [
    {
     "name": "stderr",
     "output_type": "stream",
     "text": [
      "C:\\Users\\pedro\\AppData\\Local\\Temp\\ipykernel_14720\\3503551429.py:20: FutureWarning: The default value of regex will change from True to False in a future version. In addition, single character regular expressions will *not* be treated as literal strings when regex=True.\n",
      "  df_raw['PRICE'] = df_raw['PRICE'].str.replace(\".\",\"\")\n"
     ]
    }
   ],
   "source": [
    "Dataset_Americanas = create_dataframe(Links_Americanas, Sellers_Americanas, Price_Americanas, Installment_Americanas_valor_parcela, Title_Americanas)"
   ]
  },
  {
   "cell_type": "code",
   "execution_count": 70,
   "metadata": {},
   "outputs": [
    {
     "data": {
      "text/html": [
       "<div>\n",
       "<style scoped>\n",
       "    .dataframe tbody tr th:only-of-type {\n",
       "        vertical-align: middle;\n",
       "    }\n",
       "\n",
       "    .dataframe tbody tr th {\n",
       "        vertical-align: top;\n",
       "    }\n",
       "\n",
       "    .dataframe thead th {\n",
       "        text-align: right;\n",
       "    }\n",
       "</style>\n",
       "<table border=\"1\" class=\"dataframe\">\n",
       "  <thead>\n",
       "    <tr style=\"text-align: right;\">\n",
       "      <th></th>\n",
       "      <th>DATE</th>\n",
       "      <th>URL</th>\n",
       "      <th>MARKETPLACE</th>\n",
       "      <th>SELLER</th>\n",
       "      <th>PRICE</th>\n",
       "      <th>PARCEL</th>\n",
       "      <th>INSTALLMENT</th>\n",
       "      <th>ID</th>\n",
       "      <th>PRODUCT</th>\n",
       "      <th>MORE</th>\n",
       "    </tr>\n",
       "  </thead>\n",
       "  <tbody>\n",
       "    <tr>\n",
       "      <th>0</th>\n",
       "      <td>2022-05-18</td>\n",
       "      <td>https://www.americanas.com.br/produto/13371036...</td>\n",
       "      <td>Americanas</td>\n",
       "      <td>FiberMega</td>\n",
       "      <td>197.91</td>\n",
       "      <td>4</td>\n",
       "      <td>56.22</td>\n",
       "      <td>133710364</td>\n",
       "      <td>Mesa Digitalizadora One By Wacom CTL472</td>\n",
       "      <td>27 outras ofertas deste mesmo produto</td>\n",
       "    </tr>\n",
       "    <tr>\n",
       "      <th>1</th>\n",
       "      <td>2022-05-18</td>\n",
       "      <td>https://www.americanas.com.br/produto/37195263...</td>\n",
       "      <td>Americanas</td>\n",
       "      <td>SHOPAR</td>\n",
       "      <td>277.97</td>\n",
       "      <td>5</td>\n",
       "      <td>59.78</td>\n",
       "      <td>3719526302</td>\n",
       "      <td>Mesa Digitalizadora Wacom One CTL472 Pequena B...</td>\n",
       "      <td>Erro</td>\n",
       "    </tr>\n",
       "    <tr>\n",
       "      <th>2</th>\n",
       "      <td>2022-05-18</td>\n",
       "      <td>https://www.americanas.com.br/produto/40663058...</td>\n",
       "      <td>Americanas</td>\n",
       "      <td>HD Store</td>\n",
       "      <td>305.85</td>\n",
       "      <td>6</td>\n",
       "      <td>54.81</td>\n",
       "      <td>4066305835</td>\n",
       "      <td>Mesa Digitalizadora Wacom Ctl472 One</td>\n",
       "      <td>Erro</td>\n",
       "    </tr>\n",
       "    <tr>\n",
       "      <th>3</th>\n",
       "      <td>2022-05-18</td>\n",
       "      <td>https://www.americanas.com.br/produto/38397139...</td>\n",
       "      <td>Americanas</td>\n",
       "      <td>Catarinas</td>\n",
       "      <td>598.92</td>\n",
       "      <td>8</td>\n",
       "      <td>80.50</td>\n",
       "      <td>3839713911</td>\n",
       "      <td>Mesa Digitalizadora CTL472 One Wacom</td>\n",
       "      <td>Erro</td>\n",
       "    </tr>\n",
       "    <tr>\n",
       "      <th>4</th>\n",
       "      <td>2022-05-18</td>\n",
       "      <td>https://www.americanas.com.br/produto/49586272...</td>\n",
       "      <td>Americanas</td>\n",
       "      <td>RL2INFO SOLUÇÕES EM TI</td>\n",
       "      <td>371.99</td>\n",
       "      <td>8</td>\n",
       "      <td>49.99</td>\n",
       "      <td>4958627240</td>\n",
       "      <td>Mesa Digitalizadora Wacom One By Pequena - Ctl472</td>\n",
       "      <td>Erro</td>\n",
       "    </tr>\n",
       "    <tr>\n",
       "      <th>...</th>\n",
       "      <td>...</td>\n",
       "      <td>...</td>\n",
       "      <td>...</td>\n",
       "      <td>...</td>\n",
       "      <td>...</td>\n",
       "      <td>...</td>\n",
       "      <td>...</td>\n",
       "      <td>...</td>\n",
       "      <td>...</td>\n",
       "      <td>...</td>\n",
       "    </tr>\n",
       "    <tr>\n",
       "      <th>104</th>\n",
       "      <td>2022-05-18</td>\n",
       "      <td>https://www.americanas.com.br/produto/48009631...</td>\n",
       "      <td>Americanas</td>\n",
       "      <td>Haylou</td>\n",
       "      <td>3378.82</td>\n",
       "      <td>8</td>\n",
       "      <td>469.28</td>\n",
       "      <td>4800963147</td>\n",
       "      <td>Mesa Digitalizadora Wacom Intuos Pro PTH660 co...</td>\n",
       "      <td>Erro</td>\n",
       "    </tr>\n",
       "    <tr>\n",
       "      <th>105</th>\n",
       "      <td>2022-05-18</td>\n",
       "      <td>https://www.americanas.com.br/produto/61058374...</td>\n",
       "      <td>Americanas</td>\n",
       "      <td>Tendinfo</td>\n",
       "      <td>6312.84</td>\n",
       "      <td>8</td>\n",
       "      <td>848.50</td>\n",
       "      <td>61058374</td>\n",
       "      <td>Mesa Digitalizadora Wacom Intuos Pro Média (pt...</td>\n",
       "      <td>Erro</td>\n",
       "    </tr>\n",
       "    <tr>\n",
       "      <th>106</th>\n",
       "      <td>2022-05-18</td>\n",
       "      <td>https://www.americanas.com.br/produto/48387443...</td>\n",
       "      <td>Americanas</td>\n",
       "      <td>MultiShop</td>\n",
       "      <td>4290.57</td>\n",
       "      <td>8</td>\n",
       "      <td>536.32</td>\n",
       "      <td>4838744302</td>\n",
       "      <td>Mesa Digitalizadora Wacom Intuos Pro PTH660 co...</td>\n",
       "      <td>Erro</td>\n",
       "    </tr>\n",
       "    <tr>\n",
       "      <th>107</th>\n",
       "      <td>2022-05-18</td>\n",
       "      <td>https://www.americanas.com.br/produto/23011597...</td>\n",
       "      <td>Americanas</td>\n",
       "      <td>MIRANDA</td>\n",
       "      <td>2037.91</td>\n",
       "      <td>8</td>\n",
       "      <td>254.73</td>\n",
       "      <td>2301159787</td>\n",
       "      <td>Mesa Digitalizadora Intuos Bluetooth Média - V...</td>\n",
       "      <td>Erro</td>\n",
       "    </tr>\n",
       "    <tr>\n",
       "      <th>108</th>\n",
       "      <td>2022-05-18</td>\n",
       "      <td>https://www.americanas.com.br/produto/35940944...</td>\n",
       "      <td>Americanas</td>\n",
       "      <td>INPOWER</td>\n",
       "      <td>1278.20</td>\n",
       "      <td>8</td>\n",
       "      <td>192.50</td>\n",
       "      <td>3594094411</td>\n",
       "      <td>Mesa Digitalizadora Wacom Intuos M Bluetooth P...</td>\n",
       "      <td>Erro</td>\n",
       "    </tr>\n",
       "  </tbody>\n",
       "</table>\n",
       "<p>109 rows × 10 columns</p>\n",
       "</div>"
      ],
      "text/plain": [
       "           DATE                                                URL  \\\n",
       "0    2022-05-18  https://www.americanas.com.br/produto/13371036...   \n",
       "1    2022-05-18  https://www.americanas.com.br/produto/37195263...   \n",
       "2    2022-05-18  https://www.americanas.com.br/produto/40663058...   \n",
       "3    2022-05-18  https://www.americanas.com.br/produto/38397139...   \n",
       "4    2022-05-18  https://www.americanas.com.br/produto/49586272...   \n",
       "..          ...                                                ...   \n",
       "104  2022-05-18  https://www.americanas.com.br/produto/48009631...   \n",
       "105  2022-05-18  https://www.americanas.com.br/produto/61058374...   \n",
       "106  2022-05-18  https://www.americanas.com.br/produto/48387443...   \n",
       "107  2022-05-18  https://www.americanas.com.br/produto/23011597...   \n",
       "108  2022-05-18  https://www.americanas.com.br/produto/35940944...   \n",
       "\n",
       "    MARKETPLACE                   SELLER    PRICE PARCEL INSTALLMENT  \\\n",
       "0    Americanas                FiberMega   197.91      4       56.22   \n",
       "1    Americanas                   SHOPAR   277.97      5       59.78   \n",
       "2    Americanas                 HD Store   305.85      6       54.81   \n",
       "3    Americanas                Catarinas   598.92      8       80.50   \n",
       "4    Americanas   RL2INFO SOLUÇÕES EM TI   371.99      8       49.99   \n",
       "..          ...                      ...      ...    ...         ...   \n",
       "104  Americanas                   Haylou  3378.82      8      469.28   \n",
       "105  Americanas                 Tendinfo  6312.84      8      848.50   \n",
       "106  Americanas                MultiShop  4290.57      8      536.32   \n",
       "107  Americanas                  MIRANDA  2037.91      8      254.73   \n",
       "108  Americanas                  INPOWER  1278.20      8      192.50   \n",
       "\n",
       "             ID                                            PRODUCT  \\\n",
       "0     133710364            Mesa Digitalizadora One By Wacom CTL472   \n",
       "1    3719526302  Mesa Digitalizadora Wacom One CTL472 Pequena B...   \n",
       "2    4066305835               Mesa Digitalizadora Wacom Ctl472 One   \n",
       "3    3839713911               Mesa Digitalizadora CTL472 One Wacom   \n",
       "4    4958627240  Mesa Digitalizadora Wacom One By Pequena - Ctl472   \n",
       "..          ...                                                ...   \n",
       "104  4800963147  Mesa Digitalizadora Wacom Intuos Pro PTH660 co...   \n",
       "105    61058374  Mesa Digitalizadora Wacom Intuos Pro Média (pt...   \n",
       "106  4838744302  Mesa Digitalizadora Wacom Intuos Pro PTH660 co...   \n",
       "107  2301159787  Mesa Digitalizadora Intuos Bluetooth Média - V...   \n",
       "108  3594094411  Mesa Digitalizadora Wacom Intuos M Bluetooth P...   \n",
       "\n",
       "                                      MORE  \n",
       "0    27 outras ofertas deste mesmo produto  \n",
       "1                                     Erro  \n",
       "2                                     Erro  \n",
       "3                                     Erro  \n",
       "4                                     Erro  \n",
       "..                                     ...  \n",
       "104                                   Erro  \n",
       "105                                   Erro  \n",
       "106                                   Erro  \n",
       "107                                   Erro  \n",
       "108                                   Erro  \n",
       "\n",
       "[109 rows x 10 columns]"
      ]
     },
     "execution_count": 70,
     "metadata": {},
     "output_type": "execute_result"
    }
   ],
   "source": [
    "Dataset_Americanas"
   ]
  },
  {
   "cell_type": "code",
   "execution_count": 71,
   "metadata": {},
   "outputs": [],
   "source": [
    "Dataset_Americanas.to_excel(r\"C:\\Users\\pedro\\Documents\\Turte Brand Protection\\Turtle_Thinker_Alpha_0.1\\Americanas_Wacom.xlsx\", index=False)"
   ]
  },
  {
   "cell_type": "code",
   "execution_count": null,
   "metadata": {},
   "outputs": [],
   "source": []
  }
 ],
 "metadata": {
  "interpreter": {
   "hash": "c3503f95e0e8f4afdf6702396a7a2a29cae9f67572acfe092405dcaa2579b817"
  },
  "kernelspec": {
   "display_name": "Python 3.10.4 64-bit",
   "language": "python",
   "name": "python3"
  },
  "language_info": {
   "codemirror_mode": {
    "name": "ipython",
    "version": 3
   },
   "file_extension": ".py",
   "mimetype": "text/x-python",
   "name": "python",
   "nbconvert_exporter": "python",
   "pygments_lexer": "ipython3",
   "version": "3.10.4"
  },
  "orig_nbformat": 4
 },
 "nbformat": 4,
 "nbformat_minor": 2
}
