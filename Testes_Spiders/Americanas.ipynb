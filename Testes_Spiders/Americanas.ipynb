{
 "cells": [
  {
   "cell_type": "code",
   "execution_count": 1,
   "metadata": {
    "pycharm": {
     "name": "#%%\n"
    }
   },
   "outputs": [],
   "source": [
    "#IMPORTANDO BIBLIOTECAS\n",
    "from bs4 import BeautifulSoup\n",
    "import requests\n",
    "import json\n",
    "import pandas as pd\n",
    "import sqlite3\n",
    "import time\n",
    "from tqdm import tqdm\n",
    "import os\n",
    "import random"
   ]
  },
  {
   "cell_type": "code",
   "execution_count": 2,
   "outputs": [],
   "source": [
    "def Random_user_agents(marketplace):\n",
    "\n",
    "    #Criando a lista de user-agents\n",
    "    User_agents_list = [\"Mozilla/5.0 (X11; Linux x86_64) AppleWebKit/537.36 (KHTML, like Gecko) Ubuntu Chromium/37.0.2062.94 Chrome/37.0.2062.94 Safari/537.36\",\n",
    "                        \"Mozilla/5.0 (Windows NT 6.1; WOW64) AppleWebKit/537.36 (KHTML, like Gecko) Chrome/45.0.2454.85 Safari/537.36\",\n",
    "                        \"Mozilla/5.0 (Windows NT 6.1; WOW64; Trident/7.0; rv:11.0) like Gecko\",\n",
    "                        \"Mozilla/5.0 (Windows NT 6.1; WOW64; rv:40.0) Gecko/20100101 Firefox/40.0\",\n",
    "                        \"Mozilla/5.0 (Macintosh; Intel Mac OS X 10_10_5) AppleWebKit/600.8.9 (KHTML, like Gecko) Version/8.0.8 Safari/600.8.9\",\n",
    "                        \"Mozilla/5.0 (iPad; CPU OS 8_4_1 like Mac OS X) AppleWebKit/600.1.4 (KHTML, like Gecko) Version/8.0 Mobile/12H321 Safari/600.1.4\",\n",
    "                        \"Mozilla/5.0 (Windows NT 6.3; WOW64) AppleWebKit/537.36 (KHTML, like Gecko) Chrome/45.0.2454.85 Safari/537.36\",\n",
    "                        \"Mozilla/5.0 (Windows NT 10.0; WOW64) AppleWebKit/537.36 (KHTML, like Gecko) Chrome/45.0.2454.85 Safari/537.36\",\n",
    "                        \"Mozilla/5.0 (X11; Linux x86_64) AppleWebKit/537.36 (KHTML, like Gecko) Ubuntu Chromium/37.0.2062.94 Chrome/37.0.2062.94 Safari/537.36\",\n",
    "                        \"Mozilla/5.0 (Windows NT 6.1; WOW64) AppleWebKit/537.36 (KHTML, like Gecko) Chrome/45.0.2454.85 Safari/537.36\",\n",
    "                        \"Mozilla/5.0 (Windows NT 6.1; WOW64; Trident/7.0; rv:11.0) like Gecko\",\n",
    "                        \"Mozilla/5.0 (Windows NT 6.1; WOW64; rv:40.0) Gecko/20100101 Firefox/40.0\",\n",
    "                        \"Mozilla/5.0 (Macintosh; Intel Mac OS X 10_10_5) AppleWebKit/600.8.9 (KHTML, like Gecko) Version/8.0.8 Safari/600.8.9\",\n",
    "                        \"Mozilla/5.0 (iPad; CPU OS 8_4_1 like Mac OS X) AppleWebKit/600.1.4 (KHTML, like Gecko) Version/8.0 Mobile/12H321 Safari/600.1.4\",\n",
    "                        \"Mozilla/5.0 (Windows NT 6.3; WOW64) AppleWebKit/537.36 (KHTML, like Gecko) Chrome/45.0.2454.85 Safari/537.36\",\n",
    "                        \"Mozilla/5.0 (Windows NT 10.0; WOW64) AppleWebKit/537.36 (KHTML, like Gecko) Chrome/45.0.2454.85 Safari/537.36\",\n",
    "                        \"Mozilla/5.0 (Windows NT 6.1; WOW64) AppleWebKit/537.36 (KHTML, like Gecko) Chrome/44.0.2403.157 Safari/537.36\",\n",
    "                        \"Mozilla/5.0 (iPhone; CPU iPhone OS 8_4_1 like Mac OS X) AppleWebKit/600.1.4 (KHTML, like Gecko) Version/8.0 Mobile/12H321 Safari/600.1.4\",\n",
    "                        \"Mozilla/5.0 (Windows NT 10.0; WOW64; Trident/7.0; rv:11.0) like Gecko\",\n",
    "                        \"Mozilla/5.0 (iPad; CPU OS 7_1_2 like Mac OS X) AppleWebKit/537.51.2 (KHTML, like Gecko) Version/7.0 Mobile/11D257 Safari/9537.53\",\n",
    "                        \"Mozilla/5.0 (compatible; MSIE 9.0; Windows NT 6.1; Trident/5.0)\",\n",
    "                        \"Mozilla/5.0 (Macintosh; Intel Mac OS X 10_9_5) AppleWebKit/537.36 (KHTML, like Gecko) Chrome/45.0.2454.85 Safari/537.36\",\n",
    "                        \"Mozilla/5.0 (Macintosh; Intel Mac OS X 10_10_4) AppleWebKit/537.36 (KHTML, like Gecko) Chrome/45.0.2454.85 Safari/537.36\",\n",
    "                        \"Mozilla/5.0 (Macintosh; Intel Mac OS X 10.9; rv:40.0) Gecko/20100101 Firefox/40.0\",\n",
    "                        \"Mozilla/5.0 (compatible; MSIE 10.0; Windows NT 6.1; Trident/6.0)\",\n",
    "                        \"Mozilla/5.0 (Windows NT 6.0) AppleWebKit/537.36 (KHTML, like Gecko) Chrome/45.0.2454.85 Safari/537.36\",\n",
    "                        \"Mozilla/5.0 (Windows NT 6.3; WOW64) AppleWebKit/537.36 (KHTML, like Gecko) Chrome/44.0.2403.157 Safari/537.36\",\n",
    "                        \"Mozilla/5.0 (X11; CrOS x86_64 7077.134.0) AppleWebKit/537.36 (KHTML, like Gecko) Chrome/44.0.2403.156 Safari/537.36\",\n",
    "                        \"Mozilla/5.0 (Macintosh; Intel Mac OS X 10_9_5) AppleWebKit/600.7.12 (KHTML, like Gecko) Version/7.1.7 Safari/537.85.16\",\n",
    "                        \"Mozilla/5.0 (Windows NT 6.0; rv:40.0) Gecko/20100101 Firefox/40.0\",\n",
    "                        \"Mozilla/5.0 (Macintosh; Intel Mac OS X 10.6; rv:40.0) Gecko/20100101 Firefox/40.0\",\n",
    "                        \"Mozilla/5.0 (iPad; CPU OS 8_1_3 like Mac OS X) AppleWebKit/600.1.4 (KHTML, like Gecko) Version/8.0 Mobile/12B466 Safari/600.1.4\",\n",
    "                        \"Mozilla/5.0 (Macintosh; Intel Mac OS X 10_10_2) AppleWebKit/600.3.18 (KHTML, like Gecko) Version/8.0.3 Safari/600.3.18\",\n",
    "                        \"Mozilla/5.0 (Macintosh; Intel Mac OS X 10_10_3) AppleWebKit/537.36 (KHTML, like Gecko) Chrome/45.0.2454.85 Safari/537.36\",\n",
    "                        \"Mozilla/5.0 (Windows NT 6.2; WOW64) AppleWebKit/537.36 (KHTML, like Gecko) Chrome/45.0.2454.85 Safari/537.36\",\n",
    "                        \"Mozilla/5.0 (Windows NT 6.1; Win64; x64; Trident/7.0; rv:11.0) like Gecko\",\n",
    "                        \"Mozilla/5.0 (Macintosh; Intel Mac OS X 10_10_5) AppleWebKit/537.36 (KHTML, like Gecko) Chrome/44.0.2403.157 Safari/537.36\",\n",
    "                        \"Mozilla/5.0 (iPad; CPU OS 8_1_2 like Mac OS X) AppleWebKit/600.1.4 (KHTML, like Gecko) Version/8.0 Mobile/12B440 Safari/600.1.4\",\n",
    "                        \"Mozilla/5.0 (Linux; U; Android 4.0.3; en-us; KFTT Build/IML74K) AppleWebKit/537.36 (KHTML, like Gecko) Silk/3.68 like Chrome/39.0.2171.93 Safari/537.36\",\n",
    "                        \"Mozilla/5.0 (iPad; CPU OS 8_2 like Mac OS X) AppleWebKit/600.1.4 (KHTML, like Gecko) Version/8.0 Mobile/12D508 Safari/600.1.4\",\n",
    "                        \"Mozilla/5.0 (Windows NT 6.1; WOW64; rv:39.0) Gecko/20100101 Firefox/39.0\",\n",
    "                        \"Mozilla/5.0 (iPad; CPU OS 7_1_1 like Mac OS X) AppleWebKit/537.51.2 (KHTML, like Gecko) Version/7.0 Mobile/11D201 Safari/9537.53\",\n",
    "                        \"Mozilla/5.0 (Linux; U; Android 4.4.3; en-us; KFTHWI Build/KTU84M) AppleWebKit/537.36 (KHTML, like Gecko) Silk/3.68 like Chrome/39.0.2171.93 Safari/537.36\",\n",
    "                        \"Mozilla/5.0 (Macintosh; Intel Mac OS X 10_9_5) AppleWebKit/600.6.3 (KHTML, like Gecko) Version/7.1.6 Safari/537.85.15\",\n",
    "                        \"Mozilla/5.0 (Macintosh; Intel Mac OS X 10_10_2) AppleWebKit/600.4.10 (KHTML, like Gecko) Version/8.0.4 Safari/600.4.10\",\n",
    "                        \"Mozilla/5.0 (Macintosh; Intel Mac OS X 10.7; rv:40.0) Gecko/20100101 Firefox/40.0\",\n",
    "                        \"Mozilla/5.0 (Macintosh; Intel Mac OS X 10_9_5) AppleWebKit/537.78.2 (KHTML, like Gecko) Version/7.0.6 Safari/537.78.2\",\n",
    "                        \"Mozilla/5.0 (iPad; CPU OS 8_4_1 like Mac OS X) AppleWebKit/600.1.4 (KHTML, like Gecko) CriOS/45.0.2454.68 Mobile/12H321 Safari/600.1.4\",\n",
    "                        \"Mozilla/5.0 (Windows NT 6.3; Win64; x64; Trident/7.0; Touch; rv:11.0) like Gecko\",\n",
    "                        \"Mozilla/5.0 (Macintosh; Intel Mac OS X 10_6_8) AppleWebKit/537.36 (KHTML, like Gecko) Chrome/45.0.2454.85 Safari/537.36\",\n",
    "                        \"Mozilla/5.0 (iPad; CPU OS 8_1 like Mac OS X) AppleWebKit/600.1.4 (KHTML, like Gecko) Version/8.0 Mobile/12B410 Safari/600.1.4\",\n",
    "                        \"Mozilla/5.0 (iPad; CPU OS 7_0_4 like Mac OS X) AppleWebKit/537.51.1 (KHTML, like Gecko) Version/7.0 Mobile/11B554a Safari/9537.53\",\n",
    "                        \"Mozilla/5.0 (Windows NT 6.0; WOW64) AppleWebKit/537.36 (KHTML, like Gecko) Chrome/45.0.2454.85 Safari/537.36\",\n",
    "                        \"Mozilla/5.0 (Windows NT 6.3; Win64; x64; Trident/7.0; rv:11.0) like Gecko\",\n",
    "                        \"Mozilla/5.0 (Windows NT 6.3; WOW64; Trident/7.0; TNJB; rv:11.0) like Gecko\",\n",
    "                        \"Mozilla/5.0 (Windows NT 6.1; WOW64) AppleWebKit/537.36 (KHTML, like Gecko) Chrome/31.0.1650.63 Safari/537.36\",\n",
    "                        \"Mozilla/5.0 (Windows NT 6.3; ARM; Trident/7.0; Touch; rv:11.0) like Gecko\",\n",
    "                        \"Mozilla/5.0 (Windows NT 6.1; Win64; x64) AppleWebKit/537.36 (KHTML, like Gecko) Chrome/45.0.2454.85 Safari/537.36\"]\n",
    "\n",
    "    #Escolhendo o user aleatório\n",
    "    Choice_user_agent = random.choice(User_agents_list)\n",
    "\n",
    "    headers = {'authority':'www.' + marketplace + '.com.br',\n",
    "               'user-agent':Choice_user_agent}\n",
    "\n",
    "\n",
    "    return headers"
   ],
   "metadata": {
    "collapsed": false,
    "pycharm": {
     "name": "#%%\n"
    }
   }
  },
  {
   "cell_type": "code",
   "execution_count": 3,
   "metadata": {
    "pycharm": {
     "name": "#%%\n"
    }
   },
   "outputs": [],
   "source": [
    "#GUARDANDO LISTAS\n",
    "Links_Americanas = []\n",
    "Urls_Americanas = []\n",
    "Sellers_Americanas = []\n",
    "Country_Americanas = []\n",
    "Price_Americanas = []\n",
    "SKU_Americanas = []\n",
    "Title_Americanas = []\n",
    "Installment_Americanas_quantidade = []\n",
    "Installment_Americanas_valor_parcela = []\n",
    "Installment_Americanas_valor_total = []\n",
    "More_offers_americanas = []"
   ]
  },
  {
   "cell_type": "code",
   "execution_count": 4,
   "metadata": {
    "pycharm": {
     "name": "#%%\n"
    }
   },
   "outputs": [],
   "source": [
    "def getting_n_creating_americanas_urls(brand):\n",
    "\n",
    "    Database_path = r\"C:\\Users\\pedro\\Documents\\Turte Brand Protection\\Turtle_Thinker_Alpha_0.1\" + \"\\Data\\\\\" + brand + \"\\\\\" + brand + \".db\"\n",
    "\n",
    "    table = brand + \"_products\"\n",
    "\n",
    "    #Criando a Query\n",
    "    query = \"SELECT * FROM \" + table\n",
    "\n",
    "    #Entrando dentro do databse\n",
    "    connection = sqlite3.connect(Database_path)\n",
    "\n",
    "    #Criando o dataset em brando\n",
    "    df = pd.read_sql_query(query, connection)\n",
    "\n",
    "    #Passando todo o Dataframe para LowerCase\n",
    "    df = df.apply(lambda x: x.astype(str).str.lower())\n",
    "\n",
    "    #Arrumando espaços vazios\n",
    "    # Arrumano os espaços vazios\n",
    "    df['Product_Name'] = df['Product_Name'].str.replace(\" \", \"-\")\n",
    "\n",
    "    # Criando uma nova coluna no database com a formatação certa\n",
    "    df['Urls'] = df['Brand'] + \"-\" + df['Product_Name']\n",
    "\n",
    "    # Criando a nova coluna que são as urls de pesquisa\n",
    "    df['Urls_search'] = \"https://www.americanas.com.br/busca/\" + df['Urls']\n",
    "\n",
    "    return df"
   ]
  },
  {
   "cell_type": "code",
   "execution_count": 5,
   "metadata": {
    "pycharm": {
     "name": "#%%\n"
    }
   },
   "outputs": [
    {
     "data": {
      "text/plain": "   Brand Product_Name                                 Product_Descrition  \\\n0  wacom       ctl472  ctl 472 - mesa digitalizadora one by wacom peq...   \n1  wacom      ctl4100  ctl4100 - mesa digitalizadora wacom intuos sma...   \n2  wacom  ctl4100wle0  ctl4100wle0 - mesa digitalizadora wacom intuos...   \n3  wacom  ctl4100wlk0  ctl4100wlk0 - mesa digitalizadora wacom intuos...   \n4  wacom  ctl6100wlk0  ctl6100wlk0 - mesa digitalizadora wacom intuos...   \n5  wacom    dtc133w0a  dtc133w0a - mesa digitalizadora wacom one crea...   \n6  wacom       pth460  pth460 - mesa digitalizadora wacom intuos pro ...   \n7  wacom   dtk1660k0a  dtk1660k0a - display interativo wacom cintiq 1...   \n8  wacom       pth660  pth660 - mesa digitalizadora wacom intuos pro ...   \n9  wacom  ctl6100wle0  ctl6100wle0 - mesa digitalizadora wacom intuos...   \n\n                Urls                                        Urls_search  \n0       wacom-ctl472   https://www.americanas.com.br/busca/wacom-ctl472  \n1      wacom-ctl4100  https://www.americanas.com.br/busca/wacom-ctl4100  \n2  wacom-ctl4100wle0  https://www.americanas.com.br/busca/wacom-ctl4...  \n3  wacom-ctl4100wlk0  https://www.americanas.com.br/busca/wacom-ctl4...  \n4  wacom-ctl6100wlk0  https://www.americanas.com.br/busca/wacom-ctl6...  \n5    wacom-dtc133w0a  https://www.americanas.com.br/busca/wacom-dtc1...  \n6       wacom-pth460   https://www.americanas.com.br/busca/wacom-pth460  \n7   wacom-dtk1660k0a  https://www.americanas.com.br/busca/wacom-dtk1...  \n8       wacom-pth660   https://www.americanas.com.br/busca/wacom-pth660  \n9  wacom-ctl6100wle0  https://www.americanas.com.br/busca/wacom-ctl6...  ",
      "text/html": "<div>\n<style scoped>\n    .dataframe tbody tr th:only-of-type {\n        vertical-align: middle;\n    }\n\n    .dataframe tbody tr th {\n        vertical-align: top;\n    }\n\n    .dataframe thead th {\n        text-align: right;\n    }\n</style>\n<table border=\"1\" class=\"dataframe\">\n  <thead>\n    <tr style=\"text-align: right;\">\n      <th></th>\n      <th>Brand</th>\n      <th>Product_Name</th>\n      <th>Product_Descrition</th>\n      <th>Urls</th>\n      <th>Urls_search</th>\n    </tr>\n  </thead>\n  <tbody>\n    <tr>\n      <th>0</th>\n      <td>wacom</td>\n      <td>ctl472</td>\n      <td>ctl 472 - mesa digitalizadora one by wacom peq...</td>\n      <td>wacom-ctl472</td>\n      <td>https://www.americanas.com.br/busca/wacom-ctl472</td>\n    </tr>\n    <tr>\n      <th>1</th>\n      <td>wacom</td>\n      <td>ctl4100</td>\n      <td>ctl4100 - mesa digitalizadora wacom intuos sma...</td>\n      <td>wacom-ctl4100</td>\n      <td>https://www.americanas.com.br/busca/wacom-ctl4100</td>\n    </tr>\n    <tr>\n      <th>2</th>\n      <td>wacom</td>\n      <td>ctl4100wle0</td>\n      <td>ctl4100wle0 - mesa digitalizadora wacom intuos...</td>\n      <td>wacom-ctl4100wle0</td>\n      <td>https://www.americanas.com.br/busca/wacom-ctl4...</td>\n    </tr>\n    <tr>\n      <th>3</th>\n      <td>wacom</td>\n      <td>ctl4100wlk0</td>\n      <td>ctl4100wlk0 - mesa digitalizadora wacom intuos...</td>\n      <td>wacom-ctl4100wlk0</td>\n      <td>https://www.americanas.com.br/busca/wacom-ctl4...</td>\n    </tr>\n    <tr>\n      <th>4</th>\n      <td>wacom</td>\n      <td>ctl6100wlk0</td>\n      <td>ctl6100wlk0 - mesa digitalizadora wacom intuos...</td>\n      <td>wacom-ctl6100wlk0</td>\n      <td>https://www.americanas.com.br/busca/wacom-ctl6...</td>\n    </tr>\n    <tr>\n      <th>5</th>\n      <td>wacom</td>\n      <td>dtc133w0a</td>\n      <td>dtc133w0a - mesa digitalizadora wacom one crea...</td>\n      <td>wacom-dtc133w0a</td>\n      <td>https://www.americanas.com.br/busca/wacom-dtc1...</td>\n    </tr>\n    <tr>\n      <th>6</th>\n      <td>wacom</td>\n      <td>pth460</td>\n      <td>pth460 - mesa digitalizadora wacom intuos pro ...</td>\n      <td>wacom-pth460</td>\n      <td>https://www.americanas.com.br/busca/wacom-pth460</td>\n    </tr>\n    <tr>\n      <th>7</th>\n      <td>wacom</td>\n      <td>dtk1660k0a</td>\n      <td>dtk1660k0a - display interativo wacom cintiq 1...</td>\n      <td>wacom-dtk1660k0a</td>\n      <td>https://www.americanas.com.br/busca/wacom-dtk1...</td>\n    </tr>\n    <tr>\n      <th>8</th>\n      <td>wacom</td>\n      <td>pth660</td>\n      <td>pth660 - mesa digitalizadora wacom intuos pro ...</td>\n      <td>wacom-pth660</td>\n      <td>https://www.americanas.com.br/busca/wacom-pth660</td>\n    </tr>\n    <tr>\n      <th>9</th>\n      <td>wacom</td>\n      <td>ctl6100wle0</td>\n      <td>ctl6100wle0 - mesa digitalizadora wacom intuos...</td>\n      <td>wacom-ctl6100wle0</td>\n      <td>https://www.americanas.com.br/busca/wacom-ctl6...</td>\n    </tr>\n  </tbody>\n</table>\n</div>"
     },
     "execution_count": 5,
     "metadata": {},
     "output_type": "execute_result"
    }
   ],
   "source": [
    "Df_Products_Links = getting_n_creating_americanas_urls(\"Wacom\")\n",
    "Df_Products_Links"
   ]
  },
  {
   "cell_type": "code",
   "execution_count": 6,
   "metadata": {
    "pycharm": {
     "name": "#%%\n"
    }
   },
   "outputs": [],
   "source": [
    "def search_links(url):\n",
    "    global Links_Americanas\n",
    "\n",
    "    time.sleep(5)\n",
    "\n",
    "    Headers_Choice = Random_user_agents(\"Americanas\")\n",
    "\n",
    "    response = requests.get(url, headers=Headers_Choice)\n",
    "    \n",
    "    if response.status_code != 200:\n",
    "        Headers_Choice = Random_user_agents(\"Americanas\")\n",
    "        response = requests.get(url, headers=Headers_Choice)\n",
    "\n",
    "    else:\n",
    "        pass\n",
    "\n",
    "    html = response.text\n",
    "\n",
    "    bs = BeautifulSoup(html, 'html.parser')\n",
    "\n",
    "    for link in bs.find_all(\"a\", href=True):\n",
    "        Links_Americanas.append(\"https://www.americanas.com.br\" + link['href'])\n",
    "\n",
    "    Links_Americanas = [s for s in Links_Americanas if 'produto' in s]\n",
    "    Links_Americanas = [s for s in Links_Americanas if not 'theater' in s]"
   ]
  },
  {
   "cell_type": "code",
   "execution_count": 7,
   "metadata": {
    "pycharm": {
     "name": "#%%\n"
    }
   },
   "outputs": [
    {
     "name": "stderr",
     "output_type": "stream",
     "text": [
      "100%|██████████| 10/10 [00:58<00:00,  5.81s/it]\n"
     ]
    }
   ],
   "source": [
    "for url in tqdm(Df_Products_Links['Urls_search']):\n",
    "    search_links(url)"
   ]
  },
  {
   "cell_type": "code",
   "execution_count": 8,
   "metadata": {
    "pycharm": {
     "name": "#%%\n"
    }
   },
   "outputs": [],
   "source": [
    "def get_atributes(url):\n",
    "    time.sleep(10)\n",
    "\n",
    "    Headers_Choice = Random_user_agents(\"Americanas\")\n",
    "\n",
    "    response = requests.get(url, headers=Headers_Choice)\n",
    "\n",
    "    if response.status_code != 200:\n",
    "        \n",
    "        Headers_Choice = Random_user_agents(\"Americanas\")\n",
    "        response = requests.get(url, headers=Headers_Choice)\n",
    "\n",
    "    else:\n",
    "        pass\n",
    "\n",
    "    html = response.text\n",
    "\n",
    "    soup = BeautifulSoup(html, 'html.parser')\n",
    "\n",
    "    #Title\n",
    "    try:\n",
    "        Title_Americanas.append(soup.find(class_='product-title__Title-sc-1hlrxcw-0 jyetLr').text)\n",
    "    except:\n",
    "        Title_Americanas.append(\"Erro\")\n",
    "\n",
    "    #Preço\n",
    "    try:\n",
    "        Price_Americanas.append(soup.find(class_='styles__PriceText-sc-x06r9i-0 dUTOlD priceSales').text)\n",
    "    except:\n",
    "        Price_Americanas.append('Erro')\n",
    "\n",
    "    #Installment\n",
    "    try:\n",
    "        Installment_Americanas_valor_parcela.append(soup.find(class_='payment-installment-text__Text-sc-12txe9z-0 bfFyfi').text)\n",
    "    except:\n",
    "        Installment_Americanas_valor_parcela.append(\"Erro\")\n",
    "\n",
    "    #Seller\n",
    "    try:\n",
    "        Sellers_Americanas.append(soup.find(class_='offers-box__Wrapper-sc-189v1x3-0 kegaFO').text)\n",
    "    except:\n",
    "        Sellers_Americanas.append(\"Erro\")\n",
    "\n",
    "    #More offers \n",
    "    try:\n",
    "        More_offers_americanas.append(soup.find(class_='more-offers__Touchable-sc-15yqej3-2 hYfNEd')['href'])\n",
    "    except:\n",
    "        More_offers_americanas.append(\"Erro\")"
   ]
  },
  {
   "cell_type": "code",
   "execution_count": 9,
   "metadata": {
    "pycharm": {
     "name": "#%%\n"
    }
   },
   "outputs": [
    {
     "name": "stderr",
     "output_type": "stream",
     "text": [
      "100%|██████████| 119/119 [21:04<00:00, 10.63s/it]\n"
     ]
    }
   ],
   "source": [
    "for url in tqdm(Links_Americanas):\n",
    "    get_atributes(url)"
   ]
  },
  {
   "cell_type": "code",
   "execution_count": 10,
   "metadata": {
    "pycharm": {
     "name": "#%%\n"
    }
   },
   "outputs": [],
   "source": [
    "def create_dataframe(url, sellers, price, installment, title):\n",
    "    df_raw = pd.DataFrame()\n",
    "\n",
    "    Hoje = pd.to_datetime('today', errors='ignore').date()\n",
    "\n",
    "    df_raw['URL'] = url\n",
    "\n",
    "    df_raw['DATE'] = Hoje\n",
    "\n",
    "    df_raw['MARKETPLACE'] = 'Americanas'\n",
    "\n",
    "    df_raw['SELLER'] = sellers\n",
    "    df_raw['SELLER'] = df_raw['SELLER'].str.replace(\"Este produto é vendido e entregue por \",\"\")\n",
    "    df_raw['SELLER'] = df_raw['SELLER'].str.replace(\"Este produto é vendido por \",\"\")\n",
    "    df_raw['SELLER'] = df_raw['SELLER'].str.partition(\".\")[0]\n",
    "    df_raw['SELLER'] = df_raw['SELLER'].str.partition(\" e\")[0]\n",
    "    \n",
    "\n",
    "\n",
    "    df_raw['PRICE'] = price\n",
    "    df_raw['PRICE'] = df_raw['PRICE'].str.replace(\"R$ \", \"\", regex=False)\n",
    "    df_raw['PRICE'] = df_raw['PRICE'].str.replace(\".\",\"\")\n",
    "    df_raw['PRICE'] = df_raw['PRICE'].str.replace(\",\",\".\")\n",
    "\n",
    "\n",
    "\n",
    "    df_raw['Installment_full'] = installment\n",
    "    df_raw['PARCEL'] = df_raw['Installment_full'].str.partition('x')[0].str.partition(\"até \")[2]\n",
    "\n",
    "    df_raw['INSTALLMENT'] = df_raw['Installment_full'].str.partition(\"x\")[2].str.partition(\"R$ \")[2]\n",
    "    df_raw['INSTALLMENT'] = df_raw['INSTALLMENT'].str.replace(\",\",\".\")\n",
    "\n",
    "    df_raw['PRODUCT'] = title\n",
    "\n",
    "    df_raw['MORE'] = More_offers_americanas\n",
    "\n",
    "    df_raw['ID'] = df_raw['URL'].str.partition(\"produto/\")[2].str.partition('?')[0]\n",
    "\n",
    "    df_raw['PRICE'] = df_raw['PRICE'].astype('float')\n",
    "\n",
    "    df_raw = df_raw[['DATE', 'URL', 'MARKETPLACE', 'SELLER', 'PRICE', 'PARCEL', 'INSTALLMENT', 'ID', 'PRODUCT',  'MORE']]\n",
    "\n",
    "\n",
    "    return df_raw"
   ]
  },
  {
   "cell_type": "code",
   "execution_count": 11,
   "metadata": {
    "pycharm": {
     "name": "#%%\n"
    }
   },
   "outputs": [
    {
     "name": "stderr",
     "output_type": "stream",
     "text": [
      "C:\\Users\\pedro\\AppData\\Local\\Temp\\ipykernel_30120\\1719713125.py:22: FutureWarning: The default value of regex will change from True to False in a future version. In addition, single character regular expressions will *not* be treated as literal strings when regex=True.\n",
      "  df_raw['PRICE'] = df_raw['PRICE'].str.replace(\".\",\"\")\n"
     ]
    }
   ],
   "source": [
    "Dataset_Americanas = create_dataframe(Links_Americanas, Sellers_Americanas, Price_Americanas, Installment_Americanas_valor_parcela, Title_Americanas)"
   ]
  },
  {
   "cell_type": "code",
   "execution_count": 12,
   "metadata": {
    "pycharm": {
     "name": "#%%\n"
    }
   },
   "outputs": [
    {
     "data": {
      "text/plain": "           DATE                                                URL  \\\n0    2022-06-02  https://www.americanas.com.br/produto/13371036...   \n1    2022-06-02  https://www.americanas.com.br/produto/37195263...   \n2    2022-06-02  https://www.americanas.com.br/produto/40663058...   \n3    2022-06-02  https://www.americanas.com.br/produto/47989815...   \n4    2022-06-02  https://www.americanas.com.br/produto/49586272...   \n..          ...                                                ...   \n114  2022-06-02  https://www.americanas.com.br/produto/49434852...   \n115  2022-06-02  https://www.americanas.com.br/produto/51725593...   \n116  2022-06-02  https://www.americanas.com.br/produto/61058374...   \n117  2022-06-02  https://www.americanas.com.br/produto/23011597...   \n118  2022-06-02  https://www.americanas.com.br/produto/35940944...   \n\n    MARKETPLACE                  SELLER    PRICE PARCEL INSTALLMENT  \\\n0    Americanas               FiberMega   194.39      4       55.22   \n1    Americanas                  SHOPAR   277.97      5       59.78   \n2    Americanas                HD Store   436.87      8       58.72   \n3    Americanas                    Erro   278.90      6       49.98   \n4    Americanas  RL2INFO SOLUÇÕES EM TI   371.99      8       49.99   \n..          ...                     ...      ...    ...         ...   \n114  Americanas              YaLuoGuoJi    54.09                      \n115  Americanas             Nocnoc Asia    86.19                      \n116  Americanas                Tendinfo  6312.84      8      848.50   \n117  Americanas                 MIRANDA  1895.02      8      254.70   \n118  Americanas                 INPOWER  1435.07      8      216.12   \n\n             ID                                            PRODUCT  \\\n0     133710364            Mesa Digitalizadora One By Wacom CTL472   \n1    3719526302  Mesa Digitalizadora Wacom One CTL472 Pequena B...   \n2    4066305835               Mesa Digitalizadora Wacom Ctl472 One   \n3    4798981505                                               Erro   \n4    4958627240  Mesa Digitalizadora Wacom One By Pequena - Ctl472   \n..          ...                                                ...   \n114  4943485200  USB Tipo-C Cabo de alimentação para Wacom Digi...   \n115  5172559329  Cabo de alimentação USB Type-C para cabo de ca...   \n116    61058374  Mesa Digitalizadora Wacom Intuos Pro Média (pt...   \n117  2301159787  Mesa Digitalizadora Intuos Bluetooth Média - V...   \n118  3594094411  Mesa Digitalizadora Wacom Intuos M Bluetooth P...   \n\n                                                  MORE  \n0    /parceiros/133710364?buyboxToken=smartbuybox-a...  \n1                                                 Erro  \n2                                                 Erro  \n3                                                 Erro  \n4                                                 Erro  \n..                                                 ...  \n114                                               Erro  \n115                                               Erro  \n116                                               Erro  \n117                                               Erro  \n118                                               Erro  \n\n[119 rows x 10 columns]",
      "text/html": "<div>\n<style scoped>\n    .dataframe tbody tr th:only-of-type {\n        vertical-align: middle;\n    }\n\n    .dataframe tbody tr th {\n        vertical-align: top;\n    }\n\n    .dataframe thead th {\n        text-align: right;\n    }\n</style>\n<table border=\"1\" class=\"dataframe\">\n  <thead>\n    <tr style=\"text-align: right;\">\n      <th></th>\n      <th>DATE</th>\n      <th>URL</th>\n      <th>MARKETPLACE</th>\n      <th>SELLER</th>\n      <th>PRICE</th>\n      <th>PARCEL</th>\n      <th>INSTALLMENT</th>\n      <th>ID</th>\n      <th>PRODUCT</th>\n      <th>MORE</th>\n    </tr>\n  </thead>\n  <tbody>\n    <tr>\n      <th>0</th>\n      <td>2022-06-02</td>\n      <td>https://www.americanas.com.br/produto/13371036...</td>\n      <td>Americanas</td>\n      <td>FiberMega</td>\n      <td>194.39</td>\n      <td>4</td>\n      <td>55.22</td>\n      <td>133710364</td>\n      <td>Mesa Digitalizadora One By Wacom CTL472</td>\n      <td>/parceiros/133710364?buyboxToken=smartbuybox-a...</td>\n    </tr>\n    <tr>\n      <th>1</th>\n      <td>2022-06-02</td>\n      <td>https://www.americanas.com.br/produto/37195263...</td>\n      <td>Americanas</td>\n      <td>SHOPAR</td>\n      <td>277.97</td>\n      <td>5</td>\n      <td>59.78</td>\n      <td>3719526302</td>\n      <td>Mesa Digitalizadora Wacom One CTL472 Pequena B...</td>\n      <td>Erro</td>\n    </tr>\n    <tr>\n      <th>2</th>\n      <td>2022-06-02</td>\n      <td>https://www.americanas.com.br/produto/40663058...</td>\n      <td>Americanas</td>\n      <td>HD Store</td>\n      <td>436.87</td>\n      <td>8</td>\n      <td>58.72</td>\n      <td>4066305835</td>\n      <td>Mesa Digitalizadora Wacom Ctl472 One</td>\n      <td>Erro</td>\n    </tr>\n    <tr>\n      <th>3</th>\n      <td>2022-06-02</td>\n      <td>https://www.americanas.com.br/produto/47989815...</td>\n      <td>Americanas</td>\n      <td>Erro</td>\n      <td>278.90</td>\n      <td>6</td>\n      <td>49.98</td>\n      <td>4798981505</td>\n      <td>Erro</td>\n      <td>Erro</td>\n    </tr>\n    <tr>\n      <th>4</th>\n      <td>2022-06-02</td>\n      <td>https://www.americanas.com.br/produto/49586272...</td>\n      <td>Americanas</td>\n      <td>RL2INFO SOLUÇÕES EM TI</td>\n      <td>371.99</td>\n      <td>8</td>\n      <td>49.99</td>\n      <td>4958627240</td>\n      <td>Mesa Digitalizadora Wacom One By Pequena - Ctl472</td>\n      <td>Erro</td>\n    </tr>\n    <tr>\n      <th>...</th>\n      <td>...</td>\n      <td>...</td>\n      <td>...</td>\n      <td>...</td>\n      <td>...</td>\n      <td>...</td>\n      <td>...</td>\n      <td>...</td>\n      <td>...</td>\n      <td>...</td>\n    </tr>\n    <tr>\n      <th>114</th>\n      <td>2022-06-02</td>\n      <td>https://www.americanas.com.br/produto/49434852...</td>\n      <td>Americanas</td>\n      <td>YaLuoGuoJi</td>\n      <td>54.09</td>\n      <td></td>\n      <td></td>\n      <td>4943485200</td>\n      <td>USB Tipo-C Cabo de alimentação para Wacom Digi...</td>\n      <td>Erro</td>\n    </tr>\n    <tr>\n      <th>115</th>\n      <td>2022-06-02</td>\n      <td>https://www.americanas.com.br/produto/51725593...</td>\n      <td>Americanas</td>\n      <td>Nocnoc Asia</td>\n      <td>86.19</td>\n      <td></td>\n      <td></td>\n      <td>5172559329</td>\n      <td>Cabo de alimentação USB Type-C para cabo de ca...</td>\n      <td>Erro</td>\n    </tr>\n    <tr>\n      <th>116</th>\n      <td>2022-06-02</td>\n      <td>https://www.americanas.com.br/produto/61058374...</td>\n      <td>Americanas</td>\n      <td>Tendinfo</td>\n      <td>6312.84</td>\n      <td>8</td>\n      <td>848.50</td>\n      <td>61058374</td>\n      <td>Mesa Digitalizadora Wacom Intuos Pro Média (pt...</td>\n      <td>Erro</td>\n    </tr>\n    <tr>\n      <th>117</th>\n      <td>2022-06-02</td>\n      <td>https://www.americanas.com.br/produto/23011597...</td>\n      <td>Americanas</td>\n      <td>MIRANDA</td>\n      <td>1895.02</td>\n      <td>8</td>\n      <td>254.70</td>\n      <td>2301159787</td>\n      <td>Mesa Digitalizadora Intuos Bluetooth Média - V...</td>\n      <td>Erro</td>\n    </tr>\n    <tr>\n      <th>118</th>\n      <td>2022-06-02</td>\n      <td>https://www.americanas.com.br/produto/35940944...</td>\n      <td>Americanas</td>\n      <td>INPOWER</td>\n      <td>1435.07</td>\n      <td>8</td>\n      <td>216.12</td>\n      <td>3594094411</td>\n      <td>Mesa Digitalizadora Wacom Intuos M Bluetooth P...</td>\n      <td>Erro</td>\n    </tr>\n  </tbody>\n</table>\n<p>119 rows × 10 columns</p>\n</div>"
     },
     "execution_count": 12,
     "metadata": {},
     "output_type": "execute_result"
    }
   ],
   "source": [
    "Dataset_Americanas"
   ]
  },
  {
   "cell_type": "code",
   "execution_count": 26,
   "outputs": [
    {
     "data": {
      "text/plain": "DATE            object\nURL             object\nMARKETPLACE     object\nSELLER          object\nPRICE          float64\nPARCEL          object\nINSTALLMENT     object\nID              object\nPRODUCT         object\nMORE            object\ndtype: object"
     },
     "execution_count": 26,
     "metadata": {},
     "output_type": "execute_result"
    }
   ],
   "source": [
    "Dataset_Americanas.dtypes"
   ],
   "metadata": {
    "collapsed": false,
    "pycharm": {
     "name": "#%%\n"
    }
   }
  },
  {
   "cell_type": "code",
   "execution_count": 62,
   "metadata": {
    "pycharm": {
     "name": "#%%\n"
    }
   },
   "outputs": [],
   "source": [
    "Dataset_Americanas.to_excel(r\"C:\\Users\\pedro\\Documents\\Turte Brand Protection\\Turtle_Thinker_Alpha_0.1\\Americanas_Wacom.xlsx\", index=False)"
   ]
  },
  {
   "cell_type": "code",
   "execution_count": null,
   "metadata": {
    "pycharm": {
     "name": "#%%\n"
    }
   },
   "outputs": [],
   "source": []
  }
 ],
 "metadata": {
  "interpreter": {
   "hash": "c3503f95e0e8f4afdf6702396a7a2a29cae9f67572acfe092405dcaa2579b817"
  },
  "kernelspec": {
   "display_name": "Python 3.10.4 64-bit",
   "language": "python",
   "name": "python3"
  },
  "language_info": {
   "codemirror_mode": {
    "name": "ipython",
    "version": 3
   },
   "file_extension": ".py",
   "mimetype": "text/x-python",
   "name": "python",
   "nbconvert_exporter": "python",
   "pygments_lexer": "ipython3",
   "version": "3.10.4"
  },
  "orig_nbformat": 4
 },
 "nbformat": 4,
 "nbformat_minor": 2
}