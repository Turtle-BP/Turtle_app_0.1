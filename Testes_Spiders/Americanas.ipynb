{
 "cells": [
  {
   "cell_type": "code",
   "execution_count": 29,
   "metadata": {
    "pycharm": {
     "name": "#%%\n"
    }
   },
   "outputs": [],
   "source": [
    "#IMPORTANDO BIBLIOTECAS\n",
    "from bs4 import BeautifulSoup\n",
    "import requests\n",
    "import json\n",
    "import pandas as pd\n",
    "import sqlite3\n",
    "import time\n",
    "from tqdm import tqdm\n",
    "import os\n",
    "import random"
   ]
  },
  {
   "cell_type": "code",
   "execution_count": 30,
   "outputs": [],
   "source": [
    "def Random_user_agents(marketplace):\n",
    "\n",
    "    #Criando a lista de user-agents\n",
    "    User_agents_list = ['Mozilla/5.0 (Windows NT 10.0; Win64; x64) AppleWebKit/537.36 (KHTML, like Gecko) Chrome/99.0.4844.84 Safari/537.36 OPR/85.0.4341.60',\n",
    "                        'Mozilla/5.0 (Windows NT 10.0; WOW64) AppleWebKit/537.36 (KHTML, like Gecko) Chrome/44.0.2403.130 Safari/537.36',\n",
    "                        'Mozilla/5.0 (Windows NT 10.0; WOW64) AppleWebKit/537.36 (KHTML, like Gecko) Chrome/43.0.2357.134 Safari/537.36',\n",
    "                        'Mozilla/5.0 (Macintosh; Intel Mac OS X 10_10_3) AppleWebKit/537.36 (KHTML, like Gecko) Chrome/43.0.2357.130 Safari/537.36',\n",
    "                        'Mozilla/5.0 (Macintosh; Intel Mac OS X 10_10_0) AppleWebKit/537.36 (KHTML, like Gecko) Chrome/38.0.2125.101 Safari/537.36',\n",
    "                        'Mozilla/5.0 (Windows NT 5.1) AppleWebKit/537.36 (KHTML, like Gecko) Chrome/41.0.2272.101 Safari/537.36',\n",
    "                        'Mozilla/5.0 (Windows NT 6.1) AppleWebKit/537.36 (KHTML, like Gecko) Chrome/43.0.2357.65 Safari/537.36',\n",
    "                        'Mozilla/5.0 (Windows NT 10.0; WOW64) AppleWebKit/537.36 (KHTML, like Gecko) Chrome/45.0.2454.85 Safari/537.36',\n",
    "                        'Mozilla/5.0 (Windows NT 6.1) AppleWebKit/537.36 (KHTML, like Gecko) Chrome/34.0.1847.131 Safari/537.36']\n",
    "\n",
    "    #Escolhendo o user aleatório\n",
    "    Choice_user_agent = random.choice(User_agents_list)\n",
    "\n",
    "    headers = {'authority':'www.' + marketplace + '.com.br',\n",
    "               'user-agent':Choice_user_agent}\n",
    "\n",
    "\n",
    "    return headers"
   ],
   "metadata": {
    "collapsed": false,
    "pycharm": {
     "name": "#%%\n"
    }
   }
  },
  {
   "cell_type": "code",
   "execution_count": 31,
   "metadata": {
    "pycharm": {
     "name": "#%%\n"
    }
   },
   "outputs": [],
   "source": [
    "#GUARDANDO LISTAS\n",
    "Links_Americanas = []\n",
    "Urls_Americanas = []\n",
    "Sellers_Americanas = []\n",
    "Country_Americanas = []\n",
    "Price_Americanas = []\n",
    "SKU_Americanas = []\n",
    "Title_Americanas = []\n",
    "Installment_Americanas_quantidade = []\n",
    "Installment_Americanas_valor_parcela = []\n",
    "Installment_Americanas_valor_total = []\n",
    "More_offers_americanas = []"
   ]
  },
  {
   "cell_type": "code",
   "execution_count": 32,
   "metadata": {
    "pycharm": {
     "name": "#%%\n"
    }
   },
   "outputs": [],
   "source": [
    "def getting_n_creating_americanas_urls(brand):\n",
    "\n",
    "    Database_path = r\"C:\\Users\\pedro\\Documents\\Turte Brand Protection\\Turtle_Thinker_Alpha_0.1\" + \"\\Data\\\\\" + brand + \"\\\\\" + brand + \".db\"\n",
    "\n",
    "    table = brand + \"_products\"\n",
    "\n",
    "    #Criando a Query\n",
    "    query = \"SELECT * FROM \" + table\n",
    "\n",
    "    #Entrando dentro do databse\n",
    "    connection = sqlite3.connect(Database_path)\n",
    "\n",
    "    #Criando o dataset em brando\n",
    "    df = pd.read_sql_query(query, connection)\n",
    "\n",
    "    #Passando todo o Dataframe para LowerCase\n",
    "    df = df.apply(lambda x: x.astype(str).str.lower())\n",
    "\n",
    "    #Arrumando espaços vazios\n",
    "    # Arrumano os espaços vazios\n",
    "    df['Product_Name'] = df['Product_Name'].str.replace(\" \", \"-\")\n",
    "\n",
    "    # Criando uma nova coluna no database com a formatação certa\n",
    "    df['Urls'] = df['Brand'] + \"-\" + df['Product_Name']\n",
    "\n",
    "    # Criando a nova coluna que são as urls de pesquisa\n",
    "    df['Urls_search'] = \"https://www.americanas.com.br/busca/\" + df['Urls']\n",
    "\n",
    "    return df"
   ]
  },
  {
   "cell_type": "code",
   "execution_count": 33,
   "metadata": {
    "pycharm": {
     "name": "#%%\n"
    }
   },
   "outputs": [
    {
     "data": {
      "text/plain": "   Brand Product_Name                                 Product_Descrition  \\\n0  wacom       ctl472  ctl 472 - mesa digitalizadora one by wacom peq...   \n1  wacom      ctl4100  ctl4100 - mesa digitalizadora wacom intuos sma...   \n2  wacom  ctl4100wle0  ctl4100wle0 - mesa digitalizadora wacom intuos...   \n3  wacom  ctl4100wlk0  ctl4100wlk0 - mesa digitalizadora wacom intuos...   \n4  wacom  ctl6100wlk0  ctl6100wlk0 - mesa digitalizadora wacom intuos...   \n5  wacom    dtc133w0a  dtc133w0a - mesa digitalizadora wacom one crea...   \n6  wacom       pth460  pth460 - mesa digitalizadora wacom intuos pro ...   \n7  wacom   dtk1660k0a  dtk1660k0a - display interativo wacom cintiq 1...   \n8  wacom       pth660  pth660 - mesa digitalizadora wacom intuos pro ...   \n9  wacom  ctl6100wle0  ctl6100wle0 - mesa digitalizadora wacom intuos...   \n\n                Urls                                        Urls_search  \n0       wacom-ctl472   https://www.americanas.com.br/busca/wacom-ctl472  \n1      wacom-ctl4100  https://www.americanas.com.br/busca/wacom-ctl4100  \n2  wacom-ctl4100wle0  https://www.americanas.com.br/busca/wacom-ctl4...  \n3  wacom-ctl4100wlk0  https://www.americanas.com.br/busca/wacom-ctl4...  \n4  wacom-ctl6100wlk0  https://www.americanas.com.br/busca/wacom-ctl6...  \n5    wacom-dtc133w0a  https://www.americanas.com.br/busca/wacom-dtc1...  \n6       wacom-pth460   https://www.americanas.com.br/busca/wacom-pth460  \n7   wacom-dtk1660k0a  https://www.americanas.com.br/busca/wacom-dtk1...  \n8       wacom-pth660   https://www.americanas.com.br/busca/wacom-pth660  \n9  wacom-ctl6100wle0  https://www.americanas.com.br/busca/wacom-ctl6...  ",
      "text/html": "<div>\n<style scoped>\n    .dataframe tbody tr th:only-of-type {\n        vertical-align: middle;\n    }\n\n    .dataframe tbody tr th {\n        vertical-align: top;\n    }\n\n    .dataframe thead th {\n        text-align: right;\n    }\n</style>\n<table border=\"1\" class=\"dataframe\">\n  <thead>\n    <tr style=\"text-align: right;\">\n      <th></th>\n      <th>Brand</th>\n      <th>Product_Name</th>\n      <th>Product_Descrition</th>\n      <th>Urls</th>\n      <th>Urls_search</th>\n    </tr>\n  </thead>\n  <tbody>\n    <tr>\n      <th>0</th>\n      <td>wacom</td>\n      <td>ctl472</td>\n      <td>ctl 472 - mesa digitalizadora one by wacom peq...</td>\n      <td>wacom-ctl472</td>\n      <td>https://www.americanas.com.br/busca/wacom-ctl472</td>\n    </tr>\n    <tr>\n      <th>1</th>\n      <td>wacom</td>\n      <td>ctl4100</td>\n      <td>ctl4100 - mesa digitalizadora wacom intuos sma...</td>\n      <td>wacom-ctl4100</td>\n      <td>https://www.americanas.com.br/busca/wacom-ctl4100</td>\n    </tr>\n    <tr>\n      <th>2</th>\n      <td>wacom</td>\n      <td>ctl4100wle0</td>\n      <td>ctl4100wle0 - mesa digitalizadora wacom intuos...</td>\n      <td>wacom-ctl4100wle0</td>\n      <td>https://www.americanas.com.br/busca/wacom-ctl4...</td>\n    </tr>\n    <tr>\n      <th>3</th>\n      <td>wacom</td>\n      <td>ctl4100wlk0</td>\n      <td>ctl4100wlk0 - mesa digitalizadora wacom intuos...</td>\n      <td>wacom-ctl4100wlk0</td>\n      <td>https://www.americanas.com.br/busca/wacom-ctl4...</td>\n    </tr>\n    <tr>\n      <th>4</th>\n      <td>wacom</td>\n      <td>ctl6100wlk0</td>\n      <td>ctl6100wlk0 - mesa digitalizadora wacom intuos...</td>\n      <td>wacom-ctl6100wlk0</td>\n      <td>https://www.americanas.com.br/busca/wacom-ctl6...</td>\n    </tr>\n    <tr>\n      <th>5</th>\n      <td>wacom</td>\n      <td>dtc133w0a</td>\n      <td>dtc133w0a - mesa digitalizadora wacom one crea...</td>\n      <td>wacom-dtc133w0a</td>\n      <td>https://www.americanas.com.br/busca/wacom-dtc1...</td>\n    </tr>\n    <tr>\n      <th>6</th>\n      <td>wacom</td>\n      <td>pth460</td>\n      <td>pth460 - mesa digitalizadora wacom intuos pro ...</td>\n      <td>wacom-pth460</td>\n      <td>https://www.americanas.com.br/busca/wacom-pth460</td>\n    </tr>\n    <tr>\n      <th>7</th>\n      <td>wacom</td>\n      <td>dtk1660k0a</td>\n      <td>dtk1660k0a - display interativo wacom cintiq 1...</td>\n      <td>wacom-dtk1660k0a</td>\n      <td>https://www.americanas.com.br/busca/wacom-dtk1...</td>\n    </tr>\n    <tr>\n      <th>8</th>\n      <td>wacom</td>\n      <td>pth660</td>\n      <td>pth660 - mesa digitalizadora wacom intuos pro ...</td>\n      <td>wacom-pth660</td>\n      <td>https://www.americanas.com.br/busca/wacom-pth660</td>\n    </tr>\n    <tr>\n      <th>9</th>\n      <td>wacom</td>\n      <td>ctl6100wle0</td>\n      <td>ctl6100wle0 - mesa digitalizadora wacom intuos...</td>\n      <td>wacom-ctl6100wle0</td>\n      <td>https://www.americanas.com.br/busca/wacom-ctl6...</td>\n    </tr>\n  </tbody>\n</table>\n</div>"
     },
     "execution_count": 33,
     "metadata": {},
     "output_type": "execute_result"
    }
   ],
   "source": [
    "Df_Products_Links = getting_n_creating_americanas_urls(\"Wacom\")\n",
    "Df_Products_Links"
   ]
  },
  {
   "cell_type": "code",
   "execution_count": 34,
   "metadata": {
    "pycharm": {
     "name": "#%%\n"
    }
   },
   "outputs": [],
   "source": [
    "def search_links(url):\n",
    "    global Links_Americanas\n",
    "\n",
    "    time.sleep(10)\n",
    "\n",
    "    Headers_Choice = Random_user_agents(\"Americanas\")\n",
    "\n",
    "    response = requests.get(url, headers=Headers_Choice)\n",
    "    \n",
    "    if response.status_code != 200:\n",
    "        Headers_Choice = Random_user_agents(\"Americanas\")\n",
    "        response = requests.get(url, headers=Headers_Choice)\n",
    "\n",
    "    else:\n",
    "        pass\n",
    "\n",
    "    html = response.text\n",
    "\n",
    "    bs = BeautifulSoup(html, 'html.parser')\n",
    "\n",
    "    for link in bs.find_all(\"a\", href=True):\n",
    "        Links_Americanas.append(\"https://www.americanas.com.br\" + link['href'])\n",
    "\n",
    "    Links_Americanas = [s for s in Links_Americanas if 'produto' in s]\n",
    "    Links_Americanas = [s for s in Links_Americanas if not 'theater' in s]"
   ]
  },
  {
   "cell_type": "code",
   "execution_count": 35,
   "metadata": {
    "pycharm": {
     "name": "#%%\n"
    }
   },
   "outputs": [
    {
     "name": "stderr",
     "output_type": "stream",
     "text": [
      "100%|██████████| 10/10 [01:47<00:00, 10.76s/it]\n"
     ]
    }
   ],
   "source": [
    "for url in tqdm(Df_Products_Links['Urls_search']):\n",
    "    search_links(url)"
   ]
  },
  {
   "cell_type": "code",
   "execution_count": 36,
   "metadata": {
    "pycharm": {
     "name": "#%%\n"
    }
   },
   "outputs": [],
   "source": [
    "def get_atributes(url):\n",
    "    time.sleep(25)\n",
    "\n",
    "    Headers_Choice = Random_user_agents(\"Americanas\")\n",
    "\n",
    "    response = requests.get(url, headers=Headers_Choice)\n",
    "\n",
    "    if response.status_code != 200:\n",
    "        \n",
    "        Headers_Choice = Random_user_agents(\"Americanas\")\n",
    "        response = requests.get(url, headers=Headers_Choice)\n",
    "\n",
    "    else:\n",
    "        pass\n",
    "\n",
    "    html = response.text\n",
    "\n",
    "    soup = BeautifulSoup(html, 'html.parser')\n",
    "\n",
    "    #Title\n",
    "    try:\n",
    "        Title_Americanas.append(soup.find(class_='product-title__Title-sc-1hlrxcw-0 jyetLr').text)\n",
    "    except:\n",
    "        Title_Americanas.append(\"Erro\")\n",
    "\n",
    "    #Preço\n",
    "    try:\n",
    "        Price_Americanas.append(soup.find(class_='styles__PriceText-sc-x06r9i-0 dUTOlD priceSales').text)\n",
    "    except:\n",
    "        Price_Americanas.append('Erro')\n",
    "\n",
    "    #Installment\n",
    "    try:\n",
    "        Installment_Americanas_valor_parcela.append(soup.find(class_='payment-installment-text__Text-sc-12txe9z-0 bfFyfi').text)\n",
    "    except:\n",
    "        Installment_Americanas_valor_parcela.append(\"Erro\")\n",
    "\n",
    "    #Seller\n",
    "    try:\n",
    "        Sellers_Americanas.append(soup.find(class_='offers-box__Wrapper-sc-189v1x3-0 kegaFO').text)\n",
    "    except:\n",
    "        Sellers_Americanas.append(\"Erro\")\n",
    "\n",
    "    #More offers \n",
    "    try:\n",
    "        More_offers_americanas.append(soup.find(class_='more-offers__Touchable-sc-15yqej3-2 hYfNEd').text)\n",
    "    except:\n",
    "        More_offers_americanas.append(\"Erro\")"
   ]
  },
  {
   "cell_type": "code",
   "execution_count": 37,
   "outputs": [
    {
     "data": {
      "text/plain": "['https://www.americanas.com.br/produto/133710364?pfm_carac=wacom-ctl472&pfm_page=search&pfm_pos=grid&pfm_type=search_page&offerId=5f91be4f1b186381b569a65c&buyboxToken=smartbuybox-acom-v2-f66339ad-4c2f-413b-ae5e-c5a41235079b-2022-05-26 11:11:12-0300',\n 'https://www.americanas.com.br/produto/3719526302?pfm_carac=wacom-ctl472&pfm_page=search&pfm_pos=grid&pfm_type=search_page&offerId=61183d2f09c351890dd3b363',\n 'https://www.americanas.com.br/produto/4066305835?pfm_carac=wacom-ctl472&pfm_page=search&pfm_pos=grid&pfm_type=search_page&offerId=627ca27587c00289c26557b2',\n 'https://www.americanas.com.br/produto/3839713911?pfm_carac=wacom-ctl472&pfm_page=search&pfm_pos=grid&pfm_type=search_page&offerId=6152465209c351890d0e2b5f',\n 'https://www.americanas.com.br/produto/4798981505?pfm_carac=wacom-ctl472&pfm_page=search&pfm_pos=grid&pfm_type=search_page&offerId=6227d4bc87c00289c207750e',\n 'https://www.americanas.com.br/produto/4958627240?pfm_carac=wacom-ctl472&pfm_page=search&pfm_pos=grid&pfm_type=search_page&offerId=6263f58087c00289c2796928',\n 'https://www.americanas.com.br/produto/3430847181?pfm_carac=wacom-ctl472&pfm_page=search&pfm_pos=grid&pfm_type=search_page&offerId=60ccf61752131c3c812ed8cb',\n 'https://www.americanas.com.br/produto/4090022464?pfm_carac=wacom-ctl472&pfm_page=search&pfm_pos=grid&pfm_type=search_page&offerId=615f917509c351890ded06a0',\n 'https://www.americanas.com.br/produto/5134772153?pfm_carac=wacom-ctl472&pfm_page=search&pfm_pos=grid&pfm_type=search_page&offerId=62895de6234ca7e6fd9aa60a',\n 'https://www.americanas.com.br/produto/4637094067?pfm_carac=wacom-ctl472&pfm_page=search&pfm_pos=grid&pfm_type=search_page&offerId=623e3de387c00289c20e6afd',\n 'https://www.americanas.com.br/produto/2262557642?pfm_carac=wacom-ctl472&pfm_page=search&pfm_pos=grid&pfm_type=search_page&offerId=5f85a03a1b186381b5a9d7c8',\n 'https://www.americanas.com.br/produto/4912264551?pfm_carac=wacom-ctl472&pfm_page=search&pfm_pos=grid&pfm_type=search_page&offerId=6255430187c00289c203bedf',\n 'https://www.americanas.com.br/produto/5148897862?pfm_carac=wacom-ctl472&pfm_page=search&pfm_pos=grid&pfm_type=search_page&offerId=628cf2ff234ca7e6fd05a4ea',\n 'https://www.americanas.com.br/produto/3279760444?pfm_carac=wacom-ctl472&pfm_page=search&pfm_pos=grid&pfm_type=search_page&offerId=6201926cd9fd6edeec0ef657',\n 'https://www.americanas.com.br/produto/4913020680?pfm_carac=wacom-ctl472&pfm_page=search&pfm_pos=grid&pfm_type=search_page&offerId=6255815487c00289c2eb4b3a',\n 'https://www.americanas.com.br/produto/4777186377?pfm_carac=wacom-ctl472&pfm_page=search&pfm_pos=grid&pfm_type=search_page&offerId=62220d5587c00289c2266b15',\n 'https://www.americanas.com.br/produto/4706069958?pfm_carac=wacom-ctl472&pfm_page=search&pfm_pos=grid&pfm_type=search_page&offerId=61fc01dbd9fd6edeec0eae5e',\n 'https://www.americanas.com.br/produto/3848073442?pfm_carac=wacom-ctl472&pfm_page=search&pfm_pos=grid&pfm_type=search_page&offerId=613a8a9809c351890d448f45',\n 'https://www.americanas.com.br/produto/4988166544?pfm_carac=wacom-ctl472&pfm_page=search&pfm_pos=grid&pfm_type=search_page&offerId=6269c99587c00289c2675e34',\n 'https://www.americanas.com.br/produto/4892715158?pfm_carac=wacom-ctl472&pfm_page=search&pfm_pos=grid&pfm_type=search_page&offerId=624fa2e387c00289c251c9dc',\n 'https://www.americanas.com.br/produto/133709540?pfm_carac=wacom-ctl4100&pfm_page=search&pfm_pos=grid&pfm_type=search_page&offerId=5e430dde1729c3bbf1d0cbc2&buyboxToken=smartbuybox-acom-v2-e54d469c-9b47-4ed0-ac5f-9a5010f2e03b-2022-05-26 11:11:23-0300',\n 'https://www.americanas.com.br/produto/2643055937?pfm_carac=wacom-ctl4100&pfm_page=search&pfm_pos=grid&pfm_type=search_page&offerId=5fd7b4080c07044266d779aa&buyboxToken=smartbuybox-acom-v2-35883819-80f1-4bf7-8af2-578d12801eb2-2022-05-26 11:11:23-0300',\n 'https://www.americanas.com.br/produto/2493092395?pfm_carac=wacom-ctl4100&pfm_page=search&pfm_pos=grid&pfm_type=search_page&offerId=5fa6e6ebc5c9bbe5fcc920b8',\n 'https://www.americanas.com.br/produto/2784772737?pfm_carac=wacom-ctl4100&pfm_page=search&pfm_pos=grid&pfm_type=search_page&offerId=60088b980c07044266e2c738',\n 'https://www.americanas.com.br/produto/4762888704?pfm_carac=wacom-ctl4100&pfm_page=search&pfm_pos=grid&pfm_type=search_page&offerId=621d901287c00289c2cf6622',\n 'https://www.americanas.com.br/produto/4764057875?pfm_carac=wacom-ctl4100&pfm_page=search&pfm_pos=grid&pfm_type=search_page&offerId=621e613a87c00289c2d9bd9d',\n 'https://www.americanas.com.br/produto/4762693173?pfm_carac=wacom-ctl4100&pfm_page=search&pfm_pos=grid&pfm_type=search_page&offerId=621d8f1387c00289c2c86639',\n 'https://www.americanas.com.br/produto/4770098024?pfm_carac=wacom-ctl4100&pfm_page=search&pfm_pos=grid&pfm_type=search_page&offerId=621feda587c00289c21cdcb0',\n 'https://www.americanas.com.br/produto/3718771867?pfm_carac=wacom-ctl4100&pfm_page=search&pfm_pos=grid&pfm_type=search_page&offerId=6117da8609c351890d642165',\n 'https://www.americanas.com.br/produto/3714269407?pfm_carac=wacom-ctl4100&pfm_page=search&pfm_pos=grid&pfm_type=search_page&offerId=61167af9549cd5594fbd604e',\n 'https://www.americanas.com.br/produto/3423098214?pfm_carac=wacom-ctl4100&pfm_page=search&pfm_pos=grid&pfm_type=search_page&offerId=60cc3c5252131c3c81d650ac',\n 'https://www.americanas.com.br/produto/4798981636?pfm_carac=wacom-ctl4100&pfm_page=search&pfm_pos=grid&pfm_type=search_page&offerId=6227d4af87c00289c2075a85',\n 'https://www.americanas.com.br/produto/3646055633?pfm_carac=wacom-ctl4100&pfm_page=search&pfm_pos=grid&pfm_type=search_page&offerId=6108309a52131c3c81733327',\n 'https://www.americanas.com.br/produto/4770634350?pfm_carac=wacom-ctl4100&pfm_page=search&pfm_pos=grid&pfm_type=search_page&offerId=621ffa4e87c00289c23a0be2',\n 'https://www.americanas.com.br/produto/5134569041?pfm_carac=wacom-ctl4100&pfm_page=search&pfm_pos=grid&pfm_type=search_page&offerId=628952d5234ca7e6fda12b70',\n 'https://www.americanas.com.br/produto/4325977944?pfm_carac=wacom-ctl4100&pfm_page=search&pfm_pos=grid&pfm_type=search_page&offerId=618f62aed9fd6edeec123122',\n 'https://www.americanas.com.br/produto/2407453239?pfm_carac=wacom-ctl4100&pfm_page=search&pfm_pos=grid&pfm_type=search_page&offerId=5f933dd01b186381b5c9ad70',\n 'https://www.americanas.com.br/produto/1264657292?pfm_carac=wacom-ctl4100&pfm_page=search&pfm_pos=grid&pfm_type=search_page&offerId=5ec9ab3079bf8430cb46f241',\n 'https://www.americanas.com.br/produto/5129592772?pfm_carac=wacom-ctl4100&pfm_page=search&pfm_pos=grid&pfm_type=search_page&offerId=62878474234ca7e6fdc1a8ae',\n 'https://www.americanas.com.br/produto/4943309855?pfm_carac=wacom-ctl4100&pfm_page=search&pfm_pos=grid&pfm_type=search_page&offerId=625fb97d87c00289c2677859',\n 'https://www.americanas.com.br/produto/4928431043?pfm_carac=wacom-ctl4100&pfm_page=search&pfm_pos=grid&pfm_type=search_page&offerId=6258f49787c00289c29cf7c7',\n 'https://www.americanas.com.br/produto/5120350152?pfm_carac=wacom-ctl4100&pfm_page=search&pfm_pos=grid&pfm_type=search_page&offerId=62851b3c234ca7e6fd64b825',\n 'https://www.americanas.com.br/produto/4947677313?pfm_carac=wacom-ctl4100&pfm_page=search&pfm_pos=grid&pfm_type=search_page&offerId=626079f687c00289c2c2df5c',\n 'https://www.americanas.com.br/produto/5147050820?pfm_carac=wacom-ctl4100&pfm_page=search&pfm_pos=grid&pfm_type=search_page&offerId=628cb9ae234ca7e6fd56a7b2',\n 'https://www.americanas.com.br/produto/4241834356?pfm_carac=wacom-ctl4100wle0&pfm_page=search&pfm_pos=grid&pfm_type=search_page&offerId=61784580d9fd6edeec159b01',\n 'https://www.americanas.com.br/produto/4706794199?pfm_carac=wacom-ctl4100wle0&pfm_page=search&pfm_pos=grid&pfm_type=search_page&offerId=61fc2b0dd9fd6edeec8508b9',\n 'https://www.americanas.com.br/produto/4267574695?pfm_carac=wacom-ctl4100wle0&pfm_page=search&pfm_pos=grid&pfm_type=search_page&offerId=6182c5ded9fd6edeec03f8c2',\n 'https://www.americanas.com.br/produto/4676158115?pfm_carac=wacom-ctl4100wle0&pfm_page=search&pfm_pos=grid&pfm_type=search_page&offerId=61f21fccd9fd6edeec146567',\n 'https://www.americanas.com.br/produto/133787249?pfm_carac=wacom-ctl4100wlk0&pfm_page=search&pfm_pos=grid&pfm_type=search_page&offerId=6026b83a0c07044266720fcb&buyboxToken=smartbuybox-acom-v2-6ca1238c-6f46-4555-8c90-35ec4786cb53-2022-05-26 11:11:44-0300',\n 'https://www.americanas.com.br/produto/4646793572?pfm_carac=wacom-ctl4100wlk0&pfm_page=search&pfm_pos=grid&pfm_type=search_page&offerId=61e8734dd9fd6edeecc3efd4',\n 'https://www.americanas.com.br/produto/3714270723?pfm_carac=wacom-ctl4100wlk0&pfm_page=search&pfm_pos=grid&pfm_type=search_page&offerId=61167b0a549cd5594fbd8c14',\n 'https://www.americanas.com.br/produto/1274522754?pfm_carac=wacom-ctl4100wlk0&pfm_page=search&pfm_pos=grid&pfm_type=search_page&offerId=5dbc285a0b100146c4bf8470',\n 'https://www.americanas.com.br/produto/3007937752?pfm_carac=wacom-ctl4100wlk0&pfm_page=search&pfm_pos=grid&pfm_type=search_page&offerId=604a52630c070442661187f8',\n 'https://www.americanas.com.br/produto/3646363628?pfm_carac=wacom-ctl4100wlk0&pfm_page=search&pfm_pos=grid&pfm_type=search_page&offerId=61084c5f52131c3c81b8c3f1',\n 'https://www.americanas.com.br/produto/4760469215?pfm_carac=wacom-ctl4100wlk0&pfm_page=search&pfm_pos=grid&pfm_type=search_page&offerId=6222fe3687c00289c2922793',\n 'https://www.americanas.com.br/produto/4762845229?pfm_carac=wacom-ctl4100wlk0&pfm_page=search&pfm_pos=grid&pfm_type=search_page&offerId=621d8d7e87c00289c2bedd75',\n 'https://www.americanas.com.br/produto/4764141461?pfm_carac=wacom-ctl4100wlk0&pfm_page=search&pfm_pos=grid&pfm_type=search_page&offerId=621e618d87c00289c2da7573',\n 'https://www.americanas.com.br/produto/4770080297?pfm_carac=wacom-ctl4100wlk0&pfm_page=search&pfm_pos=grid&pfm_type=search_page&offerId=621fed4087c00289c21c1d36',\n 'https://www.americanas.com.br/produto/3719553790?pfm_carac=wacom-ctl4100wlk0&pfm_page=search&pfm_pos=grid&pfm_type=search_page&offerId=61183d9a09c351890dd434c0',\n 'https://www.americanas.com.br/produto/4707696689?pfm_carac=wacom-ctl4100wlk0&pfm_page=search&pfm_pos=grid&pfm_type=search_page&offerId=61fd0a37d9fd6edeec87826c',\n 'https://www.americanas.com.br/produto/4770198261?pfm_carac=wacom-ctl4100wlk0&pfm_page=search&pfm_pos=grid&pfm_type=search_page&offerId=621ff0a287c00289c2234cac',\n 'https://www.americanas.com.br/produto/4762661147?pfm_carac=wacom-ctl4100wlk0&pfm_page=search&pfm_pos=grid&pfm_type=search_page&offerId=621d8ede87c00289c2c6e358',\n 'https://www.americanas.com.br/produto/4251166822?pfm_carac=wacom-ctl4100wlk0&pfm_page=search&pfm_pos=grid&pfm_type=search_page&offerId=617b00d4d9fd6edeec242f30',\n 'https://www.americanas.com.br/produto/51241504?pfm_carac=wacom-ctl4100wlk0&pfm_page=search&pfm_pos=grid&pfm_type=search_page&offerId=5cae1faef216c95bdeaf1e15',\n 'https://www.americanas.com.br/produto/5107900551?pfm_carac=wacom-ctl4100wlk0&pfm_page=search&pfm_pos=grid&pfm_type=search_page&offerId=62827b6a234ca7e6fdbd8f30',\n 'https://www.americanas.com.br/produto/4769969558?pfm_carac=wacom-ctl6100wlk0&pfm_page=search&pfm_pos=grid&pfm_type=search_page&offerId=621fea5b87c00289c215c80e',\n 'https://www.americanas.com.br/produto/4762673869?pfm_carac=wacom-ctl6100wlk0&pfm_page=search&pfm_pos=grid&pfm_type=search_page&offerId=621d8eee87c00289c2c75577',\n 'https://www.americanas.com.br/produto/4763099256?pfm_carac=wacom-ctl6100wlk0&pfm_page=search&pfm_pos=grid&pfm_type=search_page&offerId=621d90ea87c00289c2d14d2b',\n 'https://www.americanas.com.br/produto/4763985477?pfm_carac=wacom-ctl6100wlk0&pfm_page=search&pfm_pos=grid&pfm_type=search_page&offerId=621e60e687c00289c2d91204',\n 'https://www.americanas.com.br/produto/4769671954?pfm_carac=wacom-ctl6100wlk0&pfm_page=search&pfm_pos=grid&pfm_type=search_page&offerId=621fe35e87c00289c2049c6f',\n 'https://www.americanas.com.br/produto/1513757210?pfm_carac=wacom-ctl6100wlk0&pfm_page=search&pfm_pos=grid&pfm_type=search_page&offerId=5e4c1e3a79bf8430cbf287a1',\n 'https://www.americanas.com.br/produto/4767099780?pfm_carac=wacom-ctl6100wlk0&pfm_page=search&pfm_pos=grid&pfm_type=search_page&offerId=621fa39487c00289c26eadcf',\n 'https://www.americanas.com.br/produto/4040109836?pfm_carac=wacom-dtc133w0a&pfm_page=search&pfm_pos=grid&pfm_type=search_page&offerId=62011589d9fd6edeec62d579',\n 'https://www.americanas.com.br/produto/4646797469?pfm_carac=wacom-pth460&pfm_page=search&pfm_pos=grid&pfm_type=search_page&offerId=6230b16587c00289c2106abe',\n 'https://www.americanas.com.br/produto/1957977205?pfm_carac=wacom-pth460&pfm_page=search&pfm_pos=grid&pfm_type=search_page&offerId=605b563c0c070442669b62a7',\n 'https://www.americanas.com.br/produto/4927112657?pfm_carac=wacom-pth460&pfm_page=search&pfm_pos=grid&pfm_type=search_page&offerId=6258ed4587c00289c280045b',\n 'https://www.americanas.com.br/produto/4944568488?pfm_carac=wacom-pth460&pfm_page=search&pfm_pos=grid&pfm_type=search_page&offerId=6260019e87c00289c256973b',\n 'https://www.americanas.com.br/produto/1656241915?pfm_carac=wacom-pth460&pfm_page=search&pfm_pos=grid&pfm_type=search_page&offerId=5e98a99879bf8430cb5010a1',\n 'https://www.americanas.com.br/produto/1507851437?pfm_carac=wacom-pth460&pfm_page=search&pfm_pos=grid&pfm_type=search_page&offerId=5f4d8c70cc79e88b863afb3d',\n 'https://www.americanas.com.br/produto/133710364?pfm_carac=wacom-dtk1660k0a&pfm_page=search&pfm_pos=grid&pfm_type=search_page&offerId=5f91be4f1b186381b569a65c&buyboxToken=smartbuybox-acom-v2-c6b624ed-ae27-4fab-a8ba-469dc75bf3c0-2022-05-26 11:12:27-0300',\n 'https://www.americanas.com.br/produto/133709540?pfm_carac=wacom-dtk1660k0a&pfm_page=search&pfm_pos=grid&pfm_type=search_page&offerId=5e430dde1729c3bbf1d0cbc2&buyboxToken=smartbuybox-acom-v2-04880191-b267-4277-b7aa-f82f72eec110-2022-05-26 11:12:27-0300',\n 'https://www.americanas.com.br/produto/133787249?pfm_carac=wacom-dtk1660k0a&pfm_page=search&pfm_pos=grid&pfm_type=search_page&offerId=6026b83a0c07044266720fcb&buyboxToken=smartbuybox-acom-v2-7669d49e-2ffc-473e-bd53-d2714612b826-2022-05-26 11:12:27-0300',\n 'https://www.americanas.com.br/produto/4754869896?pfm_carac=wacom-dtk1660k0a&pfm_page=search&pfm_pos=grid&pfm_type=search_page&offerId=626df6dc87c00289c2128614',\n 'https://www.americanas.com.br/produto/134191762?pfm_carac=wacom-dtk1660k0a&pfm_page=search&pfm_pos=grid&pfm_type=search_page&offerId=5c657429f216c95bde1211c6',\n 'https://www.americanas.com.br/produto/3719526302?pfm_carac=wacom-dtk1660k0a&pfm_page=search&pfm_pos=grid&pfm_type=search_page&offerId=61183d2f09c351890dd3b363',\n 'https://www.americanas.com.br/produto/4807280218?pfm_carac=wacom-dtk1660k0a&pfm_page=search&pfm_pos=grid&pfm_type=search_page&offerId=626df6db87c00289c21281b7',\n 'https://www.americanas.com.br/produto/2643055937?pfm_carac=wacom-dtk1660k0a&pfm_page=search&pfm_pos=grid&pfm_type=search_page&offerId=5fd7b4080c07044266d779aa&buyboxToken=smartbuybox-acom-v2-14d206cd-d772-459a-bcd4-771a078f7ebc-2022-05-26 11:12:27-0300',\n 'https://www.americanas.com.br/produto/3646202058?pfm_carac=wacom-dtk1660k0a&pfm_page=search&pfm_pos=grid&pfm_type=search_page&offerId=612fe43009c351890d77eb32',\n 'https://www.americanas.com.br/produto/4803435569?pfm_carac=wacom-dtk1660k0a&pfm_page=search&pfm_pos=grid&pfm_type=search_page&offerId=626df6e187c00289c2129a07',\n 'https://www.americanas.com.br/produto/2493092395?pfm_carac=wacom-dtk1660k0a&pfm_page=search&pfm_pos=grid&pfm_type=search_page&offerId=5fa6e6ebc5c9bbe5fcc920b8',\n 'https://www.americanas.com.br/produto/4066305835?pfm_carac=wacom-dtk1660k0a&pfm_page=search&pfm_pos=grid&pfm_type=search_page&offerId=627ca27587c00289c26557b2',\n 'https://www.americanas.com.br/produto/2784772737?pfm_carac=wacom-dtk1660k0a&pfm_page=search&pfm_pos=grid&pfm_type=search_page&offerId=60088b980c07044266e2c738',\n 'https://www.americanas.com.br/produto/4646793572?pfm_carac=wacom-dtk1660k0a&pfm_page=search&pfm_pos=grid&pfm_type=search_page&offerId=61e8734dd9fd6edeecc3efd4',\n 'https://www.americanas.com.br/produto/3714270723?pfm_carac=wacom-dtk1660k0a&pfm_page=search&pfm_pos=grid&pfm_type=search_page&offerId=61167b0a549cd5594fbd8c14',\n 'https://www.americanas.com.br/produto/4241834356?pfm_carac=wacom-dtk1660k0a&pfm_page=search&pfm_pos=grid&pfm_type=search_page&offerId=61784580d9fd6edeec159b01',\n 'https://www.americanas.com.br/produto/1274522754?pfm_carac=wacom-dtk1660k0a&pfm_page=search&pfm_pos=grid&pfm_type=search_page&offerId=5dbc285a0b100146c4bf8470',\n 'https://www.americanas.com.br/produto/3839713911?pfm_carac=wacom-dtk1660k0a&pfm_page=search&pfm_pos=grid&pfm_type=search_page&offerId=6152465209c351890d0e2b5f',\n 'https://www.americanas.com.br/produto/5049689101?pfm_carac=wacom-dtk1660k0a&pfm_page=search&pfm_pos=grid&pfm_type=search_page&offerId=6277183987c00289c21aa18f',\n 'https://www.americanas.com.br/produto/5049441931?pfm_carac=wacom-dtk1660k0a&pfm_page=search&pfm_pos=grid&pfm_type=search_page&offerId=6279118187c00289c26f3d2f',\n 'https://www.americanas.com.br/produto/3007937752?pfm_carac=wacom-dtk1660k0a&pfm_page=search&pfm_pos=grid&pfm_type=search_page&offerId=604a52630c070442661187f8',\n 'https://www.americanas.com.br/produto/4798981572?pfm_carac=wacom-dtk1660k0a&pfm_page=search&pfm_pos=grid&pfm_type=search_page&offerId=6227d4bc87c00289c2077592',\n 'https://www.americanas.com.br/produto/4770670060?pfm_carac=wacom-dtk1660k0a&pfm_page=search&pfm_pos=grid&pfm_type=search_page&offerId=621ffae387c00289c23afc8b',\n 'https://www.americanas.com.br/produto/4762669202?pfm_carac=wacom-dtk1660k0a&pfm_page=search&pfm_pos=grid&pfm_type=search_page&offerId=621d8edf87c00289c2c6ec77',\n 'https://www.americanas.com.br/produto/134191762?pfm_carac=wacom-pth660&pfm_page=search&pfm_pos=grid&pfm_type=search_page&offerId=5c657429f216c95bde1211c6',\n 'https://www.americanas.com.br/produto/5049355419?pfm_carac=wacom-pth660&pfm_page=search&pfm_pos=grid&pfm_type=search_page&offerId=6277122287c00289c2c06b97',\n 'https://www.americanas.com.br/produto/5148953086?pfm_carac=wacom-pth660&pfm_page=search&pfm_pos=grid&pfm_type=search_page&offerId=628cf424234ca7e6fd212b94',\n 'https://www.americanas.com.br/produto/4943485200?pfm_carac=wacom-pth660&pfm_page=search&pfm_pos=grid&pfm_type=search_page&offerId=625fc76187c00289c29cc962',\n 'https://www.americanas.com.br/produto/4928416302?pfm_carac=wacom-pth660&pfm_page=search&pfm_pos=grid&pfm_type=search_page&offerId=6258f3d487c00289c29ab142',\n 'https://www.americanas.com.br/produto/4800963147?pfm_carac=wacom-pth660&pfm_page=search&pfm_pos=grid&pfm_type=search_page&offerId=6228ec9c87c00289c27cf12b',\n 'https://www.americanas.com.br/produto/61058374?pfm_carac=wacom-pth660&pfm_page=search&pfm_pos=grid&pfm_type=search_page&offerId=5cae18edf216c95bdea84e97',\n 'https://www.americanas.com.br/produto/4838744302?pfm_carac=wacom-pth660&pfm_page=search&pfm_pos=grid&pfm_type=search_page&offerId=623b6aa887c00289c2d9425a',\n 'https://www.americanas.com.br/produto/2301159787?pfm_carac=wacom-ctl6100wle0&pfm_page=search&pfm_pos=grid&pfm_type=search_page&offerId=5f88cdf91b186381b591fe3d',\n 'https://www.americanas.com.br/produto/3594094411?pfm_carac=wacom-ctl6100wle0&pfm_page=search&pfm_pos=grid&pfm_type=search_page&offerId=60fb959452131c3c8175d172']"
     },
     "execution_count": 37,
     "metadata": {},
     "output_type": "execute_result"
    }
   ],
   "source": [
    "Links_Americanas"
   ],
   "metadata": {
    "collapsed": false,
    "pycharm": {
     "name": "#%%\n"
    }
   }
  },
  {
   "cell_type": "code",
   "execution_count": 38,
   "metadata": {
    "pycharm": {
     "name": "#%%\n"
    }
   },
   "outputs": [
    {
     "name": "stderr",
     "output_type": "stream",
     "text": [
      "100%|██████████| 113/113 [38:53<00:00, 20.65s/it]\n"
     ]
    }
   ],
   "source": [
    "for url in tqdm(Links_Americanas):\n",
    "    get_atributes(url)"
   ]
  },
  {
   "cell_type": "code",
   "execution_count": 59,
   "metadata": {
    "pycharm": {
     "name": "#%%\n"
    }
   },
   "outputs": [],
   "source": [
    "def create_dataframe(url, sellers, price, installment, title):\n",
    "    df_raw = pd.DataFrame()\n",
    "\n",
    "    Hoje = pd.to_datetime('today', errors='ignore').date()\n",
    "\n",
    "    df_raw['URL'] = url\n",
    "\n",
    "    df_raw['DATE'] = Hoje\n",
    "\n",
    "    df_raw['MARKETPLACE'] = 'Americanas'\n",
    "\n",
    "    df_raw['SELLER'] = sellers\n",
    "    df_raw['SELLER'] = df_raw['SELLER'].str.replace(\"Este produto é vendido e entregue por \",\"\")\n",
    "    df_raw['SELLER'] = df_raw['SELLER'].str.replace(\"Este produto é vendido por \",\"\")\n",
    "    df_raw['SELLER'] = df_raw['SELLER'].str.partition(\".\")[0]\n",
    "    df_raw['SELLER'] = df_raw['SELLER'].str.partition(\" e\")[0]\n",
    "    \n",
    "\n",
    "\n",
    "    df_raw['PRICE'] = price\n",
    "    df_raw['PRICE'] = df_raw['PRICE'].str.replace(\"R$ \", \"\", regex=False)\n",
    "    df_raw['PRICE'] = df_raw['PRICE'].str.replace(\".\",\"\")\n",
    "    df_raw['PRICE'] = df_raw['PRICE'].str.replace(\",\",\".\")\n",
    "\n",
    "\n",
    "\n",
    "    df_raw['Installment_full'] = installment\n",
    "    df_raw['PARCEL'] = df_raw['Installment_full'].str.partition('x')[0].str.partition(\"até \")[2]\n",
    "\n",
    "    df_raw['INSTALLMENT'] = df_raw['Installment_full'].str.partition(\"x\")[2].str.partition(\"R$ \")[2]\n",
    "    df_raw['INSTALLMENT'] = df_raw['INSTALLMENT'].str.replace(\",\",\".\")\n",
    "\n",
    "    df_raw['PRODUCT'] = title\n",
    "\n",
    "    df_raw['MORE'] = More_offers_americanas\n",
    "\n",
    "    df_raw['ID'] = df_raw['URL'].str.partition(\"produto/\")[2].str.partition('?')[0]\n",
    "\n",
    "    df_raw = df_raw[['DATE', 'URL', 'MARKETPLACE', 'SELLER', 'PRICE', 'PARCEL', 'INSTALLMENT', 'ID', 'PRODUCT',  'MORE']]\n",
    "\n",
    "\n",
    "    return df_raw"
   ]
  },
  {
   "cell_type": "code",
   "execution_count": 60,
   "metadata": {
    "pycharm": {
     "name": "#%%\n"
    }
   },
   "outputs": [
    {
     "name": "stderr",
     "output_type": "stream",
     "text": [
      "C:\\Users\\pedro\\AppData\\Local\\Temp\\ipykernel_43496\\1739868269.py:22: FutureWarning: The default value of regex will change from True to False in a future version. In addition, single character regular expressions will *not* be treated as literal strings when regex=True.\n",
      "  df_raw['PRICE'] = df_raw['PRICE'].str.replace(\".\",\"\")\n"
     ]
    }
   ],
   "source": [
    "Dataset_Americanas = create_dataframe(Links_Americanas, Sellers_Americanas, Price_Americanas, Installment_Americanas_valor_parcela, Title_Americanas)"
   ]
  },
  {
   "cell_type": "code",
   "execution_count": 61,
   "metadata": {
    "pycharm": {
     "name": "#%%\n"
    }
   },
   "outputs": [
    {
     "data": {
      "text/plain": "           DATE                                                URL  \\\n0    2022-05-26  https://www.americanas.com.br/produto/13371036...   \n1    2022-05-26  https://www.americanas.com.br/produto/37195263...   \n2    2022-05-26  https://www.americanas.com.br/produto/40663058...   \n3    2022-05-26  https://www.americanas.com.br/produto/38397139...   \n4    2022-05-26  https://www.americanas.com.br/produto/47989815...   \n..          ...                                                ...   \n108  2022-05-26  https://www.americanas.com.br/produto/48009631...   \n109  2022-05-26  https://www.americanas.com.br/produto/61058374...   \n110  2022-05-26  https://www.americanas.com.br/produto/48387443...   \n111  2022-05-26  https://www.americanas.com.br/produto/23011597...   \n112  2022-05-26  https://www.americanas.com.br/produto/35940944...   \n\n    MARKETPLACE            SELLER    PRICE PARCEL INSTALLMENT          ID  \\\n0    Americanas         FiberMega   194.39      4       55.22   133710364   \n1    Americanas            SHOPAR   298.90      5       59.78  3719526302   \n2    Americanas          HD Store   328.88      6       54.81  4066305835   \n3    Americanas         Catarinas   644.00      8       80.50  3839713911   \n4    Americanas  KADRI TECNOLOGIA   399.00      7       57.00  4798981505   \n..          ...               ...      ...    ...         ...         ...   \n108  Americanas            Haylou  3080.14      8      427.79  4800963147   \n109  Americanas          Tendinfo  6788.00      8      848.50    61058374   \n110  Americanas         MultiShop  3911.29      8      488.91  4838744302   \n111  Americanas           MIRANDA  2037.91      8      254.73  2301159787   \n112  Americanas           INPOWER  1278.20      8      192.50  3594094411   \n\n                                               PRODUCT  \\\n0              Mesa Digitalizadora One By Wacom CTL472   \n1    Mesa Digitalizadora Wacom One CTL472 Pequena B...   \n2                 Mesa Digitalizadora Wacom Ctl472 One   \n3                 Mesa Digitalizadora CTL472 One Wacom   \n4      Mesa digitalizadora CTL472 one by wacom redwood   \n..                                                 ...   \n108  Mesa Digitalizadora Wacom Intuos Pro PTH660 co...   \n109  Mesa Digitalizadora Wacom Intuos Pro Média (pt...   \n110  Mesa Digitalizadora Wacom Intuos Pro PTH660 co...   \n111  Mesa Digitalizadora Intuos Bluetooth Média - V...   \n112  Mesa Digitalizadora Wacom Intuos M Bluetooth P...   \n\n                                      MORE  \n0    26 outras ofertas deste mesmo produto  \n1                                     Erro  \n2                                     Erro  \n3                                     Erro  \n4                                     Erro  \n..                                     ...  \n108                                   Erro  \n109                                   Erro  \n110                                   Erro  \n111                                   Erro  \n112                                   Erro  \n\n[113 rows x 10 columns]",
      "text/html": "<div>\n<style scoped>\n    .dataframe tbody tr th:only-of-type {\n        vertical-align: middle;\n    }\n\n    .dataframe tbody tr th {\n        vertical-align: top;\n    }\n\n    .dataframe thead th {\n        text-align: right;\n    }\n</style>\n<table border=\"1\" class=\"dataframe\">\n  <thead>\n    <tr style=\"text-align: right;\">\n      <th></th>\n      <th>DATE</th>\n      <th>URL</th>\n      <th>MARKETPLACE</th>\n      <th>SELLER</th>\n      <th>PRICE</th>\n      <th>PARCEL</th>\n      <th>INSTALLMENT</th>\n      <th>ID</th>\n      <th>PRODUCT</th>\n      <th>MORE</th>\n    </tr>\n  </thead>\n  <tbody>\n    <tr>\n      <th>0</th>\n      <td>2022-05-26</td>\n      <td>https://www.americanas.com.br/produto/13371036...</td>\n      <td>Americanas</td>\n      <td>FiberMega</td>\n      <td>194.39</td>\n      <td>4</td>\n      <td>55.22</td>\n      <td>133710364</td>\n      <td>Mesa Digitalizadora One By Wacom CTL472</td>\n      <td>26 outras ofertas deste mesmo produto</td>\n    </tr>\n    <tr>\n      <th>1</th>\n      <td>2022-05-26</td>\n      <td>https://www.americanas.com.br/produto/37195263...</td>\n      <td>Americanas</td>\n      <td>SHOPAR</td>\n      <td>298.90</td>\n      <td>5</td>\n      <td>59.78</td>\n      <td>3719526302</td>\n      <td>Mesa Digitalizadora Wacom One CTL472 Pequena B...</td>\n      <td>Erro</td>\n    </tr>\n    <tr>\n      <th>2</th>\n      <td>2022-05-26</td>\n      <td>https://www.americanas.com.br/produto/40663058...</td>\n      <td>Americanas</td>\n      <td>HD Store</td>\n      <td>328.88</td>\n      <td>6</td>\n      <td>54.81</td>\n      <td>4066305835</td>\n      <td>Mesa Digitalizadora Wacom Ctl472 One</td>\n      <td>Erro</td>\n    </tr>\n    <tr>\n      <th>3</th>\n      <td>2022-05-26</td>\n      <td>https://www.americanas.com.br/produto/38397139...</td>\n      <td>Americanas</td>\n      <td>Catarinas</td>\n      <td>644.00</td>\n      <td>8</td>\n      <td>80.50</td>\n      <td>3839713911</td>\n      <td>Mesa Digitalizadora CTL472 One Wacom</td>\n      <td>Erro</td>\n    </tr>\n    <tr>\n      <th>4</th>\n      <td>2022-05-26</td>\n      <td>https://www.americanas.com.br/produto/47989815...</td>\n      <td>Americanas</td>\n      <td>KADRI TECNOLOGIA</td>\n      <td>399.00</td>\n      <td>7</td>\n      <td>57.00</td>\n      <td>4798981505</td>\n      <td>Mesa digitalizadora CTL472 one by wacom redwood</td>\n      <td>Erro</td>\n    </tr>\n    <tr>\n      <th>...</th>\n      <td>...</td>\n      <td>...</td>\n      <td>...</td>\n      <td>...</td>\n      <td>...</td>\n      <td>...</td>\n      <td>...</td>\n      <td>...</td>\n      <td>...</td>\n      <td>...</td>\n    </tr>\n    <tr>\n      <th>108</th>\n      <td>2022-05-26</td>\n      <td>https://www.americanas.com.br/produto/48009631...</td>\n      <td>Americanas</td>\n      <td>Haylou</td>\n      <td>3080.14</td>\n      <td>8</td>\n      <td>427.79</td>\n      <td>4800963147</td>\n      <td>Mesa Digitalizadora Wacom Intuos Pro PTH660 co...</td>\n      <td>Erro</td>\n    </tr>\n    <tr>\n      <th>109</th>\n      <td>2022-05-26</td>\n      <td>https://www.americanas.com.br/produto/61058374...</td>\n      <td>Americanas</td>\n      <td>Tendinfo</td>\n      <td>6788.00</td>\n      <td>8</td>\n      <td>848.50</td>\n      <td>61058374</td>\n      <td>Mesa Digitalizadora Wacom Intuos Pro Média (pt...</td>\n      <td>Erro</td>\n    </tr>\n    <tr>\n      <th>110</th>\n      <td>2022-05-26</td>\n      <td>https://www.americanas.com.br/produto/48387443...</td>\n      <td>Americanas</td>\n      <td>MultiShop</td>\n      <td>3911.29</td>\n      <td>8</td>\n      <td>488.91</td>\n      <td>4838744302</td>\n      <td>Mesa Digitalizadora Wacom Intuos Pro PTH660 co...</td>\n      <td>Erro</td>\n    </tr>\n    <tr>\n      <th>111</th>\n      <td>2022-05-26</td>\n      <td>https://www.americanas.com.br/produto/23011597...</td>\n      <td>Americanas</td>\n      <td>MIRANDA</td>\n      <td>2037.91</td>\n      <td>8</td>\n      <td>254.73</td>\n      <td>2301159787</td>\n      <td>Mesa Digitalizadora Intuos Bluetooth Média - V...</td>\n      <td>Erro</td>\n    </tr>\n    <tr>\n      <th>112</th>\n      <td>2022-05-26</td>\n      <td>https://www.americanas.com.br/produto/35940944...</td>\n      <td>Americanas</td>\n      <td>INPOWER</td>\n      <td>1278.20</td>\n      <td>8</td>\n      <td>192.50</td>\n      <td>3594094411</td>\n      <td>Mesa Digitalizadora Wacom Intuos M Bluetooth P...</td>\n      <td>Erro</td>\n    </tr>\n  </tbody>\n</table>\n<p>113 rows × 10 columns</p>\n</div>"
     },
     "execution_count": 61,
     "metadata": {},
     "output_type": "execute_result"
    }
   ],
   "source": [
    "Dataset_Americanas"
   ]
  },
  {
   "cell_type": "code",
   "execution_count": 62,
   "metadata": {
    "pycharm": {
     "name": "#%%\n"
    }
   },
   "outputs": [],
   "source": [
    "Dataset_Americanas.to_excel(r\"C:\\Users\\pedro\\Documents\\Turte Brand Protection\\Turtle_Thinker_Alpha_0.1\\Americanas_Wacom.xlsx\", index=False)"
   ]
  },
  {
   "cell_type": "code",
   "execution_count": null,
   "metadata": {
    "pycharm": {
     "name": "#%%\n"
    }
   },
   "outputs": [],
   "source": []
  }
 ],
 "metadata": {
  "interpreter": {
   "hash": "c3503f95e0e8f4afdf6702396a7a2a29cae9f67572acfe092405dcaa2579b817"
  },
  "kernelspec": {
   "display_name": "Python 3.10.4 64-bit",
   "language": "python",
   "name": "python3"
  },
  "language_info": {
   "codemirror_mode": {
    "name": "ipython",
    "version": 3
   },
   "file_extension": ".py",
   "mimetype": "text/x-python",
   "name": "python",
   "nbconvert_exporter": "python",
   "pygments_lexer": "ipython3",
   "version": "3.10.4"
  },
  "orig_nbformat": 4
 },
 "nbformat": 4,
 "nbformat_minor": 2
}