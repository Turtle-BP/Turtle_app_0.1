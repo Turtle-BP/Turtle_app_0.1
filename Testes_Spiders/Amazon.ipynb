{
 "cells": [
  {
   "cell_type": "code",
   "execution_count": 81,
   "metadata": {
    "pycharm": {
     "name": "#%%\n"
    }
   },
   "outputs": [],
   "source": [
    "#Importando as bibliotecas\n",
    "import pandas as pd\n",
    "import time\n",
    "from selenium import webdriver\n",
    "from selenium.webdriver.chrome.options import Options\n",
    "from selenium.webdriver.common.by import By\n",
    "from requests_html import HTML\n",
    "from bs4 import BeautifulSoup\n",
    "from selenium.webdriver.chrome.webdriver import WebDriver\n",
    "from selenium.common.exceptions import WebDriverException\n",
    "from tqdm import tqdm\n",
    "import sqlite3\n",
    "import datetime\n",
    "import os"
   ]
  },
  {
   "cell_type": "code",
   "execution_count": 82,
   "metadata": {
    "pycharm": {
     "name": "#%%\n"
    }
   },
   "outputs": [],
   "source": [
    "#Congiruando o driver\n",
    "options = Options()\n",
    "options.add_argument(\"--headless\")\n",
    "options.add_argument('--disable-gpu')\n",
    "options.add_argument(\"--log-level=3\")\n",
    "options.add_argument('--no-sandbox')\n",
    "options.add_experimental_option('useAutomationExtension', False)\n",
    "options.add_experimental_option('excludeSwitches', ['enable-logging'])"
   ]
  },
  {
   "cell_type": "code",
   "execution_count": 83,
   "metadata": {
    "pycharm": {
     "name": "#%%\n"
    }
   },
   "outputs": [],
   "source": [
    "#Criando listas\n",
    "Urls_amazon = []\n",
    "\n",
    "Urls_amazon_more = []\n",
    "\n",
    "Products_Links = []\n",
    "\n",
    "Amazon_price = []\n",
    "Amazon_price_2 = []\n",
    "\n",
    "Amazon_seller = []\n",
    "Amazon_seller_2 = []\n",
    "\n",
    "Amazon_title = []\n",
    "Amazon_title_2 = []\n",
    "\n",
    "Amazon_installment_price_full = []\n",
    "Amazon_installment_price_full_2 = []\n",
    "\n",
    "\n",
    "internacional_list = []\n",
    "more_offers_list = []\n",
    "\n",
    "\n",
    "#Listas Button Sellers\n",
    "Amazon_Button_Sellers = []\n",
    "Amazon_Button_Price = []\n",
    "Amazon_Button_ASIN = []\n",
    "\n",
    "#Listas More Sellers\n",
    "Amazon_seller_more = []\n",
    "Amazon_price_more = []\n",
    "Amazon_title_more = []\n",
    "Amazon_ID_more = []"
   ]
  },
  {
   "cell_type": "code",
   "execution_count": 84,
   "outputs": [],
   "source": [
    "#Listas Button Sellers\n",
    "Amazon_Button_Sellers = []\n",
    "Amazon_Button_Price = []\n",
    "Amazon_Button_ASIN = []\n",
    "\n",
    "#Listas More Sellers\n",
    "Amazon_seller_more = []\n",
    "Amazon_price_more = []\n",
    "Amazon_title_more = []\n",
    "Amazon_ID_More = []"
   ],
   "metadata": {
    "collapsed": false,
    "pycharm": {
     "name": "#%%\n"
    }
   }
  },
  {
   "cell_type": "code",
   "execution_count": 85,
   "metadata": {
    "pycharm": {
     "name": "#%%\n"
    }
   },
   "outputs": [
    {
     "name": "stderr",
     "output_type": "stream",
     "text": [
      "C:\\Users\\pedro\\AppData\\Local\\Temp\\ipykernel_36032\\3380238038.py:1: DeprecationWarning: executable_path has been deprecated, please pass in a Service object\n",
      "  driver = webdriver.Chrome(r\"C:\\Users\\pedro\\Documents\\Turte Brand Protection\\Turtle_Thinker_Alpha_0.1\\Data\\Selenium\\Selenium_101\", options=options)\n"
     ]
    }
   ],
   "source": [
    "driver = webdriver.Chrome(r\"C:\\Users\\pedro\\Documents\\Turte Brand Protection\\Turtle_Thinker_Alpha_0.1\\Data\\Selenium\\Selenium_101\", options=options)"
   ]
  },
  {
   "cell_type": "code",
   "execution_count": 86,
   "metadata": {
    "pycharm": {
     "name": "#%%\n"
    }
   },
   "outputs": [],
   "source": [
    "#Função para criar os links de busca\n",
    "def getting_n_creating_amazon(brand):\n",
    "\n",
    "    Database_path = r\"C:\\Users\\pedro\\Documents\\Turte Brand Protection\\Turtle_Thinker_Alpha_0.1\" + \"\\Data\\\\\" + brand + \"\\\\\" + brand + \".db\"\n",
    "\n",
    "    table = brand + \"_products\"\n",
    "\n",
    "    #Criando a Query\n",
    "    query = \"SELECT * FROM \" + table\n",
    "\n",
    "    #Entrando dentro do databse\n",
    "    connection = sqlite3.connect(Database_path)\n",
    "\n",
    "    #Criando o dataset em brando\n",
    "    df = pd.read_sql_query(query, connection)\n",
    "\n",
    "    #Passando todo o Dataframe para LowerCase\n",
    "    df = df.apply(lambda x: x.astype(str).str.lower())\n",
    "\n",
    "    #Arrumando espaços vazios\n",
    "    # Arrumano os espaços vazios\n",
    "    df['Product_Name'] = df['Product_Name'].str.replace(\" \", \"+\")\n",
    "\n",
    "    # Criando uma nova coluna no database com a formatação certa\n",
    "    df['Urls'] = df['Brand'] + \"+\" + df['Product_Name']\n",
    "\n",
    "    # Criando a nova coluna que são as urls de pesquisa\n",
    "    df['Urls_search'] = \"https://www.amazon.com.br/s?k=\" + df['Urls']\n",
    "\n",
    "    return df"
   ]
  },
  {
   "cell_type": "code",
   "execution_count": 87,
   "metadata": {
    "pycharm": {
     "name": "#%%\n"
    }
   },
   "outputs": [],
   "source": [
    "Df_Products_raw = getting_n_creating_amazon(\"Motorola\")"
   ]
  },
  {
   "cell_type": "code",
   "execution_count": 88,
   "metadata": {
    "pycharm": {
     "name": "#%%\n"
    }
   },
   "outputs": [],
   "source": [
    "#Função pegando Links\n",
    "def search_links(url):\n",
    "    global Urls_amazon\n",
    "\n",
    "    time.sleep(5)\n",
    "\n",
    "    driver.get(url)\n",
    "\n",
    "    time.sleep(5)\n",
    "\n",
    "    body_el = driver.find_element(By.CSS_SELECTOR, 'body')\n",
    "    html_str = body_el.get_attribute('innerHTML')\n",
    "    html_obj = HTML(html=html_str)\n",
    "\n",
    "    Links = [x for x in html_obj.links]\n",
    "    products_links = [f'https://www.amazon.com.br{x}' for x in Links]\n",
    "\n",
    "    for link in products_links:\n",
    "        Urls_amazon.append(link)\n",
    "\n",
    "    Urls_amazon = [s for s in Urls_amazon if '/dp/' in s]\n",
    "    Urls_amazon = [s for s in Urls_amazon if not '#customerReviews' in s]\n",
    "\n",
    "    try:\n",
    "        Soup = BeautifulSoup(driver.page_source, 'html.parser')\n",
    "        next_page = \"https://www.amazon.com.br\" + Soup.find(class_='s-pagination-item s-pagination-next s-pagination-button s-pagination-separator')['href']\n",
    "        print(next_page)\n",
    "\n",
    "        search_links(next_page)\n",
    "    except:\n",
    "        pass"
   ]
  },
  {
   "cell_type": "code",
   "execution_count": 89,
   "metadata": {
    "pycharm": {
     "name": "#%%\n"
    }
   },
   "outputs": [
    {
     "name": "stderr",
     "output_type": "stream",
     "text": [
      "100%|██████████| 14/14 [02:35<00:00, 11.13s/it]\n"
     ]
    }
   ],
   "source": [
    "for url in tqdm(Df_Products_raw['Urls_search']):\n",
    "    search_links(url)"
   ]
  },
  {
   "cell_type": "code",
   "execution_count": 90,
   "outputs": [
    {
     "name": "stdout",
     "output_type": "stream",
     "text": [
      "290\n"
     ]
    }
   ],
   "source": [
    "print(len(Urls_amazon))"
   ],
   "metadata": {
    "collapsed": false,
    "pycharm": {
     "name": "#%%\n"
    }
   }
  },
  {
   "cell_type": "code",
   "execution_count": 91,
   "metadata": {
    "pycharm": {
     "name": "#%%\n"
    }
   },
   "outputs": [],
   "source": [
    "#Limpando as urls\n",
    "def clean_link(urls, brand):\n",
    "    #Criando a conexão com a tabela de exclusão \n",
    "    Database_exclusion = r\"C:\\Users\\pedro\\Documents\\Turte Brand Protection\\Turtle_Thinker_Alpha_0.1\" + \"\\Data\\\\\" + brand + \"\\\\\" + brand + \".db\"\n",
    "\n",
    "    table = brand + \"_exclusao\"\n",
    "\n",
    "    #Criando a Query\n",
    "    query = \"SELECT * FROM \" + table\n",
    "\n",
    "    connection = sqlite3.connect(Database_exclusion)\n",
    "\n",
    "    #Criando o dataset em brando\n",
    "    df_itens = pd.read_sql_query(query, connection)\n",
    "\n",
    "    clean_urls = pd.DataFrame()\n",
    "\n",
    "    clean_urls['Urls_Completas'] = urls\n",
    "    clean_urls['Urls_limpas'] = clean_urls['Urls_Completas'].str.partition(\"ref\")[0]\n",
    "\n",
    "    Urls_limpas = clean_urls['Urls_limpas'].tolist()\n",
    "\n",
    "    for word in df_itens['Words']:\n",
    "         Urls_limpas = [s for s in Urls_limpas if not word in s]\n",
    "\n",
    "    clean_urls = pd.DataFrame()\n",
    "\n",
    "    clean_urls['Urls_finais'] = Urls_limpas\n",
    "\n",
    "    clean_urls['ASIN'] = clean_urls['Urls_finais'].str.partition(\"/dp/\")[2].str.partition(\"/\")[0]\n",
    "\n",
    "    clean_urls.drop_duplicates(subset='ASIN',inplace=True)\n",
    "    clean_urls.reset_index(inplace=True, drop=True)\n",
    "    return clean_urls"
   ]
  },
  {
   "cell_type": "code",
   "execution_count": 92,
   "metadata": {
    "pycharm": {
     "name": "#%%\n"
    }
   },
   "outputs": [],
   "source": [
    "New_urls = clean_link(Urls_amazon, 'Motorola')"
   ]
  },
  {
   "cell_type": "code",
   "execution_count": 93,
   "outputs": [
    {
     "data": {
      "text/plain": "                                          Urls_finais        ASIN\n0   https://www.amazon.com.br/Bab%C3%A1-Eletr%C3%B...  B07BBTDDNF\n1   https://www.amazon.com.br/Eletr%C3%B4nica-Moto...  B07M9ZDJ7J\n2   https://www.amazon.com.br/Eletr%C3%B4nica-Moto...  B01IRIVFRS\n3   https://www.amazon.com.br/Eletronica-Motorola-...  B084QZ7JPF\n4   https://www.amazon.com.br/Bab%C3%A1-Eletr%C3%B...  B08QFCNPXJ\n5   https://www.amazon.com.br/Motorola-Bab%C3%A1-E...  B09KMFZN2Y\n6   https://www.amazon.com.br/eletr%C3%B4nica-term...  B088GQ387H\n7   https://www.amazon.com.br/atualizado-infraverm...  B097NDPXBH\n8   https://www.amazon.com.br/Acess%C3%B3rio-Eletr...  B09CDGLXR5\n9   https://www.amazon.com.br/Eletr%C3%B4nica-Moto...  B01N807E5P\n10  https://www.amazon.com.br/Eletronica-Digital-M...  B0731J6K8M\n11  https://www.amazon.com.br/C%C3%A2mera-Monitora...  B07XLML2YS\n12  https://www.amazon.com.br/Eletr%C3%B4nica-Digi...  B07574YDHT\n13  https://www.amazon.com.br/Motorola-MBP-36S-SC-...  B00NSF730O\n14  https://www.amazon.com.br/Bab%C3%A1-Eletr%C3%B...  B08NFK5QCB\n15  https://www.amazon.com.br/Motorola-Baba-Eletro...  B08FVXB74T\n16  https://www.amazon.com.br/C%C3%A2mera-Seguran%...  B096Y551MK\n17  https://www.amazon.com.br/Bab%C3%A1-Eletr%C3%B...  B078KHB3YW\n18  https://www.amazon.com.br/C%C3%A2mera-3-2-Pole...  B081131PJQ\n19  https://www.amazon.com.br/Eletr%C3%B4nica-Digi...  B07HNPNC36\n20  https://www.amazon.com.br/Eletronica-Digital-C...  B076LD2CMK\n21  https://www.amazon.com.br/dp/B08MQL92QM/?_enco...  B08MQL92QM\n22  https://www.amazon.com.br/Motorola-Baby-Monito...  B09BP6TMMF\n23  https://www.amazon.com.br/C%C3%A2mera-Alta-Res...  B0796W64C8\n24  https://www.amazon.com.br/Estereo-Intra-Auricu...  B06XX3Z8KS\n25  https://www.amazon.com.br/Motorola-Bab%C3%A1-E...  B09NCGHLN2\n26  https://www.amazon.com.br/Bab%C3%A1-Eletr%C3%B...  B085JS7ZZ5\n27  https://www.amazon.com.br/Motorola-Baby-Monito...  B09LZLDK5P\n28  https://www.amazon.com.br/Motorola-Baby-Monito...  B09D1Q395Z\n29  https://www.amazon.com.br/Eletr%C3%B4nica-segu...  B088MFP63N\n30  https://www.amazon.com.br/Motorola-Bab%C3%A1-E...  B09KMDWDZP\n31  https://www.amazon.com.br/Motorola-Baby-Monito...  B09D1DLK1D\n32  https://www.amazon.com.br/C%C3%A2mera-3-2-Pole...  B088MFFJ1H\n33  https://www.amazon.com.br/Camera-Alta-Resolu%C...  B00SPCI7TG",
      "text/html": "<div>\n<style scoped>\n    .dataframe tbody tr th:only-of-type {\n        vertical-align: middle;\n    }\n\n    .dataframe tbody tr th {\n        vertical-align: top;\n    }\n\n    .dataframe thead th {\n        text-align: right;\n    }\n</style>\n<table border=\"1\" class=\"dataframe\">\n  <thead>\n    <tr style=\"text-align: right;\">\n      <th></th>\n      <th>Urls_finais</th>\n      <th>ASIN</th>\n    </tr>\n  </thead>\n  <tbody>\n    <tr>\n      <th>0</th>\n      <td>https://www.amazon.com.br/Bab%C3%A1-Eletr%C3%B...</td>\n      <td>B07BBTDDNF</td>\n    </tr>\n    <tr>\n      <th>1</th>\n      <td>https://www.amazon.com.br/Eletr%C3%B4nica-Moto...</td>\n      <td>B07M9ZDJ7J</td>\n    </tr>\n    <tr>\n      <th>2</th>\n      <td>https://www.amazon.com.br/Eletr%C3%B4nica-Moto...</td>\n      <td>B01IRIVFRS</td>\n    </tr>\n    <tr>\n      <th>3</th>\n      <td>https://www.amazon.com.br/Eletronica-Motorola-...</td>\n      <td>B084QZ7JPF</td>\n    </tr>\n    <tr>\n      <th>4</th>\n      <td>https://www.amazon.com.br/Bab%C3%A1-Eletr%C3%B...</td>\n      <td>B08QFCNPXJ</td>\n    </tr>\n    <tr>\n      <th>5</th>\n      <td>https://www.amazon.com.br/Motorola-Bab%C3%A1-E...</td>\n      <td>B09KMFZN2Y</td>\n    </tr>\n    <tr>\n      <th>6</th>\n      <td>https://www.amazon.com.br/eletr%C3%B4nica-term...</td>\n      <td>B088GQ387H</td>\n    </tr>\n    <tr>\n      <th>7</th>\n      <td>https://www.amazon.com.br/atualizado-infraverm...</td>\n      <td>B097NDPXBH</td>\n    </tr>\n    <tr>\n      <th>8</th>\n      <td>https://www.amazon.com.br/Acess%C3%B3rio-Eletr...</td>\n      <td>B09CDGLXR5</td>\n    </tr>\n    <tr>\n      <th>9</th>\n      <td>https://www.amazon.com.br/Eletr%C3%B4nica-Moto...</td>\n      <td>B01N807E5P</td>\n    </tr>\n    <tr>\n      <th>10</th>\n      <td>https://www.amazon.com.br/Eletronica-Digital-M...</td>\n      <td>B0731J6K8M</td>\n    </tr>\n    <tr>\n      <th>11</th>\n      <td>https://www.amazon.com.br/C%C3%A2mera-Monitora...</td>\n      <td>B07XLML2YS</td>\n    </tr>\n    <tr>\n      <th>12</th>\n      <td>https://www.amazon.com.br/Eletr%C3%B4nica-Digi...</td>\n      <td>B07574YDHT</td>\n    </tr>\n    <tr>\n      <th>13</th>\n      <td>https://www.amazon.com.br/Motorola-MBP-36S-SC-...</td>\n      <td>B00NSF730O</td>\n    </tr>\n    <tr>\n      <th>14</th>\n      <td>https://www.amazon.com.br/Bab%C3%A1-Eletr%C3%B...</td>\n      <td>B08NFK5QCB</td>\n    </tr>\n    <tr>\n      <th>15</th>\n      <td>https://www.amazon.com.br/Motorola-Baba-Eletro...</td>\n      <td>B08FVXB74T</td>\n    </tr>\n    <tr>\n      <th>16</th>\n      <td>https://www.amazon.com.br/C%C3%A2mera-Seguran%...</td>\n      <td>B096Y551MK</td>\n    </tr>\n    <tr>\n      <th>17</th>\n      <td>https://www.amazon.com.br/Bab%C3%A1-Eletr%C3%B...</td>\n      <td>B078KHB3YW</td>\n    </tr>\n    <tr>\n      <th>18</th>\n      <td>https://www.amazon.com.br/C%C3%A2mera-3-2-Pole...</td>\n      <td>B081131PJQ</td>\n    </tr>\n    <tr>\n      <th>19</th>\n      <td>https://www.amazon.com.br/Eletr%C3%B4nica-Digi...</td>\n      <td>B07HNPNC36</td>\n    </tr>\n    <tr>\n      <th>20</th>\n      <td>https://www.amazon.com.br/Eletronica-Digital-C...</td>\n      <td>B076LD2CMK</td>\n    </tr>\n    <tr>\n      <th>21</th>\n      <td>https://www.amazon.com.br/dp/B08MQL92QM/?_enco...</td>\n      <td>B08MQL92QM</td>\n    </tr>\n    <tr>\n      <th>22</th>\n      <td>https://www.amazon.com.br/Motorola-Baby-Monito...</td>\n      <td>B09BP6TMMF</td>\n    </tr>\n    <tr>\n      <th>23</th>\n      <td>https://www.amazon.com.br/C%C3%A2mera-Alta-Res...</td>\n      <td>B0796W64C8</td>\n    </tr>\n    <tr>\n      <th>24</th>\n      <td>https://www.amazon.com.br/Estereo-Intra-Auricu...</td>\n      <td>B06XX3Z8KS</td>\n    </tr>\n    <tr>\n      <th>25</th>\n      <td>https://www.amazon.com.br/Motorola-Bab%C3%A1-E...</td>\n      <td>B09NCGHLN2</td>\n    </tr>\n    <tr>\n      <th>26</th>\n      <td>https://www.amazon.com.br/Bab%C3%A1-Eletr%C3%B...</td>\n      <td>B085JS7ZZ5</td>\n    </tr>\n    <tr>\n      <th>27</th>\n      <td>https://www.amazon.com.br/Motorola-Baby-Monito...</td>\n      <td>B09LZLDK5P</td>\n    </tr>\n    <tr>\n      <th>28</th>\n      <td>https://www.amazon.com.br/Motorola-Baby-Monito...</td>\n      <td>B09D1Q395Z</td>\n    </tr>\n    <tr>\n      <th>29</th>\n      <td>https://www.amazon.com.br/Eletr%C3%B4nica-segu...</td>\n      <td>B088MFP63N</td>\n    </tr>\n    <tr>\n      <th>30</th>\n      <td>https://www.amazon.com.br/Motorola-Bab%C3%A1-E...</td>\n      <td>B09KMDWDZP</td>\n    </tr>\n    <tr>\n      <th>31</th>\n      <td>https://www.amazon.com.br/Motorola-Baby-Monito...</td>\n      <td>B09D1DLK1D</td>\n    </tr>\n    <tr>\n      <th>32</th>\n      <td>https://www.amazon.com.br/C%C3%A2mera-3-2-Pole...</td>\n      <td>B088MFFJ1H</td>\n    </tr>\n    <tr>\n      <th>33</th>\n      <td>https://www.amazon.com.br/Camera-Alta-Resolu%C...</td>\n      <td>B00SPCI7TG</td>\n    </tr>\n  </tbody>\n</table>\n</div>"
     },
     "execution_count": 93,
     "metadata": {},
     "output_type": "execute_result"
    }
   ],
   "source": [
    "New_urls"
   ],
   "metadata": {
    "collapsed": false,
    "pycharm": {
     "name": "#%%\n"
    }
   }
  },
  {
   "cell_type": "code",
   "execution_count": 94,
   "metadata": {
    "pycharm": {
     "name": "#%%\n"
    }
   },
   "outputs": [],
   "source": [
    "def search_atributes(url):\n",
    "    #Tempo para não haver o bloqueio\n",
    "    time.sleep(5)\n",
    "\n",
    "    #Entrando dentro do site com o driver\n",
    "    driver.get(url)\n",
    "\n",
    "    #Tempo para carregar\n",
    "    time.sleep(10)\n",
    "\n",
    "    body_el = driver.find_element(By.CSS_SELECTOR, 'body')\n",
    "    html_str = body_el.get_attribute('innerHTML')\n",
    "\n",
    "    #Criando o Soup\n",
    "    soup = BeautifulSoup(html_str, 'html.parser')\n",
    "\n",
    "    #Fazendo o try do nome do vendedor\n",
    "    try:\n",
    "        seller = soup.find(id='sellerProfileTriggerId').text\n",
    "        seller_2 = soup.find(\"a\", attrs={\"id\":'sellerProfileTriggerId'}).text\n",
    "        Amazon_seller.append(seller)\n",
    "        Amazon_seller_2.append(seller_2)\n",
    "    except:\n",
    "        Amazon_seller.append(\"Erro\")\n",
    "        Amazon_seller_2.append(\"Erro\")\n",
    "\n",
    "    #Fazendo o try do preço do produto a vista\n",
    "    try:\n",
    "        Div_Price = soup.find('div', attrs={\"data-feature-name\":\"corePrice\"})\n",
    "        price_2 = Div_Price.find(class_='a-offscreen').text\n",
    "        Amazon_price_2.append(price_2)\n",
    "    except:\n",
    "        try:\n",
    "            Amazon_price_2.append(soup.find(class_='a-button-text')['href'])\n",
    "        except:\n",
    "            Amazon_price_2.append(\"Erro\")\n",
    "\n",
    "    #Pegando o título do produto\n",
    "    try:\n",
    "        title = soup.find(id='productTitle').text\n",
    "        Amazon_title.append(title)\n",
    "    except:\n",
    "        Amazon_title.append('Erro')\n",
    "\n",
    "    #Pegando o internacional\n",
    "    try:\n",
    "        soup.find('img', attrs={'data-a-hires':'https://images-na.ssl-images-amazon.com/images/G/32/foreignseller/Foreign_Seller_Badge_v2._CB403622375_.png'})\n",
    "        internacional_list.append(\"Internacional\")\n",
    "    except:\n",
    "        internacional_list.append(\"Nacional\")\n",
    "\n",
    "    #Fazendo o try para pegar o preço da parcela\n",
    "    try:\n",
    "        installment = soup.find(class_='best-offer-name a-text-bold').text\n",
    "        Amazon_installment_price_full.append(installment)\n",
    "        \n",
    "        Div_installment = soup.find('div', attrs={'id':'installmentCalculator_feature_div'})\n",
    "        Installment_2 = Div_installment.find(class_='best-offer-name a-text-bold').text\n",
    "        Amazon_installment_price_full_2.append(Installment_2)\n",
    "    except:\n",
    "        Amazon_installment_price_full.append(\"0\")\n",
    "        Amazon_installment_price_full_2.append(\"Erro\")\n",
    "\n",
    "    #Fazendo o try para ver se tem mais ofertas\n",
    "    try:\n",
    "        Main_Div_More_offers = soup.find('div', attrs={\"id\":\"olpLinkWidget_feature_div\"})\n",
    "        Div_More_offers = Main_Div_More_offers.find('div', attrs={'class':'a-section olp-link-widget'})\n",
    "        Div_More_offers_text = Div_More_offers.find('div', attrs={'class':'olp-text-box'}).text\n",
    "        more_offers_list.append(Div_More_offers_text)\n",
    "    except:\n",
    "        more_offers_list.append(\"Comparar outras 0 ofertas\")\n"
   ]
  },
  {
   "cell_type": "code",
   "execution_count": 95,
   "metadata": {
    "pycharm": {
     "name": "#%%\n"
    }
   },
   "outputs": [
    {
     "name": "stderr",
     "output_type": "stream",
     "text": [
      "100%|██████████| 34/34 [09:48<00:00, 17.32s/it]\n"
     ]
    }
   ],
   "source": [
    "for url in tqdm(New_urls['Urls_finais']):\n",
    "    search_atributes(url)"
   ]
  },
  {
   "cell_type": "code",
   "execution_count": 96,
   "metadata": {
    "pycharm": {
     "name": "#%%\n"
    }
   },
   "outputs": [
    {
     "name": "stdout",
     "output_type": "stream",
     "text": [
      "34\n",
      "34\n",
      "34\n",
      "34\n",
      "34\n",
      "34\n"
     ]
    }
   ],
   "source": [
    "print(len(Amazon_title))\n",
    "print(len(Amazon_price_2))\n",
    "print(len(Amazon_seller_2))\n",
    "print(len(more_offers_list))\n",
    "print(len(Amazon_installment_price_full_2))\n",
    "print(len(internacional_list))"
   ]
  },
  {
   "cell_type": "code",
   "execution_count": 97,
   "metadata": {
    "pycharm": {
     "name": "#%%\n"
    }
   },
   "outputs": [],
   "source": [
    "def dataset_amazon(url, sellers, preco, titulo, more_url):\n",
    "    # Criando o DataFrame\n",
    "    Dataset_amazon = pd.DataFrame()\n",
    "\n",
    "    #\n",
    "    Hoje = pd.to_datetime('today', errors='ignore').date()\n",
    "\n",
    "    # Colocando os dados\n",
    "    Dataset_amazon['URL'] = url\n",
    "    \n",
    "    Dataset_amazon['DATE'] = Hoje\n",
    "\n",
    "    Dataset_amazon['MARKETPLACE'] = \"AMAZON\"\n",
    "\n",
    "    #Arrumando a coluna de sellers\n",
    "    Dataset_amazon['SELLER'] = sellers\n",
    "    Dataset_amazon['SELLER'] = Dataset_amazon['SELLER'].str.replace(\"Erro\",\"Amazon\", regex=False)\n",
    "\n",
    "    #Arrumando o preço \n",
    "    Dataset_amazon['PRICE'] = preco\n",
    "    Dataset_amazon['PRICE'] = Dataset_amazon['PRICE'].str.replace(\".\",\"\", regex=True)\n",
    "    Dataset_amazon['PRICE'] = Dataset_amazon['PRICE'].str.replace(\"R$\",\"\", regex=False)\n",
    "    Dataset_amazon['PRICE'] = Dataset_amazon['PRICE'].str.replace(\",\",\".\", regex=True)\n",
    "\n",
    "    #Arrumando os valores de installment \n",
    "    Dataset_amazon['INSTALLMENT FULL'] = Amazon_installment_price_full\n",
    "    Dataset_amazon['PARCEL'] = Dataset_amazon['INSTALLMENT FULL'].str.extract('(\\d+)')\n",
    "    Dataset_amazon['PARCEL'] = Dataset_amazon['PARCEL'].astype(\"int\")\n",
    "    Dataset_amazon['parcel_price_bruto'] = \\\n",
    "    Dataset_amazon['INSTALLMENT FULL'].str.partition(\"R$\")[2].str.partition(\" \")[2].str.partition(\" \")[0]\n",
    "    Dataset_amazon['Installment3'] = Dataset_amazon['parcel_price_bruto'].str.extract('(\\d+)')\n",
    "    Dataset_amazon['parcel_price_bruto'] = \\\n",
    "    Dataset_amazon['INSTALLMENT FULL'].str.partition(\"R$\")[2].str.partition(\" \")[2].str.partition(\" \")[0].str.partition(\",\")[2]\n",
    "    Dataset_amazon['Installment4'] = Dataset_amazon['parcel_price_bruto'].str.extract('(\\d+)')\n",
    "    Dataset_amazon['INSTALLMENT'] = Dataset_amazon['Installment3'] + \".\" + Dataset_amazon['Installment4']\n",
    "    Dataset_amazon['INSTALLMENT'] = Dataset_amazon['INSTALLMENT'].astype(\"float\")\n",
    "    Dataset_amazon['INSTALLMENT'] = Dataset_amazon['INSTALLMENT'].fillna(0)\n",
    "    Dataset_amazon['INSTALLMENT_PAYMENT'] = Dataset_amazon['PARCEL'] * Dataset_amazon['INSTALLMENT']\n",
    "\n",
    "\n",
    "    Dataset_amazon['ID'] = Dataset_amazon['URL'].str.partition('/dp/')[2].str.partition('/')[0]\n",
    "    Dataset_amazon['PRODUCT'] = titulo\n",
    "    Dataset_amazon['INTERNACIONAL'] = internacional_list\n",
    "\n",
    "    #Arrumando valores de mais sellers\n",
    "    Dataset_amazon['MORE'] = more_url\n",
    "    Dataset_amazon['MORE'] = Dataset_amazon['MORE'].str.partition(\"outras \")[2].str.partition(\" ofertas\")[0]\n",
    "    \n",
    "    Dataset_amazon['MORE'] = Dataset_amazon['MORE'].astype('int')\n",
    "    \n",
    "\n",
    "    Dataset_amazon = Dataset_amazon.drop(columns=[\"INSTALLMENT FULL\", \"Installment3\", \"Installment4\", \"parcel_price_bruto\"])\n",
    "\n",
    "    #Pegando os itens certos \n",
    "    #Dataset_amazon = Dataset_amazon[Dataset_amazon[\"PRICE\"] != \"Erro\"]\n",
    "    #Dataset_amazon['PRICE'] = Dataset_amazon['PRICE'].astype('float')\n",
    "\n",
    "\n",
    "    #Colocando na ordem correta\n",
    "    Dataset_amazon = Dataset_amazon[['DATE', 'URL', 'MARKETPLACE', 'SELLER', 'PRICE', 'PARCEL', 'INSTALLMENT', 'INSTALLMENT_PAYMENT', 'ID', 'PRODUCT','INTERNACIONAL', 'MORE']]\n",
    "\n",
    "    # if brand == \"GoPro\":\n",
    "    #     Dataset_amazon = Dataset_amazon[Dataset_amazon['PRICE'] > 900]\n",
    "    # elif brand == 'Motorola':\n",
    "    #     Dataset_amazon = Dataset_amazon[Dataset_amazon['PRICE'] > 70]\n",
    "    # elif brand == 'Wacom':\n",
    "    #     Dataset_amazon = Dataset_amazon[Dataset_amazon['PRICE'] > 100]\n",
    "    \n",
    "\n",
    "    return Dataset_amazon"
   ]
  },
  {
   "cell_type": "code",
   "execution_count": 98,
   "metadata": {
    "pycharm": {
     "name": "#%%\n"
    }
   },
   "outputs": [],
   "source": [
    "Df_final = dataset_amazon(New_urls['Urls_finais'], Amazon_seller_2, Amazon_price_2, Amazon_title, more_offers_list)"
   ]
  },
  {
   "cell_type": "code",
   "execution_count": 99,
   "outputs": [],
   "source": [
    "Df_final=  Df_final.reset_index(drop=True)"
   ],
   "metadata": {
    "collapsed": false,
    "pycharm": {
     "name": "#%%\n"
    }
   }
  },
  {
   "cell_type": "code",
   "execution_count": 100,
   "metadata": {
    "pycharm": {
     "name": "#%%\n"
    }
   },
   "outputs": [
    {
     "data": {
      "text/plain": "          DATE                                                URL MARKETPLACE  \\\n0   2022-06-02  https://www.amazon.com.br/Bab%C3%A1-Eletr%C3%B...      AMAZON   \n1   2022-06-02  https://www.amazon.com.br/Eletr%C3%B4nica-Moto...      AMAZON   \n2   2022-06-02  https://www.amazon.com.br/Eletr%C3%B4nica-Moto...      AMAZON   \n3   2022-06-02  https://www.amazon.com.br/Eletronica-Motorola-...      AMAZON   \n4   2022-06-02  https://www.amazon.com.br/Bab%C3%A1-Eletr%C3%B...      AMAZON   \n5   2022-06-02  https://www.amazon.com.br/Motorola-Bab%C3%A1-E...      AMAZON   \n6   2022-06-02  https://www.amazon.com.br/eletr%C3%B4nica-term...      AMAZON   \n7   2022-06-02  https://www.amazon.com.br/atualizado-infraverm...      AMAZON   \n8   2022-06-02  https://www.amazon.com.br/Acess%C3%B3rio-Eletr...      AMAZON   \n9   2022-06-02  https://www.amazon.com.br/Eletr%C3%B4nica-Moto...      AMAZON   \n10  2022-06-02  https://www.amazon.com.br/Eletronica-Digital-M...      AMAZON   \n11  2022-06-02  https://www.amazon.com.br/C%C3%A2mera-Monitora...      AMAZON   \n12  2022-06-02  https://www.amazon.com.br/Eletr%C3%B4nica-Digi...      AMAZON   \n13  2022-06-02  https://www.amazon.com.br/Motorola-MBP-36S-SC-...      AMAZON   \n14  2022-06-02  https://www.amazon.com.br/Bab%C3%A1-Eletr%C3%B...      AMAZON   \n15  2022-06-02  https://www.amazon.com.br/Motorola-Baba-Eletro...      AMAZON   \n16  2022-06-02  https://www.amazon.com.br/C%C3%A2mera-Seguran%...      AMAZON   \n17  2022-06-02  https://www.amazon.com.br/Bab%C3%A1-Eletr%C3%B...      AMAZON   \n18  2022-06-02  https://www.amazon.com.br/C%C3%A2mera-3-2-Pole...      AMAZON   \n19  2022-06-02  https://www.amazon.com.br/Eletr%C3%B4nica-Digi...      AMAZON   \n20  2022-06-02  https://www.amazon.com.br/Eletronica-Digital-C...      AMAZON   \n21  2022-06-02  https://www.amazon.com.br/dp/B08MQL92QM/?_enco...      AMAZON   \n22  2022-06-02  https://www.amazon.com.br/Motorola-Baby-Monito...      AMAZON   \n23  2022-06-02  https://www.amazon.com.br/C%C3%A2mera-Alta-Res...      AMAZON   \n24  2022-06-02  https://www.amazon.com.br/Estereo-Intra-Auricu...      AMAZON   \n25  2022-06-02  https://www.amazon.com.br/Motorola-Bab%C3%A1-E...      AMAZON   \n26  2022-06-02  https://www.amazon.com.br/Bab%C3%A1-Eletr%C3%B...      AMAZON   \n27  2022-06-02  https://www.amazon.com.br/Motorola-Baby-Monito...      AMAZON   \n28  2022-06-02  https://www.amazon.com.br/Motorola-Baby-Monito...      AMAZON   \n29  2022-06-02  https://www.amazon.com.br/Eletr%C3%B4nica-segu...      AMAZON   \n30  2022-06-02  https://www.amazon.com.br/Motorola-Bab%C3%A1-E...      AMAZON   \n31  2022-06-02  https://www.amazon.com.br/Motorola-Baby-Monito...      AMAZON   \n32  2022-06-02  https://www.amazon.com.br/C%C3%A2mera-3-2-Pole...      AMAZON   \n33  2022-06-02  https://www.amazon.com.br/Camera-Alta-Resolu%C...      AMAZON   \n\n           SELLER                                              PRICE  PARCEL  \\\n0          Amazon                                             899.00      10   \n1          Amazon                                             999.00      10   \n2          Amazon                                            1592.91      10   \n3      Thaun Shop                                            1677.15      10   \n4          Amazon                                            1502.91      10   \n5          Amazon                                             331.25      10   \n6          Wellao                                             375.00      10   \n7         ♑GMTDDP                                             352.99      10   \n8          Amazon                                             169.00       5   \n9          Amazon  /gp/offer-listing/B01N807E5P/ref=dp_olp_unknow...       0   \n10         Amazon                                            1179.00      10   \n11         Amazon                                             254.14     273   \n12         Amazon                                             768.90      10   \n13         Amazon                                            1439.91      10   \n14         Amazon                                            1937.37      10   \n15         Amazon                                            1259.00       1   \n16     Thaun Shop                                              90.55       3   \n17         Amazon  /gp/offer-listing/B078KHB3YW/ref=dp_olp_unknow...       0   \n18   ORIGEM STORE                                             413.90      10   \n19  MEIREMAGAZINE                                             348.97      10   \n20    Vou Comprar                                             399.99      10   \n21         Amazon                                            1804.05       1   \n22         Amazon  /gp/offer-listing/B09BP6TMMF/ref=dp_olp_unknow...       0   \n23    CRISS SHOP.                                             136.36       4   \n24         Amazon                                              40.90       0   \n25     Thaun Shop                                            1379.87      10   \n26         Wellao                                             490.00      10   \n27         Amazon  /gp/offer-listing/B09LZLDK5P/ref=dp_olp_unknow...       0   \n28         Amazon  /gp/offer-listing/B09D1Q395Z/ref=dp_olp_unknow...       0   \n29  MEIREMAGAZINE                                             349.99      10   \n30         Amazon                                             499.00      10   \n31         Amazon  /gp/offer-listing/B09D1DLK1D/ref=dp_olp_unknow...       0   \n32   Canzile Shop                                             407.99      10   \n33  Ponto do Nerd                                             169.66       5   \n\n    INSTALLMENT  INSTALLMENT_PAYMENT          ID  \\\n0         89.90               899.00  B07BBTDDNF   \n1         99.90               999.00  B07M9ZDJ7J   \n2        159.30              1593.00  B01IRIVFRS   \n3        167.76              1677.60  B084QZ7JPF   \n4        150.30              1503.00  B08QFCNPXJ   \n5         33.17               331.70  B09KMFZN2Y   \n6         37.50               375.00  B088GQ387H   \n7         35.38               353.80  B097NDPXBH   \n8         33.80               169.00  B09CDGLXR5   \n9          0.00                 0.00  B01N807E5P   \n10       117.90              1179.00  B0731J6K8M   \n11       273.58             74687.34  B07XLML2YS   \n12        76.89               768.90  B07574YDHT   \n13       144.00              1440.00  B00NSF730O   \n14       193.80              1938.00  B08NFK5QCB   \n15         1.93                 1.93  B08FVXB74T   \n16        30.19                90.57  B096Y551MK   \n17         0.00                 0.00  B078KHB3YW   \n18        41.39               413.90  B081131PJQ   \n19        34.96               349.60  B07HNPNC36   \n20        40.08               400.80  B076LD2CMK   \n21         1.00                 1.00  B08MQL92QM   \n22         0.00                 0.00  B09BP6TMMF   \n23        34.09               136.36  B0796W64C8   \n24         0.00                 0.00  B06XX3Z8KS   \n25       138.05              1380.50  B09NCGHLN2   \n26        49.00               490.00  B085JS7ZZ5   \n27         0.00                 0.00  B09LZLDK5P   \n28         0.00                 0.00  B09D1Q395Z   \n29        35.08               350.80  B088MFP63N   \n30        49.90               499.00  B09KMDWDZP   \n31         0.00                 0.00  B09D1DLK1D   \n32        40.88               408.80  B088MFFJ1H   \n33        33.94               169.70  B00SPCI7TG   \n\n                                              PRODUCT  INTERNACIONAL  MORE  \n0           Babá Eletrônica Digital com Câmera MBP...  Internacional     0  \n1           Babá Eletrônica Motorola MBP481 - Tela...  Internacional     2  \n2           Babá Eletrônica Motorola MBP36XL, Moto...  Internacional     0  \n3           Babá Eletronica Motorola MBP855 Connec...  Internacional     3  \n4           Babá Eletrônica Motorola MBP30A, Motor...  Internacional     2  \n5                Babá Eletrônica Motorola AM21         Internacional     0  \n6           Babá eletrônica com termômetro baby mo...  Internacional     3  \n7                   Monitor de bebê atualizado         Internacional    12  \n8           Acessório Babá Eletrônica STARGRIP, Mo...  Internacional     0  \n9           Baba Eletrônica Motorola Mbp-855 Conne...  Internacional     0  \n10          Babá Eletrônica Digital MBP667A Connec...  Internacional     0  \n11          Câmera de Monitoramento 360º, Wi-Fi Fu...  Internacional    28  \n12          Babá Eletrônica Digital com Câmera Biv...  Internacional    12  \n13           Baba Eletrônica, Motorola, Branco         Internacional     2  \n14          Babá Eletrônica Motorola EASE44Connect...  Internacional     3  \n15          Motorola Baba Eletronica Ease34, Motor...  Internacional     2  \n16          Câmera Segurança IP 637JBU e Cartão 16...  Internacional     2  \n17          Babá Eletrônica MBP668Connect com Tela...  Internacional     0  \n18          Câmera 3.2 Polegadas De Vídeo Sem Fio ...  Internacional    13  \n19          Babá Eletrônica Digital Com Video E Vi...  Internacional    10  \n20          Babá Eletrônica Digital com Câmera BB1...  Internacional    17  \n21          Apresentamos o Echo Show 15: Smart Dis...  Internacional     0  \n22          Motorola Baby Monitor VM855 - monitor ...  Internacional     0  \n23          Câmera Ip Hd 720 Alta Resolução WIFI b...  Internacional     6  \n24          Fone de Ouvido Estéreo Earbuds 2, Intr...  Internacional     4  \n25              Babá Eletrônica Motorola VM64C         Internacional     4  \n26          Babá Eletrônica Sem Fio Tela 4.3 Visão...  Internacional     5  \n27          Motorola Baby Monitor - Monitor de víd...  Internacional     0  \n28          Motorola Baby Monitor VM855 - Monitor ...  Internacional     0  \n29          Babá Eletrônica Digital Monitor de Beb...  Internacional     5  \n30               Babá Eletrônica Motorola AM24         Internacional     2  \n31          Motorola Baby Monitor VM85 - monitor d...  Internacional     0  \n32          Câmera 3.2 Polegadas De Vídeo Sem Fio ...  Internacional    12  \n33          Camera IP HD 720 Alta Resolução WiFi B...  Internacional     9  ",
      "text/html": "<div>\n<style scoped>\n    .dataframe tbody tr th:only-of-type {\n        vertical-align: middle;\n    }\n\n    .dataframe tbody tr th {\n        vertical-align: top;\n    }\n\n    .dataframe thead th {\n        text-align: right;\n    }\n</style>\n<table border=\"1\" class=\"dataframe\">\n  <thead>\n    <tr style=\"text-align: right;\">\n      <th></th>\n      <th>DATE</th>\n      <th>URL</th>\n      <th>MARKETPLACE</th>\n      <th>SELLER</th>\n      <th>PRICE</th>\n      <th>PARCEL</th>\n      <th>INSTALLMENT</th>\n      <th>INSTALLMENT_PAYMENT</th>\n      <th>ID</th>\n      <th>PRODUCT</th>\n      <th>INTERNACIONAL</th>\n      <th>MORE</th>\n    </tr>\n  </thead>\n  <tbody>\n    <tr>\n      <th>0</th>\n      <td>2022-06-02</td>\n      <td>https://www.amazon.com.br/Bab%C3%A1-Eletr%C3%B...</td>\n      <td>AMAZON</td>\n      <td>Amazon</td>\n      <td>899.00</td>\n      <td>10</td>\n      <td>89.90</td>\n      <td>899.00</td>\n      <td>B07BBTDDNF</td>\n      <td>Babá Eletrônica Digital com Câmera MBP...</td>\n      <td>Internacional</td>\n      <td>0</td>\n    </tr>\n    <tr>\n      <th>1</th>\n      <td>2022-06-02</td>\n      <td>https://www.amazon.com.br/Eletr%C3%B4nica-Moto...</td>\n      <td>AMAZON</td>\n      <td>Amazon</td>\n      <td>999.00</td>\n      <td>10</td>\n      <td>99.90</td>\n      <td>999.00</td>\n      <td>B07M9ZDJ7J</td>\n      <td>Babá Eletrônica Motorola MBP481 - Tela...</td>\n      <td>Internacional</td>\n      <td>2</td>\n    </tr>\n    <tr>\n      <th>2</th>\n      <td>2022-06-02</td>\n      <td>https://www.amazon.com.br/Eletr%C3%B4nica-Moto...</td>\n      <td>AMAZON</td>\n      <td>Amazon</td>\n      <td>1592.91</td>\n      <td>10</td>\n      <td>159.30</td>\n      <td>1593.00</td>\n      <td>B01IRIVFRS</td>\n      <td>Babá Eletrônica Motorola MBP36XL, Moto...</td>\n      <td>Internacional</td>\n      <td>0</td>\n    </tr>\n    <tr>\n      <th>3</th>\n      <td>2022-06-02</td>\n      <td>https://www.amazon.com.br/Eletronica-Motorola-...</td>\n      <td>AMAZON</td>\n      <td>Thaun Shop</td>\n      <td>1677.15</td>\n      <td>10</td>\n      <td>167.76</td>\n      <td>1677.60</td>\n      <td>B084QZ7JPF</td>\n      <td>Babá Eletronica Motorola MBP855 Connec...</td>\n      <td>Internacional</td>\n      <td>3</td>\n    </tr>\n    <tr>\n      <th>4</th>\n      <td>2022-06-02</td>\n      <td>https://www.amazon.com.br/Bab%C3%A1-Eletr%C3%B...</td>\n      <td>AMAZON</td>\n      <td>Amazon</td>\n      <td>1502.91</td>\n      <td>10</td>\n      <td>150.30</td>\n      <td>1503.00</td>\n      <td>B08QFCNPXJ</td>\n      <td>Babá Eletrônica Motorola MBP30A, Motor...</td>\n      <td>Internacional</td>\n      <td>2</td>\n    </tr>\n    <tr>\n      <th>5</th>\n      <td>2022-06-02</td>\n      <td>https://www.amazon.com.br/Motorola-Bab%C3%A1-E...</td>\n      <td>AMAZON</td>\n      <td>Amazon</td>\n      <td>331.25</td>\n      <td>10</td>\n      <td>33.17</td>\n      <td>331.70</td>\n      <td>B09KMFZN2Y</td>\n      <td>Babá Eletrônica Motorola AM21</td>\n      <td>Internacional</td>\n      <td>0</td>\n    </tr>\n    <tr>\n      <th>6</th>\n      <td>2022-06-02</td>\n      <td>https://www.amazon.com.br/eletr%C3%B4nica-term...</td>\n      <td>AMAZON</td>\n      <td>Wellao</td>\n      <td>375.00</td>\n      <td>10</td>\n      <td>37.50</td>\n      <td>375.00</td>\n      <td>B088GQ387H</td>\n      <td>Babá eletrônica com termômetro baby mo...</td>\n      <td>Internacional</td>\n      <td>3</td>\n    </tr>\n    <tr>\n      <th>7</th>\n      <td>2022-06-02</td>\n      <td>https://www.amazon.com.br/atualizado-infraverm...</td>\n      <td>AMAZON</td>\n      <td>♑GMTDDP</td>\n      <td>352.99</td>\n      <td>10</td>\n      <td>35.38</td>\n      <td>353.80</td>\n      <td>B097NDPXBH</td>\n      <td>Monitor de bebê atualizado</td>\n      <td>Internacional</td>\n      <td>12</td>\n    </tr>\n    <tr>\n      <th>8</th>\n      <td>2022-06-02</td>\n      <td>https://www.amazon.com.br/Acess%C3%B3rio-Eletr...</td>\n      <td>AMAZON</td>\n      <td>Amazon</td>\n      <td>169.00</td>\n      <td>5</td>\n      <td>33.80</td>\n      <td>169.00</td>\n      <td>B09CDGLXR5</td>\n      <td>Acessório Babá Eletrônica STARGRIP, Mo...</td>\n      <td>Internacional</td>\n      <td>0</td>\n    </tr>\n    <tr>\n      <th>9</th>\n      <td>2022-06-02</td>\n      <td>https://www.amazon.com.br/Eletr%C3%B4nica-Moto...</td>\n      <td>AMAZON</td>\n      <td>Amazon</td>\n      <td>/gp/offer-listing/B01N807E5P/ref=dp_olp_unknow...</td>\n      <td>0</td>\n      <td>0.00</td>\n      <td>0.00</td>\n      <td>B01N807E5P</td>\n      <td>Baba Eletrônica Motorola Mbp-855 Conne...</td>\n      <td>Internacional</td>\n      <td>0</td>\n    </tr>\n    <tr>\n      <th>10</th>\n      <td>2022-06-02</td>\n      <td>https://www.amazon.com.br/Eletronica-Digital-M...</td>\n      <td>AMAZON</td>\n      <td>Amazon</td>\n      <td>1179.00</td>\n      <td>10</td>\n      <td>117.90</td>\n      <td>1179.00</td>\n      <td>B0731J6K8M</td>\n      <td>Babá Eletrônica Digital MBP667A Connec...</td>\n      <td>Internacional</td>\n      <td>0</td>\n    </tr>\n    <tr>\n      <th>11</th>\n      <td>2022-06-02</td>\n      <td>https://www.amazon.com.br/C%C3%A2mera-Monitora...</td>\n      <td>AMAZON</td>\n      <td>Amazon</td>\n      <td>254.14</td>\n      <td>273</td>\n      <td>273.58</td>\n      <td>74687.34</td>\n      <td>B07XLML2YS</td>\n      <td>Câmera de Monitoramento 360º, Wi-Fi Fu...</td>\n      <td>Internacional</td>\n      <td>28</td>\n    </tr>\n    <tr>\n      <th>12</th>\n      <td>2022-06-02</td>\n      <td>https://www.amazon.com.br/Eletr%C3%B4nica-Digi...</td>\n      <td>AMAZON</td>\n      <td>Amazon</td>\n      <td>768.90</td>\n      <td>10</td>\n      <td>76.89</td>\n      <td>768.90</td>\n      <td>B07574YDHT</td>\n      <td>Babá Eletrônica Digital com Câmera Biv...</td>\n      <td>Internacional</td>\n      <td>12</td>\n    </tr>\n    <tr>\n      <th>13</th>\n      <td>2022-06-02</td>\n      <td>https://www.amazon.com.br/Motorola-MBP-36S-SC-...</td>\n      <td>AMAZON</td>\n      <td>Amazon</td>\n      <td>1439.91</td>\n      <td>10</td>\n      <td>144.00</td>\n      <td>1440.00</td>\n      <td>B00NSF730O</td>\n      <td>Baba Eletrônica, Motorola, Branco</td>\n      <td>Internacional</td>\n      <td>2</td>\n    </tr>\n    <tr>\n      <th>14</th>\n      <td>2022-06-02</td>\n      <td>https://www.amazon.com.br/Bab%C3%A1-Eletr%C3%B...</td>\n      <td>AMAZON</td>\n      <td>Amazon</td>\n      <td>1937.37</td>\n      <td>10</td>\n      <td>193.80</td>\n      <td>1938.00</td>\n      <td>B08NFK5QCB</td>\n      <td>Babá Eletrônica Motorola EASE44Connect...</td>\n      <td>Internacional</td>\n      <td>3</td>\n    </tr>\n    <tr>\n      <th>15</th>\n      <td>2022-06-02</td>\n      <td>https://www.amazon.com.br/Motorola-Baba-Eletro...</td>\n      <td>AMAZON</td>\n      <td>Amazon</td>\n      <td>1259.00</td>\n      <td>1</td>\n      <td>1.93</td>\n      <td>1.93</td>\n      <td>B08FVXB74T</td>\n      <td>Motorola Baba Eletronica Ease34, Motor...</td>\n      <td>Internacional</td>\n      <td>2</td>\n    </tr>\n    <tr>\n      <th>16</th>\n      <td>2022-06-02</td>\n      <td>https://www.amazon.com.br/C%C3%A2mera-Seguran%...</td>\n      <td>AMAZON</td>\n      <td>Thaun Shop</td>\n      <td>90.55</td>\n      <td>3</td>\n      <td>30.19</td>\n      <td>90.57</td>\n      <td>B096Y551MK</td>\n      <td>Câmera Segurança IP 637JBU e Cartão 16...</td>\n      <td>Internacional</td>\n      <td>2</td>\n    </tr>\n    <tr>\n      <th>17</th>\n      <td>2022-06-02</td>\n      <td>https://www.amazon.com.br/Bab%C3%A1-Eletr%C3%B...</td>\n      <td>AMAZON</td>\n      <td>Amazon</td>\n      <td>/gp/offer-listing/B078KHB3YW/ref=dp_olp_unknow...</td>\n      <td>0</td>\n      <td>0.00</td>\n      <td>0.00</td>\n      <td>B078KHB3YW</td>\n      <td>Babá Eletrônica MBP668Connect com Tela...</td>\n      <td>Internacional</td>\n      <td>0</td>\n    </tr>\n    <tr>\n      <th>18</th>\n      <td>2022-06-02</td>\n      <td>https://www.amazon.com.br/C%C3%A2mera-3-2-Pole...</td>\n      <td>AMAZON</td>\n      <td>ORIGEM STORE</td>\n      <td>413.90</td>\n      <td>10</td>\n      <td>41.39</td>\n      <td>413.90</td>\n      <td>B081131PJQ</td>\n      <td>Câmera 3.2 Polegadas De Vídeo Sem Fio ...</td>\n      <td>Internacional</td>\n      <td>13</td>\n    </tr>\n    <tr>\n      <th>19</th>\n      <td>2022-06-02</td>\n      <td>https://www.amazon.com.br/Eletr%C3%B4nica-Digi...</td>\n      <td>AMAZON</td>\n      <td>MEIREMAGAZINE</td>\n      <td>348.97</td>\n      <td>10</td>\n      <td>34.96</td>\n      <td>349.60</td>\n      <td>B07HNPNC36</td>\n      <td>Babá Eletrônica Digital Com Video E Vi...</td>\n      <td>Internacional</td>\n      <td>10</td>\n    </tr>\n    <tr>\n      <th>20</th>\n      <td>2022-06-02</td>\n      <td>https://www.amazon.com.br/Eletronica-Digital-C...</td>\n      <td>AMAZON</td>\n      <td>Vou Comprar</td>\n      <td>399.99</td>\n      <td>10</td>\n      <td>40.08</td>\n      <td>400.80</td>\n      <td>B076LD2CMK</td>\n      <td>Babá Eletrônica Digital com Câmera BB1...</td>\n      <td>Internacional</td>\n      <td>17</td>\n    </tr>\n    <tr>\n      <th>21</th>\n      <td>2022-06-02</td>\n      <td>https://www.amazon.com.br/dp/B08MQL92QM/?_enco...</td>\n      <td>AMAZON</td>\n      <td>Amazon</td>\n      <td>1804.05</td>\n      <td>1</td>\n      <td>1.00</td>\n      <td>1.00</td>\n      <td>B08MQL92QM</td>\n      <td>Apresentamos o Echo Show 15: Smart Dis...</td>\n      <td>Internacional</td>\n      <td>0</td>\n    </tr>\n    <tr>\n      <th>22</th>\n      <td>2022-06-02</td>\n      <td>https://www.amazon.com.br/Motorola-Baby-Monito...</td>\n      <td>AMAZON</td>\n      <td>Amazon</td>\n      <td>/gp/offer-listing/B09BP6TMMF/ref=dp_olp_unknow...</td>\n      <td>0</td>\n      <td>0.00</td>\n      <td>0.00</td>\n      <td>B09BP6TMMF</td>\n      <td>Motorola Baby Monitor VM855 - monitor ...</td>\n      <td>Internacional</td>\n      <td>0</td>\n    </tr>\n    <tr>\n      <th>23</th>\n      <td>2022-06-02</td>\n      <td>https://www.amazon.com.br/C%C3%A2mera-Alta-Res...</td>\n      <td>AMAZON</td>\n      <td>CRISS SHOP.</td>\n      <td>136.36</td>\n      <td>4</td>\n      <td>34.09</td>\n      <td>136.36</td>\n      <td>B0796W64C8</td>\n      <td>Câmera Ip Hd 720 Alta Resolução WIFI b...</td>\n      <td>Internacional</td>\n      <td>6</td>\n    </tr>\n    <tr>\n      <th>24</th>\n      <td>2022-06-02</td>\n      <td>https://www.amazon.com.br/Estereo-Intra-Auricu...</td>\n      <td>AMAZON</td>\n      <td>Amazon</td>\n      <td>40.90</td>\n      <td>0</td>\n      <td>0.00</td>\n      <td>0.00</td>\n      <td>B06XX3Z8KS</td>\n      <td>Fone de Ouvido Estéreo Earbuds 2, Intr...</td>\n      <td>Internacional</td>\n      <td>4</td>\n    </tr>\n    <tr>\n      <th>25</th>\n      <td>2022-06-02</td>\n      <td>https://www.amazon.com.br/Motorola-Bab%C3%A1-E...</td>\n      <td>AMAZON</td>\n      <td>Thaun Shop</td>\n      <td>1379.87</td>\n      <td>10</td>\n      <td>138.05</td>\n      <td>1380.50</td>\n      <td>B09NCGHLN2</td>\n      <td>Babá Eletrônica Motorola VM64C</td>\n      <td>Internacional</td>\n      <td>4</td>\n    </tr>\n    <tr>\n      <th>26</th>\n      <td>2022-06-02</td>\n      <td>https://www.amazon.com.br/Bab%C3%A1-Eletr%C3%B...</td>\n      <td>AMAZON</td>\n      <td>Wellao</td>\n      <td>490.00</td>\n      <td>10</td>\n      <td>49.00</td>\n      <td>490.00</td>\n      <td>B085JS7ZZ5</td>\n      <td>Babá Eletrônica Sem Fio Tela 4.3 Visão...</td>\n      <td>Internacional</td>\n      <td>5</td>\n    </tr>\n    <tr>\n      <th>27</th>\n      <td>2022-06-02</td>\n      <td>https://www.amazon.com.br/Motorola-Baby-Monito...</td>\n      <td>AMAZON</td>\n      <td>Amazon</td>\n      <td>/gp/offer-listing/B09LZLDK5P/ref=dp_olp_unknow...</td>\n      <td>0</td>\n      <td>0.00</td>\n      <td>0.00</td>\n      <td>B09LZLDK5P</td>\n      <td>Motorola Baby Monitor - Monitor de víd...</td>\n      <td>Internacional</td>\n      <td>0</td>\n    </tr>\n    <tr>\n      <th>28</th>\n      <td>2022-06-02</td>\n      <td>https://www.amazon.com.br/Motorola-Baby-Monito...</td>\n      <td>AMAZON</td>\n      <td>Amazon</td>\n      <td>/gp/offer-listing/B09D1Q395Z/ref=dp_olp_unknow...</td>\n      <td>0</td>\n      <td>0.00</td>\n      <td>0.00</td>\n      <td>B09D1Q395Z</td>\n      <td>Motorola Baby Monitor VM855 - Monitor ...</td>\n      <td>Internacional</td>\n      <td>0</td>\n    </tr>\n    <tr>\n      <th>29</th>\n      <td>2022-06-02</td>\n      <td>https://www.amazon.com.br/Eletr%C3%B4nica-segu...</td>\n      <td>AMAZON</td>\n      <td>MEIREMAGAZINE</td>\n      <td>349.99</td>\n      <td>10</td>\n      <td>35.08</td>\n      <td>350.80</td>\n      <td>B088MFP63N</td>\n      <td>Babá Eletrônica Digital Monitor de Beb...</td>\n      <td>Internacional</td>\n      <td>5</td>\n    </tr>\n    <tr>\n      <th>30</th>\n      <td>2022-06-02</td>\n      <td>https://www.amazon.com.br/Motorola-Bab%C3%A1-E...</td>\n      <td>AMAZON</td>\n      <td>Amazon</td>\n      <td>499.00</td>\n      <td>10</td>\n      <td>49.90</td>\n      <td>499.00</td>\n      <td>B09KMDWDZP</td>\n      <td>Babá Eletrônica Motorola AM24</td>\n      <td>Internacional</td>\n      <td>2</td>\n    </tr>\n    <tr>\n      <th>31</th>\n      <td>2022-06-02</td>\n      <td>https://www.amazon.com.br/Motorola-Baby-Monito...</td>\n      <td>AMAZON</td>\n      <td>Amazon</td>\n      <td>/gp/offer-listing/B09D1DLK1D/ref=dp_olp_unknow...</td>\n      <td>0</td>\n      <td>0.00</td>\n      <td>0.00</td>\n      <td>B09D1DLK1D</td>\n      <td>Motorola Baby Monitor VM85 - monitor d...</td>\n      <td>Internacional</td>\n      <td>0</td>\n    </tr>\n    <tr>\n      <th>32</th>\n      <td>2022-06-02</td>\n      <td>https://www.amazon.com.br/C%C3%A2mera-3-2-Pole...</td>\n      <td>AMAZON</td>\n      <td>Canzile Shop</td>\n      <td>407.99</td>\n      <td>10</td>\n      <td>40.88</td>\n      <td>408.80</td>\n      <td>B088MFFJ1H</td>\n      <td>Câmera 3.2 Polegadas De Vídeo Sem Fio ...</td>\n      <td>Internacional</td>\n      <td>12</td>\n    </tr>\n    <tr>\n      <th>33</th>\n      <td>2022-06-02</td>\n      <td>https://www.amazon.com.br/Camera-Alta-Resolu%C...</td>\n      <td>AMAZON</td>\n      <td>Ponto do Nerd</td>\n      <td>169.66</td>\n      <td>5</td>\n      <td>33.94</td>\n      <td>169.70</td>\n      <td>B00SPCI7TG</td>\n      <td>Camera IP HD 720 Alta Resolução WiFi B...</td>\n      <td>Internacional</td>\n      <td>9</td>\n    </tr>\n  </tbody>\n</table>\n</div>"
     },
     "execution_count": 100,
     "metadata": {},
     "output_type": "execute_result"
    }
   ],
   "source": [
    "Df_final"
   ]
  },
  {
   "cell_type": "code",
   "execution_count": 57,
   "outputs": [
    {
     "data": {
      "text/plain": "          DATE                                                URL MARKETPLACE  \\\n0   2022-06-02  https://www.amazon.com.br/Eletr%C3%B4nica-Moto...      AMAZON   \n20  2022-06-02  https://www.amazon.com.br/Bab%C3%A1-Eletr%C3%B...      AMAZON   \n31  2022-06-02  https://www.amazon.com.br/Motorola-Baby-Monito...      AMAZON   \n43  2022-06-02  https://www.amazon.com.br/Motorola-Baby-Monito...      AMAZON   \n\n    SELLER                                              PRICE  PARCEL  \\\n0   Amazon  /gp/offer-listing/B01N807E5P/ref=dp_olp_unknow...       0   \n20  Amazon  /gp/offer-listing/B078KHB3YW/ref=dp_olp_unknow...       0   \n31  Amazon  /gp/offer-listing/B09BP6TMMF/ref=dp_olp_unknow...       0   \n43  Amazon  /gp/offer-listing/B09D1DLK1D/ref=dp_olp_unknow...       0   \n\n    INSTALLMENT  INSTALLMENT_PAYMENT          ID  \\\n0           0.0                  0.0  B01N807E5P   \n20          0.0                  0.0  B078KHB3YW   \n31          0.0                  0.0  B09BP6TMMF   \n43          0.0                  0.0  B09D1DLK1D   \n\n                                              PRODUCT  INTERNACIONAL  MORE  \n0           Baba Eletrônica Motorola Mbp-855 Conne...  Internacional     0  \n20          Babá Eletrônica MBP668Connect com Tela...  Internacional     0  \n31          Motorola Baby Monitor VM855 - monitor ...  Internacional     0  \n43          Motorola Baby Monitor VM85 - monitor d...  Internacional     0  ",
      "text/html": "<div>\n<style scoped>\n    .dataframe tbody tr th:only-of-type {\n        vertical-align: middle;\n    }\n\n    .dataframe tbody tr th {\n        vertical-align: top;\n    }\n\n    .dataframe thead th {\n        text-align: right;\n    }\n</style>\n<table border=\"1\" class=\"dataframe\">\n  <thead>\n    <tr style=\"text-align: right;\">\n      <th></th>\n      <th>DATE</th>\n      <th>URL</th>\n      <th>MARKETPLACE</th>\n      <th>SELLER</th>\n      <th>PRICE</th>\n      <th>PARCEL</th>\n      <th>INSTALLMENT</th>\n      <th>INSTALLMENT_PAYMENT</th>\n      <th>ID</th>\n      <th>PRODUCT</th>\n      <th>INTERNACIONAL</th>\n      <th>MORE</th>\n    </tr>\n  </thead>\n  <tbody>\n    <tr>\n      <th>0</th>\n      <td>2022-06-02</td>\n      <td>https://www.amazon.com.br/Eletr%C3%B4nica-Moto...</td>\n      <td>AMAZON</td>\n      <td>Amazon</td>\n      <td>/gp/offer-listing/B01N807E5P/ref=dp_olp_unknow...</td>\n      <td>0</td>\n      <td>0.0</td>\n      <td>0.0</td>\n      <td>B01N807E5P</td>\n      <td>Baba Eletrônica Motorola Mbp-855 Conne...</td>\n      <td>Internacional</td>\n      <td>0</td>\n    </tr>\n    <tr>\n      <th>20</th>\n      <td>2022-06-02</td>\n      <td>https://www.amazon.com.br/Bab%C3%A1-Eletr%C3%B...</td>\n      <td>AMAZON</td>\n      <td>Amazon</td>\n      <td>/gp/offer-listing/B078KHB3YW/ref=dp_olp_unknow...</td>\n      <td>0</td>\n      <td>0.0</td>\n      <td>0.0</td>\n      <td>B078KHB3YW</td>\n      <td>Babá Eletrônica MBP668Connect com Tela...</td>\n      <td>Internacional</td>\n      <td>0</td>\n    </tr>\n    <tr>\n      <th>31</th>\n      <td>2022-06-02</td>\n      <td>https://www.amazon.com.br/Motorola-Baby-Monito...</td>\n      <td>AMAZON</td>\n      <td>Amazon</td>\n      <td>/gp/offer-listing/B09BP6TMMF/ref=dp_olp_unknow...</td>\n      <td>0</td>\n      <td>0.0</td>\n      <td>0.0</td>\n      <td>B09BP6TMMF</td>\n      <td>Motorola Baby Monitor VM855 - monitor ...</td>\n      <td>Internacional</td>\n      <td>0</td>\n    </tr>\n    <tr>\n      <th>43</th>\n      <td>2022-06-02</td>\n      <td>https://www.amazon.com.br/Motorola-Baby-Monito...</td>\n      <td>AMAZON</td>\n      <td>Amazon</td>\n      <td>/gp/offer-listing/B09D1DLK1D/ref=dp_olp_unknow...</td>\n      <td>0</td>\n      <td>0.0</td>\n      <td>0.0</td>\n      <td>B09D1DLK1D</td>\n      <td>Motorola Baby Monitor VM85 - monitor d...</td>\n      <td>Internacional</td>\n      <td>0</td>\n    </tr>\n  </tbody>\n</table>\n</div>"
     },
     "execution_count": 57,
     "metadata": {},
     "output_type": "execute_result"
    }
   ],
   "source": [
    "#Criar a condicional da coluna More\n",
    "Df_button_sellers = Df_final[Df_final['PRICE'].str.len() > 10]\n",
    "Df_button_sellers"
   ],
   "metadata": {
    "collapsed": false,
    "pycharm": {
     "name": "#%%\n"
    }
   }
  },
  {
   "cell_type": "code",
   "execution_count": 58,
   "outputs": [],
   "source": [
    "def Get_Button_Sellers(ASIN):\n",
    "    global Amazon_Button_Sellers\n",
    "\n",
    "    time.sleep(5)\n",
    "\n",
    "    new_url = \"https://www.amazon.com.br/gp/product/ajax/?asin=\" + ASIN + \"&pageno=1&experienceId=aodAjaxMain\"\n",
    "\n",
    "    driver.get(new_url)\n",
    "\n",
    "    time.sleep(5)\n",
    "\n",
    "    body_el = driver.find_element(By.CSS_SELECTOR, 'body')\n",
    "    html_str = body_el.get_attribute('innerHTML')\n",
    "\n",
    "    Soup = BeautifulSoup(html_str, 'html.parser')\n",
    "\n",
    "    for seller in Soup.find_all(class_='a-size-small a-color-base'):\n",
    "        Amazon_Button_Sellers.append(seller.text)\n",
    "\n",
    "\n",
    "    Amazon_Button_Sellers =  [s for s in Amazon_Button_Sellers if not 'avaliações' in s]\n",
    "    Amazon_Button_Sellers =  [s for s in Amazon_Button_Sellers if not ' Amazon.com.br ' in s]\n",
    "    Amazon_Button_Sellers =  [s for s in Amazon_Button_Sellers if not 'avaliação' in s]\n",
    "    Amazon_Button_Sellers =  [s for s in Amazon_Button_Sellers if not 'Recém-lançado' in s]\n",
    "\n",
    "    for price in Soup.find_all(class_='a-offscreen'):\n",
    "        Amazon_Button_Price.append(price.text)\n",
    "        Amazon_Button_ASIN.append(ASIN)"
   ],
   "metadata": {
    "collapsed": false,
    "pycharm": {
     "name": "#%%\n"
    }
   }
  },
  {
   "cell_type": "code",
   "execution_count": 59,
   "outputs": [
    {
     "name": "stderr",
     "output_type": "stream",
     "text": [
      "100%|██████████| 4/4 [00:41<00:00, 10.29s/it]\n"
     ]
    }
   ],
   "source": [
    "for item in tqdm(Df_button_sellers['ID']):\n",
    "    Get_Button_Sellers(item)"
   ],
   "metadata": {
    "collapsed": false,
    "pycharm": {
     "name": "#%%\n"
    }
   }
  },
  {
   "cell_type": "code",
   "execution_count": 60,
   "outputs": [
    {
     "name": "stdout",
     "output_type": "stream",
     "text": [
      "2\n",
      "2\n",
      "2\n"
     ]
    }
   ],
   "source": [
    "print(len(Amazon_Button_Sellers))\n",
    "print(len(Amazon_Button_Price))\n",
    "print(len(Amazon_Button_ASIN))"
   ],
   "metadata": {
    "collapsed": false,
    "pycharm": {
     "name": "#%%\n"
    }
   }
  },
  {
   "cell_type": "code",
   "execution_count": 61,
   "outputs": [
    {
     "data": {
      "text/plain": "           ID        DATE MARKETPLACE                 SELLER    PRICE  PARCEL  \\\n0  B09D1DLK1D  2022-06-02      AMAZON  Triplenet Pricing INC  2911.25      10   \n1  B09BP6TMMF  2022-06-02      AMAZON  Triplenet Pricing INC  2519.10      10   \n\n   INSTALLMENT  INSTALLMENT_PAYMENT INTERNACIONAL  \\\n0      291.125              29112.5          ERRO   \n1      251.910              25191.0          ERRO   \n\n                                                 URL  \\\n0  https://www.amazon.com.br/Motorola-Baby-Monito...   \n1  https://www.amazon.com.br/Motorola-Baby-Monito...   \n\n                                             PRODUCT  \n0          Motorola Baby Monitor VM85 - monitor d...  \n1          Motorola Baby Monitor VM855 - monitor ...  ",
      "text/html": "<div>\n<style scoped>\n    .dataframe tbody tr th:only-of-type {\n        vertical-align: middle;\n    }\n\n    .dataframe tbody tr th {\n        vertical-align: top;\n    }\n\n    .dataframe thead th {\n        text-align: right;\n    }\n</style>\n<table border=\"1\" class=\"dataframe\">\n  <thead>\n    <tr style=\"text-align: right;\">\n      <th></th>\n      <th>ID</th>\n      <th>DATE</th>\n      <th>MARKETPLACE</th>\n      <th>SELLER</th>\n      <th>PRICE</th>\n      <th>PARCEL</th>\n      <th>INSTALLMENT</th>\n      <th>INSTALLMENT_PAYMENT</th>\n      <th>INTERNACIONAL</th>\n      <th>URL</th>\n      <th>PRODUCT</th>\n    </tr>\n  </thead>\n  <tbody>\n    <tr>\n      <th>0</th>\n      <td>B09D1DLK1D</td>\n      <td>2022-06-02</td>\n      <td>AMAZON</td>\n      <td>Triplenet Pricing INC</td>\n      <td>2911.25</td>\n      <td>10</td>\n      <td>291.125</td>\n      <td>29112.5</td>\n      <td>ERRO</td>\n      <td>https://www.amazon.com.br/Motorola-Baby-Monito...</td>\n      <td>Motorola Baby Monitor VM85 - monitor d...</td>\n    </tr>\n    <tr>\n      <th>1</th>\n      <td>B09BP6TMMF</td>\n      <td>2022-06-02</td>\n      <td>AMAZON</td>\n      <td>Triplenet Pricing INC</td>\n      <td>2519.10</td>\n      <td>10</td>\n      <td>251.910</td>\n      <td>25191.0</td>\n      <td>ERRO</td>\n      <td>https://www.amazon.com.br/Motorola-Baby-Monito...</td>\n      <td>Motorola Baby Monitor VM855 - monitor ...</td>\n    </tr>\n  </tbody>\n</table>\n</div>"
     },
     "execution_count": 61,
     "metadata": {},
     "output_type": "execute_result"
    }
   ],
   "source": [
    "Dataframe_Button = pd.DataFrame()\n",
    "Dataframe_Button['ID'] = Amazon_Button_ASIN\n",
    "\n",
    "Dataframe_Button['DATE'] = pd.to_datetime('today', errors='ignore').date()\n",
    "\n",
    "Dataframe_Button['MARKETPLACE'] = 'AMAZON'\n",
    "\n",
    "Dataframe_Button['SELLER'] = Amazon_Button_Sellers\n",
    "\n",
    "Dataframe_Button['PRICE'] = Amazon_Button_Price\n",
    "Dataframe_Button['PRICE'] = Dataframe_Button['PRICE'].str.replace(\".\",\"\", regex=True)\n",
    "Dataframe_Button['PRICE'] = Dataframe_Button['PRICE'].str.replace(\"R$\",\"\", regex=False)\n",
    "Dataframe_Button['PRICE'] = Dataframe_Button['PRICE'].str.replace(\",\",\".\", regex=True)\n",
    "Dataframe_Button['PRICE'] = Dataframe_Button['PRICE'].astype('float')\n",
    "\n",
    "Dataframe_Button['PARCEL'] = 10\n",
    "\n",
    "Dataframe_Button['INSTALLMENT'] = Dataframe_Button['PRICE'] / Dataframe_Button['PARCEL']\n",
    "\n",
    "Dataframe_Button['INSTALLMENT_PAYMENT'] = Dataframe_Button['PRICE'] * Dataframe_Button['PARCEL']\n",
    "\n",
    "Dataframe_Button['INTERNACIONAL'] = 'ERRO'\n",
    "\n",
    "url_names = []\n",
    "for id in Dataframe_Button['ID']:\n",
    "    url_names.append(Df_final.loc[Df_final['ID'] == id,'URL'].values[0])\n",
    "\n",
    "products_names = []\n",
    "for id in Dataframe_Button['ID']:\n",
    "    products_names.append(Df_final.loc[Df_final['ID'] == id,'PRODUCT'].values[0])\n",
    "\n",
    "Dataframe_Button['URL'] = url_names\n",
    "Dataframe_Button['PRODUCT'] = products_names\n",
    "\n",
    "Dataframe_Button"
   ],
   "metadata": {
    "collapsed": false,
    "pycharm": {
     "name": "#%%\n"
    }
   }
  },
  {
   "cell_type": "code",
   "execution_count": 26,
   "metadata": {
    "pycharm": {
     "name": "#%%\n"
    }
   },
   "outputs": [
    {
     "data": {
      "text/plain": "          DATE                                                URL MARKETPLACE  \\\n0   2022-06-01  https://www.amazon.com.br/Display-Interativo-C...      AMAZON   \n1   2022-06-01  https://www.amazon.com.br/Folha-Textura-Padr%C...      AMAZON   \n2   2022-06-01  https://www.amazon.com.br/Mesa-Digitalizadora-...      AMAZON   \n3   2022-06-01  https://www.amazon.com.br/Mesa-Digitalizadora-...      AMAZON   \n4   2022-06-01  https://www.amazon.com.br/Caneta-Tablet-Wacom-...      AMAZON   \n7   2022-06-01  https://www.amazon.com.br/Caneta-Tablet-Wacom-...      AMAZON   \n8   2022-06-01  https://www.amazon.com.br/Folha-Textura-%C3%81...      AMAZON   \n9   2022-06-01  https://www.amazon.com.br/Caneta-Tablet-Wacom-...      AMAZON   \n10  2022-06-01  https://www.amazon.com.br/Pontas-reposi-caneta...      AMAZON   \n11  2022-06-01  https://www.amazon.com.br/Caneta-Wacom-Tablets...      AMAZON   \n12  2022-06-01  https://www.amazon.com.br/Display-Interativo-W...      AMAZON   \n13  2022-06-01  https://www.amazon.com.br/Digitalizadora-Wacom...      AMAZON   \n15  2022-06-01  https://www.amazon.com.br/Caneta-Tablet-Wacom-...      AMAZON   \n16  2022-06-01  https://www.amazon.com.br/Caneta-Tablet-Wacom-...      AMAZON   \n17  2022-06-01  https://www.amazon.com.br/Mesa-Digitalizadora-...      AMAZON   \n18  2022-06-01  https://www.amazon.com.br/Wacom-ACK620K-Suport...      AMAZON   \n19  2022-06-01  https://www.amazon.com.br/Display-Interativo-W...      AMAZON   \n21  2022-06-01  https://www.amazon.com.br/Digitalizadora-gr%C3...      AMAZON   \n22  2022-06-01  https://www.amazon.com.br/NEFUTRY-pontas-canet...      AMAZON   \n24  2022-06-01  https://www.amazon.com.br/Mesa-Digitalizadora-...      AMAZON   \n25  2022-06-01  https://www.amazon.com.br/desenho-V2-compat%C3...      AMAZON   \n26  2022-06-01  https://www.amazon.com.br/Caneta-Wacom-Tablets...      AMAZON   \n27  2022-06-01  https://www.amazon.com.br/Caneta-Wacom-Reposi%...      AMAZON   \n28  2022-06-01  https://www.amazon.com.br/Tablet-Profissional-...      AMAZON   \n29  2022-06-01  https://www.amazon.com.br/Digitalizadora-desen...      AMAZON   \n30  2022-06-01  https://www.amazon.com.br/digitalizadora-10moo...      AMAZON   \n31  2022-06-01  https://www.amazon.com.br/Caneta-para-Mesa-Dig...      AMAZON   \n32  2022-06-01  https://www.amazon.com.br/H420-Graphics-Drawin...      AMAZON   \n33  2022-06-01  https://www.amazon.com.br/Mesa-Digitalizadora-...      AMAZON   \n34  2022-06-01  https://www.amazon.com.br/MESA-DIGITALIZADORA-...      AMAZON   \n35  2022-06-01  https://www.amazon.com.br/MESA-DIGITALIZADORA-...      AMAZON   \n36  2022-06-01  https://www.amazon.com.br/Flat-MOP6125-Verde-F...      AMAZON   \n39  2022-06-01  https://www.amazon.com.br/Digitalizadora-Gaomo...      AMAZON   \n41  2022-06-01  https://www.amazon.com.br/Wacom-CP91300B2Z-par...      AMAZON   \n47  2022-06-01  https://www.amazon.com.br/Case-Wacom-Cintiq-13...      AMAZON   \n\n                SELLER    PRICE  PARCEL  INSTALLMENT  INSTALLMENT_PAYMENT  \\\n0               Amazon  6414.31      10       641.44              6414.40   \n1               Amazon   127.72       4        31.93               127.72   \n2              INPOWER   199.00       6        33.20               199.20   \n3   Megaprice Comercio   335.40      10        33.54               335.40   \n4       W-TECH IMPORTS  5997.00      10       599.70              5997.00   \n7               Amazon  3299.99      10       330.08              3300.80   \n8               Amazon   299.00       9        33.24               299.16   \n9               Amazon  1386.95       1         1.90                 1.90   \n10              Amazon    53.00       0         0.00                 0.00   \n11              Amazon   579.90     644       644.33            414948.52   \n12              Amazon  2890.01       3         3.11                 9.33   \n13              Amazon  1743.87       1         1.90                 1.90   \n15              Amazon  4520.38      10       452.11              4521.10   \n16             INPOWER  1329.00      10       132.90              1329.00   \n17           NETVENDAS   219.99       7        31.47               220.29   \n18              Amazon   905.55      10        90.60               906.00   \n19              Amazon  4037.49      10       403.83              4038.30   \n21       MilleniumShop   469.95      10        47.04               470.40   \n22   Ami Ventures Inc.   366.00      10        36.60               366.00   \n24          Mula Games   399.90      10        39.99               399.90   \n25    Alfa Tecnológico   451.10      10        45.11               451.10   \n26              Amazon   629.00     740       740.00            547600.00   \n27              Amazon   299.00       9        33.24               299.16   \n28          Imports Br   435.35      10        43.58               435.80   \n29          Imports Br   424.49      10        42.53               425.30   \n30       yanazeoficial   342.86      10        34.34               343.40   \n31            Tendinfo   548.00      10        54.80               548.00   \n32    HD Store Oficial   229.87       7        32.89               230.23   \n33          Mula Games   299.90       9        33.34               300.06   \n34              Amazon   414.89      10        41.57               415.70   \n35           octo.shop  2464.60      10       246.46              2464.60   \n36           Trades Up    46.99       0         0.00                 0.00   \n39       MilleniumShop  2180.70      10       218.07              2180.70   \n41              E-SPOT   379.00      10        37.90               379.00   \n47              Amazon   234.83       7        33.59               235.13   \n\n            ID                                            PRODUCT  \\\n0   B07L77GTTY          Display Interativo Cintiq 16, Wacom, D...   \n1   B07195NDY9          Folha De Textura Wacom G - Ack122312. ...   \n2   B0785S55QQ          Wacom One CTL472 - Mesa Digitalizadora...   \n3   B079HL9YSF          Wacom CTL4100 - Mesa Digitalizadora In...   \n4   B01MSXN9M5          Mesa Digitalizadora Intuos Pro Paper G...   \n7   B01MQU5LW7          Mesa Digitalizadora Wacom Intuos Pro M...   \n8   B071DWY2WP          Folha Textura Wacom Áspera G - Ack1223...   \n9   B079NWPZTG          Mesa Digitalizadora Wacom Intuos Pen &...   \n10  B005KB8H7M          Wacom Pontas de reposi o canetas ponte...   \n11  B079J2FSQ7          Mesa Digitalizadora Wacom Bluetooth Pe...   \n12  B082LZXQ6B          Display Interativo Wacom One, DTC133W0...   \n13  B07PPQH867          Mesa Digitalizadora Pro Wacom Intuos, ...   \n15  B01MTZ9CCD          Mesa Digitalizadora Wacom Intuos Pro L...   \n16  B079NWPZTF          Mesa Digitalizadora Wacom Média Blueto...   \n17  B07S1RR3FR          Mesa Digitalizadora One by Wacom CTL47...   \n18  B01MDM0GOQ              Wacom Suporte ajustável Cintiq          \n19  B094489GDW          Display Interativo Wacom One, DTC133W0...   \n21  B087NNZSR8          Mesa Digitalizadora XP-PEN Star G960S ...   \n22  B079LZW3B5          NEFUTRY 30 pontas de caneta padrão de ...   \n24  B096H6MY4X          Mesa Digitalizadora Multilaser 10 Pole...   \n25  B07DPC98DT          Tablet de desenho gráfico Huion H610 P...   \n26  B079J7DCXN          Mesa Digitalizadora Wacom Bluetooth Pe...   \n27  B07CYRWTZF          Caneta Wacom De Reposição 4K Intuos CT...   \n28  B07HQDN7W6          Tablet Profissional Mesa Digitalizador...   \n29  B07VKB37HZ          Mesa Digitalizadora XP-PEN Deco01 V2 p...   \n30  B08MDL38KD          Mesa digitalizadora 10moons 10 Polegad...   \n31  B07BL5H6HW          Caneta para Mesa Digitalizadora Wacom ...   \n32  B00DM24HNE          Huion H420 OSU Tablet Graphics Drawing...   \n33  B096G7VVCK          Mesa Digitalizadora Multilaser 6 poleg...   \n34  B08GLTSGQ9             MESA DIGITALIZADORA DECO MINI 7          \n35  B08FXLLSRX          XP-PEN MESA DIGITALIZADORA DISPLAY ART...   \n36  B08D9SFNWK          Mop Flat Plus Microfibra Varre e Tira ...   \n39  B07YFG742J          Mesa Digitalizadora Gaomon PD1161 11,6...   \n41  B084DVTSC9          Wacom Uma caneta CP91300B2Z para Wacom...   \n47  B0757XLLZL          Case Wacom Cintiq 13 / Companion - ACK...   \n\n    INTERNACIONAL  MORE  \n0   Internacional     4  \n1   Internacional     2  \n2   Internacional    42  \n3   Internacional    33  \n4   Internacional     5  \n7   Internacional     4  \n8   Internacional     3  \n9   Internacional    11  \n10  Internacional     3  \n11  Internacional    16  \n12  Internacional     9  \n13  Internacional    10  \n15  Internacional     5  \n16  Internacional     9  \n17  Internacional     7  \n18  Internacional     2  \n19  Internacional     2  \n21  Internacional     4  \n22  Internacional     2  \n24  Internacional    11  \n25  Internacional     6  \n26  Internacional    10  \n27  Internacional     6  \n28  Internacional    16  \n29  Internacional    17  \n30  Internacional     2  \n31  Internacional     2  \n32  Internacional     2  \n33  Internacional    10  \n34  Internacional     8  \n35  Internacional     5  \n36  Internacional     4  \n39  Internacional     3  \n41  Internacional     3  \n47  Internacional     2  ",
      "text/html": "<div>\n<style scoped>\n    .dataframe tbody tr th:only-of-type {\n        vertical-align: middle;\n    }\n\n    .dataframe tbody tr th {\n        vertical-align: top;\n    }\n\n    .dataframe thead th {\n        text-align: right;\n    }\n</style>\n<table border=\"1\" class=\"dataframe\">\n  <thead>\n    <tr style=\"text-align: right;\">\n      <th></th>\n      <th>DATE</th>\n      <th>URL</th>\n      <th>MARKETPLACE</th>\n      <th>SELLER</th>\n      <th>PRICE</th>\n      <th>PARCEL</th>\n      <th>INSTALLMENT</th>\n      <th>INSTALLMENT_PAYMENT</th>\n      <th>ID</th>\n      <th>PRODUCT</th>\n      <th>INTERNACIONAL</th>\n      <th>MORE</th>\n    </tr>\n  </thead>\n  <tbody>\n    <tr>\n      <th>0</th>\n      <td>2022-06-01</td>\n      <td>https://www.amazon.com.br/Display-Interativo-C...</td>\n      <td>AMAZON</td>\n      <td>Amazon</td>\n      <td>6414.31</td>\n      <td>10</td>\n      <td>641.44</td>\n      <td>6414.40</td>\n      <td>B07L77GTTY</td>\n      <td>Display Interativo Cintiq 16, Wacom, D...</td>\n      <td>Internacional</td>\n      <td>4</td>\n    </tr>\n    <tr>\n      <th>1</th>\n      <td>2022-06-01</td>\n      <td>https://www.amazon.com.br/Folha-Textura-Padr%C...</td>\n      <td>AMAZON</td>\n      <td>Amazon</td>\n      <td>127.72</td>\n      <td>4</td>\n      <td>31.93</td>\n      <td>127.72</td>\n      <td>B07195NDY9</td>\n      <td>Folha De Textura Wacom G - Ack122312. ...</td>\n      <td>Internacional</td>\n      <td>2</td>\n    </tr>\n    <tr>\n      <th>2</th>\n      <td>2022-06-01</td>\n      <td>https://www.amazon.com.br/Mesa-Digitalizadora-...</td>\n      <td>AMAZON</td>\n      <td>INPOWER</td>\n      <td>199.00</td>\n      <td>6</td>\n      <td>33.20</td>\n      <td>199.20</td>\n      <td>B0785S55QQ</td>\n      <td>Wacom One CTL472 - Mesa Digitalizadora...</td>\n      <td>Internacional</td>\n      <td>42</td>\n    </tr>\n    <tr>\n      <th>3</th>\n      <td>2022-06-01</td>\n      <td>https://www.amazon.com.br/Mesa-Digitalizadora-...</td>\n      <td>AMAZON</td>\n      <td>Megaprice Comercio</td>\n      <td>335.40</td>\n      <td>10</td>\n      <td>33.54</td>\n      <td>335.40</td>\n      <td>B079HL9YSF</td>\n      <td>Wacom CTL4100 - Mesa Digitalizadora In...</td>\n      <td>Internacional</td>\n      <td>33</td>\n    </tr>\n    <tr>\n      <th>4</th>\n      <td>2022-06-01</td>\n      <td>https://www.amazon.com.br/Caneta-Tablet-Wacom-...</td>\n      <td>AMAZON</td>\n      <td>W-TECH IMPORTS</td>\n      <td>5997.00</td>\n      <td>10</td>\n      <td>599.70</td>\n      <td>5997.00</td>\n      <td>B01MSXN9M5</td>\n      <td>Mesa Digitalizadora Intuos Pro Paper G...</td>\n      <td>Internacional</td>\n      <td>5</td>\n    </tr>\n    <tr>\n      <th>7</th>\n      <td>2022-06-01</td>\n      <td>https://www.amazon.com.br/Caneta-Tablet-Wacom-...</td>\n      <td>AMAZON</td>\n      <td>Amazon</td>\n      <td>3299.99</td>\n      <td>10</td>\n      <td>330.08</td>\n      <td>3300.80</td>\n      <td>B01MQU5LW7</td>\n      <td>Mesa Digitalizadora Wacom Intuos Pro M...</td>\n      <td>Internacional</td>\n      <td>4</td>\n    </tr>\n    <tr>\n      <th>8</th>\n      <td>2022-06-01</td>\n      <td>https://www.amazon.com.br/Folha-Textura-%C3%81...</td>\n      <td>AMAZON</td>\n      <td>Amazon</td>\n      <td>299.00</td>\n      <td>9</td>\n      <td>33.24</td>\n      <td>299.16</td>\n      <td>B071DWY2WP</td>\n      <td>Folha Textura Wacom Áspera G - Ack1223...</td>\n      <td>Internacional</td>\n      <td>3</td>\n    </tr>\n    <tr>\n      <th>9</th>\n      <td>2022-06-01</td>\n      <td>https://www.amazon.com.br/Caneta-Tablet-Wacom-...</td>\n      <td>AMAZON</td>\n      <td>Amazon</td>\n      <td>1386.95</td>\n      <td>1</td>\n      <td>1.90</td>\n      <td>1.90</td>\n      <td>B079NWPZTG</td>\n      <td>Mesa Digitalizadora Wacom Intuos Pen &amp;...</td>\n      <td>Internacional</td>\n      <td>11</td>\n    </tr>\n    <tr>\n      <th>10</th>\n      <td>2022-06-01</td>\n      <td>https://www.amazon.com.br/Pontas-reposi-caneta...</td>\n      <td>AMAZON</td>\n      <td>Amazon</td>\n      <td>53.00</td>\n      <td>0</td>\n      <td>0.00</td>\n      <td>0.00</td>\n      <td>B005KB8H7M</td>\n      <td>Wacom Pontas de reposi o canetas ponte...</td>\n      <td>Internacional</td>\n      <td>3</td>\n    </tr>\n    <tr>\n      <th>11</th>\n      <td>2022-06-01</td>\n      <td>https://www.amazon.com.br/Caneta-Wacom-Tablets...</td>\n      <td>AMAZON</td>\n      <td>Amazon</td>\n      <td>579.90</td>\n      <td>644</td>\n      <td>644.33</td>\n      <td>414948.52</td>\n      <td>B079J2FSQ7</td>\n      <td>Mesa Digitalizadora Wacom Bluetooth Pe...</td>\n      <td>Internacional</td>\n      <td>16</td>\n    </tr>\n    <tr>\n      <th>12</th>\n      <td>2022-06-01</td>\n      <td>https://www.amazon.com.br/Display-Interativo-W...</td>\n      <td>AMAZON</td>\n      <td>Amazon</td>\n      <td>2890.01</td>\n      <td>3</td>\n      <td>3.11</td>\n      <td>9.33</td>\n      <td>B082LZXQ6B</td>\n      <td>Display Interativo Wacom One, DTC133W0...</td>\n      <td>Internacional</td>\n      <td>9</td>\n    </tr>\n    <tr>\n      <th>13</th>\n      <td>2022-06-01</td>\n      <td>https://www.amazon.com.br/Digitalizadora-Wacom...</td>\n      <td>AMAZON</td>\n      <td>Amazon</td>\n      <td>1743.87</td>\n      <td>1</td>\n      <td>1.90</td>\n      <td>1.90</td>\n      <td>B07PPQH867</td>\n      <td>Mesa Digitalizadora Pro Wacom Intuos, ...</td>\n      <td>Internacional</td>\n      <td>10</td>\n    </tr>\n    <tr>\n      <th>15</th>\n      <td>2022-06-01</td>\n      <td>https://www.amazon.com.br/Caneta-Tablet-Wacom-...</td>\n      <td>AMAZON</td>\n      <td>Amazon</td>\n      <td>4520.38</td>\n      <td>10</td>\n      <td>452.11</td>\n      <td>4521.10</td>\n      <td>B01MTZ9CCD</td>\n      <td>Mesa Digitalizadora Wacom Intuos Pro L...</td>\n      <td>Internacional</td>\n      <td>5</td>\n    </tr>\n    <tr>\n      <th>16</th>\n      <td>2022-06-01</td>\n      <td>https://www.amazon.com.br/Caneta-Tablet-Wacom-...</td>\n      <td>AMAZON</td>\n      <td>INPOWER</td>\n      <td>1329.00</td>\n      <td>10</td>\n      <td>132.90</td>\n      <td>1329.00</td>\n      <td>B079NWPZTF</td>\n      <td>Mesa Digitalizadora Wacom Média Blueto...</td>\n      <td>Internacional</td>\n      <td>9</td>\n    </tr>\n    <tr>\n      <th>17</th>\n      <td>2022-06-01</td>\n      <td>https://www.amazon.com.br/Mesa-Digitalizadora-...</td>\n      <td>AMAZON</td>\n      <td>NETVENDAS</td>\n      <td>219.99</td>\n      <td>7</td>\n      <td>31.47</td>\n      <td>220.29</td>\n      <td>B07S1RR3FR</td>\n      <td>Mesa Digitalizadora One by Wacom CTL47...</td>\n      <td>Internacional</td>\n      <td>7</td>\n    </tr>\n    <tr>\n      <th>18</th>\n      <td>2022-06-01</td>\n      <td>https://www.amazon.com.br/Wacom-ACK620K-Suport...</td>\n      <td>AMAZON</td>\n      <td>Amazon</td>\n      <td>905.55</td>\n      <td>10</td>\n      <td>90.60</td>\n      <td>906.00</td>\n      <td>B01MDM0GOQ</td>\n      <td>Wacom Suporte ajustável Cintiq</td>\n      <td>Internacional</td>\n      <td>2</td>\n    </tr>\n    <tr>\n      <th>19</th>\n      <td>2022-06-01</td>\n      <td>https://www.amazon.com.br/Display-Interativo-W...</td>\n      <td>AMAZON</td>\n      <td>Amazon</td>\n      <td>4037.49</td>\n      <td>10</td>\n      <td>403.83</td>\n      <td>4038.30</td>\n      <td>B094489GDW</td>\n      <td>Display Interativo Wacom One, DTC133W0...</td>\n      <td>Internacional</td>\n      <td>2</td>\n    </tr>\n    <tr>\n      <th>21</th>\n      <td>2022-06-01</td>\n      <td>https://www.amazon.com.br/Digitalizadora-gr%C3...</td>\n      <td>AMAZON</td>\n      <td>MilleniumShop</td>\n      <td>469.95</td>\n      <td>10</td>\n      <td>47.04</td>\n      <td>470.40</td>\n      <td>B087NNZSR8</td>\n      <td>Mesa Digitalizadora XP-PEN Star G960S ...</td>\n      <td>Internacional</td>\n      <td>4</td>\n    </tr>\n    <tr>\n      <th>22</th>\n      <td>2022-06-01</td>\n      <td>https://www.amazon.com.br/NEFUTRY-pontas-canet...</td>\n      <td>AMAZON</td>\n      <td>Ami Ventures Inc.</td>\n      <td>366.00</td>\n      <td>10</td>\n      <td>36.60</td>\n      <td>366.00</td>\n      <td>B079LZW3B5</td>\n      <td>NEFUTRY 30 pontas de caneta padrão de ...</td>\n      <td>Internacional</td>\n      <td>2</td>\n    </tr>\n    <tr>\n      <th>24</th>\n      <td>2022-06-01</td>\n      <td>https://www.amazon.com.br/Mesa-Digitalizadora-...</td>\n      <td>AMAZON</td>\n      <td>Mula Games</td>\n      <td>399.90</td>\n      <td>10</td>\n      <td>39.99</td>\n      <td>399.90</td>\n      <td>B096H6MY4X</td>\n      <td>Mesa Digitalizadora Multilaser 10 Pole...</td>\n      <td>Internacional</td>\n      <td>11</td>\n    </tr>\n    <tr>\n      <th>25</th>\n      <td>2022-06-01</td>\n      <td>https://www.amazon.com.br/desenho-V2-compat%C3...</td>\n      <td>AMAZON</td>\n      <td>Alfa Tecnológico</td>\n      <td>451.10</td>\n      <td>10</td>\n      <td>45.11</td>\n      <td>451.10</td>\n      <td>B07DPC98DT</td>\n      <td>Tablet de desenho gráfico Huion H610 P...</td>\n      <td>Internacional</td>\n      <td>6</td>\n    </tr>\n    <tr>\n      <th>26</th>\n      <td>2022-06-01</td>\n      <td>https://www.amazon.com.br/Caneta-Wacom-Tablets...</td>\n      <td>AMAZON</td>\n      <td>Amazon</td>\n      <td>629.00</td>\n      <td>740</td>\n      <td>740.00</td>\n      <td>547600.00</td>\n      <td>B079J7DCXN</td>\n      <td>Mesa Digitalizadora Wacom Bluetooth Pe...</td>\n      <td>Internacional</td>\n      <td>10</td>\n    </tr>\n    <tr>\n      <th>27</th>\n      <td>2022-06-01</td>\n      <td>https://www.amazon.com.br/Caneta-Wacom-Reposi%...</td>\n      <td>AMAZON</td>\n      <td>Amazon</td>\n      <td>299.00</td>\n      <td>9</td>\n      <td>33.24</td>\n      <td>299.16</td>\n      <td>B07CYRWTZF</td>\n      <td>Caneta Wacom De Reposição 4K Intuos CT...</td>\n      <td>Internacional</td>\n      <td>6</td>\n    </tr>\n    <tr>\n      <th>28</th>\n      <td>2022-06-01</td>\n      <td>https://www.amazon.com.br/Tablet-Profissional-...</td>\n      <td>AMAZON</td>\n      <td>Imports Br</td>\n      <td>435.35</td>\n      <td>10</td>\n      <td>43.58</td>\n      <td>435.80</td>\n      <td>B07HQDN7W6</td>\n      <td>Tablet Profissional Mesa Digitalizador...</td>\n      <td>Internacional</td>\n      <td>16</td>\n    </tr>\n    <tr>\n      <th>29</th>\n      <td>2022-06-01</td>\n      <td>https://www.amazon.com.br/Digitalizadora-desen...</td>\n      <td>AMAZON</td>\n      <td>Imports Br</td>\n      <td>424.49</td>\n      <td>10</td>\n      <td>42.53</td>\n      <td>425.30</td>\n      <td>B07VKB37HZ</td>\n      <td>Mesa Digitalizadora XP-PEN Deco01 V2 p...</td>\n      <td>Internacional</td>\n      <td>17</td>\n    </tr>\n    <tr>\n      <th>30</th>\n      <td>2022-06-01</td>\n      <td>https://www.amazon.com.br/digitalizadora-10moo...</td>\n      <td>AMAZON</td>\n      <td>yanazeoficial</td>\n      <td>342.86</td>\n      <td>10</td>\n      <td>34.34</td>\n      <td>343.40</td>\n      <td>B08MDL38KD</td>\n      <td>Mesa digitalizadora 10moons 10 Polegad...</td>\n      <td>Internacional</td>\n      <td>2</td>\n    </tr>\n    <tr>\n      <th>31</th>\n      <td>2022-06-01</td>\n      <td>https://www.amazon.com.br/Caneta-para-Mesa-Dig...</td>\n      <td>AMAZON</td>\n      <td>Tendinfo</td>\n      <td>548.00</td>\n      <td>10</td>\n      <td>54.80</td>\n      <td>548.00</td>\n      <td>B07BL5H6HW</td>\n      <td>Caneta para Mesa Digitalizadora Wacom ...</td>\n      <td>Internacional</td>\n      <td>2</td>\n    </tr>\n    <tr>\n      <th>32</th>\n      <td>2022-06-01</td>\n      <td>https://www.amazon.com.br/H420-Graphics-Drawin...</td>\n      <td>AMAZON</td>\n      <td>HD Store Oficial</td>\n      <td>229.87</td>\n      <td>7</td>\n      <td>32.89</td>\n      <td>230.23</td>\n      <td>B00DM24HNE</td>\n      <td>Huion H420 OSU Tablet Graphics Drawing...</td>\n      <td>Internacional</td>\n      <td>2</td>\n    </tr>\n    <tr>\n      <th>33</th>\n      <td>2022-06-01</td>\n      <td>https://www.amazon.com.br/Mesa-Digitalizadora-...</td>\n      <td>AMAZON</td>\n      <td>Mula Games</td>\n      <td>299.90</td>\n      <td>9</td>\n      <td>33.34</td>\n      <td>300.06</td>\n      <td>B096G7VVCK</td>\n      <td>Mesa Digitalizadora Multilaser 6 poleg...</td>\n      <td>Internacional</td>\n      <td>10</td>\n    </tr>\n    <tr>\n      <th>34</th>\n      <td>2022-06-01</td>\n      <td>https://www.amazon.com.br/MESA-DIGITALIZADORA-...</td>\n      <td>AMAZON</td>\n      <td>Amazon</td>\n      <td>414.89</td>\n      <td>10</td>\n      <td>41.57</td>\n      <td>415.70</td>\n      <td>B08GLTSGQ9</td>\n      <td>MESA DIGITALIZADORA DECO MINI 7</td>\n      <td>Internacional</td>\n      <td>8</td>\n    </tr>\n    <tr>\n      <th>35</th>\n      <td>2022-06-01</td>\n      <td>https://www.amazon.com.br/MESA-DIGITALIZADORA-...</td>\n      <td>AMAZON</td>\n      <td>octo.shop</td>\n      <td>2464.60</td>\n      <td>10</td>\n      <td>246.46</td>\n      <td>2464.60</td>\n      <td>B08FXLLSRX</td>\n      <td>XP-PEN MESA DIGITALIZADORA DISPLAY ART...</td>\n      <td>Internacional</td>\n      <td>5</td>\n    </tr>\n    <tr>\n      <th>36</th>\n      <td>2022-06-01</td>\n      <td>https://www.amazon.com.br/Flat-MOP6125-Verde-F...</td>\n      <td>AMAZON</td>\n      <td>Trades Up</td>\n      <td>46.99</td>\n      <td>0</td>\n      <td>0.00</td>\n      <td>0.00</td>\n      <td>B08D9SFNWK</td>\n      <td>Mop Flat Plus Microfibra Varre e Tira ...</td>\n      <td>Internacional</td>\n      <td>4</td>\n    </tr>\n    <tr>\n      <th>39</th>\n      <td>2022-06-01</td>\n      <td>https://www.amazon.com.br/Digitalizadora-Gaomo...</td>\n      <td>AMAZON</td>\n      <td>MilleniumShop</td>\n      <td>2180.70</td>\n      <td>10</td>\n      <td>218.07</td>\n      <td>2180.70</td>\n      <td>B07YFG742J</td>\n      <td>Mesa Digitalizadora Gaomon PD1161 11,6...</td>\n      <td>Internacional</td>\n      <td>3</td>\n    </tr>\n    <tr>\n      <th>41</th>\n      <td>2022-06-01</td>\n      <td>https://www.amazon.com.br/Wacom-CP91300B2Z-par...</td>\n      <td>AMAZON</td>\n      <td>E-SPOT</td>\n      <td>379.00</td>\n      <td>10</td>\n      <td>37.90</td>\n      <td>379.00</td>\n      <td>B084DVTSC9</td>\n      <td>Wacom Uma caneta CP91300B2Z para Wacom...</td>\n      <td>Internacional</td>\n      <td>3</td>\n    </tr>\n    <tr>\n      <th>47</th>\n      <td>2022-06-01</td>\n      <td>https://www.amazon.com.br/Case-Wacom-Cintiq-13...</td>\n      <td>AMAZON</td>\n      <td>Amazon</td>\n      <td>234.83</td>\n      <td>7</td>\n      <td>33.59</td>\n      <td>235.13</td>\n      <td>B0757XLLZL</td>\n      <td>Case Wacom Cintiq 13 / Companion - ACK...</td>\n      <td>Internacional</td>\n      <td>2</td>\n    </tr>\n  </tbody>\n</table>\n</div>"
     },
     "execution_count": 26,
     "metadata": {},
     "output_type": "execute_result"
    }
   ],
   "source": [
    "Df_more_offers = Df_final[Df_final['MORE'] != 0]\n",
    "Df_more_offers"
   ]
  },
  {
   "cell_type": "code",
   "execution_count": 27,
   "metadata": {
    "pycharm": {
     "name": "#%%\n"
    }
   },
   "outputs": [],
   "source": [
    "def search_more_offers_1(ASIN):\n",
    "    global Amazon_seller_more\n",
    "    \n",
    "    time.sleep(5)\n",
    "\n",
    "    new_url = \"https://www.amazon.com.br/gp/product/ajax/?asin=\" + ASIN + \"&pageno=1&experienceId=aodAjaxMain\"\n",
    "\n",
    "    driver.get(new_url)\n",
    "    \n",
    "    time.sleep(5)\n",
    "\n",
    "    body_el = driver.find_element(By.CSS_SELECTOR, 'body')\n",
    "    html_str = body_el.get_attribute('innerHTML')\n",
    "\n",
    "    Soup = BeautifulSoup(html_str, 'html.parser')\n",
    "\n",
    "    for seller in Soup.find_all(class_='a-size-small a-color-base')[4:]:\n",
    "        Amazon_seller_more.append(seller.text)\n",
    "\n",
    "\n",
    "    Amazon_seller_more =  [s for s in Amazon_seller_more if not 'avaliações' in s]\n",
    "    Amazon_seller_more =  [s for s in Amazon_seller_more if not ' Amazon.com.br ' in s]\n",
    "    Amazon_seller_more =  [s for s in Amazon_seller_more if not 'avaliação' in s]\n",
    "    Amazon_seller_more =  [s for s in Amazon_seller_more if not 'Recém-lançado' in s]\n",
    "\n",
    "    for price in Soup.find_all(class_='a-offscreen')[2:]:\n",
    "        Amazon_price_more.append(price.text)\n",
    "        Amazon_ID_More.append(ASIN)"
   ]
  },
  {
   "cell_type": "code",
   "execution_count": 28,
   "outputs": [],
   "source": [
    "def search_more_offers_2(ASIN):\n",
    "    global Amazon_seller_more\n",
    "\n",
    "    time.sleep(5)\n",
    "\n",
    "    new_url = \"https://www.amazon.com.br/gp/product/ajax/?asin=\" + ASIN + \"&pageno=2&experienceId=aodAjaxMain\"\n",
    "\n",
    "    driver.get(new_url)\n",
    "\n",
    "    time.sleep(5)\n",
    "\n",
    "    body_el = driver.find_element(By.CSS_SELECTOR, 'body')\n",
    "    html_str = body_el.get_attribute('innerHTML')\n",
    "\n",
    "    Soup = BeautifulSoup(html_str, 'html.parser')\n",
    "\n",
    "    for seller in Soup.find_all(class_='a-size-small a-color-base'):\n",
    "        Amazon_seller_more.append(seller.text)\n",
    "\n",
    "\n",
    "    Amazon_seller_more =  [s for s in Amazon_seller_more if not 'avaliações' in s]\n",
    "    Amazon_seller_more =  [s for s in Amazon_seller_more if not ' Amazon.com.br ' in s]\n",
    "    Amazon_seller_more =  [s for s in Amazon_seller_more if not 'avaliação' in s]\n",
    "    Amazon_seller_more =  [s for s in Amazon_seller_more if not 'Recém-lançado' in s]\n",
    "\n",
    "    for price in Soup.find_all(class_='a-offscreen'):\n",
    "        Amazon_price_more.append(price.text)\n",
    "        Amazon_ID_More.append(ASIN)"
   ],
   "metadata": {
    "collapsed": false,
    "pycharm": {
     "name": "#%%\n"
    }
   }
  },
  {
   "cell_type": "code",
   "execution_count": 29,
   "outputs": [],
   "source": [
    "def search_more_offers_3(ASIN):\n",
    "    global Amazon_seller_more\n",
    "\n",
    "    time.sleep(5)\n",
    "\n",
    "    new_url = \"https://www.amazon.com.br/gp/product/ajax/?asin=\" + ASIN + \"&pageno=3&experienceId=aodAjaxMain\"\n",
    "\n",
    "    driver.get(new_url)\n",
    "\n",
    "    time.sleep(5)\n",
    "\n",
    "    body_el = driver.find_element(By.CSS_SELECTOR, 'body')\n",
    "    html_str = body_el.get_attribute('innerHTML')\n",
    "\n",
    "    Soup = BeautifulSoup(html_str, 'html.parser')\n",
    "\n",
    "    for seller in Soup.find_all(class_='a-size-small a-color-base'):\n",
    "        Amazon_seller_more.append(seller.text)\n",
    "\n",
    "\n",
    "    Amazon_seller_more =  [s for s in Amazon_seller_more if not 'avaliações' in s]\n",
    "    Amazon_seller_more =  [s for s in Amazon_seller_more if not ' Amazon.com.br ' in s]\n",
    "    Amazon_seller_more =  [s for s in Amazon_seller_more if not 'avaliação' in s]\n",
    "    Amazon_seller_more =  [s for s in Amazon_seller_more if not 'Recém-lançado' in s]\n",
    "\n",
    "    for price in Soup.find_all(class_='a-offscreen'):\n",
    "        Amazon_price_more.append(price.text)\n",
    "        Amazon_ID_More.append(ASIN)"
   ],
   "metadata": {
    "collapsed": false,
    "pycharm": {
     "name": "#%%\n"
    }
   }
  },
  {
   "cell_type": "code",
   "execution_count": 30,
   "outputs": [],
   "source": [
    "def search_more_offers_4(ASIN):\n",
    "    global Amazon_seller_more\n",
    "\n",
    "    time.sleep(5)\n",
    "\n",
    "    new_url = \"https://www.amazon.com.br/gp/product/ajax/?asin=\" + ASIN + \"&pageno=4&experienceId=aodAjaxMain\"\n",
    "\n",
    "    driver.get(new_url)\n",
    "\n",
    "    time.sleep(5)\n",
    "\n",
    "    body_el = driver.find_element(By.CSS_SELECTOR, 'body')\n",
    "    html_str = body_el.get_attribute('innerHTML')\n",
    "\n",
    "    Soup = BeautifulSoup(html_str, 'html.parser')\n",
    "\n",
    "    for seller in Soup.find_all(class_='a-size-small a-color-base'):\n",
    "        Amazon_seller_more.append(seller.text)\n",
    "\n",
    "\n",
    "    Amazon_seller_more =  [s for s in Amazon_seller_more if not 'avaliações' in s]\n",
    "    Amazon_seller_more =  [s for s in Amazon_seller_more if not ' Amazon.com.br ' in s]\n",
    "    Amazon_seller_more =  [s for s in Amazon_seller_more if not 'avaliação' in s]\n",
    "    Amazon_seller_more =  [s for s in Amazon_seller_more if not 'Recém-lançado' in s]\n",
    "\n",
    "    for price in Soup.find_all(class_='a-offscreen'):\n",
    "        Amazon_price_more.append(price.text)\n",
    "        Amazon_ID_More.append(ASIN)"
   ],
   "metadata": {
    "collapsed": false,
    "pycharm": {
     "name": "#%%\n"
    }
   }
  },
  {
   "cell_type": "code",
   "execution_count": 31,
   "outputs": [],
   "source": [
    "def search_more_offers_5(ASIN):\n",
    "    global Amazon_seller_more\n",
    "\n",
    "    time.sleep(5)\n",
    "\n",
    "    new_url = \"https://www.amazon.com.br/gp/product/ajax/?asin=\" + ASIN + \"&pageno=5&experienceId=aodAjaxMain\"\n",
    "\n",
    "    driver.get(new_url)\n",
    "\n",
    "    time.sleep(5)\n",
    "\n",
    "    body_el = driver.find_element(By.CSS_SELECTOR, 'body')\n",
    "    html_str = body_el.get_attribute('innerHTML')\n",
    "\n",
    "    Soup = BeautifulSoup(html_str, 'html.parser')\n",
    "\n",
    "    for seller in Soup.find_all(class_='a-size-small a-color-base'):\n",
    "        Amazon_seller_more.append(seller.text)\n",
    "\n",
    "\n",
    "    Amazon_seller_more =  [s for s in Amazon_seller_more if not 'avaliações' in s]\n",
    "    Amazon_seller_more =  [s for s in Amazon_seller_more if not ' Amazon.com.br ' in s]\n",
    "    Amazon_seller_more =  [s for s in Amazon_seller_more if not 'avaliação' in s]\n",
    "    Amazon_seller_more =  [s for s in Amazon_seller_more if not 'Recém-lançado' in s]\n",
    "\n",
    "    for price in Soup.find_all(class_='a-offscreen'):\n",
    "        Amazon_price_more.append(price.text)\n",
    "        Amazon_ID_More.append(ASIN)"
   ],
   "metadata": {
    "collapsed": false,
    "pycharm": {
     "name": "#%%\n"
    }
   }
  },
  {
   "cell_type": "code",
   "execution_count": 32,
   "metadata": {
    "pycharm": {
     "name": "#%%\n"
    }
   },
   "outputs": [],
   "source": [
    "for id,more in zip(Df_more_offers.ID, Df_more_offers.MORE):\n",
    "    if more < 10:\n",
    "        search_more_offers_1(id)\n",
    "    elif (more > 10) and (more < 20):\n",
    "        search_more_offers_1(id)\n",
    "        search_more_offers_2(id)\n",
    "    elif (more > 20) and (more < 30):\n",
    "        search_more_offers_1(id)\n",
    "        search_more_offers_2(id)\n",
    "        search_more_offers_3(id)\n",
    "    elif (more > 30) and (more < 40):\n",
    "        search_more_offers_1(id)\n",
    "        search_more_offers_2(id)\n",
    "        search_more_offers_3(id)\n",
    "        search_more_offers_4(id)\n",
    "    elif (more > 40) and (more < 50):\n",
    "        search_more_offers_1(id)\n",
    "        search_more_offers_2(id)\n",
    "        search_more_offers_3(id)\n",
    "        search_more_offers_4(id)\n",
    "        search_more_offers_5(id)"
   ]
  },
  {
   "cell_type": "code",
   "execution_count": 29,
   "outputs": [],
   "source": [
    "Amazon_seller_more = []\n",
    "Amazon_price_more = []\n",
    "Amazon_ID_More = []"
   ],
   "metadata": {
    "collapsed": false,
    "pycharm": {
     "name": "#%%\n"
    }
   }
  },
  {
   "cell_type": "code",
   "execution_count": 33,
   "outputs": [
    {
     "name": "stdout",
     "output_type": "stream",
     "text": [
      "218\n",
      "218\n",
      "218\n"
     ]
    }
   ],
   "source": [
    "print(len(Amazon_seller_more))\n",
    "print(len(Amazon_ID_More))\n",
    "print(len(Amazon_price_more))"
   ],
   "metadata": {
    "collapsed": false,
    "pycharm": {
     "name": "#%%\n"
    }
   }
  },
  {
   "cell_type": "code",
   "execution_count": 95,
   "outputs": [],
   "source": [
    "new_url = \"https://www.amazon.com.br/gp/product/ajax/?asin=\" + \"B079NWPZTF\" + \"&pageno=1&experienceId=aodAjaxMain\"\n",
    "\n",
    "driver.get(new_url)\n",
    "\n",
    "time.sleep(5)\n",
    "\n",
    "body_el = driver.find_element(By.CSS_SELECTOR, 'body')\n",
    "html_str = body_el.get_attribute('innerHTML')\n",
    "\n",
    "Soup = BeautifulSoup(html_str, 'html.parser')\n",
    "\n",
    "for seller in Soup.find_all(class_='a-size-small a-color-base')[4:]:\n",
    "    Amazon_seller_more.append(seller.text)\n",
    "\n",
    "\n",
    "Amazon_seller_more =  [s for s in Amazon_seller_more if not 'avaliações' in s]\n",
    "Amazon_seller_more =  [s for s in Amazon_seller_more if not ' Amazon.com.br ' in s]\n",
    "Amazon_seller_more =  [s for s in Amazon_seller_more if not 'avaliação' in s]\n",
    "Amazon_seller_more =  [s for s in Amazon_seller_more if not 'Recém-lançado' in s]\n",
    "\n",
    "for price in Soup.find_all(class_='a-offscreen')[2:]:\n",
    "    Amazon_price_more.append(price.text)\n",
    "    Amazon_ID_More.append('B079NWPZTF')"
   ],
   "metadata": {
    "collapsed": false,
    "pycharm": {
     "name": "#%%\n"
    }
   }
  },
  {
   "cell_type": "code",
   "execution_count": 97,
   "outputs": [
    {
     "name": "stdout",
     "output_type": "stream",
     "text": [
      "Triplenet Pricing INC\n",
      "E-SPOT\n",
      "DONA JUREMA BOUTIK\n",
      "INPOWER\n",
      "Amazon.com.br\n",
      "Megaprice Comercio\n",
      "MAGIC WORLD ELETRONICOS\n",
      "REX INFORMATICA\n",
      "Tudo à Beça\n",
      "PHOENIX ELETRONICOS\n",
      "Gigantec\n",
      "Angel Eletronicos\n",
      "SHOPAR INFO\n",
      "Qualitech Informática\n",
      "Primetek Computadores\n",
      "Pichau\n",
      "OFICINA DOS BITS\n",
      "W-TECH IMPORTS\n",
      "HD Store Oficial\n",
      "Loja iPlace\n",
      "DOTCOMP\n",
      "BRDF Informática\n",
      "Triplenet Pricing INC\n",
      "Infinity Informática\n",
      "bringIT\n",
      "E-SPOT\n",
      "Kadri Tecnologia\n",
      "RPW SERVIÇOS INTEGRADOS LTDA\n",
      "2K Shop\n",
      "StoreAtual. com\n",
      "Bits & Bytes Tecnologia\n",
      "Skill Gaming\n",
      "Unimporte\n",
      "IBYTE\n",
      "Tendinfo\n",
      "INFOSHOP.\n",
      "Tudo à Beça\n",
      "OFICINA DOS BITS\n",
      "Gigantec\n",
      "Triplenet Pricing INC\n",
      "W-TECH IMPORTS\n",
      "TechShed\n",
      "E-SPOT\n",
      "Bits & Bytes Tecnologia\n",
      "Tendinfo\n",
      "INFOSHOP.\n",
      "Mil Coisas droship\n",
      " Recém-lançado \n",
      "Mil Coisas Drop\n",
      " Recém-lançado \n",
      "Amazon.com.br\n",
      "Loja iPlace\n",
      "BalbinoShop\n",
      "E-SPOT\n",
      "W-TECH IMPORTS\n",
      "Tendinfo\n"
     ]
    }
   ],
   "source": [
    "for name in Amazon_seller_more:\n",
    "    print(name)"
   ],
   "metadata": {
    "collapsed": false,
    "pycharm": {
     "name": "#%%\n"
    }
   }
  },
  {
   "cell_type": "code",
   "execution_count": 47,
   "outputs": [
    {
     "name": "stdout",
     "output_type": "stream",
     "text": [
      "R$ 6.323,80\n",
      "R$ 8.599,00\n",
      "R$ 11.499,00\n"
     ]
    }
   ],
   "source": [
    "for price in Amazon_price_more:\n",
    "    print(price)"
   ],
   "metadata": {
    "collapsed": false,
    "pycharm": {
     "name": "#%%\n"
    }
   }
  },
  {
   "cell_type": "code",
   "execution_count": 98,
   "metadata": {
    "pycharm": {
     "name": "#%%\n"
    }
   },
   "outputs": [
    {
     "name": "stdout",
     "output_type": "stream",
     "text": [
      "56\n",
      "54\n",
      "54\n"
     ]
    }
   ],
   "source": [
    "print(len(Amazon_seller_more))\n",
    "print(len(Amazon_ID_More))\n",
    "print(len(Amazon_price_more))"
   ]
  },
  {
   "cell_type": "code",
   "execution_count": 78,
   "outputs": [],
   "source": [
    "Amazon_seller_more = []\n",
    "Amazon_price_more = []"
   ],
   "metadata": {
    "collapsed": false,
    "pycharm": {
     "name": "#%%\n"
    }
   }
  },
  {
   "cell_type": "code",
   "execution_count": 31,
   "outputs": [
    {
     "data": {
      "text/plain": "[' INFOSHOP.',\n ' INFOSHOP.',\n ' INFOSHOP.',\n ' INFOSHOP.',\n ' Tudo à Beça',\n ' OFICINA DOS BITS',\n ' Gigantec',\n ' Triplenet Pricing INC',\n ' W-TECH IMPORTS',\n ' TechShed',\n ' E-SPOT',\n ' Bits & Bytes Tecnologia',\n ' Tendinfo']"
     },
     "execution_count": 31,
     "metadata": {},
     "output_type": "execute_result"
    }
   ],
   "source": [
    "Amazon_seller_more"
   ],
   "metadata": {
    "collapsed": false,
    "pycharm": {
     "name": "#%%\n"
    }
   }
  },
  {
   "cell_type": "code",
   "execution_count": 107,
   "outputs": [],
   "source": [
    "Amazon_seller_more.append(\"Erro\")"
   ],
   "metadata": {
    "collapsed": false,
    "pycharm": {
     "name": "#%%\n"
    }
   }
  },
  {
   "cell_type": "code",
   "execution_count": 34,
   "outputs": [],
   "source": [
    "Dataframe = pd.DataFrame()\n",
    "\n",
    "Dataframe['ID'] = Amazon_ID_More\n",
    "Dataframe['SELLER'] = Amazon_seller_more\n",
    "Dataframe['PRICE'] = Amazon_price_more"
   ],
   "metadata": {
    "collapsed": false,
    "pycharm": {
     "name": "#%%\n"
    }
   }
  },
  {
   "cell_type": "code",
   "execution_count": 35,
   "outputs": [
    {
     "data": {
      "text/plain": "             ID                 SELLER         PRICE\n0    B07L77GTTY  Triplenet Pricing INC   R$ 6.382,25\n1    B07L77GTTY                 E-SPOT   R$ 8.599,00\n2    B07L77GTTY     DONA JUREMA BOUTIK  R$ 11.499,00\n3    B07195NDY9  Triplenet Pricing INC     R$ 458,99\n4    B0785S55QQ   BIG BOSS ELETRONICOS     R$ 204,90\n..          ...                    ...           ...\n213  B07YFG742J     DONA JUREMA BOUTIK   R$ 2.135,00\n214  B07YFG742J       Promotion.Shop 💎   R$ 2.185,45\n215  B084DVTSC9  Triplenet Pricing INC     R$ 402,14\n216  B084DVTSC9             BUY SUPPLY     R$ 811,01\n217  B0757XLLZL       HD Store Oficial     R$ 395,20\n\n[218 rows x 3 columns]",
      "text/html": "<div>\n<style scoped>\n    .dataframe tbody tr th:only-of-type {\n        vertical-align: middle;\n    }\n\n    .dataframe tbody tr th {\n        vertical-align: top;\n    }\n\n    .dataframe thead th {\n        text-align: right;\n    }\n</style>\n<table border=\"1\" class=\"dataframe\">\n  <thead>\n    <tr style=\"text-align: right;\">\n      <th></th>\n      <th>ID</th>\n      <th>SELLER</th>\n      <th>PRICE</th>\n    </tr>\n  </thead>\n  <tbody>\n    <tr>\n      <th>0</th>\n      <td>B07L77GTTY</td>\n      <td>Triplenet Pricing INC</td>\n      <td>R$ 6.382,25</td>\n    </tr>\n    <tr>\n      <th>1</th>\n      <td>B07L77GTTY</td>\n      <td>E-SPOT</td>\n      <td>R$ 8.599,00</td>\n    </tr>\n    <tr>\n      <th>2</th>\n      <td>B07L77GTTY</td>\n      <td>DONA JUREMA BOUTIK</td>\n      <td>R$ 11.499,00</td>\n    </tr>\n    <tr>\n      <th>3</th>\n      <td>B07195NDY9</td>\n      <td>Triplenet Pricing INC</td>\n      <td>R$ 458,99</td>\n    </tr>\n    <tr>\n      <th>4</th>\n      <td>B0785S55QQ</td>\n      <td>BIG BOSS ELETRONICOS</td>\n      <td>R$ 204,90</td>\n    </tr>\n    <tr>\n      <th>...</th>\n      <td>...</td>\n      <td>...</td>\n      <td>...</td>\n    </tr>\n    <tr>\n      <th>213</th>\n      <td>B07YFG742J</td>\n      <td>DONA JUREMA BOUTIK</td>\n      <td>R$ 2.135,00</td>\n    </tr>\n    <tr>\n      <th>214</th>\n      <td>B07YFG742J</td>\n      <td>Promotion.Shop 💎</td>\n      <td>R$ 2.185,45</td>\n    </tr>\n    <tr>\n      <th>215</th>\n      <td>B084DVTSC9</td>\n      <td>Triplenet Pricing INC</td>\n      <td>R$ 402,14</td>\n    </tr>\n    <tr>\n      <th>216</th>\n      <td>B084DVTSC9</td>\n      <td>BUY SUPPLY</td>\n      <td>R$ 811,01</td>\n    </tr>\n    <tr>\n      <th>217</th>\n      <td>B0757XLLZL</td>\n      <td>HD Store Oficial</td>\n      <td>R$ 395,20</td>\n    </tr>\n  </tbody>\n</table>\n<p>218 rows × 3 columns</p>\n</div>"
     },
     "execution_count": 35,
     "metadata": {},
     "output_type": "execute_result"
    }
   ],
   "source": [
    "Dataframe"
   ],
   "metadata": {
    "collapsed": false,
    "pycharm": {
     "name": "#%%\n"
    }
   }
  },
  {
   "cell_type": "code",
   "execution_count": 32,
   "outputs": [
    {
     "data": {
      "text/plain": "[' Bebê Veste Luxo',\n ' BabyeKids',\n ' TECNOTOY COMERCIAL',\n ' Avile Shop',\n ' TRP STORE',\n ' VIP STORE BRINQUEDOS']"
     },
     "execution_count": 32,
     "metadata": {},
     "output_type": "execute_result"
    }
   ],
   "source": [
    "Amazon_seller_more"
   ],
   "metadata": {
    "collapsed": false,
    "pycharm": {
     "name": "#%%\n"
    }
   }
  },
  {
   "cell_type": "code",
   "execution_count": 25,
   "outputs": [
    {
     "data": {
      "text/plain": "['R$\\xa0349,00']"
     },
     "execution_count": 25,
     "metadata": {},
     "output_type": "execute_result"
    }
   ],
   "source": [
    "Amazon_price_more"
   ],
   "metadata": {
    "collapsed": false,
    "pycharm": {
     "name": "#%%\n"
    }
   }
  },
  {
   "cell_type": "code",
   "execution_count": 36,
   "metadata": {
    "pycharm": {
     "name": "#%%\n"
    }
   },
   "outputs": [
    {
     "data": {
      "text/plain": "             ID        DATE MARKETPLACE                 SELLER     PRICE  \\\n0    B07L77GTTY  2022-06-01      AMAZON  Triplenet Pricing INC   6382.25   \n1    B07L77GTTY  2022-06-01      AMAZON                 E-SPOT   8599.00   \n2    B07L77GTTY  2022-06-01      AMAZON     DONA JUREMA BOUTIK  11499.00   \n3    B07195NDY9  2022-06-01      AMAZON  Triplenet Pricing INC    458.99   \n4    B0785S55QQ  2022-06-01      AMAZON   BIG BOSS ELETRONICOS    204.90   \n..          ...         ...         ...                    ...       ...   \n213  B07YFG742J  2022-06-01      AMAZON     DONA JUREMA BOUTIK   2135.00   \n214  B07YFG742J  2022-06-01      AMAZON       Promotion.Shop 💎   2185.45   \n215  B084DVTSC9  2022-06-01      AMAZON  Triplenet Pricing INC    402.14   \n216  B084DVTSC9  2022-06-01      AMAZON             BUY SUPPLY    811.01   \n217  B0757XLLZL  2022-06-01      AMAZON       HD Store Oficial    395.20   \n\n     PARCEL  INSTALLMENT  INSTALLMENT_PAYMENT INTERNACIONAL  \\\n0        10      638.225              63822.5          ERRO   \n1        10      859.900              85990.0          ERRO   \n2        10     1149.900             114990.0          ERRO   \n3        10       45.899               4589.9          ERRO   \n4        10       20.490               2049.0          ERRO   \n..      ...          ...                  ...           ...   \n213      10      213.500              21350.0          ERRO   \n214      10      218.545              21854.5          ERRO   \n215      10       40.214               4021.4          ERRO   \n216      10       81.101               8110.1          ERRO   \n217      10       39.520               3952.0          ERRO   \n\n                                                   URL  \\\n0    https://www.amazon.com.br/Display-Interativo-C...   \n1    https://www.amazon.com.br/Display-Interativo-C...   \n2    https://www.amazon.com.br/Display-Interativo-C...   \n3    https://www.amazon.com.br/Folha-Textura-Padr%C...   \n4    https://www.amazon.com.br/Mesa-Digitalizadora-...   \n..                                                 ...   \n213  https://www.amazon.com.br/Digitalizadora-Gaomo...   \n214  https://www.amazon.com.br/Digitalizadora-Gaomo...   \n215  https://www.amazon.com.br/Wacom-CP91300B2Z-par...   \n216  https://www.amazon.com.br/Wacom-CP91300B2Z-par...   \n217  https://www.amazon.com.br/Case-Wacom-Cintiq-13...   \n\n                                               PRODUCT  \n0            Display Interativo Cintiq 16, Wacom, D...  \n1            Display Interativo Cintiq 16, Wacom, D...  \n2            Display Interativo Cintiq 16, Wacom, D...  \n3            Folha De Textura Wacom G - Ack122312. ...  \n4            Wacom One CTL472 - Mesa Digitalizadora...  \n..                                                 ...  \n213          Mesa Digitalizadora Gaomon PD1161 11,6...  \n214          Mesa Digitalizadora Gaomon PD1161 11,6...  \n215          Wacom Uma caneta CP91300B2Z para Wacom...  \n216          Wacom Uma caneta CP91300B2Z para Wacom...  \n217          Case Wacom Cintiq 13 / Companion - ACK...  \n\n[218 rows x 11 columns]",
      "text/html": "<div>\n<style scoped>\n    .dataframe tbody tr th:only-of-type {\n        vertical-align: middle;\n    }\n\n    .dataframe tbody tr th {\n        vertical-align: top;\n    }\n\n    .dataframe thead th {\n        text-align: right;\n    }\n</style>\n<table border=\"1\" class=\"dataframe\">\n  <thead>\n    <tr style=\"text-align: right;\">\n      <th></th>\n      <th>ID</th>\n      <th>DATE</th>\n      <th>MARKETPLACE</th>\n      <th>SELLER</th>\n      <th>PRICE</th>\n      <th>PARCEL</th>\n      <th>INSTALLMENT</th>\n      <th>INSTALLMENT_PAYMENT</th>\n      <th>INTERNACIONAL</th>\n      <th>URL</th>\n      <th>PRODUCT</th>\n    </tr>\n  </thead>\n  <tbody>\n    <tr>\n      <th>0</th>\n      <td>B07L77GTTY</td>\n      <td>2022-06-01</td>\n      <td>AMAZON</td>\n      <td>Triplenet Pricing INC</td>\n      <td>6382.25</td>\n      <td>10</td>\n      <td>638.225</td>\n      <td>63822.5</td>\n      <td>ERRO</td>\n      <td>https://www.amazon.com.br/Display-Interativo-C...</td>\n      <td>Display Interativo Cintiq 16, Wacom, D...</td>\n    </tr>\n    <tr>\n      <th>1</th>\n      <td>B07L77GTTY</td>\n      <td>2022-06-01</td>\n      <td>AMAZON</td>\n      <td>E-SPOT</td>\n      <td>8599.00</td>\n      <td>10</td>\n      <td>859.900</td>\n      <td>85990.0</td>\n      <td>ERRO</td>\n      <td>https://www.amazon.com.br/Display-Interativo-C...</td>\n      <td>Display Interativo Cintiq 16, Wacom, D...</td>\n    </tr>\n    <tr>\n      <th>2</th>\n      <td>B07L77GTTY</td>\n      <td>2022-06-01</td>\n      <td>AMAZON</td>\n      <td>DONA JUREMA BOUTIK</td>\n      <td>11499.00</td>\n      <td>10</td>\n      <td>1149.900</td>\n      <td>114990.0</td>\n      <td>ERRO</td>\n      <td>https://www.amazon.com.br/Display-Interativo-C...</td>\n      <td>Display Interativo Cintiq 16, Wacom, D...</td>\n    </tr>\n    <tr>\n      <th>3</th>\n      <td>B07195NDY9</td>\n      <td>2022-06-01</td>\n      <td>AMAZON</td>\n      <td>Triplenet Pricing INC</td>\n      <td>458.99</td>\n      <td>10</td>\n      <td>45.899</td>\n      <td>4589.9</td>\n      <td>ERRO</td>\n      <td>https://www.amazon.com.br/Folha-Textura-Padr%C...</td>\n      <td>Folha De Textura Wacom G - Ack122312. ...</td>\n    </tr>\n    <tr>\n      <th>4</th>\n      <td>B0785S55QQ</td>\n      <td>2022-06-01</td>\n      <td>AMAZON</td>\n      <td>BIG BOSS ELETRONICOS</td>\n      <td>204.90</td>\n      <td>10</td>\n      <td>20.490</td>\n      <td>2049.0</td>\n      <td>ERRO</td>\n      <td>https://www.amazon.com.br/Mesa-Digitalizadora-...</td>\n      <td>Wacom One CTL472 - Mesa Digitalizadora...</td>\n    </tr>\n    <tr>\n      <th>...</th>\n      <td>...</td>\n      <td>...</td>\n      <td>...</td>\n      <td>...</td>\n      <td>...</td>\n      <td>...</td>\n      <td>...</td>\n      <td>...</td>\n      <td>...</td>\n      <td>...</td>\n      <td>...</td>\n    </tr>\n    <tr>\n      <th>213</th>\n      <td>B07YFG742J</td>\n      <td>2022-06-01</td>\n      <td>AMAZON</td>\n      <td>DONA JUREMA BOUTIK</td>\n      <td>2135.00</td>\n      <td>10</td>\n      <td>213.500</td>\n      <td>21350.0</td>\n      <td>ERRO</td>\n      <td>https://www.amazon.com.br/Digitalizadora-Gaomo...</td>\n      <td>Mesa Digitalizadora Gaomon PD1161 11,6...</td>\n    </tr>\n    <tr>\n      <th>214</th>\n      <td>B07YFG742J</td>\n      <td>2022-06-01</td>\n      <td>AMAZON</td>\n      <td>Promotion.Shop 💎</td>\n      <td>2185.45</td>\n      <td>10</td>\n      <td>218.545</td>\n      <td>21854.5</td>\n      <td>ERRO</td>\n      <td>https://www.amazon.com.br/Digitalizadora-Gaomo...</td>\n      <td>Mesa Digitalizadora Gaomon PD1161 11,6...</td>\n    </tr>\n    <tr>\n      <th>215</th>\n      <td>B084DVTSC9</td>\n      <td>2022-06-01</td>\n      <td>AMAZON</td>\n      <td>Triplenet Pricing INC</td>\n      <td>402.14</td>\n      <td>10</td>\n      <td>40.214</td>\n      <td>4021.4</td>\n      <td>ERRO</td>\n      <td>https://www.amazon.com.br/Wacom-CP91300B2Z-par...</td>\n      <td>Wacom Uma caneta CP91300B2Z para Wacom...</td>\n    </tr>\n    <tr>\n      <th>216</th>\n      <td>B084DVTSC9</td>\n      <td>2022-06-01</td>\n      <td>AMAZON</td>\n      <td>BUY SUPPLY</td>\n      <td>811.01</td>\n      <td>10</td>\n      <td>81.101</td>\n      <td>8110.1</td>\n      <td>ERRO</td>\n      <td>https://www.amazon.com.br/Wacom-CP91300B2Z-par...</td>\n      <td>Wacom Uma caneta CP91300B2Z para Wacom...</td>\n    </tr>\n    <tr>\n      <th>217</th>\n      <td>B0757XLLZL</td>\n      <td>2022-06-01</td>\n      <td>AMAZON</td>\n      <td>HD Store Oficial</td>\n      <td>395.20</td>\n      <td>10</td>\n      <td>39.520</td>\n      <td>3952.0</td>\n      <td>ERRO</td>\n      <td>https://www.amazon.com.br/Case-Wacom-Cintiq-13...</td>\n      <td>Case Wacom Cintiq 13 / Companion - ACK...</td>\n    </tr>\n  </tbody>\n</table>\n<p>218 rows × 11 columns</p>\n</div>"
     },
     "execution_count": 36,
     "metadata": {},
     "output_type": "execute_result"
    }
   ],
   "source": [
    "Dataframe_More = pd.DataFrame()\n",
    "Dataframe_More['ID'] = Amazon_ID_More\n",
    "\n",
    "Dataframe_More['DATE'] = pd.to_datetime('today', errors='ignore').date()\n",
    "\n",
    "Dataframe_More['MARKETPLACE'] = 'AMAZON'\n",
    "\n",
    "Dataframe_More['SELLER'] = Amazon_seller_more\n",
    "\n",
    "Dataframe_More['PRICE'] = Amazon_price_more\n",
    "Dataframe_More['PRICE'] = Dataframe_More['PRICE'].str.replace(\".\",\"\", regex=True)\n",
    "Dataframe_More['PRICE'] = Dataframe_More['PRICE'].str.replace(\"R$\",\"\", regex=False)\n",
    "Dataframe_More['PRICE'] = Dataframe_More['PRICE'].str.replace(\",\",\".\", regex=True)\n",
    "Dataframe_More['PRICE'] = Dataframe_More['PRICE'].astype('float')\n",
    "\n",
    "Dataframe_More['PARCEL'] = 10\n",
    "\n",
    "Dataframe_More['INSTALLMENT'] = Dataframe_More['PRICE'] / Dataframe_More['PARCEL']\n",
    "\n",
    "Dataframe_More['INSTALLMENT_PAYMENT'] = Dataframe_More['PRICE'] * Dataframe_More['PARCEL']\n",
    "\n",
    "Dataframe_More['INTERNACIONAL'] = 'ERRO'\n",
    "\n",
    "url_names = []\n",
    "for id in Dataframe_More['ID']:\n",
    "    url_names.append(Df_final.loc[Df_final['ID'] == id,'URL'].values[0])\n",
    "\n",
    "products_names = []\n",
    "for id in Dataframe_More['ID']:\n",
    "    products_names.append(Df_final.loc[Df_final['ID'] == id,'PRODUCT'].values[0])\n",
    "\n",
    "Dataframe_More['URL'] = url_names\n",
    "Dataframe_More['PRODUCT'] = products_names\n",
    "\n",
    "Dataframe_More"
   ]
  },
  {
   "cell_type": "code",
   "execution_count": null,
   "outputs": [],
   "source": [],
   "metadata": {
    "collapsed": false,
    "pycharm": {
     "name": "#%%\n"
    }
   }
  },
  {
   "cell_type": "code",
   "execution_count": 37,
   "outputs": [],
   "source": [
    "Df_final.to_excel(r\"C:\\Users\\pedro\\Documents\\Turte Brand Protection\\Turtle_Thinker_Alpha_0.1\\AMAZON.xlsx\", index=False)\n",
    "Dataframe_Button.to_excel(r\"C:\\Users\\pedro\\Documents\\Turte Brand Protection\\Turtle_Thinker_Alpha_0.1\\AMAZON_BUTTON.xlsx\", index=False)\n",
    "Dataframe_More.to_excel(r\"C:\\Users\\pedro\\Documents\\Turte Brand Protection\\Turtle_Thinker_Alpha_0.1\\AMAZON_MORE.xlsx\", index=False)"
   ],
   "metadata": {
    "collapsed": false,
    "pycharm": {
     "name": "#%%\n"
    }
   }
  },
  {
   "cell_type": "code",
   "execution_count": 53,
   "outputs": [
    {
     "data": {
      "text/plain": "          DATE                                                URL MARKETPLACE  \\\n1   2022-05-31  https://www.amazon.com.br/C%C3%A2mera-Black-Pr...      AMAZON   \n34  2022-05-31  https://www.amazon.com.br/Acess%C3%B3rios-para...      AMAZON   \n35  2022-05-31  https://www.amazon.com.br/fengny-Substitui%C3%...      AMAZON   \n38  2022-05-31  https://www.amazon.com.br/Zwbfu-acess%C3%B3rio...      AMAZON   \n40  2022-05-31  https://www.amazon.com.br/Conjunto-acess%C3%B3...      AMAZON   \n43  2022-05-31  https://www.amazon.com.br/Kit-50-Acess%C3%B3ri...      AMAZON   \n44  2022-05-31  https://www.amazon.com.br/GoPole-Alcan%C3%A7a-...      AMAZON   \n53  2022-05-31  https://www.amazon.com.br/Cucudy-subaqu%C3%A1t...      AMAZON   \n61  2022-05-31  https://www.amazon.com.br/Zwbfu-XTGP559-prote%...      AMAZON   \n62  2022-05-31  https://www.amazon.com.br/transporte-acess%C3%...      AMAZON   \n63  2022-05-31  https://www.amazon.com.br/Insta360-imperme%C3%...      AMAZON   \n64  2022-05-31  https://www.amazon.com.br/Porta-Lateral-Compat...      AMAZON   \n65  2022-05-31  https://www.amazon.com.br/Trip%C3%A9-Bast%C3%A...      AMAZON   \n\n         SELLER    PRICE  PARCEL  INSTALLMENT  INSTALLMENT_PAYMENT  \\\n1   Detona Shop  2269.53      10       226.98              2269.80   \n34       FUNPro   275.00       9        30.60               275.40   \n35     kokorest   183.40       6        30.60               183.60   \n38       Jeneza   177.99       5        35.63               178.15   \n40     Minimini    75.00       2        37.50                75.00   \n43       Amazon   342.14      10        34.25               342.50   \n44       FUNPro   208.40       6        34.75               208.50   \n53       Jeneza    95.18       3        31.74                95.22   \n61       Jeneza   316.99      10        31.78               317.80   \n62   wecome2021   158.00       5        31.60               158.00   \n63  EVO Gimbals  3636.86      10       363.74              3637.40   \n64       FUNPro    34.90       0         0.00                 0.00   \n65       FUNPro   142.00       4        35.50               142.00   \n\n            ID                                            PRODUCT  \\\n1   B07JH83VBW          Câmera Hero 7 Black à Prova D’água 12M...   \n34  B086M7FK58          Kit de Acessórios para GoPro Hero 8 Bl...   \n35  B09ZPB2QW3          fengny Substituição de controle remoto...   \n38  B09GJMPY6R          Zwbfu Kit de acessórios para câmera de...   \n40  B082X8HPLL          Conjunto de acessórios para câmera Mob...   \n43  B07LFLJBW4          Kit 50 Em 1 De Acessórios Para Gopro  ...   \n44  B00B3YFDBS          GoPole Alcança de extensão de 14 a 101...   \n53  B08TTPW7DW          Cucudy Câmera de ação capa protetora à...   \n61  B09GJGW62Z          Zwbfu Câmera XTGP559 Porta de cúpula c...   \n62  B01H6OP92G          Estojo de transporte para GoPro Hero(2...   \n63  B08M3B9754          Insta360 Câmera de ação impermeável ON...   \n64  B09D8NZV8J          Porta Lateral Compatível com GoPro Her...   \n65  B08HV3FYQJ          Mini Tripé e Bastão para GoPro e Câmer...   \n\n    INTERNACIONAL  MORE  \n1   Internacional     0  \n34  Internacional     0  \n35  Internacional     0  \n38  Internacional     0  \n40  Internacional     0  \n43  Internacional     0  \n44  Internacional     0  \n53  Internacional     0  \n61  Internacional     0  \n62  Internacional     0  \n63  Internacional     0  \n64  Internacional     0  \n65  Internacional     0  ",
      "text/html": "<div>\n<style scoped>\n    .dataframe tbody tr th:only-of-type {\n        vertical-align: middle;\n    }\n\n    .dataframe tbody tr th {\n        vertical-align: top;\n    }\n\n    .dataframe thead th {\n        text-align: right;\n    }\n</style>\n<table border=\"1\" class=\"dataframe\">\n  <thead>\n    <tr style=\"text-align: right;\">\n      <th></th>\n      <th>DATE</th>\n      <th>URL</th>\n      <th>MARKETPLACE</th>\n      <th>SELLER</th>\n      <th>PRICE</th>\n      <th>PARCEL</th>\n      <th>INSTALLMENT</th>\n      <th>INSTALLMENT_PAYMENT</th>\n      <th>ID</th>\n      <th>PRODUCT</th>\n      <th>INTERNACIONAL</th>\n      <th>MORE</th>\n    </tr>\n  </thead>\n  <tbody>\n    <tr>\n      <th>1</th>\n      <td>2022-05-31</td>\n      <td>https://www.amazon.com.br/C%C3%A2mera-Black-Pr...</td>\n      <td>AMAZON</td>\n      <td>Detona Shop</td>\n      <td>2269.53</td>\n      <td>10</td>\n      <td>226.98</td>\n      <td>2269.80</td>\n      <td>B07JH83VBW</td>\n      <td>Câmera Hero 7 Black à Prova D’água 12M...</td>\n      <td>Internacional</td>\n      <td>0</td>\n    </tr>\n    <tr>\n      <th>34</th>\n      <td>2022-05-31</td>\n      <td>https://www.amazon.com.br/Acess%C3%B3rios-para...</td>\n      <td>AMAZON</td>\n      <td>FUNPro</td>\n      <td>275.00</td>\n      <td>9</td>\n      <td>30.60</td>\n      <td>275.40</td>\n      <td>B086M7FK58</td>\n      <td>Kit de Acessórios para GoPro Hero 8 Bl...</td>\n      <td>Internacional</td>\n      <td>0</td>\n    </tr>\n    <tr>\n      <th>35</th>\n      <td>2022-05-31</td>\n      <td>https://www.amazon.com.br/fengny-Substitui%C3%...</td>\n      <td>AMAZON</td>\n      <td>kokorest</td>\n      <td>183.40</td>\n      <td>6</td>\n      <td>30.60</td>\n      <td>183.60</td>\n      <td>B09ZPB2QW3</td>\n      <td>fengny Substituição de controle remoto...</td>\n      <td>Internacional</td>\n      <td>0</td>\n    </tr>\n    <tr>\n      <th>38</th>\n      <td>2022-05-31</td>\n      <td>https://www.amazon.com.br/Zwbfu-acess%C3%B3rio...</td>\n      <td>AMAZON</td>\n      <td>Jeneza</td>\n      <td>177.99</td>\n      <td>5</td>\n      <td>35.63</td>\n      <td>178.15</td>\n      <td>B09GJMPY6R</td>\n      <td>Zwbfu Kit de acessórios para câmera de...</td>\n      <td>Internacional</td>\n      <td>0</td>\n    </tr>\n    <tr>\n      <th>40</th>\n      <td>2022-05-31</td>\n      <td>https://www.amazon.com.br/Conjunto-acess%C3%B3...</td>\n      <td>AMAZON</td>\n      <td>Minimini</td>\n      <td>75.00</td>\n      <td>2</td>\n      <td>37.50</td>\n      <td>75.00</td>\n      <td>B082X8HPLL</td>\n      <td>Conjunto de acessórios para câmera Mob...</td>\n      <td>Internacional</td>\n      <td>0</td>\n    </tr>\n    <tr>\n      <th>43</th>\n      <td>2022-05-31</td>\n      <td>https://www.amazon.com.br/Kit-50-Acess%C3%B3ri...</td>\n      <td>AMAZON</td>\n      <td>Amazon</td>\n      <td>342.14</td>\n      <td>10</td>\n      <td>34.25</td>\n      <td>342.50</td>\n      <td>B07LFLJBW4</td>\n      <td>Kit 50 Em 1 De Acessórios Para Gopro  ...</td>\n      <td>Internacional</td>\n      <td>0</td>\n    </tr>\n    <tr>\n      <th>44</th>\n      <td>2022-05-31</td>\n      <td>https://www.amazon.com.br/GoPole-Alcan%C3%A7a-...</td>\n      <td>AMAZON</td>\n      <td>FUNPro</td>\n      <td>208.40</td>\n      <td>6</td>\n      <td>34.75</td>\n      <td>208.50</td>\n      <td>B00B3YFDBS</td>\n      <td>GoPole Alcança de extensão de 14 a 101...</td>\n      <td>Internacional</td>\n      <td>0</td>\n    </tr>\n    <tr>\n      <th>53</th>\n      <td>2022-05-31</td>\n      <td>https://www.amazon.com.br/Cucudy-subaqu%C3%A1t...</td>\n      <td>AMAZON</td>\n      <td>Jeneza</td>\n      <td>95.18</td>\n      <td>3</td>\n      <td>31.74</td>\n      <td>95.22</td>\n      <td>B08TTPW7DW</td>\n      <td>Cucudy Câmera de ação capa protetora à...</td>\n      <td>Internacional</td>\n      <td>0</td>\n    </tr>\n    <tr>\n      <th>61</th>\n      <td>2022-05-31</td>\n      <td>https://www.amazon.com.br/Zwbfu-XTGP559-prote%...</td>\n      <td>AMAZON</td>\n      <td>Jeneza</td>\n      <td>316.99</td>\n      <td>10</td>\n      <td>31.78</td>\n      <td>317.80</td>\n      <td>B09GJGW62Z</td>\n      <td>Zwbfu Câmera XTGP559 Porta de cúpula c...</td>\n      <td>Internacional</td>\n      <td>0</td>\n    </tr>\n    <tr>\n      <th>62</th>\n      <td>2022-05-31</td>\n      <td>https://www.amazon.com.br/transporte-acess%C3%...</td>\n      <td>AMAZON</td>\n      <td>wecome2021</td>\n      <td>158.00</td>\n      <td>5</td>\n      <td>31.60</td>\n      <td>158.00</td>\n      <td>B01H6OP92G</td>\n      <td>Estojo de transporte para GoPro Hero(2...</td>\n      <td>Internacional</td>\n      <td>0</td>\n    </tr>\n    <tr>\n      <th>63</th>\n      <td>2022-05-31</td>\n      <td>https://www.amazon.com.br/Insta360-imperme%C3%...</td>\n      <td>AMAZON</td>\n      <td>EVO Gimbals</td>\n      <td>3636.86</td>\n      <td>10</td>\n      <td>363.74</td>\n      <td>3637.40</td>\n      <td>B08M3B9754</td>\n      <td>Insta360 Câmera de ação impermeável ON...</td>\n      <td>Internacional</td>\n      <td>0</td>\n    </tr>\n    <tr>\n      <th>64</th>\n      <td>2022-05-31</td>\n      <td>https://www.amazon.com.br/Porta-Lateral-Compat...</td>\n      <td>AMAZON</td>\n      <td>FUNPro</td>\n      <td>34.90</td>\n      <td>0</td>\n      <td>0.00</td>\n      <td>0.00</td>\n      <td>B09D8NZV8J</td>\n      <td>Porta Lateral Compatível com GoPro Her...</td>\n      <td>Internacional</td>\n      <td>0</td>\n    </tr>\n    <tr>\n      <th>65</th>\n      <td>2022-05-31</td>\n      <td>https://www.amazon.com.br/Trip%C3%A9-Bast%C3%A...</td>\n      <td>AMAZON</td>\n      <td>FUNPro</td>\n      <td>142.00</td>\n      <td>4</td>\n      <td>35.50</td>\n      <td>142.00</td>\n      <td>B08HV3FYQJ</td>\n      <td>Mini Tripé e Bastão para GoPro e Câmer...</td>\n      <td>Internacional</td>\n      <td>0</td>\n    </tr>\n  </tbody>\n</table>\n</div>"
     },
     "execution_count": 53,
     "metadata": {},
     "output_type": "execute_result"
    }
   ],
   "source": [
    "Df_final = Df_final[Df_final['PRICE'].str.len() < 10]\n",
    "Df_final = Df_final[Df_final['MORE'] == 0]\n",
    "Df_final"
   ],
   "metadata": {
    "collapsed": false,
    "pycharm": {
     "name": "#%%\n"
    }
   }
  },
  {
   "cell_type": "code",
   "execution_count": 54,
   "outputs": [
    {
     "data": {
      "text/plain": "          DATE                                                URL MARKETPLACE  \\\n1   2022-05-31  https://www.amazon.com.br/C%C3%A2mera-Black-Pr...      AMAZON   \n34  2022-05-31  https://www.amazon.com.br/Acess%C3%B3rios-para...      AMAZON   \n35  2022-05-31  https://www.amazon.com.br/fengny-Substitui%C3%...      AMAZON   \n38  2022-05-31  https://www.amazon.com.br/Zwbfu-acess%C3%B3rio...      AMAZON   \n40  2022-05-31  https://www.amazon.com.br/Conjunto-acess%C3%B3...      AMAZON   \n43  2022-05-31  https://www.amazon.com.br/Kit-50-Acess%C3%B3ri...      AMAZON   \n44  2022-05-31  https://www.amazon.com.br/GoPole-Alcan%C3%A7a-...      AMAZON   \n53  2022-05-31  https://www.amazon.com.br/Cucudy-subaqu%C3%A1t...      AMAZON   \n61  2022-05-31  https://www.amazon.com.br/Zwbfu-XTGP559-prote%...      AMAZON   \n62  2022-05-31  https://www.amazon.com.br/transporte-acess%C3%...      AMAZON   \n63  2022-05-31  https://www.amazon.com.br/Insta360-imperme%C3%...      AMAZON   \n64  2022-05-31  https://www.amazon.com.br/Porta-Lateral-Compat...      AMAZON   \n65  2022-05-31  https://www.amazon.com.br/Trip%C3%A9-Bast%C3%A...      AMAZON   \n\n         SELLER    PRICE  PARCEL  INSTALLMENT  INSTALLMENT_PAYMENT  \\\n1   Detona Shop  2269.53      10       226.98              2269.80   \n34       FUNPro   275.00       9        30.60               275.40   \n35     kokorest   183.40       6        30.60               183.60   \n38       Jeneza   177.99       5        35.63               178.15   \n40     Minimini    75.00       2        37.50                75.00   \n43       Amazon   342.14      10        34.25               342.50   \n44       FUNPro   208.40       6        34.75               208.50   \n53       Jeneza    95.18       3        31.74                95.22   \n61       Jeneza   316.99      10        31.78               317.80   \n62   wecome2021   158.00       5        31.60               158.00   \n63  EVO Gimbals  3636.86      10       363.74              3637.40   \n64       FUNPro    34.90       0         0.00                 0.00   \n65       FUNPro   142.00       4        35.50               142.00   \n\n            ID                                            PRODUCT  \\\n1   B07JH83VBW          Câmera Hero 7 Black à Prova D’água 12M...   \n34  B086M7FK58          Kit de Acessórios para GoPro Hero 8 Bl...   \n35  B09ZPB2QW3          fengny Substituição de controle remoto...   \n38  B09GJMPY6R          Zwbfu Kit de acessórios para câmera de...   \n40  B082X8HPLL          Conjunto de acessórios para câmera Mob...   \n43  B07LFLJBW4          Kit 50 Em 1 De Acessórios Para Gopro  ...   \n44  B00B3YFDBS          GoPole Alcança de extensão de 14 a 101...   \n53  B08TTPW7DW          Cucudy Câmera de ação capa protetora à...   \n61  B09GJGW62Z          Zwbfu Câmera XTGP559 Porta de cúpula c...   \n62  B01H6OP92G          Estojo de transporte para GoPro Hero(2...   \n63  B08M3B9754          Insta360 Câmera de ação impermeável ON...   \n64  B09D8NZV8J          Porta Lateral Compatível com GoPro Her...   \n65  B08HV3FYQJ          Mini Tripé e Bastão para GoPro e Câmer...   \n\n    INTERNACIONAL  MORE  \n1   Internacional     0  \n34  Internacional     0  \n35  Internacional     0  \n38  Internacional     0  \n40  Internacional     0  \n43  Internacional     0  \n44  Internacional     0  \n53  Internacional     0  \n61  Internacional     0  \n62  Internacional     0  \n63  Internacional     0  \n64  Internacional     0  \n65  Internacional     0  ",
      "text/html": "<div>\n<style scoped>\n    .dataframe tbody tr th:only-of-type {\n        vertical-align: middle;\n    }\n\n    .dataframe tbody tr th {\n        vertical-align: top;\n    }\n\n    .dataframe thead th {\n        text-align: right;\n    }\n</style>\n<table border=\"1\" class=\"dataframe\">\n  <thead>\n    <tr style=\"text-align: right;\">\n      <th></th>\n      <th>DATE</th>\n      <th>URL</th>\n      <th>MARKETPLACE</th>\n      <th>SELLER</th>\n      <th>PRICE</th>\n      <th>PARCEL</th>\n      <th>INSTALLMENT</th>\n      <th>INSTALLMENT_PAYMENT</th>\n      <th>ID</th>\n      <th>PRODUCT</th>\n      <th>INTERNACIONAL</th>\n      <th>MORE</th>\n    </tr>\n  </thead>\n  <tbody>\n    <tr>\n      <th>1</th>\n      <td>2022-05-31</td>\n      <td>https://www.amazon.com.br/C%C3%A2mera-Black-Pr...</td>\n      <td>AMAZON</td>\n      <td>Detona Shop</td>\n      <td>2269.53</td>\n      <td>10</td>\n      <td>226.98</td>\n      <td>2269.80</td>\n      <td>B07JH83VBW</td>\n      <td>Câmera Hero 7 Black à Prova D’água 12M...</td>\n      <td>Internacional</td>\n      <td>0</td>\n    </tr>\n    <tr>\n      <th>34</th>\n      <td>2022-05-31</td>\n      <td>https://www.amazon.com.br/Acess%C3%B3rios-para...</td>\n      <td>AMAZON</td>\n      <td>FUNPro</td>\n      <td>275.00</td>\n      <td>9</td>\n      <td>30.60</td>\n      <td>275.40</td>\n      <td>B086M7FK58</td>\n      <td>Kit de Acessórios para GoPro Hero 8 Bl...</td>\n      <td>Internacional</td>\n      <td>0</td>\n    </tr>\n    <tr>\n      <th>35</th>\n      <td>2022-05-31</td>\n      <td>https://www.amazon.com.br/fengny-Substitui%C3%...</td>\n      <td>AMAZON</td>\n      <td>kokorest</td>\n      <td>183.40</td>\n      <td>6</td>\n      <td>30.60</td>\n      <td>183.60</td>\n      <td>B09ZPB2QW3</td>\n      <td>fengny Substituição de controle remoto...</td>\n      <td>Internacional</td>\n      <td>0</td>\n    </tr>\n    <tr>\n      <th>38</th>\n      <td>2022-05-31</td>\n      <td>https://www.amazon.com.br/Zwbfu-acess%C3%B3rio...</td>\n      <td>AMAZON</td>\n      <td>Jeneza</td>\n      <td>177.99</td>\n      <td>5</td>\n      <td>35.63</td>\n      <td>178.15</td>\n      <td>B09GJMPY6R</td>\n      <td>Zwbfu Kit de acessórios para câmera de...</td>\n      <td>Internacional</td>\n      <td>0</td>\n    </tr>\n    <tr>\n      <th>40</th>\n      <td>2022-05-31</td>\n      <td>https://www.amazon.com.br/Conjunto-acess%C3%B3...</td>\n      <td>AMAZON</td>\n      <td>Minimini</td>\n      <td>75.00</td>\n      <td>2</td>\n      <td>37.50</td>\n      <td>75.00</td>\n      <td>B082X8HPLL</td>\n      <td>Conjunto de acessórios para câmera Mob...</td>\n      <td>Internacional</td>\n      <td>0</td>\n    </tr>\n    <tr>\n      <th>43</th>\n      <td>2022-05-31</td>\n      <td>https://www.amazon.com.br/Kit-50-Acess%C3%B3ri...</td>\n      <td>AMAZON</td>\n      <td>Amazon</td>\n      <td>342.14</td>\n      <td>10</td>\n      <td>34.25</td>\n      <td>342.50</td>\n      <td>B07LFLJBW4</td>\n      <td>Kit 50 Em 1 De Acessórios Para Gopro  ...</td>\n      <td>Internacional</td>\n      <td>0</td>\n    </tr>\n    <tr>\n      <th>44</th>\n      <td>2022-05-31</td>\n      <td>https://www.amazon.com.br/GoPole-Alcan%C3%A7a-...</td>\n      <td>AMAZON</td>\n      <td>FUNPro</td>\n      <td>208.40</td>\n      <td>6</td>\n      <td>34.75</td>\n      <td>208.50</td>\n      <td>B00B3YFDBS</td>\n      <td>GoPole Alcança de extensão de 14 a 101...</td>\n      <td>Internacional</td>\n      <td>0</td>\n    </tr>\n    <tr>\n      <th>53</th>\n      <td>2022-05-31</td>\n      <td>https://www.amazon.com.br/Cucudy-subaqu%C3%A1t...</td>\n      <td>AMAZON</td>\n      <td>Jeneza</td>\n      <td>95.18</td>\n      <td>3</td>\n      <td>31.74</td>\n      <td>95.22</td>\n      <td>B08TTPW7DW</td>\n      <td>Cucudy Câmera de ação capa protetora à...</td>\n      <td>Internacional</td>\n      <td>0</td>\n    </tr>\n    <tr>\n      <th>61</th>\n      <td>2022-05-31</td>\n      <td>https://www.amazon.com.br/Zwbfu-XTGP559-prote%...</td>\n      <td>AMAZON</td>\n      <td>Jeneza</td>\n      <td>316.99</td>\n      <td>10</td>\n      <td>31.78</td>\n      <td>317.80</td>\n      <td>B09GJGW62Z</td>\n      <td>Zwbfu Câmera XTGP559 Porta de cúpula c...</td>\n      <td>Internacional</td>\n      <td>0</td>\n    </tr>\n    <tr>\n      <th>62</th>\n      <td>2022-05-31</td>\n      <td>https://www.amazon.com.br/transporte-acess%C3%...</td>\n      <td>AMAZON</td>\n      <td>wecome2021</td>\n      <td>158.00</td>\n      <td>5</td>\n      <td>31.60</td>\n      <td>158.00</td>\n      <td>B01H6OP92G</td>\n      <td>Estojo de transporte para GoPro Hero(2...</td>\n      <td>Internacional</td>\n      <td>0</td>\n    </tr>\n    <tr>\n      <th>63</th>\n      <td>2022-05-31</td>\n      <td>https://www.amazon.com.br/Insta360-imperme%C3%...</td>\n      <td>AMAZON</td>\n      <td>EVO Gimbals</td>\n      <td>3636.86</td>\n      <td>10</td>\n      <td>363.74</td>\n      <td>3637.40</td>\n      <td>B08M3B9754</td>\n      <td>Insta360 Câmera de ação impermeável ON...</td>\n      <td>Internacional</td>\n      <td>0</td>\n    </tr>\n    <tr>\n      <th>64</th>\n      <td>2022-05-31</td>\n      <td>https://www.amazon.com.br/Porta-Lateral-Compat...</td>\n      <td>AMAZON</td>\n      <td>FUNPro</td>\n      <td>34.90</td>\n      <td>0</td>\n      <td>0.00</td>\n      <td>0.00</td>\n      <td>B09D8NZV8J</td>\n      <td>Porta Lateral Compatível com GoPro Her...</td>\n      <td>Internacional</td>\n      <td>0</td>\n    </tr>\n    <tr>\n      <th>65</th>\n      <td>2022-05-31</td>\n      <td>https://www.amazon.com.br/Trip%C3%A9-Bast%C3%A...</td>\n      <td>AMAZON</td>\n      <td>FUNPro</td>\n      <td>142.00</td>\n      <td>4</td>\n      <td>35.50</td>\n      <td>142.00</td>\n      <td>B08HV3FYQJ</td>\n      <td>Mini Tripé e Bastão para GoPro e Câmer...</td>\n      <td>Internacional</td>\n      <td>0</td>\n    </tr>\n  </tbody>\n</table>\n</div>"
     },
     "execution_count": 54,
     "metadata": {},
     "output_type": "execute_result"
    }
   ],
   "source": [
    "Df_final"
   ],
   "metadata": {
    "collapsed": false,
    "pycharm": {
     "name": "#%%\n"
    }
   }
  },
  {
   "cell_type": "code",
   "execution_count": 130,
   "outputs": [],
   "source": [
    "url_names = []\n",
    "for id in Dataframe_More['ID']:\n",
    "    url_names.append(Df_final.loc[Df_final['ID'] == id,'URL'])"
   ],
   "metadata": {
    "collapsed": false,
    "pycharm": {
     "name": "#%%\n"
    }
   }
  },
  {
   "cell_type": "code",
   "execution_count": 132,
   "outputs": [
    {
     "data": {
      "text/plain": "21"
     },
     "execution_count": 132,
     "metadata": {},
     "output_type": "execute_result"
    }
   ],
   "source": [
    "len(url_names)"
   ],
   "metadata": {
    "collapsed": false,
    "pycharm": {
     "name": "#%%\n"
    }
   }
  },
  {
   "cell_type": "code",
   "execution_count": 114,
   "outputs": [
    {
     "ename": "ValueError",
     "evalue": "Can only compare identically-labeled Series objects",
     "output_type": "error",
     "traceback": [
      "\u001B[1;31m---------------------------------------------------------------------------\u001B[0m",
      "\u001B[1;31mValueError\u001B[0m                                Traceback (most recent call last)",
      "Input \u001B[1;32mIn [114]\u001B[0m, in \u001B[0;36m<cell line: 1>\u001B[1;34m()\u001B[0m\n\u001B[1;32m----> 1\u001B[0m Df_final\u001B[38;5;241m.\u001B[39mloc[\u001B[43mDf_final\u001B[49m\u001B[43m[\u001B[49m\u001B[38;5;124;43m'\u001B[39;49m\u001B[38;5;124;43mID\u001B[39;49m\u001B[38;5;124;43m'\u001B[39;49m\u001B[43m]\u001B[49m\u001B[43m \u001B[49m\u001B[38;5;241;43m==\u001B[39;49m\u001B[43m \u001B[49m\u001B[43mDataframe_More\u001B[49m\u001B[43m[\u001B[49m\u001B[38;5;124;43m'\u001B[39;49m\u001B[38;5;124;43mID\u001B[39;49m\u001B[38;5;124;43m'\u001B[39;49m\u001B[43m]\u001B[49m,\u001B[38;5;124m'\u001B[39m\u001B[38;5;124mURL\u001B[39m\u001B[38;5;124m'\u001B[39m]\n",
      "File \u001B[1;32m~\\AppData\\Local\\Programs\\Python\\Python310\\lib\\site-packages\\pandas\\core\\ops\\common.py:70\u001B[0m, in \u001B[0;36m_unpack_zerodim_and_defer.<locals>.new_method\u001B[1;34m(self, other)\u001B[0m\n\u001B[0;32m     66\u001B[0m             \u001B[38;5;28;01mreturn\u001B[39;00m \u001B[38;5;28mNotImplemented\u001B[39m\n\u001B[0;32m     68\u001B[0m other \u001B[38;5;241m=\u001B[39m item_from_zerodim(other)\n\u001B[1;32m---> 70\u001B[0m \u001B[38;5;28;01mreturn\u001B[39;00m \u001B[43mmethod\u001B[49m\u001B[43m(\u001B[49m\u001B[38;5;28;43mself\u001B[39;49m\u001B[43m,\u001B[49m\u001B[43m \u001B[49m\u001B[43mother\u001B[49m\u001B[43m)\u001B[49m\n",
      "File \u001B[1;32m~\\AppData\\Local\\Programs\\Python\\Python310\\lib\\site-packages\\pandas\\core\\arraylike.py:40\u001B[0m, in \u001B[0;36mOpsMixin.__eq__\u001B[1;34m(self, other)\u001B[0m\n\u001B[0;32m     38\u001B[0m \u001B[38;5;129m@unpack_zerodim_and_defer\u001B[39m(\u001B[38;5;124m\"\u001B[39m\u001B[38;5;124m__eq__\u001B[39m\u001B[38;5;124m\"\u001B[39m)\n\u001B[0;32m     39\u001B[0m \u001B[38;5;28;01mdef\u001B[39;00m \u001B[38;5;21m__eq__\u001B[39m(\u001B[38;5;28mself\u001B[39m, other):\n\u001B[1;32m---> 40\u001B[0m     \u001B[38;5;28;01mreturn\u001B[39;00m \u001B[38;5;28;43mself\u001B[39;49m\u001B[38;5;241;43m.\u001B[39;49m\u001B[43m_cmp_method\u001B[49m\u001B[43m(\u001B[49m\u001B[43mother\u001B[49m\u001B[43m,\u001B[49m\u001B[43m \u001B[49m\u001B[43moperator\u001B[49m\u001B[38;5;241;43m.\u001B[39;49m\u001B[43meq\u001B[49m\u001B[43m)\u001B[49m\n",
      "File \u001B[1;32m~\\AppData\\Local\\Programs\\Python\\Python310\\lib\\site-packages\\pandas\\core\\series.py:5617\u001B[0m, in \u001B[0;36mSeries._cmp_method\u001B[1;34m(self, other, op)\u001B[0m\n\u001B[0;32m   5614\u001B[0m res_name \u001B[38;5;241m=\u001B[39m ops\u001B[38;5;241m.\u001B[39mget_op_result_name(\u001B[38;5;28mself\u001B[39m, other)\n\u001B[0;32m   5616\u001B[0m \u001B[38;5;28;01mif\u001B[39;00m \u001B[38;5;28misinstance\u001B[39m(other, Series) \u001B[38;5;129;01mand\u001B[39;00m \u001B[38;5;129;01mnot\u001B[39;00m \u001B[38;5;28mself\u001B[39m\u001B[38;5;241m.\u001B[39m_indexed_same(other):\n\u001B[1;32m-> 5617\u001B[0m     \u001B[38;5;28;01mraise\u001B[39;00m \u001B[38;5;167;01mValueError\u001B[39;00m(\u001B[38;5;124m\"\u001B[39m\u001B[38;5;124mCan only compare identically-labeled Series objects\u001B[39m\u001B[38;5;124m\"\u001B[39m)\n\u001B[0;32m   5619\u001B[0m lvalues \u001B[38;5;241m=\u001B[39m \u001B[38;5;28mself\u001B[39m\u001B[38;5;241m.\u001B[39m_values\n\u001B[0;32m   5620\u001B[0m rvalues \u001B[38;5;241m=\u001B[39m extract_array(other, extract_numpy\u001B[38;5;241m=\u001B[39m\u001B[38;5;28;01mTrue\u001B[39;00m, extract_range\u001B[38;5;241m=\u001B[39m\u001B[38;5;28;01mTrue\u001B[39;00m)\n",
      "\u001B[1;31mValueError\u001B[0m: Can only compare identically-labeled Series objects"
     ]
    }
   ],
   "source": [
    "Df_final.loc[Df_final['ID'] == Dataframe_More['ID'],'URL']"
   ],
   "metadata": {
    "collapsed": false,
    "pycharm": {
     "name": "#%%\n"
    }
   }
  },
  {
   "cell_type": "code",
   "execution_count": 57,
   "outputs": [],
   "source": [
    "Df_teste = pd.concat([Df_final, Dataframe_Button])\n",
    "Df_teste = Df_teste.sort_values(by='ID')"
   ],
   "metadata": {
    "collapsed": false,
    "pycharm": {
     "name": "#%%\n"
    }
   }
  },
  {
   "cell_type": "code",
   "execution_count": 58,
   "outputs": [
    {
     "data": {
      "text/plain": "          DATE                                                URL MARKETPLACE  \\\n44  2022-05-31  https://www.amazon.com.br/GoPole-Alcan%C3%A7a-...      AMAZON   \n22  2022-05-31  https://www.amazon.com.br/GoPro-Sistema-HERO3-...      AMAZON   \n14  2022-05-31  https://www.amazon.com.br/GOPOLE-Reach-Mini-ex...      AMAZON   \n62  2022-05-31  https://www.amazon.com.br/transporte-acess%C3%...      AMAZON   \n26  2022-05-31  https://www.amazon.com.br/GoPro-Porta-Lateral-...      AMAZON   \n20  2022-05-31  https://www.amazon.com.br/C%C3%A2mera-Digital-...      AMAZON   \n19  2022-05-31  https://www.amazon.com.br/C%C3%A2mera-Digital-...      AMAZON   \n13  2022-05-31  https://www.amazon.com.br/C%C3%A2mera-GoPro-MA...      AMAZON   \n12  2022-05-31  https://www.amazon.com.br/C%C3%A2mera-GoPro-MA...      AMAZON   \n11  2022-05-31  https://www.amazon.com.br/Camera-Digital-12-1M...      AMAZON   \n10  2022-05-31  https://www.amazon.com.br/Camera-Digital-12-1M...      AMAZON   \n9   2022-05-31  https://www.amazon.com.br/Camera-Digital-12-1M...      AMAZON   \n1   2022-05-31  https://www.amazon.com.br/C%C3%A2mera-Black-Pr...      AMAZON   \n43  2022-05-31  https://www.amazon.com.br/Kit-50-Acess%C3%B3ri...      AMAZON   \n15  2022-05-31  https://www.amazon.com.br/Kit-Gopro-Hero-Pe%C3...      AMAZON   \n28  2022-05-31  https://www.amazon.com.br/Mochila-ajust%C3%A1v...      AMAZON   \n7   2022-05-31  https://www.amazon.com.br/Gopro-Black-prova-D%...      AMAZON   \n6   2022-05-31  https://www.amazon.com.br/Gopro-Black-prova-D%...      AMAZON   \n8   2022-05-31  https://www.amazon.com.br/Gopro-Black-prova-D%...      AMAZON   \n40  2022-05-31  https://www.amazon.com.br/Conjunto-acess%C3%B3...      AMAZON   \n34  2022-05-31  https://www.amazon.com.br/Acess%C3%B3rios-para...      AMAZON   \n17  2022-05-31  https://www.amazon.com.br/CABO-USB-PARA-TIPO-P...      AMAZON   \n16  2022-05-31  https://www.amazon.com.br/CABO-USB-PARA-TIPO-P...      AMAZON   \n24  2022-05-31  https://www.amazon.com.br/Cart%C3%A3o-mem%C3%B...      AMAZON   \n23  2022-05-31  https://www.amazon.com.br/GoPro-CHDHX-901-RW-H...      AMAZON   \n65  2022-05-31  https://www.amazon.com.br/Trip%C3%A9-Bast%C3%A...      AMAZON   \n25  2022-05-31  https://www.amazon.com.br/Porta-Lateral-GoPro-...      AMAZON   \n3   2022-05-31  https://www.amazon.com.br/C%C3%A2mera-GoPro-Fr...      AMAZON   \n63  2022-05-31  https://www.amazon.com.br/Insta360-imperme%C3%...      AMAZON   \n53  2022-05-31  https://www.amazon.com.br/Cucudy-subaqu%C3%A1t...      AMAZON   \n2   2022-05-31  https://www.amazon.com.br/C%C3%82MERA-GOPRO-BL...      AMAZON   \n0   2022-05-31  https://www.amazon.com.br/C%C3%82MERA-GOPRO-BL...      AMAZON   \n1   2022-05-31  https://www.amazon.com.br/C%C3%82MERA-GOPRO-BL...      AMAZON   \n21  2022-05-31  https://www.amazon.com.br/compat%C3%ADvel-aces...      AMAZON   \n18  2022-05-31  https://www.amazon.com.br/PORTA-USB-PARA-PRONL...      AMAZON   \n64  2022-05-31  https://www.amazon.com.br/Porta-Lateral-Compat...      AMAZON   \n61  2022-05-31  https://www.amazon.com.br/Zwbfu-XTGP559-prote%...      AMAZON   \n38  2022-05-31  https://www.amazon.com.br/Zwbfu-acess%C3%B3rio...      AMAZON   \n27  2022-05-31  https://www.amazon.com.br/grande-angular-c%C3%...      AMAZON   \n5   2022-05-31  https://www.amazon.com.br/C%C3%82MERA-GOPRO-HE...      AMAZON   \n4   2022-05-31  https://www.amazon.com.br/C%C3%82MERA-GOPRO-HE...      AMAZON   \n35  2022-05-31  https://www.amazon.com.br/fengny-Substitui%C3%...      AMAZON   \n\n                   SELLER    PRICE  PARCEL  INSTALLMENT  INSTALLMENT_PAYMENT  \\\n44                 FUNPro   208.40       6       34.750               208.50   \n22            LIG Celular    189.9      10       18.990              1899.00   \n14      Ami Ventures Inc.   1034.0      10      103.400             10340.00   \n62             wecome2021   158.00       5       31.600               158.00   \n26         GRUPO MAVERICK   189.99      10       18.999              1899.90   \n20       Tech With Expert   4602.0      10      460.200             46020.00   \n19     Porto Seguro Store   3190.0      10      319.000             31900.00   \n13           LIVE IMPORTS   3499.0      10      349.900             34990.00   \n12         GRUPO MAVERICK  3485.21      10      348.521             34852.10   \n11      João e Maria Shop  2574.05      10      257.405             25740.50   \n10         Center Shop RS   2490.0      10      249.000             24900.00   \n9          GRUPO MAVERICK  2399.99      10      239.999             23999.90   \n1             Detona Shop  2269.53      10      226.980              2269.80   \n43                 Amazon   342.14      10       34.250               342.50   \n15          biaeletronico    299.0      10       29.900              2990.00   \n28             BUY SUPPLY   412.74      10       41.274              4127.40   \n7            LIVE IMPORTS   2299.0      10      229.900             22990.00   \n6             King Pro St   2283.6      10      228.360             22836.00   \n8          GRUPO MAVERICK   2599.0      10      259.900             25990.00   \n40               Minimini    75.00       2       37.500                75.00   \n34                 FUNPro   275.00       9       30.600               275.40   \n17     Preech Informática    47.43      10        4.743               474.30   \n16                BC INFO    35.13      10        3.513               351.30   \n24  Triplenet Pricing INC   811.19      10       81.119              8111.90   \n23           LIVE IMPORTS   2699.0      10      269.900             26990.00   \n65                 FUNPro   142.00       4       35.500               142.00   \n25         GRUPO MAVERICK    59.99      10        5.999               599.90   \n3          GRUPO MAVERICK  3399.99      10      339.999             33999.90   \n63            EVO Gimbals  3636.86      10      363.740              3637.40   \n53                 Jeneza    95.18       3       31.740                95.22   \n2          GRUPO MAVERICK  3199.99      10      319.999             31999.90   \n0            LIVE IMPORTS   2599.0      10      259.900             25990.00   \n1            LIVE IMPORTS   2599.0      10      259.900             25990.00   \n21             BUY SUPPLY   501.45      10       50.145              5014.50   \n18         GRUPO MAVERICK   299.99      10       29.999              2999.90   \n64                 FUNPro    34.90       0        0.000                 0.00   \n61                 Jeneza   316.99      10       31.780               317.80   \n38                 Jeneza   177.99       5       35.630               178.15   \n27              bizoffttk    415.5      10       41.550              4155.00   \n5          GRUPO MAVERICK  3099.99      10      309.999             30999.90   \n4          GRUPO MAVERICK  3099.99      10      309.999             30999.90   \n35               kokorest   183.40       6       30.600               183.60   \n\n            ID                                            PRODUCT  \\\n44  B00B3YFDBS          GoPole Alcança de extensão de 14 a 101...   \n22  B00J9RO4U2          GoPro Sistema Dual Hero para HERO3+ (c...   \n14  B01C397F1C          GOPOLE Reach Mini – Haste de extensão ...   \n62  B01H6OP92G          Estojo de transporte para GoPro Hero(2...   \n26  B01L2CPKOK          Porta Lateral de Reposição para Hero6,...   \n20  B0792MJLNM             Câmera Fusion 360, GoPro, Preto          \n19  B0792MJLNM             Câmera Fusion 360, GoPro, Preto          \n13  B07BPVPV14                 Câmera GoPro MAX 360, Preto          \n12  B07BPVPV14                 Câmera GoPro MAX 360, Preto          \n11  B07GSVDFTQ          Camera Digital GoPro Hero 7 Black Ultr...   \n10  B07GSVDFTQ          Camera Digital GoPro Hero 7 Black Ultr...   \n9   B07GSVDFTQ          Camera Digital GoPro Hero 7 Black Ultr...   \n1   B07JH83VBW          Câmera Hero 7 Black à Prova D’água 12M...   \n43  B07LFLJBW4          Kit 50 Em 1 De Acessórios Para Gopro  ...   \n15  B07TCY5FNV          Kit Para Gopro Hero Com 9 Peças Maleta...   \n28  B07WNPTF3T          Mochila com alça de ombro para câmera ...   \n7   B07WSRXMS8          Gopro Hero 8 Black 4k à prova D'água C...   \n6   B07WSRXMS8          Gopro Hero 8 Black 4k à prova D'água C...   \n8   B07WSRXMS8          Gopro Hero 8 Black 4k à prova D'água C...   \n40  B082X8HPLL          Conjunto de acessórios para câmera Mob...   \n34  B086M7FK58          Kit de Acessórios para GoPro Hero 8 Bl...   \n17  B089X297QT          CABO PARA CELULAR SMARTPHONE USB A 2.0...   \n16  B089X297QT          CABO PARA CELULAR SMARTPHONE USB A 2.0...   \n24  B08GYG5SVQ          Cartão de memória SanDisk 400 GB Ultra...   \n23  B08HPCFCSV           GoPro - HERO9 Preto, CHDHX-901-RW          \n65  B08HV3FYQJ          Mini Tripé e Bastão para GoPro e Câmer...   \n25  B08JCR3NTZ          Porta Lateral Compatível com GoPro Her...   \n3   B08KXN6BNH          Câmera GoPro HERO9 Black à Prova D'águ...   \n63  B08M3B9754          Insta360 Câmera de ação impermeável ON...   \n53  B08TTPW7DW          Cucudy Câmera de ação capa protetora à...   \n2   B08ZSVP9T7          CÂMERA GOPRO HERO 8 BLACK ESSENCIAL BU...   \n0   B08ZSVP9T7          CÂMERA GOPRO HERO 8 BLACK ESSENCIAL BU...   \n1   B08ZSVP9T7          CÂMERA GOPRO HERO 8 BLACK ESSENCIAL BU...   \n21  B099KJRQ4V          Capa à prova d'água para GoPro Hero 9,...   \n18  B09BBJTF8R          PORTA USB PARA USO PRONLONGADO HERO 9 ...   \n64  B09D8NZV8J          Porta Lateral Compatível com GoPro Her...   \n61  B09GJGW62Z          Zwbfu Câmera XTGP559 Porta de cúpula c...   \n38  B09GJMPY6R          Zwbfu Kit de acessórios para câmera de...   \n27  B09JVT24PJ          Lente grande angular, câmera esportiva...   \n5   B09LZ9655F          CÂMERA GOPRO HERO 8 BLACK - POWER BUND...   \n4   B09MG3XKZJ          CÂMERA GOPRO HERO 8 BLACK – SPECIAL BU...   \n35  B09ZPB2QW3          fengny Substituição de controle remoto...   \n\n    INTERNACIONAL  MORE  \n44  Internacional   0.0  \n22           ERRO   NaN  \n14           ERRO   NaN  \n62  Internacional   0.0  \n26           ERRO   NaN  \n20           ERRO   NaN  \n19           ERRO   NaN  \n13           ERRO   NaN  \n12           ERRO   NaN  \n11           ERRO   NaN  \n10           ERRO   NaN  \n9            ERRO   NaN  \n1   Internacional   0.0  \n43  Internacional   0.0  \n15           ERRO   NaN  \n28           ERRO   NaN  \n7            ERRO   NaN  \n6            ERRO   NaN  \n8            ERRO   NaN  \n40  Internacional   0.0  \n34  Internacional   0.0  \n17           ERRO   NaN  \n16           ERRO   NaN  \n24           ERRO   NaN  \n23           ERRO   NaN  \n65  Internacional   0.0  \n25           ERRO   NaN  \n3            ERRO   NaN  \n63  Internacional   0.0  \n53  Internacional   0.0  \n2            ERRO   NaN  \n0            ERRO   NaN  \n1            ERRO   NaN  \n21           ERRO   NaN  \n18           ERRO   NaN  \n64  Internacional   0.0  \n61  Internacional   0.0  \n38  Internacional   0.0  \n27           ERRO   NaN  \n5            ERRO   NaN  \n4            ERRO   NaN  \n35  Internacional   0.0  ",
      "text/html": "<div>\n<style scoped>\n    .dataframe tbody tr th:only-of-type {\n        vertical-align: middle;\n    }\n\n    .dataframe tbody tr th {\n        vertical-align: top;\n    }\n\n    .dataframe thead th {\n        text-align: right;\n    }\n</style>\n<table border=\"1\" class=\"dataframe\">\n  <thead>\n    <tr style=\"text-align: right;\">\n      <th></th>\n      <th>DATE</th>\n      <th>URL</th>\n      <th>MARKETPLACE</th>\n      <th>SELLER</th>\n      <th>PRICE</th>\n      <th>PARCEL</th>\n      <th>INSTALLMENT</th>\n      <th>INSTALLMENT_PAYMENT</th>\n      <th>ID</th>\n      <th>PRODUCT</th>\n      <th>INTERNACIONAL</th>\n      <th>MORE</th>\n    </tr>\n  </thead>\n  <tbody>\n    <tr>\n      <th>44</th>\n      <td>2022-05-31</td>\n      <td>https://www.amazon.com.br/GoPole-Alcan%C3%A7a-...</td>\n      <td>AMAZON</td>\n      <td>FUNPro</td>\n      <td>208.40</td>\n      <td>6</td>\n      <td>34.750</td>\n      <td>208.50</td>\n      <td>B00B3YFDBS</td>\n      <td>GoPole Alcança de extensão de 14 a 101...</td>\n      <td>Internacional</td>\n      <td>0.0</td>\n    </tr>\n    <tr>\n      <th>22</th>\n      <td>2022-05-31</td>\n      <td>https://www.amazon.com.br/GoPro-Sistema-HERO3-...</td>\n      <td>AMAZON</td>\n      <td>LIG Celular</td>\n      <td>189.9</td>\n      <td>10</td>\n      <td>18.990</td>\n      <td>1899.00</td>\n      <td>B00J9RO4U2</td>\n      <td>GoPro Sistema Dual Hero para HERO3+ (c...</td>\n      <td>ERRO</td>\n      <td>NaN</td>\n    </tr>\n    <tr>\n      <th>14</th>\n      <td>2022-05-31</td>\n      <td>https://www.amazon.com.br/GOPOLE-Reach-Mini-ex...</td>\n      <td>AMAZON</td>\n      <td>Ami Ventures Inc.</td>\n      <td>1034.0</td>\n      <td>10</td>\n      <td>103.400</td>\n      <td>10340.00</td>\n      <td>B01C397F1C</td>\n      <td>GOPOLE Reach Mini – Haste de extensão ...</td>\n      <td>ERRO</td>\n      <td>NaN</td>\n    </tr>\n    <tr>\n      <th>62</th>\n      <td>2022-05-31</td>\n      <td>https://www.amazon.com.br/transporte-acess%C3%...</td>\n      <td>AMAZON</td>\n      <td>wecome2021</td>\n      <td>158.00</td>\n      <td>5</td>\n      <td>31.600</td>\n      <td>158.00</td>\n      <td>B01H6OP92G</td>\n      <td>Estojo de transporte para GoPro Hero(2...</td>\n      <td>Internacional</td>\n      <td>0.0</td>\n    </tr>\n    <tr>\n      <th>26</th>\n      <td>2022-05-31</td>\n      <td>https://www.amazon.com.br/GoPro-Porta-Lateral-...</td>\n      <td>AMAZON</td>\n      <td>GRUPO MAVERICK</td>\n      <td>189.99</td>\n      <td>10</td>\n      <td>18.999</td>\n      <td>1899.90</td>\n      <td>B01L2CPKOK</td>\n      <td>Porta Lateral de Reposição para Hero6,...</td>\n      <td>ERRO</td>\n      <td>NaN</td>\n    </tr>\n    <tr>\n      <th>20</th>\n      <td>2022-05-31</td>\n      <td>https://www.amazon.com.br/C%C3%A2mera-Digital-...</td>\n      <td>AMAZON</td>\n      <td>Tech With Expert</td>\n      <td>4602.0</td>\n      <td>10</td>\n      <td>460.200</td>\n      <td>46020.00</td>\n      <td>B0792MJLNM</td>\n      <td>Câmera Fusion 360, GoPro, Preto</td>\n      <td>ERRO</td>\n      <td>NaN</td>\n    </tr>\n    <tr>\n      <th>19</th>\n      <td>2022-05-31</td>\n      <td>https://www.amazon.com.br/C%C3%A2mera-Digital-...</td>\n      <td>AMAZON</td>\n      <td>Porto Seguro Store</td>\n      <td>3190.0</td>\n      <td>10</td>\n      <td>319.000</td>\n      <td>31900.00</td>\n      <td>B0792MJLNM</td>\n      <td>Câmera Fusion 360, GoPro, Preto</td>\n      <td>ERRO</td>\n      <td>NaN</td>\n    </tr>\n    <tr>\n      <th>13</th>\n      <td>2022-05-31</td>\n      <td>https://www.amazon.com.br/C%C3%A2mera-GoPro-MA...</td>\n      <td>AMAZON</td>\n      <td>LIVE IMPORTS</td>\n      <td>3499.0</td>\n      <td>10</td>\n      <td>349.900</td>\n      <td>34990.00</td>\n      <td>B07BPVPV14</td>\n      <td>Câmera GoPro MAX 360, Preto</td>\n      <td>ERRO</td>\n      <td>NaN</td>\n    </tr>\n    <tr>\n      <th>12</th>\n      <td>2022-05-31</td>\n      <td>https://www.amazon.com.br/C%C3%A2mera-GoPro-MA...</td>\n      <td>AMAZON</td>\n      <td>GRUPO MAVERICK</td>\n      <td>3485.21</td>\n      <td>10</td>\n      <td>348.521</td>\n      <td>34852.10</td>\n      <td>B07BPVPV14</td>\n      <td>Câmera GoPro MAX 360, Preto</td>\n      <td>ERRO</td>\n      <td>NaN</td>\n    </tr>\n    <tr>\n      <th>11</th>\n      <td>2022-05-31</td>\n      <td>https://www.amazon.com.br/Camera-Digital-12-1M...</td>\n      <td>AMAZON</td>\n      <td>João e Maria Shop</td>\n      <td>2574.05</td>\n      <td>10</td>\n      <td>257.405</td>\n      <td>25740.50</td>\n      <td>B07GSVDFTQ</td>\n      <td>Camera Digital GoPro Hero 7 Black Ultr...</td>\n      <td>ERRO</td>\n      <td>NaN</td>\n    </tr>\n    <tr>\n      <th>10</th>\n      <td>2022-05-31</td>\n      <td>https://www.amazon.com.br/Camera-Digital-12-1M...</td>\n      <td>AMAZON</td>\n      <td>Center Shop RS</td>\n      <td>2490.0</td>\n      <td>10</td>\n      <td>249.000</td>\n      <td>24900.00</td>\n      <td>B07GSVDFTQ</td>\n      <td>Camera Digital GoPro Hero 7 Black Ultr...</td>\n      <td>ERRO</td>\n      <td>NaN</td>\n    </tr>\n    <tr>\n      <th>9</th>\n      <td>2022-05-31</td>\n      <td>https://www.amazon.com.br/Camera-Digital-12-1M...</td>\n      <td>AMAZON</td>\n      <td>GRUPO MAVERICK</td>\n      <td>2399.99</td>\n      <td>10</td>\n      <td>239.999</td>\n      <td>23999.90</td>\n      <td>B07GSVDFTQ</td>\n      <td>Camera Digital GoPro Hero 7 Black Ultr...</td>\n      <td>ERRO</td>\n      <td>NaN</td>\n    </tr>\n    <tr>\n      <th>1</th>\n      <td>2022-05-31</td>\n      <td>https://www.amazon.com.br/C%C3%A2mera-Black-Pr...</td>\n      <td>AMAZON</td>\n      <td>Detona Shop</td>\n      <td>2269.53</td>\n      <td>10</td>\n      <td>226.980</td>\n      <td>2269.80</td>\n      <td>B07JH83VBW</td>\n      <td>Câmera Hero 7 Black à Prova D’água 12M...</td>\n      <td>Internacional</td>\n      <td>0.0</td>\n    </tr>\n    <tr>\n      <th>43</th>\n      <td>2022-05-31</td>\n      <td>https://www.amazon.com.br/Kit-50-Acess%C3%B3ri...</td>\n      <td>AMAZON</td>\n      <td>Amazon</td>\n      <td>342.14</td>\n      <td>10</td>\n      <td>34.250</td>\n      <td>342.50</td>\n      <td>B07LFLJBW4</td>\n      <td>Kit 50 Em 1 De Acessórios Para Gopro  ...</td>\n      <td>Internacional</td>\n      <td>0.0</td>\n    </tr>\n    <tr>\n      <th>15</th>\n      <td>2022-05-31</td>\n      <td>https://www.amazon.com.br/Kit-Gopro-Hero-Pe%C3...</td>\n      <td>AMAZON</td>\n      <td>biaeletronico</td>\n      <td>299.0</td>\n      <td>10</td>\n      <td>29.900</td>\n      <td>2990.00</td>\n      <td>B07TCY5FNV</td>\n      <td>Kit Para Gopro Hero Com 9 Peças Maleta...</td>\n      <td>ERRO</td>\n      <td>NaN</td>\n    </tr>\n    <tr>\n      <th>28</th>\n      <td>2022-05-31</td>\n      <td>https://www.amazon.com.br/Mochila-ajust%C3%A1v...</td>\n      <td>AMAZON</td>\n      <td>BUY SUPPLY</td>\n      <td>412.74</td>\n      <td>10</td>\n      <td>41.274</td>\n      <td>4127.40</td>\n      <td>B07WNPTF3T</td>\n      <td>Mochila com alça de ombro para câmera ...</td>\n      <td>ERRO</td>\n      <td>NaN</td>\n    </tr>\n    <tr>\n      <th>7</th>\n      <td>2022-05-31</td>\n      <td>https://www.amazon.com.br/Gopro-Black-prova-D%...</td>\n      <td>AMAZON</td>\n      <td>LIVE IMPORTS</td>\n      <td>2299.0</td>\n      <td>10</td>\n      <td>229.900</td>\n      <td>22990.00</td>\n      <td>B07WSRXMS8</td>\n      <td>Gopro Hero 8 Black 4k à prova D'água C...</td>\n      <td>ERRO</td>\n      <td>NaN</td>\n    </tr>\n    <tr>\n      <th>6</th>\n      <td>2022-05-31</td>\n      <td>https://www.amazon.com.br/Gopro-Black-prova-D%...</td>\n      <td>AMAZON</td>\n      <td>King Pro St</td>\n      <td>2283.6</td>\n      <td>10</td>\n      <td>228.360</td>\n      <td>22836.00</td>\n      <td>B07WSRXMS8</td>\n      <td>Gopro Hero 8 Black 4k à prova D'água C...</td>\n      <td>ERRO</td>\n      <td>NaN</td>\n    </tr>\n    <tr>\n      <th>8</th>\n      <td>2022-05-31</td>\n      <td>https://www.amazon.com.br/Gopro-Black-prova-D%...</td>\n      <td>AMAZON</td>\n      <td>GRUPO MAVERICK</td>\n      <td>2599.0</td>\n      <td>10</td>\n      <td>259.900</td>\n      <td>25990.00</td>\n      <td>B07WSRXMS8</td>\n      <td>Gopro Hero 8 Black 4k à prova D'água C...</td>\n      <td>ERRO</td>\n      <td>NaN</td>\n    </tr>\n    <tr>\n      <th>40</th>\n      <td>2022-05-31</td>\n      <td>https://www.amazon.com.br/Conjunto-acess%C3%B3...</td>\n      <td>AMAZON</td>\n      <td>Minimini</td>\n      <td>75.00</td>\n      <td>2</td>\n      <td>37.500</td>\n      <td>75.00</td>\n      <td>B082X8HPLL</td>\n      <td>Conjunto de acessórios para câmera Mob...</td>\n      <td>Internacional</td>\n      <td>0.0</td>\n    </tr>\n    <tr>\n      <th>34</th>\n      <td>2022-05-31</td>\n      <td>https://www.amazon.com.br/Acess%C3%B3rios-para...</td>\n      <td>AMAZON</td>\n      <td>FUNPro</td>\n      <td>275.00</td>\n      <td>9</td>\n      <td>30.600</td>\n      <td>275.40</td>\n      <td>B086M7FK58</td>\n      <td>Kit de Acessórios para GoPro Hero 8 Bl...</td>\n      <td>Internacional</td>\n      <td>0.0</td>\n    </tr>\n    <tr>\n      <th>17</th>\n      <td>2022-05-31</td>\n      <td>https://www.amazon.com.br/CABO-USB-PARA-TIPO-P...</td>\n      <td>AMAZON</td>\n      <td>Preech Informática</td>\n      <td>47.43</td>\n      <td>10</td>\n      <td>4.743</td>\n      <td>474.30</td>\n      <td>B089X297QT</td>\n      <td>CABO PARA CELULAR SMARTPHONE USB A 2.0...</td>\n      <td>ERRO</td>\n      <td>NaN</td>\n    </tr>\n    <tr>\n      <th>16</th>\n      <td>2022-05-31</td>\n      <td>https://www.amazon.com.br/CABO-USB-PARA-TIPO-P...</td>\n      <td>AMAZON</td>\n      <td>BC INFO</td>\n      <td>35.13</td>\n      <td>10</td>\n      <td>3.513</td>\n      <td>351.30</td>\n      <td>B089X297QT</td>\n      <td>CABO PARA CELULAR SMARTPHONE USB A 2.0...</td>\n      <td>ERRO</td>\n      <td>NaN</td>\n    </tr>\n    <tr>\n      <th>24</th>\n      <td>2022-05-31</td>\n      <td>https://www.amazon.com.br/Cart%C3%A3o-mem%C3%B...</td>\n      <td>AMAZON</td>\n      <td>Triplenet Pricing INC</td>\n      <td>811.19</td>\n      <td>10</td>\n      <td>81.119</td>\n      <td>8111.90</td>\n      <td>B08GYG5SVQ</td>\n      <td>Cartão de memória SanDisk 400 GB Ultra...</td>\n      <td>ERRO</td>\n      <td>NaN</td>\n    </tr>\n    <tr>\n      <th>23</th>\n      <td>2022-05-31</td>\n      <td>https://www.amazon.com.br/GoPro-CHDHX-901-RW-H...</td>\n      <td>AMAZON</td>\n      <td>LIVE IMPORTS</td>\n      <td>2699.0</td>\n      <td>10</td>\n      <td>269.900</td>\n      <td>26990.00</td>\n      <td>B08HPCFCSV</td>\n      <td>GoPro - HERO9 Preto, CHDHX-901-RW</td>\n      <td>ERRO</td>\n      <td>NaN</td>\n    </tr>\n    <tr>\n      <th>65</th>\n      <td>2022-05-31</td>\n      <td>https://www.amazon.com.br/Trip%C3%A9-Bast%C3%A...</td>\n      <td>AMAZON</td>\n      <td>FUNPro</td>\n      <td>142.00</td>\n      <td>4</td>\n      <td>35.500</td>\n      <td>142.00</td>\n      <td>B08HV3FYQJ</td>\n      <td>Mini Tripé e Bastão para GoPro e Câmer...</td>\n      <td>Internacional</td>\n      <td>0.0</td>\n    </tr>\n    <tr>\n      <th>25</th>\n      <td>2022-05-31</td>\n      <td>https://www.amazon.com.br/Porta-Lateral-GoPro-...</td>\n      <td>AMAZON</td>\n      <td>GRUPO MAVERICK</td>\n      <td>59.99</td>\n      <td>10</td>\n      <td>5.999</td>\n      <td>599.90</td>\n      <td>B08JCR3NTZ</td>\n      <td>Porta Lateral Compatível com GoPro Her...</td>\n      <td>ERRO</td>\n      <td>NaN</td>\n    </tr>\n    <tr>\n      <th>3</th>\n      <td>2022-05-31</td>\n      <td>https://www.amazon.com.br/C%C3%A2mera-GoPro-Fr...</td>\n      <td>AMAZON</td>\n      <td>GRUPO MAVERICK</td>\n      <td>3399.99</td>\n      <td>10</td>\n      <td>339.999</td>\n      <td>33999.90</td>\n      <td>B08KXN6BNH</td>\n      <td>Câmera GoPro HERO9 Black à Prova D'águ...</td>\n      <td>ERRO</td>\n      <td>NaN</td>\n    </tr>\n    <tr>\n      <th>63</th>\n      <td>2022-05-31</td>\n      <td>https://www.amazon.com.br/Insta360-imperme%C3%...</td>\n      <td>AMAZON</td>\n      <td>EVO Gimbals</td>\n      <td>3636.86</td>\n      <td>10</td>\n      <td>363.740</td>\n      <td>3637.40</td>\n      <td>B08M3B9754</td>\n      <td>Insta360 Câmera de ação impermeável ON...</td>\n      <td>Internacional</td>\n      <td>0.0</td>\n    </tr>\n    <tr>\n      <th>53</th>\n      <td>2022-05-31</td>\n      <td>https://www.amazon.com.br/Cucudy-subaqu%C3%A1t...</td>\n      <td>AMAZON</td>\n      <td>Jeneza</td>\n      <td>95.18</td>\n      <td>3</td>\n      <td>31.740</td>\n      <td>95.22</td>\n      <td>B08TTPW7DW</td>\n      <td>Cucudy Câmera de ação capa protetora à...</td>\n      <td>Internacional</td>\n      <td>0.0</td>\n    </tr>\n    <tr>\n      <th>2</th>\n      <td>2022-05-31</td>\n      <td>https://www.amazon.com.br/C%C3%82MERA-GOPRO-BL...</td>\n      <td>AMAZON</td>\n      <td>GRUPO MAVERICK</td>\n      <td>3199.99</td>\n      <td>10</td>\n      <td>319.999</td>\n      <td>31999.90</td>\n      <td>B08ZSVP9T7</td>\n      <td>CÂMERA GOPRO HERO 8 BLACK ESSENCIAL BU...</td>\n      <td>ERRO</td>\n      <td>NaN</td>\n    </tr>\n    <tr>\n      <th>0</th>\n      <td>2022-05-31</td>\n      <td>https://www.amazon.com.br/C%C3%82MERA-GOPRO-BL...</td>\n      <td>AMAZON</td>\n      <td>LIVE IMPORTS</td>\n      <td>2599.0</td>\n      <td>10</td>\n      <td>259.900</td>\n      <td>25990.00</td>\n      <td>B08ZSVP9T7</td>\n      <td>CÂMERA GOPRO HERO 8 BLACK ESSENCIAL BU...</td>\n      <td>ERRO</td>\n      <td>NaN</td>\n    </tr>\n    <tr>\n      <th>1</th>\n      <td>2022-05-31</td>\n      <td>https://www.amazon.com.br/C%C3%82MERA-GOPRO-BL...</td>\n      <td>AMAZON</td>\n      <td>LIVE IMPORTS</td>\n      <td>2599.0</td>\n      <td>10</td>\n      <td>259.900</td>\n      <td>25990.00</td>\n      <td>B08ZSVP9T7</td>\n      <td>CÂMERA GOPRO HERO 8 BLACK ESSENCIAL BU...</td>\n      <td>ERRO</td>\n      <td>NaN</td>\n    </tr>\n    <tr>\n      <th>21</th>\n      <td>2022-05-31</td>\n      <td>https://www.amazon.com.br/compat%C3%ADvel-aces...</td>\n      <td>AMAZON</td>\n      <td>BUY SUPPLY</td>\n      <td>501.45</td>\n      <td>10</td>\n      <td>50.145</td>\n      <td>5014.50</td>\n      <td>B099KJRQ4V</td>\n      <td>Capa à prova d'água para GoPro Hero 9,...</td>\n      <td>ERRO</td>\n      <td>NaN</td>\n    </tr>\n    <tr>\n      <th>18</th>\n      <td>2022-05-31</td>\n      <td>https://www.amazon.com.br/PORTA-USB-PARA-PRONL...</td>\n      <td>AMAZON</td>\n      <td>GRUPO MAVERICK</td>\n      <td>299.99</td>\n      <td>10</td>\n      <td>29.999</td>\n      <td>2999.90</td>\n      <td>B09BBJTF8R</td>\n      <td>PORTA USB PARA USO PRONLONGADO HERO 9 ...</td>\n      <td>ERRO</td>\n      <td>NaN</td>\n    </tr>\n    <tr>\n      <th>64</th>\n      <td>2022-05-31</td>\n      <td>https://www.amazon.com.br/Porta-Lateral-Compat...</td>\n      <td>AMAZON</td>\n      <td>FUNPro</td>\n      <td>34.90</td>\n      <td>0</td>\n      <td>0.000</td>\n      <td>0.00</td>\n      <td>B09D8NZV8J</td>\n      <td>Porta Lateral Compatível com GoPro Her...</td>\n      <td>Internacional</td>\n      <td>0.0</td>\n    </tr>\n    <tr>\n      <th>61</th>\n      <td>2022-05-31</td>\n      <td>https://www.amazon.com.br/Zwbfu-XTGP559-prote%...</td>\n      <td>AMAZON</td>\n      <td>Jeneza</td>\n      <td>316.99</td>\n      <td>10</td>\n      <td>31.780</td>\n      <td>317.80</td>\n      <td>B09GJGW62Z</td>\n      <td>Zwbfu Câmera XTGP559 Porta de cúpula c...</td>\n      <td>Internacional</td>\n      <td>0.0</td>\n    </tr>\n    <tr>\n      <th>38</th>\n      <td>2022-05-31</td>\n      <td>https://www.amazon.com.br/Zwbfu-acess%C3%B3rio...</td>\n      <td>AMAZON</td>\n      <td>Jeneza</td>\n      <td>177.99</td>\n      <td>5</td>\n      <td>35.630</td>\n      <td>178.15</td>\n      <td>B09GJMPY6R</td>\n      <td>Zwbfu Kit de acessórios para câmera de...</td>\n      <td>Internacional</td>\n      <td>0.0</td>\n    </tr>\n    <tr>\n      <th>27</th>\n      <td>2022-05-31</td>\n      <td>https://www.amazon.com.br/grande-angular-c%C3%...</td>\n      <td>AMAZON</td>\n      <td>bizoffttk</td>\n      <td>415.5</td>\n      <td>10</td>\n      <td>41.550</td>\n      <td>4155.00</td>\n      <td>B09JVT24PJ</td>\n      <td>Lente grande angular, câmera esportiva...</td>\n      <td>ERRO</td>\n      <td>NaN</td>\n    </tr>\n    <tr>\n      <th>5</th>\n      <td>2022-05-31</td>\n      <td>https://www.amazon.com.br/C%C3%82MERA-GOPRO-HE...</td>\n      <td>AMAZON</td>\n      <td>GRUPO MAVERICK</td>\n      <td>3099.99</td>\n      <td>10</td>\n      <td>309.999</td>\n      <td>30999.90</td>\n      <td>B09LZ9655F</td>\n      <td>CÂMERA GOPRO HERO 8 BLACK - POWER BUND...</td>\n      <td>ERRO</td>\n      <td>NaN</td>\n    </tr>\n    <tr>\n      <th>4</th>\n      <td>2022-05-31</td>\n      <td>https://www.amazon.com.br/C%C3%82MERA-GOPRO-HE...</td>\n      <td>AMAZON</td>\n      <td>GRUPO MAVERICK</td>\n      <td>3099.99</td>\n      <td>10</td>\n      <td>309.999</td>\n      <td>30999.90</td>\n      <td>B09MG3XKZJ</td>\n      <td>CÂMERA GOPRO HERO 8 BLACK – SPECIAL BU...</td>\n      <td>ERRO</td>\n      <td>NaN</td>\n    </tr>\n    <tr>\n      <th>35</th>\n      <td>2022-05-31</td>\n      <td>https://www.amazon.com.br/fengny-Substitui%C3%...</td>\n      <td>AMAZON</td>\n      <td>kokorest</td>\n      <td>183.40</td>\n      <td>6</td>\n      <td>30.600</td>\n      <td>183.60</td>\n      <td>B09ZPB2QW3</td>\n      <td>fengny Substituição de controle remoto...</td>\n      <td>Internacional</td>\n      <td>0.0</td>\n    </tr>\n  </tbody>\n</table>\n</div>"
     },
     "execution_count": 58,
     "metadata": {},
     "output_type": "execute_result"
    }
   ],
   "source": [
    "Df_teste"
   ],
   "metadata": {
    "collapsed": false,
    "pycharm": {
     "name": "#%%\n"
    }
   }
  },
  {
   "cell_type": "code",
   "execution_count": 59,
   "outputs": [
    {
     "data": {
      "text/plain": "           DATE                                                URL  \\\n44   2022-05-31  https://www.amazon.com.br/GoPole-Alcan%C3%A7a-...   \n22   2022-05-31  https://www.amazon.com.br/GoPro-Sistema-HERO3-...   \n14   2022-05-31  https://www.amazon.com.br/GOPOLE-Reach-Mini-ex...   \n62   2022-05-31  https://www.amazon.com.br/transporte-acess%C3%...   \n26   2022-05-31  https://www.amazon.com.br/GoPro-Porta-Lateral-...   \n..          ...                                                ...   \n144  2022-05-31  https://www.amazon.com.br/Dji-Osmo-Pocket-2-Co...   \n145  2022-05-31  https://www.amazon.com.br/Dji-Osmo-Pocket-2-Co...   \n146  2022-05-31  https://www.amazon.com.br/Dji-Osmo-Pocket-2-Co...   \n147  2022-05-31  https://www.amazon.com.br/Dji-Osmo-Pocket-2-Co...   \n148  2022-05-31  https://www.amazon.com.br/C%C3%A2mera-Filmador...   \n\n    MARKETPLACE               SELLER    PRICE  PARCEL  INSTALLMENT  \\\n44       AMAZON               FUNPro   208.40       6       34.750   \n22       AMAZON          LIG Celular    189.9      10       18.990   \n14       AMAZON    Ami Ventures Inc.   1034.0      10      103.400   \n62       AMAZON           wecome2021   158.00       5       31.600   \n26       AMAZON       GRUPO MAVERICK   189.99      10       18.999   \n..          ...                  ...      ...     ...          ...   \n144      AMAZON          BalbinoShop  3899.99      10      389.999   \n145      AMAZON              GearNPC   5000.0      10      500.000   \n146      AMAZON              eFacini   5072.9      10      507.290   \n147      AMAZON  Lucas Lapa PhotoPro   5999.0      10      599.900   \n148      AMAZON    Loja do Filmmaker   5759.0      10      575.900   \n\n     INSTALLMENT_PAYMENT          ID  \\\n44                 208.5  B00B3YFDBS   \n22                1899.0  B00J9RO4U2   \n14               10340.0  B01C397F1C   \n62                 158.0  B01H6OP92G   \n26                1899.9  B01L2CPKOK   \n..                   ...         ...   \n144              38999.9  B08HWCCS6S   \n145              50000.0  B08HWCCS6S   \n146              50729.0  B08HWCCS6S   \n147              59990.0  B08HWCCS6S   \n148              57590.0  B083R4VMMC   \n\n                                               PRODUCT  INTERNACIONAL  MORE  \n44           GoPole Alcança de extensão de 14 a 101...  Internacional   0.0  \n22           GoPro Sistema Dual Hero para HERO3+ (c...           ERRO   NaN  \n14           GOPOLE Reach Mini – Haste de extensão ...           ERRO   NaN  \n62           Estojo de transporte para GoPro Hero(2...  Internacional   0.0  \n26           Porta Lateral de Reposição para Hero6,...           ERRO   NaN  \n..                                                 ...            ...   ...  \n144                     Dji Osmo Pocket 2 Combo                  ERRO   NaN  \n145                     Dji Osmo Pocket 2 Combo                  ERRO   NaN  \n146                     Dji Osmo Pocket 2 Combo                  ERRO   NaN  \n147                     Dji Osmo Pocket 2 Combo                  ERRO   NaN  \n148          Câmera de ação Insta360 One R Edição T...           ERRO   NaN  \n\n[191 rows x 12 columns]",
      "text/html": "<div>\n<style scoped>\n    .dataframe tbody tr th:only-of-type {\n        vertical-align: middle;\n    }\n\n    .dataframe tbody tr th {\n        vertical-align: top;\n    }\n\n    .dataframe thead th {\n        text-align: right;\n    }\n</style>\n<table border=\"1\" class=\"dataframe\">\n  <thead>\n    <tr style=\"text-align: right;\">\n      <th></th>\n      <th>DATE</th>\n      <th>URL</th>\n      <th>MARKETPLACE</th>\n      <th>SELLER</th>\n      <th>PRICE</th>\n      <th>PARCEL</th>\n      <th>INSTALLMENT</th>\n      <th>INSTALLMENT_PAYMENT</th>\n      <th>ID</th>\n      <th>PRODUCT</th>\n      <th>INTERNACIONAL</th>\n      <th>MORE</th>\n    </tr>\n  </thead>\n  <tbody>\n    <tr>\n      <th>44</th>\n      <td>2022-05-31</td>\n      <td>https://www.amazon.com.br/GoPole-Alcan%C3%A7a-...</td>\n      <td>AMAZON</td>\n      <td>FUNPro</td>\n      <td>208.40</td>\n      <td>6</td>\n      <td>34.750</td>\n      <td>208.5</td>\n      <td>B00B3YFDBS</td>\n      <td>GoPole Alcança de extensão de 14 a 101...</td>\n      <td>Internacional</td>\n      <td>0.0</td>\n    </tr>\n    <tr>\n      <th>22</th>\n      <td>2022-05-31</td>\n      <td>https://www.amazon.com.br/GoPro-Sistema-HERO3-...</td>\n      <td>AMAZON</td>\n      <td>LIG Celular</td>\n      <td>189.9</td>\n      <td>10</td>\n      <td>18.990</td>\n      <td>1899.0</td>\n      <td>B00J9RO4U2</td>\n      <td>GoPro Sistema Dual Hero para HERO3+ (c...</td>\n      <td>ERRO</td>\n      <td>NaN</td>\n    </tr>\n    <tr>\n      <th>14</th>\n      <td>2022-05-31</td>\n      <td>https://www.amazon.com.br/GOPOLE-Reach-Mini-ex...</td>\n      <td>AMAZON</td>\n      <td>Ami Ventures Inc.</td>\n      <td>1034.0</td>\n      <td>10</td>\n      <td>103.400</td>\n      <td>10340.0</td>\n      <td>B01C397F1C</td>\n      <td>GOPOLE Reach Mini – Haste de extensão ...</td>\n      <td>ERRO</td>\n      <td>NaN</td>\n    </tr>\n    <tr>\n      <th>62</th>\n      <td>2022-05-31</td>\n      <td>https://www.amazon.com.br/transporte-acess%C3%...</td>\n      <td>AMAZON</td>\n      <td>wecome2021</td>\n      <td>158.00</td>\n      <td>5</td>\n      <td>31.600</td>\n      <td>158.0</td>\n      <td>B01H6OP92G</td>\n      <td>Estojo de transporte para GoPro Hero(2...</td>\n      <td>Internacional</td>\n      <td>0.0</td>\n    </tr>\n    <tr>\n      <th>26</th>\n      <td>2022-05-31</td>\n      <td>https://www.amazon.com.br/GoPro-Porta-Lateral-...</td>\n      <td>AMAZON</td>\n      <td>GRUPO MAVERICK</td>\n      <td>189.99</td>\n      <td>10</td>\n      <td>18.999</td>\n      <td>1899.9</td>\n      <td>B01L2CPKOK</td>\n      <td>Porta Lateral de Reposição para Hero6,...</td>\n      <td>ERRO</td>\n      <td>NaN</td>\n    </tr>\n    <tr>\n      <th>...</th>\n      <td>...</td>\n      <td>...</td>\n      <td>...</td>\n      <td>...</td>\n      <td>...</td>\n      <td>...</td>\n      <td>...</td>\n      <td>...</td>\n      <td>...</td>\n      <td>...</td>\n      <td>...</td>\n      <td>...</td>\n    </tr>\n    <tr>\n      <th>144</th>\n      <td>2022-05-31</td>\n      <td>https://www.amazon.com.br/Dji-Osmo-Pocket-2-Co...</td>\n      <td>AMAZON</td>\n      <td>BalbinoShop</td>\n      <td>3899.99</td>\n      <td>10</td>\n      <td>389.999</td>\n      <td>38999.9</td>\n      <td>B08HWCCS6S</td>\n      <td>Dji Osmo Pocket 2 Combo</td>\n      <td>ERRO</td>\n      <td>NaN</td>\n    </tr>\n    <tr>\n      <th>145</th>\n      <td>2022-05-31</td>\n      <td>https://www.amazon.com.br/Dji-Osmo-Pocket-2-Co...</td>\n      <td>AMAZON</td>\n      <td>GearNPC</td>\n      <td>5000.0</td>\n      <td>10</td>\n      <td>500.000</td>\n      <td>50000.0</td>\n      <td>B08HWCCS6S</td>\n      <td>Dji Osmo Pocket 2 Combo</td>\n      <td>ERRO</td>\n      <td>NaN</td>\n    </tr>\n    <tr>\n      <th>146</th>\n      <td>2022-05-31</td>\n      <td>https://www.amazon.com.br/Dji-Osmo-Pocket-2-Co...</td>\n      <td>AMAZON</td>\n      <td>eFacini</td>\n      <td>5072.9</td>\n      <td>10</td>\n      <td>507.290</td>\n      <td>50729.0</td>\n      <td>B08HWCCS6S</td>\n      <td>Dji Osmo Pocket 2 Combo</td>\n      <td>ERRO</td>\n      <td>NaN</td>\n    </tr>\n    <tr>\n      <th>147</th>\n      <td>2022-05-31</td>\n      <td>https://www.amazon.com.br/Dji-Osmo-Pocket-2-Co...</td>\n      <td>AMAZON</td>\n      <td>Lucas Lapa PhotoPro</td>\n      <td>5999.0</td>\n      <td>10</td>\n      <td>599.900</td>\n      <td>59990.0</td>\n      <td>B08HWCCS6S</td>\n      <td>Dji Osmo Pocket 2 Combo</td>\n      <td>ERRO</td>\n      <td>NaN</td>\n    </tr>\n    <tr>\n      <th>148</th>\n      <td>2022-05-31</td>\n      <td>https://www.amazon.com.br/C%C3%A2mera-Filmador...</td>\n      <td>AMAZON</td>\n      <td>Loja do Filmmaker</td>\n      <td>5759.0</td>\n      <td>10</td>\n      <td>575.900</td>\n      <td>57590.0</td>\n      <td>B083R4VMMC</td>\n      <td>Câmera de ação Insta360 One R Edição T...</td>\n      <td>ERRO</td>\n      <td>NaN</td>\n    </tr>\n  </tbody>\n</table>\n<p>191 rows × 12 columns</p>\n</div>"
     },
     "execution_count": 59,
     "metadata": {},
     "output_type": "execute_result"
    }
   ],
   "source": [
    "Df_final_mesmo = pd.concat([Df_teste, Dataframe_More])\n",
    "Df_final_mesmo"
   ],
   "metadata": {
    "collapsed": false,
    "pycharm": {
     "name": "#%%\n"
    }
   }
  },
  {
   "cell_type": "code",
   "execution_count": 60,
   "outputs": [],
   "source": [
    "Df_final_mesmo.to_excel(r\"C:\\Users\\pedro\\Documents\\Turte Brand Protection\\AMAZON_FINAL_GOPRO.xlsx\", index=False)"
   ],
   "metadata": {
    "collapsed": false,
    "pycharm": {
     "name": "#%%\n"
    }
   }
  },
  {
   "cell_type": "code",
   "execution_count": 105,
   "outputs": [
    {
     "ename": "ValueError",
     "evalue": "Can only compare identically-labeled Series objects",
     "output_type": "error",
     "traceback": [
      "\u001B[1;31m---------------------------------------------------------------------------\u001B[0m",
      "\u001B[1;31mValueError\u001B[0m                                Traceback (most recent call last)",
      "Input \u001B[1;32mIn [105]\u001B[0m, in \u001B[0;36m<cell line: 2>\u001B[1;34m()\u001B[0m\n\u001B[0;32m      1\u001B[0m Dataframe_More[\u001B[38;5;124m'\u001B[39m\u001B[38;5;124mDATE\u001B[39m\u001B[38;5;124m'\u001B[39m] \u001B[38;5;241m=\u001B[39m pd\u001B[38;5;241m.\u001B[39mto_datetime(\u001B[38;5;124m'\u001B[39m\u001B[38;5;124mtoday\u001B[39m\u001B[38;5;124m'\u001B[39m, errors\u001B[38;5;241m=\u001B[39m\u001B[38;5;124m'\u001B[39m\u001B[38;5;124mignore\u001B[39m\u001B[38;5;124m'\u001B[39m)\u001B[38;5;241m.\u001B[39mdate()\n\u001B[1;32m----> 2\u001B[0m Dataframe_More[\u001B[38;5;124m'\u001B[39m\u001B[38;5;124mURL\u001B[39m\u001B[38;5;124m'\u001B[39m] \u001B[38;5;241m=\u001B[39m [Df_final\u001B[38;5;241m.\u001B[39mloc[\u001B[43mDf_final\u001B[49m\u001B[43m[\u001B[49m\u001B[38;5;124;43m'\u001B[39;49m\u001B[38;5;124;43mID\u001B[39;49m\u001B[38;5;124;43m'\u001B[39;49m\u001B[43m]\u001B[49m\u001B[43m \u001B[49m\u001B[38;5;241;43m==\u001B[39;49m\u001B[43m \u001B[49m\u001B[43mDataframe_More\u001B[49m\u001B[43m[\u001B[49m\u001B[38;5;124;43m'\u001B[39;49m\u001B[38;5;124;43mID\u001B[39;49m\u001B[38;5;124;43m'\u001B[39;49m\u001B[43m]\u001B[49m, \u001B[38;5;124m'\u001B[39m\u001B[38;5;124mURL\u001B[39m\u001B[38;5;124m'\u001B[39m]]\n",
      "File \u001B[1;32m~\\AppData\\Local\\Programs\\Python\\Python310\\lib\\site-packages\\pandas\\core\\ops\\common.py:70\u001B[0m, in \u001B[0;36m_unpack_zerodim_and_defer.<locals>.new_method\u001B[1;34m(self, other)\u001B[0m\n\u001B[0;32m     66\u001B[0m             \u001B[38;5;28;01mreturn\u001B[39;00m \u001B[38;5;28mNotImplemented\u001B[39m\n\u001B[0;32m     68\u001B[0m other \u001B[38;5;241m=\u001B[39m item_from_zerodim(other)\n\u001B[1;32m---> 70\u001B[0m \u001B[38;5;28;01mreturn\u001B[39;00m \u001B[43mmethod\u001B[49m\u001B[43m(\u001B[49m\u001B[38;5;28;43mself\u001B[39;49m\u001B[43m,\u001B[49m\u001B[43m \u001B[49m\u001B[43mother\u001B[49m\u001B[43m)\u001B[49m\n",
      "File \u001B[1;32m~\\AppData\\Local\\Programs\\Python\\Python310\\lib\\site-packages\\pandas\\core\\arraylike.py:40\u001B[0m, in \u001B[0;36mOpsMixin.__eq__\u001B[1;34m(self, other)\u001B[0m\n\u001B[0;32m     38\u001B[0m \u001B[38;5;129m@unpack_zerodim_and_defer\u001B[39m(\u001B[38;5;124m\"\u001B[39m\u001B[38;5;124m__eq__\u001B[39m\u001B[38;5;124m\"\u001B[39m)\n\u001B[0;32m     39\u001B[0m \u001B[38;5;28;01mdef\u001B[39;00m \u001B[38;5;21m__eq__\u001B[39m(\u001B[38;5;28mself\u001B[39m, other):\n\u001B[1;32m---> 40\u001B[0m     \u001B[38;5;28;01mreturn\u001B[39;00m \u001B[38;5;28;43mself\u001B[39;49m\u001B[38;5;241;43m.\u001B[39;49m\u001B[43m_cmp_method\u001B[49m\u001B[43m(\u001B[49m\u001B[43mother\u001B[49m\u001B[43m,\u001B[49m\u001B[43m \u001B[49m\u001B[43moperator\u001B[49m\u001B[38;5;241;43m.\u001B[39;49m\u001B[43meq\u001B[49m\u001B[43m)\u001B[49m\n",
      "File \u001B[1;32m~\\AppData\\Local\\Programs\\Python\\Python310\\lib\\site-packages\\pandas\\core\\series.py:5617\u001B[0m, in \u001B[0;36mSeries._cmp_method\u001B[1;34m(self, other, op)\u001B[0m\n\u001B[0;32m   5614\u001B[0m res_name \u001B[38;5;241m=\u001B[39m ops\u001B[38;5;241m.\u001B[39mget_op_result_name(\u001B[38;5;28mself\u001B[39m, other)\n\u001B[0;32m   5616\u001B[0m \u001B[38;5;28;01mif\u001B[39;00m \u001B[38;5;28misinstance\u001B[39m(other, Series) \u001B[38;5;129;01mand\u001B[39;00m \u001B[38;5;129;01mnot\u001B[39;00m \u001B[38;5;28mself\u001B[39m\u001B[38;5;241m.\u001B[39m_indexed_same(other):\n\u001B[1;32m-> 5617\u001B[0m     \u001B[38;5;28;01mraise\u001B[39;00m \u001B[38;5;167;01mValueError\u001B[39;00m(\u001B[38;5;124m\"\u001B[39m\u001B[38;5;124mCan only compare identically-labeled Series objects\u001B[39m\u001B[38;5;124m\"\u001B[39m)\n\u001B[0;32m   5619\u001B[0m lvalues \u001B[38;5;241m=\u001B[39m \u001B[38;5;28mself\u001B[39m\u001B[38;5;241m.\u001B[39m_values\n\u001B[0;32m   5620\u001B[0m rvalues \u001B[38;5;241m=\u001B[39m extract_array(other, extract_numpy\u001B[38;5;241m=\u001B[39m\u001B[38;5;28;01mTrue\u001B[39;00m, extract_range\u001B[38;5;241m=\u001B[39m\u001B[38;5;28;01mTrue\u001B[39;00m)\n",
      "\u001B[1;31mValueError\u001B[0m: Can only compare identically-labeled Series objects"
     ]
    }
   ],
   "source": [
    "Dataframe_More['DATE'] = pd.to_datetime('today', errors='ignore').date()\n",
    "#Dataframe_More['URL'] = [Df_final.loc[Df_final['ID'] == Dataframe_More['ID'], 'URL']]"
   ],
   "metadata": {
    "collapsed": false,
    "pycharm": {
     "name": "#%%\n"
    }
   }
  },
  {
   "cell_type": "code",
   "execution_count": 117,
   "outputs": [
    {
     "data": {
      "text/plain": "            ID                      Seller        Price        DATE  \\\n0   B07WSRXMS8                LIVE IMPORTS  R$ 2.299,00  2022-05-21   \n1   B07WSRXMS8                 King Pro St  R$ 2.289,00  2022-05-21   \n2   B07WSRXMS8              GRUPO MAVERICK  R$ 2.599,00  2022-05-21   \n3   B09D15SFMQ                LIVE IMPORTS  R$ 3.207,25  2022-05-21   \n4   B09D15SFMQ                 King Pro St  R$ 3.219,00  2022-05-21   \n5   B09D15SFMQ              GRUPO MAVERICK  R$ 4.299,99  2022-05-21   \n6   B09D15SFMQ                     MeuDome  R$ 4.799,00  2022-05-21   \n7   B08R2XCM9K                  EOS IMPORT  R$ 2.999,00  2022-05-21   \n8   B08KXN6BNH                 King Pro St  R$ 2.599,00  2022-05-21   \n9   B08KXN6BNH                 King Pro St  R$ 2.739,00  2022-05-21   \n10  B08KXN6BNH              GRUPO MAVERICK  R$ 3.399,99  2022-05-21   \n11  B08ZSVP9T7                  EOS IMPORT  R$ 2.599,00  2022-05-21   \n12  B08ZSVP9T7                LIVE IMPORTS  R$ 2.599,00  2022-05-21   \n13  B08ZSVP9T7                LIVE IMPORTS  R$ 2.599,00  2022-05-21   \n14  B08ZSVP9T7              GRUPO MAVERICK  R$ 3.199,99  2022-05-21   \n15  B07RJMK2GV                    QanHorse  R$ 1.983,00  2022-05-21   \n16  B07RJMK2GV   Xalo Comercio de Produtos  R$ 2.420,00  2022-05-21   \n17  B07RJMK2GV                     BC INFO  R$ 2.712,67  2022-05-21   \n18  B07RJMK2GV     Bits & Bytes Tecnologia  R$ 2.851,27  2022-05-21   \n19  B07RJMK2GV              Elefante Store  R$ 3.605,23  2022-05-21   \n20  B07RJMK2GV           DigitalShoppStore  R$ 4.100,00  2022-05-21   \n\n                                                  URL  \n0   https://www.amazon.com.br/Gopro-Black-prova-D%...  \n1   https://www.amazon.com.br/GoPro-Frontal-HyperS...  \n2   https://www.amazon.com.br/C%C3%A2mera-GoPro-HE...  \n3   https://www.amazon.com.br/C%C3%A2mera-Cart%C3%...  \n4   https://www.amazon.com.br/C%C3%A2mera-GoPro-Fr...  \n5   https://www.amazon.com.br/C%C3%82MERA-GOPRO-BL...  \n6   https://www.amazon.com.br/C%C3%A2mera-Digital-...  \n7   https://www.amazon.com.br/Camera-DJI-Osmo-Acti...  \n8                                                 NaN  \n9                                                 NaN  \n10                                                NaN  \n11                                                NaN  \n12                                                NaN  \n13                                                NaN  \n14                                                NaN  \n15                                                NaN  \n16                                                NaN  \n17                                                NaN  \n18                                                NaN  \n19                                                NaN  \n20                                                NaN  ",
      "text/html": "<div>\n<style scoped>\n    .dataframe tbody tr th:only-of-type {\n        vertical-align: middle;\n    }\n\n    .dataframe tbody tr th {\n        vertical-align: top;\n    }\n\n    .dataframe thead th {\n        text-align: right;\n    }\n</style>\n<table border=\"1\" class=\"dataframe\">\n  <thead>\n    <tr style=\"text-align: right;\">\n      <th></th>\n      <th>ID</th>\n      <th>Seller</th>\n      <th>Price</th>\n      <th>DATE</th>\n      <th>URL</th>\n    </tr>\n  </thead>\n  <tbody>\n    <tr>\n      <th>0</th>\n      <td>B07WSRXMS8</td>\n      <td>LIVE IMPORTS</td>\n      <td>R$ 2.299,00</td>\n      <td>2022-05-21</td>\n      <td>https://www.amazon.com.br/Gopro-Black-prova-D%...</td>\n    </tr>\n    <tr>\n      <th>1</th>\n      <td>B07WSRXMS8</td>\n      <td>King Pro St</td>\n      <td>R$ 2.289,00</td>\n      <td>2022-05-21</td>\n      <td>https://www.amazon.com.br/GoPro-Frontal-HyperS...</td>\n    </tr>\n    <tr>\n      <th>2</th>\n      <td>B07WSRXMS8</td>\n      <td>GRUPO MAVERICK</td>\n      <td>R$ 2.599,00</td>\n      <td>2022-05-21</td>\n      <td>https://www.amazon.com.br/C%C3%A2mera-GoPro-HE...</td>\n    </tr>\n    <tr>\n      <th>3</th>\n      <td>B09D15SFMQ</td>\n      <td>LIVE IMPORTS</td>\n      <td>R$ 3.207,25</td>\n      <td>2022-05-21</td>\n      <td>https://www.amazon.com.br/C%C3%A2mera-Cart%C3%...</td>\n    </tr>\n    <tr>\n      <th>4</th>\n      <td>B09D15SFMQ</td>\n      <td>King Pro St</td>\n      <td>R$ 3.219,00</td>\n      <td>2022-05-21</td>\n      <td>https://www.amazon.com.br/C%C3%A2mera-GoPro-Fr...</td>\n    </tr>\n    <tr>\n      <th>5</th>\n      <td>B09D15SFMQ</td>\n      <td>GRUPO MAVERICK</td>\n      <td>R$ 4.299,99</td>\n      <td>2022-05-21</td>\n      <td>https://www.amazon.com.br/C%C3%82MERA-GOPRO-BL...</td>\n    </tr>\n    <tr>\n      <th>6</th>\n      <td>B09D15SFMQ</td>\n      <td>MeuDome</td>\n      <td>R$ 4.799,00</td>\n      <td>2022-05-21</td>\n      <td>https://www.amazon.com.br/C%C3%A2mera-Digital-...</td>\n    </tr>\n    <tr>\n      <th>7</th>\n      <td>B08R2XCM9K</td>\n      <td>EOS IMPORT</td>\n      <td>R$ 2.999,00</td>\n      <td>2022-05-21</td>\n      <td>https://www.amazon.com.br/Camera-DJI-Osmo-Acti...</td>\n    </tr>\n    <tr>\n      <th>8</th>\n      <td>B08KXN6BNH</td>\n      <td>King Pro St</td>\n      <td>R$ 2.599,00</td>\n      <td>2022-05-21</td>\n      <td>NaN</td>\n    </tr>\n    <tr>\n      <th>9</th>\n      <td>B08KXN6BNH</td>\n      <td>King Pro St</td>\n      <td>R$ 2.739,00</td>\n      <td>2022-05-21</td>\n      <td>NaN</td>\n    </tr>\n    <tr>\n      <th>10</th>\n      <td>B08KXN6BNH</td>\n      <td>GRUPO MAVERICK</td>\n      <td>R$ 3.399,99</td>\n      <td>2022-05-21</td>\n      <td>NaN</td>\n    </tr>\n    <tr>\n      <th>11</th>\n      <td>B08ZSVP9T7</td>\n      <td>EOS IMPORT</td>\n      <td>R$ 2.599,00</td>\n      <td>2022-05-21</td>\n      <td>NaN</td>\n    </tr>\n    <tr>\n      <th>12</th>\n      <td>B08ZSVP9T7</td>\n      <td>LIVE IMPORTS</td>\n      <td>R$ 2.599,00</td>\n      <td>2022-05-21</td>\n      <td>NaN</td>\n    </tr>\n    <tr>\n      <th>13</th>\n      <td>B08ZSVP9T7</td>\n      <td>LIVE IMPORTS</td>\n      <td>R$ 2.599,00</td>\n      <td>2022-05-21</td>\n      <td>NaN</td>\n    </tr>\n    <tr>\n      <th>14</th>\n      <td>B08ZSVP9T7</td>\n      <td>GRUPO MAVERICK</td>\n      <td>R$ 3.199,99</td>\n      <td>2022-05-21</td>\n      <td>NaN</td>\n    </tr>\n    <tr>\n      <th>15</th>\n      <td>B07RJMK2GV</td>\n      <td>QanHorse</td>\n      <td>R$ 1.983,00</td>\n      <td>2022-05-21</td>\n      <td>NaN</td>\n    </tr>\n    <tr>\n      <th>16</th>\n      <td>B07RJMK2GV</td>\n      <td>Xalo Comercio de Produtos</td>\n      <td>R$ 2.420,00</td>\n      <td>2022-05-21</td>\n      <td>NaN</td>\n    </tr>\n    <tr>\n      <th>17</th>\n      <td>B07RJMK2GV</td>\n      <td>BC INFO</td>\n      <td>R$ 2.712,67</td>\n      <td>2022-05-21</td>\n      <td>NaN</td>\n    </tr>\n    <tr>\n      <th>18</th>\n      <td>B07RJMK2GV</td>\n      <td>Bits &amp; Bytes Tecnologia</td>\n      <td>R$ 2.851,27</td>\n      <td>2022-05-21</td>\n      <td>NaN</td>\n    </tr>\n    <tr>\n      <th>19</th>\n      <td>B07RJMK2GV</td>\n      <td>Elefante Store</td>\n      <td>R$ 3.605,23</td>\n      <td>2022-05-21</td>\n      <td>NaN</td>\n    </tr>\n    <tr>\n      <th>20</th>\n      <td>B07RJMK2GV</td>\n      <td>DigitalShoppStore</td>\n      <td>R$ 4.100,00</td>\n      <td>2022-05-21</td>\n      <td>NaN</td>\n    </tr>\n  </tbody>\n</table>\n</div>"
     },
     "execution_count": 117,
     "metadata": {},
     "output_type": "execute_result"
    }
   ],
   "source": [
    "Dataframe_More"
   ],
   "metadata": {
    "collapsed": false,
    "pycharm": {
     "name": "#%%\n"
    }
   }
  },
  {
   "cell_type": "code",
   "execution_count": 63,
   "outputs": [
    {
     "data": {
      "text/plain": "         DATE                                                URL MARKETPLACE  \\\n0  2022-05-21  https://www.amazon.com.br/Gopro-Black-prova-D%...      AMAZON   \n1  2022-05-21  https://www.amazon.com.br/GoPro-Frontal-HyperS...      AMAZON   \n2  2022-05-21  https://www.amazon.com.br/C%C3%A2mera-GoPro-HE...      AMAZON   \n3  2022-05-21  https://www.amazon.com.br/C%C3%A2mera-Cart%C3%...      AMAZON   \n4  2022-05-21  https://www.amazon.com.br/C%C3%A2mera-GoPro-Fr...      AMAZON   \n5  2022-05-21  https://www.amazon.com.br/C%C3%82MERA-GOPRO-BL...      AMAZON   \n6  2022-05-21  https://www.amazon.com.br/C%C3%A2mera-Digital-...      AMAZON   \n7  2022-05-21  https://www.amazon.com.br/Camera-DJI-Osmo-Acti...      AMAZON   \n\n       SELLER    PRICE  PARCEL  INSTALLMENT  INSTALLMENT_PAYMENT          ID  \\\n0  EOS IMPORT  2299.00      10       229.90               2299.0  B07WSRXMS8   \n1  EOS IMPORT  3207.25      10       320.77               3207.7  B09D15SFMQ   \n2      Amazon  4688.20      10       468.82               4688.2  B093JKGDJZ   \n3  EOS IMPORT  3000.00      10       300.00               3000.0  B08R2XCM9K   \n4  EOS IMPORT  2540.73      10       254.10               2541.0  B08KXN6BNH   \n5  EOS IMPORT  2599.00      10       259.90               2599.0  B08ZSVP9T7   \n6  EOS IMPORT  3799.00      10       379.90               3799.0  B087ZP2GW4   \n7  HuaYe Tech  1982.90      10       198.29               1982.9  B07RJMK2GV   \n\n                                             PRODUCT  INTERNACIONAL  \n0          Gopro Hero 8 Black 4k à prova D'água C...  Internacional  \n1          Câmera GoPro HERO10 Black à Prova com ...  Internacional  \n2          Câmera GoPro HERO9 Black - Kit Trip Pr...  Internacional  \n3          Câmera GoPro HERO9 Black à Prova D'águ...  Internacional  \n4          Câmera GoPro HERO9 Black à Prova D'águ...  Internacional  \n5          CÂMERA GOPRO HERO 8 BLACK ESSENCIAL BU...  Internacional  \n6          Câmera Digital GoPro Max 360o - CHDHZ-...  Internacional  \n7          Camera DJI Osmo Action 4K Sensor CMOS ...  Internacional  ",
      "text/html": "<div>\n<style scoped>\n    .dataframe tbody tr th:only-of-type {\n        vertical-align: middle;\n    }\n\n    .dataframe tbody tr th {\n        vertical-align: top;\n    }\n\n    .dataframe thead th {\n        text-align: right;\n    }\n</style>\n<table border=\"1\" class=\"dataframe\">\n  <thead>\n    <tr style=\"text-align: right;\">\n      <th></th>\n      <th>DATE</th>\n      <th>URL</th>\n      <th>MARKETPLACE</th>\n      <th>SELLER</th>\n      <th>PRICE</th>\n      <th>PARCEL</th>\n      <th>INSTALLMENT</th>\n      <th>INSTALLMENT_PAYMENT</th>\n      <th>ID</th>\n      <th>PRODUCT</th>\n      <th>INTERNACIONAL</th>\n    </tr>\n  </thead>\n  <tbody>\n    <tr>\n      <th>0</th>\n      <td>2022-05-21</td>\n      <td>https://www.amazon.com.br/Gopro-Black-prova-D%...</td>\n      <td>AMAZON</td>\n      <td>EOS IMPORT</td>\n      <td>2299.00</td>\n      <td>10</td>\n      <td>229.90</td>\n      <td>2299.0</td>\n      <td>B07WSRXMS8</td>\n      <td>Gopro Hero 8 Black 4k à prova D'água C...</td>\n      <td>Internacional</td>\n    </tr>\n    <tr>\n      <th>1</th>\n      <td>2022-05-21</td>\n      <td>https://www.amazon.com.br/GoPro-Frontal-HyperS...</td>\n      <td>AMAZON</td>\n      <td>EOS IMPORT</td>\n      <td>3207.25</td>\n      <td>10</td>\n      <td>320.77</td>\n      <td>3207.7</td>\n      <td>B09D15SFMQ</td>\n      <td>Câmera GoPro HERO10 Black à Prova com ...</td>\n      <td>Internacional</td>\n    </tr>\n    <tr>\n      <th>2</th>\n      <td>2022-05-21</td>\n      <td>https://www.amazon.com.br/C%C3%A2mera-GoPro-HE...</td>\n      <td>AMAZON</td>\n      <td>Amazon</td>\n      <td>4688.20</td>\n      <td>10</td>\n      <td>468.82</td>\n      <td>4688.2</td>\n      <td>B093JKGDJZ</td>\n      <td>Câmera GoPro HERO9 Black - Kit Trip Pr...</td>\n      <td>Internacional</td>\n    </tr>\n    <tr>\n      <th>3</th>\n      <td>2022-05-21</td>\n      <td>https://www.amazon.com.br/C%C3%A2mera-Cart%C3%...</td>\n      <td>AMAZON</td>\n      <td>EOS IMPORT</td>\n      <td>3000.00</td>\n      <td>10</td>\n      <td>300.00</td>\n      <td>3000.0</td>\n      <td>B08R2XCM9K</td>\n      <td>Câmera GoPro HERO9 Black à Prova D'águ...</td>\n      <td>Internacional</td>\n    </tr>\n    <tr>\n      <th>4</th>\n      <td>2022-05-21</td>\n      <td>https://www.amazon.com.br/C%C3%A2mera-GoPro-Fr...</td>\n      <td>AMAZON</td>\n      <td>EOS IMPORT</td>\n      <td>2540.73</td>\n      <td>10</td>\n      <td>254.10</td>\n      <td>2541.0</td>\n      <td>B08KXN6BNH</td>\n      <td>Câmera GoPro HERO9 Black à Prova D'águ...</td>\n      <td>Internacional</td>\n    </tr>\n    <tr>\n      <th>5</th>\n      <td>2022-05-21</td>\n      <td>https://www.amazon.com.br/C%C3%82MERA-GOPRO-BL...</td>\n      <td>AMAZON</td>\n      <td>EOS IMPORT</td>\n      <td>2599.00</td>\n      <td>10</td>\n      <td>259.90</td>\n      <td>2599.0</td>\n      <td>B08ZSVP9T7</td>\n      <td>CÂMERA GOPRO HERO 8 BLACK ESSENCIAL BU...</td>\n      <td>Internacional</td>\n    </tr>\n    <tr>\n      <th>6</th>\n      <td>2022-05-21</td>\n      <td>https://www.amazon.com.br/C%C3%A2mera-Digital-...</td>\n      <td>AMAZON</td>\n      <td>EOS IMPORT</td>\n      <td>3799.00</td>\n      <td>10</td>\n      <td>379.90</td>\n      <td>3799.0</td>\n      <td>B087ZP2GW4</td>\n      <td>Câmera Digital GoPro Max 360o - CHDHZ-...</td>\n      <td>Internacional</td>\n    </tr>\n    <tr>\n      <th>7</th>\n      <td>2022-05-21</td>\n      <td>https://www.amazon.com.br/Camera-DJI-Osmo-Acti...</td>\n      <td>AMAZON</td>\n      <td>HuaYe Tech</td>\n      <td>1982.90</td>\n      <td>10</td>\n      <td>198.29</td>\n      <td>1982.9</td>\n      <td>B07RJMK2GV</td>\n      <td>Camera DJI Osmo Action 4K Sensor CMOS ...</td>\n      <td>Internacional</td>\n    </tr>\n  </tbody>\n</table>\n</div>"
     },
     "execution_count": 63,
     "metadata": {},
     "output_type": "execute_result"
    }
   ],
   "source": [
    "#Df_final = Df_final.drop(columns=['MORE'])\n",
    "Df_final"
   ],
   "metadata": {
    "collapsed": false,
    "pycharm": {
     "name": "#%%\n"
    }
   }
  },
  {
   "cell_type": "code",
   "execution_count": null,
   "outputs": [],
   "source": [],
   "metadata": {
    "collapsed": false,
    "pycharm": {
     "name": "#%%\n"
    }
   }
  },
  {
   "cell_type": "code",
   "execution_count": 39,
   "metadata": {
    "pycharm": {
     "name": "#%%\n"
    }
   },
   "outputs": [],
   "source": [
    "Df_teste.to_excel(r\"C:\\Users\\pedro\\Documents\\Turte Brand Protection\\Turtle_Thinker_Alpha_0.1\\Motorola_Amazon.xlsx\", index=False)"
   ]
  },
  {
   "cell_type": "code",
   "execution_count": 33,
   "metadata": {
    "pycharm": {
     "name": "#%%\n"
    }
   },
   "outputs": [
    {
     "name": "stdout",
     "output_type": "stream",
     "text": [
      "187\n"
     ]
    }
   ],
   "source": [
    "Amazon_seller_more =  [s for s in Amazon_seller_more if len(s) > 1]\n",
    "print(len(Amazon_seller_more))"
   ]
  },
  {
   "cell_type": "code",
   "execution_count": 39,
   "metadata": {
    "pycharm": {
     "name": "#%%\n"
    }
   },
   "outputs": [
    {
     "name": "stdout",
     "output_type": "stream",
     "text": [
      "0\n"
     ]
    }
   ],
   "source": [
    "Amazon_seller_more =  [s for s in Amazon_seller_more if not 'Política de devolução' in s]\n",
    "Amazon_seller_more =  [s for s in Amazon_seller_more if not 'Apagar tudo' in s]\n",
    "\n",
    "print(len(Amazon_seller_more))"
   ]
  },
  {
   "cell_type": "code",
   "execution_count": null,
   "metadata": {
    "pycharm": {
     "name": "#%%\n"
    }
   },
   "outputs": [],
   "source": []
  },
  {
   "cell_type": "code",
   "execution_count": 37,
   "metadata": {
    "pycharm": {
     "name": "#%%\n"
    }
   },
   "outputs": [
    {
     "data": {
      "text/plain": [
       "[' Tudo à Beça',\n",
       " 'Política de devolução',\n",
       " ' Gigantec',\n",
       " 'Política de devolução',\n",
       " ' INFOSHOP.',\n",
       " 'Política de devolução',\n",
       " ' Thaun Shop',\n",
       " 'Política de devolução',\n",
       " ' Tendinfo',\n",
       " 'Política de devolução',\n",
       " ' Triplenet Pricing INC',\n",
       " 'Política de devolução',\n",
       " '',\n",
       " 'Apagar tudo',\n",
       " ' O MUNDO PARA VOCÊ',\n",
       " 'Política de devolução',\n",
       " ' ZAPATA STORE SP',\n",
       " 'Política de devolução',\n",
       " ' OFICINA DOS BITS',\n",
       " 'Política de devolução',\n",
       " ' Syma Solutions',\n",
       " 'Política de devolução',\n",
       " ' Conect Magazine',\n",
       " 'Política de devolução',\n",
       " ' IBYTE',\n",
       " 'Política de devolução',\n",
       " ' Triplenet Pricing INC',\n",
       " 'Política de devolução',\n",
       " ' Triplenet Pricing INC',\n",
       " 'Política de devolução',\n",
       " ' MAGIC WORLD ELETRONICOS',\n",
       " 'Política de devolução',\n",
       " ' REX INFORMATICA',\n",
       " 'Política de devolução',\n",
       " ' Tudo à Beça',\n",
       " 'Política de devolução',\n",
       " ' W-TECH IMPORTS',\n",
       " 'Política de devolução',\n",
       " ' Kadri Tecnologia',\n",
       " 'Política de devolução',\n",
       " ' E-SPOT',\n",
       " 'Política de devolução',\n",
       " ' Tendinfo',\n",
       " 'Política de devolução',\n",
       " '',\n",
       " 'Apagar tudo',\n",
       " ' Mil Coisas Drop',\n",
       " 'Política de devolução',\n",
       " ' Mil Coisas droship',\n",
       " 'Política de devolução',\n",
       " 'Política de devolução ',\n",
       " ' BalbinoShop',\n",
       " 'Política de devolução',\n",
       " ' Loja iPlace',\n",
       " 'Política de devolução',\n",
       " ' E-SPOT',\n",
       " 'Política de devolução',\n",
       " ' W-TECH IMPORTS',\n",
       " 'Política de devolução',\n",
       " ' Tendinfo',\n",
       " 'Política de devolução',\n",
       " '',\n",
       " 'Apagar tudo',\n",
       " ' Triplenet Pricing INC',\n",
       " 'Política de devolução',\n",
       " ' DONA JUREMA BOUTIK',\n",
       " 'Política de devolução',\n",
       " ' E-SPOT',\n",
       " 'Política de devolução',\n",
       " ' Triplenet Pricing INC',\n",
       " 'Política de devolução',\n",
       " '',\n",
       " 'Apagar tudo',\n",
       " 'Política de devolução ',\n",
       " ' Tendinfo',\n",
       " 'Política de devolução',\n",
       " ' Megaprice Comercio',\n",
       " 'Política de devolução',\n",
       " ' O MUNDO PARA VOCÊ',\n",
       " 'Política de devolução',\n",
       " ' Mil Coisas droship',\n",
       " 'Política de devolução',\n",
       " ' Angel Eletronicos',\n",
       " 'Política de devolução',\n",
       " ' MAGIC WORLD ELETRONICOS',\n",
       " 'Política de devolução',\n",
       " ' REX INFORMATICA',\n",
       " 'Política de devolução',\n",
       " ' Olist',\n",
       " 'Política de devolução',\n",
       " ' JHP Store',\n",
       " 'Política de devolução',\n",
       " ' Tudo à Beça',\n",
       " 'Política de devolução',\n",
       " ' TopTeck Produtos para Automação Residencial',\n",
       " 'Política de devolução',\n",
       " ' Triplenet Pricing INC',\n",
       " 'Política de devolução',\n",
       " ' Gigantec',\n",
       " 'Política de devolução',\n",
       " ' W-TECH IMPORTS',\n",
       " 'Política de devolução',\n",
       " ' E-SPOT',\n",
       " 'Política de devolução',\n",
       " ' Tendinfo',\n",
       " 'Política de devolução',\n",
       " '',\n",
       " 'Apagar tudo',\n",
       " ' INPOWER',\n",
       " 'Política de devolução',\n",
       " 'Política de devolução ',\n",
       " ' Megaprice Comercio',\n",
       " 'Política de devolução',\n",
       " ' MAGIC WORLD ELETRONICOS',\n",
       " 'Política de devolução',\n",
       " ' REX INFORMATICA',\n",
       " 'Política de devolução',\n",
       " ' PHOENIX ELETRONICOS',\n",
       " 'Política de devolução',\n",
       " ' Tudo à Beça',\n",
       " 'Política de devolução',\n",
       " ' Gigantec',\n",
       " 'Política de devolução',\n",
       " ' Angel Eletronicos',\n",
       " 'Política de devolução',\n",
       " ' SHOPAR INFO',\n",
       " 'Política de devolução',\n",
       " '',\n",
       " 'Apagar tudo',\n",
       " ' Vintage Vibes Br',\n",
       " 'Política de devolução',\n",
       " ' XPPEN-Feel Delicate Touch',\n",
       " 'Política de devolução',\n",
       " ' Dark Gamer',\n",
       " 'Política de devolução',\n",
       " ' Triplenet Pricing INC',\n",
       " 'Política de devolução',\n",
       " ' E-SHOP CITY',\n",
       " 'Política de devolução',\n",
       " ' O MUNDO PARA VOCÊ',\n",
       " 'Política de devolução',\n",
       " ' Tudo à Beça',\n",
       " 'Política de devolução',\n",
       " ' Gigantec',\n",
       " 'Política de devolução',\n",
       " ' HD Store Oficial',\n",
       " 'Política de devolução',\n",
       " ' Triplenet Pricing INC',\n",
       " 'Política de devolução',\n",
       " ' E-SPOT',\n",
       " 'Política de devolução',\n",
       " ' Loja iPlace',\n",
       " 'Política de devolução',\n",
       " ' W-TECH IMPORTS',\n",
       " 'Política de devolução',\n",
       " ' Tendinfo',\n",
       " 'Política de devolução',\n",
       " '',\n",
       " 'Apagar tudo',\n",
       " ' Promotion.Shop 💎',\n",
       " 'Política de devolução',\n",
       " ' E-SHOP CITY',\n",
       " 'Política de devolução',\n",
       " ' DONA JUREMA BOUTIK',\n",
       " 'Política de devolução',\n",
       " ' Thaun Shop',\n",
       " 'Política de devolução',\n",
       " ' INFOSHOP.',\n",
       " 'Política de devolução',\n",
       " ' Gigantec',\n",
       " 'Política de devolução',\n",
       " ' Tudo à Beça',\n",
       " 'Política de devolução',\n",
       " ' OFICINA DOS BITS',\n",
       " 'Política de devolução',\n",
       " ' W-TECH IMPORTS',\n",
       " 'Política de devolução',\n",
       " ' TechShed',\n",
       " 'Política de devolução',\n",
       " ' Triplenet Pricing INC',\n",
       " 'Política de devolução',\n",
       " ' E-SPOT',\n",
       " 'Política de devolução',\n",
       " ' Bits & Bytes Tecnologia',\n",
       " 'Política de devolução',\n",
       " ' HD Store Oficial',\n",
       " 'Política de devolução',\n",
       " ' Tudo à Beça',\n",
       " 'Política de devolução',\n",
       " ' EVOLUÇÃO IMPORT',\n",
       " 'Política de devolução',\n",
       " ' Qualitech Informática',\n",
       " 'Política de devolução',\n",
       " ' TechShed',\n",
       " 'Política de devolução',\n",
       " ' Gigantec',\n",
       " 'Política de devolução',\n",
       " ' OFICINA DOS BITS',\n",
       " 'Política de devolução',\n",
       " ' Triplenet Pricing INC',\n",
       " 'Política de devolução',\n",
       " ' W-TECH IMPORTS',\n",
       " 'Política de devolução',\n",
       " ' E-SPOT',\n",
       " 'Política de devolução',\n",
       " ' Triplenet Pricing INC',\n",
       " 'Política de devolução',\n",
       " ' W-TECH IMPORTS',\n",
       " 'Política de devolução',\n",
       " ' Gigantec',\n",
       " 'Política de devolução',\n",
       " ' Tendinfo',\n",
       " 'Política de devolução',\n",
       " '',\n",
       " 'Apagar tudo',\n",
       " ' E-SHOP CITY',\n",
       " 'Política de devolução',\n",
       " '',\n",
       " 'Apagar tudo',\n",
       " ' Gdgets4u',\n",
       " 'Política de devolução',\n",
       " ' Tudo Tem Shopp',\n",
       " 'Política de devolução',\n",
       " ' MRASHOP',\n",
       " 'Política de devolução',\n",
       " ' Joc Comercial',\n",
       " 'Política de devolução',\n",
       " ' PLANETASHOP2',\n",
       " 'Política de devolução',\n",
       " ' Mondial Shop',\n",
       " 'Política de devolução',\n",
       " ' Imports Br',\n",
       " 'Política de devolução',\n",
       " ' Pagani Mall',\n",
       " 'Política de devolução',\n",
       " ' VitrineGae',\n",
       " 'Política de devolução',\n",
       " ' Gadget Shop Express BR',\n",
       " 'Política de devolução',\n",
       " '',\n",
       " 'Apagar tudo',\n",
       " ' Gdgets4u',\n",
       " 'Política de devolução',\n",
       " ' Pagani Mall',\n",
       " 'Política de devolução',\n",
       " ' Gadget Shop Express BR',\n",
       " 'Política de devolução',\n",
       " ' VitrineGae',\n",
       " 'Política de devolução',\n",
       " ' TOTAL INFO',\n",
       " 'Política de devolução',\n",
       " ' ALB SHOP',\n",
       " 'Política de devolução',\n",
       " ' Alfa Tecnológico',\n",
       " 'Política de devolução',\n",
       " ' XPPEN-Feel Delicate Touch',\n",
       " 'Política de devolução',\n",
       " ' Tendinfo',\n",
       " 'Política de devolução',\n",
       " ' MEIREMAGAZINE',\n",
       " 'Política de devolução',\n",
       " '',\n",
       " 'Apagar tudo',\n",
       " ' MilleniumShop',\n",
       " 'Política de devolução',\n",
       " ' Ignis Imports',\n",
       " 'Política de devolução',\n",
       " ' Promotion.Shop 💎',\n",
       " 'Política de devolução',\n",
       " ' MRASHOP',\n",
       " 'Política de devolução',\n",
       " ' shoploop',\n",
       " 'Política de devolução',\n",
       " ' VitrineGae',\n",
       " 'Política de devolução',\n",
       " ' PLANETASHOP2',\n",
       " 'Política de devolução',\n",
       " ' Pagani Mall',\n",
       " 'Política de devolução',\n",
       " ' Eletro Mania ✔️',\n",
       " 'Política de devolução',\n",
       " ' NewGifts',\n",
       " 'Política de devolução',\n",
       " '',\n",
       " 'Apagar tudo',\n",
       " ' MRASHOP',\n",
       " 'Política de devolução',\n",
       " ' Pagani Mall',\n",
       " 'Política de devolução',\n",
       " ' MEIREMAGAZINE',\n",
       " 'Política de devolução',\n",
       " ' Ami Ventures Inc.',\n",
       " 'Política de devolução',\n",
       " '',\n",
       " 'Apagar tudo',\n",
       " 'Política de devolução ',\n",
       " ' Tudo à Beça',\n",
       " 'Política de devolução',\n",
       " ' INFOGORDO',\n",
       " 'Política de devolução',\n",
       " ' HD Store Oficial',\n",
       " 'Política de devolução',\n",
       " ' Gigantec',\n",
       " 'Política de devolução',\n",
       " ' Triplenet Pricing INC',\n",
       " 'Política de devolução',\n",
       " ' Loja iPlace',\n",
       " 'Política de devolução',\n",
       " ' E-SPOT',\n",
       " 'Política de devolução',\n",
       " ' DOTCOMP',\n",
       " 'Política de devolução',\n",
       " \" Castro's Outlet\",\n",
       " 'Política de devolução',\n",
       " ' Obabox Oficial',\n",
       " 'Política de devolução',\n",
       " ' Mula Games',\n",
       " 'Política de devolução',\n",
       " ' Mustache Books',\n",
       " 'Política de devolução',\n",
       " ' LT2 SHOP',\n",
       " 'Política de devolução',\n",
       " ' OFICINA DOS BITS',\n",
       " 'Política de devolução',\n",
       " ' Elementar Tech',\n",
       " 'Política de devolução',\n",
       " ' Ami Ventures Inc.',\n",
       " 'Política de devolução',\n",
       " ' Tendinfo',\n",
       " 'Política de devolução',\n",
       " ' Tendinfo',\n",
       " 'Política de devolução',\n",
       " ' MMPLACE OFICIAL',\n",
       " 'Política de devolução',\n",
       " ' Mula Games',\n",
       " 'Política de devolução',\n",
       " ' Gigantec',\n",
       " 'Política de devolução',\n",
       " ' Mustache Books',\n",
       " 'Política de devolução',\n",
       " ' LT2 SHOP',\n",
       " 'Política de devolução',\n",
       " ' OFICINA DOS BITS',\n",
       " 'Política de devolução',\n",
       " ' Elementar Tech',\n",
       " 'Política de devolução',\n",
       " ' E-SHOP CITY',\n",
       " 'Política de devolução',\n",
       " ' EGAMER',\n",
       " 'Política de devolução',\n",
       " ' TURUM',\n",
       " 'Política de devolução',\n",
       " ' TURUM MG',\n",
       " 'Política de devolução',\n",
       " ' OFICINA DOS BITS',\n",
       " 'Política de devolução',\n",
       " ' PI-DIL CHEGOU DIGITAL ⭐⭐⭐⭐⭐',\n",
       " 'Política de devolução',\n",
       " '',\n",
       " 'Apagar tudo',\n",
       " ' octo.shop',\n",
       " 'Política de devolução',\n",
       " ' INFOGORDO',\n",
       " 'Política de devolução',\n",
       " 'Política de devolução ',\n",
       " ' OFICINA DOS BITS',\n",
       " 'Política de devolução',\n",
       " '',\n",
       " 'Apagar tudo',\n",
       " ' Triplenet Pricing INC',\n",
       " 'Política de devolução',\n",
       " ' HD Store Oficial',\n",
       " 'Política de devolução']"
      ]
     },
     "execution_count": 37,
     "metadata": {},
     "output_type": "execute_result"
    }
   ],
   "source": [
    "Amazon_seller_more"
   ]
  },
  {
   "cell_type": "code",
   "execution_count": 33,
   "metadata": {
    "pycharm": {
     "name": "#%%\n"
    }
   },
   "outputs": [],
   "source": [
    "Amazon_ID_More = []"
   ]
  },
  {
   "cell_type": "code",
   "execution_count": null,
   "metadata": {
    "pycharm": {
     "name": "#%%\n"
    }
   },
   "outputs": [],
   "source": [
    "Amazon_seller_more = []\n",
    "Amazon_price_more = []\n"
   ]
  },
  {
   "cell_type": "code",
   "execution_count": null,
   "metadata": {
    "pycharm": {
     "name": "#%%\n"
    }
   },
   "outputs": [],
   "source": [
    "Amazon_seller_more"
   ]
  },
  {
   "cell_type": "code",
   "execution_count": null,
   "metadata": {
    "pycharm": {
     "name": "#%%\n"
    }
   },
   "outputs": [],
   "source": [
    "Amazon_price_more"
   ]
  },
  {
   "cell_type": "code",
   "execution_count": null,
   "metadata": {
    "pycharm": {
     "name": "#%%\n"
    }
   },
   "outputs": [],
   "source": [
    "\n",
    "new_url = \"https://www.amazon.com.br/gp/product/ajax/?asin=\" + \"B09D15SFMQ\" + \"&pageno=1&experienceId=aodAjaxMain\"\n",
    "\n",
    "driver.get(new_url)\n",
    "\n",
    "time.sleep(5)\n",
    "\n",
    "body_el = driver.find_element(By.CSS_SELECTOR, 'body')\n",
    "html_str = body_el.get_attribute('innerHTML')\n",
    "\n",
    "Soup = BeautifulSoup(html_str, 'html.parser')\n",
    "\n",
    "for seller in Soup.find_all(class_='a-size-small a-link-normal')[4:]:\n",
    "    print(seller.text)\n",
    "\n",
    "for price in Soup.find_all(class_='a-offscreen')[2:]:\n",
    "    print(price.text)\n"
   ]
  },
  {
   "cell_type": "code",
   "execution_count": null,
   "metadata": {
    "pycharm": {
     "name": "#%%\n"
    }
   },
   "outputs": [],
   "source": []
  },
  {
   "cell_type": "code",
   "execution_count": null,
   "metadata": {
    "pycharm": {
     "name": "#%%\n"
    }
   },
   "outputs": [],
   "source": []
  },
  {
   "cell_type": "code",
   "execution_count": null,
   "metadata": {
    "pycharm": {
     "name": "#%%\n"
    }
   },
   "outputs": [],
   "source": []
  },
  {
   "cell_type": "code",
   "execution_count": null,
   "metadata": {
    "pycharm": {
     "name": "#%%\n"
    }
   },
   "outputs": [],
   "source": [
    "for url in Df_more_offers['ID']:\n",
    "    time.sleep(3)\n",
    "\n",
    "    search = \"https://www.amazon.com.br/gp/product/ajax/?asin=\" + url + \"&pageno=1&experienceId=aodAjaxMain\"\n",
    "\n",
    "    driver.get(search)\n",
    "    body_el = driver.find_element(By.CSS_SELECTOR, 'body')\n",
    "    html_str = body_el.get_attribute('innerHTML')\n",
    "\n",
    "    print(search)\n",
    "\n",
    "    Soup = BeautifulSoup(html_str, 'html.parser')\n",
    "\n",
    "    for seller in Soup.find_all(class_='a-size-small a-link-normal'):\n",
    "        print(seller.text)"
   ]
  },
  {
   "cell_type": "code",
   "execution_count": null,
   "metadata": {
    "pycharm": {
     "name": "#%%\n"
    }
   },
   "outputs": [],
   "source": []
  },
  {
   "cell_type": "code",
   "execution_count": null,
   "metadata": {
    "pycharm": {
     "name": "#%%\n"
    }
   },
   "outputs": [],
   "source": []
  },
  {
   "cell_type": "code",
   "execution_count": null,
   "metadata": {
    "pycharm": {
     "name": "#%%\n"
    }
   },
   "outputs": [],
   "source": []
  },
  {
   "cell_type": "code",
   "execution_count": null,
   "metadata": {
    "pycharm": {
     "name": "#%%\n"
    }
   },
   "outputs": [],
   "source": []
  },
  {
   "cell_type": "code",
   "execution_count": null,
   "metadata": {
    "pycharm": {
     "name": "#%%\n"
    }
   },
   "outputs": [],
   "source": []
  },
  {
   "cell_type": "code",
   "execution_count": null,
   "metadata": {
    "pycharm": {
     "name": "#%%\n"
    }
   },
   "outputs": [],
   "source": [
    "#Teste gráfico \n",
    "import matplotlib.pyplot as plt"
   ]
  },
  {
   "cell_type": "code",
   "execution_count": null,
   "metadata": {
    "pycharm": {
     "name": "#%%\n"
    }
   },
   "outputs": [],
   "source": [
    "plt.figure(figsize=(10,10))\n",
    "plt.boxplot(x=Df_final['PRICE'], vert=False)\n",
    "plt.show()"
   ]
  },
  {
   "cell_type": "code",
   "execution_count": null,
   "metadata": {
    "pycharm": {
     "name": "#%%\n"
    }
   },
   "outputs": [],
   "source": [
    "df_products = Df_final[Df_final['PRICE'] > 800]"
   ]
  },
  {
   "cell_type": "code",
   "execution_count": null,
   "metadata": {
    "pycharm": {
     "name": "#%%\n"
    }
   },
   "outputs": [],
   "source": [
    "df_products"
   ]
  },
  {
   "cell_type": "code",
   "execution_count": null,
   "metadata": {
    "pycharm": {
     "name": "#%%\n"
    }
   },
   "outputs": [],
   "source": []
  }
 ],
 "metadata": {
  "interpreter": {
   "hash": "c3503f95e0e8f4afdf6702396a7a2a29cae9f67572acfe092405dcaa2579b817"
  },
  "kernelspec": {
   "display_name": "Python 3.10.4 64-bit",
   "language": "python",
   "name": "python3"
  },
  "language_info": {
   "codemirror_mode": {
    "name": "ipython",
    "version": 3
   },
   "file_extension": ".py",
   "mimetype": "text/x-python",
   "name": "python",
   "nbconvert_exporter": "python",
   "pygments_lexer": "ipython3",
   "version": "3.10.4"
  },
  "orig_nbformat": 4
 },
 "nbformat": 4,
 "nbformat_minor": 2
}