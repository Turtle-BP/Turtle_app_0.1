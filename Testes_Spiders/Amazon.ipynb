{
 "cells": [
  {
   "cell_type": "code",
   "execution_count": 1,
   "metadata": {
    "pycharm": {
     "name": "#%%\n"
    }
   },
   "outputs": [],
   "source": [
    "#Importando as bibliotecas\n",
    "import pandas as pd\n",
    "import time\n",
    "from selenium import webdriver\n",
    "from selenium.webdriver.chrome.options import Options\n",
    "from selenium.webdriver.common.by import By\n",
    "from requests_html import HTML\n",
    "from bs4 import BeautifulSoup\n",
    "from selenium.webdriver.chrome.webdriver import WebDriver\n",
    "from selenium.common.exceptions import WebDriverException\n",
    "from tqdm import tqdm\n",
    "import sqlite3\n",
    "import datetime\n",
    "import os"
   ]
  },
  {
   "cell_type": "code",
   "execution_count": 2,
   "metadata": {
    "pycharm": {
     "name": "#%%\n"
    }
   },
   "outputs": [],
   "source": [
    "#Congiruando o driver\n",
    "options = Options()\n",
    "options.add_argument(\"--headless\")\n",
    "options.add_argument('--disable-gpu')\n",
    "options.add_argument(\"--log-level=3\")\n",
    "options.add_argument('--no-sandbox')\n",
    "options.add_experimental_option('useAutomationExtension', False)\n",
    "options.add_experimental_option('excludeSwitches', ['enable-logging'])"
   ]
  },
  {
   "cell_type": "code",
   "execution_count": 3,
   "metadata": {
    "pycharm": {
     "name": "#%%\n"
    }
   },
   "outputs": [],
   "source": [
    "#Criando listas\n",
    "Urls_amazon = []\n",
    "\n",
    "Urls_amazon_more = []\n",
    "\n",
    "Products_Links = []\n",
    "\n",
    "Amazon_price = []\n",
    "Amazon_price_2 = []\n",
    "\n",
    "Amazon_seller = []\n",
    "Amazon_seller_2 = []\n",
    "\n",
    "Amazon_title = []\n",
    "Amazon_title_2 = []\n",
    "\n",
    "Amazon_installment_price_full = []\n",
    "Amazon_installment_price_full_2 = []\n",
    "\n",
    "Amazon_seller_more = []\n",
    "Amazon_price_more = []\n",
    "Amazon_title_more = []\n",
    "internacional_list = []\n",
    "more_offers_list = []"
   ]
  },
  {
   "cell_type": "code",
   "execution_count": 4,
   "metadata": {
    "pycharm": {
     "name": "#%%\n"
    }
   },
   "outputs": [
    {
     "name": "stderr",
     "output_type": "stream",
     "text": [
      "C:\\Users\\pedro\\AppData\\Local\\Temp\\ipykernel_7544\\3380238038.py:1: DeprecationWarning: executable_path has been deprecated, please pass in a Service object\n",
      "  driver = webdriver.Chrome(r\"C:\\Users\\pedro\\Documents\\Turte Brand Protection\\Turtle_Thinker_Alpha_0.1\\Data\\Selenium\\Selenium_101\", options=options)\n"
     ]
    }
   ],
   "source": [
    "driver = webdriver.Chrome(r\"C:\\Users\\pedro\\Documents\\Turte Brand Protection\\Turtle_Thinker_Alpha_0.1\\Data\\Selenium\\Selenium_101\", options=options)"
   ]
  },
  {
   "cell_type": "code",
   "execution_count": 5,
   "metadata": {
    "pycharm": {
     "name": "#%%\n"
    }
   },
   "outputs": [],
   "source": [
    "#Função para criar os links de busca\n",
    "def getting_n_creating_amazon(brand):\n",
    "\n",
    "    Database_path = r\"C:\\Users\\pedro\\Documents\\Turte Brand Protection\\Turtle_Thinker_Alpha_0.1\" + \"\\Data\\\\\" + brand + \"\\\\\" + brand + \".db\"\n",
    "\n",
    "    table = brand + \"_products\"\n",
    "\n",
    "    #Criando a Query\n",
    "    query = \"SELECT * FROM \" + table\n",
    "\n",
    "    #Entrando dentro do databse\n",
    "    connection = sqlite3.connect(Database_path)\n",
    "\n",
    "    #Criando o dataset em brando\n",
    "    df = pd.read_sql_query(query, connection)\n",
    "\n",
    "    #Passando todo o Dataframe para LowerCase\n",
    "    df = df.apply(lambda x: x.astype(str).str.lower())\n",
    "\n",
    "    #Arrumando espaços vazios\n",
    "    # Arrumano os espaços vazios\n",
    "    df['Product_Name'] = df['Product_Name'].str.replace(\" \", \"+\")\n",
    "\n",
    "    # Criando uma nova coluna no database com a formatação certa\n",
    "    df['Urls'] = df['Brand'] + \"+\" + df['Product_Name']\n",
    "\n",
    "    # Criando a nova coluna que são as urls de pesquisa\n",
    "    df['Urls_search'] = \"https://www.amazon.com.br/s?k=\" + df['Urls']\n",
    "\n",
    "    return df"
   ]
  },
  {
   "cell_type": "code",
   "execution_count": 6,
   "metadata": {
    "pycharm": {
     "name": "#%%\n"
    }
   },
   "outputs": [
    {
     "data": {
      "text/plain": "   Brand Product_Name Product_Description           Urls  \\\n0  gopro       hero+8       câmera hero 8   gopro+hero+8   \n1  gopro       hero+9       câmera hero 9   gopro+hero+9   \n2  gopro      hero+10      câmera hero 10  gopro+hero+10   \n3  gopro      max+360      câmera max 360  gopro+max+360   \n\n                                   Urls_search  \n0   https://www.amazon.com.br/s?k=gopro+hero+8  \n1   https://www.amazon.com.br/s?k=gopro+hero+9  \n2  https://www.amazon.com.br/s?k=gopro+hero+10  \n3  https://www.amazon.com.br/s?k=gopro+max+360  ",
      "text/html": "<div>\n<style scoped>\n    .dataframe tbody tr th:only-of-type {\n        vertical-align: middle;\n    }\n\n    .dataframe tbody tr th {\n        vertical-align: top;\n    }\n\n    .dataframe thead th {\n        text-align: right;\n    }\n</style>\n<table border=\"1\" class=\"dataframe\">\n  <thead>\n    <tr style=\"text-align: right;\">\n      <th></th>\n      <th>Brand</th>\n      <th>Product_Name</th>\n      <th>Product_Description</th>\n      <th>Urls</th>\n      <th>Urls_search</th>\n    </tr>\n  </thead>\n  <tbody>\n    <tr>\n      <th>0</th>\n      <td>gopro</td>\n      <td>hero+8</td>\n      <td>câmera hero 8</td>\n      <td>gopro+hero+8</td>\n      <td>https://www.amazon.com.br/s?k=gopro+hero+8</td>\n    </tr>\n    <tr>\n      <th>1</th>\n      <td>gopro</td>\n      <td>hero+9</td>\n      <td>câmera hero 9</td>\n      <td>gopro+hero+9</td>\n      <td>https://www.amazon.com.br/s?k=gopro+hero+9</td>\n    </tr>\n    <tr>\n      <th>2</th>\n      <td>gopro</td>\n      <td>hero+10</td>\n      <td>câmera hero 10</td>\n      <td>gopro+hero+10</td>\n      <td>https://www.amazon.com.br/s?k=gopro+hero+10</td>\n    </tr>\n    <tr>\n      <th>3</th>\n      <td>gopro</td>\n      <td>max+360</td>\n      <td>câmera max 360</td>\n      <td>gopro+max+360</td>\n      <td>https://www.amazon.com.br/s?k=gopro+max+360</td>\n    </tr>\n  </tbody>\n</table>\n</div>"
     },
     "execution_count": 6,
     "metadata": {},
     "output_type": "execute_result"
    }
   ],
   "source": [
    "Df_Products_raw = getting_n_creating_amazon(\"GoPro\")\n",
    "Df_Products_raw"
   ]
  },
  {
   "cell_type": "code",
   "execution_count": 7,
   "metadata": {
    "pycharm": {
     "name": "#%%\n"
    }
   },
   "outputs": [],
   "source": [
    "#Função pegando Links\n",
    "def search_links(url):\n",
    "    global Urls_amazon\n",
    "\n",
    "    time.sleep(3)\n",
    "\n",
    "    driver.get(url)\n",
    "    body_el = driver.find_element(By.CSS_SELECTOR, 'body')\n",
    "    html_str = body_el.get_attribute('innerHTML')\n",
    "    html_obj = HTML(html=html_str)\n",
    "\n",
    "    Links = [x for x in html_obj.links]\n",
    "    products_links = [f'https://www.amazon.com.br{x}' for x in Links]\n",
    "\n",
    "    Soup = BeautifulSoup(html_str,'html.parser')\n",
    "\n",
    "    for link in products_links:\n",
    "        Urls_amazon.append(link)\n",
    "\n",
    "    Urls_amazon = [s for s in Urls_amazon if '/dp/' in s]\n",
    "    Urls_amazon = [s for s in Urls_amazon if not '#customerReviews' in s]"
   ]
  },
  {
   "cell_type": "code",
   "execution_count": 8,
   "metadata": {
    "pycharm": {
     "name": "#%%\n"
    }
   },
   "outputs": [
    {
     "name": "stderr",
     "output_type": "stream",
     "text": [
      "100%|██████████| 4/4 [00:21<00:00,  5.36s/it]\n"
     ]
    }
   ],
   "source": [
    "for url in tqdm(Df_Products_raw['Urls_search']):\n",
    "    search_links(url)"
   ]
  },
  {
   "cell_type": "code",
   "execution_count": 9,
   "metadata": {
    "pycharm": {
     "name": "#%%\n"
    }
   },
   "outputs": [],
   "source": [
    "#Limpando as urls\n",
    "def clean_link(urls, brand):\n",
    "    #Criando a conexão com a tabela de exclusão \n",
    "    Database_exclusion = r\"C:\\Users\\pedro\\Documents\\Turte Brand Protection\\Turtle_Thinker_Alpha_0.1\" + \"\\Data\\\\\" + brand + \"\\\\\" + brand + \".db\"\n",
    "\n",
    "    table = brand + \"_exclusao\"\n",
    "\n",
    "    #Criando a Query\n",
    "    query = \"SELECT * FROM \" + table\n",
    "\n",
    "    connection = sqlite3.connect(Database_exclusion)\n",
    "\n",
    "    #Criando o dataset em brando\n",
    "    df_itens = pd.read_sql_query(query, connection)\n",
    "\n",
    "    clean_urls = pd.DataFrame()\n",
    "\n",
    "    clean_urls['Urls_Completas'] = urls\n",
    "    clean_urls['Urls_limpas'] = clean_urls['Urls_Completas'].str.partition(\"ref\")[0]\n",
    "\n",
    "    Urls_limpas = clean_urls['Urls_limpas'].tolist()\n",
    "\n",
    "    for word in df_itens['Words']:\n",
    "         Urls_limpas = [s for s in Urls_limpas if not word in s]\n",
    "\n",
    "    clean_urls = pd.DataFrame()\n",
    "\n",
    "    clean_urls['Urls_finais'] = Urls_limpas\n",
    "\n",
    "    clean_urls['ASIN'] = clean_urls['Urls_finais'].str.partition(\"/dp/\")[2].str.partition(\"/\")[0]\n",
    "\n",
    "    clean_urls.drop_duplicates(subset='ASIN',inplace=True)\n",
    "    clean_urls.reset_index(inplace=True, drop=True)\n",
    "    return clean_urls"
   ]
  },
  {
   "cell_type": "code",
   "execution_count": 10,
   "metadata": {
    "pycharm": {
     "name": "#%%\n"
    }
   },
   "outputs": [
    {
     "data": {
      "text/plain": "194"
     },
     "execution_count": 10,
     "metadata": {},
     "output_type": "execute_result"
    }
   ],
   "source": [
    "len(Urls_amazon)"
   ]
  },
  {
   "cell_type": "code",
   "execution_count": 31,
   "metadata": {
    "pycharm": {
     "name": "#%%\n"
    }
   },
   "outputs": [
    {
     "data": {
      "text/plain": [
       "['https://www.amazon.com.br/Eletronica-Digital-C%C3%A2mera-Multikids-Baby/dp/B076LD2CMK/ref=sr_1_20?keywords=motorola+mbp481&qid=1652903439&sr=8-20&ufe=app_do%3Aamzn1.fos.25548f35-0de7-44b3-b28e-0f56f3f96147',\n",
       " 'https://www.amazon.com.br/Carregador-Parede-20W-Sa%C3%ADda-MC-207/dp/B09C6NYKCG/ref=sr_1_46?keywords=motorola+mbp481&qid=1652903439&sr=8-46&ufe=app_do%3Aamzn1.fos.6a09f7ec-d911-4889-ad70-de8dd83c8a74',\n",
       " 'https://www.amazon.com.br/Celular-Motorola-Moto-E7-Met%C3%A1lico/dp/B08WJP1QJ7/ref=sr_1_45?keywords=motorola+mbp481&qid=1652903439&sr=8-45',\n",
       " 'https://www.amazon.com.br/Dados-Micro-USB-Lifeproof-MO-SKN6461AIBI-Preto/dp/B07B41GCHY/ref=sr_1_41?keywords=motorola+mbp481&qid=1652903439&sr=8-41',\n",
       " 'https://www.amazon.com.br/Smartphone-Motorola-Moto-64GB-Ros%C3%AA/dp/B09LMRZV2W/ref=sr_1_39?keywords=motorola+mbp481&qid=1652903439&sr=8-39&ufe=app_do%3Aamzn1.fos.25548f35-0de7-44b3-b28e-0f56f3f96147',\n",
       " 'https://www.amazon.com.br/Carregador-Parede-Motorola-100-240V-SC-47/dp/B08D3W1ZVT/ref=sr_1_36?keywords=motorola+mbp481&qid=1652903439&sr=8-36&ufe=app_do%3Aamzn1.fos.6d798eae-cadf-45de-946a-f477d47705b9',\n",
       " 'https://www.amazon.com.br/Ouvido-Motorola-Pulse-120-Microfone/dp/B085SP992B/ref=sr_1_44?keywords=motorola+mbp481&qid=1652903439&sr=8-44&ufe=app_do%3Aamzn1.fos.6121c6c4-c969-43ae-92f7-cc248fc6181d',\n",
       " 'https://www.amazon.com.br/Eletr%C3%B4nica-Digital-BB300-Multikids-Baby/dp/B07574YDHT/ref=sr_1_8?keywords=motorola+mbp481&qid=1652903439&sr=8-8&ufe=app_do%3Aamzn1.fos.25548f35-0de7-44b3-b28e-0f56f3f96147',\n",
       " 'https://www.amazon.com.br/Dados-USB-C-Inbulk-Lifeproof-MO-SKN6473AIBI/dp/B07F7P9TQT/ref=sr_1_43?keywords=motorola+mbp481&qid=1652903439&sr=8-43',\n",
       " 'https://www.amazon.com.br/Motorola-Moto-E7-Power-Metalico/dp/B08XY44FRF/ref=sr_1_34?keywords=motorola+mbp481&qid=1652903439&sr=8-34&ufe=app_do%3Aamzn1.fos.25548f35-0de7-44b3-b28e-0f56f3f96147',\n",
       " 'https://www.amazon.com.br/Motorola-Baba-Eletronica-Ease34-Branco/dp/B08FVXB74T/ref=sr_1_11?keywords=motorola+mbp481&qid=1652903439&sr=8-11&ufe=app_do%3Aamzn1.fos.25548f35-0de7-44b3-b28e-0f56f3f96147',\n",
       " 'https://www.amazon.com.br/C%C3%A2mera-3-2-Polegadas-V%C3%ADdeo-Sem/dp/B081131PJQ/ref=sr_1_12?keywords=motorola+mbp481&qid=1652903439&sr=8-12&ufe=app_do%3Aamzn1.fos.25548f35-0de7-44b3-b28e-0f56f3f96147',\n",
       " 'https://www.amazon.com.br/Smartphone-Motorola-Moto-64GB-Grafite/dp/B09L2KL8R1/ref=sr_1_47?keywords=motorola+mbp481&qid=1652903439&sr=8-47',\n",
       " 'https://www.amazon.com.br/Eletr%C3%B4nica-Digital-Video-Noturna-Term%C3%B4metro/dp/B07HNPNC36/ref=sr_1_19?keywords=motorola+mbp481&qid=1652903439&sr=8-19&ufe=app_do%3Aamzn1.fos.25548f35-0de7-44b3-b28e-0f56f3f96147',\n",
       " 'https://www.amazon.com.br/Eletr%C3%B4nica-Motorola-Mbp-855-Connect-Noturna/dp/B01N807E5P/ref=sr_1_10?keywords=motorola+mbp481&qid=1652903439&sr=8-10&ufe=app_do%3Aamzn1.fos.25548f35-0de7-44b3-b28e-0f56f3f96147',\n",
       " 'https://www.amazon.com.br/Smartphone-Motorola-Moto-128GB-Azul/dp/B09Q98FT34/ref=sr_1_32?keywords=motorola+mbp481&qid=1652903439&sr=8-32&ufe=app_do%3Aamzn1.fos.25548f35-0de7-44b3-b28e-0f56f3f96147',\n",
       " 'https://www.amazon.com.br/Motorola-MBP-36S-SC-Eletr%C3%B4nica/dp/B00NSF730O/ref=sr_1_6?keywords=motorola+mbp481&qid=1652903439&sr=8-6&ufe=app_do%3Aamzn1.fos.25548f35-0de7-44b3-b28e-0f56f3f96147',\n",
       " 'https://www.amazon.com.br/Bab%C3%A1-Eletr%C3%B4nica-MBP668Connect-Vis%C3%A3o-Noturna/dp/B078KHB3YW/ref=sr_1_24?keywords=motorola+mbp481&qid=1652903439&sr=8-24&ufe=app_do%3Aamzn1.fos.25548f35-0de7-44b3-b28e-0f56f3f96147',\n",
       " 'https://www.amazon.com.br/Eletr%C3%B4nica-Motorola-Mbp36xl-Alcance-Noturna/dp/B01IRIVFRS/ref=sr_1_3?keywords=motorola+mbp481&qid=1652903439&sr=8-3&ufe=app_do%3Aamzn1.fos.25548f35-0de7-44b3-b28e-0f56f3f96147',\n",
       " 'https://www.amazon.com.br/Estereo-Motorola-embalagem-econ%C3%B4mica-5590/dp/B084JKMD16/ref=sr_1_33?keywords=motorola+mbp481&qid=1652903439&sr=8-33',\n",
       " 'https://www.amazon.com.br/Smartphone-Motorola-Moto-128GB-Azul/dp/B09KP11Z6V/ref=sr_1_22?keywords=motorola+mbp481&qid=1652903439&sr=8-22&ufe=app_do%3Aamzn1.fos.25548f35-0de7-44b3-b28e-0f56f3f96147',\n",
       " 'https://www.amazon.com.br/Smartphone-Motorola-Moto-128GB-Champagne/dp/B098KLF2SN/ref=sr_1_29?keywords=motorola+mbp481&qid=1652903439&sr=8-29&ufe=app_do%3Aamzn1.fos.25548f35-0de7-44b3-b28e-0f56f3f96147',\n",
       " 'https://www.amazon.com.br/Smartphone-Motorola-Moto-64GB-Grafite/dp/B09KYJ1HC3/ref=sr_1_27?keywords=motorola+mbp481&qid=1652903439&sr=8-27&ufe=app_do%3Aamzn1.fos.25548f35-0de7-44b3-b28e-0f56f3f96147',\n",
       " 'https://www.amazon.com.br/Dados-Motorola-Original-Usb-C-Metro/dp/B0968P1CFC/ref=sr_1_38?keywords=motorola+mbp481&qid=1652903439&sr=8-38&ufe=app_do%3Aamzn1.fos.6d798eae-cadf-45de-946a-f477d47705b9',\n",
       " 'https://www.amazon.com.br/Eletr%C3%B4nica-Motorola-Video-Colorido-MBP481/dp/B07M9ZDJ7J/ref=sr_1_1?keywords=motorola+mbp481&qid=1652903439&sr=8-1&ufe=app_do%3Aamzn1.fos.25548f35-0de7-44b3-b28e-0f56f3f96147',\n",
       " 'https://www.amazon.com.br/Estereo-Intra-Auricular-Microfone-Motorola-Sh006/dp/B06XX3Z8KS/ref=sr_1_48?keywords=motorola+mbp481&qid=1652903439&sr=8-48',\n",
       " 'https://www.amazon.com.br/Smartphone-Motorola-Moto-32GB-Cinza/dp/B09LDDHFZL/ref=sr_1_31?keywords=motorola+mbp481&qid=1652903439&sr=8-31&ufe=app_do%3Aamzn1.fos.25548f35-0de7-44b3-b28e-0f56f3f96147',\n",
       " 'https://www.amazon.com.br/Dados-USB-C-Lifeproof-MO-SKN6473AI-Preto/dp/B07B9CSKNR/ref=sr_1_40?keywords=motorola+mbp481&qid=1652903439&sr=8-40',\n",
       " 'https://www.amazon.com.br/Multilaser-Eletronica-Camera-Bivolt-Multikids/dp/B09FFVQC7W/ref=sr_1_14?keywords=motorola+mbp481&qid=1652903439&sr=8-14&ufe=app_do%3Aamzn1.fos.25548f35-0de7-44b3-b28e-0f56f3f96147',\n",
       " 'https://www.amazon.com.br/C%C3%A2mera-Seguran%C3%A7a-637JBU-Cart%C3%A3o-BRINDE/dp/B096Y551MK/ref=sr_1_17?keywords=motorola+mbp481&qid=1652903439&sr=8-17',\n",
       " 'https://www.amazon.com.br/Motorola-Moto-E7-Power-Vermelho/dp/B08XY4SN9W/ref=sr_1_42?keywords=motorola+mbp481&qid=1652903439&sr=8-42',\n",
       " 'https://www.amazon.com.br/Smartphone-Motorola-Moto-32GB-Cinza/dp/B09K9NC943/ref=sr_1_18?keywords=motorola+mbp481&qid=1652903439&sr=8-18&ufe=app_do%3Aamzn1.fos.25548f35-0de7-44b3-b28e-0f56f3f96147',\n",
       " 'https://www.amazon.com.br/atualizado-infravermelha-autom%C3%A1tica-temperatura-bidirecional/dp/B097NDPXBH/ref=sr_1_15?keywords=motorola+mbp481&qid=1652903439&sr=8-15&ufe=app_do%3Aamzn1.fos.25548f35-0de7-44b3-b28e-0f56f3f96147',\n",
       " 'https://www.amazon.com.br/Bab%C3%A1-Eletr%C3%B4nica-Motorola-MBP482-Branca/dp/B07BBTDDNF/ref=sr_1_4?keywords=motorola+mbp481&qid=1652903439&sr=8-4&ufe=app_do%3Aamzn1.fos.25548f35-0de7-44b3-b28e-0f56f3f96147',\n",
       " 'https://www.amazon.com.br/Smartphone-Motorola-Edge-256GB-12GB/dp/B09RCJW6YD/ref=sr_1_35?keywords=motorola+mbp481&qid=1652903439&sr=8-35&ufe=app_do%3Aamzn1.fos.25548f35-0de7-44b3-b28e-0f56f3f96147',\n",
       " 'https://www.amazon.com.br/Smartphone-Motorola-Moto-128GB-Preto/dp/B09V8B8CY7/ref=sr_1_5?keywords=motorola+mbp481&qid=1652903439&sr=8-5&ufe=app_do%3Aamzn1.fos.25548f35-0de7-44b3-b28e-0f56f3f96147',\n",
       " 'https://www.amazon.com.br/Smartphone-Motorola-Moto-128GB-Azul/dp/B09MSTWKS8/ref=sr_1_23?keywords=motorola+mbp481&qid=1652903439&sr=8-23&ufe=app_do%3Aamzn1.fos.25548f35-0de7-44b3-b28e-0f56f3f96147',\n",
       " 'https://www.amazon.com.br/Eletronica-Digital-MBP667A-Connect-Motorola/dp/B0731J6K8M/ref=sr_1_7?keywords=motorola+mbp481&qid=1652903439&sr=8-7&ufe=app_do%3Aamzn1.fos.25548f35-0de7-44b3-b28e-0f56f3f96147',\n",
       " 'https://www.amazon.com.br/C%C3%A2mera-Monitoramento-Tapo-C200-TP-Link/dp/B07XLML2YS/ref=sr_1_13?keywords=motorola+mbp481&qid=1652903439&sr=8-13&ufe=app_do%3Aamzn1.fos.4bddec23-2dcf-4403-8597-e1a02442043d',\n",
       " 'https://www.amazon.com.br/Smartphone-Motorola-Moto-32GB-Pink/dp/B08YRNW7S7/ref=sr_1_26?keywords=motorola+mbp481&qid=1652903439&sr=8-26&ufe=app_do%3Aamzn1.fos.25548f35-0de7-44b3-b28e-0f56f3f96147',\n",
       " 'https://www.amazon.com.br/Smartphone-Motorola-Moto-128GB-Verde/dp/B09N9YLMT2/ref=sr_1_37?keywords=motorola+mbp481&qid=1652903439&sr=8-37&ufe=app_do%3Aamzn1.fos.25548f35-0de7-44b3-b28e-0f56f3f96147',\n",
       " 'https://www.amazon.com.br/Bab%C3%A1-Eletr%C3%B4nica-Motorola-MBP30A-Branca/dp/B08QFCNPXJ/ref=sr_1_2?keywords=motorola+mbp481&qid=1652903439&sr=8-2&ufe=app_do%3Aamzn1.fos.25548f35-0de7-44b3-b28e-0f56f3f96147',\n",
       " 'https://www.amazon.com.br/Smartphone-Motorola-Moto-128GB-Verde/dp/B09GGFDRYB/ref=sr_1_30?keywords=motorola+mbp481&qid=1652903439&sr=8-30&ufe=app_do%3Aamzn1.fos.25548f35-0de7-44b3-b28e-0f56f3f96147',\n",
       " 'https://www.amazon.com.br/eletr%C3%B4nica-term%C3%B4metro-baby-monitor-VB605/dp/B088GQ387H/ref=sr_1_21?keywords=motorola+mbp481&qid=1652903439&sr=8-21&ufe=app_do%3Aamzn1.fos.25548f35-0de7-44b3-b28e-0f56f3f96147',\n",
       " 'https://www.amazon.com.br/Smartphone-Motorola-Moto-128GB-Verde/dp/B09XC5W681/ref=sr_1_28?keywords=motorola+mbp481&qid=1652903439&sr=8-28&ufe=app_do%3Aamzn1.fos.25548f35-0de7-44b3-b28e-0f56f3f96147',\n",
       " 'https://www.amazon.com.br/Eletr%C3%B4nica-Motorola-Video-Colorido-MBP481/dp/B07M9ZDJ7J/ref=ice_ac_b_dpb?keywords=motorola+mbp481&qid=1652903439&sr=8-1&ufe=app_do%3Aamzn1.fos.25548f35-0de7-44b3-b28e-0f56f3f96147',\n",
       " 'https://www.amazon.com.br/Smartphone-Motorola-Moto-128GB-Azul/dp/B09V86PRFB/ref=sr_1_9?keywords=motorola+mbp481&qid=1652903439&sr=8-9&ufe=app_do%3Aamzn1.fos.25548f35-0de7-44b3-b28e-0f56f3f96147',\n",
       " 'https://www.amazon.com.br/Eletronica-Motorola-MBP-855-Connect-Colorida/dp/B084QZ7JPF/ref=sr_1_16?keywords=motorola+mbp481&qid=1652903439&sr=8-16',\n",
       " 'https://www.amazon.com.br/Smartphone-Motorola-Moto-128GB-Grafite/dp/B09MSTCP4V/ref=sr_1_25?keywords=motorola+mbp481&qid=1652903439&sr=8-25&ufe=app_do%3Aamzn1.fos.25548f35-0de7-44b3-b28e-0f56f3f96147',\n",
       " 'https://www.amazon.com.br/Bab%C3%A1-Eletr%C3%B4nica-Motorola-MBP30A-Branca/dp/B08QFCNPXJ/ref=sr_1_1?keywords=motorola+mbp30a&qid=1652903444&sr=8-1&ufe=app_do%3Aamzn1.fos.25548f35-0de7-44b3-b28e-0f56f3f96147',\n",
       " 'https://www.amazon.com.br/Smartphone-Motorola-Moto-128GB-Azul/dp/B09MSTWKS8/ref=sr_1_8?keywords=motorola+mbp30a&qid=1652903444&sr=8-8&ufe=app_do%3Aamzn1.fos.25548f35-0de7-44b3-b28e-0f56f3f96147',\n",
       " 'https://www.amazon.com.br/Smartphone-Motorola-Moto-32GB-Pink/dp/B08YRNW7S7/ref=sr_1_13?keywords=motorola+mbp30a&qid=1652903444&sr=8-13&ufe=app_do%3Aamzn1.fos.25548f35-0de7-44b3-b28e-0f56f3f96147',\n",
       " 'https://www.amazon.com.br/Smartphone-Motorola-Moto-32GB-Cinza/dp/B09K9NC943/ref=sr_1_9?keywords=motorola+mbp30a&qid=1652903444&sr=8-9&ufe=app_do%3Aamzn1.fos.25548f35-0de7-44b3-b28e-0f56f3f96147',\n",
       " 'https://www.amazon.com.br/Eletr%C3%B4nica-Motorola-Mbp-855-Connect-Noturna/dp/B01N807E5P/ref=sr_1_15?keywords=motorola+mbp30a&qid=1652903444&sr=8-15&ufe=app_do%3Aamzn1.fos.25548f35-0de7-44b3-b28e-0f56f3f96147',\n",
       " 'https://www.amazon.com.br/Carregador-Parede-Sa%C3%ADda-USB-C-MC-307/dp/B08PDPZGFZ/ref=sr_1_40?keywords=motorola+mbp30a&qid=1652903444&sr=8-40&ufe=app_do%3Aamzn1.fos.db68964d-7c0e-4bb2-a95c-e5cb9e32eb12',\n",
       " 'https://www.amazon.com.br/Smartphone-Motorola-Moto-64GB-Ros%C3%AA/dp/B09LMRZV2W/ref=sr_1_31?keywords=motorola+mbp30a&qid=1652903444&sr=8-31&ufe=app_do%3Aamzn1.fos.25548f35-0de7-44b3-b28e-0f56f3f96147',\n",
       " 'https://www.amazon.com.br/Carregador-Parede-Motorola-100-240V-Micro/dp/B08D4RCW82/ref=sr_1_46?keywords=motorola+mbp30a&qid=1652903444&sr=8-46&ufe=app_do%3Aamzn1.fos.6121c6c4-c969-43ae-92f7-cc248fc6181d',\n",
       " 'https://www.amazon.com.br/Estereo-Intra-Auricular-Microfone-Motorola-Sh006/dp/B06XX3Z8KS/ref=sr_1_37?keywords=motorola+mbp30a&qid=1652903444&sr=8-37',\n",
       " 'https://www.amazon.com.br/Carregador-Parede-Motorola-100-240V-Tipo-C/dp/B081W1SV17/ref=sr_1_44?keywords=motorola+mbp30a&qid=1652903444&sr=8-44&ufe=app_do%3Aamzn1.fos.6a09f7ec-d911-4889-ad70-de8dd83c8a74',\n",
       " 'https://www.amazon.com.br/Smartphone-Motorola-Moto-128GB-Preto/dp/B09V8B8CY7/ref=sr_1_2?keywords=motorola+mbp30a&qid=1652903444&sr=8-2&ufe=app_do%3Aamzn1.fos.25548f35-0de7-44b3-b28e-0f56f3f96147',\n",
       " 'https://www.amazon.com.br/Carregador-Parede-Motorola-100-240V-SC-47/dp/B08D3W1ZVT/ref=sr_1_23?keywords=motorola+mbp30a&qid=1652903444&sr=8-23&ufe=app_do%3Aamzn1.fos.6d798eae-cadf-45de-946a-f477d47705b9',\n",
       " 'https://www.amazon.com.br/Smartphone-Motorola-Edge-256GB-12GB/dp/B09RCJW6YD/ref=sr_1_24?keywords=motorola+mbp30a&qid=1652903444&sr=8-24&ufe=app_do%3Aamzn1.fos.25548f35-0de7-44b3-b28e-0f56f3f96147',\n",
       " 'https://www.amazon.com.br/Carregador-Parede-20W-Sa%C3%ADda-MC-207/dp/B09C6NYKCG/ref=sr_1_34?keywords=motorola+mbp30a&qid=1652903444&sr=8-34&ufe=app_do%3Aamzn1.fos.6a09f7ec-d911-4889-ad70-de8dd83c8a74',\n",
       " 'https://www.amazon.com.br/Celular-Motorola-Pac%C3%ADfico-C%C3%A2mera-Tripla/dp/B08S7FN27Y/ref=sr_1_48?keywords=motorola+mbp30a&qid=1652903444&sr=8-48&ufe=app_do%3Aamzn1.fos.25548f35-0de7-44b3-b28e-0f56f3f96147',\n",
       " 'https://www.amazon.com.br/Smartphone-Motorola-Moto-128GB-Verde/dp/B09GGFDRYB/ref=sr_1_17?keywords=motorola+mbp30a&qid=1652903444&sr=8-17&ufe=app_do%3Aamzn1.fos.25548f35-0de7-44b3-b28e-0f56f3f96147',\n",
       " 'https://www.amazon.com.br/Smartphone-Motorola-Moto-128GB-Azul/dp/B09KP11Z6V/ref=sr_1_7?keywords=motorola+mbp30a&qid=1652903444&sr=8-7&ufe=app_do%3Aamzn1.fos.25548f35-0de7-44b3-b28e-0f56f3f96147',\n",
       " 'https://www.amazon.com.br/Smartphone-Motorola-Moto-128GB-Grafite/dp/B09MSTCP4V/ref=sr_1_10?keywords=motorola+mbp30a&qid=1652903444&sr=8-10&ufe=app_do%3Aamzn1.fos.25548f35-0de7-44b3-b28e-0f56f3f96147',\n",
       " 'https://www.amazon.com.br/Estereo-Motorola-embalagem-econ%C3%B4mica-5590/dp/B084JKMD16/ref=sr_1_20?keywords=motorola+mbp30a&qid=1652903444&sr=8-20',\n",
       " 'https://www.amazon.com.br/Dados-Micro-USB-Lifeproof-MO-SKN6461AIBI-Preto/dp/B07B41GCHY/ref=sr_1_27?keywords=motorola+mbp30a&qid=1652903444&sr=8-27',\n",
       " 'https://www.amazon.com.br/Dados-USB-C-Lifeproof-MO-SKN6473AI-Preto/dp/B07B9CSKNR/ref=sr_1_25?keywords=motorola+mbp30a&qid=1652903444&sr=8-25',\n",
       " 'https://www.amazon.com.br/Dados-USB-C-Inbulk-Lifeproof-MO-SKN6473AIBI/dp/B07F7P9TQT/ref=sr_1_32?keywords=motorola+mbp30a&qid=1652903444&sr=8-32',\n",
       " 'https://www.amazon.com.br/Smartphone-Motorola-Moto-128GB-Champagne/dp/B098KLF2SN/ref=sr_1_4?keywords=motorola+mbp30a&qid=1652903444&sr=8-4&ufe=app_do%3Aamzn1.fos.25548f35-0de7-44b3-b28e-0f56f3f96147',\n",
       " 'https://www.amazon.com.br/Eletr%C3%B4nica-Motorola-Video-Colorido-MBP481/dp/B07M9ZDJ7J/ref=sr_1_16?keywords=motorola+mbp30a&qid=1652903444&sr=8-16&ufe=app_do%3Aamzn1.fos.25548f35-0de7-44b3-b28e-0f56f3f96147',\n",
       " 'https://www.amazon.com.br/Motorola-Bab%C3%A1-Eletr%C3%B4nica-AM24/dp/B09KMDWDZP/ref=sr_1_6?keywords=motorola+mbp30a&qid=1652903444&sr=8-6&ufe=app_do%3Aamzn1.fos.25548f35-0de7-44b3-b28e-0f56f3f96147',\n",
       " 'https://www.amazon.com.br/Motorola-Moto-E7-Power-Metalico/dp/B08XY44FRF/ref=sr_1_21?keywords=motorola+mbp30a&qid=1652903444&sr=8-21&ufe=app_do%3Aamzn1.fos.25548f35-0de7-44b3-b28e-0f56f3f96147',\n",
       " 'https://www.amazon.com.br/Carregador-Parede-Motorola-Turbo-100-240V/dp/B081W1YCSG/ref=sr_1_41?keywords=motorola+mbp30a&qid=1652903444&sr=8-41&ufe=app_do%3Aamzn1.fos.6121c6c4-c969-43ae-92f7-cc248fc6181d',\n",
       " 'https://www.amazon.com.br/Smartphone-Motorola-Moto-128GB-Verde/dp/B09XC5W681/ref=sr_1_18?keywords=motorola+mbp30a&qid=1652903444&sr=8-18&ufe=app_do%3Aamzn1.fos.25548f35-0de7-44b3-b28e-0f56f3f96147',\n",
       " 'https://www.amazon.com.br/Celular-Motorola-Preto-128gb-Camera/dp/B09151QFWJ/ref=sr_1_36?keywords=motorola+mbp30a&qid=1652903444&sr=8-36&ufe=app_do%3Aamzn1.fos.25548f35-0de7-44b3-b28e-0f56f3f96147',\n",
       " 'https://www.amazon.com.br/Dados-Motorola-Original-Usb-C-Metro/dp/B0968P1CFC/ref=sr_1_30?keywords=motorola+mbp30a&qid=1652903444&sr=8-30&ufe=app_do%3Aamzn1.fos.6d798eae-cadf-45de-946a-f477d47705b9',\n",
       " 'https://www.amazon.com.br/Smartphone-Motorola-Moto-G60-128GB/dp/B094NY6S8T/ref=sr_1_39?keywords=motorola+mbp30a&qid=1652903444&sr=8-39&ufe=app_do%3Aamzn1.fos.25548f35-0de7-44b3-b28e-0f56f3f96147',\n",
       " 'https://www.amazon.com.br/Motorola-MBP-36S-SC-Eletr%C3%B4nica/dp/B00NSF730O/ref=sr_1_12?keywords=motorola+mbp30a&qid=1652903444&sr=8-12&ufe=app_do%3Aamzn1.fos.25548f35-0de7-44b3-b28e-0f56f3f96147',\n",
       " 'https://www.amazon.com.br/C%C3%A2mera-3-2-Polegadas-V%C3%ADdeo-Sem/dp/B081131PJQ/ref=sr_1_14?keywords=motorola+mbp30a&qid=1652903444&sr=8-14&ufe=app_do%3Aamzn1.fos.25548f35-0de7-44b3-b28e-0f56f3f96147',\n",
       " 'https://www.amazon.com.br/Smartphone-Motorola-Moto-64GB-Grafite/dp/B09KYJ1HC3/ref=sr_1_11?keywords=motorola+mbp30a&qid=1652903444&sr=8-11&ufe=app_do%3Aamzn1.fos.25548f35-0de7-44b3-b28e-0f56f3f96147',\n",
       " 'https://www.amazon.com.br/Celular-Xiaomi-Redmi-64GB-Dual/dp/B08B3QSVM6/ref=sr_1_45?keywords=motorola+mbp30a&qid=1652903444&sr=8-45&ufe=app_do%3Aamzn1.fos.25548f35-0de7-44b3-b28e-0f56f3f96147',\n",
       " 'https://www.amazon.com.br/Smartphone-Motorola-Moto-128GB-Azul/dp/B09Q98FT34/ref=sr_1_22?keywords=motorola+mbp30a&qid=1652903444&sr=8-22&ufe=app_do%3Aamzn1.fos.25548f35-0de7-44b3-b28e-0f56f3f96147',\n",
       " 'https://www.amazon.com.br/Celular-Motorola-Moto-E7-Met%C3%A1lico/dp/B08WJP1QJ7/ref=sr_1_28?keywords=motorola+mbp30a&qid=1652903444&sr=8-28',\n",
       " 'https://www.amazon.com.br/Smartphone-Motorola-Moto-32GB-Cinza/dp/B09LDDHFZL/ref=sr_1_19?keywords=motorola+mbp30a&qid=1652903444&sr=8-19&ufe=app_do%3Aamzn1.fos.25548f35-0de7-44b3-b28e-0f56f3f96147',\n",
       " 'https://www.amazon.com.br/Ouvido-Preto-XT2083-Autorizada-Motorola/dp/B09FLPW119/ref=sr_1_43?keywords=motorola+mbp30a&qid=1652903444&sr=8-43&ufe=app_do%3Aamzn1.fos.6d798eae-cadf-45de-946a-f477d47705b9',\n",
       " 'https://www.amazon.com.br/Smartphone-Motorola-Moto-128GB-Verde/dp/B09N9YLMT2/ref=sr_1_29?keywords=motorola+mbp30a&qid=1652903444&sr=8-29&ufe=app_do%3Aamzn1.fos.25548f35-0de7-44b3-b28e-0f56f3f96147',\n",
       " 'https://www.amazon.com.br/Eletr%C3%B4nica-Motorola-Mbp36xl-Alcance-Noturna/dp/B01IRIVFRS/ref=sr_1_3?keywords=motorola+mbp30a&qid=1652903444&sr=8-3&ufe=app_do%3Aamzn1.fos.25548f35-0de7-44b3-b28e-0f56f3f96147',\n",
       " 'https://www.amazon.com.br/Smartphone-Motorola-Moto-128GB-Azul/dp/B09V86PRFB/ref=sr_1_5?keywords=motorola+mbp30a&qid=1652903444&sr=8-5&ufe=app_do%3Aamzn1.fos.25548f35-0de7-44b3-b28e-0f56f3f96147',\n",
       " 'https://www.amazon.com.br/Eletronica-Motorola-MBP-855-Connect-Colorida/dp/B084QZ7JPF/ref=sr_1_38?keywords=motorola+mbp30a&qid=1652903444&sr=8-38',\n",
       " 'https://www.amazon.com.br/Smartphone-Motorola-Edge-128GB-Branco/dp/B09HVYYJMT/ref=sr_1_47?keywords=motorola+mbp30a&qid=1652903444&sr=8-47',\n",
       " 'https://www.amazon.com.br/Ouvido-Motorola-Pulse-120-Microfone/dp/B085SP992B/ref=sr_1_33?keywords=motorola+mbp30a&qid=1652903444&sr=8-33&ufe=app_do%3Aamzn1.fos.6121c6c4-c969-43ae-92f7-cc248fc6181d',\n",
       " 'https://www.amazon.com.br/Motorola-Bluetooth-confort%C3%A1veis-qualidade-m%C3%BAltiplos/dp/B081RHCD42/ref=sr_1_42?keywords=motorola+mbp30a&qid=1652903444&sr=8-42&ufe=app_do%3Aamzn1.fos.4bddec23-2dcf-4403-8597-e1a02442043d',\n",
       " 'https://www.amazon.com.br/Motorola-Moto-E7-Power-Vermelho/dp/B08XY4SN9W/ref=sr_1_26?keywords=motorola+mbp30a&qid=1652903444&sr=8-26',\n",
       " 'https://www.amazon.com.br/Smartphone-Motorola-Moto-64GB-Grafite/dp/B09L2KL8R1/ref=sr_1_35?keywords=motorola+mbp30a&qid=1652903444&sr=8-35',\n",
       " 'https://www.amazon.com.br/Motorola-MBP-36S-SC-Eletr%C3%B4nica/dp/B00NSF730O/ref=sr_1_3?keywords=motorola+mbp36sc&qid=1652903449&sr=8-3&ufe=app_do%3Aamzn1.fos.25548f35-0de7-44b3-b28e-0f56f3f96147',\n",
       " 'https://www.amazon.com.br/Eletronica-Motorola-MBP-855-Connect-Colorida/dp/B084QZ7JPF/ref=sr_1_16?keywords=motorola+mbp36sc&qid=1652903449&sr=8-16',\n",
       " 'https://www.amazon.com.br/C%C3%A2mera-Vigil%C3%A2ncia-Motorola-Wi-Fi-FOCUS68-W/dp/B07858DWQZ/ref=sr_1_13?keywords=motorola+mbp36sc&qid=1652903449&sr=8-13&ufe=app_do%3Aamzn1.fos.25548f35-0de7-44b3-b28e-0f56f3f96147',\n",
       " 'https://www.amazon.com.br/Motorola-Baba-Eletronica-Ease34-Branco/dp/B08FVXB74T/ref=sr_1_15?keywords=motorola+mbp36sc&qid=1652903449&sr=8-15&ufe=app_do%3Aamzn1.fos.25548f35-0de7-44b3-b28e-0f56f3f96147',\n",
       " 'https://www.amazon.com.br/Motorola-Video-Baby-Monitor-VM36XLTOUCH/dp/B09D115MXH/ref=sr_1_26?keywords=motorola+mbp36sc&qid=1652903449&sr=8-26',\n",
       " 'https://www.amazon.com.br/Eletr%C3%B4nica-Motorola-Mbp36xl-Alcance-Noturna/dp/B01IRIVFRS/ref=sr_1_4?keywords=motorola+mbp36sc&qid=1652903449&sr=8-4&ufe=app_do%3Aamzn1.fos.25548f35-0de7-44b3-b28e-0f56f3f96147',\n",
       " 'https://www.amazon.com.br/C%C3%A2mera-Vigil%C3%A2ncia-Motorola-Bullet-MTIBM052701/dp/B08BBXD7H7/ref=sr_1_10?keywords=motorola+mbp36sc&qid=1652903449&sr=8-10&ufe=app_do%3Aamzn1.fos.25548f35-0de7-44b3-b28e-0f56f3f96147',\n",
       " 'https://www.amazon.com.br/Bab%C3%A1-Eletr%C3%B4nica-Motorola-MBP30A-Branca/dp/B08QFCNPXJ/ref=sr_1_1?keywords=motorola+mbp36sc&qid=1652903449&sr=8-1&ufe=app_do%3Aamzn1.fos.25548f35-0de7-44b3-b28e-0f56f3f96147',\n",
       " 'https://www.amazon.com.br/Bab%C3%A1-Eletr%C3%B4nica-MBP668Connect-Vis%C3%A3o-Noturna/dp/B078KHB3YW/ref=sr_1_6?keywords=motorola+mbp36sc&qid=1652903449&sr=8-6&ufe=app_do%3Aamzn1.fos.25548f35-0de7-44b3-b28e-0f56f3f96147',\n",
       " 'https://www.amazon.com.br/Motorola-Baby-Monitor-VM855-bidirecional/dp/B09BP6TMMF/ref=sr_1_11?keywords=motorola+mbp36sc&qid=1652903449&sr=8-11',\n",
       " 'https://www.amazon.com.br/Eletronica-Digital-MBP667A-Connect-Motorola/dp/B0731J6K8M/ref=sr_1_9?keywords=motorola+mbp36sc&qid=1652903449&sr=8-9&ufe=app_do%3Aamzn1.fos.25548f35-0de7-44b3-b28e-0f56f3f96147',\n",
       " 'https://www.amazon.com.br/C%C3%A2mera-Vigil%C3%A2ncia-Motorola-Anal%C3%B3gica-MTABM022601/dp/B08BJG5X6Q/ref=sr_1_14?keywords=motorola+mbp36sc&qid=1652903449&sr=8-14',\n",
       " 'https://www.amazon.com.br/C%C3%A2mera-Motorola-FOCUS72-Noturna-Digital/dp/B073YBQTL5/ref=sr_1_24?keywords=motorola+mbp36sc&qid=1652903449&sr=8-24',\n",
       " 'https://www.amazon.com.br/C%C3%A2mera-3-2-Polegadas-V%C3%ADdeo-Sem/dp/B081131PJQ/ref=sr_1_5?keywords=motorola+mbp36sc&qid=1652903449&sr=8-5&ufe=app_do%3Aamzn1.fos.25548f35-0de7-44b3-b28e-0f56f3f96147',\n",
       " 'https://www.amazon.com.br/Motorola-Baby-Monitor-VM855-bidirecional/dp/B09D1Q395Z/ref=sr_1_18?keywords=motorola+mbp36sc&qid=1652903449&sr=8-18',\n",
       " 'https://www.amazon.com.br/Motorola-Bab%C3%A1-Eletr%C3%B4nica-AM24/dp/B09KMDWDZP/ref=sr_1_2?keywords=motorola+mbp36sc&qid=1652903449&sr=8-2&ufe=app_do%3Aamzn1.fos.25548f35-0de7-44b3-b28e-0f56f3f96147',\n",
       " 'https://www.amazon.com.br/Camera-Motorola-Bullet-5MP-2-8-12mm/dp/B08PW29XNN/ref=sr_1_20?keywords=motorola+mbp36sc&qid=1652903449&sr=8-20&ufe=app_do%3Aamzn1.fos.25548f35-0de7-44b3-b28e-0f56f3f96147',\n",
       " 'https://www.amazon.com.br/C%C3%A2mera-Vigil%C3%A2ncia-Motorola-Anal%C3%B3gica-MTADM042611/dp/B08BJFFW32/ref=sr_1_28?keywords=motorola+mbp36sc&qid=1652903449&sr=8-28&ufe=app_do%3Aamzn1.fos.4bddec23-2dcf-4403-8597-e1a02442043d',\n",
       " 'https://www.amazon.com.br/Motorola-Bab%C3%A1-Eletr%C3%B4nica-LUX65/dp/B09ZF8Q7SV/ref=sr_1_23?keywords=motorola+mbp36sc&qid=1652903449&sr=8-23&ufe=app_do%3Aamzn1.fos.25548f35-0de7-44b3-b28e-0f56f3f96147',\n",
       " 'https://www.amazon.com.br/C%C3%A2mera-Vigil%C3%A2ncia-Motorola-Metal-MTIDM032801/dp/B08BFJNRZX/ref=sr_1_21?keywords=motorola+mbp36sc&qid=1652903449&sr=8-21&ufe=app_do%3Aamzn1.fos.25548f35-0de7-44b3-b28e-0f56f3f96147',\n",
       " 'https://www.amazon.com.br/Eletr%C3%B4nica-Motorola-Video-Colorido-MBP481/dp/B07M9ZDJ7J/ref=sr_1_7?keywords=motorola+mbp36sc&qid=1652903449&sr=8-7&ufe=app_do%3Aamzn1.fos.25548f35-0de7-44b3-b28e-0f56f3f96147',\n",
       " 'https://www.amazon.com.br/Camera-Motorola-Speed-6Ana-MTIPM152641/dp/B08PW28V39/ref=sr_1_19?keywords=motorola+mbp36sc&qid=1652903449&sr=8-19&ufe=app_do%3Aamzn1.fos.25548f35-0de7-44b3-b28e-0f56f3f96147',\n",
       " 'https://www.amazon.com.br/Eletr%C3%B4nica-Motorola-Mbp-855-Connect-Noturna/dp/B01N807E5P/ref=sr_1_8?keywords=motorola+mbp36sc&qid=1652903449&sr=8-8&ufe=app_do%3Aamzn1.fos.25548f35-0de7-44b3-b28e-0f56f3f96147',\n",
       " 'https://www.amazon.com.br/Monitor-beb%C3%AA-Motorola-PIP1510-Connect/dp/B09Q83W826/ref=sr_1_22?keywords=motorola+mbp36sc&qid=1652903449&sr=8-22',\n",
       " 'https://www.amazon.com.br/Motorola-Infravermelho-Seguran%C3%A7a-Noturna-Resistente/dp/B082L2M6CW/ref=sr_1_17?keywords=motorola+mbp36sc&qid=1652903449&sr=8-17&ufe=app_do%3Aamzn1.fos.fcd6d665-32ba-4479-9f21-b774e276a678',\n",
       " 'https://www.amazon.com.br/C%C3%A2mera-Vigil%C3%A2ncia-Motorola-Wi-Fi-MDY2000/dp/B08BF3RHPL/ref=sr_1_29?keywords=motorola+mbp36sc&qid=1652903449&sr=8-29',\n",
       " 'https://www.amazon.com.br/Camera-Motorola-Bullet-4MP-3-6mm/dp/B092R9P4MJ/ref=sr_1_27?keywords=motorola+mbp36sc&qid=1652903449&sr=8-27',\n",
       " 'https://www.amazon.com.br/dp/B08MQL92QM/?_encoding=UTF8&ref_=nav_swm_dvm_crs_swm_br_ko_swm_ft&pf_rd_p=8d141a76-3560-43d9-bfb0-4b6b42510a1b&pf_rd_s=nav-sitewide-msg&pf_rd_t=4201&pf_rd_i=navbar-4201&pf_rd_m=A2Q3Y263D00KWC&pf_rd_r=F8W0W0MT2THRAKFZBYNG',\n",
       " 'https://www.amazon.com.br/Motorola-Video-Baby-Monitor-VM85CONNECT/dp/B09D1HCDD4/ref=sr_1_25?keywords=motorola+mbp36sc&qid=1652903449&sr=8-25',\n",
       " 'https://www.amazon.com.br/Bab%C3%A1-Eletr%C3%B4nica-Motorola-MBP482-Branca/dp/B07BBTDDNF/ref=sr_1_12?keywords=motorola+mbp36sc&qid=1652903449&sr=8-12&ufe=app_do%3Aamzn1.fos.25548f35-0de7-44b3-b28e-0f56f3f96147',\n",
       " 'https://www.amazon.com.br/Eletr%C3%B4nica-Motorola-Mbp36xl-Alcance-Noturna/dp/B01IRIVFRS/ref=sr_1_1?keywords=motorola+mbp36xl&qid=1652903453&sr=8-1&ufe=app_do%3Aamzn1.fos.25548f35-0de7-44b3-b28e-0f56f3f96147',\n",
       " 'https://www.amazon.com.br/Celular-Motorola-Preto-128gb-Camera/dp/B09151QFWJ/ref=sr_1_45?keywords=motorola+mbp36xl&qid=1652903453&sr=8-45&ufe=app_do%3Aamzn1.fos.25548f35-0de7-44b3-b28e-0f56f3f96147',\n",
       " 'https://www.amazon.com.br/Suporte-baba-eletr%C3%B4nica-Motorola-36BU/dp/B08153P2M9/ref=sr_1_15?keywords=motorola+mbp36xl&qid=1652903453&sr=8-15',\n",
       " 'https://www.amazon.com.br/Dados-Motorola-Original-Usb-C-Metro/dp/B0968P1CFC/ref=sr_1_33?keywords=motorola+mbp36xl&qid=1652903453&sr=8-33&ufe=app_do%3Aamzn1.fos.6d798eae-cadf-45de-946a-f477d47705b9',\n",
       " 'https://www.amazon.com.br/Bab%C3%A1-Eletr%C3%B4nica-Motorola-MBP482-Branca/dp/B07BBTDDNF/ref=sr_1_7?keywords=motorola+mbp36xl&qid=1652903453&sr=8-7&ufe=app_do%3Aamzn1.fos.25548f35-0de7-44b3-b28e-0f56f3f96147',\n",
       " 'https://www.amazon.com.br/Motorola-Bluetooth-confort%C3%A1veis-qualidade-m%C3%BAltiplos/dp/B081RHCD42/ref=sr_1_48?keywords=motorola+mbp36xl&qid=1652903453&sr=8-48&ufe=app_do%3Aamzn1.fos.4bddec23-2dcf-4403-8597-e1a02442043d',\n",
       " 'https://www.amazon.com.br/Smartphone-Motorola-Moto-128GB-Azul/dp/B09Q98FT34/ref=sr_1_27?keywords=motorola+mbp36xl&qid=1652903453&sr=8-27&ufe=app_do%3Aamzn1.fos.25548f35-0de7-44b3-b28e-0f56f3f96147',\n",
       " 'https://www.amazon.com.br/Carregador-Parede-Motorola-100-240V-SC-47/dp/B08D3W1ZVT/ref=sr_1_31?keywords=motorola+mbp36xl&qid=1652903453&sr=8-31&ufe=app_do%3Aamzn1.fos.6d798eae-cadf-45de-946a-f477d47705b9',\n",
       " 'https://www.amazon.com.br/Smartphone-Motorola-Moto-128GB-Verde/dp/B09XC5W681/ref=sr_1_23?keywords=motorola+mbp36xl&qid=1652903453&sr=8-23&ufe=app_do%3Aamzn1.fos.25548f35-0de7-44b3-b28e-0f56f3f96147',\n",
       " 'https://www.amazon.com.br/Smartphone-Motorola-Moto-64GB-Ros%C3%AA/dp/B09LMRZV2W/ref=sr_1_34?keywords=motorola+mbp36xl&qid=1652903453&sr=8-34&ufe=app_do%3Aamzn1.fos.25548f35-0de7-44b3-b28e-0f56f3f96147',\n",
       " 'https://www.amazon.com.br/Ouvido-Preto-XT2083-Autorizada-Motorola/dp/B09FLPW119/ref=sr_1_43?keywords=motorola+mbp36xl&qid=1652903453&sr=8-43&ufe=app_do%3Aamzn1.fos.6d798eae-cadf-45de-946a-f477d47705b9',\n",
       " 'https://www.amazon.com.br/Motorola-MBP-36S-SC-Eletr%C3%B4nica/dp/B00NSF730O/ref=sr_1_3?keywords=motorola+mbp36xl&qid=1652903453&sr=8-3&ufe=app_do%3Aamzn1.fos.25548f35-0de7-44b3-b28e-0f56f3f96147',\n",
       " 'https://www.amazon.com.br/Smartphone-Motorola-Moto-32GB-Cinza/dp/B09LDDHFZL/ref=sr_1_26?keywords=motorola+mbp36xl&qid=1652903453&sr=8-26&ufe=app_do%3Aamzn1.fos.25548f35-0de7-44b3-b28e-0f56f3f96147',\n",
       " 'https://www.amazon.com.br/Smartphone-Motorola-Edge-256GB-12GB/dp/B09RCJW6YD/ref=sr_1_30?keywords=motorola+mbp36xl&qid=1652903453&sr=8-30&ufe=app_do%3Aamzn1.fos.25548f35-0de7-44b3-b28e-0f56f3f96147',\n",
       " 'https://www.amazon.com.br/Bab%C3%A1-Eletr%C3%B4nica-Motorola-MBP30A-Branca/dp/B08QFCNPXJ/ref=sr_1_2?keywords=motorola+mbp36xl&qid=1652903453&sr=8-2&ufe=app_do%3Aamzn1.fos.25548f35-0de7-44b3-b28e-0f56f3f96147',\n",
       " 'https://www.amazon.com.br/Smartphone-Motorola-Moto-64GB-Grafite/dp/B09KYJ1HC3/ref=sr_1_21?keywords=motorola+mbp36xl&qid=1652903453&sr=8-21&ufe=app_do%3Aamzn1.fos.25548f35-0de7-44b3-b28e-0f56f3f96147',\n",
       " 'https://www.amazon.com.br/Carregador-Parede-Sa%C3%ADda-USB-C-MC-307/dp/B08PDPZGFZ/ref=sr_1_46?keywords=motorola+mbp36xl&qid=1652903453&sr=8-46&ufe=app_do%3Aamzn1.fos.db68964d-7c0e-4bb2-a95c-e5cb9e32eb12',\n",
       " 'https://www.amazon.com.br/Dados-USB-C-Inbulk-Lifeproof-MO-SKN6473AIBI/dp/B07F7P9TQT/ref=sr_1_38?keywords=motorola+mbp36xl&qid=1652903453&sr=8-38',\n",
       " 'https://www.amazon.com.br/Eletronica-Motorola-MBP-855-Connect-Colorida/dp/B084QZ7JPF/ref=sr_1_13?keywords=motorola+mbp36xl&qid=1652903453&sr=8-13',\n",
       " 'https://www.amazon.com.br/Eletr%C3%B4nica-Motorola-Mbp-855-Connect-Noturna/dp/B01N807E5P/ref=sr_1_4?keywords=motorola+mbp36xl&qid=1652903453&sr=8-4&ufe=app_do%3Aamzn1.fos.25548f35-0de7-44b3-b28e-0f56f3f96147',\n",
       " 'https://www.amazon.com.br/Motorola-Baba-Eletronica-Ease34-Branco/dp/B08FVXB74T/ref=sr_1_10?keywords=motorola+mbp36xl&qid=1652903453&sr=8-10&ufe=app_do%3Aamzn1.fos.25548f35-0de7-44b3-b28e-0f56f3f96147',\n",
       " 'https://www.amazon.com.br/Smartphone-Motorola-Moto-128GB-Verde/dp/B09GGFDRYB/ref=sr_1_25?keywords=motorola+mbp36xl&qid=1652903453&sr=8-25&ufe=app_do%3Aamzn1.fos.25548f35-0de7-44b3-b28e-0f56f3f96147',\n",
       " 'https://www.amazon.com.br/Eletr%C3%B4nica-Digital-BB300-Multikids-Baby/dp/B07574YDHT/ref=sr_1_6?keywords=motorola+mbp36xl&qid=1652903453&sr=8-6&ufe=app_do%3Aamzn1.fos.25548f35-0de7-44b3-b28e-0f56f3f96147',\n",
       " 'https://www.amazon.com.br/Ouvido-Motorola-Pulse-120-Microfone/dp/B085SP992B/ref=sr_1_39?keywords=motorola+mbp36xl&qid=1652903453&sr=8-39&ufe=app_do%3Aamzn1.fos.6121c6c4-c969-43ae-92f7-cc248fc6181d',\n",
       " 'https://www.amazon.com.br/Smartphone-Motorola-Moto-32GB-Pink/dp/B08YRNW7S7/ref=sr_1_22?keywords=motorola+mbp36xl&qid=1652903453&sr=8-22&ufe=app_do%3Aamzn1.fos.25548f35-0de7-44b3-b28e-0f56f3f96147',\n",
       " 'https://www.amazon.com.br/dp/B08MQL92QM/?_encoding=UTF8&ref_=nav_swm_dvm_crs_swm_br_ko_swm_ft&pf_rd_p=8d141a76-3560-43d9-bfb0-4b6b42510a1b&pf_rd_s=nav-sitewide-msg&pf_rd_t=4201&pf_rd_i=navbar-4201&pf_rd_m=A2Q3Y263D00KWC&pf_rd_r=3X0H418JKSM2X96KA8G1',\n",
       " 'https://www.amazon.com.br/Dados-USB-C-Lifeproof-MO-SKN6473AI-Preto/dp/B07B9CSKNR/ref=sr_1_35?keywords=motorola+mbp36xl&qid=1652903453&sr=8-35',\n",
       " 'https://www.amazon.com.br/Estereo-Intra-Auricular-Microfone-Motorola-Sh006/dp/B06XX3Z8KS/ref=sr_1_16?keywords=motorola+mbp36xl&qid=1652903453&sr=8-16',\n",
       " 'https://www.amazon.com.br/Carregador-Original-Turbo-Power-Anatel/dp/B09NDXRW7Q/ref=sr_1_47?keywords=motorola+mbp36xl&qid=1652903453&sr=8-47&ufe=app_do%3Aamzn1.fos.6a09f7ec-d911-4889-ad70-de8dd83c8a74',\n",
       " 'https://www.amazon.com.br/Smartphone-Motorola-Moto-128GB-Azul/dp/B09MSTWKS8/ref=sr_1_19?keywords=motorola+mbp36xl&qid=1652903453&sr=8-19&ufe=app_do%3Aamzn1.fos.25548f35-0de7-44b3-b28e-0f56f3f96147',\n",
       " 'https://www.amazon.com.br/Smartphone-Motorola-Moto-32GB-Cinza/dp/B09K9NC943/ref=sr_1_14?keywords=motorola+mbp36xl&qid=1652903453&sr=8-14&ufe=app_do%3Aamzn1.fos.25548f35-0de7-44b3-b28e-0f56f3f96147',\n",
       " 'https://www.amazon.com.br/Bab%C3%A1-Eletr%C3%B4nica-MBP668Connect-Vis%C3%A3o-Noturna/dp/B078KHB3YW/ref=sr_1_11?keywords=motorola+mbp36xl&qid=1652903453&sr=8-11&ufe=app_do%3Aamzn1.fos.25548f35-0de7-44b3-b28e-0f56f3f96147',\n",
       " 'https://www.amazon.com.br/Smartphone-Motorola-Moto-64GB-Grafite/dp/B09L2KL8R1/ref=sr_1_42?keywords=motorola+mbp36xl&qid=1652903453&sr=8-42',\n",
       " 'https://www.amazon.com.br/Smartphone-Motorola-Moto-G60-128GB/dp/B094NY6S8T/ref=sr_1_44?keywords=motorola+mbp36xl&qid=1652903453&sr=8-44&ufe=app_do%3Aamzn1.fos.25548f35-0de7-44b3-b28e-0f56f3f96147',\n",
       " 'https://www.amazon.com.br/Smartphone-Motorola-Moto-128GB-Preto/dp/B09V8B8CY7/ref=sr_1_9?keywords=motorola+mbp36xl&qid=1652903453&sr=8-9&ufe=app_do%3Aamzn1.fos.25548f35-0de7-44b3-b28e-0f56f3f96147',\n",
       " 'https://www.amazon.com.br/Motorola-Moto-E7-Power-Metalico/dp/B08XY44FRF/ref=sr_1_29?keywords=motorola+mbp36xl&qid=1652903453&sr=8-29&ufe=app_do%3Aamzn1.fos.25548f35-0de7-44b3-b28e-0f56f3f96147',\n",
       " 'https://www.amazon.com.br/Smartphone-Motorola-Moto-128GB-Azul/dp/B09V86PRFB/ref=sr_1_12?keywords=motorola+mbp36xl&qid=1652903453&sr=8-12&ufe=app_do%3Aamzn1.fos.25548f35-0de7-44b3-b28e-0f56f3f96147',\n",
       " 'https://www.amazon.com.br/Dados-Micro-USB-Lifeproof-MO-SKN6461AIBI-Preto/dp/B07B41GCHY/ref=sr_1_36?keywords=motorola+mbp36xl&qid=1652903453&sr=8-36',\n",
       " 'https://www.amazon.com.br/Smartphone-Motorola-Moto-128GB-Verde/dp/B09N9YLMT2/ref=sr_1_32?keywords=motorola+mbp36xl&qid=1652903453&sr=8-32&ufe=app_do%3Aamzn1.fos.25548f35-0de7-44b3-b28e-0f56f3f96147',\n",
       " 'https://www.amazon.com.br/Eletr%C3%B4nica-Motorola-Video-Colorido-MBP481/dp/B07M9ZDJ7J/ref=sr_1_8?keywords=motorola+mbp36xl&qid=1652903453&sr=8-8&ufe=app_do%3Aamzn1.fos.25548f35-0de7-44b3-b28e-0f56f3f96147',\n",
       " 'https://www.amazon.com.br/Celular-Motorola-Moto-E7-Met%C3%A1lico/dp/B08WJP1QJ7/ref=sr_1_40?keywords=motorola+mbp36xl&qid=1652903453&sr=8-40',\n",
       " 'https://www.amazon.com.br/Carregador-Parede-20W-Sa%C3%ADda-MC-207/dp/B09C6NYKCG/ref=sr_1_41?keywords=motorola+mbp36xl&qid=1652903453&sr=8-41&ufe=app_do%3Aamzn1.fos.6a09f7ec-d911-4889-ad70-de8dd83c8a74',\n",
       " 'https://www.amazon.com.br/Smartphone-Motorola-Moto-128GB-Azul/dp/B09KP11Z6V/ref=sr_1_18?keywords=motorola+mbp36xl&qid=1652903453&sr=8-18&ufe=app_do%3Aamzn1.fos.25548f35-0de7-44b3-b28e-0f56f3f96147',\n",
       " 'https://www.amazon.com.br/Estereo-Motorola-embalagem-econ%C3%B4mica-5590/dp/B084JKMD16/ref=sr_1_28?keywords=motorola+mbp36xl&qid=1652903453&sr=8-28',\n",
       " 'https://www.amazon.com.br/Smartphone-Motorola-Moto-128GB-Champagne/dp/B098KLF2SN/ref=sr_1_24?keywords=motorola+mbp36xl&qid=1652903453&sr=8-24&ufe=app_do%3Aamzn1.fos.25548f35-0de7-44b3-b28e-0f56f3f96147',\n",
       " 'https://www.amazon.com.br/Motorola-Moto-E7-Power-Vermelho/dp/B08XY4SN9W/ref=sr_1_37?keywords=motorola+mbp36xl&qid=1652903453&sr=8-37',\n",
       " 'https://www.amazon.com.br/Eletronica-Digital-MBP667A-Connect-Motorola/dp/B0731J6K8M/ref=sr_1_5?keywords=motorola+mbp36xl&qid=1652903453&sr=8-5&ufe=app_do%3Aamzn1.fos.25548f35-0de7-44b3-b28e-0f56f3f96147',\n",
       " 'https://www.amazon.com.br/C%C3%A2mera-Alta-Resolu%C3%A7%C3%A3o-WIFI-Eletr%C3%B4nica/dp/B0796W64C8/ref=sr_1_17?keywords=motorola+mbp36xl&qid=1652903453&sr=8-17&ufe=app_do%3Aamzn1.fos.6a09f7ec-d911-4889-ad70-de8dd83c8a74',\n",
       " 'https://www.amazon.com.br/Smartphone-Motorola-Moto-128GB-Grafite/dp/B09MSTCP4V/ref=sr_1_20?keywords=motorola+mbp36xl&qid=1652903453&sr=8-20&ufe=app_do%3Aamzn1.fos.25548f35-0de7-44b3-b28e-0f56f3f96147',\n",
       " 'https://www.amazon.com.br/Celular-Motorola-Branco-Floral-Qu%C3%A1drupla/dp/B0914PVKBP/ref=sr_1_3?keywords=motorola+comfort85+connect&qid=1652903458&sr=8-3',\n",
       " 'https://www.amazon.com.br/Eletr%C3%B4nica-Motorola-Mbp-855-Connect-Noturna/dp/B01N807E5P/ref=sr_1_10?keywords=motorola+comfort85+connect&qid=1652903458&sr=8-10&ufe=app_do%3Aamzn1.fos.25548f35-0de7-44b3-b28e-0f56f3f96147',\n",
       " 'https://www.amazon.com.br/Eletronica-Digital-MBP667A-Connect-Motorola/dp/B0731J6K8M/ref=sr_1_11?keywords=motorola+comfort85+connect&qid=1652903458&sr=8-11&ufe=app_do%3Aamzn1.fos.25548f35-0de7-44b3-b28e-0f56f3f96147',\n",
       " 'https://www.amazon.com.br/Motorola-Baba-Eletronica-Ease34-Branco/dp/B08FVXB74T/ref=sr_1_2?keywords=motorola+comfort85+connect&qid=1652903458&sr=8-2&ufe=app_do%3Aamzn1.fos.25548f35-0de7-44b3-b28e-0f56f3f96147',\n",
       " 'https://www.amazon.com.br/Celular-Motorola-Moto-E6s-Marinho/dp/B08F2VLB6K/ref=sr_1_22?keywords=motorola+comfort85+connect&qid=1652903458&sr=8-22',\n",
       " 'https://www.amazon.com.br/Eletr%C3%B4nica-Motorola-Video-Colorido-MBP481/dp/B07M9ZDJ7J/ref=sr_1_12?keywords=motorola+comfort85+connect&qid=1652903458&sr=8-12&ufe=app_do%3Aamzn1.fos.25548f35-0de7-44b3-b28e-0f56f3f96147',\n",
       " 'https://www.amazon.com.br/Smartphone-Motorola-XT2083-Turquesa-C%C3%A2mera/dp/B08KFMJH2Q/ref=sr_1_17?keywords=motorola+comfort85+connect&qid=1652903458&sr=8-17',\n",
       " 'https://www.amazon.com.br/BoxWave-Protetor-Comfort85-2-ClearTouch-embalagem/dp/B08X6G63FW/ref=sr_1_16?keywords=motorola+comfort85+connect&qid=1652903458&sr=8-16',\n",
       " 'https://www.amazon.com.br/Bab%C3%A1-Eletr%C3%B4nica-Motorola-MBP482-Branca/dp/B07BBTDDNF/ref=sr_1_8?keywords=motorola+comfort85+connect&qid=1652903458&sr=8-8&ufe=app_do%3Aamzn1.fos.25548f35-0de7-44b3-b28e-0f56f3f96147',\n",
       " 'https://www.amazon.com.br/Smartphone-Motorola-Android-C%C3%A2mera-Royal/dp/B081J41KYP/ref=sr_1_20?keywords=motorola+comfort85+connect&qid=1652903458&sr=8-20',\n",
       " 'https://www.amazon.com.br/BoxWave-Comfort85-2-ClearTouch-Anti-Glare-anti-impress%C3%A3o/dp/B08X6T84M9/ref=sr_1_15?keywords=motorola+comfort85+connect&qid=1652903458&sr=8-15',\n",
       " 'https://www.amazon.com.br/Smartphone-Motorola-E6S-32GB-Azul/dp/B086M8SBDK/ref=sr_1_21?keywords=motorola+comfort85+connect&qid=1652903458&sr=8-21',\n",
       " 'https://www.amazon.com.br/Smartphone-Moto-G9-Play-Safira/dp/B08NFKJ67B/ref=sr_1_5?keywords=motorola+comfort85+connect&qid=1652903458&sr=8-5',\n",
       " 'https://www.amazon.com.br/Celular-Motorola-Bronze-Ambar-Dupla/dp/B08NY5JV2J/ref=sr_1_18?keywords=motorola+comfort85+connect&qid=1652903458&sr=8-18&ufe=app_do%3Aamzn1.fos.25548f35-0de7-44b3-b28e-0f56f3f96147',\n",
       " 'https://www.amazon.com.br/Eletr%C3%B4nica-Motorola-Mbp36xl-Alcance-Noturna/dp/B01IRIVFRS/ref=sr_1_1?keywords=motorola+comfort85+connect&qid=1652903458&sr=8-1&ufe=app_do%3Aamzn1.fos.25548f35-0de7-44b3-b28e-0f56f3f96147',\n",
       " 'https://www.amazon.com.br/Celular-Motorola-Preto-128gb-Camera/dp/B09151QFWJ/ref=sr_1_9?keywords=motorola+comfort85+connect&qid=1652903458&sr=8-9&ufe=app_do%3Aamzn1.fos.25548f35-0de7-44b3-b28e-0f56f3f96147',\n",
       " 'https://www.amazon.com.br/Celular-Motorola-Cinza-Titanium-C%C3%A2mera/dp/B08DFHWBFX/ref=sr_1_19?keywords=motorola+comfort85+connect&qid=1652903458&sr=8-19&ufe=app_do%3Aamzn1.fos.25548f35-0de7-44b3-b28e-0f56f3f96147',\n",
       " 'https://www.amazon.com.br/Motorola-MBP-36S-SC-Eletr%C3%B4nica/dp/B00NSF730O/ref=sr_1_13?keywords=motorola+comfort85+connect&qid=1652903458&sr=8-13&ufe=app_do%3Aamzn1.fos.25548f35-0de7-44b3-b28e-0f56f3f96147',\n",
       " 'https://www.amazon.com.br/Celular-Motorola-Moto-E7-Met%C3%A1lico/dp/B08WJP1QJ7/ref=sr_1_7?keywords=motorola+comfort85+connect&qid=1652903458&sr=8-7',\n",
       " 'https://www.amazon.com.br/dp/B08MQL92QM/?_encoding=UTF8&ref_=nav_swm_dvm_crs_swm_br_ko_swm_ft&pf_rd_p=8d141a76-3560-43d9-bfb0-4b6b42510a1b&pf_rd_s=nav-sitewide-msg&pf_rd_t=4201&pf_rd_i=navbar-4201&pf_rd_m=A2Q3Y263D00KWC&pf_rd_r=QH75ZPK6JC7NFCMDX0KW',\n",
       " 'https://www.amazon.com.br/Celular-Xiaomi-Redmi-64GB-Dual/dp/B08B3QSVM6/ref=sr_1_14?keywords=motorola+comfort85+connect&qid=1652903458&sr=8-14&ufe=app_do%3Aamzn1.fos.25548f35-0de7-44b3-b28e-0f56f3f96147',\n",
       " 'https://www.amazon.com.br/Celular-Motorola-Pac%C3%ADfico-C%C3%A2mera-Tripla/dp/B08S7FN27Y/ref=sr_1_4?keywords=motorola+comfort85+connect&qid=1652903458&sr=8-4&ufe=app_do%3Aamzn1.fos.25548f35-0de7-44b3-b28e-0f56f3f96147',\n",
       " 'https://www.amazon.com.br/Eletronica-Motorola-MBP-855-Connect-Colorida/dp/B084QZ7JPF/ref=sr_1_6?keywords=motorola+comfort85+connect&qid=1652903458&sr=8-6',\n",
       " 'https://www.amazon.com.br/Motorola-Vervebuds-Bluetooth-Est%C3%A9reo-Resistente/dp/B07M5KH7RH/ref=sr_1_33?keywords=motorola+lux64+connect&qid=1652903462&sr=8-33&ufe=app_do%3Aamzn1.fos.25548f35-0de7-44b3-b28e-0f56f3f96147',\n",
       " 'https://www.amazon.com.br/Smartphone-Motorola-XT2083-Turquesa-C%C3%A2mera/dp/B08KFMJH2Q/ref=sr_1_32?keywords=motorola+lux64+connect&qid=1652903462&sr=8-32',\n",
       " 'https://www.amazon.com.br/Smartphone-Motorola-E6S-32GB-Azul/dp/B086M8SBDK/ref=sr_1_39?keywords=motorola+lux64+connect&qid=1652903462&sr=8-39',\n",
       " 'https://www.amazon.com.br/VerveLoop-Bluetooth-Motorola-Acess%C3%B3rios-Wearables/dp/B078MWP4FB/ref=sr_1_34?keywords=motorola+lux64+connect&qid=1652903462&sr=8-34&ufe=app_do%3Aamzn1.fos.e05b01e0-91a7-477e-a514-15a32325a6d6',\n",
       " 'https://www.amazon.com.br/Eletr%C3%B4nica-Motorola-Mbp36xl-Alcance-Noturna/dp/B01IRIVFRS/ref=sr_1_4?keywords=motorola+lux64+connect&qid=1652903462&sr=8-4&ufe=app_do%3Aamzn1.fos.25548f35-0de7-44b3-b28e-0f56f3f96147',\n",
       " 'https://www.amazon.com.br/Smartphone-Motorola-Android-C%C3%A2mera-Royal/dp/B081J41KYP/ref=sr_1_37?keywords=motorola+lux64+connect&qid=1652903462&sr=8-37',\n",
       " 'https://www.amazon.com.br/Bab%C3%A1-Eletr%C3%B4nica-Motorola-MBP482-Branca/dp/B07BBTDDNF/ref=sr_1_14?keywords=motorola+lux64+connect&qid=1652903462&sr=8-14&ufe=app_do%3Aamzn1.fos.25548f35-0de7-44b3-b28e-0f56f3f96147',\n",
       " 'https://www.amazon.com.br/Smartphone-LG-Qu%C3%A1drupla-Processador-Octa-Core/dp/B088PSBKJ7/ref=sr_1_11?keywords=motorola+lux64+connect&qid=1652903462&sr=8-11&ufe=app_do%3Aamzn1.fos.25548f35-0de7-44b3-b28e-0f56f3f96147',\n",
       " 'https://www.amazon.com.br/Celular-Motorola-Moto-E7-Met%C3%A1lico/dp/B08WJP1QJ7/ref=sr_1_17?keywords=motorola+lux64+connect&qid=1652903462&sr=8-17',\n",
       " 'https://www.amazon.com.br/Celular-Motorola-Preto-128gb-Camera/dp/B09151QFWJ/ref=sr_1_18?keywords=motorola+lux64+connect&qid=1652903462&sr=8-18&ufe=app_do%3Aamzn1.fos.25548f35-0de7-44b3-b28e-0f56f3f96147',\n",
       " 'https://www.amazon.com.br/Motorola-Bluetooth-Microfone-Controles-SH013/dp/B075363QFS/ref=sr_1_26?keywords=motorola+lux64+connect&qid=1652903462&sr=8-26&ufe=app_do%3Aamzn1.fos.e05b01e0-91a7-477e-a514-15a32325a6d6',\n",
       " 'https://www.amazon.com.br/Smartphone-Motorola-Moto-32GB-Cinza/dp/B0927TCTGN/ref=sr_1_20?keywords=motorola+lux64+connect&qid=1652903462&sr=8-20&ufe=app_do%3Aamzn1.fos.25548f35-0de7-44b3-b28e-0f56f3f96147',\n",
       " 'https://www.amazon.com.br/Motorola-Moto-E7-Power-Metalico/dp/B08XY44FRF/ref=sr_1_10?keywords=motorola+lux64+connect&qid=1652903462&sr=8-10&ufe=app_do%3Aamzn1.fos.25548f35-0de7-44b3-b28e-0f56f3f96147',\n",
       " 'https://www.amazon.com.br/Controle-Universal-Infravermelho-intelbras-Compat%C3%ADvel/dp/B078JNF58M/ref=sr_1_15?keywords=motorola+lux64+connect&qid=1652903462&sr=8-15&ufe=app_do%3Aamzn1.fos.6d798eae-cadf-45de-946a-f477d47705b9',\n",
       " 'https://www.amazon.com.br/dados-USB-C-USB-C-1M-motorola-Preto/dp/B07N8TGL69/ref=sr_1_31?keywords=motorola+lux64+connect&qid=1652903462&sr=8-31&ufe=app_do%3Aamzn1.fos.6d798eae-cadf-45de-946a-f477d47705b9',\n",
       " 'https://www.amazon.com.br/Eletr%C3%B4nica-Digital-V%C3%ADdeo-NUK-Branco/dp/B07MLRJVYM/ref=sr_1_3?keywords=motorola+lux64+connect&qid=1652903462&sr=8-3&ufe=app_do%3Aamzn1.fos.25548f35-0de7-44b3-b28e-0f56f3f96147',\n",
       " 'https://www.amazon.com.br/Ouvido-Bluetooth-Motorola-prova-dagua/dp/B09JWVCJLL/ref=sr_1_19?keywords=motorola+lux64+connect&qid=1652903462&sr=8-19&ufe=app_do%3Aamzn1.fos.25548f35-0de7-44b3-b28e-0f56f3f96147',\n",
       " 'https://www.amazon.com.br/Celular-Motorola-Cinza-Titanium-C%C3%A2mera/dp/B08DFHWBFX/ref=sr_1_36?keywords=motorola+lux64+connect&qid=1652903462&sr=8-36&ufe=app_do%3Aamzn1.fos.25548f35-0de7-44b3-b28e-0f56f3f96147',\n",
       " 'https://www.amazon.com.br/Eletronica-Motorola-MBP-855-Connect-Colorida/dp/B084QZ7JPF/ref=sr_1_5?keywords=motorola+lux64+connect&qid=1652903462&sr=8-5',\n",
       " 'https://www.amazon.com.br/Eletr%C3%B4nica-Motorola-Mbp-855-Connect-Noturna/dp/B01N807E5P/ref=sr_1_7?keywords=motorola+lux64+connect&qid=1652903462&sr=8-7&ufe=app_do%3Aamzn1.fos.25548f35-0de7-44b3-b28e-0f56f3f96147',\n",
       " 'https://www.amazon.com.br/Camera-Baba-eletronica-antenas-audio/dp/B07944J2GX/ref=sr_1_12?keywords=motorola+lux64+connect&qid=1652903462&sr=8-12&ufe=app_do%3Aamzn1.fos.6a09f7ec-d911-4889-ad70-de8dd83c8a74',\n",
       " 'https://www.amazon.com.br/Celular-Motorola-Moto-E6s-Marinho/dp/B08F2VLB6K/ref=sr_1_40?keywords=motorola+lux64+connect&qid=1652903462&sr=8-40',\n",
       " 'https://www.amazon.com.br/Eletronica-Digital-MBP667A-Connect-Motorola/dp/B0731J6K8M/ref=sr_1_1?keywords=motorola+lux64+connect&qid=1652903462&sr=8-1&ufe=app_do%3Aamzn1.fos.25548f35-0de7-44b3-b28e-0f56f3f96147',\n",
       " 'https://www.amazon.com.br/Celular-Xiaomi-Redmi-64GB-Dual/dp/B08B3QSVM6/ref=sr_1_16?keywords=motorola+lux64+connect&qid=1652903462&sr=8-16&ufe=app_do%3Aamzn1.fos.25548f35-0de7-44b3-b28e-0f56f3f96147',\n",
       " 'https://www.amazon.com.br/Celular-Motorola-Branco-Floral-Qu%C3%A1drupla/dp/B0914PVKBP/ref=sr_1_30?keywords=motorola+lux64+connect&qid=1652903462&sr=8-30',\n",
       " 'https://www.amazon.com.br/Ouvido-Bluetooth-Motorola-Preto-Laranja/dp/B074KS8DC6/ref=sr_1_22?keywords=motorola+lux64+connect&qid=1652903462&sr=8-22&ufe=app_do%3Aamzn1.fos.db68964d-7c0e-4bb2-a95c-e5cb9e32eb12',\n",
       " 'https://www.amazon.com.br/Eletr%C3%B4nica-Motorola-Video-Colorido-MBP481/dp/B07M9ZDJ7J/ref=sr_1_13?keywords=motorola+lux64+connect&qid=1652903462&sr=8-13&ufe=app_do%3Aamzn1.fos.25548f35-0de7-44b3-b28e-0f56f3f96147',\n",
       " 'https://www.amazon.com.br/Bab%C3%A1-Eletr%C3%B4nica-Motorola-MBP30A-Branca/dp/B08QFCNPXJ/ref=sr_1_2?keywords=motorola+lux64+connect&qid=1652903462&sr=8-2&ufe=app_do%3Aamzn1.fos.25548f35-0de7-44b3-b28e-0f56f3f96147',\n",
       " 'https://www.amazon.com.br/Ouvido-Bluetooth-Motorola-100-prova/dp/B09JWVY3GL/ref=sr_1_23?keywords=motorola+lux64+connect&qid=1652903462&sr=8-23&ufe=app_do%3Aamzn1.fos.4bddec23-2dcf-4403-8597-e1a02442043d',\n",
       " 'https://www.amazon.com.br/Ouvido-Bluetooth-Motorola-Acess%C3%B3rios-Wearables/dp/B074KQR528/ref=sr_1_25?keywords=motorola+lux64+connect&qid=1652903462&sr=8-25&ufe=app_do%3Aamzn1.fos.e05b01e0-91a7-477e-a514-15a32325a6d6',\n",
       " 'https://www.amazon.com.br/Ouvido-motorola-Ververap-100-Bluetooth/dp/B07YY43BLQ/ref=sr_1_28?keywords=motorola+lux64+connect&qid=1652903462&sr=8-28&ufe=app_do%3Aamzn1.fos.6a09f7ec-d911-4889-ad70-de8dd83c8a74',\n",
       " 'https://www.amazon.com.br/Smartphone-Moto-G9-Play-Safira/dp/B08NFKJ67B/ref=sr_1_24?keywords=motorola+lux64+connect&qid=1652903462&sr=8-24',\n",
       " 'https://www.amazon.com.br/Monitor-beb%C3%AA-Motorola-PIP1510-Connect/dp/B09Q83W826/ref=sr_1_27?keywords=motorola+lux64+connect&qid=1652903462&sr=8-27',\n",
       " 'https://www.amazon.com.br/Celular-Motorola-Pac%C3%ADfico-C%C3%A2mera-Tripla/dp/B08S7FN27Y/ref=sr_1_21?keywords=motorola+lux64+connect&qid=1652903462&sr=8-21&ufe=app_do%3Aamzn1.fos.25548f35-0de7-44b3-b28e-0f56f3f96147',\n",
       " 'https://www.amazon.com.br/Motorola-Vervebuds-Bluetooth-Est%C3%A9reo-Resistente/dp/B07K3GWWSM/ref=sr_1_38?keywords=motorola+lux64+connect&qid=1652903462&sr=8-38&ufe=app_do%3Aamzn1.fos.25548f35-0de7-44b3-b28e-0f56f3f96147',\n",
       " 'https://www.amazon.com.br/Motorola-MBP-36S-SC-Eletr%C3%B4nica/dp/B00NSF730O/ref=sr_1_9?keywords=motorola+lux64+connect&qid=1652903462&sr=8-9&ufe=app_do%3Aamzn1.fos.25548f35-0de7-44b3-b28e-0f56f3f96147',\n",
       " 'https://www.amazon.com.br/Celular-Motorola-Bronze-Ambar-Dupla/dp/B08NY5JV2J/ref=sr_1_35?keywords=motorola+lux64+connect&qid=1652903462&sr=8-35&ufe=app_do%3Aamzn1.fos.25548f35-0de7-44b3-b28e-0f56f3f96147',\n",
       " 'https://www.amazon.com.br/C%C3%A2mera-3-2-Polegadas-V%C3%ADdeo-Sem/dp/B088MFFJ1H/ref=sr_1_8?keywords=motorola+lux64+connect&qid=1652903462&sr=8-8&ufe=app_do%3Aamzn1.fos.25548f35-0de7-44b3-b28e-0f56f3f96147',\n",
       " 'https://www.amazon.com.br/Motorola-Bab%C3%A1-Eletr%C3%B4nica-VM64C/dp/B09NCGHLN2/ref=sr_1_6?keywords=motorola+lux64+connect&qid=1652903462&sr=8-6&ufe=app_do%3Aamzn1.fos.25548f35-0de7-44b3-b28e-0f56f3f96147',\n",
       " 'https://www.amazon.com.br/Dados-Carga-Conector-Motorola-6955226408069/dp/B07GNX38CB/ref=sr_1_29?keywords=motorola+lux64+connect&qid=1652903462&sr=8-29&ufe=app_do%3Aamzn1.fos.6d798eae-cadf-45de-946a-f477d47705b9',\n",
       " 'https://www.amazon.com.br/Smartphone-Motorola-Moto-128GB-Champagne/dp/B098KLF2SN/ref=sr_1_4?keywords=motorola+ease34&qid=1652903467&sr=8-4&ufe=app_do%3Aamzn1.fos.25548f35-0de7-44b3-b28e-0f56f3f96147',\n",
       " 'https://www.amazon.com.br/Eletr%C3%B4nica-Motorola-Mbp-855-Connect-Noturna/dp/B01N807E5P/ref=sr_1_16?keywords=motorola+ease34&qid=1652903467&sr=8-16&ufe=app_do%3Aamzn1.fos.25548f35-0de7-44b3-b28e-0f56f3f96147',\n",
       " 'https://www.amazon.com.br/Smartphone-Motorola-Moto-128GB-Azul/dp/B09Q98FT34/ref=sr_1_18?keywords=motorola+ease34&qid=1652903467&sr=8-18&ufe=app_do%3Aamzn1.fos.25548f35-0de7-44b3-b28e-0f56f3f96147',\n",
       " 'https://www.amazon.com.br/Celular-Motorola-Moto-E7-Met%C3%A1lico/dp/B08WJP1QJ7/ref=sr_1_31?keywords=motorola+ease34&qid=1652903467&sr=8-31',\n",
       " 'https://www.amazon.com.br/Eletronica-Motorola-MBP-855-Connect-Colorida/dp/B084QZ7JPF/ref=sr_1_12?keywords=motorola+ease34&qid=1652903467&sr=8-12',\n",
       " 'https://www.amazon.com.br/Smartphone-Motorola-Moto-128GB-Azul/dp/B09V86PRFB/ref=sr_1_3?keywords=motorola+ease34&qid=1652903467&sr=8-3&ufe=app_do%3Aamzn1.fos.25548f35-0de7-44b3-b28e-0f56f3f96147',\n",
       " 'https://www.amazon.com.br/Motorola-Moto-E7-Power-Metalico/dp/B08XY44FRF/ref=sr_1_19?keywords=motorola+ease34&qid=1652903467&sr=8-19&ufe=app_do%3Aamzn1.fos.25548f35-0de7-44b3-b28e-0f56f3f96147',\n",
       " 'https://www.amazon.com.br/Smartphone-Motorola-Edge-128GB-Branco/dp/B09HVYYJMT/ref=sr_1_43?keywords=motorola+ease34&qid=1652903467&sr=8-43',\n",
       " 'https://www.amazon.com.br/Smartphone-Motorola-Edge-256GB-12GB/dp/B09RCJW6YD/ref=sr_1_21?keywords=motorola+ease34&qid=1652903467&sr=8-21&ufe=app_do%3Aamzn1.fos.25548f35-0de7-44b3-b28e-0f56f3f96147',\n",
       " 'https://www.amazon.com.br/Motorola-Baba-Eletronica-Ease34-Branco/dp/B08FVXB74T/ref=sr_1_1?keywords=motorola+ease34&qid=1652903467&sr=8-1&ufe=app_do%3Aamzn1.fos.25548f35-0de7-44b3-b28e-0f56f3f96147',\n",
       " 'https://www.amazon.com.br/Smartphone-Motorola-Moto-64GB-Grafite/dp/B09L2KL8R1/ref=sr_1_32?keywords=motorola+ease34&qid=1652903467&sr=8-32',\n",
       " 'https://www.amazon.com.br/Carregador-Parede-Motorola-100-240V-SC-47/dp/B08D3W1ZVT/ref=sr_1_22?keywords=motorola+ease34&qid=1652903467&sr=8-22&ufe=app_do%3Aamzn1.fos.6d798eae-cadf-45de-946a-f477d47705b9',\n",
       " 'https://www.amazon.com.br/Carregador-Parede-Motorola-Turbo-100-240V/dp/B081W1YCSG/ref=sr_1_44?keywords=motorola+ease34&qid=1652903467&sr=8-44&ufe=app_do%3Aamzn1.fos.6121c6c4-c969-43ae-92f7-cc248fc6181d',\n",
       " 'https://www.amazon.com.br/Dados-Motorola-Original-Usb-C-Metro/dp/B0968P1CFC/ref=sr_1_24?keywords=motorola+ease34&qid=1652903467&sr=8-24&ufe=app_do%3Aamzn1.fos.6d798eae-cadf-45de-946a-f477d47705b9',\n",
       " 'https://www.amazon.com.br/Smartphone-Motorola-Moto-32GB-Cinza/dp/B09LDDHFZL/ref=sr_1_14?keywords=motorola+ease34&qid=1652903467&sr=8-14&ufe=app_do%3Aamzn1.fos.25548f35-0de7-44b3-b28e-0f56f3f96147',\n",
       " 'https://www.amazon.com.br/Carregador-Parede-20W-Sa%C3%ADda-MC-207/dp/B09C6NYKCG/ref=sr_1_33?keywords=motorola+ease34&qid=1652903467&sr=8-33&ufe=app_do%3Aamzn1.fos.6a09f7ec-d911-4889-ad70-de8dd83c8a74',\n",
       " 'https://www.amazon.com.br/Smartphone-Motorola-Moto-128GB-Azul/dp/B09MSTWKS8/ref=sr_1_7?keywords=motorola+ease34&qid=1652903467&sr=8-7&ufe=app_do%3Aamzn1.fos.25548f35-0de7-44b3-b28e-0f56f3f96147',\n",
       " 'https://www.amazon.com.br/Dados-Micro-USB-Lifeproof-MO-SKN6461AIBI-Preto/dp/B07B41GCHY/ref=sr_1_27?keywords=motorola+ease34&qid=1652903467&sr=8-27',\n",
       " 'https://www.amazon.com.br/Dados-Carga-Motorola-Conector-USB-C/dp/B08PKXBC6K/ref=sr_1_47?keywords=motorola+ease34&qid=1652903467&sr=8-47&ufe=app_do%3Aamzn1.fos.6121c6c4-c969-43ae-92f7-cc248fc6181d',\n",
       " 'https://www.amazon.com.br/Smartphone-Motorola-Moto-32GB-Cinza/dp/B09K9NC943/ref=sr_1_9?keywords=motorola+ease34&qid=1652903467&sr=8-9&ufe=app_do%3Aamzn1.fos.25548f35-0de7-44b3-b28e-0f56f3f96147',\n",
       " 'https://www.amazon.com.br/Ouvido-Preto-XT2083-Autorizada-Motorola/dp/B09FLPW119/ref=sr_1_35?keywords=motorola+ease34&qid=1652903467&sr=8-35&ufe=app_do%3Aamzn1.fos.6d798eae-cadf-45de-946a-f477d47705b9',\n",
       " 'https://www.amazon.com.br/Smartphone-Motorola-C%C3%A2mera-Tripla-Selfie/dp/B09WD38PZL/ref=sr_1_45?keywords=motorola+ease34&qid=1652903467&sr=8-45&ufe=app_do%3Aamzn1.fos.25548f35-0de7-44b3-b28e-0f56f3f96147',\n",
       " 'https://www.amazon.com.br/Smartphone-Motorola-Moto-32GB-Pink/dp/B08YRNW7S7/ref=sr_1_13?keywords=motorola+ease34&qid=1652903467&sr=8-13&ufe=app_do%3Aamzn1.fos.25548f35-0de7-44b3-b28e-0f56f3f96147',\n",
       " 'https://www.amazon.com.br/Dados-USB-C-Lifeproof-MO-SKN6473AI-Preto/dp/B07B9CSKNR/ref=sr_1_26?keywords=motorola+ease34&qid=1652903467&sr=8-26',\n",
       " 'https://www.amazon.com.br/Motorola-Moto-E7-Power-Vermelho/dp/B08XY4SN9W/ref=sr_1_28?keywords=motorola+ease34&qid=1652903467&sr=8-28',\n",
       " 'https://www.amazon.com.br/Celular-Motorola-Preto-128gb-Camera/dp/B09151QFWJ/ref=sr_1_38?keywords=motorola+ease34&qid=1652903467&sr=8-38&ufe=app_do%3Aamzn1.fos.25548f35-0de7-44b3-b28e-0f56f3f96147',\n",
       " 'https://www.amazon.com.br/Celular-Xiaomi-Redmi-64GB-Dual/dp/B08B3QSVM6/ref=sr_1_46?keywords=motorola+ease34&qid=1652903467&sr=8-46&ufe=app_do%3Aamzn1.fos.25548f35-0de7-44b3-b28e-0f56f3f96147',\n",
       " 'https://www.amazon.com.br/Eletronica-Digital-MBP667A-Connect-Motorola/dp/B0731J6K8M/ref=sr_1_15?keywords=motorola+ease34&qid=1652903467&sr=8-15&ufe=app_do%3Aamzn1.fos.25548f35-0de7-44b3-b28e-0f56f3f96147',\n",
       " 'https://www.amazon.com.br/Carregador-Original-Turbo-Power-Anatel/dp/B09NDXRW7Q/ref=sr_1_39?keywords=motorola+ease34&qid=1652903467&sr=8-39&ufe=app_do%3Aamzn1.fos.6a09f7ec-d911-4889-ad70-de8dd83c8a74',\n",
       " 'https://www.amazon.com.br/Smartphone-Motorola-Moto-128GB-Grafite/dp/B09MSTCP4V/ref=sr_1_8?keywords=motorola+ease34&qid=1652903467&sr=8-8&ufe=app_do%3Aamzn1.fos.25548f35-0de7-44b3-b28e-0f56f3f96147',\n",
       " 'https://www.amazon.com.br/Smartphone-Motorola-Edge-256GB-Branco/dp/B09GLCQBT1/ref=sr_1_49?keywords=motorola+ease34&qid=1652903467&sr=8-49',\n",
       " 'https://www.amazon.com.br/Smartphone-Motorola-Moto-G60-128GB/dp/B094NY6S8T/ref=sr_1_36?keywords=motorola+ease34&qid=1652903467&sr=8-36&ufe=app_do%3Aamzn1.fos.25548f35-0de7-44b3-b28e-0f56f3f96147',\n",
       " 'https://www.amazon.com.br/Smartphone-Motorola-Moto-128GB-Verde/dp/B09GGFDRYB/ref=sr_1_10?keywords=motorola+ease34&qid=1652903467&sr=8-10&ufe=app_do%3Aamzn1.fos.25548f35-0de7-44b3-b28e-0f56f3f96147',\n",
       " 'https://www.amazon.com.br/Celular-Motorola-Moto-E7-C%C3%A2mera/dp/B08TQ65FRX/ref=sr_1_48?keywords=motorola+ease34&qid=1652903467&sr=8-48',\n",
       " 'https://www.amazon.com.br/Smartphone-Motorola-Moto-128GB-Azul/dp/B09KP11Z6V/ref=sr_1_6?keywords=motorola+ease34&qid=1652903467&sr=8-6&ufe=app_do%3Aamzn1.fos.25548f35-0de7-44b3-b28e-0f56f3f96147',\n",
       " 'https://www.amazon.com.br/Dados-USB-C-Inbulk-Lifeproof-MO-SKN6473AIBI/dp/B07F7P9TQT/ref=sr_1_29?keywords=motorola+ease34&qid=1652903467&sr=8-29',\n",
       " 'https://www.amazon.com.br/Smartphone-Motorola-Moto-64GB-Ros%C3%AA/dp/B09LMRZV2W/ref=sr_1_25?keywords=motorola+ease34&qid=1652903467&sr=8-25&ufe=app_do%3Aamzn1.fos.25548f35-0de7-44b3-b28e-0f56f3f96147',\n",
       " 'https://www.amazon.com.br/Motorola-Bluetooth-confort%C3%A1veis-qualidade-m%C3%BAltiplos/dp/B081RHCD42/ref=sr_1_40?keywords=motorola+ease34&qid=1652903467&sr=8-40&ufe=app_do%3Aamzn1.fos.4bddec23-2dcf-4403-8597-e1a02442043d',\n",
       " 'https://www.amazon.com.br/Smartphone-Motorola-Moto-128GB-Verde/dp/B09N9YLMT2/ref=sr_1_23?keywords=motorola+ease34&qid=1652903467&sr=8-23&ufe=app_do%3Aamzn1.fos.25548f35-0de7-44b3-b28e-0f56f3f96147',\n",
       " 'https://www.amazon.com.br/Smartphone-Motorola-Moto-64GB-Grafite/dp/B09KYJ1HC3/ref=sr_1_11?keywords=motorola+ease34&qid=1652903467&sr=8-11&ufe=app_do%3Aamzn1.fos.25548f35-0de7-44b3-b28e-0f56f3f96147',\n",
       " 'https://www.amazon.com.br/Carregador-Parede-Sa%C3%ADda-USB-C-MC-307/dp/B08PDPZGFZ/ref=sr_1_37?keywords=motorola+ease34&qid=1652903467&sr=8-37&ufe=app_do%3Aamzn1.fos.db68964d-7c0e-4bb2-a95c-e5cb9e32eb12',\n",
       " 'https://www.amazon.com.br/Estereo-Motorola-embalagem-econ%C3%B4mica-5590/dp/B084JKMD16/ref=sr_1_20?keywords=motorola+ease34&qid=1652903467&sr=8-20',\n",
       " 'https://www.amazon.com.br/Estereo-Intra-Auricular-Microfone-Motorola-Sh006/dp/B06XX3Z8KS/ref=sr_1_34?keywords=motorola+ease34&qid=1652903467&sr=8-34',\n",
       " 'https://www.amazon.com.br/Ouvido-Motorola-Pulse-120-Microfone/dp/B085SP992B/ref=sr_1_30?keywords=motorola+ease34&qid=1652903467&sr=8-30&ufe=app_do%3Aamzn1.fos.6121c6c4-c969-43ae-92f7-cc248fc6181d',\n",
       " 'https://www.amazon.com.br/Smartphone-Motorola-Moto-128GB-Preto/dp/B09V8B8CY7/ref=sr_1_2?keywords=motorola+ease34&qid=1652903467&sr=8-2&ufe=app_do%3Aamzn1.fos.25548f35-0de7-44b3-b28e-0f56f3f96147',\n",
       " 'https://www.amazon.com.br/Carregador-Parede-Motorola-100-240V-Micro/dp/B08D4RCW82/ref=sr_1_41?keywords=motorola+ease34&qid=1652903467&sr=8-41&ufe=app_do%3Aamzn1.fos.6121c6c4-c969-43ae-92f7-cc248fc6181d',\n",
       " 'https://www.amazon.com.br/Smartphone-Motorola-Moto-128GB-Verde/dp/B09XC5W681/ref=sr_1_5?keywords=motorola+ease34&qid=1652903467&sr=8-5&ufe=app_do%3Aamzn1.fos.25548f35-0de7-44b3-b28e-0f56f3f96147',\n",
       " 'https://www.amazon.com.br/Carregador-Parede-Motorola-100-240V-Tipo-C/dp/B081W1SV17/ref=sr_1_42?keywords=motorola+ease34&qid=1652903467&sr=8-42&ufe=app_do%3Aamzn1.fos.6a09f7ec-d911-4889-ad70-de8dd83c8a74',\n",
       " 'https://www.amazon.com.br/Bab%C3%A1-Eletr%C3%B4nica-MBP668Connect-Vis%C3%A3o-Noturna/dp/B078KHB3YW/ref=sr_1_9?keywords=motorola+ease44connect&qid=1652903471&sr=8-9&ufe=app_do%3Aamzn1.fos.25548f35-0de7-44b3-b28e-0f56f3f96147',\n",
       " 'https://www.amazon.com.br/Multilaser-Eletronica-Camera-Bivolt-Multikids/dp/B09FFVQC7W/ref=sr_1_11?keywords=motorola+ease44connect&qid=1652903471&sr=8-11&ufe=app_do%3Aamzn1.fos.25548f35-0de7-44b3-b28e-0f56f3f96147',\n",
       " 'https://www.amazon.com.br/eletronica-wireless-portatil-intercomunicador-temperatura/dp/B093RCXGFS/ref=sr_1_20?keywords=motorola+ease44connect&qid=1652903471&sr=8-20&ufe=app_do%3Aamzn1.fos.25548f35-0de7-44b3-b28e-0f56f3f96147',\n",
       " 'https://www.amazon.com.br/Eletr%C3%B4nica-Motorola-Mbp-855-Connect-Noturna/dp/B01N807E5P/ref=sr_1_10?keywords=motorola+ease44connect&qid=1652903471&sr=8-10&ufe=app_do%3Aamzn1.fos.25548f35-0de7-44b3-b28e-0f56f3f96147',\n",
       " 'https://www.amazon.com.br/Motorola-MBP-36S-SC-Eletr%C3%B4nica/dp/B00NSF730O/ref=sr_1_8?keywords=motorola+ease44connect&qid=1652903471&sr=8-8&ufe=app_do%3Aamzn1.fos.25548f35-0de7-44b3-b28e-0f56f3f96147',\n",
       " 'https://www.amazon.com.br/Bab%C3%A1-Eletr%C3%B4nica-Motorola-MBP482-Branca/dp/B07BBTDDNF/ref=sr_1_7?keywords=motorola+ease44connect&qid=1652903471&sr=8-7&ufe=app_do%3Aamzn1.fos.25548f35-0de7-44b3-b28e-0f56f3f96147',\n",
       " 'https://www.amazon.com.br/Eletronica-Motorola-MBP-855-Connect-Colorida/dp/B084QZ7JPF/ref=sr_1_5?keywords=motorola+ease44connect&qid=1652903471&sr=8-5',\n",
       " 'https://www.amazon.com.br/Eletr%C3%B4nica-Monitor-Philips-Avent-Branco/dp/B07B9HZJ6J/ref=sr_1_12?keywords=motorola+ease44connect&qid=1652903471&sr=8-12&ufe=app_do%3Aamzn1.fos.25548f35-0de7-44b3-b28e-0f56f3f96147',\n",
       " 'https://www.amazon.com.br/Eletr%C3%B4nica-C%C3%A2mera-Vis%C3%A3o-Noturna-Antenas/dp/B0979CBWWG/ref=sr_1_19?keywords=motorola+ease44connect&qid=1652903471&sr=8-19&ufe=app_do%3Aamzn1.fos.4bddec23-2dcf-4403-8597-e1a02442043d',\n",
       " 'https://www.amazon.com.br/Eletronica-Digital-MBP667A-Connect-Motorola/dp/B0731J6K8M/ref=sr_1_4?keywords=motorola+ease44connect&qid=1652903471&sr=8-4&ufe=app_do%3Aamzn1.fos.25548f35-0de7-44b3-b28e-0f56f3f96147',\n",
       " 'https://www.amazon.com.br/Eletr%C3%B4nica-Motorola-Mbp36xl-Alcance-Noturna/dp/B01IRIVFRS/ref=sr_1_3?keywords=motorola+ease44connect&qid=1652903471&sr=8-3&ufe=app_do%3Aamzn1.fos.25548f35-0de7-44b3-b28e-0f56f3f96147',\n",
       " 'https://www.amazon.com.br/PtevSoh-Monitor-de-beb%C3%AA/dp/B098DLKW4R/ref=sr_1_15?keywords=motorola+ease44connect&qid=1652903471&sr=8-15&ufe=app_do%3Aamzn1.fos.25548f35-0de7-44b3-b28e-0f56f3f96147',\n",
       " 'https://www.amazon.com.br/Eletr%C3%B4nica-C%C3%A2mera-Monitor-Noturna-Term%C3%B4metro/dp/B07TVFM9H6/ref=sr_1_14?keywords=motorola+ease44connect&qid=1652903471&sr=8-14&ufe=app_do%3Aamzn1.fos.25548f35-0de7-44b3-b28e-0f56f3f96147',\n",
       " 'https://www.amazon.com.br/Bab%C3%A1-Eletr%C3%B4nica-Motorola-MBP30A-Branca/dp/B08QFCNPXJ/ref=sr_1_2?keywords=motorola+ease44connect&qid=1652903471&sr=8-2&ufe=app_do%3Aamzn1.fos.25548f35-0de7-44b3-b28e-0f56f3f96147',\n",
       " 'https://www.amazon.com.br/Eletr%C3%B4nica-Motorola-Video-Colorido-MBP481/dp/B07M9ZDJ7J/ref=sr_1_6?keywords=motorola+ease44connect&qid=1652903471&sr=8-6&ufe=app_do%3Aamzn1.fos.25548f35-0de7-44b3-b28e-0f56f3f96147',\n",
       " 'https://www.amazon.com.br/dp/B08MQL92QM/?_encoding=UTF8&ref_=nav_swm_dvm_crs_swm_br_ko_swm_ft&pf_rd_p=8d141a76-3560-43d9-bfb0-4b6b42510a1b&pf_rd_s=nav-sitewide-msg&pf_rd_t=4201&pf_rd_i=navbar-4201&pf_rd_m=A2Q3Y263D00KWC&pf_rd_r=HKZMK7DT83ENX31HAP4W',\n",
       " 'https://www.amazon.com.br/Eletr%C3%B4nica-Wi-Fi-C%C3%A2mera-Polegadas-Branco/dp/B08KDCPC1Z/ref=sr_1_18?keywords=motorola+ease44connect&qid=1652903471&sr=8-18&ufe=app_do%3Aamzn1.fos.25548f35-0de7-44b3-b28e-0f56f3f96147',\n",
       " 'https://www.amazon.com.br/Motorola-Baba-Eletronica-Ease34-Branco/dp/B08FVXB74T/ref=sr_1_1?keywords=motorola+ease44connect&qid=1652903471&sr=8-1&ufe=app_do%3Aamzn1.fos.25548f35-0de7-44b3-b28e-0f56f3f96147',\n",
       " 'https://www.amazon.com.br/PtevSoh-movimento-infravermelha-bidirecional-temperatura/dp/B09QQQS3PV/ref=sr_1_16?keywords=motorola+ease44connect&qid=1652903471&sr=8-16&ufe=app_do%3Aamzn1.fos.25548f35-0de7-44b3-b28e-0f56f3f96147',\n",
       " 'https://www.amazon.com.br/Eletr%C3%B4nica-seguran%C3%A7a-nightvision-monitoramento-temperatura/dp/B088MFP63N/ref=sr_1_13?keywords=motorola+ease44connect&qid=1652903471&sr=8-13&ufe=app_do%3Aamzn1.fos.25548f35-0de7-44b3-b28e-0f56f3f96147',\n",
       " 'https://www.amazon.com.br/Estereo-Motorola-embalagem-econ%C3%B4mica-5590/dp/B084JKMD16/ref=sr_1_16?keywords=motorola+bliss54&qid=1652903476&sr=8-16',\n",
       " 'https://www.amazon.com.br/Smartphone-Motorola-Moto-G60-128GB/dp/B094NY6S8T/ref=sr_1_33?keywords=motorola+bliss54&qid=1652903476&sr=8-33&ufe=app_do%3Aamzn1.fos.25548f35-0de7-44b3-b28e-0f56f3f96147',\n",
       " 'https://www.amazon.com.br/Carregador-Parede-20W-Sa%C3%ADda-MC-207/dp/B09C6NYKCG/ref=sr_1_31?keywords=motorola+bliss54&qid=1652903476&sr=8-31&ufe=app_do%3Aamzn1.fos.6a09f7ec-d911-4889-ad70-de8dd83c8a74',\n",
       " 'https://www.amazon.com.br/Motorola-Bluetooth-confort%C3%A1veis-qualidade-m%C3%BAltiplos/dp/B081RHCD42/ref=sr_1_36?keywords=motorola+bliss54&qid=1652903476&sr=8-36&ufe=app_do%3Aamzn1.fos.4bddec23-2dcf-4403-8597-e1a02442043d',\n",
       " 'https://www.amazon.com.br/Motorola-Moto-E7-Power-Metalico/dp/B08XY44FRF/ref=sr_1_12?keywords=motorola+bliss54&qid=1652903476&sr=8-12&ufe=app_do%3Aamzn1.fos.25548f35-0de7-44b3-b28e-0f56f3f96147',\n",
       " 'https://www.amazon.com.br/Dados-USB-C-Inbulk-Lifeproof-MO-SKN6473AIBI/dp/B07F7P9TQT/ref=sr_1_26?keywords=motorola+bliss54&qid=1652903476&sr=8-26',\n",
       " 'https://www.amazon.com.br/Smartphone-Motorola-Moto-128GB-Verde/dp/B09GGFDRYB/ref=sr_1_11?keywords=motorola+bliss54&qid=1652903476&sr=8-11&ufe=app_do%3Aamzn1.fos.25548f35-0de7-44b3-b28e-0f56f3f96147',\n",
       " 'https://www.amazon.com.br/Celular-Xiaomi-Redmi-64GB-Dual/dp/B08B3QSVM6/ref=sr_1_37?keywords=motorola+bliss54&qid=1652903476&sr=8-37&ufe=app_do%3Aamzn1.fos.25548f35-0de7-44b3-b28e-0f56f3f96147',\n",
       " 'https://www.amazon.com.br/Smartphone-Motorola-Moto-128GB-Verde/dp/B09XC5W681/ref=sr_1_5?keywords=motorola+bliss54&qid=1652903476&sr=8-5&ufe=app_do%3Aamzn1.fos.25548f35-0de7-44b3-b28e-0f56f3f96147',\n",
       " 'https://www.amazon.com.br/Dados-USB-C-Lifeproof-MO-SKN6473AI-Preto/dp/B07B9CSKNR/ref=sr_1_24?keywords=motorola+bliss54&qid=1652903476&sr=8-24',\n",
       " 'https://www.amazon.com.br/Smartphone-Motorola-C%C3%A2mera-Tripla-Selfie/dp/B09WD38PZL/ref=sr_1_46?keywords=motorola+bliss54&qid=1652903476&sr=8-46&ufe=app_do%3Aamzn1.fos.25548f35-0de7-44b3-b28e-0f56f3f96147',\n",
       " 'https://www.amazon.com.br/Estereo-Intra-Auricular-Microfone-Motorola-Sh006/dp/B06XX3Z8KS/ref=sr_1_30?keywords=motorola+bliss54&qid=1652903476&sr=8-30',\n",
       " 'https://www.amazon.com.br/Smartphone-Motorola-Moto-128GB-Verde/dp/B09N9YLMT2/ref=sr_1_22?keywords=motorola+bliss54&qid=1652903476&sr=8-22&ufe=app_do%3Aamzn1.fos.25548f35-0de7-44b3-b28e-0f56f3f96147',\n",
       " 'https://www.amazon.com.br/Smartphone-Motorola-Moto-32GB-Cinza/dp/B0927TCTGN/ref=sr_1_42?keywords=motorola+bliss54&qid=1652903476&sr=8-42&ufe=app_do%3Aamzn1.fos.25548f35-0de7-44b3-b28e-0f56f3f96147',\n",
       " 'https://www.amazon.com.br/Celular-Motorola-Moto-E7-C%C3%A2mera/dp/B08TQ65FRX/ref=sr_1_44?keywords=motorola+bliss54&qid=1652903476&sr=8-44',\n",
       " 'https://www.amazon.com.br/Smartphone-Motorola-Edge-128GB-Branco/dp/B09HVYYJMT/ref=sr_1_45?keywords=motorola+bliss54&qid=1652903476&sr=8-45',\n",
       " 'https://www.amazon.com.br/Smartphone-Motorola-Edge-256GB-12GB/dp/B09RCJW6YD/ref=sr_1_18?keywords=motorola+bliss54&qid=1652903476&sr=8-18&ufe=app_do%3Aamzn1.fos.25548f35-0de7-44b3-b28e-0f56f3f96147',\n",
       " 'https://www.amazon.com.br/Smartphone-Motorola-Moto-32GB-Cinza/dp/B09K9NC943/ref=sr_1_9?keywords=motorola+bliss54&qid=1652903476&sr=8-9&ufe=app_do%3Aamzn1.fos.25548f35-0de7-44b3-b28e-0f56f3f96147',\n",
       " 'https://www.amazon.com.br/Carregador-Parede-Motorola-Turbo-100-240V/dp/B081W1YCSG/ref=sr_1_38?keywords=motorola+bliss54&qid=1652903476&sr=8-38&ufe=app_do%3Aamzn1.fos.6121c6c4-c969-43ae-92f7-cc248fc6181d',\n",
       " 'https://www.amazon.com.br/Ouvido-Preto-XT2083-Autorizada-Motorola/dp/B09FLPW119/ref=sr_1_34?keywords=motorola+bliss54&qid=1652903476&sr=8-34&ufe=app_do%3Aamzn1.fos.6d798eae-cadf-45de-946a-f477d47705b9',\n",
       " 'https://www.amazon.com.br/Dados-Motorola-Original-Usb-C-Metro/dp/B0968P1CFC/ref=sr_1_23?keywords=motorola+bliss54&qid=1652903476&sr=8-23&ufe=app_do%3Aamzn1.fos.6d798eae-cadf-45de-946a-f477d47705b9',\n",
       " 'https://www.amazon.com.br/Dados-Micro-USB-Lifeproof-MO-SKN6461AIBI-Preto/dp/B07B41GCHY/ref=sr_1_20?keywords=motorola+bliss54&qid=1652903476&sr=8-20',\n",
       " 'https://www.amazon.com.br/Celular-Motorola-Preto-128gb-Camera/dp/B09151QFWJ/ref=sr_1_28?keywords=motorola+bliss54&qid=1652903476&sr=8-28&ufe=app_do%3Aamzn1.fos.25548f35-0de7-44b3-b28e-0f56f3f96147',\n",
       " 'https://www.amazon.com.br/Eletronica-Motorola-MBP-855-Connect-Colorida/dp/B084QZ7JPF/ref=sr_1_32?keywords=motorola+bliss54&qid=1652903476&sr=8-32',\n",
       " 'https://www.amazon.com.br/Smartphone-Motorola-Moto-64GB-Grafite/dp/B09L2KL8R1/ref=sr_1_29?keywords=motorola+bliss54&qid=1652903476&sr=8-29',\n",
       " 'https://www.amazon.com.br/Smartphone-Motorola-Moto-64GB-Grafite/dp/B09KYJ1HC3/ref=sr_1_13?keywords=motorola+bliss54&qid=1652903476&sr=8-13&ufe=app_do%3Aamzn1.fos.25548f35-0de7-44b3-b28e-0f56f3f96147',\n",
       " 'https://www.amazon.com.br/Smartphone-Motorola-Moto-128GB-Preto/dp/B09V8B8CY7/ref=sr_1_1?keywords=motorola+bliss54&qid=1652903476&sr=8-1&ufe=app_do%3Aamzn1.fos.25548f35-0de7-44b3-b28e-0f56f3f96147',\n",
       " 'https://www.amazon.com.br/Eletr%C3%B4nica-Motorola-Mbp36xl-Alcance-Noturna/dp/B01IRIVFRS/ref=sr_1_40?keywords=motorola+bliss54&qid=1652903476&sr=8-40&ufe=app_do%3Aamzn1.fos.25548f35-0de7-44b3-b28e-0f56f3f96147',\n",
       " 'https://www.amazon.com.br/Smartphone-Motorola-Moto-32GB-Pink/dp/B08YRNW7S7/ref=sr_1_14?keywords=motorola+bliss54&qid=1652903476&sr=8-14&ufe=app_do%3Aamzn1.fos.25548f35-0de7-44b3-b28e-0f56f3f96147',\n",
       " 'https://www.amazon.com.br/Carregador-Parede-Motorola-100-240V-Tipo-C/dp/B081W1SV17/ref=sr_1_39?keywords=motorola+bliss54&qid=1652903476&sr=8-39&ufe=app_do%3Aamzn1.fos.6a09f7ec-d911-4889-ad70-de8dd83c8a74',\n",
       " 'https://www.amazon.com.br/Celular-Motorola-Pac%C3%ADfico-C%C3%A2mera-Tripla/dp/B08S7FN27Y/ref=sr_1_43?keywords=motorola+bliss54&qid=1652903476&sr=8-43&ufe=app_do%3Aamzn1.fos.25548f35-0de7-44b3-b28e-0f56f3f96147',\n",
       " 'https://www.amazon.com.br/Smartphone-LG-Qu%C3%A1drupla-Processador-Octa-Core/dp/B088PSBKJ7/ref=sr_1_47?keywords=motorola+bliss54&qid=1652903476&sr=8-47&ufe=app_do%3Aamzn1.fos.25548f35-0de7-44b3-b28e-0f56f3f96147',\n",
       " 'https://www.amazon.com.br/Eletr%C3%B4nica-Motorola-Video-Colorido-MBP481/dp/B07M9ZDJ7J/ref=sr_1_15?keywords=motorola+bliss54&qid=1652903476&sr=8-15&ufe=app_do%3Aamzn1.fos.25548f35-0de7-44b3-b28e-0f56f3f96147',\n",
       " 'https://www.amazon.com.br/Smartphone-Motorola-Moto-128GB-Azul/dp/B09KP11Z6V/ref=sr_1_7?keywords=motorola+bliss54&qid=1652903476&sr=8-7&ufe=app_do%3Aamzn1.fos.25548f35-0de7-44b3-b28e-0f56f3f96147',\n",
       " 'https://www.amazon.com.br/C%C3%A2mera-Vigil%C3%A2ncia-Motorola-Wi-Fi-FOCUS68-W/dp/B07858DWQZ/ref=sr_1_48?keywords=motorola+bliss54&qid=1652903476&sr=8-48&ufe=app_do%3Aamzn1.fos.25548f35-0de7-44b3-b28e-0f56f3f96147',\n",
       " 'https://www.amazon.com.br/Smartphone-Motorola-Moto-128GB-Azul/dp/B09MSTWKS8/ref=sr_1_6?keywords=motorola+bliss54&qid=1652903476&sr=8-6&ufe=app_do%3Aamzn1.fos.25548f35-0de7-44b3-b28e-0f56f3f96147',\n",
       " 'https://www.amazon.com.br/Carregador-Parede-Sa%C3%ADda-USB-C-MC-307/dp/B08PDPZGFZ/ref=sr_1_35?keywords=motorola+bliss54&qid=1652903476&sr=8-35&ufe=app_do%3Aamzn1.fos.db68964d-7c0e-4bb2-a95c-e5cb9e32eb12',\n",
       " 'https://www.amazon.com.br/Ouvido-Motorola-Pulse-120-Microfone/dp/B085SP992B/ref=sr_1_27?keywords=motorola+bliss54&qid=1652903476&sr=8-27&ufe=app_do%3Aamzn1.fos.6121c6c4-c969-43ae-92f7-cc248fc6181d',\n",
       " 'https://www.amazon.com.br/Carregador-Parede-Motorola-100-240V-SC-47/dp/B08D3W1ZVT/ref=sr_1_17?keywords=motorola+bliss54&qid=1652903476&sr=8-17&ufe=app_do%3Aamzn1.fos.6d798eae-cadf-45de-946a-f477d47705b9',\n",
       " 'https://www.amazon.com.br/Carregador-Parede-Motorola-100-240V-Micro/dp/B08D4RCW82/ref=sr_1_41?keywords=motorola+bliss54&qid=1652903476&sr=8-41&ufe=app_do%3Aamzn1.fos.6121c6c4-c969-43ae-92f7-cc248fc6181d',\n",
       " 'https://www.amazon.com.br/Smartphone-Motorola-Moto-128GB-Azul/dp/B09Q98FT34/ref=sr_1_2?keywords=motorola+bliss54&qid=1652903476&sr=8-2&ufe=app_do%3Aamzn1.fos.25548f35-0de7-44b3-b28e-0f56f3f96147',\n",
       " 'https://www.amazon.com.br/Smartphone-Motorola-Moto-128GB-Grafite/dp/B09MSTCP4V/ref=sr_1_8?keywords=motorola+bliss54&qid=1652903476&sr=8-8&ufe=app_do%3Aamzn1.fos.25548f35-0de7-44b3-b28e-0f56f3f96147',\n",
       " 'https://www.amazon.com.br/Smartphone-Motorola-Moto-64GB-Ros%C3%AA/dp/B09LMRZV2W/ref=sr_1_25?keywords=motorola+bliss54&qid=1652903476&sr=8-25&ufe=app_do%3Aamzn1.fos.25548f35-0de7-44b3-b28e-0f56f3f96147',\n",
       " 'https://www.amazon.com.br/Smartphone-Motorola-Moto-32GB-Cinza/dp/B09LDDHFZL/ref=sr_1_10?keywords=motorola+bliss54&qid=1652903476&sr=8-10&ufe=app_do%3Aamzn1.fos.25548f35-0de7-44b3-b28e-0f56f3f96147',\n",
       " 'https://www.amazon.com.br/Motorola-Moto-E7-Power-Vermelho/dp/B08XY4SN9W/ref=sr_1_19?keywords=motorola+bliss54&qid=1652903476&sr=8-19',\n",
       " 'https://www.amazon.com.br/Smartphone-Motorola-Moto-128GB-Azul/dp/B09V86PRFB/ref=sr_1_4?keywords=motorola+bliss54&qid=1652903476&sr=8-4&ufe=app_do%3Aamzn1.fos.25548f35-0de7-44b3-b28e-0f56f3f96147',\n",
       " 'https://www.amazon.com.br/Smartphone-Motorola-Moto-128GB-Champagne/dp/B098KLF2SN/ref=sr_1_3?keywords=motorola+bliss54&qid=1652903476&sr=8-3&ufe=app_do%3Aamzn1.fos.25548f35-0de7-44b3-b28e-0f56f3f96147',\n",
       " 'https://www.amazon.com.br/Celular-Motorola-Moto-E7-Met%C3%A1lico/dp/B08WJP1QJ7/ref=sr_1_21?keywords=motorola+bliss54&qid=1652903476&sr=8-21',\n",
       " 'https://www.amazon.com.br/Bab%C3%A1-Eletr%C3%B4nica-Motorola-MBP30A-Branca/dp/B08QFCNPXJ/ref=sr_1_9?keywords=motorola+comfort75&qid=1652903480&sr=8-9&ufe=app_do%3Aamzn1.fos.25548f35-0de7-44b3-b28e-0f56f3f96147',\n",
       " 'https://www.amazon.com.br/Smartphone-Motorola-E6S-32GB-Azul/dp/B086M8SBDK/ref=sr_1_26?keywords=motorola+comfort75&qid=1652903480&sr=8-26',\n",
       " 'https://www.amazon.com.br/Motorola-Baba-Eletronica-Ease34-Branco/dp/B08FVXB74T/ref=sr_1_1?keywords=motorola+comfort75&qid=1652903480&sr=8-1&ufe=app_do%3Aamzn1.fos.25548f35-0de7-44b3-b28e-0f56f3f96147',\n",
       " 'https://www.amazon.com.br/Bab%C3%A1-Eletr%C3%B4nica-Motorola-MBP482-Branca/dp/B07BBTDDNF/ref=sr_1_12?keywords=motorola+comfort75&qid=1652903480&sr=8-12&ufe=app_do%3Aamzn1.fos.25548f35-0de7-44b3-b28e-0f56f3f96147',\n",
       " 'https://www.amazon.com.br/Eletr%C3%B4nica-Motorola-Mbp-855-Connect-Noturna/dp/B01N807E5P/ref=sr_1_15?keywords=motorola+comfort75&qid=1652903480&sr=8-15&ufe=app_do%3Aamzn1.fos.25548f35-0de7-44b3-b28e-0f56f3f96147',\n",
       " 'https://www.amazon.com.br/Eletronica-Digital-MBP667A-Connect-Motorola/dp/B0731J6K8M/ref=sr_1_16?keywords=motorola+comfort75&qid=1652903480&sr=8-16&ufe=app_do%3Aamzn1.fos.25548f35-0de7-44b3-b28e-0f56f3f96147',\n",
       " 'https://www.amazon.com.br/Motorola-MBP-36S-SC-Eletr%C3%B4nica/dp/B00NSF730O/ref=sr_1_5?keywords=motorola+comfort75&qid=1652903480&sr=8-5&ufe=app_do%3Aamzn1.fos.25548f35-0de7-44b3-b28e-0f56f3f96147',\n",
       " 'https://www.amazon.com.br/Smartphone-Moto-Plus-Azul-C%C3%A2mera/dp/B08NFJWM8Y/ref=sr_1_21?keywords=motorola+comfort75&qid=1652903480&sr=8-21&ufe=app_do%3Aamzn1.fos.25548f35-0de7-44b3-b28e-0f56f3f96147',\n",
       " 'https://www.amazon.com.br/Motorola-Moto-E7-Power-Metalico/dp/B08XY44FRF/ref=sr_1_10?keywords=motorola+comfort75&qid=1652903480&sr=8-10&ufe=app_do%3Aamzn1.fos.25548f35-0de7-44b3-b28e-0f56f3f96147',\n",
       " 'https://www.amazon.com.br/Smartphone-Motorola-Moto-32GB-Cinza/dp/B09K9NC943/ref=sr_1_13?keywords=motorola+comfort75&qid=1652903480&sr=8-13&ufe=app_do%3Aamzn1.fos.25548f35-0de7-44b3-b28e-0f56f3f96147',\n",
       " 'https://www.amazon.com.br/BoxWave-Comfort75-ClearTouch-Anti-Glare-anti-impress%C3%A3o/dp/B08XQZZQMY/ref=sr_1_23?keywords=motorola+comfort75&qid=1652903480&sr=8-23',\n",
       " 'https://www.amazon.com.br/BoxWave-Protetor-Comfort75-polegadas-ClearTouch/dp/B08XSB15Y6/ref=sr_1_18?keywords=motorola+comfort75&qid=1652903480&sr=8-18',\n",
       " 'https://www.amazon.com.br/Motorola-Moto-E7-Power-Vermelho/dp/B08XY4SN9W/ref=sr_1_4?keywords=motorola+comfort75&qid=1652903480&sr=8-4',\n",
       " 'https://www.amazon.com.br/atualizado-infravermelha-autom%C3%A1tica-temperatura-bidirecional/dp/B097NDPXBH/ref=sr_1_6?keywords=motorola+comfort75&qid=1652903480&sr=8-6&ufe=app_do%3Aamzn1.fos.25548f35-0de7-44b3-b28e-0f56f3f96147',\n",
       " 'https://www.amazon.com.br/Smartphone-Android-Wi-Fi-C%C3%A2mera-Preto/dp/B07ZJSNBKG/ref=sr_1_14?keywords=motorola+comfort75&qid=1652903480&sr=8-14',\n",
       " 'https://www.amazon.com.br/Eletr%C3%B4nica-Motorola-Mbp36xl-Alcance-Noturna/dp/B01IRIVFRS/ref=sr_1_2?keywords=motorola+comfort75&qid=1652903480&sr=8-2&ufe=app_do%3Aamzn1.fos.25548f35-0de7-44b3-b28e-0f56f3f96147',\n",
       " 'https://www.amazon.com.br/Smartphone-Motorola-Moto-32GB-Cinza/dp/B0927TCTGN/ref=sr_1_20?keywords=motorola+comfort75&qid=1652903480&sr=8-20&ufe=app_do%3Aamzn1.fos.25548f35-0de7-44b3-b28e-0f56f3f96147',\n",
       " 'https://www.amazon.com.br/Smartphone-Motorola-Android-C%C3%A2mera-Royal/dp/B081J41KYP/ref=sr_1_25?keywords=motorola+comfort75&qid=1652903480&sr=8-25',\n",
       " 'https://www.amazon.com.br/Celular-Motorola-Bronze-Ambar-Dupla/dp/B08NY5JV2J/ref=sr_1_19?keywords=motorola+comfort75&qid=1652903480&sr=8-19&ufe=app_do%3Aamzn1.fos.25548f35-0de7-44b3-b28e-0f56f3f96147',\n",
       " 'https://www.amazon.com.br/Celular-Motorola-Moto-E6s-Marinho/dp/B08F2VLB6K/ref=sr_1_22?keywords=motorola+comfort75&qid=1652903480&sr=8-22',\n",
       " 'https://www.amazon.com.br/Bab%C3%A1-Eletr%C3%B4nica-MBP668Connect-Vis%C3%A3o-Noturna/dp/B078KHB3YW/ref=sr_1_8?keywords=motorola+comfort75&qid=1652903480&sr=8-8&ufe=app_do%3Aamzn1.fos.25548f35-0de7-44b3-b28e-0f56f3f96147',\n",
       " 'https://www.amazon.com.br/Eletr%C3%B4nica-Motorola-Video-Colorido-MBP481/dp/B07M9ZDJ7J/ref=sr_1_7?keywords=motorola+comfort75&qid=1652903480&sr=8-7&ufe=app_do%3Aamzn1.fos.25548f35-0de7-44b3-b28e-0f56f3f96147',\n",
       " 'https://www.amazon.com.br/Bab%C3%A1-Eletr%C3%B4nica-Vis%C3%A3o-Noturna-Microfone/dp/B085JS7ZZ5/ref=sr_1_11?keywords=motorola+comfort75&qid=1652903480&sr=8-11&ufe=app_do%3Aamzn1.fos.25548f35-0de7-44b3-b28e-0f56f3f96147',\n",
       " 'https://www.amazon.com.br/Celular-Motorola-Moto-E7-Met%C3%A1lico/dp/B08TPWS32Q/ref=sr_1_3?keywords=motorola+comfort75&qid=1652903480&sr=8-3',\n",
       " 'https://www.amazon.com.br/Celular-Motorola-Moto-E7-Aquamarine/dp/B08TPWZXHT/ref=sr_1_24?keywords=motorola+comfort75&qid=1652903480&sr=8-24',\n",
       " 'https://www.amazon.com.br/Eletronica-Motorola-MBP-855-Connect-Colorida/dp/B084QZ7JPF/ref=sr_1_10?keywords=motorola+lux65+connect&qid=1652903485&sr=8-10',\n",
       " 'https://www.amazon.com.br/Eletronica-Digital-MBP667A-Connect-Motorola/dp/B0731J6K8M/ref=sr_1_6?keywords=motorola+lux65+connect&qid=1652903485&sr=8-6&ufe=app_do%3Aamzn1.fos.25548f35-0de7-44b3-b28e-0f56f3f96147',\n",
       " 'https://www.amazon.com.br/Motorola-Vervebuds-Bluetooth-Est%C3%A9reo-Resistente/dp/B07M5KH7RH/ref=sr_1_27?keywords=motorola+lux65+connect&qid=1652903485&sr=8-27&ufe=app_do%3Aamzn1.fos.25548f35-0de7-44b3-b28e-0f56f3f96147',\n",
       " 'https://www.amazon.com.br/Celular-Motorola-Preto-128gb-Camera/dp/B09151QFWJ/ref=sr_1_16?keywords=motorola+lux65+connect&qid=1652903485&sr=8-16&ufe=app_do%3Aamzn1.fos.25548f35-0de7-44b3-b28e-0f56f3f96147',\n",
       " 'https://www.amazon.com.br/Ouvido-motorola-Ververap-100-Bluetooth/dp/B07YY43BLQ/ref=sr_1_25?keywords=motorola+lux65+connect&qid=1652903485&sr=8-25&ufe=app_do%3Aamzn1.fos.6a09f7ec-d911-4889-ad70-de8dd83c8a74',\n",
       " 'https://www.amazon.com.br/Eletr%C3%B4nica-Motorola-Mbp-855-Connect-Noturna/dp/B01N807E5P/ref=sr_1_9?keywords=motorola+lux65+connect&qid=1652903485&sr=8-9&ufe=app_do%3Aamzn1.fos.25548f35-0de7-44b3-b28e-0f56f3f96147',\n",
       " 'https://www.amazon.com.br/Motorola-Bluetooth-Microfone-Controles-SH013/dp/B075363QFS/ref=sr_1_20?keywords=motorola+lux65+connect&qid=1652903485&sr=8-20&ufe=app_do%3Aamzn1.fos.e05b01e0-91a7-477e-a514-15a32325a6d6',\n",
       " 'https://www.amazon.com.br/Motorola-Vervebuds-Bluetooth-Est%C3%A9reo-Resistente/dp/B07K3GWWSM/ref=sr_1_31?keywords=motorola+lux65+connect&qid=1652903485&sr=8-31&ufe=app_do%3Aamzn1.fos.25548f35-0de7-44b3-b28e-0f56f3f96147',\n",
       " 'https://www.amazon.com.br/Celular-Xiaomi-Redmi-64GB-Dual/dp/B08B3QSVM6/ref=sr_1_13?keywords=motorola+lux65+connect&qid=1652903485&sr=8-13&ufe=app_do%3Aamzn1.fos.25548f35-0de7-44b3-b28e-0f56f3f96147',\n",
       " 'https://www.amazon.com.br/Celular-Motorola-Moto-E7-Met%C3%A1lico/dp/B08WJP1QJ7/ref=sr_1_15?keywords=motorola+lux65+connect&qid=1652903485&sr=8-15',\n",
       " 'https://www.amazon.com.br/Motorola-Baba-Eletronica-Ease34-Branco/dp/B08FVXB74T/ref=sr_1_5?keywords=motorola+lux65+connect&qid=1652903485&sr=8-5&ufe=app_do%3Aamzn1.fos.25548f35-0de7-44b3-b28e-0f56f3f96147',\n",
       " 'https://www.amazon.com.br/Celular-Motorola-Branco-Floral-Qu%C3%A1drupla/dp/B0914PVKBP/ref=sr_1_30?keywords=motorola+lux65+connect&qid=1652903485&sr=8-30',\n",
       " 'https://www.amazon.com.br/Celular-Motorola-Bronze-Ambar-Dupla/dp/B08NY5JV2J/ref=sr_1_34?keywords=motorola+lux65+connect&qid=1652903485&sr=8-34&ufe=app_do%3Aamzn1.fos.25548f35-0de7-44b3-b28e-0f56f3f96147',\n",
       " 'https://www.amazon.com.br/Celular-Motorola-Pac%C3%ADfico-C%C3%A2mera-Tripla/dp/B08S7FN27Y/ref=sr_1_19?keywords=motorola+lux65+connect&qid=1652903485&sr=8-19&ufe=app_do%3Aamzn1.fos.25548f35-0de7-44b3-b28e-0f56f3f96147',\n",
       " 'https://www.amazon.com.br/Smartphone-Motorola-Moto-32GB-Cinza/dp/B0927TCTGN/ref=sr_1_17?keywords=motorola+lux65+connect&qid=1652903485&sr=8-17&ufe=app_do%3Aamzn1.fos.25548f35-0de7-44b3-b28e-0f56f3f96147',\n",
       " 'https://www.amazon.com.br/Dados-Carga-Conector-Motorola-6955226408069/dp/B07GNX38CB/ref=sr_1_24?keywords=motorola+lux65+connect&qid=1652903485&sr=8-24&ufe=app_do%3Aamzn1.fos.6d798eae-cadf-45de-946a-f477d47705b9',\n",
       " 'https://www.amazon.com.br/Smartphone-LG-Qu%C3%A1drupla-Processador-Octa-Core/dp/B088PSBKJ7/ref=sr_1_2?keywords=motorola+lux65+connect&qid=1652903485&sr=8-2&ufe=app_do%3Aamzn1.fos.25548f35-0de7-44b3-b28e-0f56f3f96147',\n",
       " 'https://www.amazon.com.br/Smartphone-Motorola-Android-C%C3%A2mera-Royal/dp/B081J41KYP/ref=sr_1_33?keywords=motorola+lux65+connect&qid=1652903485&sr=8-33',\n",
       " 'https://www.amazon.com.br/Smartphone-Moto-G9-Play-Safira/dp/B08NFKJ67B/ref=sr_1_23?keywords=motorola+lux65+connect&qid=1652903485&sr=8-23',\n",
       " 'https://www.amazon.com.br/Celular-Motorola-Cinza-Titanium-C%C3%A2mera/dp/B08DFHWBFX/ref=sr_1_32?keywords=motorola+lux65+connect&qid=1652903485&sr=8-32&ufe=app_do%3Aamzn1.fos.25548f35-0de7-44b3-b28e-0f56f3f96147',\n",
       " 'https://www.amazon.com.br/Motorola-Moto-E7-Power-Metalico/dp/B08XY44FRF/ref=sr_1_4?keywords=motorola+lux65+connect&qid=1652903485&sr=8-4&ufe=app_do%3Aamzn1.fos.25548f35-0de7-44b3-b28e-0f56f3f96147',\n",
       " 'https://www.amazon.com.br/Ouvido-Bluetooth-Motorola-100-prova/dp/B09JWVY3GL/ref=sr_1_18?keywords=motorola+lux65+connect&qid=1652903485&sr=8-18&ufe=app_do%3Aamzn1.fos.4bddec23-2dcf-4403-8597-e1a02442043d',\n",
       " 'https://www.amazon.com.br/Smartphone-Motorola-E6S-32GB-Azul/dp/B086M8SBDK/ref=sr_1_35?keywords=motorola+lux65+connect&qid=1652903485&sr=8-35',\n",
       " 'https://www.amazon.com.br/VerveLoop-Bluetooth-Motorola-Acess%C3%B3rios-Wearables/dp/B078MWP4FB/ref=sr_1_29?keywords=motorola+lux65+connect&qid=1652903485&sr=8-29&ufe=app_do%3Aamzn1.fos.e05b01e0-91a7-477e-a514-15a32325a6d6',\n",
       " 'https://www.amazon.com.br/Smartphone-Motorola-XT2083-Turquesa-C%C3%A2mera/dp/B08KFMJH2Q/ref=sr_1_28?keywords=motorola+lux65+connect&qid=1652903485&sr=8-28',\n",
       " 'https://www.amazon.com.br/Monitor-beb%C3%AA-Motorola-PIP1510-Connect/dp/B09Q83W826/ref=sr_1_22?keywords=motorola+lux65+connect&qid=1652903485&sr=8-22',\n",
       " 'https://www.amazon.com.br/Celular-Motorola-Moto-E6s-Marinho/dp/B08F2VLB6K/ref=sr_1_36?keywords=motorola+lux65+connect&qid=1652903485&sr=8-36',\n",
       " 'https://www.amazon.com.br/Motorola-MBP-36S-SC-Eletr%C3%B4nica/dp/B00NSF730O/ref=sr_1_11?keywords=motorola+lux65+connect&qid=1652903485&sr=8-11&ufe=app_do%3Aamzn1.fos.25548f35-0de7-44b3-b28e-0f56f3f96147',\n",
       " 'https://www.amazon.com.br/Ouvido-Bluetooth-Motorola-prova-dagua/dp/B09JWVCJLL/ref=sr_1_14?keywords=motorola+lux65+connect&qid=1652903485&sr=8-14&ufe=app_do%3Aamzn1.fos.25548f35-0de7-44b3-b28e-0f56f3f96147',\n",
       " 'https://www.amazon.com.br/Ouvido-Bluetooth-Motorola-Preto-Laranja/dp/B074KS8DC6/ref=sr_1_7?keywords=motorola+lux65+connect&qid=1652903485&sr=8-7&ufe=app_do%3Aamzn1.fos.db68964d-7c0e-4bb2-a95c-e5cb9e32eb12',\n",
       " 'https://www.amazon.com.br/Motorola-Bab%C3%A1-Eletr%C3%B4nica-VM64C/dp/B09NCGHLN2/ref=sr_1_12?keywords=motorola+lux65+connect&qid=1652903485&sr=8-12&ufe=app_do%3Aamzn1.fos.25548f35-0de7-44b3-b28e-0f56f3f96147',\n",
       " 'https://www.amazon.com.br/dados-USB-C-USB-C-1M-motorola-Preto/dp/B07N8TGL69/ref=sr_1_26?keywords=motorola+lux65+connect&qid=1652903485&sr=8-26&ufe=app_do%3Aamzn1.fos.6d798eae-cadf-45de-946a-f477d47705b9',\n",
       " 'https://www.amazon.com.br/Bab%C3%A1-Eletr%C3%B4nica-Motorola-MBP30A-Branca/dp/B08QFCNPXJ/ref=sr_1_1?keywords=motorola+lux65+connect&qid=1652903485&sr=8-1&ufe=app_do%3Aamzn1.fos.25548f35-0de7-44b3-b28e-0f56f3f96147',\n",
       " 'https://www.amazon.com.br/Ouvido-Bluetooth-Motorola-Acess%C3%B3rios-Wearables/dp/B074KQR528/ref=sr_1_21?keywords=motorola+lux65+connect&qid=1652903485&sr=8-21&ufe=app_do%3Aamzn1.fos.e05b01e0-91a7-477e-a514-15a32325a6d6',\n",
       " 'https://www.amazon.com.br/Eletr%C3%B4nica-Motorola-Mbp36xl-Alcance-Noturna/dp/B01IRIVFRS/ref=sr_1_8?keywords=motorola+lux65+connect&qid=1652903485&sr=8-8&ufe=app_do%3Aamzn1.fos.25548f35-0de7-44b3-b28e-0f56f3f96147',\n",
       " 'https://www.amazon.com.br/Eletr%C3%B4nica-Motorola-Video-Colorido-MBP481/dp/B07M9ZDJ7J/ref=sr_1_3?keywords=motorola+lux65+connect&qid=1652903485&sr=8-3&ufe=app_do%3Aamzn1.fos.25548f35-0de7-44b3-b28e-0f56f3f96147',\n",
       " 'https://www.amazon.com.br/Motorola-Bluetooth-confort%C3%A1veis-qualidade-m%C3%BAltiplos/dp/B081RHCD42/ref=sr_1_42?keywords=motorola+mbp667a&qid=1652903489&sr=8-42&ufe=app_do%3Aamzn1.fos.4bddec23-2dcf-4403-8597-e1a02442043d',\n",
       " 'https://www.amazon.com.br/Smartphone-Motorola-Moto-32GB-Cinza/dp/B09LDDHFZL/ref=sr_1_20?keywords=motorola+mbp667a&qid=1652903489&sr=8-20&ufe=app_do%3Aamzn1.fos.25548f35-0de7-44b3-b28e-0f56f3f96147',\n",
       " 'https://www.amazon.com.br/Bab%C3%A1-Eletr%C3%B4nica-Motorola-MBP482-Branca/dp/B07BBTDDNF/ref=sr_1_17?keywords=motorola+mbp667a&qid=1652903489&sr=8-17&ufe=app_do%3Aamzn1.fos.25548f35-0de7-44b3-b28e-0f56f3f96147',\n",
       " 'https://www.amazon.com.br/Eletr%C3%B4nica-Motorola-Mbp-855-Connect-Noturna/dp/B01N807E5P/ref=sr_1_12?keywords=motorola+mbp667a&qid=1652903489&sr=8-12&ufe=app_do%3Aamzn1.fos.25548f35-0de7-44b3-b28e-0f56f3f96147',\n",
       " 'https://www.amazon.com.br/Smartphone-Motorola-Moto-64GB-Grafite/dp/B09L2KL8R1/ref=sr_1_37?keywords=motorola+mbp667a&qid=1652903489&sr=8-37',\n",
       " 'https://www.amazon.com.br/Celular-Xiaomi-Redmi-64GB-Dual/dp/B08B3QSVM6/ref=sr_1_45?keywords=motorola+mbp667a&qid=1652903489&sr=8-45&ufe=app_do%3Aamzn1.fos.25548f35-0de7-44b3-b28e-0f56f3f96147',\n",
       " 'https://www.amazon.com.br/Smartphone-Motorola-Moto-128GB-Azul/dp/B09KP11Z6V/ref=sr_1_7?keywords=motorola+mbp667a&qid=1652903489&sr=8-7&ufe=app_do%3Aamzn1.fos.25548f35-0de7-44b3-b28e-0f56f3f96147',\n",
       " 'https://www.amazon.com.br/Smartphone-Motorola-Moto-64GB-Grafite/dp/B09KYJ1HC3/ref=sr_1_13?keywords=motorola+mbp667a&qid=1652903489&sr=8-13&ufe=app_do%3Aamzn1.fos.25548f35-0de7-44b3-b28e-0f56f3f96147',\n",
       " 'https://www.amazon.com.br/Celular-Motorola-Preto-128gb-Camera/dp/B09151QFWJ/ref=sr_1_35?keywords=motorola+mbp667a&qid=1652903489&sr=8-35&ufe=app_do%3Aamzn1.fos.25548f35-0de7-44b3-b28e-0f56f3f96147',\n",
       " 'https://www.amazon.com.br/Eletronica-Motorola-MBP-855-Connect-Colorida/dp/B084QZ7JPF/ref=sr_1_16?keywords=motorola+mbp667a&qid=1652903489&sr=8-16',\n",
       " 'https://www.amazon.com.br/Estereo-Motorola-embalagem-econ%C3%B4mica-5590/dp/B084JKMD16/ref=sr_1_21?keywords=motorola+mbp667a&qid=1652903489&sr=8-21',\n",
       " 'https://www.amazon.com.br/Smartphone-Motorola-Moto-32GB-Pink/dp/B08YRNW7S7/ref=sr_1_15?keywords=motorola+mbp667a&qid=1652903489&sr=8-15&ufe=app_do%3Aamzn1.fos.25548f35-0de7-44b3-b28e-0f56f3f96147',\n",
       " 'https://www.amazon.com.br/Smartphone-Motorola-Moto-32GB-Cinza/dp/B0927TCTGN/ref=sr_1_47?keywords=motorola+mbp667a&qid=1652903489&sr=8-47&ufe=app_do%3Aamzn1.fos.25548f35-0de7-44b3-b28e-0f56f3f96147',\n",
       " 'https://www.amazon.com.br/Carregador-Parede-Sa%C3%ADda-USB-C-MC-307/dp/B08PDPZGFZ/ref=sr_1_41?keywords=motorola+mbp667a&qid=1652903489&sr=8-41&ufe=app_do%3Aamzn1.fos.db68964d-7c0e-4bb2-a95c-e5cb9e32eb12',\n",
       " 'https://www.amazon.com.br/Motorola-Moto-E7-Power-Metalico/dp/B08XY44FRF/ref=sr_1_22?keywords=motorola+mbp667a&qid=1652903489&sr=8-22&ufe=app_do%3Aamzn1.fos.25548f35-0de7-44b3-b28e-0f56f3f96147',\n",
       " 'https://www.amazon.com.br/Smartphone-Motorola-Moto-128GB-Grafite/dp/B09MSTCP4V/ref=sr_1_11?keywords=motorola+mbp667a&qid=1652903489&sr=8-11&ufe=app_do%3Aamzn1.fos.25548f35-0de7-44b3-b28e-0f56f3f96147',\n",
       " 'https://www.amazon.com.br/Dados-USB-C-Lifeproof-MO-SKN6473AI-Preto/dp/B07B9CSKNR/ref=sr_1_27?keywords=motorola+mbp667a&qid=1652903489&sr=8-27',\n",
       " 'https://www.amazon.com.br/Smartphone-Motorola-Moto-128GB-Azul/dp/B09V86PRFB/ref=sr_1_5?keywords=motorola+mbp667a&qid=1652903489&sr=8-5&ufe=app_do%3Aamzn1.fos.25548f35-0de7-44b3-b28e-0f56f3f96147',\n",
       " 'https://www.amazon.com.br/Motorola-Baba-Eletronica-Ease34-Branco/dp/B08FVXB74T/ref=sr_1_6?keywords=motorola+mbp667a&qid=1652903489&sr=8-6&ufe=app_do%3Aamzn1.fos.25548f35-0de7-44b3-b28e-0f56f3f96147',\n",
       " 'https://www.amazon.com.br/Dados-Micro-USB-Lifeproof-MO-SKN6461AIBI-Preto/dp/B07B41GCHY/ref=sr_1_28?keywords=motorola+mbp667a&qid=1652903489&sr=8-28',\n",
       " 'https://www.amazon.com.br/Motorola-Moto-E7-Power-Vermelho/dp/B08XY4SN9W/ref=sr_1_25?keywords=motorola+mbp667a&qid=1652903489&sr=8-25',\n",
       " 'https://www.amazon.com.br/Carregador-Parede-Motorola-100-240V-SC-47/dp/B08D3W1ZVT/ref=sr_1_24?keywords=motorola+mbp667a&qid=1652903489&sr=8-24&ufe=app_do%3Aamzn1.fos.6d798eae-cadf-45de-946a-f477d47705b9',\n",
       " 'https://www.amazon.com.br/Dados-Motorola-Original-Usb-C-Metro/dp/B0968P1CFC/ref=sr_1_31?keywords=motorola+mbp667a&qid=1652903489&sr=8-31&ufe=app_do%3Aamzn1.fos.6d798eae-cadf-45de-946a-f477d47705b9',\n",
       " 'https://www.amazon.com.br/Smartphone-Motorola-Moto-128GB-Verde/dp/B09GGFDRYB/ref=sr_1_18?keywords=motorola+mbp667a&qid=1652903489&sr=8-18&ufe=app_do%3Aamzn1.fos.25548f35-0de7-44b3-b28e-0f56f3f96147',\n",
       " 'https://www.amazon.com.br/Ouvido-Motorola-Pulse-120-Microfone/dp/B085SP992B/ref=sr_1_34?keywords=motorola+mbp667a&qid=1652903489&sr=8-34&ufe=app_do%3Aamzn1.fos.6121c6c4-c969-43ae-92f7-cc248fc6181d',\n",
       " 'https://www.amazon.com.br/Smartphone-Motorola-Moto-32GB-Cinza/dp/B09K9NC943/ref=sr_1_9?keywords=motorola+mbp667a&qid=1652903489&sr=8-9&ufe=app_do%3Aamzn1.fos.25548f35-0de7-44b3-b28e-0f56f3f96147',\n",
       " 'https://www.amazon.com.br/Carregador-Parede-Motorola-Turbo-100-240V/dp/B081W1YCSG/ref=sr_1_44?keywords=motorola+mbp667a&qid=1652903489&sr=8-44&ufe=app_do%3Aamzn1.fos.6121c6c4-c969-43ae-92f7-cc248fc6181d',\n",
       " 'https://www.amazon.com.br/Smartphone-Motorola-Moto-G60-128GB/dp/B094NY6S8T/ref=sr_1_39?keywords=motorola+mbp667a&qid=1652903489&sr=8-39&ufe=app_do%3Aamzn1.fos.25548f35-0de7-44b3-b28e-0f56f3f96147',\n",
       " 'https://www.amazon.com.br/Celular-Motorola-Pac%C3%ADfico-C%C3%A2mera-Tripla/dp/B08S7FN27Y/ref=sr_1_48?keywords=motorola+mbp667a&qid=1652903489&sr=8-48&ufe=app_do%3Aamzn1.fos.25548f35-0de7-44b3-b28e-0f56f3f96147',\n",
       " 'https://www.amazon.com.br/Smartphone-Motorola-Moto-128GB-Azul/dp/B09Q98FT34/ref=sr_1_23?keywords=motorola+mbp667a&qid=1652903489&sr=8-23&ufe=app_do%3Aamzn1.fos.25548f35-0de7-44b3-b28e-0f56f3f96147',\n",
       " 'https://www.amazon.com.br/Ouvido-Preto-XT2083-Autorizada-Motorola/dp/B09FLPW119/ref=sr_1_40?keywords=motorola+mbp667a&qid=1652903489&sr=8-40&ufe=app_do%3Aamzn1.fos.6d798eae-cadf-45de-946a-f477d47705b9',\n",
       " 'https://www.amazon.com.br/Smartphone-Motorola-Moto-128GB-Verde/dp/B09XC5W681/ref=sr_1_19?keywords=motorola+mbp667a&qid=1652903489&sr=8-19&ufe=app_do%3Aamzn1.fos.25548f35-0de7-44b3-b28e-0f56f3f96147',\n",
       " 'https://www.amazon.com.br/Estereo-Intra-Auricular-Microfone-Motorola-Sh006/dp/B06XX3Z8KS/ref=sr_1_38?keywords=motorola+mbp667a&qid=1652903489&sr=8-38',\n",
       " 'https://www.amazon.com.br/Smartphone-Motorola-Moto-128GB-Preto/dp/B09V8B8CY7/ref=sr_1_2?keywords=motorola+mbp667a&qid=1652903489&sr=8-2&ufe=app_do%3Aamzn1.fos.25548f35-0de7-44b3-b28e-0f56f3f96147',\n",
       " 'https://www.amazon.com.br/Motorola-MBP-36S-SC-Eletr%C3%B4nica/dp/B00NSF730O/ref=sr_1_10?keywords=motorola+mbp667a&qid=1652903489&sr=8-10&ufe=app_do%3Aamzn1.fos.25548f35-0de7-44b3-b28e-0f56f3f96147',\n",
       " 'https://www.amazon.com.br/Smartphone-Motorola-Moto-128GB-Champagne/dp/B098KLF2SN/ref=sr_1_4?keywords=motorola+mbp667a&qid=1652903489&sr=8-4&ufe=app_do%3Aamzn1.fos.25548f35-0de7-44b3-b28e-0f56f3f96147',\n",
       " 'https://www.amazon.com.br/Carregador-Parede-20W-Sa%C3%ADda-MC-207/dp/B09C6NYKCG/ref=sr_1_36?keywords=motorola+mbp667a&qid=1652903489&sr=8-36&ufe=app_do%3Aamzn1.fos.6a09f7ec-d911-4889-ad70-de8dd83c8a74',\n",
       " 'https://www.amazon.com.br/Smartphone-Motorola-Moto-128GB-Verde/dp/B09N9YLMT2/ref=sr_1_29?keywords=motorola+mbp667a&qid=1652903489&sr=8-29&ufe=app_do%3Aamzn1.fos.25548f35-0de7-44b3-b28e-0f56f3f96147',\n",
       " 'https://www.amazon.com.br/Eletr%C3%B4nica-Motorola-Video-Colorido-MBP481/dp/B07M9ZDJ7J/ref=sr_1_14?keywords=motorola+mbp667a&qid=1652903489&sr=8-14&ufe=app_do%3Aamzn1.fos.25548f35-0de7-44b3-b28e-0f56f3f96147',\n",
       " 'https://www.amazon.com.br/Smartphone-Motorola-Moto-128GB-Azul/dp/B09MSTWKS8/ref=sr_1_8?keywords=motorola+mbp667a&qid=1652903489&sr=8-8&ufe=app_do%3Aamzn1.fos.25548f35-0de7-44b3-b28e-0f56f3f96147',\n",
       " 'https://www.amazon.com.br/Carregador-Parede-Motorola-100-240V-Tipo-C/dp/B081W1SV17/ref=sr_1_43?keywords=motorola+mbp667a&qid=1652903489&sr=8-43&ufe=app_do%3Aamzn1.fos.6a09f7ec-d911-4889-ad70-de8dd83c8a74',\n",
       " 'https://www.amazon.com.br/Dados-USB-C-Inbulk-Lifeproof-MO-SKN6473AIBI/dp/B07F7P9TQT/ref=sr_1_33?keywords=motorola+mbp667a&qid=1652903489&sr=8-33',\n",
       " 'https://www.amazon.com.br/Eletronica-Digital-MBP667A-Connect-Motorola/dp/B0731J6K8M/ref=sr_1_1?keywords=motorola+mbp667a&qid=1652903489&sr=8-1&ufe=app_do%3Aamzn1.fos.25548f35-0de7-44b3-b28e-0f56f3f96147',\n",
       " 'https://www.amazon.com.br/Carregador-Parede-Motorola-100-240V-Micro/dp/B08D4RCW82/ref=sr_1_46?keywords=motorola+mbp667a&qid=1652903489&sr=8-46&ufe=app_do%3Aamzn1.fos.6121c6c4-c969-43ae-92f7-cc248fc6181d',\n",
       " 'https://www.amazon.com.br/Eletr%C3%B4nica-Motorola-Mbp36xl-Alcance-Noturna/dp/B01IRIVFRS/ref=sr_1_3?keywords=motorola+mbp667a&qid=1652903489&sr=8-3&ufe=app_do%3Aamzn1.fos.25548f35-0de7-44b3-b28e-0f56f3f96147',\n",
       " 'https://www.amazon.com.br/Celular-Motorola-Moto-E7-Met%C3%A1lico/dp/B08WJP1QJ7/ref=sr_1_30?keywords=motorola+mbp667a&qid=1652903489&sr=8-30',\n",
       " 'https://www.amazon.com.br/Smartphone-Motorola-Edge-256GB-12GB/dp/B09RCJW6YD/ref=sr_1_26?keywords=motorola+mbp667a&qid=1652903489&sr=8-26&ufe=app_do%3Aamzn1.fos.25548f35-0de7-44b3-b28e-0f56f3f96147',\n",
       " 'https://www.amazon.com.br/Smartphone-Motorola-Moto-64GB-Ros%C3%AA/dp/B09LMRZV2W/ref=sr_1_32?keywords=motorola+mbp667a&qid=1652903489&sr=8-32&ufe=app_do%3Aamzn1.fos.25548f35-0de7-44b3-b28e-0f56f3f96147',\n",
       " 'https://www.amazon.com.br/Eletronica-Digital-C%C3%A2mera-Multikids-Baby/dp/B076LD2CMK/ref=sr_1_16?keywords=motorola+mbp482&qid=1652903493&sr=8-16&ufe=app_do%3Aamzn1.fos.25548f35-0de7-44b3-b28e-0f56f3f96147',\n",
       " 'https://www.amazon.com.br/Carregador-Parede-Motorola-100-240V-Micro/dp/B08D4RCW82/ref=sr_1_50?keywords=motorola+mbp482&qid=1652903493&sr=8-50&ufe=app_do%3Aamzn1.fos.6121c6c4-c969-43ae-92f7-cc248fc6181d',\n",
       " 'https://www.amazon.com.br/Smartphone-Motorola-Moto-64GB-Grafite/dp/B09L2KL8R1/ref=sr_1_41?keywords=motorola+mbp482&qid=1652903493&sr=8-41',\n",
       " 'https://www.amazon.com.br/Eletr%C3%B4nica-Motorola-Mbp-855-Connect-Noturna/dp/B01N807E5P/ref=sr_1_14?keywords=motorola+mbp482&qid=1652903493&sr=8-14&ufe=app_do%3Aamzn1.fos.25548f35-0de7-44b3-b28e-0f56f3f96147',\n",
       " 'https://www.amazon.com.br/Motorola-Moto-E7-Power-Metalico/dp/B08XY44FRF/ref=sr_1_28?keywords=motorola+mbp482&qid=1652903493&sr=8-28&ufe=app_do%3Aamzn1.fos.25548f35-0de7-44b3-b28e-0f56f3f96147',\n",
       " 'https://www.amazon.com.br/Ouvido-Preto-XT2083-Autorizada-Motorola/dp/B09FLPW119/ref=sr_1_44?keywords=motorola+mbp482&qid=1652903493&sr=8-44&ufe=app_do%3Aamzn1.fos.6d798eae-cadf-45de-946a-f477d47705b9',\n",
       " 'https://www.amazon.com.br/Eletr%C3%B4nica-seguran%C3%A7a-nightvision-monitoramento-temperatura/dp/B088MFP63N/ref=sr_1_17?keywords=motorola+mbp482&qid=1652903493&sr=8-17&ufe=app_do%3Aamzn1.fos.25548f35-0de7-44b3-b28e-0f56f3f96147',\n",
       " 'https://www.amazon.com.br/Smartphone-Motorola-Moto-128GB-Azul/dp/B09Q98FT34/ref=sr_1_27?keywords=motorola+mbp482&qid=1652903493&sr=8-27&ufe=app_do%3Aamzn1.fos.25548f35-0de7-44b3-b28e-0f56f3f96147',\n",
       " 'https://www.amazon.com.br/Eletronica-Motorola-MBP-855-Connect-Colorida/dp/B084QZ7JPF/ref=sr_1_18?keywords=motorola+mbp482&qid=1652903493&sr=8-18',\n",
       " 'https://www.amazon.com.br/Smartphone-Motorola-Moto-128GB-Verde/dp/B09N9YLMT2/ref=sr_1_32?keywords=motorola+mbp482&qid=1652903493&sr=8-32&ufe=app_do%3Aamzn1.fos.25548f35-0de7-44b3-b28e-0f56f3f96147',\n",
       " 'https://www.amazon.com.br/Smartphone-Motorola-Moto-64GB-Ros%C3%AA/dp/B09LMRZV2W/ref=sr_1_34?keywords=motorola+mbp482&qid=1652903493&sr=8-34&ufe=app_do%3Aamzn1.fos.25548f35-0de7-44b3-b28e-0f56f3f96147',\n",
       " 'https://www.amazon.com.br/Carregador-Parede-Sa%C3%ADda-USB-C-MC-307/dp/B08PDPZGFZ/ref=sr_1_46?keywords=motorola+mbp482&qid=1652903493&sr=8-46&ufe=app_do%3Aamzn1.fos.db68964d-7c0e-4bb2-a95c-e5cb9e32eb12',\n",
       " 'https://www.amazon.com.br/Smartphone-Motorola-Moto-G60-128GB/dp/B094NY6S8T/ref=sr_1_45?keywords=motorola+mbp482&qid=1652903493&sr=8-45&ufe=app_do%3Aamzn1.fos.25548f35-0de7-44b3-b28e-0f56f3f96147',\n",
       " 'https://www.amazon.com.br/Eletr%C3%B4nica-Motorola-Video-Colorido-MBP481/dp/B07M9ZDJ7J/ref=sr_1_15?keywords=motorola+mbp482&qid=1652903493&sr=8-15&ufe=app_do%3Aamzn1.fos.25548f35-0de7-44b3-b28e-0f56f3f96147',\n",
       " 'https://www.amazon.com.br/Smartphone-Motorola-Moto-32GB-Pink/dp/B08YRNW7S7/ref=sr_1_21?keywords=motorola+mbp482&qid=1652903493&sr=8-21&ufe=app_do%3Aamzn1.fos.25548f35-0de7-44b3-b28e-0f56f3f96147',\n",
       " 'https://www.amazon.com.br/Smartphone-Motorola-Moto-128GB-Azul/dp/B09MSTWKS8/ref=sr_1_19?keywords=motorola+mbp482&qid=1652903493&sr=8-19&ufe=app_do%3Aamzn1.fos.25548f35-0de7-44b3-b28e-0f56f3f96147',\n",
       " 'https://www.amazon.com.br/Motorola-Bluetooth-confort%C3%A1veis-qualidade-m%C3%BAltiplos/dp/B081RHCD42/ref=sr_1_49?keywords=motorola+mbp482&qid=1652903493&sr=8-49&ufe=app_do%3Aamzn1.fos.4bddec23-2dcf-4403-8597-e1a02442043d',\n",
       " 'https://www.amazon.com.br/Carregador-Original-Turbo-Power-Anatel/dp/B09NDXRW7Q/ref=sr_1_48?keywords=motorola+mbp482&qid=1652903493&sr=8-48&ufe=app_do%3Aamzn1.fos.6a09f7ec-d911-4889-ad70-de8dd83c8a74',\n",
       " 'https://www.amazon.com.br/Motorola-MBP-36S-SC-Eletr%C3%B4nica/dp/B00NSF730O/ref=sr_1_11?keywords=motorola+mbp482&qid=1652903493&sr=8-11&ufe=app_do%3Aamzn1.fos.25548f35-0de7-44b3-b28e-0f56f3f96147',\n",
       " 'https://www.amazon.com.br/Carregador-Parede-20W-Sa%C3%ADda-MC-207/dp/B09C6NYKCG/ref=sr_1_42?keywords=motorola+mbp482&qid=1652903493&sr=8-42&ufe=app_do%3Aamzn1.fos.6a09f7ec-d911-4889-ad70-de8dd83c8a74',\n",
       " 'https://www.amazon.com.br/Carregador-Parede-Motorola-100-240V-SC-47/dp/B08D3W1ZVT/ref=sr_1_31?keywords=motorola+mbp482&qid=1652903493&sr=8-31&ufe=app_do%3Aamzn1.fos.6d798eae-cadf-45de-946a-f477d47705b9',\n",
       " 'https://www.amazon.com.br/Eletr%C3%B4nica-Motorola-Mbp36xl-Alcance-Noturna/dp/B01IRIVFRS/ref=sr_1_8?keywords=motorola+mbp482&qid=1652903493&sr=8-8&ufe=app_do%3Aamzn1.fos.25548f35-0de7-44b3-b28e-0f56f3f96147',\n",
       " 'https://www.amazon.com.br/Motorola-Baba-Eletronica-Ease34-Branco/dp/B08FVXB74T/ref=sr_1_10?keywords=motorola+mbp482&qid=1652903493&sr=8-10&ufe=app_do%3Aamzn1.fos.25548f35-0de7-44b3-b28e-0f56f3f96147',\n",
       " 'https://www.amazon.com.br/Bab%C3%A1-Eletr%C3%B4nica-Motorola-MBP482-Branca/dp/B07BBTDDNF/ref=sr_1_3?keywords=motorola+mbp482&qid=1652903493&sr=8-3&ufe=app_do%3Aamzn1.fos.25548f35-0de7-44b3-b28e-0f56f3f96147',\n",
       " 'https://www.amazon.com.br/Smartphone-Motorola-Moto-128GB-Preto/dp/B09V8B8CY7/ref=sr_1_5?keywords=motorola+mbp482&qid=1652903493&sr=8-5&ufe=app_do%3Aamzn1.fos.25548f35-0de7-44b3-b28e-0f56f3f96147',\n",
       " 'https://www.amazon.com.br/Smartphone-Motorola-Moto-128GB-Verde/dp/B09XC5W681/ref=sr_1_23?keywords=motorola+mbp482&qid=1652903493&sr=8-23&ufe=app_do%3Aamzn1.fos.25548f35-0de7-44b3-b28e-0f56f3f96147',\n",
       " 'https://www.amazon.com.br/Motorola-Moto-E7-Power-Vermelho/dp/B08XY4SN9W/ref=sr_1_37?keywords=motorola+mbp482&qid=1652903493&sr=8-37',\n",
       " 'https://www.amazon.com.br/Smartphone-Motorola-Edge-256GB-12GB/dp/B09RCJW6YD/ref=sr_1_30?keywords=motorola+mbp482&qid=1652903493&sr=8-30&ufe=app_do%3Aamzn1.fos.25548f35-0de7-44b3-b28e-0f56f3f96147',\n",
       " 'https://www.amazon.com.br/Celular-Motorola-Preto-128gb-Camera/dp/B09151QFWJ/ref=sr_1_47?keywords=motorola+mbp482&qid=1652903493&sr=8-47&ufe=app_do%3Aamzn1.fos.25548f35-0de7-44b3-b28e-0f56f3f96147',\n",
       " 'https://www.amazon.com.br/Dados-USB-C-Inbulk-Lifeproof-MO-SKN6473AIBI/dp/B07F7P9TQT/ref=sr_1_38?keywords=motorola+mbp482&qid=1652903493&sr=8-38',\n",
       " 'https://www.amazon.com.br/Dados-Micro-USB-Lifeproof-MO-SKN6461AIBI-Preto/dp/B07B41GCHY/ref=sr_1_36?keywords=motorola+mbp482&qid=1652903493&sr=8-36',\n",
       " 'https://www.amazon.com.br/Smartphone-Motorola-Moto-128GB-Grafite/dp/B09MSTCP4V/ref=sr_1_20?keywords=motorola+mbp482&qid=1652903493&sr=8-20&ufe=app_do%3Aamzn1.fos.25548f35-0de7-44b3-b28e-0f56f3f96147',\n",
       " 'https://www.amazon.com.br/Eletronica-Digital-MBP667A-Connect-Motorola/dp/B0731J6K8M/ref=sr_1_12?keywords=motorola+mbp482&qid=1652903493&sr=8-12&ufe=app_do%3Aamzn1.fos.25548f35-0de7-44b3-b28e-0f56f3f96147',\n",
       " 'https://www.amazon.com.br/Celular-Motorola-Moto-E7-Met%C3%A1lico/dp/B08WJP1QJ7/ref=sr_1_40?keywords=motorola+mbp482&qid=1652903493&sr=8-40',\n",
       " 'https://www.amazon.com.br/Estereo-Intra-Auricular-Microfone-Motorola-Sh006/dp/B06XX3Z8KS/ref=sr_1_43?keywords=motorola+mbp482&qid=1652903493&sr=8-43',\n",
       " 'https://www.amazon.com.br/Bab%C3%A1-Eletr%C3%B4nica-Motorola-MBP30A-Branca/dp/B08QFCNPXJ/ref=sr_1_4?keywords=motorola+mbp482&qid=1652903493&sr=8-4&ufe=app_do%3Aamzn1.fos.25548f35-0de7-44b3-b28e-0f56f3f96147',\n",
       " 'https://www.amazon.com.br/Smartphone-Motorola-Moto-128GB-Champagne/dp/B098KLF2SN/ref=sr_1_24?keywords=motorola+mbp482&qid=1652903493&sr=8-24&ufe=app_do%3Aamzn1.fos.25548f35-0de7-44b3-b28e-0f56f3f96147',\n",
       " 'https://www.amazon.com.br/Smartphone-Motorola-Moto-32GB-Cinza/dp/B09LDDHFZL/ref=sr_1_26?keywords=motorola+mbp482&qid=1652903493&sr=8-26&ufe=app_do%3Aamzn1.fos.25548f35-0de7-44b3-b28e-0f56f3f96147',\n",
       " 'https://www.amazon.com.br/Smartphone-Motorola-Moto-128GB-Azul/dp/B09V86PRFB/ref=sr_1_6?keywords=motorola+mbp482&qid=1652903493&sr=8-6&ufe=app_do%3Aamzn1.fos.25548f35-0de7-44b3-b28e-0f56f3f96147',\n",
       " 'https://www.amazon.com.br/Eletr%C3%B4nica-Digital-BB300-Multikids-Baby/dp/B07574YDHT/ref=sr_1_13?keywords=motorola+mbp482&qid=1652903493&sr=8-13&ufe=app_do%3Aamzn1.fos.25548f35-0de7-44b3-b28e-0f56f3f96147',\n",
       " 'https://www.amazon.com.br/Dados-Motorola-Original-Usb-C-Metro/dp/B0968P1CFC/ref=sr_1_33?keywords=motorola+mbp482&qid=1652903493&sr=8-33&ufe=app_do%3Aamzn1.fos.6d798eae-cadf-45de-946a-f477d47705b9',\n",
       " 'https://www.amazon.com.br/Ouvido-Motorola-Pulse-120-Microfone/dp/B085SP992B/ref=sr_1_39?keywords=motorola+mbp482&qid=1652903493&sr=8-39&ufe=app_do%3Aamzn1.fos.6121c6c4-c969-43ae-92f7-cc248fc6181d',\n",
       " 'https://www.amazon.com.br/Dados-USB-C-Lifeproof-MO-SKN6473AI-Preto/dp/B07B9CSKNR/ref=sr_1_35?keywords=motorola+mbp482&qid=1652903493&sr=8-35',\n",
       " 'https://www.amazon.com.br/Smartphone-Motorola-Moto-128GB-Azul/dp/B09KP11Z6V/ref=sr_1_7?keywords=motorola+mbp482&qid=1652903493&sr=8-7&ufe=app_do%3Aamzn1.fos.25548f35-0de7-44b3-b28e-0f56f3f96147',\n",
       " 'https://www.amazon.com.br/Smartphone-Motorola-Moto-128GB-Verde/dp/B09GGFDRYB/ref=sr_1_25?keywords=motorola+mbp482&qid=1652903493&sr=8-25&ufe=app_do%3Aamzn1.fos.25548f35-0de7-44b3-b28e-0f56f3f96147',\n",
       " 'https://www.amazon.com.br/Smartphone-Motorola-Moto-64GB-Grafite/dp/B09KYJ1HC3/ref=sr_1_22?keywords=motorola+mbp482&qid=1652903493&sr=8-22&ufe=app_do%3Aamzn1.fos.25548f35-0de7-44b3-b28e-0f56f3f96147',\n",
       " 'https://www.amazon.com.br/Estereo-Motorola-embalagem-econ%C3%B4mica-5590/dp/B084JKMD16/ref=sr_1_29?keywords=motorola+mbp482&qid=1652903493&sr=8-29',\n",
       " 'https://www.amazon.com.br/Smartphone-Motorola-Moto-32GB-Cinza/dp/B09K9NC943/ref=sr_1_9?keywords=motorola+mbp482&qid=1652903493&sr=8-9&ufe=app_do%3Aamzn1.fos.25548f35-0de7-44b3-b28e-0f56f3f96147',\n",
       " 'https://www.amazon.com.br/Eletronica-Digital-MBP667A-Connect-Motorola/dp/B0731J6K8M/ref=sr_1_11?keywords=motorola+mbp855&qid=1652903498&sr=8-11&ufe=app_do%3Aamzn1.fos.25548f35-0de7-44b3-b28e-0f56f3f96147',\n",
       " 'https://www.amazon.com.br/Motorola-Baby-Monitor-VM855-bidirecional/dp/B09D1Q395Z/ref=sr_1_13?keywords=motorola+mbp855&qid=1652903498&sr=8-13',\n",
       " 'https://www.amazon.com.br/Suporte-bab%C3%A1-eletr%C3%B4nica-Motorola-36XLBU/dp/B085Y9WGBS/ref=sr_1_20?keywords=motorola+mbp855&qid=1652903498&sr=8-20&ufe=app_do%3Aamzn1.fos.6121c6c4-c969-43ae-92f7-cc248fc6181d',\n",
       " 'https://www.amazon.com.br/Bab%C3%A1-Eletr%C3%B4nica-Motorola-MBP482-Branca/dp/B07BBTDDNF/ref=sr_1_6?keywords=motorola+mbp855&qid=1652903498&sr=8-6&ufe=app_do%3Aamzn1.fos.25548f35-0de7-44b3-b28e-0f56f3f96147',\n",
       " 'https://www.amazon.com.br/Motorola-Baby-Monitor-VM85-bidirecional/dp/B09D1DLK1D/ref=sr_1_21?keywords=motorola+mbp855&qid=1652903498&sr=8-21',\n",
       " 'https://www.amazon.com.br/Eletr%C3%B4nica-Motorola-Mbp-855-Connect-Noturna/dp/B01N807E5P/ref=sr_1_2?keywords=motorola+mbp855&qid=1652903498&sr=8-2&ufe=app_do%3Aamzn1.fos.25548f35-0de7-44b3-b28e-0f56f3f96147',\n",
       " 'https://www.amazon.com.br/Motorola-Baby-Monitor-VM855-bidirecional/dp/B09BP6TMMF/ref=sr_1_7?keywords=motorola+mbp855&qid=1652903498&sr=8-7',\n",
       " 'https://www.amazon.com.br/Eletronica-Motorola-MBP-855-Connect-Colorida/dp/B084QZ7JPF/ref=sr_1_1?keywords=motorola+mbp855&qid=1652903498&sr=8-1',\n",
       " 'https://www.amazon.com.br/Bab%C3%A1-Eletr%C3%B4nica-Motorola-MBP30A-Branca/dp/B08QFCNPXJ/ref=sr_1_4?keywords=motorola+mbp855&qid=1652903498&sr=8-4&ufe=app_do%3Aamzn1.fos.25548f35-0de7-44b3-b28e-0f56f3f96147',\n",
       " 'https://www.amazon.com.br/Camera-Alta-Resolu%C3%A7%C3%A3o-WIFI-Eletr%C3%B4nica/dp/B00SPCI7TG/ref=sr_1_15?keywords=motorola+mbp855&qid=1652903498&sr=8-15&ufe=app_do%3Aamzn1.fos.db68964d-7c0e-4bb2-a95c-e5cb9e32eb12',\n",
       " 'https://www.amazon.com.br/Eletr%C3%B4nica-Motorola-Video-Colorido-MBP481/dp/B07M9ZDJ7J/ref=sr_1_14?keywords=motorola+mbp855&qid=1652903498&sr=8-14&ufe=app_do%3Aamzn1.fos.25548f35-0de7-44b3-b28e-0f56f3f96147',\n",
       " 'https://www.amazon.com.br/Eletr%C3%B4nica-atualiza%C3%A7%C3%A3o-Bidirecional-Polegadas-Smartphone/dp/B09NQDPZRX/ref=sr_1_3?keywords=motorola+mbp855&qid=1652903498&sr=8-3&ufe=app_do%3Aamzn1.fos.25548f35-0de7-44b3-b28e-0f56f3f96147',\n",
       " 'https://www.amazon.com.br/Eletr%C3%B4nica-Motorola-Mbp36xl-Alcance-Noturna/dp/B01IRIVFRS/ref=sr_1_5?keywords=motorola+mbp855&qid=1652903498&sr=8-5&ufe=app_do%3Aamzn1.fos.25548f35-0de7-44b3-b28e-0f56f3f96147',\n",
       " 'https://www.amazon.com.br/C%C3%A2mera-3-2-Polegadas-V%C3%ADdeo-Sem/dp/B088MFFJ1H/ref=sr_1_12?keywords=motorola+mbp855&qid=1652903498&sr=8-12&ufe=app_do%3Aamzn1.fos.25548f35-0de7-44b3-b28e-0f56f3f96147',\n",
       " 'https://www.amazon.com.br/Motorola-MBP-36S-SC-Eletr%C3%B4nica/dp/B00NSF730O/ref=sr_1_10?keywords=motorola+mbp855&qid=1652903498&sr=8-10&ufe=app_do%3Aamzn1.fos.25548f35-0de7-44b3-b28e-0f56f3f96147',\n",
       " 'https://www.amazon.com.br/Bab%C3%A1-Eletr%C3%B4nica-MBP668Connect-Vis%C3%A3o-Noturna/dp/B078KHB3YW/ref=sr_1_9?keywords=motorola+mbp855&qid=1652903498&sr=8-9&ufe=app_do%3Aamzn1.fos.25548f35-0de7-44b3-b28e-0f56f3f96147',\n",
       " 'https://www.amazon.com.br/Motorola-Baba-Eletronica-Ease34-Branco/dp/B08FVXB74T/ref=sr_1_16?keywords=motorola+mbp855&qid=1652903498&sr=8-16&ufe=app_do%3Aamzn1.fos.25548f35-0de7-44b3-b28e-0f56f3f96147',\n",
       " 'https://www.amazon.com.br/Motorola-Bab%C3%A1-Eletr%C3%B4nica-AM24/dp/B09KMDWDZP/ref=sr_1_8?keywords=motorola+mbp855&qid=1652903498&sr=8-8&ufe=app_do%3Aamzn1.fos.25548f35-0de7-44b3-b28e-0f56f3f96147']"
      ]
     },
     "execution_count": 31,
     "metadata": {},
     "output_type": "execute_result"
    }
   ],
   "source": [
    "Urls_amazon"
   ]
  },
  {
   "cell_type": "code",
   "execution_count": 11,
   "metadata": {
    "pycharm": {
     "name": "#%%\n"
    }
   },
   "outputs": [],
   "source": [
    "New_urls = clean_link(Urls_amazon, 'GoPro')"
   ]
  },
  {
   "cell_type": "code",
   "execution_count": 12,
   "metadata": {
    "pycharm": {
     "name": "#%%\n"
    }
   },
   "outputs": [
    {
     "data": {
      "text/plain": "(43, 2)"
     },
     "execution_count": 12,
     "metadata": {},
     "output_type": "execute_result"
    }
   ],
   "source": [
    "New_urls.shape"
   ]
  },
  {
   "cell_type": "code",
   "execution_count": 13,
   "metadata": {
    "pycharm": {
     "name": "#%%\n"
    }
   },
   "outputs": [],
   "source": [
    "def search_atributes(url):\n",
    "    #Tempo para não haver o bloqueio\n",
    "    time.sleep(10)\n",
    "\n",
    "    #Entrando dentro do site com o driver\n",
    "    driver.get(url)\n",
    "\n",
    "    body_el = driver.find_element(By.CSS_SELECTOR, 'body')\n",
    "    html_str = body_el.get_attribute('innerHTML')\n",
    "\n",
    "    #Criando o Soup\n",
    "    soup = BeautifulSoup(html_str, 'html.parser')\n",
    "\n",
    "    #Fazendo o try do nome do vendedor\n",
    "    try:\n",
    "        seller = soup.find(id='sellerProfileTriggerId').text\n",
    "        seller_2 = soup.find(\"a\", attrs={\"id\":'sellerProfileTriggerId'}).text\n",
    "        Amazon_seller.append(seller)\n",
    "        Amazon_seller_2.append(seller_2)\n",
    "    except:\n",
    "        Amazon_seller.append(\"Erro\")\n",
    "        Amazon_seller_2.append(\"Erro\")\n",
    "\n",
    "    #Fazendo o try do preço do produto a vista\n",
    "    try:\n",
    "        price = soup.find(class_='a-offscreen').text\n",
    "        Amazon_price.append(price)\n",
    "\n",
    "        Div_Price = soup.find('div', attrs={\"data-feature-name\":\"corePrice\"})\n",
    "        price_2 = Div_Price.find(class_='a-offscreen').text\n",
    "        Amazon_price_2.append(price_2)\n",
    "    except:\n",
    "        Amazon_price.append(\"Erro\")\n",
    "        Amazon_price_2.append(\"Erro\")\n",
    "\n",
    "    #Pegando o título do produto\n",
    "    try:\n",
    "        title = soup.find(id='productTitle').text\n",
    "        Amazon_title.append(title)\n",
    "    except:\n",
    "        Amazon_title.append('Erro')\n",
    "\n",
    "    #Pegando o internacional\n",
    "    try:\n",
    "        soup.find('img', attrs={'data-a-hires':'https://images-na.ssl-images-amazon.com/images/G/32/foreignseller/Foreign_Seller_Badge_v2._CB403622375_.png'})\n",
    "        internacional_list.append(\"Internacional\")\n",
    "    except:\n",
    "        internacional_list.append(\"Nacional\")\n",
    "\n",
    "    #Fazendo o try para pegar o preço da parcela\n",
    "    try:\n",
    "        installment = soup.find(class_='best-offer-name a-text-bold').text\n",
    "        Amazon_installment_price_full.append(installment)\n",
    "        \n",
    "        Div_installment = soup.find('div', attrs={'id':'installmentCalculator_feature_div'})\n",
    "        Installment_2 = Div_installment.find(class_='best-offer-name a-text-bold').text\n",
    "        Amazon_installment_price_full_2.append(Installment_2)\n",
    "    except:\n",
    "        Amazon_installment_price_full.append(\"0\")\n",
    "        Amazon_installment_price_full_2.append(\"Erro\")\n",
    "\n",
    "    #Fazendo o try para ver se tem mais ofertas\n",
    "    try:\n",
    "        Main_Div_More_offers = soup.find('div', attrs={\"id\":\"olpLinkWidget_feature_div\"})\n",
    "        Div_More_offers = Main_Div_More_offers.find('div', attrs={'class':'a-section olp-link-widget'})\n",
    "        Div_More_offers_text = Div_More_offers.find('div', attrs={'class':'olp-text-box'}).text\n",
    "        more_offers_list.append(Div_More_offers_text)\n",
    "    except:\n",
    "        more_offers_list.append(\"Comparar outras 0 ofertas\")\n"
   ]
  },
  {
   "cell_type": "code",
   "execution_count": 14,
   "metadata": {
    "pycharm": {
     "name": "#%%\n"
    }
   },
   "outputs": [
    {
     "name": "stderr",
     "output_type": "stream",
     "text": [
      "100%|██████████| 43/43 [08:50<00:00, 12.33s/it]\n"
     ]
    }
   ],
   "source": [
    "for url in tqdm(New_urls['Urls_finais']):\n",
    "    search_atributes(url)"
   ]
  },
  {
   "cell_type": "code",
   "execution_count": 16,
   "metadata": {
    "pycharm": {
     "name": "#%%\n"
    }
   },
   "outputs": [
    {
     "name": "stdout",
     "output_type": "stream",
     "text": [
      "43\n",
      "43\n",
      "43\n",
      "43\n",
      "43\n",
      "43\n"
     ]
    }
   ],
   "source": [
    "print(len(Amazon_title))\n",
    "print(len(Amazon_price_2))\n",
    "print(len(Amazon_seller_2))\n",
    "print(len(more_offers_list))\n",
    "print(len(Amazon_installment_price_full_2))\n",
    "print(len(internacional_list))"
   ]
  },
  {
   "cell_type": "code",
   "execution_count": 18,
   "metadata": {
    "pycharm": {
     "name": "#%%\n"
    }
   },
   "outputs": [],
   "source": [
    "def dataset_amazon(url, sellers, preco, titulo, more_url, brand):\n",
    "    # Criando o DataFrame\n",
    "    Dataset_amazon = pd.DataFrame()\n",
    "\n",
    "    #\n",
    "    Hoje = pd.to_datetime('today', errors='ignore').date()\n",
    "\n",
    "    # Colocando os dados\n",
    "    Dataset_amazon['URL'] = url\n",
    "    \n",
    "    Dataset_amazon['DATE'] = Hoje\n",
    "\n",
    "    Dataset_amazon['MARKETPLACE'] = \"AMAZON\"\n",
    "\n",
    "    \n",
    "\n",
    "    #Arrumando a coluna de sellers\n",
    "    Dataset_amazon['SELLER'] = sellers\n",
    "    Dataset_amazon['SELLER'] = Dataset_amazon['SELLER'].str.replace(\"Erro\",\"Amazon\", regex=False)\n",
    "\n",
    "    #Arrumando o preço \n",
    "    Dataset_amazon['PRICE'] = preco\n",
    "    Dataset_amazon['PRICE'] = Dataset_amazon['PRICE'].str.replace(\".\",\"\", regex=True)\n",
    "    Dataset_amazon['PRICE'] = Dataset_amazon['PRICE'].str.replace(\"R$\",\"\", regex=False)\n",
    "    Dataset_amazon['PRICE'] = Dataset_amazon['PRICE'].str.replace(\",\",\".\", regex=True)\n",
    "    \n",
    "\n",
    "    #Arrumando os valores de installment \n",
    "    Dataset_amazon['INSTALLMENT FULL'] = Amazon_installment_price_full\n",
    "    Dataset_amazon['PARCEL'] = Dataset_amazon['INSTALLMENT FULL'].str.extract('(\\d+)')\n",
    "    Dataset_amazon['PARCEL'] = Dataset_amazon['PARCEL'].astype(\"int\")\n",
    "    Dataset_amazon['parcel_price_bruto'] = \\\n",
    "    Dataset_amazon['INSTALLMENT FULL'].str.partition(\"R$\")[2].str.partition(\" \")[2].str.partition(\" \")[0]\n",
    "    Dataset_amazon['Installment3'] = Dataset_amazon['parcel_price_bruto'].str.extract('(\\d+)')\n",
    "    Dataset_amazon['parcel_price_bruto'] = \\\n",
    "    Dataset_amazon['INSTALLMENT FULL'].str.partition(\"R$\")[2].str.partition(\" \")[2].str.partition(\" \")[0].str.partition(\",\")[2]\n",
    "    Dataset_amazon['Installment4'] = Dataset_amazon['parcel_price_bruto'].str.extract('(\\d+)')\n",
    "    Dataset_amazon['INSTALLMENT'] = Dataset_amazon['Installment3'] + \".\" + Dataset_amazon['Installment4']\n",
    "    Dataset_amazon['INSTALLMENT'] = Dataset_amazon['INSTALLMENT'].astype(\"float\")\n",
    "    Dataset_amazon['INSTALLMENT'] = Dataset_amazon['INSTALLMENT'].fillna(0)\n",
    "    Dataset_amazon['INSTALLMENT_PAYMENT'] = Dataset_amazon['PARCEL'] * Dataset_amazon['INSTALLMENT']\n",
    "\n",
    "\n",
    "    Dataset_amazon['ID'] = Dataset_amazon['URL'].str.partition('/dp/')[2].str.partition('/')[0]\n",
    "    Dataset_amazon['PRODUCT'] = titulo\n",
    "    Dataset_amazon['INTERNACIONAL'] = internacional_list\n",
    "\n",
    "    #Arrumando valores de mais sellers\n",
    "    Dataset_amazon['MORE'] = more_url\n",
    "    Dataset_amazon['MORE'] = Dataset_amazon['MORE'].str.partition(\"outras \")[2].str.partition(\" ofertas\")[0]\n",
    "    \n",
    "    Dataset_amazon['MORE'] = Dataset_amazon['MORE'].astype('int')\n",
    "    \n",
    "\n",
    "    Dataset_amazon = Dataset_amazon.drop(columns=[\"INSTALLMENT FULL\", \"Installment3\", \"Installment4\", \"parcel_price_bruto\"])\n",
    "\n",
    "    #Pegando os itens certos \n",
    "    Dataset_amazon = Dataset_amazon[Dataset_amazon[\"PRICE\"] != \"Erro\"]\n",
    "    Dataset_amazon['PRICE'] = Dataset_amazon['PRICE'].astype('float')\n",
    "\n",
    "\n",
    "    #Colocando na ordem correta\n",
    "    Dataset_amazon = Dataset_amazon[['DATE', 'URL', 'MARKETPLACE', 'SELLER', 'PRICE', 'PARCEL', 'INSTALLMENT', 'INSTALLMENT_PAYMENT', 'ID', 'PRODUCT','INTERNACIONAL', 'MORE']]\n",
    "\n",
    "    if brand == \"GoPro\":\n",
    "        Dataset_amazon = Dataset_amazon[Dataset_amazon['PRICE'] > 900]\n",
    "    elif brand == 'Motorola':\n",
    "        Dataset_amazon = Dataset_amazon[Dataset_amazon['PRICE'] > 70]\n",
    "    elif brand == 'Wacom':\n",
    "        Dataset_amazon = Dataset_amazon[Dataset_amazon['PRICE'] > 100]\n",
    "    \n",
    "\n",
    "    return Dataset_amazon"
   ]
  },
  {
   "cell_type": "code",
   "execution_count": 20,
   "metadata": {
    "pycharm": {
     "name": "#%%\n"
    }
   },
   "outputs": [],
   "source": [
    "Df_final = dataset_amazon(New_urls['Urls_finais'], Amazon_seller_2, Amazon_price_2, Amazon_title, more_offers_list, 'GoPro')"
   ]
  },
  {
   "cell_type": "code",
   "execution_count": 61,
   "outputs": [],
   "source": [
    "Df_final=  Df_final.reset_index(drop=True)"
   ],
   "metadata": {
    "collapsed": false,
    "pycharm": {
     "name": "#%%\n"
    }
   }
  },
  {
   "cell_type": "code",
   "execution_count": 62,
   "metadata": {
    "pycharm": {
     "name": "#%%\n"
    }
   },
   "outputs": [
    {
     "data": {
      "text/plain": "         DATE                                                URL MARKETPLACE  \\\n0  2022-05-21  https://www.amazon.com.br/Gopro-Black-prova-D%...      AMAZON   \n1  2022-05-21  https://www.amazon.com.br/GoPro-Frontal-HyperS...      AMAZON   \n2  2022-05-21  https://www.amazon.com.br/C%C3%A2mera-GoPro-HE...      AMAZON   \n3  2022-05-21  https://www.amazon.com.br/C%C3%A2mera-Cart%C3%...      AMAZON   \n4  2022-05-21  https://www.amazon.com.br/C%C3%A2mera-GoPro-Fr...      AMAZON   \n5  2022-05-21  https://www.amazon.com.br/C%C3%82MERA-GOPRO-BL...      AMAZON   \n6  2022-05-21  https://www.amazon.com.br/C%C3%A2mera-Digital-...      AMAZON   \n7  2022-05-21  https://www.amazon.com.br/Camera-DJI-Osmo-Acti...      AMAZON   \n\n       SELLER    PRICE  PARCEL  INSTALLMENT  INSTALLMENT_PAYMENT          ID  \\\n0  EOS IMPORT  2299.00      10       229.90               2299.0  B07WSRXMS8   \n1  EOS IMPORT  3207.25      10       320.77               3207.7  B09D15SFMQ   \n2      Amazon  4688.20      10       468.82               4688.2  B093JKGDJZ   \n3  EOS IMPORT  3000.00      10       300.00               3000.0  B08R2XCM9K   \n4  EOS IMPORT  2540.73      10       254.10               2541.0  B08KXN6BNH   \n5  EOS IMPORT  2599.00      10       259.90               2599.0  B08ZSVP9T7   \n6  EOS IMPORT  3799.00      10       379.90               3799.0  B087ZP2GW4   \n7  HuaYe Tech  1982.90      10       198.29               1982.9  B07RJMK2GV   \n\n                                             PRODUCT  INTERNACIONAL  \n0          Gopro Hero 8 Black 4k à prova D'água C...  Internacional  \n1          Câmera GoPro HERO10 Black à Prova com ...  Internacional  \n2          Câmera GoPro HERO9 Black - Kit Trip Pr...  Internacional  \n3          Câmera GoPro HERO9 Black à Prova D'águ...  Internacional  \n4          Câmera GoPro HERO9 Black à Prova D'águ...  Internacional  \n5          CÂMERA GOPRO HERO 8 BLACK ESSENCIAL BU...  Internacional  \n6          Câmera Digital GoPro Max 360o - CHDHZ-...  Internacional  \n7          Camera DJI Osmo Action 4K Sensor CMOS ...  Internacional  ",
      "text/html": "<div>\n<style scoped>\n    .dataframe tbody tr th:only-of-type {\n        vertical-align: middle;\n    }\n\n    .dataframe tbody tr th {\n        vertical-align: top;\n    }\n\n    .dataframe thead th {\n        text-align: right;\n    }\n</style>\n<table border=\"1\" class=\"dataframe\">\n  <thead>\n    <tr style=\"text-align: right;\">\n      <th></th>\n      <th>DATE</th>\n      <th>URL</th>\n      <th>MARKETPLACE</th>\n      <th>SELLER</th>\n      <th>PRICE</th>\n      <th>PARCEL</th>\n      <th>INSTALLMENT</th>\n      <th>INSTALLMENT_PAYMENT</th>\n      <th>ID</th>\n      <th>PRODUCT</th>\n      <th>INTERNACIONAL</th>\n    </tr>\n  </thead>\n  <tbody>\n    <tr>\n      <th>0</th>\n      <td>2022-05-21</td>\n      <td>https://www.amazon.com.br/Gopro-Black-prova-D%...</td>\n      <td>AMAZON</td>\n      <td>EOS IMPORT</td>\n      <td>2299.00</td>\n      <td>10</td>\n      <td>229.90</td>\n      <td>2299.0</td>\n      <td>B07WSRXMS8</td>\n      <td>Gopro Hero 8 Black 4k à prova D'água C...</td>\n      <td>Internacional</td>\n    </tr>\n    <tr>\n      <th>1</th>\n      <td>2022-05-21</td>\n      <td>https://www.amazon.com.br/GoPro-Frontal-HyperS...</td>\n      <td>AMAZON</td>\n      <td>EOS IMPORT</td>\n      <td>3207.25</td>\n      <td>10</td>\n      <td>320.77</td>\n      <td>3207.7</td>\n      <td>B09D15SFMQ</td>\n      <td>Câmera GoPro HERO10 Black à Prova com ...</td>\n      <td>Internacional</td>\n    </tr>\n    <tr>\n      <th>2</th>\n      <td>2022-05-21</td>\n      <td>https://www.amazon.com.br/C%C3%A2mera-GoPro-HE...</td>\n      <td>AMAZON</td>\n      <td>Amazon</td>\n      <td>4688.20</td>\n      <td>10</td>\n      <td>468.82</td>\n      <td>4688.2</td>\n      <td>B093JKGDJZ</td>\n      <td>Câmera GoPro HERO9 Black - Kit Trip Pr...</td>\n      <td>Internacional</td>\n    </tr>\n    <tr>\n      <th>3</th>\n      <td>2022-05-21</td>\n      <td>https://www.amazon.com.br/C%C3%A2mera-Cart%C3%...</td>\n      <td>AMAZON</td>\n      <td>EOS IMPORT</td>\n      <td>3000.00</td>\n      <td>10</td>\n      <td>300.00</td>\n      <td>3000.0</td>\n      <td>B08R2XCM9K</td>\n      <td>Câmera GoPro HERO9 Black à Prova D'águ...</td>\n      <td>Internacional</td>\n    </tr>\n    <tr>\n      <th>4</th>\n      <td>2022-05-21</td>\n      <td>https://www.amazon.com.br/C%C3%A2mera-GoPro-Fr...</td>\n      <td>AMAZON</td>\n      <td>EOS IMPORT</td>\n      <td>2540.73</td>\n      <td>10</td>\n      <td>254.10</td>\n      <td>2541.0</td>\n      <td>B08KXN6BNH</td>\n      <td>Câmera GoPro HERO9 Black à Prova D'águ...</td>\n      <td>Internacional</td>\n    </tr>\n    <tr>\n      <th>5</th>\n      <td>2022-05-21</td>\n      <td>https://www.amazon.com.br/C%C3%82MERA-GOPRO-BL...</td>\n      <td>AMAZON</td>\n      <td>EOS IMPORT</td>\n      <td>2599.00</td>\n      <td>10</td>\n      <td>259.90</td>\n      <td>2599.0</td>\n      <td>B08ZSVP9T7</td>\n      <td>CÂMERA GOPRO HERO 8 BLACK ESSENCIAL BU...</td>\n      <td>Internacional</td>\n    </tr>\n    <tr>\n      <th>6</th>\n      <td>2022-05-21</td>\n      <td>https://www.amazon.com.br/C%C3%A2mera-Digital-...</td>\n      <td>AMAZON</td>\n      <td>EOS IMPORT</td>\n      <td>3799.00</td>\n      <td>10</td>\n      <td>379.90</td>\n      <td>3799.0</td>\n      <td>B087ZP2GW4</td>\n      <td>Câmera Digital GoPro Max 360o - CHDHZ-...</td>\n      <td>Internacional</td>\n    </tr>\n    <tr>\n      <th>7</th>\n      <td>2022-05-21</td>\n      <td>https://www.amazon.com.br/Camera-DJI-Osmo-Acti...</td>\n      <td>AMAZON</td>\n      <td>HuaYe Tech</td>\n      <td>1982.90</td>\n      <td>10</td>\n      <td>198.29</td>\n      <td>1982.9</td>\n      <td>B07RJMK2GV</td>\n      <td>Camera DJI Osmo Action 4K Sensor CMOS ...</td>\n      <td>Internacional</td>\n    </tr>\n  </tbody>\n</table>\n</div>"
     },
     "execution_count": 62,
     "metadata": {},
     "output_type": "execute_result"
    }
   ],
   "source": [
    "Df_final"
   ]
  },
  {
   "cell_type": "code",
   "execution_count": 40,
   "metadata": {
    "pycharm": {
     "name": "#%%\n"
    }
   },
   "outputs": [],
   "source": [
    "Df_final.to_excel(r\"C:\\Users\\pedro\\Documents\\Turte Brand Protection\\Turtle_Thinker_Alpha_0.1\\Amazon_Motorola.xlsx\", index=False)"
   ]
  },
  {
   "cell_type": "code",
   "execution_count": 21,
   "metadata": {
    "pycharm": {
     "name": "#%%\n"
    }
   },
   "outputs": [
    {
     "data": {
      "text/plain": [
       "DATE                    object\n",
       "URL                     object\n",
       "MARKETPLACE             object\n",
       "SELLER                  object\n",
       "PRICE                  float64\n",
       "PARCEL                   int32\n",
       "INSTALLMENT            float64\n",
       "INSTALLMENT_PAYMENT    float64\n",
       "ID                      object\n",
       "PRODUCT                 object\n",
       "INTERNACIONAL           object\n",
       "MORE                     int32\n",
       "dtype: object"
      ]
     },
     "execution_count": 21,
     "metadata": {},
     "output_type": "execute_result"
    }
   ],
   "source": [
    "Df_final.dtypes"
   ]
  },
  {
   "cell_type": "code",
   "execution_count": 22,
   "metadata": {
    "pycharm": {
     "name": "#%%\n"
    }
   },
   "outputs": [
    {
     "data": {
      "text/plain": "          DATE                                                URL MARKETPLACE  \\\n3   2022-05-21  https://www.amazon.com.br/Gopro-Black-prova-D%...      AMAZON   \n7   2022-05-21  https://www.amazon.com.br/GoPro-Frontal-HyperS...      AMAZON   \n13  2022-05-21  https://www.amazon.com.br/C%C3%A2mera-Cart%C3%...      AMAZON   \n14  2022-05-21  https://www.amazon.com.br/C%C3%A2mera-GoPro-Fr...      AMAZON   \n18  2022-05-21  https://www.amazon.com.br/C%C3%82MERA-GOPRO-BL...      AMAZON   \n42  2022-05-21  https://www.amazon.com.br/Camera-DJI-Osmo-Acti...      AMAZON   \n\n        SELLER    PRICE  PARCEL  INSTALLMENT  INSTALLMENT_PAYMENT          ID  \\\n3   EOS IMPORT  2299.00      10       229.90               2299.0  B07WSRXMS8   \n7   EOS IMPORT  3207.25      10       320.77               3207.7  B09D15SFMQ   \n13  EOS IMPORT  3000.00      10       300.00               3000.0  B08R2XCM9K   \n14  EOS IMPORT  2540.73      10       254.10               2541.0  B08KXN6BNH   \n18  EOS IMPORT  2599.00      10       259.90               2599.0  B08ZSVP9T7   \n42  HuaYe Tech  1982.90      10       198.29               1982.9  B07RJMK2GV   \n\n                                              PRODUCT  INTERNACIONAL  MORE  \n3           Gopro Hero 8 Black 4k à prova D'água C...  Internacional     4  \n7           Câmera GoPro HERO10 Black à Prova com ...  Internacional     5  \n13          Câmera GoPro HERO9 Black à Prova D'águ...  Internacional     2  \n14          Câmera GoPro HERO9 Black à Prova D'águ...  Internacional     5  \n18          CÂMERA GOPRO HERO 8 BLACK ESSENCIAL BU...  Internacional     5  \n42          Camera DJI Osmo Action 4K Sensor CMOS ...  Internacional     7  ",
      "text/html": "<div>\n<style scoped>\n    .dataframe tbody tr th:only-of-type {\n        vertical-align: middle;\n    }\n\n    .dataframe tbody tr th {\n        vertical-align: top;\n    }\n\n    .dataframe thead th {\n        text-align: right;\n    }\n</style>\n<table border=\"1\" class=\"dataframe\">\n  <thead>\n    <tr style=\"text-align: right;\">\n      <th></th>\n      <th>DATE</th>\n      <th>URL</th>\n      <th>MARKETPLACE</th>\n      <th>SELLER</th>\n      <th>PRICE</th>\n      <th>PARCEL</th>\n      <th>INSTALLMENT</th>\n      <th>INSTALLMENT_PAYMENT</th>\n      <th>ID</th>\n      <th>PRODUCT</th>\n      <th>INTERNACIONAL</th>\n      <th>MORE</th>\n    </tr>\n  </thead>\n  <tbody>\n    <tr>\n      <th>3</th>\n      <td>2022-05-21</td>\n      <td>https://www.amazon.com.br/Gopro-Black-prova-D%...</td>\n      <td>AMAZON</td>\n      <td>EOS IMPORT</td>\n      <td>2299.00</td>\n      <td>10</td>\n      <td>229.90</td>\n      <td>2299.0</td>\n      <td>B07WSRXMS8</td>\n      <td>Gopro Hero 8 Black 4k à prova D'água C...</td>\n      <td>Internacional</td>\n      <td>4</td>\n    </tr>\n    <tr>\n      <th>7</th>\n      <td>2022-05-21</td>\n      <td>https://www.amazon.com.br/GoPro-Frontal-HyperS...</td>\n      <td>AMAZON</td>\n      <td>EOS IMPORT</td>\n      <td>3207.25</td>\n      <td>10</td>\n      <td>320.77</td>\n      <td>3207.7</td>\n      <td>B09D15SFMQ</td>\n      <td>Câmera GoPro HERO10 Black à Prova com ...</td>\n      <td>Internacional</td>\n      <td>5</td>\n    </tr>\n    <tr>\n      <th>13</th>\n      <td>2022-05-21</td>\n      <td>https://www.amazon.com.br/C%C3%A2mera-Cart%C3%...</td>\n      <td>AMAZON</td>\n      <td>EOS IMPORT</td>\n      <td>3000.00</td>\n      <td>10</td>\n      <td>300.00</td>\n      <td>3000.0</td>\n      <td>B08R2XCM9K</td>\n      <td>Câmera GoPro HERO9 Black à Prova D'águ...</td>\n      <td>Internacional</td>\n      <td>2</td>\n    </tr>\n    <tr>\n      <th>14</th>\n      <td>2022-05-21</td>\n      <td>https://www.amazon.com.br/C%C3%A2mera-GoPro-Fr...</td>\n      <td>AMAZON</td>\n      <td>EOS IMPORT</td>\n      <td>2540.73</td>\n      <td>10</td>\n      <td>254.10</td>\n      <td>2541.0</td>\n      <td>B08KXN6BNH</td>\n      <td>Câmera GoPro HERO9 Black à Prova D'águ...</td>\n      <td>Internacional</td>\n      <td>5</td>\n    </tr>\n    <tr>\n      <th>18</th>\n      <td>2022-05-21</td>\n      <td>https://www.amazon.com.br/C%C3%82MERA-GOPRO-BL...</td>\n      <td>AMAZON</td>\n      <td>EOS IMPORT</td>\n      <td>2599.00</td>\n      <td>10</td>\n      <td>259.90</td>\n      <td>2599.0</td>\n      <td>B08ZSVP9T7</td>\n      <td>CÂMERA GOPRO HERO 8 BLACK ESSENCIAL BU...</td>\n      <td>Internacional</td>\n      <td>5</td>\n    </tr>\n    <tr>\n      <th>42</th>\n      <td>2022-05-21</td>\n      <td>https://www.amazon.com.br/Camera-DJI-Osmo-Acti...</td>\n      <td>AMAZON</td>\n      <td>HuaYe Tech</td>\n      <td>1982.90</td>\n      <td>10</td>\n      <td>198.29</td>\n      <td>1982.9</td>\n      <td>B07RJMK2GV</td>\n      <td>Camera DJI Osmo Action 4K Sensor CMOS ...</td>\n      <td>Internacional</td>\n      <td>7</td>\n    </tr>\n  </tbody>\n</table>\n</div>"
     },
     "execution_count": 22,
     "metadata": {},
     "output_type": "execute_result"
    }
   ],
   "source": [
    "Df_more_offers = Df_final[Df_final['MORE'] != 0]\n",
    "Df_more_offers"
   ]
  },
  {
   "cell_type": "code",
   "execution_count": 23,
   "metadata": {
    "pycharm": {
     "name": "#%%\n"
    }
   },
   "outputs": [],
   "source": [
    "Amazon_ID_More = []"
   ]
  },
  {
   "cell_type": "code",
   "execution_count": 24,
   "metadata": {
    "pycharm": {
     "name": "#%%\n"
    }
   },
   "outputs": [],
   "source": [
    "def search_more_offers(ASIN):\n",
    "    global Amazon_seller_more\n",
    "    \n",
    "    time.sleep(5)\n",
    "\n",
    "    new_url = \"https://www.amazon.com.br/gp/product/ajax/?asin=\" + ASIN + \"&pageno=1&experienceId=aodAjaxMain\"\n",
    "\n",
    "    driver.get(new_url)\n",
    "    \n",
    "    time.sleep(5)\n",
    "\n",
    "    body_el = driver.find_element(By.CSS_SELECTOR, 'body')\n",
    "    html_str = body_el.get_attribute('innerHTML')\n",
    "\n",
    "    Soup = BeautifulSoup(html_str, 'html.parser')\n",
    "\n",
    "    for seller in Soup.find_all(class_='a-size-small a-link-normal')[4:]:\n",
    "        Amazon_seller_more.append(seller.text)\n",
    "        \n",
    "\n",
    "    Amazon_seller_more =  [s for s in Amazon_seller_more if not 'Política de devolução' in s]\n",
    "    Amazon_seller_more =  [s for s in Amazon_seller_more if not 'Apagar tudo' in s]\n",
    "    Amazon_seller_more =  [s for s in Amazon_seller_more if len(s) > 1]\n",
    "\n",
    "    for price in Soup.find_all(class_='a-offscreen')[2:]:\n",
    "        Amazon_price_more.append(price.text)\n",
    "        Amazon_ID_More.append(ASIN)"
   ]
  },
  {
   "cell_type": "code",
   "execution_count": 25,
   "metadata": {
    "pycharm": {
     "name": "#%%\n"
    }
   },
   "outputs": [
    {
     "name": "stderr",
     "output_type": "stream",
     "text": [
      "100%|██████████| 6/6 [01:05<00:00, 11.00s/it]\n"
     ]
    }
   ],
   "source": [
    "for url in tqdm(Df_more_offers['ID']):\n",
    "    search_more_offers(url)"
   ]
  },
  {
   "cell_type": "code",
   "execution_count": 26,
   "metadata": {
    "pycharm": {
     "name": "#%%\n"
    }
   },
   "outputs": [
    {
     "name": "stdout",
     "output_type": "stream",
     "text": [
      "21\n",
      "21\n",
      "21\n"
     ]
    }
   ],
   "source": [
    "print(len(Amazon_seller_more))\n",
    "print(len(Amazon_ID_More))\n",
    "print(len(Amazon_price_more))"
   ]
  },
  {
   "cell_type": "code",
   "execution_count": 148,
   "metadata": {
    "pycharm": {
     "name": "#%%\n"
    }
   },
   "outputs": [
    {
     "data": {
      "text/plain": "            ID        DATE MARKETPLACE                      SELLER    PRICE  \\\n0   B07WSRXMS8  2022-05-21      AMAZON                LIVE IMPORTS  2299.00   \n1   B07WSRXMS8  2022-05-21      AMAZON                 King Pro St  2289.00   \n2   B07WSRXMS8  2022-05-21      AMAZON              GRUPO MAVERICK  2599.00   \n3   B09D15SFMQ  2022-05-21      AMAZON                LIVE IMPORTS  3207.25   \n4   B09D15SFMQ  2022-05-21      AMAZON                 King Pro St  3219.00   \n5   B09D15SFMQ  2022-05-21      AMAZON              GRUPO MAVERICK  4299.99   \n6   B09D15SFMQ  2022-05-21      AMAZON                     MeuDome  4799.00   \n7   B08R2XCM9K  2022-05-21      AMAZON                  EOS IMPORT  2999.00   \n8   B08KXN6BNH  2022-05-21      AMAZON                 King Pro St  2599.00   \n9   B08KXN6BNH  2022-05-21      AMAZON                 King Pro St  2739.00   \n10  B08KXN6BNH  2022-05-21      AMAZON              GRUPO MAVERICK  3399.99   \n11  B08ZSVP9T7  2022-05-21      AMAZON                  EOS IMPORT  2599.00   \n12  B08ZSVP9T7  2022-05-21      AMAZON                LIVE IMPORTS  2599.00   \n13  B08ZSVP9T7  2022-05-21      AMAZON                LIVE IMPORTS  2599.00   \n14  B08ZSVP9T7  2022-05-21      AMAZON              GRUPO MAVERICK  3199.99   \n15  B07RJMK2GV  2022-05-21      AMAZON                    QanHorse  1983.00   \n16  B07RJMK2GV  2022-05-21      AMAZON   Xalo Comercio de Produtos  2420.00   \n17  B07RJMK2GV  2022-05-21      AMAZON                     BC INFO  2712.67   \n18  B07RJMK2GV  2022-05-21      AMAZON     Bits & Bytes Tecnologia  2851.27   \n19  B07RJMK2GV  2022-05-21      AMAZON              Elefante Store  3605.23   \n20  B07RJMK2GV  2022-05-21      AMAZON           DigitalShoppStore  4100.00   \n\n    PARCEL  INSTALLMENT  INSTALLMENT_PAYMENT INTERNACIONAL  \\\n0       10      229.900              22990.0          ERRO   \n1       10      228.900              22890.0          ERRO   \n2       10      259.900              25990.0          ERRO   \n3       10      320.725              32072.5          ERRO   \n4       10      321.900              32190.0          ERRO   \n5       10      429.999              42999.9          ERRO   \n6       10      479.900              47990.0          ERRO   \n7       10      299.900              29990.0          ERRO   \n8       10      259.900              25990.0          ERRO   \n9       10      273.900              27390.0          ERRO   \n10      10      339.999              33999.9          ERRO   \n11      10      259.900              25990.0          ERRO   \n12      10      259.900              25990.0          ERRO   \n13      10      259.900              25990.0          ERRO   \n14      10      319.999              31999.9          ERRO   \n15      10      198.300              19830.0          ERRO   \n16      10      242.000              24200.0          ERRO   \n17      10      271.267              27126.7          ERRO   \n18      10      285.127              28512.7          ERRO   \n19      10      360.523              36052.3          ERRO   \n20      10      410.000              41000.0          ERRO   \n\n                                                  URL  \\\n0   https://www.amazon.com.br/Gopro-Black-prova-D%...   \n1   https://www.amazon.com.br/Gopro-Black-prova-D%...   \n2   https://www.amazon.com.br/Gopro-Black-prova-D%...   \n3   https://www.amazon.com.br/GoPro-Frontal-HyperS...   \n4   https://www.amazon.com.br/GoPro-Frontal-HyperS...   \n5   https://www.amazon.com.br/GoPro-Frontal-HyperS...   \n6   https://www.amazon.com.br/GoPro-Frontal-HyperS...   \n7   https://www.amazon.com.br/C%C3%A2mera-Cart%C3%...   \n8   https://www.amazon.com.br/C%C3%A2mera-GoPro-Fr...   \n9   https://www.amazon.com.br/C%C3%A2mera-GoPro-Fr...   \n10  https://www.amazon.com.br/C%C3%A2mera-GoPro-Fr...   \n11  https://www.amazon.com.br/C%C3%82MERA-GOPRO-BL...   \n12  https://www.amazon.com.br/C%C3%82MERA-GOPRO-BL...   \n13  https://www.amazon.com.br/C%C3%82MERA-GOPRO-BL...   \n14  https://www.amazon.com.br/C%C3%82MERA-GOPRO-BL...   \n15  https://www.amazon.com.br/Camera-DJI-Osmo-Acti...   \n16  https://www.amazon.com.br/Camera-DJI-Osmo-Acti...   \n17  https://www.amazon.com.br/Camera-DJI-Osmo-Acti...   \n18  https://www.amazon.com.br/Camera-DJI-Osmo-Acti...   \n19  https://www.amazon.com.br/Camera-DJI-Osmo-Acti...   \n20  https://www.amazon.com.br/Camera-DJI-Osmo-Acti...   \n\n                                              PRODUCT  \n0           Gopro Hero 8 Black 4k à prova D'água C...  \n1           Gopro Hero 8 Black 4k à prova D'água C...  \n2           Gopro Hero 8 Black 4k à prova D'água C...  \n3           Câmera GoPro HERO10 Black à Prova com ...  \n4           Câmera GoPro HERO10 Black à Prova com ...  \n5           Câmera GoPro HERO10 Black à Prova com ...  \n6           Câmera GoPro HERO10 Black à Prova com ...  \n7           Câmera GoPro HERO9 Black à Prova D'águ...  \n8           Câmera GoPro HERO9 Black à Prova D'águ...  \n9           Câmera GoPro HERO9 Black à Prova D'águ...  \n10          Câmera GoPro HERO9 Black à Prova D'águ...  \n11          CÂMERA GOPRO HERO 8 BLACK ESSENCIAL BU...  \n12          CÂMERA GOPRO HERO 8 BLACK ESSENCIAL BU...  \n13          CÂMERA GOPRO HERO 8 BLACK ESSENCIAL BU...  \n14          CÂMERA GOPRO HERO 8 BLACK ESSENCIAL BU...  \n15          Camera DJI Osmo Action 4K Sensor CMOS ...  \n16          Camera DJI Osmo Action 4K Sensor CMOS ...  \n17          Camera DJI Osmo Action 4K Sensor CMOS ...  \n18          Camera DJI Osmo Action 4K Sensor CMOS ...  \n19          Camera DJI Osmo Action 4K Sensor CMOS ...  \n20          Camera DJI Osmo Action 4K Sensor CMOS ...  ",
      "text/html": "<div>\n<style scoped>\n    .dataframe tbody tr th:only-of-type {\n        vertical-align: middle;\n    }\n\n    .dataframe tbody tr th {\n        vertical-align: top;\n    }\n\n    .dataframe thead th {\n        text-align: right;\n    }\n</style>\n<table border=\"1\" class=\"dataframe\">\n  <thead>\n    <tr style=\"text-align: right;\">\n      <th></th>\n      <th>ID</th>\n      <th>DATE</th>\n      <th>MARKETPLACE</th>\n      <th>SELLER</th>\n      <th>PRICE</th>\n      <th>PARCEL</th>\n      <th>INSTALLMENT</th>\n      <th>INSTALLMENT_PAYMENT</th>\n      <th>INTERNACIONAL</th>\n      <th>URL</th>\n      <th>PRODUCT</th>\n    </tr>\n  </thead>\n  <tbody>\n    <tr>\n      <th>0</th>\n      <td>B07WSRXMS8</td>\n      <td>2022-05-21</td>\n      <td>AMAZON</td>\n      <td>LIVE IMPORTS</td>\n      <td>2299.00</td>\n      <td>10</td>\n      <td>229.900</td>\n      <td>22990.0</td>\n      <td>ERRO</td>\n      <td>https://www.amazon.com.br/Gopro-Black-prova-D%...</td>\n      <td>Gopro Hero 8 Black 4k à prova D'água C...</td>\n    </tr>\n    <tr>\n      <th>1</th>\n      <td>B07WSRXMS8</td>\n      <td>2022-05-21</td>\n      <td>AMAZON</td>\n      <td>King Pro St</td>\n      <td>2289.00</td>\n      <td>10</td>\n      <td>228.900</td>\n      <td>22890.0</td>\n      <td>ERRO</td>\n      <td>https://www.amazon.com.br/Gopro-Black-prova-D%...</td>\n      <td>Gopro Hero 8 Black 4k à prova D'água C...</td>\n    </tr>\n    <tr>\n      <th>2</th>\n      <td>B07WSRXMS8</td>\n      <td>2022-05-21</td>\n      <td>AMAZON</td>\n      <td>GRUPO MAVERICK</td>\n      <td>2599.00</td>\n      <td>10</td>\n      <td>259.900</td>\n      <td>25990.0</td>\n      <td>ERRO</td>\n      <td>https://www.amazon.com.br/Gopro-Black-prova-D%...</td>\n      <td>Gopro Hero 8 Black 4k à prova D'água C...</td>\n    </tr>\n    <tr>\n      <th>3</th>\n      <td>B09D15SFMQ</td>\n      <td>2022-05-21</td>\n      <td>AMAZON</td>\n      <td>LIVE IMPORTS</td>\n      <td>3207.25</td>\n      <td>10</td>\n      <td>320.725</td>\n      <td>32072.5</td>\n      <td>ERRO</td>\n      <td>https://www.amazon.com.br/GoPro-Frontal-HyperS...</td>\n      <td>Câmera GoPro HERO10 Black à Prova com ...</td>\n    </tr>\n    <tr>\n      <th>4</th>\n      <td>B09D15SFMQ</td>\n      <td>2022-05-21</td>\n      <td>AMAZON</td>\n      <td>King Pro St</td>\n      <td>3219.00</td>\n      <td>10</td>\n      <td>321.900</td>\n      <td>32190.0</td>\n      <td>ERRO</td>\n      <td>https://www.amazon.com.br/GoPro-Frontal-HyperS...</td>\n      <td>Câmera GoPro HERO10 Black à Prova com ...</td>\n    </tr>\n    <tr>\n      <th>5</th>\n      <td>B09D15SFMQ</td>\n      <td>2022-05-21</td>\n      <td>AMAZON</td>\n      <td>GRUPO MAVERICK</td>\n      <td>4299.99</td>\n      <td>10</td>\n      <td>429.999</td>\n      <td>42999.9</td>\n      <td>ERRO</td>\n      <td>https://www.amazon.com.br/GoPro-Frontal-HyperS...</td>\n      <td>Câmera GoPro HERO10 Black à Prova com ...</td>\n    </tr>\n    <tr>\n      <th>6</th>\n      <td>B09D15SFMQ</td>\n      <td>2022-05-21</td>\n      <td>AMAZON</td>\n      <td>MeuDome</td>\n      <td>4799.00</td>\n      <td>10</td>\n      <td>479.900</td>\n      <td>47990.0</td>\n      <td>ERRO</td>\n      <td>https://www.amazon.com.br/GoPro-Frontal-HyperS...</td>\n      <td>Câmera GoPro HERO10 Black à Prova com ...</td>\n    </tr>\n    <tr>\n      <th>7</th>\n      <td>B08R2XCM9K</td>\n      <td>2022-05-21</td>\n      <td>AMAZON</td>\n      <td>EOS IMPORT</td>\n      <td>2999.00</td>\n      <td>10</td>\n      <td>299.900</td>\n      <td>29990.0</td>\n      <td>ERRO</td>\n      <td>https://www.amazon.com.br/C%C3%A2mera-Cart%C3%...</td>\n      <td>Câmera GoPro HERO9 Black à Prova D'águ...</td>\n    </tr>\n    <tr>\n      <th>8</th>\n      <td>B08KXN6BNH</td>\n      <td>2022-05-21</td>\n      <td>AMAZON</td>\n      <td>King Pro St</td>\n      <td>2599.00</td>\n      <td>10</td>\n      <td>259.900</td>\n      <td>25990.0</td>\n      <td>ERRO</td>\n      <td>https://www.amazon.com.br/C%C3%A2mera-GoPro-Fr...</td>\n      <td>Câmera GoPro HERO9 Black à Prova D'águ...</td>\n    </tr>\n    <tr>\n      <th>9</th>\n      <td>B08KXN6BNH</td>\n      <td>2022-05-21</td>\n      <td>AMAZON</td>\n      <td>King Pro St</td>\n      <td>2739.00</td>\n      <td>10</td>\n      <td>273.900</td>\n      <td>27390.0</td>\n      <td>ERRO</td>\n      <td>https://www.amazon.com.br/C%C3%A2mera-GoPro-Fr...</td>\n      <td>Câmera GoPro HERO9 Black à Prova D'águ...</td>\n    </tr>\n    <tr>\n      <th>10</th>\n      <td>B08KXN6BNH</td>\n      <td>2022-05-21</td>\n      <td>AMAZON</td>\n      <td>GRUPO MAVERICK</td>\n      <td>3399.99</td>\n      <td>10</td>\n      <td>339.999</td>\n      <td>33999.9</td>\n      <td>ERRO</td>\n      <td>https://www.amazon.com.br/C%C3%A2mera-GoPro-Fr...</td>\n      <td>Câmera GoPro HERO9 Black à Prova D'águ...</td>\n    </tr>\n    <tr>\n      <th>11</th>\n      <td>B08ZSVP9T7</td>\n      <td>2022-05-21</td>\n      <td>AMAZON</td>\n      <td>EOS IMPORT</td>\n      <td>2599.00</td>\n      <td>10</td>\n      <td>259.900</td>\n      <td>25990.0</td>\n      <td>ERRO</td>\n      <td>https://www.amazon.com.br/C%C3%82MERA-GOPRO-BL...</td>\n      <td>CÂMERA GOPRO HERO 8 BLACK ESSENCIAL BU...</td>\n    </tr>\n    <tr>\n      <th>12</th>\n      <td>B08ZSVP9T7</td>\n      <td>2022-05-21</td>\n      <td>AMAZON</td>\n      <td>LIVE IMPORTS</td>\n      <td>2599.00</td>\n      <td>10</td>\n      <td>259.900</td>\n      <td>25990.0</td>\n      <td>ERRO</td>\n      <td>https://www.amazon.com.br/C%C3%82MERA-GOPRO-BL...</td>\n      <td>CÂMERA GOPRO HERO 8 BLACK ESSENCIAL BU...</td>\n    </tr>\n    <tr>\n      <th>13</th>\n      <td>B08ZSVP9T7</td>\n      <td>2022-05-21</td>\n      <td>AMAZON</td>\n      <td>LIVE IMPORTS</td>\n      <td>2599.00</td>\n      <td>10</td>\n      <td>259.900</td>\n      <td>25990.0</td>\n      <td>ERRO</td>\n      <td>https://www.amazon.com.br/C%C3%82MERA-GOPRO-BL...</td>\n      <td>CÂMERA GOPRO HERO 8 BLACK ESSENCIAL BU...</td>\n    </tr>\n    <tr>\n      <th>14</th>\n      <td>B08ZSVP9T7</td>\n      <td>2022-05-21</td>\n      <td>AMAZON</td>\n      <td>GRUPO MAVERICK</td>\n      <td>3199.99</td>\n      <td>10</td>\n      <td>319.999</td>\n      <td>31999.9</td>\n      <td>ERRO</td>\n      <td>https://www.amazon.com.br/C%C3%82MERA-GOPRO-BL...</td>\n      <td>CÂMERA GOPRO HERO 8 BLACK ESSENCIAL BU...</td>\n    </tr>\n    <tr>\n      <th>15</th>\n      <td>B07RJMK2GV</td>\n      <td>2022-05-21</td>\n      <td>AMAZON</td>\n      <td>QanHorse</td>\n      <td>1983.00</td>\n      <td>10</td>\n      <td>198.300</td>\n      <td>19830.0</td>\n      <td>ERRO</td>\n      <td>https://www.amazon.com.br/Camera-DJI-Osmo-Acti...</td>\n      <td>Camera DJI Osmo Action 4K Sensor CMOS ...</td>\n    </tr>\n    <tr>\n      <th>16</th>\n      <td>B07RJMK2GV</td>\n      <td>2022-05-21</td>\n      <td>AMAZON</td>\n      <td>Xalo Comercio de Produtos</td>\n      <td>2420.00</td>\n      <td>10</td>\n      <td>242.000</td>\n      <td>24200.0</td>\n      <td>ERRO</td>\n      <td>https://www.amazon.com.br/Camera-DJI-Osmo-Acti...</td>\n      <td>Camera DJI Osmo Action 4K Sensor CMOS ...</td>\n    </tr>\n    <tr>\n      <th>17</th>\n      <td>B07RJMK2GV</td>\n      <td>2022-05-21</td>\n      <td>AMAZON</td>\n      <td>BC INFO</td>\n      <td>2712.67</td>\n      <td>10</td>\n      <td>271.267</td>\n      <td>27126.7</td>\n      <td>ERRO</td>\n      <td>https://www.amazon.com.br/Camera-DJI-Osmo-Acti...</td>\n      <td>Camera DJI Osmo Action 4K Sensor CMOS ...</td>\n    </tr>\n    <tr>\n      <th>18</th>\n      <td>B07RJMK2GV</td>\n      <td>2022-05-21</td>\n      <td>AMAZON</td>\n      <td>Bits &amp; Bytes Tecnologia</td>\n      <td>2851.27</td>\n      <td>10</td>\n      <td>285.127</td>\n      <td>28512.7</td>\n      <td>ERRO</td>\n      <td>https://www.amazon.com.br/Camera-DJI-Osmo-Acti...</td>\n      <td>Camera DJI Osmo Action 4K Sensor CMOS ...</td>\n    </tr>\n    <tr>\n      <th>19</th>\n      <td>B07RJMK2GV</td>\n      <td>2022-05-21</td>\n      <td>AMAZON</td>\n      <td>Elefante Store</td>\n      <td>3605.23</td>\n      <td>10</td>\n      <td>360.523</td>\n      <td>36052.3</td>\n      <td>ERRO</td>\n      <td>https://www.amazon.com.br/Camera-DJI-Osmo-Acti...</td>\n      <td>Camera DJI Osmo Action 4K Sensor CMOS ...</td>\n    </tr>\n    <tr>\n      <th>20</th>\n      <td>B07RJMK2GV</td>\n      <td>2022-05-21</td>\n      <td>AMAZON</td>\n      <td>DigitalShoppStore</td>\n      <td>4100.00</td>\n      <td>10</td>\n      <td>410.000</td>\n      <td>41000.0</td>\n      <td>ERRO</td>\n      <td>https://www.amazon.com.br/Camera-DJI-Osmo-Acti...</td>\n      <td>Camera DJI Osmo Action 4K Sensor CMOS ...</td>\n    </tr>\n  </tbody>\n</table>\n</div>"
     },
     "execution_count": 148,
     "metadata": {},
     "output_type": "execute_result"
    }
   ],
   "source": [
    "Dataframe_More = pd.DataFrame()\n",
    "Dataframe_More['ID'] = Amazon_ID_More\n",
    "\n",
    "Dataframe_More['DATE'] = pd.to_datetime('today', errors='ignore').date()\n",
    "\n",
    "Dataframe_More['MARKETPLACE'] = 'AMAZON'\n",
    "\n",
    "Dataframe_More['SELLER'] = Amazon_seller_more\n",
    "\n",
    "Dataframe_More['PRICE'] = Amazon_price_more\n",
    "Dataframe_More['PRICE'] = Dataframe_More['PRICE'].str.replace(\".\",\"\", regex=True)\n",
    "Dataframe_More['PRICE'] = Dataframe_More['PRICE'].str.replace(\"R$\",\"\", regex=False)\n",
    "Dataframe_More['PRICE'] = Dataframe_More['PRICE'].str.replace(\",\",\".\", regex=True)\n",
    "Dataframe_More['PRICE'] = Dataframe_More['PRICE'].astype('float')\n",
    "\n",
    "Dataframe_More['PARCEL'] = 10\n",
    "\n",
    "Dataframe_More['INSTALLMENT'] = Dataframe_More['PRICE'] / Dataframe_More['PARCEL']\n",
    "\n",
    "Dataframe_More['INSTALLMENT_PAYMENT'] = Dataframe_More['PRICE'] * Dataframe_More['PARCEL']\n",
    "\n",
    "Dataframe_More['INTERNACIONAL'] = 'ERRO'\n",
    "\n",
    "url_names = []\n",
    "for id in Dataframe_More['ID']:\n",
    "    url_names.append(Df_final.loc[Df_final['ID'] == id,'URL'].values[0])\n",
    "\n",
    "products_names = []\n",
    "for id in Dataframe_More['ID']:\n",
    "    products_names.append(Df_final.loc[Df_final['ID'] == id,'PRODUCT'].values[0])\n",
    "\n",
    "Dataframe_More['URL'] = url_names\n",
    "Dataframe_More['PRODUCT'] = products_names\n",
    "\n",
    "Dataframe_More"
   ]
  },
  {
   "cell_type": "code",
   "execution_count": 130,
   "outputs": [],
   "source": [
    "url_names = []\n",
    "for id in Dataframe_More['ID']:\n",
    "    url_names.append(Df_final.loc[Df_final['ID'] == id,'URL'])"
   ],
   "metadata": {
    "collapsed": false,
    "pycharm": {
     "name": "#%%\n"
    }
   }
  },
  {
   "cell_type": "code",
   "execution_count": 132,
   "outputs": [
    {
     "data": {
      "text/plain": "21"
     },
     "execution_count": 132,
     "metadata": {},
     "output_type": "execute_result"
    }
   ],
   "source": [
    "len(url_names)"
   ],
   "metadata": {
    "collapsed": false,
    "pycharm": {
     "name": "#%%\n"
    }
   }
  },
  {
   "cell_type": "code",
   "execution_count": 114,
   "outputs": [
    {
     "ename": "ValueError",
     "evalue": "Can only compare identically-labeled Series objects",
     "output_type": "error",
     "traceback": [
      "\u001B[1;31m---------------------------------------------------------------------------\u001B[0m",
      "\u001B[1;31mValueError\u001B[0m                                Traceback (most recent call last)",
      "Input \u001B[1;32mIn [114]\u001B[0m, in \u001B[0;36m<cell line: 1>\u001B[1;34m()\u001B[0m\n\u001B[1;32m----> 1\u001B[0m Df_final\u001B[38;5;241m.\u001B[39mloc[\u001B[43mDf_final\u001B[49m\u001B[43m[\u001B[49m\u001B[38;5;124;43m'\u001B[39;49m\u001B[38;5;124;43mID\u001B[39;49m\u001B[38;5;124;43m'\u001B[39;49m\u001B[43m]\u001B[49m\u001B[43m \u001B[49m\u001B[38;5;241;43m==\u001B[39;49m\u001B[43m \u001B[49m\u001B[43mDataframe_More\u001B[49m\u001B[43m[\u001B[49m\u001B[38;5;124;43m'\u001B[39;49m\u001B[38;5;124;43mID\u001B[39;49m\u001B[38;5;124;43m'\u001B[39;49m\u001B[43m]\u001B[49m,\u001B[38;5;124m'\u001B[39m\u001B[38;5;124mURL\u001B[39m\u001B[38;5;124m'\u001B[39m]\n",
      "File \u001B[1;32m~\\AppData\\Local\\Programs\\Python\\Python310\\lib\\site-packages\\pandas\\core\\ops\\common.py:70\u001B[0m, in \u001B[0;36m_unpack_zerodim_and_defer.<locals>.new_method\u001B[1;34m(self, other)\u001B[0m\n\u001B[0;32m     66\u001B[0m             \u001B[38;5;28;01mreturn\u001B[39;00m \u001B[38;5;28mNotImplemented\u001B[39m\n\u001B[0;32m     68\u001B[0m other \u001B[38;5;241m=\u001B[39m item_from_zerodim(other)\n\u001B[1;32m---> 70\u001B[0m \u001B[38;5;28;01mreturn\u001B[39;00m \u001B[43mmethod\u001B[49m\u001B[43m(\u001B[49m\u001B[38;5;28;43mself\u001B[39;49m\u001B[43m,\u001B[49m\u001B[43m \u001B[49m\u001B[43mother\u001B[49m\u001B[43m)\u001B[49m\n",
      "File \u001B[1;32m~\\AppData\\Local\\Programs\\Python\\Python310\\lib\\site-packages\\pandas\\core\\arraylike.py:40\u001B[0m, in \u001B[0;36mOpsMixin.__eq__\u001B[1;34m(self, other)\u001B[0m\n\u001B[0;32m     38\u001B[0m \u001B[38;5;129m@unpack_zerodim_and_defer\u001B[39m(\u001B[38;5;124m\"\u001B[39m\u001B[38;5;124m__eq__\u001B[39m\u001B[38;5;124m\"\u001B[39m)\n\u001B[0;32m     39\u001B[0m \u001B[38;5;28;01mdef\u001B[39;00m \u001B[38;5;21m__eq__\u001B[39m(\u001B[38;5;28mself\u001B[39m, other):\n\u001B[1;32m---> 40\u001B[0m     \u001B[38;5;28;01mreturn\u001B[39;00m \u001B[38;5;28;43mself\u001B[39;49m\u001B[38;5;241;43m.\u001B[39;49m\u001B[43m_cmp_method\u001B[49m\u001B[43m(\u001B[49m\u001B[43mother\u001B[49m\u001B[43m,\u001B[49m\u001B[43m \u001B[49m\u001B[43moperator\u001B[49m\u001B[38;5;241;43m.\u001B[39;49m\u001B[43meq\u001B[49m\u001B[43m)\u001B[49m\n",
      "File \u001B[1;32m~\\AppData\\Local\\Programs\\Python\\Python310\\lib\\site-packages\\pandas\\core\\series.py:5617\u001B[0m, in \u001B[0;36mSeries._cmp_method\u001B[1;34m(self, other, op)\u001B[0m\n\u001B[0;32m   5614\u001B[0m res_name \u001B[38;5;241m=\u001B[39m ops\u001B[38;5;241m.\u001B[39mget_op_result_name(\u001B[38;5;28mself\u001B[39m, other)\n\u001B[0;32m   5616\u001B[0m \u001B[38;5;28;01mif\u001B[39;00m \u001B[38;5;28misinstance\u001B[39m(other, Series) \u001B[38;5;129;01mand\u001B[39;00m \u001B[38;5;129;01mnot\u001B[39;00m \u001B[38;5;28mself\u001B[39m\u001B[38;5;241m.\u001B[39m_indexed_same(other):\n\u001B[1;32m-> 5617\u001B[0m     \u001B[38;5;28;01mraise\u001B[39;00m \u001B[38;5;167;01mValueError\u001B[39;00m(\u001B[38;5;124m\"\u001B[39m\u001B[38;5;124mCan only compare identically-labeled Series objects\u001B[39m\u001B[38;5;124m\"\u001B[39m)\n\u001B[0;32m   5619\u001B[0m lvalues \u001B[38;5;241m=\u001B[39m \u001B[38;5;28mself\u001B[39m\u001B[38;5;241m.\u001B[39m_values\n\u001B[0;32m   5620\u001B[0m rvalues \u001B[38;5;241m=\u001B[39m extract_array(other, extract_numpy\u001B[38;5;241m=\u001B[39m\u001B[38;5;28;01mTrue\u001B[39;00m, extract_range\u001B[38;5;241m=\u001B[39m\u001B[38;5;28;01mTrue\u001B[39;00m)\n",
      "\u001B[1;31mValueError\u001B[0m: Can only compare identically-labeled Series objects"
     ]
    }
   ],
   "source": [
    "Df_final.loc[Df_final['ID'] == Dataframe_More['ID'],'URL']"
   ],
   "metadata": {
    "collapsed": false,
    "pycharm": {
     "name": "#%%\n"
    }
   }
  },
  {
   "cell_type": "code",
   "execution_count": 149,
   "outputs": [],
   "source": [
    "Df_teste = pd.concat([Df_final, Dataframe_More])\n",
    "Df_teste = Df_teste.sort_values(by='ID')"
   ],
   "metadata": {
    "collapsed": false,
    "pycharm": {
     "name": "#%%\n"
    }
   }
  },
  {
   "cell_type": "code",
   "execution_count": 150,
   "outputs": [
    {
     "data": {
      "text/plain": "          DATE                                                URL MARKETPLACE  \\\n20  2022-05-21  https://www.amazon.com.br/Camera-DJI-Osmo-Acti...      AMAZON   \n18  2022-05-21  https://www.amazon.com.br/Camera-DJI-Osmo-Acti...      AMAZON   \n17  2022-05-21  https://www.amazon.com.br/Camera-DJI-Osmo-Acti...      AMAZON   \n16  2022-05-21  https://www.amazon.com.br/Camera-DJI-Osmo-Acti...      AMAZON   \n15  2022-05-21  https://www.amazon.com.br/Camera-DJI-Osmo-Acti...      AMAZON   \n19  2022-05-21  https://www.amazon.com.br/Camera-DJI-Osmo-Acti...      AMAZON   \n7   2022-05-21  https://www.amazon.com.br/Camera-DJI-Osmo-Acti...      AMAZON   \n2   2022-05-21  https://www.amazon.com.br/Gopro-Black-prova-D%...      AMAZON   \n1   2022-05-21  https://www.amazon.com.br/Gopro-Black-prova-D%...      AMAZON   \n0   2022-05-21  https://www.amazon.com.br/Gopro-Black-prova-D%...      AMAZON   \n0   2022-05-21  https://www.amazon.com.br/Gopro-Black-prova-D%...      AMAZON   \n6   2022-05-21  https://www.amazon.com.br/C%C3%A2mera-Digital-...      AMAZON   \n4   2022-05-21  https://www.amazon.com.br/C%C3%A2mera-GoPro-Fr...      AMAZON   \n8   2022-05-21  https://www.amazon.com.br/C%C3%A2mera-GoPro-Fr...      AMAZON   \n9   2022-05-21  https://www.amazon.com.br/C%C3%A2mera-GoPro-Fr...      AMAZON   \n10  2022-05-21  https://www.amazon.com.br/C%C3%A2mera-GoPro-Fr...      AMAZON   \n3   2022-05-21  https://www.amazon.com.br/C%C3%A2mera-Cart%C3%...      AMAZON   \n7   2022-05-21  https://www.amazon.com.br/C%C3%A2mera-Cart%C3%...      AMAZON   \n14  2022-05-21  https://www.amazon.com.br/C%C3%82MERA-GOPRO-BL...      AMAZON   \n13  2022-05-21  https://www.amazon.com.br/C%C3%82MERA-GOPRO-BL...      AMAZON   \n11  2022-05-21  https://www.amazon.com.br/C%C3%82MERA-GOPRO-BL...      AMAZON   \n5   2022-05-21  https://www.amazon.com.br/C%C3%82MERA-GOPRO-BL...      AMAZON   \n12  2022-05-21  https://www.amazon.com.br/C%C3%82MERA-GOPRO-BL...      AMAZON   \n2   2022-05-21  https://www.amazon.com.br/C%C3%A2mera-GoPro-HE...      AMAZON   \n5   2022-05-21  https://www.amazon.com.br/GoPro-Frontal-HyperS...      AMAZON   \n4   2022-05-21  https://www.amazon.com.br/GoPro-Frontal-HyperS...      AMAZON   \n3   2022-05-21  https://www.amazon.com.br/GoPro-Frontal-HyperS...      AMAZON   \n1   2022-05-21  https://www.amazon.com.br/GoPro-Frontal-HyperS...      AMAZON   \n6   2022-05-21  https://www.amazon.com.br/GoPro-Frontal-HyperS...      AMAZON   \n\n                        SELLER    PRICE  PARCEL  INSTALLMENT  \\\n20           DigitalShoppStore  4100.00      10      410.000   \n18     Bits & Bytes Tecnologia  2851.27      10      285.127   \n17                     BC INFO  2712.67      10      271.267   \n16   Xalo Comercio de Produtos  2420.00      10      242.000   \n15                    QanHorse  1983.00      10      198.300   \n19              Elefante Store  3605.23      10      360.523   \n7                   HuaYe Tech  1982.90      10      198.290   \n2               GRUPO MAVERICK  2599.00      10      259.900   \n1                  King Pro St  2289.00      10      228.900   \n0                   EOS IMPORT  2299.00      10      229.900   \n0                 LIVE IMPORTS  2299.00      10      229.900   \n6                   EOS IMPORT  3799.00      10      379.900   \n4                   EOS IMPORT  2540.73      10      254.100   \n8                  King Pro St  2599.00      10      259.900   \n9                  King Pro St  2739.00      10      273.900   \n10              GRUPO MAVERICK  3399.99      10      339.999   \n3                   EOS IMPORT  3000.00      10      300.000   \n7                   EOS IMPORT  2999.00      10      299.900   \n14              GRUPO MAVERICK  3199.99      10      319.999   \n13                LIVE IMPORTS  2599.00      10      259.900   \n11                  EOS IMPORT  2599.00      10      259.900   \n5                   EOS IMPORT  2599.00      10      259.900   \n12                LIVE IMPORTS  2599.00      10      259.900   \n2                       Amazon  4688.20      10      468.820   \n5               GRUPO MAVERICK  4299.99      10      429.999   \n4                  King Pro St  3219.00      10      321.900   \n3                 LIVE IMPORTS  3207.25      10      320.725   \n1                   EOS IMPORT  3207.25      10      320.770   \n6                      MeuDome  4799.00      10      479.900   \n\n    INSTALLMENT_PAYMENT          ID  \\\n20              41000.0  B07RJMK2GV   \n18              28512.7  B07RJMK2GV   \n17              27126.7  B07RJMK2GV   \n16              24200.0  B07RJMK2GV   \n15              19830.0  B07RJMK2GV   \n19              36052.3  B07RJMK2GV   \n7                1982.9  B07RJMK2GV   \n2               25990.0  B07WSRXMS8   \n1               22890.0  B07WSRXMS8   \n0                2299.0  B07WSRXMS8   \n0               22990.0  B07WSRXMS8   \n6                3799.0  B087ZP2GW4   \n4                2541.0  B08KXN6BNH   \n8               25990.0  B08KXN6BNH   \n9               27390.0  B08KXN6BNH   \n10              33999.9  B08KXN6BNH   \n3                3000.0  B08R2XCM9K   \n7               29990.0  B08R2XCM9K   \n14              31999.9  B08ZSVP9T7   \n13              25990.0  B08ZSVP9T7   \n11              25990.0  B08ZSVP9T7   \n5                2599.0  B08ZSVP9T7   \n12              25990.0  B08ZSVP9T7   \n2                4688.2  B093JKGDJZ   \n5               42999.9  B09D15SFMQ   \n4               32190.0  B09D15SFMQ   \n3               32072.5  B09D15SFMQ   \n1                3207.7  B09D15SFMQ   \n6               47990.0  B09D15SFMQ   \n\n                                              PRODUCT  INTERNACIONAL  \n20          Camera DJI Osmo Action 4K Sensor CMOS ...           ERRO  \n18          Camera DJI Osmo Action 4K Sensor CMOS ...           ERRO  \n17          Camera DJI Osmo Action 4K Sensor CMOS ...           ERRO  \n16          Camera DJI Osmo Action 4K Sensor CMOS ...           ERRO  \n15          Camera DJI Osmo Action 4K Sensor CMOS ...           ERRO  \n19          Camera DJI Osmo Action 4K Sensor CMOS ...           ERRO  \n7           Camera DJI Osmo Action 4K Sensor CMOS ...  Internacional  \n2           Gopro Hero 8 Black 4k à prova D'água C...           ERRO  \n1           Gopro Hero 8 Black 4k à prova D'água C...           ERRO  \n0           Gopro Hero 8 Black 4k à prova D'água C...  Internacional  \n0           Gopro Hero 8 Black 4k à prova D'água C...           ERRO  \n6           Câmera Digital GoPro Max 360o - CHDHZ-...  Internacional  \n4           Câmera GoPro HERO9 Black à Prova D'águ...  Internacional  \n8           Câmera GoPro HERO9 Black à Prova D'águ...           ERRO  \n9           Câmera GoPro HERO9 Black à Prova D'águ...           ERRO  \n10          Câmera GoPro HERO9 Black à Prova D'águ...           ERRO  \n3           Câmera GoPro HERO9 Black à Prova D'águ...  Internacional  \n7           Câmera GoPro HERO9 Black à Prova D'águ...           ERRO  \n14          CÂMERA GOPRO HERO 8 BLACK ESSENCIAL BU...           ERRO  \n13          CÂMERA GOPRO HERO 8 BLACK ESSENCIAL BU...           ERRO  \n11          CÂMERA GOPRO HERO 8 BLACK ESSENCIAL BU...           ERRO  \n5           CÂMERA GOPRO HERO 8 BLACK ESSENCIAL BU...  Internacional  \n12          CÂMERA GOPRO HERO 8 BLACK ESSENCIAL BU...           ERRO  \n2           Câmera GoPro HERO9 Black - Kit Trip Pr...  Internacional  \n5           Câmera GoPro HERO10 Black à Prova com ...           ERRO  \n4           Câmera GoPro HERO10 Black à Prova com ...           ERRO  \n3           Câmera GoPro HERO10 Black à Prova com ...           ERRO  \n1           Câmera GoPro HERO10 Black à Prova com ...  Internacional  \n6           Câmera GoPro HERO10 Black à Prova com ...           ERRO  ",
      "text/html": "<div>\n<style scoped>\n    .dataframe tbody tr th:only-of-type {\n        vertical-align: middle;\n    }\n\n    .dataframe tbody tr th {\n        vertical-align: top;\n    }\n\n    .dataframe thead th {\n        text-align: right;\n    }\n</style>\n<table border=\"1\" class=\"dataframe\">\n  <thead>\n    <tr style=\"text-align: right;\">\n      <th></th>\n      <th>DATE</th>\n      <th>URL</th>\n      <th>MARKETPLACE</th>\n      <th>SELLER</th>\n      <th>PRICE</th>\n      <th>PARCEL</th>\n      <th>INSTALLMENT</th>\n      <th>INSTALLMENT_PAYMENT</th>\n      <th>ID</th>\n      <th>PRODUCT</th>\n      <th>INTERNACIONAL</th>\n    </tr>\n  </thead>\n  <tbody>\n    <tr>\n      <th>20</th>\n      <td>2022-05-21</td>\n      <td>https://www.amazon.com.br/Camera-DJI-Osmo-Acti...</td>\n      <td>AMAZON</td>\n      <td>DigitalShoppStore</td>\n      <td>4100.00</td>\n      <td>10</td>\n      <td>410.000</td>\n      <td>41000.0</td>\n      <td>B07RJMK2GV</td>\n      <td>Camera DJI Osmo Action 4K Sensor CMOS ...</td>\n      <td>ERRO</td>\n    </tr>\n    <tr>\n      <th>18</th>\n      <td>2022-05-21</td>\n      <td>https://www.amazon.com.br/Camera-DJI-Osmo-Acti...</td>\n      <td>AMAZON</td>\n      <td>Bits &amp; Bytes Tecnologia</td>\n      <td>2851.27</td>\n      <td>10</td>\n      <td>285.127</td>\n      <td>28512.7</td>\n      <td>B07RJMK2GV</td>\n      <td>Camera DJI Osmo Action 4K Sensor CMOS ...</td>\n      <td>ERRO</td>\n    </tr>\n    <tr>\n      <th>17</th>\n      <td>2022-05-21</td>\n      <td>https://www.amazon.com.br/Camera-DJI-Osmo-Acti...</td>\n      <td>AMAZON</td>\n      <td>BC INFO</td>\n      <td>2712.67</td>\n      <td>10</td>\n      <td>271.267</td>\n      <td>27126.7</td>\n      <td>B07RJMK2GV</td>\n      <td>Camera DJI Osmo Action 4K Sensor CMOS ...</td>\n      <td>ERRO</td>\n    </tr>\n    <tr>\n      <th>16</th>\n      <td>2022-05-21</td>\n      <td>https://www.amazon.com.br/Camera-DJI-Osmo-Acti...</td>\n      <td>AMAZON</td>\n      <td>Xalo Comercio de Produtos</td>\n      <td>2420.00</td>\n      <td>10</td>\n      <td>242.000</td>\n      <td>24200.0</td>\n      <td>B07RJMK2GV</td>\n      <td>Camera DJI Osmo Action 4K Sensor CMOS ...</td>\n      <td>ERRO</td>\n    </tr>\n    <tr>\n      <th>15</th>\n      <td>2022-05-21</td>\n      <td>https://www.amazon.com.br/Camera-DJI-Osmo-Acti...</td>\n      <td>AMAZON</td>\n      <td>QanHorse</td>\n      <td>1983.00</td>\n      <td>10</td>\n      <td>198.300</td>\n      <td>19830.0</td>\n      <td>B07RJMK2GV</td>\n      <td>Camera DJI Osmo Action 4K Sensor CMOS ...</td>\n      <td>ERRO</td>\n    </tr>\n    <tr>\n      <th>19</th>\n      <td>2022-05-21</td>\n      <td>https://www.amazon.com.br/Camera-DJI-Osmo-Acti...</td>\n      <td>AMAZON</td>\n      <td>Elefante Store</td>\n      <td>3605.23</td>\n      <td>10</td>\n      <td>360.523</td>\n      <td>36052.3</td>\n      <td>B07RJMK2GV</td>\n      <td>Camera DJI Osmo Action 4K Sensor CMOS ...</td>\n      <td>ERRO</td>\n    </tr>\n    <tr>\n      <th>7</th>\n      <td>2022-05-21</td>\n      <td>https://www.amazon.com.br/Camera-DJI-Osmo-Acti...</td>\n      <td>AMAZON</td>\n      <td>HuaYe Tech</td>\n      <td>1982.90</td>\n      <td>10</td>\n      <td>198.290</td>\n      <td>1982.9</td>\n      <td>B07RJMK2GV</td>\n      <td>Camera DJI Osmo Action 4K Sensor CMOS ...</td>\n      <td>Internacional</td>\n    </tr>\n    <tr>\n      <th>2</th>\n      <td>2022-05-21</td>\n      <td>https://www.amazon.com.br/Gopro-Black-prova-D%...</td>\n      <td>AMAZON</td>\n      <td>GRUPO MAVERICK</td>\n      <td>2599.00</td>\n      <td>10</td>\n      <td>259.900</td>\n      <td>25990.0</td>\n      <td>B07WSRXMS8</td>\n      <td>Gopro Hero 8 Black 4k à prova D'água C...</td>\n      <td>ERRO</td>\n    </tr>\n    <tr>\n      <th>1</th>\n      <td>2022-05-21</td>\n      <td>https://www.amazon.com.br/Gopro-Black-prova-D%...</td>\n      <td>AMAZON</td>\n      <td>King Pro St</td>\n      <td>2289.00</td>\n      <td>10</td>\n      <td>228.900</td>\n      <td>22890.0</td>\n      <td>B07WSRXMS8</td>\n      <td>Gopro Hero 8 Black 4k à prova D'água C...</td>\n      <td>ERRO</td>\n    </tr>\n    <tr>\n      <th>0</th>\n      <td>2022-05-21</td>\n      <td>https://www.amazon.com.br/Gopro-Black-prova-D%...</td>\n      <td>AMAZON</td>\n      <td>EOS IMPORT</td>\n      <td>2299.00</td>\n      <td>10</td>\n      <td>229.900</td>\n      <td>2299.0</td>\n      <td>B07WSRXMS8</td>\n      <td>Gopro Hero 8 Black 4k à prova D'água C...</td>\n      <td>Internacional</td>\n    </tr>\n    <tr>\n      <th>0</th>\n      <td>2022-05-21</td>\n      <td>https://www.amazon.com.br/Gopro-Black-prova-D%...</td>\n      <td>AMAZON</td>\n      <td>LIVE IMPORTS</td>\n      <td>2299.00</td>\n      <td>10</td>\n      <td>229.900</td>\n      <td>22990.0</td>\n      <td>B07WSRXMS8</td>\n      <td>Gopro Hero 8 Black 4k à prova D'água C...</td>\n      <td>ERRO</td>\n    </tr>\n    <tr>\n      <th>6</th>\n      <td>2022-05-21</td>\n      <td>https://www.amazon.com.br/C%C3%A2mera-Digital-...</td>\n      <td>AMAZON</td>\n      <td>EOS IMPORT</td>\n      <td>3799.00</td>\n      <td>10</td>\n      <td>379.900</td>\n      <td>3799.0</td>\n      <td>B087ZP2GW4</td>\n      <td>Câmera Digital GoPro Max 360o - CHDHZ-...</td>\n      <td>Internacional</td>\n    </tr>\n    <tr>\n      <th>4</th>\n      <td>2022-05-21</td>\n      <td>https://www.amazon.com.br/C%C3%A2mera-GoPro-Fr...</td>\n      <td>AMAZON</td>\n      <td>EOS IMPORT</td>\n      <td>2540.73</td>\n      <td>10</td>\n      <td>254.100</td>\n      <td>2541.0</td>\n      <td>B08KXN6BNH</td>\n      <td>Câmera GoPro HERO9 Black à Prova D'águ...</td>\n      <td>Internacional</td>\n    </tr>\n    <tr>\n      <th>8</th>\n      <td>2022-05-21</td>\n      <td>https://www.amazon.com.br/C%C3%A2mera-GoPro-Fr...</td>\n      <td>AMAZON</td>\n      <td>King Pro St</td>\n      <td>2599.00</td>\n      <td>10</td>\n      <td>259.900</td>\n      <td>25990.0</td>\n      <td>B08KXN6BNH</td>\n      <td>Câmera GoPro HERO9 Black à Prova D'águ...</td>\n      <td>ERRO</td>\n    </tr>\n    <tr>\n      <th>9</th>\n      <td>2022-05-21</td>\n      <td>https://www.amazon.com.br/C%C3%A2mera-GoPro-Fr...</td>\n      <td>AMAZON</td>\n      <td>King Pro St</td>\n      <td>2739.00</td>\n      <td>10</td>\n      <td>273.900</td>\n      <td>27390.0</td>\n      <td>B08KXN6BNH</td>\n      <td>Câmera GoPro HERO9 Black à Prova D'águ...</td>\n      <td>ERRO</td>\n    </tr>\n    <tr>\n      <th>10</th>\n      <td>2022-05-21</td>\n      <td>https://www.amazon.com.br/C%C3%A2mera-GoPro-Fr...</td>\n      <td>AMAZON</td>\n      <td>GRUPO MAVERICK</td>\n      <td>3399.99</td>\n      <td>10</td>\n      <td>339.999</td>\n      <td>33999.9</td>\n      <td>B08KXN6BNH</td>\n      <td>Câmera GoPro HERO9 Black à Prova D'águ...</td>\n      <td>ERRO</td>\n    </tr>\n    <tr>\n      <th>3</th>\n      <td>2022-05-21</td>\n      <td>https://www.amazon.com.br/C%C3%A2mera-Cart%C3%...</td>\n      <td>AMAZON</td>\n      <td>EOS IMPORT</td>\n      <td>3000.00</td>\n      <td>10</td>\n      <td>300.000</td>\n      <td>3000.0</td>\n      <td>B08R2XCM9K</td>\n      <td>Câmera GoPro HERO9 Black à Prova D'águ...</td>\n      <td>Internacional</td>\n    </tr>\n    <tr>\n      <th>7</th>\n      <td>2022-05-21</td>\n      <td>https://www.amazon.com.br/C%C3%A2mera-Cart%C3%...</td>\n      <td>AMAZON</td>\n      <td>EOS IMPORT</td>\n      <td>2999.00</td>\n      <td>10</td>\n      <td>299.900</td>\n      <td>29990.0</td>\n      <td>B08R2XCM9K</td>\n      <td>Câmera GoPro HERO9 Black à Prova D'águ...</td>\n      <td>ERRO</td>\n    </tr>\n    <tr>\n      <th>14</th>\n      <td>2022-05-21</td>\n      <td>https://www.amazon.com.br/C%C3%82MERA-GOPRO-BL...</td>\n      <td>AMAZON</td>\n      <td>GRUPO MAVERICK</td>\n      <td>3199.99</td>\n      <td>10</td>\n      <td>319.999</td>\n      <td>31999.9</td>\n      <td>B08ZSVP9T7</td>\n      <td>CÂMERA GOPRO HERO 8 BLACK ESSENCIAL BU...</td>\n      <td>ERRO</td>\n    </tr>\n    <tr>\n      <th>13</th>\n      <td>2022-05-21</td>\n      <td>https://www.amazon.com.br/C%C3%82MERA-GOPRO-BL...</td>\n      <td>AMAZON</td>\n      <td>LIVE IMPORTS</td>\n      <td>2599.00</td>\n      <td>10</td>\n      <td>259.900</td>\n      <td>25990.0</td>\n      <td>B08ZSVP9T7</td>\n      <td>CÂMERA GOPRO HERO 8 BLACK ESSENCIAL BU...</td>\n      <td>ERRO</td>\n    </tr>\n    <tr>\n      <th>11</th>\n      <td>2022-05-21</td>\n      <td>https://www.amazon.com.br/C%C3%82MERA-GOPRO-BL...</td>\n      <td>AMAZON</td>\n      <td>EOS IMPORT</td>\n      <td>2599.00</td>\n      <td>10</td>\n      <td>259.900</td>\n      <td>25990.0</td>\n      <td>B08ZSVP9T7</td>\n      <td>CÂMERA GOPRO HERO 8 BLACK ESSENCIAL BU...</td>\n      <td>ERRO</td>\n    </tr>\n    <tr>\n      <th>5</th>\n      <td>2022-05-21</td>\n      <td>https://www.amazon.com.br/C%C3%82MERA-GOPRO-BL...</td>\n      <td>AMAZON</td>\n      <td>EOS IMPORT</td>\n      <td>2599.00</td>\n      <td>10</td>\n      <td>259.900</td>\n      <td>2599.0</td>\n      <td>B08ZSVP9T7</td>\n      <td>CÂMERA GOPRO HERO 8 BLACK ESSENCIAL BU...</td>\n      <td>Internacional</td>\n    </tr>\n    <tr>\n      <th>12</th>\n      <td>2022-05-21</td>\n      <td>https://www.amazon.com.br/C%C3%82MERA-GOPRO-BL...</td>\n      <td>AMAZON</td>\n      <td>LIVE IMPORTS</td>\n      <td>2599.00</td>\n      <td>10</td>\n      <td>259.900</td>\n      <td>25990.0</td>\n      <td>B08ZSVP9T7</td>\n      <td>CÂMERA GOPRO HERO 8 BLACK ESSENCIAL BU...</td>\n      <td>ERRO</td>\n    </tr>\n    <tr>\n      <th>2</th>\n      <td>2022-05-21</td>\n      <td>https://www.amazon.com.br/C%C3%A2mera-GoPro-HE...</td>\n      <td>AMAZON</td>\n      <td>Amazon</td>\n      <td>4688.20</td>\n      <td>10</td>\n      <td>468.820</td>\n      <td>4688.2</td>\n      <td>B093JKGDJZ</td>\n      <td>Câmera GoPro HERO9 Black - Kit Trip Pr...</td>\n      <td>Internacional</td>\n    </tr>\n    <tr>\n      <th>5</th>\n      <td>2022-05-21</td>\n      <td>https://www.amazon.com.br/GoPro-Frontal-HyperS...</td>\n      <td>AMAZON</td>\n      <td>GRUPO MAVERICK</td>\n      <td>4299.99</td>\n      <td>10</td>\n      <td>429.999</td>\n      <td>42999.9</td>\n      <td>B09D15SFMQ</td>\n      <td>Câmera GoPro HERO10 Black à Prova com ...</td>\n      <td>ERRO</td>\n    </tr>\n    <tr>\n      <th>4</th>\n      <td>2022-05-21</td>\n      <td>https://www.amazon.com.br/GoPro-Frontal-HyperS...</td>\n      <td>AMAZON</td>\n      <td>King Pro St</td>\n      <td>3219.00</td>\n      <td>10</td>\n      <td>321.900</td>\n      <td>32190.0</td>\n      <td>B09D15SFMQ</td>\n      <td>Câmera GoPro HERO10 Black à Prova com ...</td>\n      <td>ERRO</td>\n    </tr>\n    <tr>\n      <th>3</th>\n      <td>2022-05-21</td>\n      <td>https://www.amazon.com.br/GoPro-Frontal-HyperS...</td>\n      <td>AMAZON</td>\n      <td>LIVE IMPORTS</td>\n      <td>3207.25</td>\n      <td>10</td>\n      <td>320.725</td>\n      <td>32072.5</td>\n      <td>B09D15SFMQ</td>\n      <td>Câmera GoPro HERO10 Black à Prova com ...</td>\n      <td>ERRO</td>\n    </tr>\n    <tr>\n      <th>1</th>\n      <td>2022-05-21</td>\n      <td>https://www.amazon.com.br/GoPro-Frontal-HyperS...</td>\n      <td>AMAZON</td>\n      <td>EOS IMPORT</td>\n      <td>3207.25</td>\n      <td>10</td>\n      <td>320.770</td>\n      <td>3207.7</td>\n      <td>B09D15SFMQ</td>\n      <td>Câmera GoPro HERO10 Black à Prova com ...</td>\n      <td>Internacional</td>\n    </tr>\n    <tr>\n      <th>6</th>\n      <td>2022-05-21</td>\n      <td>https://www.amazon.com.br/GoPro-Frontal-HyperS...</td>\n      <td>AMAZON</td>\n      <td>MeuDome</td>\n      <td>4799.00</td>\n      <td>10</td>\n      <td>479.900</td>\n      <td>47990.0</td>\n      <td>B09D15SFMQ</td>\n      <td>Câmera GoPro HERO10 Black à Prova com ...</td>\n      <td>ERRO</td>\n    </tr>\n  </tbody>\n</table>\n</div>"
     },
     "execution_count": 150,
     "metadata": {},
     "output_type": "execute_result"
    }
   ],
   "source": [
    "Df_teste"
   ],
   "metadata": {
    "collapsed": false,
    "pycharm": {
     "name": "#%%\n"
    }
   }
  },
  {
   "cell_type": "code",
   "execution_count": 105,
   "outputs": [
    {
     "ename": "ValueError",
     "evalue": "Can only compare identically-labeled Series objects",
     "output_type": "error",
     "traceback": [
      "\u001B[1;31m---------------------------------------------------------------------------\u001B[0m",
      "\u001B[1;31mValueError\u001B[0m                                Traceback (most recent call last)",
      "Input \u001B[1;32mIn [105]\u001B[0m, in \u001B[0;36m<cell line: 2>\u001B[1;34m()\u001B[0m\n\u001B[0;32m      1\u001B[0m Dataframe_More[\u001B[38;5;124m'\u001B[39m\u001B[38;5;124mDATE\u001B[39m\u001B[38;5;124m'\u001B[39m] \u001B[38;5;241m=\u001B[39m pd\u001B[38;5;241m.\u001B[39mto_datetime(\u001B[38;5;124m'\u001B[39m\u001B[38;5;124mtoday\u001B[39m\u001B[38;5;124m'\u001B[39m, errors\u001B[38;5;241m=\u001B[39m\u001B[38;5;124m'\u001B[39m\u001B[38;5;124mignore\u001B[39m\u001B[38;5;124m'\u001B[39m)\u001B[38;5;241m.\u001B[39mdate()\n\u001B[1;32m----> 2\u001B[0m Dataframe_More[\u001B[38;5;124m'\u001B[39m\u001B[38;5;124mURL\u001B[39m\u001B[38;5;124m'\u001B[39m] \u001B[38;5;241m=\u001B[39m [Df_final\u001B[38;5;241m.\u001B[39mloc[\u001B[43mDf_final\u001B[49m\u001B[43m[\u001B[49m\u001B[38;5;124;43m'\u001B[39;49m\u001B[38;5;124;43mID\u001B[39;49m\u001B[38;5;124;43m'\u001B[39;49m\u001B[43m]\u001B[49m\u001B[43m \u001B[49m\u001B[38;5;241;43m==\u001B[39;49m\u001B[43m \u001B[49m\u001B[43mDataframe_More\u001B[49m\u001B[43m[\u001B[49m\u001B[38;5;124;43m'\u001B[39;49m\u001B[38;5;124;43mID\u001B[39;49m\u001B[38;5;124;43m'\u001B[39;49m\u001B[43m]\u001B[49m, \u001B[38;5;124m'\u001B[39m\u001B[38;5;124mURL\u001B[39m\u001B[38;5;124m'\u001B[39m]]\n",
      "File \u001B[1;32m~\\AppData\\Local\\Programs\\Python\\Python310\\lib\\site-packages\\pandas\\core\\ops\\common.py:70\u001B[0m, in \u001B[0;36m_unpack_zerodim_and_defer.<locals>.new_method\u001B[1;34m(self, other)\u001B[0m\n\u001B[0;32m     66\u001B[0m             \u001B[38;5;28;01mreturn\u001B[39;00m \u001B[38;5;28mNotImplemented\u001B[39m\n\u001B[0;32m     68\u001B[0m other \u001B[38;5;241m=\u001B[39m item_from_zerodim(other)\n\u001B[1;32m---> 70\u001B[0m \u001B[38;5;28;01mreturn\u001B[39;00m \u001B[43mmethod\u001B[49m\u001B[43m(\u001B[49m\u001B[38;5;28;43mself\u001B[39;49m\u001B[43m,\u001B[49m\u001B[43m \u001B[49m\u001B[43mother\u001B[49m\u001B[43m)\u001B[49m\n",
      "File \u001B[1;32m~\\AppData\\Local\\Programs\\Python\\Python310\\lib\\site-packages\\pandas\\core\\arraylike.py:40\u001B[0m, in \u001B[0;36mOpsMixin.__eq__\u001B[1;34m(self, other)\u001B[0m\n\u001B[0;32m     38\u001B[0m \u001B[38;5;129m@unpack_zerodim_and_defer\u001B[39m(\u001B[38;5;124m\"\u001B[39m\u001B[38;5;124m__eq__\u001B[39m\u001B[38;5;124m\"\u001B[39m)\n\u001B[0;32m     39\u001B[0m \u001B[38;5;28;01mdef\u001B[39;00m \u001B[38;5;21m__eq__\u001B[39m(\u001B[38;5;28mself\u001B[39m, other):\n\u001B[1;32m---> 40\u001B[0m     \u001B[38;5;28;01mreturn\u001B[39;00m \u001B[38;5;28;43mself\u001B[39;49m\u001B[38;5;241;43m.\u001B[39;49m\u001B[43m_cmp_method\u001B[49m\u001B[43m(\u001B[49m\u001B[43mother\u001B[49m\u001B[43m,\u001B[49m\u001B[43m \u001B[49m\u001B[43moperator\u001B[49m\u001B[38;5;241;43m.\u001B[39;49m\u001B[43meq\u001B[49m\u001B[43m)\u001B[49m\n",
      "File \u001B[1;32m~\\AppData\\Local\\Programs\\Python\\Python310\\lib\\site-packages\\pandas\\core\\series.py:5617\u001B[0m, in \u001B[0;36mSeries._cmp_method\u001B[1;34m(self, other, op)\u001B[0m\n\u001B[0;32m   5614\u001B[0m res_name \u001B[38;5;241m=\u001B[39m ops\u001B[38;5;241m.\u001B[39mget_op_result_name(\u001B[38;5;28mself\u001B[39m, other)\n\u001B[0;32m   5616\u001B[0m \u001B[38;5;28;01mif\u001B[39;00m \u001B[38;5;28misinstance\u001B[39m(other, Series) \u001B[38;5;129;01mand\u001B[39;00m \u001B[38;5;129;01mnot\u001B[39;00m \u001B[38;5;28mself\u001B[39m\u001B[38;5;241m.\u001B[39m_indexed_same(other):\n\u001B[1;32m-> 5617\u001B[0m     \u001B[38;5;28;01mraise\u001B[39;00m \u001B[38;5;167;01mValueError\u001B[39;00m(\u001B[38;5;124m\"\u001B[39m\u001B[38;5;124mCan only compare identically-labeled Series objects\u001B[39m\u001B[38;5;124m\"\u001B[39m)\n\u001B[0;32m   5619\u001B[0m lvalues \u001B[38;5;241m=\u001B[39m \u001B[38;5;28mself\u001B[39m\u001B[38;5;241m.\u001B[39m_values\n\u001B[0;32m   5620\u001B[0m rvalues \u001B[38;5;241m=\u001B[39m extract_array(other, extract_numpy\u001B[38;5;241m=\u001B[39m\u001B[38;5;28;01mTrue\u001B[39;00m, extract_range\u001B[38;5;241m=\u001B[39m\u001B[38;5;28;01mTrue\u001B[39;00m)\n",
      "\u001B[1;31mValueError\u001B[0m: Can only compare identically-labeled Series objects"
     ]
    }
   ],
   "source": [
    "Dataframe_More['DATE'] = pd.to_datetime('today', errors='ignore').date()\n",
    "#Dataframe_More['URL'] = [Df_final.loc[Df_final['ID'] == Dataframe_More['ID'], 'URL']]"
   ],
   "metadata": {
    "collapsed": false,
    "pycharm": {
     "name": "#%%\n"
    }
   }
  },
  {
   "cell_type": "code",
   "execution_count": 117,
   "outputs": [
    {
     "data": {
      "text/plain": "            ID                      Seller        Price        DATE  \\\n0   B07WSRXMS8                LIVE IMPORTS  R$ 2.299,00  2022-05-21   \n1   B07WSRXMS8                 King Pro St  R$ 2.289,00  2022-05-21   \n2   B07WSRXMS8              GRUPO MAVERICK  R$ 2.599,00  2022-05-21   \n3   B09D15SFMQ                LIVE IMPORTS  R$ 3.207,25  2022-05-21   \n4   B09D15SFMQ                 King Pro St  R$ 3.219,00  2022-05-21   \n5   B09D15SFMQ              GRUPO MAVERICK  R$ 4.299,99  2022-05-21   \n6   B09D15SFMQ                     MeuDome  R$ 4.799,00  2022-05-21   \n7   B08R2XCM9K                  EOS IMPORT  R$ 2.999,00  2022-05-21   \n8   B08KXN6BNH                 King Pro St  R$ 2.599,00  2022-05-21   \n9   B08KXN6BNH                 King Pro St  R$ 2.739,00  2022-05-21   \n10  B08KXN6BNH              GRUPO MAVERICK  R$ 3.399,99  2022-05-21   \n11  B08ZSVP9T7                  EOS IMPORT  R$ 2.599,00  2022-05-21   \n12  B08ZSVP9T7                LIVE IMPORTS  R$ 2.599,00  2022-05-21   \n13  B08ZSVP9T7                LIVE IMPORTS  R$ 2.599,00  2022-05-21   \n14  B08ZSVP9T7              GRUPO MAVERICK  R$ 3.199,99  2022-05-21   \n15  B07RJMK2GV                    QanHorse  R$ 1.983,00  2022-05-21   \n16  B07RJMK2GV   Xalo Comercio de Produtos  R$ 2.420,00  2022-05-21   \n17  B07RJMK2GV                     BC INFO  R$ 2.712,67  2022-05-21   \n18  B07RJMK2GV     Bits & Bytes Tecnologia  R$ 2.851,27  2022-05-21   \n19  B07RJMK2GV              Elefante Store  R$ 3.605,23  2022-05-21   \n20  B07RJMK2GV           DigitalShoppStore  R$ 4.100,00  2022-05-21   \n\n                                                  URL  \n0   https://www.amazon.com.br/Gopro-Black-prova-D%...  \n1   https://www.amazon.com.br/GoPro-Frontal-HyperS...  \n2   https://www.amazon.com.br/C%C3%A2mera-GoPro-HE...  \n3   https://www.amazon.com.br/C%C3%A2mera-Cart%C3%...  \n4   https://www.amazon.com.br/C%C3%A2mera-GoPro-Fr...  \n5   https://www.amazon.com.br/C%C3%82MERA-GOPRO-BL...  \n6   https://www.amazon.com.br/C%C3%A2mera-Digital-...  \n7   https://www.amazon.com.br/Camera-DJI-Osmo-Acti...  \n8                                                 NaN  \n9                                                 NaN  \n10                                                NaN  \n11                                                NaN  \n12                                                NaN  \n13                                                NaN  \n14                                                NaN  \n15                                                NaN  \n16                                                NaN  \n17                                                NaN  \n18                                                NaN  \n19                                                NaN  \n20                                                NaN  ",
      "text/html": "<div>\n<style scoped>\n    .dataframe tbody tr th:only-of-type {\n        vertical-align: middle;\n    }\n\n    .dataframe tbody tr th {\n        vertical-align: top;\n    }\n\n    .dataframe thead th {\n        text-align: right;\n    }\n</style>\n<table border=\"1\" class=\"dataframe\">\n  <thead>\n    <tr style=\"text-align: right;\">\n      <th></th>\n      <th>ID</th>\n      <th>Seller</th>\n      <th>Price</th>\n      <th>DATE</th>\n      <th>URL</th>\n    </tr>\n  </thead>\n  <tbody>\n    <tr>\n      <th>0</th>\n      <td>B07WSRXMS8</td>\n      <td>LIVE IMPORTS</td>\n      <td>R$ 2.299,00</td>\n      <td>2022-05-21</td>\n      <td>https://www.amazon.com.br/Gopro-Black-prova-D%...</td>\n    </tr>\n    <tr>\n      <th>1</th>\n      <td>B07WSRXMS8</td>\n      <td>King Pro St</td>\n      <td>R$ 2.289,00</td>\n      <td>2022-05-21</td>\n      <td>https://www.amazon.com.br/GoPro-Frontal-HyperS...</td>\n    </tr>\n    <tr>\n      <th>2</th>\n      <td>B07WSRXMS8</td>\n      <td>GRUPO MAVERICK</td>\n      <td>R$ 2.599,00</td>\n      <td>2022-05-21</td>\n      <td>https://www.amazon.com.br/C%C3%A2mera-GoPro-HE...</td>\n    </tr>\n    <tr>\n      <th>3</th>\n      <td>B09D15SFMQ</td>\n      <td>LIVE IMPORTS</td>\n      <td>R$ 3.207,25</td>\n      <td>2022-05-21</td>\n      <td>https://www.amazon.com.br/C%C3%A2mera-Cart%C3%...</td>\n    </tr>\n    <tr>\n      <th>4</th>\n      <td>B09D15SFMQ</td>\n      <td>King Pro St</td>\n      <td>R$ 3.219,00</td>\n      <td>2022-05-21</td>\n      <td>https://www.amazon.com.br/C%C3%A2mera-GoPro-Fr...</td>\n    </tr>\n    <tr>\n      <th>5</th>\n      <td>B09D15SFMQ</td>\n      <td>GRUPO MAVERICK</td>\n      <td>R$ 4.299,99</td>\n      <td>2022-05-21</td>\n      <td>https://www.amazon.com.br/C%C3%82MERA-GOPRO-BL...</td>\n    </tr>\n    <tr>\n      <th>6</th>\n      <td>B09D15SFMQ</td>\n      <td>MeuDome</td>\n      <td>R$ 4.799,00</td>\n      <td>2022-05-21</td>\n      <td>https://www.amazon.com.br/C%C3%A2mera-Digital-...</td>\n    </tr>\n    <tr>\n      <th>7</th>\n      <td>B08R2XCM9K</td>\n      <td>EOS IMPORT</td>\n      <td>R$ 2.999,00</td>\n      <td>2022-05-21</td>\n      <td>https://www.amazon.com.br/Camera-DJI-Osmo-Acti...</td>\n    </tr>\n    <tr>\n      <th>8</th>\n      <td>B08KXN6BNH</td>\n      <td>King Pro St</td>\n      <td>R$ 2.599,00</td>\n      <td>2022-05-21</td>\n      <td>NaN</td>\n    </tr>\n    <tr>\n      <th>9</th>\n      <td>B08KXN6BNH</td>\n      <td>King Pro St</td>\n      <td>R$ 2.739,00</td>\n      <td>2022-05-21</td>\n      <td>NaN</td>\n    </tr>\n    <tr>\n      <th>10</th>\n      <td>B08KXN6BNH</td>\n      <td>GRUPO MAVERICK</td>\n      <td>R$ 3.399,99</td>\n      <td>2022-05-21</td>\n      <td>NaN</td>\n    </tr>\n    <tr>\n      <th>11</th>\n      <td>B08ZSVP9T7</td>\n      <td>EOS IMPORT</td>\n      <td>R$ 2.599,00</td>\n      <td>2022-05-21</td>\n      <td>NaN</td>\n    </tr>\n    <tr>\n      <th>12</th>\n      <td>B08ZSVP9T7</td>\n      <td>LIVE IMPORTS</td>\n      <td>R$ 2.599,00</td>\n      <td>2022-05-21</td>\n      <td>NaN</td>\n    </tr>\n    <tr>\n      <th>13</th>\n      <td>B08ZSVP9T7</td>\n      <td>LIVE IMPORTS</td>\n      <td>R$ 2.599,00</td>\n      <td>2022-05-21</td>\n      <td>NaN</td>\n    </tr>\n    <tr>\n      <th>14</th>\n      <td>B08ZSVP9T7</td>\n      <td>GRUPO MAVERICK</td>\n      <td>R$ 3.199,99</td>\n      <td>2022-05-21</td>\n      <td>NaN</td>\n    </tr>\n    <tr>\n      <th>15</th>\n      <td>B07RJMK2GV</td>\n      <td>QanHorse</td>\n      <td>R$ 1.983,00</td>\n      <td>2022-05-21</td>\n      <td>NaN</td>\n    </tr>\n    <tr>\n      <th>16</th>\n      <td>B07RJMK2GV</td>\n      <td>Xalo Comercio de Produtos</td>\n      <td>R$ 2.420,00</td>\n      <td>2022-05-21</td>\n      <td>NaN</td>\n    </tr>\n    <tr>\n      <th>17</th>\n      <td>B07RJMK2GV</td>\n      <td>BC INFO</td>\n      <td>R$ 2.712,67</td>\n      <td>2022-05-21</td>\n      <td>NaN</td>\n    </tr>\n    <tr>\n      <th>18</th>\n      <td>B07RJMK2GV</td>\n      <td>Bits &amp; Bytes Tecnologia</td>\n      <td>R$ 2.851,27</td>\n      <td>2022-05-21</td>\n      <td>NaN</td>\n    </tr>\n    <tr>\n      <th>19</th>\n      <td>B07RJMK2GV</td>\n      <td>Elefante Store</td>\n      <td>R$ 3.605,23</td>\n      <td>2022-05-21</td>\n      <td>NaN</td>\n    </tr>\n    <tr>\n      <th>20</th>\n      <td>B07RJMK2GV</td>\n      <td>DigitalShoppStore</td>\n      <td>R$ 4.100,00</td>\n      <td>2022-05-21</td>\n      <td>NaN</td>\n    </tr>\n  </tbody>\n</table>\n</div>"
     },
     "execution_count": 117,
     "metadata": {},
     "output_type": "execute_result"
    }
   ],
   "source": [
    "Dataframe_More"
   ],
   "metadata": {
    "collapsed": false,
    "pycharm": {
     "name": "#%%\n"
    }
   }
  },
  {
   "cell_type": "code",
   "execution_count": 63,
   "outputs": [
    {
     "data": {
      "text/plain": "         DATE                                                URL MARKETPLACE  \\\n0  2022-05-21  https://www.amazon.com.br/Gopro-Black-prova-D%...      AMAZON   \n1  2022-05-21  https://www.amazon.com.br/GoPro-Frontal-HyperS...      AMAZON   \n2  2022-05-21  https://www.amazon.com.br/C%C3%A2mera-GoPro-HE...      AMAZON   \n3  2022-05-21  https://www.amazon.com.br/C%C3%A2mera-Cart%C3%...      AMAZON   \n4  2022-05-21  https://www.amazon.com.br/C%C3%A2mera-GoPro-Fr...      AMAZON   \n5  2022-05-21  https://www.amazon.com.br/C%C3%82MERA-GOPRO-BL...      AMAZON   \n6  2022-05-21  https://www.amazon.com.br/C%C3%A2mera-Digital-...      AMAZON   \n7  2022-05-21  https://www.amazon.com.br/Camera-DJI-Osmo-Acti...      AMAZON   \n\n       SELLER    PRICE  PARCEL  INSTALLMENT  INSTALLMENT_PAYMENT          ID  \\\n0  EOS IMPORT  2299.00      10       229.90               2299.0  B07WSRXMS8   \n1  EOS IMPORT  3207.25      10       320.77               3207.7  B09D15SFMQ   \n2      Amazon  4688.20      10       468.82               4688.2  B093JKGDJZ   \n3  EOS IMPORT  3000.00      10       300.00               3000.0  B08R2XCM9K   \n4  EOS IMPORT  2540.73      10       254.10               2541.0  B08KXN6BNH   \n5  EOS IMPORT  2599.00      10       259.90               2599.0  B08ZSVP9T7   \n6  EOS IMPORT  3799.00      10       379.90               3799.0  B087ZP2GW4   \n7  HuaYe Tech  1982.90      10       198.29               1982.9  B07RJMK2GV   \n\n                                             PRODUCT  INTERNACIONAL  \n0          Gopro Hero 8 Black 4k à prova D'água C...  Internacional  \n1          Câmera GoPro HERO10 Black à Prova com ...  Internacional  \n2          Câmera GoPro HERO9 Black - Kit Trip Pr...  Internacional  \n3          Câmera GoPro HERO9 Black à Prova D'águ...  Internacional  \n4          Câmera GoPro HERO9 Black à Prova D'águ...  Internacional  \n5          CÂMERA GOPRO HERO 8 BLACK ESSENCIAL BU...  Internacional  \n6          Câmera Digital GoPro Max 360o - CHDHZ-...  Internacional  \n7          Camera DJI Osmo Action 4K Sensor CMOS ...  Internacional  ",
      "text/html": "<div>\n<style scoped>\n    .dataframe tbody tr th:only-of-type {\n        vertical-align: middle;\n    }\n\n    .dataframe tbody tr th {\n        vertical-align: top;\n    }\n\n    .dataframe thead th {\n        text-align: right;\n    }\n</style>\n<table border=\"1\" class=\"dataframe\">\n  <thead>\n    <tr style=\"text-align: right;\">\n      <th></th>\n      <th>DATE</th>\n      <th>URL</th>\n      <th>MARKETPLACE</th>\n      <th>SELLER</th>\n      <th>PRICE</th>\n      <th>PARCEL</th>\n      <th>INSTALLMENT</th>\n      <th>INSTALLMENT_PAYMENT</th>\n      <th>ID</th>\n      <th>PRODUCT</th>\n      <th>INTERNACIONAL</th>\n    </tr>\n  </thead>\n  <tbody>\n    <tr>\n      <th>0</th>\n      <td>2022-05-21</td>\n      <td>https://www.amazon.com.br/Gopro-Black-prova-D%...</td>\n      <td>AMAZON</td>\n      <td>EOS IMPORT</td>\n      <td>2299.00</td>\n      <td>10</td>\n      <td>229.90</td>\n      <td>2299.0</td>\n      <td>B07WSRXMS8</td>\n      <td>Gopro Hero 8 Black 4k à prova D'água C...</td>\n      <td>Internacional</td>\n    </tr>\n    <tr>\n      <th>1</th>\n      <td>2022-05-21</td>\n      <td>https://www.amazon.com.br/GoPro-Frontal-HyperS...</td>\n      <td>AMAZON</td>\n      <td>EOS IMPORT</td>\n      <td>3207.25</td>\n      <td>10</td>\n      <td>320.77</td>\n      <td>3207.7</td>\n      <td>B09D15SFMQ</td>\n      <td>Câmera GoPro HERO10 Black à Prova com ...</td>\n      <td>Internacional</td>\n    </tr>\n    <tr>\n      <th>2</th>\n      <td>2022-05-21</td>\n      <td>https://www.amazon.com.br/C%C3%A2mera-GoPro-HE...</td>\n      <td>AMAZON</td>\n      <td>Amazon</td>\n      <td>4688.20</td>\n      <td>10</td>\n      <td>468.82</td>\n      <td>4688.2</td>\n      <td>B093JKGDJZ</td>\n      <td>Câmera GoPro HERO9 Black - Kit Trip Pr...</td>\n      <td>Internacional</td>\n    </tr>\n    <tr>\n      <th>3</th>\n      <td>2022-05-21</td>\n      <td>https://www.amazon.com.br/C%C3%A2mera-Cart%C3%...</td>\n      <td>AMAZON</td>\n      <td>EOS IMPORT</td>\n      <td>3000.00</td>\n      <td>10</td>\n      <td>300.00</td>\n      <td>3000.0</td>\n      <td>B08R2XCM9K</td>\n      <td>Câmera GoPro HERO9 Black à Prova D'águ...</td>\n      <td>Internacional</td>\n    </tr>\n    <tr>\n      <th>4</th>\n      <td>2022-05-21</td>\n      <td>https://www.amazon.com.br/C%C3%A2mera-GoPro-Fr...</td>\n      <td>AMAZON</td>\n      <td>EOS IMPORT</td>\n      <td>2540.73</td>\n      <td>10</td>\n      <td>254.10</td>\n      <td>2541.0</td>\n      <td>B08KXN6BNH</td>\n      <td>Câmera GoPro HERO9 Black à Prova D'águ...</td>\n      <td>Internacional</td>\n    </tr>\n    <tr>\n      <th>5</th>\n      <td>2022-05-21</td>\n      <td>https://www.amazon.com.br/C%C3%82MERA-GOPRO-BL...</td>\n      <td>AMAZON</td>\n      <td>EOS IMPORT</td>\n      <td>2599.00</td>\n      <td>10</td>\n      <td>259.90</td>\n      <td>2599.0</td>\n      <td>B08ZSVP9T7</td>\n      <td>CÂMERA GOPRO HERO 8 BLACK ESSENCIAL BU...</td>\n      <td>Internacional</td>\n    </tr>\n    <tr>\n      <th>6</th>\n      <td>2022-05-21</td>\n      <td>https://www.amazon.com.br/C%C3%A2mera-Digital-...</td>\n      <td>AMAZON</td>\n      <td>EOS IMPORT</td>\n      <td>3799.00</td>\n      <td>10</td>\n      <td>379.90</td>\n      <td>3799.0</td>\n      <td>B087ZP2GW4</td>\n      <td>Câmera Digital GoPro Max 360o - CHDHZ-...</td>\n      <td>Internacional</td>\n    </tr>\n    <tr>\n      <th>7</th>\n      <td>2022-05-21</td>\n      <td>https://www.amazon.com.br/Camera-DJI-Osmo-Acti...</td>\n      <td>AMAZON</td>\n      <td>HuaYe Tech</td>\n      <td>1982.90</td>\n      <td>10</td>\n      <td>198.29</td>\n      <td>1982.9</td>\n      <td>B07RJMK2GV</td>\n      <td>Camera DJI Osmo Action 4K Sensor CMOS ...</td>\n      <td>Internacional</td>\n    </tr>\n  </tbody>\n</table>\n</div>"
     },
     "execution_count": 63,
     "metadata": {},
     "output_type": "execute_result"
    }
   ],
   "source": [
    "#Df_final = Df_final.drop(columns=['MORE'])\n",
    "Df_final"
   ],
   "metadata": {
    "collapsed": false,
    "pycharm": {
     "name": "#%%\n"
    }
   }
  },
  {
   "cell_type": "code",
   "execution_count": null,
   "outputs": [],
   "source": [],
   "metadata": {
    "collapsed": false,
    "pycharm": {
     "name": "#%%\n"
    }
   }
  },
  {
   "cell_type": "code",
   "execution_count": 38,
   "metadata": {
    "pycharm": {
     "name": "#%%\n"
    }
   },
   "outputs": [],
   "source": [
    "Dataframe_More.to_excel(r\"C:\\Users\\pedro\\Documents\\Turte Brand Protection\\Turtle_Thinker_Alpha_0.1\\Amazon_More_Wacom.xlsx\", index=False)"
   ]
  },
  {
   "cell_type": "code",
   "execution_count": 33,
   "metadata": {
    "pycharm": {
     "name": "#%%\n"
    }
   },
   "outputs": [
    {
     "name": "stdout",
     "output_type": "stream",
     "text": [
      "187\n"
     ]
    }
   ],
   "source": [
    "Amazon_seller_more =  [s for s in Amazon_seller_more if len(s) > 1]\n",
    "print(len(Amazon_seller_more))"
   ]
  },
  {
   "cell_type": "code",
   "execution_count": 39,
   "metadata": {
    "pycharm": {
     "name": "#%%\n"
    }
   },
   "outputs": [
    {
     "name": "stdout",
     "output_type": "stream",
     "text": [
      "0\n"
     ]
    }
   ],
   "source": [
    "Amazon_seller_more =  [s for s in Amazon_seller_more if not 'Política de devolução' in s]\n",
    "Amazon_seller_more =  [s for s in Amazon_seller_more if not 'Apagar tudo' in s]\n",
    "\n",
    "print(len(Amazon_seller_more))"
   ]
  },
  {
   "cell_type": "code",
   "execution_count": null,
   "metadata": {
    "pycharm": {
     "name": "#%%\n"
    }
   },
   "outputs": [],
   "source": []
  },
  {
   "cell_type": "code",
   "execution_count": 37,
   "metadata": {
    "pycharm": {
     "name": "#%%\n"
    }
   },
   "outputs": [
    {
     "data": {
      "text/plain": [
       "[' Tudo à Beça',\n",
       " 'Política de devolução',\n",
       " ' Gigantec',\n",
       " 'Política de devolução',\n",
       " ' INFOSHOP.',\n",
       " 'Política de devolução',\n",
       " ' Thaun Shop',\n",
       " 'Política de devolução',\n",
       " ' Tendinfo',\n",
       " 'Política de devolução',\n",
       " ' Triplenet Pricing INC',\n",
       " 'Política de devolução',\n",
       " '',\n",
       " 'Apagar tudo',\n",
       " ' O MUNDO PARA VOCÊ',\n",
       " 'Política de devolução',\n",
       " ' ZAPATA STORE SP',\n",
       " 'Política de devolução',\n",
       " ' OFICINA DOS BITS',\n",
       " 'Política de devolução',\n",
       " ' Syma Solutions',\n",
       " 'Política de devolução',\n",
       " ' Conect Magazine',\n",
       " 'Política de devolução',\n",
       " ' IBYTE',\n",
       " 'Política de devolução',\n",
       " ' Triplenet Pricing INC',\n",
       " 'Política de devolução',\n",
       " ' Triplenet Pricing INC',\n",
       " 'Política de devolução',\n",
       " ' MAGIC WORLD ELETRONICOS',\n",
       " 'Política de devolução',\n",
       " ' REX INFORMATICA',\n",
       " 'Política de devolução',\n",
       " ' Tudo à Beça',\n",
       " 'Política de devolução',\n",
       " ' W-TECH IMPORTS',\n",
       " 'Política de devolução',\n",
       " ' Kadri Tecnologia',\n",
       " 'Política de devolução',\n",
       " ' E-SPOT',\n",
       " 'Política de devolução',\n",
       " ' Tendinfo',\n",
       " 'Política de devolução',\n",
       " '',\n",
       " 'Apagar tudo',\n",
       " ' Mil Coisas Drop',\n",
       " 'Política de devolução',\n",
       " ' Mil Coisas droship',\n",
       " 'Política de devolução',\n",
       " 'Política de devolução ',\n",
       " ' BalbinoShop',\n",
       " 'Política de devolução',\n",
       " ' Loja iPlace',\n",
       " 'Política de devolução',\n",
       " ' E-SPOT',\n",
       " 'Política de devolução',\n",
       " ' W-TECH IMPORTS',\n",
       " 'Política de devolução',\n",
       " ' Tendinfo',\n",
       " 'Política de devolução',\n",
       " '',\n",
       " 'Apagar tudo',\n",
       " ' Triplenet Pricing INC',\n",
       " 'Política de devolução',\n",
       " ' DONA JUREMA BOUTIK',\n",
       " 'Política de devolução',\n",
       " ' E-SPOT',\n",
       " 'Política de devolução',\n",
       " ' Triplenet Pricing INC',\n",
       " 'Política de devolução',\n",
       " '',\n",
       " 'Apagar tudo',\n",
       " 'Política de devolução ',\n",
       " ' Tendinfo',\n",
       " 'Política de devolução',\n",
       " ' Megaprice Comercio',\n",
       " 'Política de devolução',\n",
       " ' O MUNDO PARA VOCÊ',\n",
       " 'Política de devolução',\n",
       " ' Mil Coisas droship',\n",
       " 'Política de devolução',\n",
       " ' Angel Eletronicos',\n",
       " 'Política de devolução',\n",
       " ' MAGIC WORLD ELETRONICOS',\n",
       " 'Política de devolução',\n",
       " ' REX INFORMATICA',\n",
       " 'Política de devolução',\n",
       " ' Olist',\n",
       " 'Política de devolução',\n",
       " ' JHP Store',\n",
       " 'Política de devolução',\n",
       " ' Tudo à Beça',\n",
       " 'Política de devolução',\n",
       " ' TopTeck Produtos para Automação Residencial',\n",
       " 'Política de devolução',\n",
       " ' Triplenet Pricing INC',\n",
       " 'Política de devolução',\n",
       " ' Gigantec',\n",
       " 'Política de devolução',\n",
       " ' W-TECH IMPORTS',\n",
       " 'Política de devolução',\n",
       " ' E-SPOT',\n",
       " 'Política de devolução',\n",
       " ' Tendinfo',\n",
       " 'Política de devolução',\n",
       " '',\n",
       " 'Apagar tudo',\n",
       " ' INPOWER',\n",
       " 'Política de devolução',\n",
       " 'Política de devolução ',\n",
       " ' Megaprice Comercio',\n",
       " 'Política de devolução',\n",
       " ' MAGIC WORLD ELETRONICOS',\n",
       " 'Política de devolução',\n",
       " ' REX INFORMATICA',\n",
       " 'Política de devolução',\n",
       " ' PHOENIX ELETRONICOS',\n",
       " 'Política de devolução',\n",
       " ' Tudo à Beça',\n",
       " 'Política de devolução',\n",
       " ' Gigantec',\n",
       " 'Política de devolução',\n",
       " ' Angel Eletronicos',\n",
       " 'Política de devolução',\n",
       " ' SHOPAR INFO',\n",
       " 'Política de devolução',\n",
       " '',\n",
       " 'Apagar tudo',\n",
       " ' Vintage Vibes Br',\n",
       " 'Política de devolução',\n",
       " ' XPPEN-Feel Delicate Touch',\n",
       " 'Política de devolução',\n",
       " ' Dark Gamer',\n",
       " 'Política de devolução',\n",
       " ' Triplenet Pricing INC',\n",
       " 'Política de devolução',\n",
       " ' E-SHOP CITY',\n",
       " 'Política de devolução',\n",
       " ' O MUNDO PARA VOCÊ',\n",
       " 'Política de devolução',\n",
       " ' Tudo à Beça',\n",
       " 'Política de devolução',\n",
       " ' Gigantec',\n",
       " 'Política de devolução',\n",
       " ' HD Store Oficial',\n",
       " 'Política de devolução',\n",
       " ' Triplenet Pricing INC',\n",
       " 'Política de devolução',\n",
       " ' E-SPOT',\n",
       " 'Política de devolução',\n",
       " ' Loja iPlace',\n",
       " 'Política de devolução',\n",
       " ' W-TECH IMPORTS',\n",
       " 'Política de devolução',\n",
       " ' Tendinfo',\n",
       " 'Política de devolução',\n",
       " '',\n",
       " 'Apagar tudo',\n",
       " ' Promotion.Shop 💎',\n",
       " 'Política de devolução',\n",
       " ' E-SHOP CITY',\n",
       " 'Política de devolução',\n",
       " ' DONA JUREMA BOUTIK',\n",
       " 'Política de devolução',\n",
       " ' Thaun Shop',\n",
       " 'Política de devolução',\n",
       " ' INFOSHOP.',\n",
       " 'Política de devolução',\n",
       " ' Gigantec',\n",
       " 'Política de devolução',\n",
       " ' Tudo à Beça',\n",
       " 'Política de devolução',\n",
       " ' OFICINA DOS BITS',\n",
       " 'Política de devolução',\n",
       " ' W-TECH IMPORTS',\n",
       " 'Política de devolução',\n",
       " ' TechShed',\n",
       " 'Política de devolução',\n",
       " ' Triplenet Pricing INC',\n",
       " 'Política de devolução',\n",
       " ' E-SPOT',\n",
       " 'Política de devolução',\n",
       " ' Bits & Bytes Tecnologia',\n",
       " 'Política de devolução',\n",
       " ' HD Store Oficial',\n",
       " 'Política de devolução',\n",
       " ' Tudo à Beça',\n",
       " 'Política de devolução',\n",
       " ' EVOLUÇÃO IMPORT',\n",
       " 'Política de devolução',\n",
       " ' Qualitech Informática',\n",
       " 'Política de devolução',\n",
       " ' TechShed',\n",
       " 'Política de devolução',\n",
       " ' Gigantec',\n",
       " 'Política de devolução',\n",
       " ' OFICINA DOS BITS',\n",
       " 'Política de devolução',\n",
       " ' Triplenet Pricing INC',\n",
       " 'Política de devolução',\n",
       " ' W-TECH IMPORTS',\n",
       " 'Política de devolução',\n",
       " ' E-SPOT',\n",
       " 'Política de devolução',\n",
       " ' Triplenet Pricing INC',\n",
       " 'Política de devolução',\n",
       " ' W-TECH IMPORTS',\n",
       " 'Política de devolução',\n",
       " ' Gigantec',\n",
       " 'Política de devolução',\n",
       " ' Tendinfo',\n",
       " 'Política de devolução',\n",
       " '',\n",
       " 'Apagar tudo',\n",
       " ' E-SHOP CITY',\n",
       " 'Política de devolução',\n",
       " '',\n",
       " 'Apagar tudo',\n",
       " ' Gdgets4u',\n",
       " 'Política de devolução',\n",
       " ' Tudo Tem Shopp',\n",
       " 'Política de devolução',\n",
       " ' MRASHOP',\n",
       " 'Política de devolução',\n",
       " ' Joc Comercial',\n",
       " 'Política de devolução',\n",
       " ' PLANETASHOP2',\n",
       " 'Política de devolução',\n",
       " ' Mondial Shop',\n",
       " 'Política de devolução',\n",
       " ' Imports Br',\n",
       " 'Política de devolução',\n",
       " ' Pagani Mall',\n",
       " 'Política de devolução',\n",
       " ' VitrineGae',\n",
       " 'Política de devolução',\n",
       " ' Gadget Shop Express BR',\n",
       " 'Política de devolução',\n",
       " '',\n",
       " 'Apagar tudo',\n",
       " ' Gdgets4u',\n",
       " 'Política de devolução',\n",
       " ' Pagani Mall',\n",
       " 'Política de devolução',\n",
       " ' Gadget Shop Express BR',\n",
       " 'Política de devolução',\n",
       " ' VitrineGae',\n",
       " 'Política de devolução',\n",
       " ' TOTAL INFO',\n",
       " 'Política de devolução',\n",
       " ' ALB SHOP',\n",
       " 'Política de devolução',\n",
       " ' Alfa Tecnológico',\n",
       " 'Política de devolução',\n",
       " ' XPPEN-Feel Delicate Touch',\n",
       " 'Política de devolução',\n",
       " ' Tendinfo',\n",
       " 'Política de devolução',\n",
       " ' MEIREMAGAZINE',\n",
       " 'Política de devolução',\n",
       " '',\n",
       " 'Apagar tudo',\n",
       " ' MilleniumShop',\n",
       " 'Política de devolução',\n",
       " ' Ignis Imports',\n",
       " 'Política de devolução',\n",
       " ' Promotion.Shop 💎',\n",
       " 'Política de devolução',\n",
       " ' MRASHOP',\n",
       " 'Política de devolução',\n",
       " ' shoploop',\n",
       " 'Política de devolução',\n",
       " ' VitrineGae',\n",
       " 'Política de devolução',\n",
       " ' PLANETASHOP2',\n",
       " 'Política de devolução',\n",
       " ' Pagani Mall',\n",
       " 'Política de devolução',\n",
       " ' Eletro Mania ✔️',\n",
       " 'Política de devolução',\n",
       " ' NewGifts',\n",
       " 'Política de devolução',\n",
       " '',\n",
       " 'Apagar tudo',\n",
       " ' MRASHOP',\n",
       " 'Política de devolução',\n",
       " ' Pagani Mall',\n",
       " 'Política de devolução',\n",
       " ' MEIREMAGAZINE',\n",
       " 'Política de devolução',\n",
       " ' Ami Ventures Inc.',\n",
       " 'Política de devolução',\n",
       " '',\n",
       " 'Apagar tudo',\n",
       " 'Política de devolução ',\n",
       " ' Tudo à Beça',\n",
       " 'Política de devolução',\n",
       " ' INFOGORDO',\n",
       " 'Política de devolução',\n",
       " ' HD Store Oficial',\n",
       " 'Política de devolução',\n",
       " ' Gigantec',\n",
       " 'Política de devolução',\n",
       " ' Triplenet Pricing INC',\n",
       " 'Política de devolução',\n",
       " ' Loja iPlace',\n",
       " 'Política de devolução',\n",
       " ' E-SPOT',\n",
       " 'Política de devolução',\n",
       " ' DOTCOMP',\n",
       " 'Política de devolução',\n",
       " \" Castro's Outlet\",\n",
       " 'Política de devolução',\n",
       " ' Obabox Oficial',\n",
       " 'Política de devolução',\n",
       " ' Mula Games',\n",
       " 'Política de devolução',\n",
       " ' Mustache Books',\n",
       " 'Política de devolução',\n",
       " ' LT2 SHOP',\n",
       " 'Política de devolução',\n",
       " ' OFICINA DOS BITS',\n",
       " 'Política de devolução',\n",
       " ' Elementar Tech',\n",
       " 'Política de devolução',\n",
       " ' Ami Ventures Inc.',\n",
       " 'Política de devolução',\n",
       " ' Tendinfo',\n",
       " 'Política de devolução',\n",
       " ' Tendinfo',\n",
       " 'Política de devolução',\n",
       " ' MMPLACE OFICIAL',\n",
       " 'Política de devolução',\n",
       " ' Mula Games',\n",
       " 'Política de devolução',\n",
       " ' Gigantec',\n",
       " 'Política de devolução',\n",
       " ' Mustache Books',\n",
       " 'Política de devolução',\n",
       " ' LT2 SHOP',\n",
       " 'Política de devolução',\n",
       " ' OFICINA DOS BITS',\n",
       " 'Política de devolução',\n",
       " ' Elementar Tech',\n",
       " 'Política de devolução',\n",
       " ' E-SHOP CITY',\n",
       " 'Política de devolução',\n",
       " ' EGAMER',\n",
       " 'Política de devolução',\n",
       " ' TURUM',\n",
       " 'Política de devolução',\n",
       " ' TURUM MG',\n",
       " 'Política de devolução',\n",
       " ' OFICINA DOS BITS',\n",
       " 'Política de devolução',\n",
       " ' PI-DIL CHEGOU DIGITAL ⭐⭐⭐⭐⭐',\n",
       " 'Política de devolução',\n",
       " '',\n",
       " 'Apagar tudo',\n",
       " ' octo.shop',\n",
       " 'Política de devolução',\n",
       " ' INFOGORDO',\n",
       " 'Política de devolução',\n",
       " 'Política de devolução ',\n",
       " ' OFICINA DOS BITS',\n",
       " 'Política de devolução',\n",
       " '',\n",
       " 'Apagar tudo',\n",
       " ' Triplenet Pricing INC',\n",
       " 'Política de devolução',\n",
       " ' HD Store Oficial',\n",
       " 'Política de devolução']"
      ]
     },
     "execution_count": 37,
     "metadata": {},
     "output_type": "execute_result"
    }
   ],
   "source": [
    "Amazon_seller_more"
   ]
  },
  {
   "cell_type": "code",
   "execution_count": 33,
   "metadata": {
    "pycharm": {
     "name": "#%%\n"
    }
   },
   "outputs": [],
   "source": [
    "Amazon_ID_More = []"
   ]
  },
  {
   "cell_type": "code",
   "execution_count": null,
   "metadata": {
    "pycharm": {
     "name": "#%%\n"
    }
   },
   "outputs": [],
   "source": [
    "Amazon_seller_more = []\n",
    "Amazon_price_more = []\n"
   ]
  },
  {
   "cell_type": "code",
   "execution_count": null,
   "metadata": {
    "pycharm": {
     "name": "#%%\n"
    }
   },
   "outputs": [],
   "source": [
    "Amazon_seller_more"
   ]
  },
  {
   "cell_type": "code",
   "execution_count": null,
   "metadata": {
    "pycharm": {
     "name": "#%%\n"
    }
   },
   "outputs": [],
   "source": [
    "Amazon_price_more"
   ]
  },
  {
   "cell_type": "code",
   "execution_count": null,
   "metadata": {
    "pycharm": {
     "name": "#%%\n"
    }
   },
   "outputs": [],
   "source": [
    "\n",
    "new_url = \"https://www.amazon.com.br/gp/product/ajax/?asin=\" + \"B09D15SFMQ\" + \"&pageno=1&experienceId=aodAjaxMain\"\n",
    "\n",
    "driver.get(new_url)\n",
    "\n",
    "time.sleep(5)\n",
    "\n",
    "body_el = driver.find_element(By.CSS_SELECTOR, 'body')\n",
    "html_str = body_el.get_attribute('innerHTML')\n",
    "\n",
    "Soup = BeautifulSoup(html_str, 'html.parser')\n",
    "\n",
    "for seller in Soup.find_all(class_='a-size-small a-link-normal')[4:]:\n",
    "    print(seller.text)\n",
    "\n",
    "for price in Soup.find_all(class_='a-offscreen')[2:]:\n",
    "    print(price.text)\n"
   ]
  },
  {
   "cell_type": "code",
   "execution_count": null,
   "metadata": {
    "pycharm": {
     "name": "#%%\n"
    }
   },
   "outputs": [],
   "source": []
  },
  {
   "cell_type": "code",
   "execution_count": null,
   "metadata": {
    "pycharm": {
     "name": "#%%\n"
    }
   },
   "outputs": [],
   "source": []
  },
  {
   "cell_type": "code",
   "execution_count": null,
   "metadata": {
    "pycharm": {
     "name": "#%%\n"
    }
   },
   "outputs": [],
   "source": []
  },
  {
   "cell_type": "code",
   "execution_count": null,
   "metadata": {
    "pycharm": {
     "name": "#%%\n"
    }
   },
   "outputs": [],
   "source": [
    "for url in Df_more_offers['ID']:\n",
    "    time.sleep(3)\n",
    "\n",
    "    search = \"https://www.amazon.com.br/gp/product/ajax/?asin=\" + url + \"&pageno=1&experienceId=aodAjaxMain\"\n",
    "\n",
    "    driver.get(search)\n",
    "    body_el = driver.find_element(By.CSS_SELECTOR, 'body')\n",
    "    html_str = body_el.get_attribute('innerHTML')\n",
    "\n",
    "    print(search)\n",
    "\n",
    "    Soup = BeautifulSoup(html_str, 'html.parser')\n",
    "\n",
    "    for seller in Soup.find_all(class_='a-size-small a-link-normal'):\n",
    "        print(seller.text)"
   ]
  },
  {
   "cell_type": "code",
   "execution_count": null,
   "metadata": {
    "pycharm": {
     "name": "#%%\n"
    }
   },
   "outputs": [],
   "source": []
  },
  {
   "cell_type": "code",
   "execution_count": null,
   "metadata": {
    "pycharm": {
     "name": "#%%\n"
    }
   },
   "outputs": [],
   "source": []
  },
  {
   "cell_type": "code",
   "execution_count": null,
   "metadata": {
    "pycharm": {
     "name": "#%%\n"
    }
   },
   "outputs": [],
   "source": []
  },
  {
   "cell_type": "code",
   "execution_count": null,
   "metadata": {
    "pycharm": {
     "name": "#%%\n"
    }
   },
   "outputs": [],
   "source": []
  },
  {
   "cell_type": "code",
   "execution_count": null,
   "metadata": {
    "pycharm": {
     "name": "#%%\n"
    }
   },
   "outputs": [],
   "source": []
  },
  {
   "cell_type": "code",
   "execution_count": null,
   "metadata": {
    "pycharm": {
     "name": "#%%\n"
    }
   },
   "outputs": [],
   "source": [
    "#Teste gráfico \n",
    "import matplotlib.pyplot as plt"
   ]
  },
  {
   "cell_type": "code",
   "execution_count": null,
   "metadata": {
    "pycharm": {
     "name": "#%%\n"
    }
   },
   "outputs": [],
   "source": [
    "plt.figure(figsize=(10,10))\n",
    "plt.boxplot(x=Df_final['PRICE'], vert=False)\n",
    "plt.show()"
   ]
  },
  {
   "cell_type": "code",
   "execution_count": null,
   "metadata": {
    "pycharm": {
     "name": "#%%\n"
    }
   },
   "outputs": [],
   "source": [
    "df_products = Df_final[Df_final['PRICE'] > 800]"
   ]
  },
  {
   "cell_type": "code",
   "execution_count": null,
   "metadata": {
    "pycharm": {
     "name": "#%%\n"
    }
   },
   "outputs": [],
   "source": [
    "df_products"
   ]
  },
  {
   "cell_type": "code",
   "execution_count": null,
   "metadata": {
    "pycharm": {
     "name": "#%%\n"
    }
   },
   "outputs": [],
   "source": []
  }
 ],
 "metadata": {
  "interpreter": {
   "hash": "c3503f95e0e8f4afdf6702396a7a2a29cae9f67572acfe092405dcaa2579b817"
  },
  "kernelspec": {
   "display_name": "Python 3.10.4 64-bit",
   "language": "python",
   "name": "python3"
  },
  "language_info": {
   "codemirror_mode": {
    "name": "ipython",
    "version": 3
   },
   "file_extension": ".py",
   "mimetype": "text/x-python",
   "name": "python",
   "nbconvert_exporter": "python",
   "pygments_lexer": "ipython3",
   "version": "3.10.4"
  },
  "orig_nbformat": 4
 },
 "nbformat": 4,
 "nbformat_minor": 2
}