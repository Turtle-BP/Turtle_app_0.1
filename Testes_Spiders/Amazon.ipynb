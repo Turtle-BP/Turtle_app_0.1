{
 "cells": [
  {
   "cell_type": "code",
   "execution_count": 1,
   "metadata": {
    "pycharm": {
     "name": "#%%\n"
    }
   },
   "outputs": [],
   "source": [
    "#Importando as bibliotecas\n",
    "import pandas as pd\n",
    "import time\n",
    "from selenium import webdriver\n",
    "from selenium.webdriver.chrome.options import Options\n",
    "from selenium.webdriver.common.by import By\n",
    "from requests_html import HTML\n",
    "from bs4 import BeautifulSoup\n",
    "from selenium.webdriver.chrome.webdriver import WebDriver\n",
    "from selenium.common.exceptions import WebDriverException\n",
    "from tqdm import tqdm\n",
    "import sqlite3\n",
    "import datetime\n",
    "import os"
   ]
  },
  {
   "cell_type": "code",
   "execution_count": 2,
   "metadata": {
    "pycharm": {
     "name": "#%%\n"
    }
   },
   "outputs": [],
   "source": [
    "#Congiruando o driver\n",
    "options = Options()\n",
    "options.add_argument(\"--headless\")\n",
    "options.add_argument('--disable-gpu')\n",
    "options.add_argument(\"--log-level=3\")\n",
    "options.add_argument('--no-sandbox')\n",
    "options.add_experimental_option('useAutomationExtension', False)\n",
    "options.add_experimental_option('excludeSwitches', ['enable-logging'])"
   ]
  },
  {
   "cell_type": "code",
   "execution_count": 3,
   "metadata": {
    "pycharm": {
     "name": "#%%\n"
    }
   },
   "outputs": [],
   "source": [
    "#Criando listas\n",
    "Urls_amazon = []\n",
    "\n",
    "Urls_amazon_more = []\n",
    "\n",
    "Products_Links = []\n",
    "\n",
    "Amazon_price = []\n",
    "Amazon_price_2 = []\n",
    "\n",
    "Amazon_seller = []\n",
    "Amazon_seller_2 = []\n",
    "\n",
    "Amazon_title = []\n",
    "Amazon_title_2 = []\n",
    "\n",
    "Amazon_installment_price_full = []\n",
    "Amazon_installment_price_full_2 = []\n",
    "\n",
    "\n",
    "internacional_list = []\n",
    "more_offers_list = []\n",
    "\n",
    "\n",
    "#Listas Button Sellers\n",
    "Amazon_Button_Sellers = []\n",
    "Amazon_Button_Price = []\n",
    "Amazon_Button_ASIN = []\n",
    "\n",
    "#Listas More Sellers\n",
    "Amazon_seller_more = []\n",
    "Amazon_price_more = []\n",
    "Amazon_title_more = []\n",
    "Amazon_ID_more = []"
   ]
  },
  {
   "cell_type": "code",
   "execution_count": 27,
   "outputs": [],
   "source": [
    "#Listas Button Sellers\n",
    "Amazon_Button_Sellers = []\n",
    "Amazon_Button_Price = []\n",
    "Amazon_Button_ASIN = []\n",
    "\n",
    "#Listas More Sellers\n",
    "Amazon_seller_more = []\n",
    "Amazon_price_more = []\n",
    "Amazon_title_more = []\n",
    "Amazon_ID_More = []"
   ],
   "metadata": {
    "collapsed": false,
    "pycharm": {
     "name": "#%%\n"
    }
   }
  },
  {
   "cell_type": "code",
   "execution_count": 4,
   "metadata": {
    "pycharm": {
     "name": "#%%\n"
    }
   },
   "outputs": [
    {
     "name": "stderr",
     "output_type": "stream",
     "text": [
      "C:\\Users\\pedro\\AppData\\Local\\Temp\\ipykernel_24480\\3380238038.py:1: DeprecationWarning: executable_path has been deprecated, please pass in a Service object\n",
      "  driver = webdriver.Chrome(r\"C:\\Users\\pedro\\Documents\\Turte Brand Protection\\Turtle_Thinker_Alpha_0.1\\Data\\Selenium\\Selenium_101\", options=options)\n"
     ]
    }
   ],
   "source": [
    "driver = webdriver.Chrome(r\"C:\\Users\\pedro\\Documents\\Turte Brand Protection\\Turtle_Thinker_Alpha_0.1\\Data\\Selenium\\Selenium_101\", options=options)"
   ]
  },
  {
   "cell_type": "code",
   "execution_count": 5,
   "metadata": {
    "pycharm": {
     "name": "#%%\n"
    }
   },
   "outputs": [],
   "source": [
    "#Função para criar os links de busca\n",
    "def getting_n_creating_amazon(brand):\n",
    "\n",
    "    Database_path = r\"C:\\Users\\pedro\\Documents\\Turte Brand Protection\\Turtle_Thinker_Alpha_0.1\" + \"\\Data\\\\\" + brand + \"\\\\\" + brand + \".db\"\n",
    "\n",
    "    table = brand + \"_products\"\n",
    "\n",
    "    #Criando a Query\n",
    "    query = \"SELECT * FROM \" + table\n",
    "\n",
    "    #Entrando dentro do databse\n",
    "    connection = sqlite3.connect(Database_path)\n",
    "\n",
    "    #Criando o dataset em brando\n",
    "    df = pd.read_sql_query(query, connection)\n",
    "\n",
    "    #Passando todo o Dataframe para LowerCase\n",
    "    df = df.apply(lambda x: x.astype(str).str.lower())\n",
    "\n",
    "    #Arrumando espaços vazios\n",
    "    # Arrumano os espaços vazios\n",
    "    df['Product_Name'] = df['Product_Name'].str.replace(\" \", \"+\")\n",
    "\n",
    "    # Criando uma nova coluna no database com a formatação certa\n",
    "    df['Urls'] = df['Brand'] + \"+\" + df['Product_Name']\n",
    "\n",
    "    # Criando a nova coluna que são as urls de pesquisa\n",
    "    df['Urls_search'] = \"https://www.amazon.com.br/s?k=\" + df['Urls']\n",
    "\n",
    "    return df"
   ]
  },
  {
   "cell_type": "code",
   "execution_count": 6,
   "metadata": {
    "pycharm": {
     "name": "#%%\n"
    }
   },
   "outputs": [],
   "source": [
    "Df_Products_raw = getting_n_creating_amazon(\"GoPro\")"
   ]
  },
  {
   "cell_type": "code",
   "execution_count": 7,
   "metadata": {
    "pycharm": {
     "name": "#%%\n"
    }
   },
   "outputs": [],
   "source": [
    "#Função pegando Links\n",
    "def search_links(url):\n",
    "    global Urls_amazon\n",
    "\n",
    "    time.sleep(5)\n",
    "\n",
    "    driver.get(url)\n",
    "\n",
    "    time.sleep(5)\n",
    "\n",
    "    body_el = driver.find_element(By.CSS_SELECTOR, 'body')\n",
    "    html_str = body_el.get_attribute('innerHTML')\n",
    "    html_obj = HTML(html=html_str)\n",
    "\n",
    "    Links = [x for x in html_obj.links]\n",
    "    products_links = [f'https://www.amazon.com.br{x}' for x in Links]\n",
    "\n",
    "    for link in products_links:\n",
    "        Urls_amazon.append(link)\n",
    "\n",
    "    Urls_amazon = [s for s in Urls_amazon if '/dp/' in s]\n",
    "    Urls_amazon = [s for s in Urls_amazon if not '#customerReviews' in s]\n",
    "\n",
    "    try:\n",
    "        Soup = BeautifulSoup(driver.page_source, 'html.parser')\n",
    "        next_page = \"https://www.amazon.com.br\" + Soup.find(class_='s-pagination-item s-pagination-next s-pagination-button s-pagination-separator')['href']\n",
    "        print(next_page)\n",
    "\n",
    "        search_links(next_page)\n",
    "    except:\n",
    "        pass"
   ]
  },
  {
   "cell_type": "code",
   "execution_count": 8,
   "metadata": {
    "pycharm": {
     "name": "#%%\n"
    }
   },
   "outputs": [
    {
     "name": "stderr",
     "output_type": "stream",
     "text": [
      "  0%|          | 0/4 [00:00<?, ?it/s]"
     ]
    },
    {
     "name": "stdout",
     "output_type": "stream",
     "text": [
      "https://www.amazon.com.br/s?k=gopro+hero+8&page=2&qid=1654005217&ref=sr_pg_1\n",
      "https://www.amazon.com.br/s?k=gopro+hero+8&page=3&qid=1654005229&ref=sr_pg_2\n",
      "https://www.amazon.com.br/s?k=gopro+hero+8&page=4&qid=1654005241&ref=sr_pg_3\n",
      "https://www.amazon.com.br/s?k=gopro+hero+8&page=5&qid=1654005252&ref=sr_pg_4\n"
     ]
    },
    {
     "name": "stderr",
     "output_type": "stream",
     "text": [
      " 25%|██▌       | 1/4 [01:01<03:03, 61.29s/it]"
     ]
    },
    {
     "name": "stdout",
     "output_type": "stream",
     "text": [
      "https://www.amazon.com.br/s?k=gopro+hero+9&page=2&qid=1654005276&ref=sr_pg_1\n",
      "https://www.amazon.com.br/s?k=gopro+hero+9&page=3&qid=1654005288&ref=sr_pg_2\n",
      "https://www.amazon.com.br/s?k=gopro+hero+9&page=4&qid=1654005300&ref=sr_pg_3\n",
      "https://www.amazon.com.br/s?k=gopro+hero+9&page=5&qid=1654005311&ref=sr_pg_4\n"
     ]
    },
    {
     "name": "stderr",
     "output_type": "stream",
     "text": [
      " 50%|█████     | 2/4 [01:59<01:58, 59.41s/it]"
     ]
    },
    {
     "name": "stdout",
     "output_type": "stream",
     "text": [
      "https://www.amazon.com.br/s?k=gopro+hero+10&page=2&qid=1654005334&ref=sr_pg_1\n",
      "https://www.amazon.com.br/s?k=gopro+hero+10&page=3&qid=1654005346&ref=sr_pg_2\n",
      "https://www.amazon.com.br/s?k=gopro+hero+10&page=4&qid=1654005358&ref=sr_pg_3\n",
      "https://www.amazon.com.br/s?k=gopro+hero+10&page=5&qid=1654005369&ref=sr_pg_4\n"
     ]
    },
    {
     "name": "stderr",
     "output_type": "stream",
     "text": [
      " 75%|███████▌  | 3/4 [02:56<00:58, 58.45s/it]"
     ]
    },
    {
     "name": "stdout",
     "output_type": "stream",
     "text": [
      "https://www.amazon.com.br/s?k=gopro+max+360&page=2&qid=1654005392&ref=sr_pg_1\n"
     ]
    },
    {
     "name": "stderr",
     "output_type": "stream",
     "text": [
      "100%|██████████| 4/4 [03:19<00:00, 49.88s/it]\n"
     ]
    }
   ],
   "source": [
    "for url in tqdm(Df_Products_raw['Urls_search']):\n",
    "    search_links(url)"
   ]
  },
  {
   "cell_type": "code",
   "execution_count": 9,
   "metadata": {
    "pycharm": {
     "name": "#%%\n"
    }
   },
   "outputs": [],
   "source": [
    "#Limpando as urls\n",
    "def clean_link(urls, brand):\n",
    "    #Criando a conexão com a tabela de exclusão \n",
    "    Database_exclusion = r\"C:\\Users\\pedro\\Documents\\Turte Brand Protection\\Turtle_Thinker_Alpha_0.1\" + \"\\Data\\\\\" + brand + \"\\\\\" + brand + \".db\"\n",
    "\n",
    "    table = brand + \"_exclusao\"\n",
    "\n",
    "    #Criando a Query\n",
    "    query = \"SELECT * FROM \" + table\n",
    "\n",
    "    connection = sqlite3.connect(Database_exclusion)\n",
    "\n",
    "    #Criando o dataset em brando\n",
    "    df_itens = pd.read_sql_query(query, connection)\n",
    "\n",
    "    clean_urls = pd.DataFrame()\n",
    "\n",
    "    clean_urls['Urls_Completas'] = urls\n",
    "    clean_urls['Urls_limpas'] = clean_urls['Urls_Completas'].str.partition(\"ref\")[0]\n",
    "\n",
    "    Urls_limpas = clean_urls['Urls_limpas'].tolist()\n",
    "\n",
    "    for word in df_itens['Words']:\n",
    "         Urls_limpas = [s for s in Urls_limpas if not word in s]\n",
    "\n",
    "    clean_urls = pd.DataFrame()\n",
    "\n",
    "    clean_urls['Urls_finais'] = Urls_limpas\n",
    "\n",
    "    clean_urls['ASIN'] = clean_urls['Urls_finais'].str.partition(\"/dp/\")[2].str.partition(\"/\")[0]\n",
    "\n",
    "    clean_urls.drop_duplicates(subset='ASIN',inplace=True)\n",
    "    clean_urls.reset_index(inplace=True, drop=True)\n",
    "    return clean_urls"
   ]
  },
  {
   "cell_type": "code",
   "execution_count": 10,
   "metadata": {
    "pycharm": {
     "name": "#%%\n"
    }
   },
   "outputs": [],
   "source": [
    "New_urls = clean_link(Urls_amazon, 'GoPro')"
   ]
  },
  {
   "cell_type": "code",
   "execution_count": 11,
   "metadata": {
    "pycharm": {
     "name": "#%%\n"
    }
   },
   "outputs": [],
   "source": [
    "def search_atributes(url):\n",
    "    #Tempo para não haver o bloqueio\n",
    "    time.sleep(10)\n",
    "\n",
    "    #Entrando dentro do site com o driver\n",
    "    driver.get(url)\n",
    "\n",
    "    #Tempo para carregar\n",
    "    time.sleep(10)\n",
    "\n",
    "    body_el = driver.find_element(By.CSS_SELECTOR, 'body')\n",
    "    html_str = body_el.get_attribute('innerHTML')\n",
    "\n",
    "    #Criando o Soup\n",
    "    soup = BeautifulSoup(html_str, 'html.parser')\n",
    "\n",
    "    #Fazendo o try do nome do vendedor\n",
    "    try:\n",
    "        seller = soup.find(id='sellerProfileTriggerId').text\n",
    "        seller_2 = soup.find(\"a\", attrs={\"id\":'sellerProfileTriggerId'}).text\n",
    "        Amazon_seller.append(seller)\n",
    "        Amazon_seller_2.append(seller_2)\n",
    "    except:\n",
    "        Amazon_seller.append(\"Erro\")\n",
    "        Amazon_seller_2.append(\"Erro\")\n",
    "\n",
    "    #Fazendo o try do preço do produto a vista\n",
    "    try:\n",
    "        Div_Price = soup.find('div', attrs={\"data-feature-name\":\"corePrice\"})\n",
    "        price_2 = Div_Price.find(class_='a-offscreen').text\n",
    "        Amazon_price_2.append(price_2)\n",
    "    except:\n",
    "        try:\n",
    "            Amazon_price_2.append(soup.find(class_='a-button-text')['href'])\n",
    "        except:\n",
    "            Amazon_price_2.append(\"Erro\")\n",
    "\n",
    "    #Pegando o título do produto\n",
    "    try:\n",
    "        title = soup.find(id='productTitle').text\n",
    "        Amazon_title.append(title)\n",
    "    except:\n",
    "        Amazon_title.append('Erro')\n",
    "\n",
    "    #Pegando o internacional\n",
    "    try:\n",
    "        soup.find('img', attrs={'data-a-hires':'https://images-na.ssl-images-amazon.com/images/G/32/foreignseller/Foreign_Seller_Badge_v2._CB403622375_.png'})\n",
    "        internacional_list.append(\"Internacional\")\n",
    "    except:\n",
    "        internacional_list.append(\"Nacional\")\n",
    "\n",
    "    #Fazendo o try para pegar o preço da parcela\n",
    "    try:\n",
    "        installment = soup.find(class_='best-offer-name a-text-bold').text\n",
    "        Amazon_installment_price_full.append(installment)\n",
    "        \n",
    "        Div_installment = soup.find('div', attrs={'id':'installmentCalculator_feature_div'})\n",
    "        Installment_2 = Div_installment.find(class_='best-offer-name a-text-bold').text\n",
    "        Amazon_installment_price_full_2.append(Installment_2)\n",
    "    except:\n",
    "        Amazon_installment_price_full.append(\"0\")\n",
    "        Amazon_installment_price_full_2.append(\"Erro\")\n",
    "\n",
    "    #Fazendo o try para ver se tem mais ofertas\n",
    "    try:\n",
    "        Main_Div_More_offers = soup.find('div', attrs={\"id\":\"olpLinkWidget_feature_div\"})\n",
    "        Div_More_offers = Main_Div_More_offers.find('div', attrs={'class':'a-section olp-link-widget'})\n",
    "        Div_More_offers_text = Div_More_offers.find('div', attrs={'class':'olp-text-box'}).text\n",
    "        more_offers_list.append(Div_More_offers_text)\n",
    "    except:\n",
    "        more_offers_list.append(\"Comparar outras 0 ofertas\")\n"
   ]
  },
  {
   "cell_type": "code",
   "execution_count": 12,
   "metadata": {
    "pycharm": {
     "name": "#%%\n"
    }
   },
   "outputs": [
    {
     "name": "stderr",
     "output_type": "stream",
     "text": [
      "100%|██████████| 69/69 [25:25<00:00, 22.11s/it]\n"
     ]
    }
   ],
   "source": [
    "for url in tqdm(New_urls['Urls_finais']):\n",
    "    search_atributes(url)"
   ]
  },
  {
   "cell_type": "code",
   "execution_count": 13,
   "metadata": {
    "pycharm": {
     "name": "#%%\n"
    }
   },
   "outputs": [
    {
     "name": "stdout",
     "output_type": "stream",
     "text": [
      "69\n",
      "69\n",
      "69\n",
      "69\n",
      "69\n",
      "69\n"
     ]
    }
   ],
   "source": [
    "print(len(Amazon_title))\n",
    "print(len(Amazon_price_2))\n",
    "print(len(Amazon_seller_2))\n",
    "print(len(more_offers_list))\n",
    "print(len(Amazon_installment_price_full_2))\n",
    "print(len(internacional_list))"
   ]
  },
  {
   "cell_type": "code",
   "execution_count": 14,
   "metadata": {
    "pycharm": {
     "name": "#%%\n"
    }
   },
   "outputs": [],
   "source": [
    "def dataset_amazon(url, sellers, preco, titulo, more_url, brand):\n",
    "    # Criando o DataFrame\n",
    "    Dataset_amazon = pd.DataFrame()\n",
    "\n",
    "    #\n",
    "    Hoje = pd.to_datetime('today', errors='ignore').date()\n",
    "\n",
    "    # Colocando os dados\n",
    "    Dataset_amazon['URL'] = url\n",
    "    \n",
    "    Dataset_amazon['DATE'] = Hoje\n",
    "\n",
    "    Dataset_amazon['MARKETPLACE'] = \"AMAZON\"\n",
    "\n",
    "    #Arrumando a coluna de sellers\n",
    "    Dataset_amazon['SELLER'] = sellers\n",
    "    Dataset_amazon['SELLER'] = Dataset_amazon['SELLER'].str.replace(\"Erro\",\"Amazon\", regex=False)\n",
    "\n",
    "    #Arrumando o preço \n",
    "    Dataset_amazon['PRICE'] = preco\n",
    "    Dataset_amazon['PRICE'] = Dataset_amazon['PRICE'].str.replace(\".\",\"\", regex=True)\n",
    "    Dataset_amazon['PRICE'] = Dataset_amazon['PRICE'].str.replace(\"R$\",\"\", regex=False)\n",
    "    Dataset_amazon['PRICE'] = Dataset_amazon['PRICE'].str.replace(\",\",\".\", regex=True)\n",
    "\n",
    "    #Arrumando os valores de installment \n",
    "    Dataset_amazon['INSTALLMENT FULL'] = Amazon_installment_price_full\n",
    "    Dataset_amazon['PARCEL'] = Dataset_amazon['INSTALLMENT FULL'].str.extract('(\\d+)')\n",
    "    Dataset_amazon['PARCEL'] = Dataset_amazon['PARCEL'].astype(\"int\")\n",
    "    Dataset_amazon['parcel_price_bruto'] = \\\n",
    "    Dataset_amazon['INSTALLMENT FULL'].str.partition(\"R$\")[2].str.partition(\" \")[2].str.partition(\" \")[0]\n",
    "    Dataset_amazon['Installment3'] = Dataset_amazon['parcel_price_bruto'].str.extract('(\\d+)')\n",
    "    Dataset_amazon['parcel_price_bruto'] = \\\n",
    "    Dataset_amazon['INSTALLMENT FULL'].str.partition(\"R$\")[2].str.partition(\" \")[2].str.partition(\" \")[0].str.partition(\",\")[2]\n",
    "    Dataset_amazon['Installment4'] = Dataset_amazon['parcel_price_bruto'].str.extract('(\\d+)')\n",
    "    Dataset_amazon['INSTALLMENT'] = Dataset_amazon['Installment3'] + \".\" + Dataset_amazon['Installment4']\n",
    "    Dataset_amazon['INSTALLMENT'] = Dataset_amazon['INSTALLMENT'].astype(\"float\")\n",
    "    Dataset_amazon['INSTALLMENT'] = Dataset_amazon['INSTALLMENT'].fillna(0)\n",
    "    Dataset_amazon['INSTALLMENT_PAYMENT'] = Dataset_amazon['PARCEL'] * Dataset_amazon['INSTALLMENT']\n",
    "\n",
    "\n",
    "    Dataset_amazon['ID'] = Dataset_amazon['URL'].str.partition('/dp/')[2].str.partition('/')[0]\n",
    "    Dataset_amazon['PRODUCT'] = titulo\n",
    "    Dataset_amazon['INTERNACIONAL'] = internacional_list\n",
    "\n",
    "    #Arrumando valores de mais sellers\n",
    "    Dataset_amazon['MORE'] = more_url\n",
    "    Dataset_amazon['MORE'] = Dataset_amazon['MORE'].str.partition(\"outras \")[2].str.partition(\" ofertas\")[0]\n",
    "    \n",
    "    Dataset_amazon['MORE'] = Dataset_amazon['MORE'].astype('int')\n",
    "    \n",
    "\n",
    "    Dataset_amazon = Dataset_amazon.drop(columns=[\"INSTALLMENT FULL\", \"Installment3\", \"Installment4\", \"parcel_price_bruto\"])\n",
    "\n",
    "    #Pegando os itens certos \n",
    "    #Dataset_amazon = Dataset_amazon[Dataset_amazon[\"PRICE\"] != \"Erro\"]\n",
    "    #Dataset_amazon['PRICE'] = Dataset_amazon['PRICE'].astype('float')\n",
    "\n",
    "\n",
    "    #Colocando na ordem correta\n",
    "    Dataset_amazon = Dataset_amazon[['DATE', 'URL', 'MARKETPLACE', 'SELLER', 'PRICE', 'PARCEL', 'INSTALLMENT', 'INSTALLMENT_PAYMENT', 'ID', 'PRODUCT','INTERNACIONAL', 'MORE']]\n",
    "\n",
    "    # if brand == \"GoPro\":\n",
    "    #     Dataset_amazon = Dataset_amazon[Dataset_amazon['PRICE'] > 900]\n",
    "    # elif brand == 'Motorola':\n",
    "    #     Dataset_amazon = Dataset_amazon[Dataset_amazon['PRICE'] > 70]\n",
    "    # elif brand == 'Wacom':\n",
    "    #     Dataset_amazon = Dataset_amazon[Dataset_amazon['PRICE'] > 100]\n",
    "    \n",
    "\n",
    "    return Dataset_amazon"
   ]
  },
  {
   "cell_type": "code",
   "execution_count": 15,
   "metadata": {
    "pycharm": {
     "name": "#%%\n"
    }
   },
   "outputs": [],
   "source": [
    "Df_final = dataset_amazon(New_urls['Urls_finais'], Amazon_seller_2, Amazon_price_2, Amazon_title, more_offers_list, 'GoPro')"
   ]
  },
  {
   "cell_type": "code",
   "execution_count": 16,
   "outputs": [],
   "source": [
    "Df_final=  Df_final.reset_index(drop=True)"
   ],
   "metadata": {
    "collapsed": false,
    "pycharm": {
     "name": "#%%\n"
    }
   }
  },
  {
   "cell_type": "code",
   "execution_count": 17,
   "metadata": {
    "pycharm": {
     "name": "#%%\n"
    }
   },
   "outputs": [
    {
     "data": {
      "text/plain": "          DATE                                                URL MARKETPLACE  \\\n0   2022-05-31  https://www.amazon.com.br/C%C3%82MERA-GOPRO-BL...      AMAZON   \n1   2022-05-31  https://www.amazon.com.br/C%C3%A2mera-Black-Pr...      AMAZON   \n2   2022-05-31  https://www.amazon.com.br/Mergulho-GoPro-AADIV...      AMAZON   \n3   2022-05-31  https://www.amazon.com.br/Kit-esportivo-Neewer...      AMAZON   \n4   2022-05-31  https://www.amazon.com.br/GoPro-Media-Mod-HERO...      AMAZON   \n..         ...                                                ...         ...   \n64  2022-05-31  https://www.amazon.com.br/Porta-Lateral-Compat...      AMAZON   \n65  2022-05-31  https://www.amazon.com.br/Trip%C3%A9-Bast%C3%A...      AMAZON   \n66  2022-05-31  https://www.amazon.com.br/C%C3%A2mera-Filmador...      AMAZON   \n67  2022-05-31  https://www.amazon.com.br/grande-angular-c%C3%...      AMAZON   \n68  2022-05-31  https://www.amazon.com.br/Mochila-ajust%C3%A1v...      AMAZON   \n\n             SELLER                                              PRICE  \\\n0            Amazon  /gp/offer-listing/B08ZSVP9T7/ref=dp_olp_unknow...   \n1       Detona Shop                                            2269.53   \n2            Amazon                                             100.23   \n3         octo.shop                                             264.60   \n4   Shop12Adventure                                             673.00   \n..              ...                                                ...   \n64           FUNPro                                              34.90   \n65           FUNPro                                             142.00   \n66         RC-STORE                                            3585.78   \n67           Amazon  /gp/offer-listing/B09JVT24PJ/ref=dp_olp_unknow...   \n68           Amazon  /gp/offer-listing/B07WNPTF3T/ref=dp_olp_unknow...   \n\n    PARCEL  INSTALLMENT  INSTALLMENT_PAYMENT          ID  \\\n0        0         0.00                 0.00  B08ZSVP9T7   \n1       10       226.98              2269.80  B07JH83VBW   \n2        3        33.41               100.23  B01L2CP126   \n3        8        33.11               264.88  B01171X0UW   \n4       10        67.30               673.00  B0813VSY2V   \n..     ...          ...                  ...         ...   \n64       0         0.00                 0.00  B09D8NZV8J   \n65       4        35.50               142.00  B08HV3FYQJ   \n66      10       358.65              3586.50  B083R4VMMC   \n67       0         0.00                 0.00  B09JVT24PJ   \n68       0         0.00                 0.00  B07WNPTF3T   \n\n                                              PRODUCT  INTERNACIONAL  MORE  \n0           CÂMERA GOPRO HERO 8 BLACK ESSENCIAL BU...  Internacional     0  \n1           Câmera Hero 7 Black à Prova D’água 12M...  Internacional     0  \n2           Super Suit Caixa de Mergulho GoPro par...  Internacional    12  \n3           Neewer Kit de acessórios para câmera d...  Internacional     2  \n4           GoPro Módulo de mídia - HERO8 Black   ...  Internacional     5  \n..                                                ...            ...   ...  \n64          Porta Lateral Compatível com GoPro Her...  Internacional     0  \n65          Mini Tripé e Bastão para GoPro e Câmer...  Internacional     0  \n66          Câmera de ação Insta360 One R Edição T...  Internacional     2  \n67          Lente grande angular, câmera esportiva...  Internacional     0  \n68          Mochila com alça de ombro para câmera ...  Internacional     0  \n\n[69 rows x 12 columns]",
      "text/html": "<div>\n<style scoped>\n    .dataframe tbody tr th:only-of-type {\n        vertical-align: middle;\n    }\n\n    .dataframe tbody tr th {\n        vertical-align: top;\n    }\n\n    .dataframe thead th {\n        text-align: right;\n    }\n</style>\n<table border=\"1\" class=\"dataframe\">\n  <thead>\n    <tr style=\"text-align: right;\">\n      <th></th>\n      <th>DATE</th>\n      <th>URL</th>\n      <th>MARKETPLACE</th>\n      <th>SELLER</th>\n      <th>PRICE</th>\n      <th>PARCEL</th>\n      <th>INSTALLMENT</th>\n      <th>INSTALLMENT_PAYMENT</th>\n      <th>ID</th>\n      <th>PRODUCT</th>\n      <th>INTERNACIONAL</th>\n      <th>MORE</th>\n    </tr>\n  </thead>\n  <tbody>\n    <tr>\n      <th>0</th>\n      <td>2022-05-31</td>\n      <td>https://www.amazon.com.br/C%C3%82MERA-GOPRO-BL...</td>\n      <td>AMAZON</td>\n      <td>Amazon</td>\n      <td>/gp/offer-listing/B08ZSVP9T7/ref=dp_olp_unknow...</td>\n      <td>0</td>\n      <td>0.00</td>\n      <td>0.00</td>\n      <td>B08ZSVP9T7</td>\n      <td>CÂMERA GOPRO HERO 8 BLACK ESSENCIAL BU...</td>\n      <td>Internacional</td>\n      <td>0</td>\n    </tr>\n    <tr>\n      <th>1</th>\n      <td>2022-05-31</td>\n      <td>https://www.amazon.com.br/C%C3%A2mera-Black-Pr...</td>\n      <td>AMAZON</td>\n      <td>Detona Shop</td>\n      <td>2269.53</td>\n      <td>10</td>\n      <td>226.98</td>\n      <td>2269.80</td>\n      <td>B07JH83VBW</td>\n      <td>Câmera Hero 7 Black à Prova D’água 12M...</td>\n      <td>Internacional</td>\n      <td>0</td>\n    </tr>\n    <tr>\n      <th>2</th>\n      <td>2022-05-31</td>\n      <td>https://www.amazon.com.br/Mergulho-GoPro-AADIV...</td>\n      <td>AMAZON</td>\n      <td>Amazon</td>\n      <td>100.23</td>\n      <td>3</td>\n      <td>33.41</td>\n      <td>100.23</td>\n      <td>B01L2CP126</td>\n      <td>Super Suit Caixa de Mergulho GoPro par...</td>\n      <td>Internacional</td>\n      <td>12</td>\n    </tr>\n    <tr>\n      <th>3</th>\n      <td>2022-05-31</td>\n      <td>https://www.amazon.com.br/Kit-esportivo-Neewer...</td>\n      <td>AMAZON</td>\n      <td>octo.shop</td>\n      <td>264.60</td>\n      <td>8</td>\n      <td>33.11</td>\n      <td>264.88</td>\n      <td>B01171X0UW</td>\n      <td>Neewer Kit de acessórios para câmera d...</td>\n      <td>Internacional</td>\n      <td>2</td>\n    </tr>\n    <tr>\n      <th>4</th>\n      <td>2022-05-31</td>\n      <td>https://www.amazon.com.br/GoPro-Media-Mod-HERO...</td>\n      <td>AMAZON</td>\n      <td>Shop12Adventure</td>\n      <td>673.00</td>\n      <td>10</td>\n      <td>67.30</td>\n      <td>673.00</td>\n      <td>B0813VSY2V</td>\n      <td>GoPro Módulo de mídia - HERO8 Black   ...</td>\n      <td>Internacional</td>\n      <td>5</td>\n    </tr>\n    <tr>\n      <th>...</th>\n      <td>...</td>\n      <td>...</td>\n      <td>...</td>\n      <td>...</td>\n      <td>...</td>\n      <td>...</td>\n      <td>...</td>\n      <td>...</td>\n      <td>...</td>\n      <td>...</td>\n      <td>...</td>\n      <td>...</td>\n    </tr>\n    <tr>\n      <th>64</th>\n      <td>2022-05-31</td>\n      <td>https://www.amazon.com.br/Porta-Lateral-Compat...</td>\n      <td>AMAZON</td>\n      <td>FUNPro</td>\n      <td>34.90</td>\n      <td>0</td>\n      <td>0.00</td>\n      <td>0.00</td>\n      <td>B09D8NZV8J</td>\n      <td>Porta Lateral Compatível com GoPro Her...</td>\n      <td>Internacional</td>\n      <td>0</td>\n    </tr>\n    <tr>\n      <th>65</th>\n      <td>2022-05-31</td>\n      <td>https://www.amazon.com.br/Trip%C3%A9-Bast%C3%A...</td>\n      <td>AMAZON</td>\n      <td>FUNPro</td>\n      <td>142.00</td>\n      <td>4</td>\n      <td>35.50</td>\n      <td>142.00</td>\n      <td>B08HV3FYQJ</td>\n      <td>Mini Tripé e Bastão para GoPro e Câmer...</td>\n      <td>Internacional</td>\n      <td>0</td>\n    </tr>\n    <tr>\n      <th>66</th>\n      <td>2022-05-31</td>\n      <td>https://www.amazon.com.br/C%C3%A2mera-Filmador...</td>\n      <td>AMAZON</td>\n      <td>RC-STORE</td>\n      <td>3585.78</td>\n      <td>10</td>\n      <td>358.65</td>\n      <td>3586.50</td>\n      <td>B083R4VMMC</td>\n      <td>Câmera de ação Insta360 One R Edição T...</td>\n      <td>Internacional</td>\n      <td>2</td>\n    </tr>\n    <tr>\n      <th>67</th>\n      <td>2022-05-31</td>\n      <td>https://www.amazon.com.br/grande-angular-c%C3%...</td>\n      <td>AMAZON</td>\n      <td>Amazon</td>\n      <td>/gp/offer-listing/B09JVT24PJ/ref=dp_olp_unknow...</td>\n      <td>0</td>\n      <td>0.00</td>\n      <td>0.00</td>\n      <td>B09JVT24PJ</td>\n      <td>Lente grande angular, câmera esportiva...</td>\n      <td>Internacional</td>\n      <td>0</td>\n    </tr>\n    <tr>\n      <th>68</th>\n      <td>2022-05-31</td>\n      <td>https://www.amazon.com.br/Mochila-ajust%C3%A1v...</td>\n      <td>AMAZON</td>\n      <td>Amazon</td>\n      <td>/gp/offer-listing/B07WNPTF3T/ref=dp_olp_unknow...</td>\n      <td>0</td>\n      <td>0.00</td>\n      <td>0.00</td>\n      <td>B07WNPTF3T</td>\n      <td>Mochila com alça de ombro para câmera ...</td>\n      <td>Internacional</td>\n      <td>0</td>\n    </tr>\n  </tbody>\n</table>\n<p>69 rows × 12 columns</p>\n</div>"
     },
     "execution_count": 17,
     "metadata": {},
     "output_type": "execute_result"
    }
   ],
   "source": [
    "Df_final"
   ]
  },
  {
   "cell_type": "code",
   "execution_count": 18,
   "outputs": [
    {
     "data": {
      "text/plain": "          DATE                                                URL MARKETPLACE  \\\n0   2022-05-31  https://www.amazon.com.br/C%C3%82MERA-GOPRO-BL...      AMAZON   \n5   2022-05-31  https://www.amazon.com.br/C%C3%A2mera-GoPro-Fr...      AMAZON   \n6   2022-05-31  https://www.amazon.com.br/C%C3%82MERA-GOPRO-HE...      AMAZON   \n11  2022-05-31  https://www.amazon.com.br/C%C3%82MERA-GOPRO-HE...      AMAZON   \n15  2022-05-31  https://www.amazon.com.br/Gopro-Black-prova-D%...      AMAZON   \n16  2022-05-31  https://www.amazon.com.br/Camera-Digital-12-1M...      AMAZON   \n17  2022-05-31  https://www.amazon.com.br/C%C3%A2mera-GoPro-MA...      AMAZON   \n21  2022-05-31  https://www.amazon.com.br/GOPOLE-Reach-Mini-ex...      AMAZON   \n41  2022-05-31  https://www.amazon.com.br/Kit-Gopro-Hero-Pe%C3...      AMAZON   \n45  2022-05-31  https://www.amazon.com.br/CABO-USB-PARA-TIPO-P...      AMAZON   \n46  2022-05-31  https://www.amazon.com.br/PORTA-USB-PARA-PRONL...      AMAZON   \n48  2022-05-31  https://www.amazon.com.br/C%C3%A2mera-Digital-...      AMAZON   \n50  2022-05-31  https://www.amazon.com.br/compat%C3%ADvel-aces...      AMAZON   \n51  2022-05-31  https://www.amazon.com.br/GoPro-Sistema-HERO3-...      AMAZON   \n54  2022-05-31  https://www.amazon.com.br/GoPro-CHDHX-901-RW-H...      AMAZON   \n56  2022-05-31  https://www.amazon.com.br/Cart%C3%A3o-mem%C3%B...      AMAZON   \n57  2022-05-31  https://www.amazon.com.br/Porta-Lateral-GoPro-...      AMAZON   \n59  2022-05-31  https://www.amazon.com.br/GoPro-Porta-Lateral-...      AMAZON   \n67  2022-05-31  https://www.amazon.com.br/grande-angular-c%C3%...      AMAZON   \n68  2022-05-31  https://www.amazon.com.br/Mochila-ajust%C3%A1v...      AMAZON   \n\n    SELLER                                              PRICE  PARCEL  \\\n0   Amazon  /gp/offer-listing/B08ZSVP9T7/ref=dp_olp_unknow...       0   \n5   Amazon  /gp/offer-listing/B08KXN6BNH/ref=dp_olp_unknow...       0   \n6   Amazon  /gp/offer-listing/B09MG3XKZJ/ref=dp_olp_unknow...       0   \n11  Amazon  /gp/offer-listing/B09LZ9655F/ref=dp_olp_unknow...       0   \n15  Amazon  /gp/offer-listing/B07WSRXMS8/ref=dp_olp_unknow...       0   \n16  Amazon  /gp/offer-listing/B07GSVDFTQ/ref=dp_olp_unknow...       0   \n17  Amazon  /gp/offer-listing/B07BPVPV14/ref=dp_olp_unknow...       0   \n21  Amazon  /gp/offer-listing/B01C397F1C/ref=dp_olp_unknow...       0   \n41  Amazon  /gp/offer-listing/B07TCY5FNV/ref=dp_olp_unknow...       0   \n45  Amazon  /gp/offer-listing/B089X297QT/ref=dp_olp_unknow...       0   \n46  Amazon  /gp/offer-listing/B09BBJTF8R/ref=dp_olp_unknow...       0   \n48  Amazon  /gp/offer-listing/B0792MJLNM/ref=dp_olp_unknow...       0   \n50  Amazon  /gp/offer-listing/B099KJRQ4V/ref=dp_olp_unknow...       0   \n51  Amazon  /gp/offer-listing/B00J9RO4U2/ref=dp_olp_unknow...       0   \n54  Amazon  /gp/offer-listing/B08HPCFCSV/ref=dp_olp_unknow...       0   \n56  Amazon  /gp/offer-listing/B08GYG5SVQ/ref=dp_olp_unknow...       0   \n57  Amazon  /gp/offer-listing/B08JCR3NTZ/ref=dp_olp_unknow...       0   \n59  Amazon  /gp/offer-listing/B01L2CPKOK/ref=dp_olp_unknow...       0   \n67  Amazon  /gp/offer-listing/B09JVT24PJ/ref=dp_olp_unknow...       0   \n68  Amazon  /gp/offer-listing/B07WNPTF3T/ref=dp_olp_unknow...       0   \n\n    INSTALLMENT  INSTALLMENT_PAYMENT          ID  \\\n0           0.0                  0.0  B08ZSVP9T7   \n5           0.0                  0.0  B08KXN6BNH   \n6           0.0                  0.0  B09MG3XKZJ   \n11          0.0                  0.0  B09LZ9655F   \n15          0.0                  0.0  B07WSRXMS8   \n16          0.0                  0.0  B07GSVDFTQ   \n17          0.0                  0.0  B07BPVPV14   \n21          0.0                  0.0  B01C397F1C   \n41          0.0                  0.0  B07TCY5FNV   \n45          0.0                  0.0  B089X297QT   \n46          0.0                  0.0  B09BBJTF8R   \n48          0.0                  0.0  B0792MJLNM   \n50          0.0                  0.0  B099KJRQ4V   \n51          0.0                  0.0  B00J9RO4U2   \n54          0.0                  0.0  B08HPCFCSV   \n56          0.0                  0.0  B08GYG5SVQ   \n57          0.0                  0.0  B08JCR3NTZ   \n59          0.0                  0.0  B01L2CPKOK   \n67          0.0                  0.0  B09JVT24PJ   \n68          0.0                  0.0  B07WNPTF3T   \n\n                                              PRODUCT  INTERNACIONAL  MORE  \n0           CÂMERA GOPRO HERO 8 BLACK ESSENCIAL BU...  Internacional     0  \n5           Câmera GoPro HERO9 Black à Prova D'águ...  Internacional     0  \n6           CÂMERA GOPRO HERO 8 BLACK – SPECIAL BU...  Internacional     0  \n11          CÂMERA GOPRO HERO 8 BLACK - POWER BUND...  Internacional     0  \n15          Gopro Hero 8 Black 4k à prova D'água C...  Internacional     0  \n16          Camera Digital GoPro Hero 7 Black Ultr...  Internacional     0  \n17                 Câmera GoPro MAX 360, Preto         Internacional     0  \n21          GOPOLE Reach Mini – Haste de extensão ...  Internacional     0  \n41          Kit Para Gopro Hero Com 9 Peças Maleta...  Internacional     0  \n45          CABO PARA CELULAR SMARTPHONE USB A 2.0...  Internacional     0  \n46          PORTA USB PARA USO PRONLONGADO HERO 9 ...  Internacional     0  \n48             Câmera Fusion 360, GoPro, Preto         Internacional     0  \n50          Capa à prova d'água para GoPro Hero 9,...  Internacional     0  \n51          GoPro Sistema Dual Hero para HERO3+ (c...  Internacional     0  \n54           GoPro - HERO9 Preto, CHDHX-901-RW         Internacional     0  \n56          Cartão de memória SanDisk 400 GB Ultra...  Internacional     0  \n57          Porta Lateral Compatível com GoPro Her...  Internacional     0  \n59          Porta Lateral de Reposição para Hero6,...  Internacional     0  \n67          Lente grande angular, câmera esportiva...  Internacional     0  \n68          Mochila com alça de ombro para câmera ...  Internacional     0  ",
      "text/html": "<div>\n<style scoped>\n    .dataframe tbody tr th:only-of-type {\n        vertical-align: middle;\n    }\n\n    .dataframe tbody tr th {\n        vertical-align: top;\n    }\n\n    .dataframe thead th {\n        text-align: right;\n    }\n</style>\n<table border=\"1\" class=\"dataframe\">\n  <thead>\n    <tr style=\"text-align: right;\">\n      <th></th>\n      <th>DATE</th>\n      <th>URL</th>\n      <th>MARKETPLACE</th>\n      <th>SELLER</th>\n      <th>PRICE</th>\n      <th>PARCEL</th>\n      <th>INSTALLMENT</th>\n      <th>INSTALLMENT_PAYMENT</th>\n      <th>ID</th>\n      <th>PRODUCT</th>\n      <th>INTERNACIONAL</th>\n      <th>MORE</th>\n    </tr>\n  </thead>\n  <tbody>\n    <tr>\n      <th>0</th>\n      <td>2022-05-31</td>\n      <td>https://www.amazon.com.br/C%C3%82MERA-GOPRO-BL...</td>\n      <td>AMAZON</td>\n      <td>Amazon</td>\n      <td>/gp/offer-listing/B08ZSVP9T7/ref=dp_olp_unknow...</td>\n      <td>0</td>\n      <td>0.0</td>\n      <td>0.0</td>\n      <td>B08ZSVP9T7</td>\n      <td>CÂMERA GOPRO HERO 8 BLACK ESSENCIAL BU...</td>\n      <td>Internacional</td>\n      <td>0</td>\n    </tr>\n    <tr>\n      <th>5</th>\n      <td>2022-05-31</td>\n      <td>https://www.amazon.com.br/C%C3%A2mera-GoPro-Fr...</td>\n      <td>AMAZON</td>\n      <td>Amazon</td>\n      <td>/gp/offer-listing/B08KXN6BNH/ref=dp_olp_unknow...</td>\n      <td>0</td>\n      <td>0.0</td>\n      <td>0.0</td>\n      <td>B08KXN6BNH</td>\n      <td>Câmera GoPro HERO9 Black à Prova D'águ...</td>\n      <td>Internacional</td>\n      <td>0</td>\n    </tr>\n    <tr>\n      <th>6</th>\n      <td>2022-05-31</td>\n      <td>https://www.amazon.com.br/C%C3%82MERA-GOPRO-HE...</td>\n      <td>AMAZON</td>\n      <td>Amazon</td>\n      <td>/gp/offer-listing/B09MG3XKZJ/ref=dp_olp_unknow...</td>\n      <td>0</td>\n      <td>0.0</td>\n      <td>0.0</td>\n      <td>B09MG3XKZJ</td>\n      <td>CÂMERA GOPRO HERO 8 BLACK – SPECIAL BU...</td>\n      <td>Internacional</td>\n      <td>0</td>\n    </tr>\n    <tr>\n      <th>11</th>\n      <td>2022-05-31</td>\n      <td>https://www.amazon.com.br/C%C3%82MERA-GOPRO-HE...</td>\n      <td>AMAZON</td>\n      <td>Amazon</td>\n      <td>/gp/offer-listing/B09LZ9655F/ref=dp_olp_unknow...</td>\n      <td>0</td>\n      <td>0.0</td>\n      <td>0.0</td>\n      <td>B09LZ9655F</td>\n      <td>CÂMERA GOPRO HERO 8 BLACK - POWER BUND...</td>\n      <td>Internacional</td>\n      <td>0</td>\n    </tr>\n    <tr>\n      <th>15</th>\n      <td>2022-05-31</td>\n      <td>https://www.amazon.com.br/Gopro-Black-prova-D%...</td>\n      <td>AMAZON</td>\n      <td>Amazon</td>\n      <td>/gp/offer-listing/B07WSRXMS8/ref=dp_olp_unknow...</td>\n      <td>0</td>\n      <td>0.0</td>\n      <td>0.0</td>\n      <td>B07WSRXMS8</td>\n      <td>Gopro Hero 8 Black 4k à prova D'água C...</td>\n      <td>Internacional</td>\n      <td>0</td>\n    </tr>\n    <tr>\n      <th>16</th>\n      <td>2022-05-31</td>\n      <td>https://www.amazon.com.br/Camera-Digital-12-1M...</td>\n      <td>AMAZON</td>\n      <td>Amazon</td>\n      <td>/gp/offer-listing/B07GSVDFTQ/ref=dp_olp_unknow...</td>\n      <td>0</td>\n      <td>0.0</td>\n      <td>0.0</td>\n      <td>B07GSVDFTQ</td>\n      <td>Camera Digital GoPro Hero 7 Black Ultr...</td>\n      <td>Internacional</td>\n      <td>0</td>\n    </tr>\n    <tr>\n      <th>17</th>\n      <td>2022-05-31</td>\n      <td>https://www.amazon.com.br/C%C3%A2mera-GoPro-MA...</td>\n      <td>AMAZON</td>\n      <td>Amazon</td>\n      <td>/gp/offer-listing/B07BPVPV14/ref=dp_olp_unknow...</td>\n      <td>0</td>\n      <td>0.0</td>\n      <td>0.0</td>\n      <td>B07BPVPV14</td>\n      <td>Câmera GoPro MAX 360, Preto</td>\n      <td>Internacional</td>\n      <td>0</td>\n    </tr>\n    <tr>\n      <th>21</th>\n      <td>2022-05-31</td>\n      <td>https://www.amazon.com.br/GOPOLE-Reach-Mini-ex...</td>\n      <td>AMAZON</td>\n      <td>Amazon</td>\n      <td>/gp/offer-listing/B01C397F1C/ref=dp_olp_unknow...</td>\n      <td>0</td>\n      <td>0.0</td>\n      <td>0.0</td>\n      <td>B01C397F1C</td>\n      <td>GOPOLE Reach Mini – Haste de extensão ...</td>\n      <td>Internacional</td>\n      <td>0</td>\n    </tr>\n    <tr>\n      <th>41</th>\n      <td>2022-05-31</td>\n      <td>https://www.amazon.com.br/Kit-Gopro-Hero-Pe%C3...</td>\n      <td>AMAZON</td>\n      <td>Amazon</td>\n      <td>/gp/offer-listing/B07TCY5FNV/ref=dp_olp_unknow...</td>\n      <td>0</td>\n      <td>0.0</td>\n      <td>0.0</td>\n      <td>B07TCY5FNV</td>\n      <td>Kit Para Gopro Hero Com 9 Peças Maleta...</td>\n      <td>Internacional</td>\n      <td>0</td>\n    </tr>\n    <tr>\n      <th>45</th>\n      <td>2022-05-31</td>\n      <td>https://www.amazon.com.br/CABO-USB-PARA-TIPO-P...</td>\n      <td>AMAZON</td>\n      <td>Amazon</td>\n      <td>/gp/offer-listing/B089X297QT/ref=dp_olp_unknow...</td>\n      <td>0</td>\n      <td>0.0</td>\n      <td>0.0</td>\n      <td>B089X297QT</td>\n      <td>CABO PARA CELULAR SMARTPHONE USB A 2.0...</td>\n      <td>Internacional</td>\n      <td>0</td>\n    </tr>\n    <tr>\n      <th>46</th>\n      <td>2022-05-31</td>\n      <td>https://www.amazon.com.br/PORTA-USB-PARA-PRONL...</td>\n      <td>AMAZON</td>\n      <td>Amazon</td>\n      <td>/gp/offer-listing/B09BBJTF8R/ref=dp_olp_unknow...</td>\n      <td>0</td>\n      <td>0.0</td>\n      <td>0.0</td>\n      <td>B09BBJTF8R</td>\n      <td>PORTA USB PARA USO PRONLONGADO HERO 9 ...</td>\n      <td>Internacional</td>\n      <td>0</td>\n    </tr>\n    <tr>\n      <th>48</th>\n      <td>2022-05-31</td>\n      <td>https://www.amazon.com.br/C%C3%A2mera-Digital-...</td>\n      <td>AMAZON</td>\n      <td>Amazon</td>\n      <td>/gp/offer-listing/B0792MJLNM/ref=dp_olp_unknow...</td>\n      <td>0</td>\n      <td>0.0</td>\n      <td>0.0</td>\n      <td>B0792MJLNM</td>\n      <td>Câmera Fusion 360, GoPro, Preto</td>\n      <td>Internacional</td>\n      <td>0</td>\n    </tr>\n    <tr>\n      <th>50</th>\n      <td>2022-05-31</td>\n      <td>https://www.amazon.com.br/compat%C3%ADvel-aces...</td>\n      <td>AMAZON</td>\n      <td>Amazon</td>\n      <td>/gp/offer-listing/B099KJRQ4V/ref=dp_olp_unknow...</td>\n      <td>0</td>\n      <td>0.0</td>\n      <td>0.0</td>\n      <td>B099KJRQ4V</td>\n      <td>Capa à prova d'água para GoPro Hero 9,...</td>\n      <td>Internacional</td>\n      <td>0</td>\n    </tr>\n    <tr>\n      <th>51</th>\n      <td>2022-05-31</td>\n      <td>https://www.amazon.com.br/GoPro-Sistema-HERO3-...</td>\n      <td>AMAZON</td>\n      <td>Amazon</td>\n      <td>/gp/offer-listing/B00J9RO4U2/ref=dp_olp_unknow...</td>\n      <td>0</td>\n      <td>0.0</td>\n      <td>0.0</td>\n      <td>B00J9RO4U2</td>\n      <td>GoPro Sistema Dual Hero para HERO3+ (c...</td>\n      <td>Internacional</td>\n      <td>0</td>\n    </tr>\n    <tr>\n      <th>54</th>\n      <td>2022-05-31</td>\n      <td>https://www.amazon.com.br/GoPro-CHDHX-901-RW-H...</td>\n      <td>AMAZON</td>\n      <td>Amazon</td>\n      <td>/gp/offer-listing/B08HPCFCSV/ref=dp_olp_unknow...</td>\n      <td>0</td>\n      <td>0.0</td>\n      <td>0.0</td>\n      <td>B08HPCFCSV</td>\n      <td>GoPro - HERO9 Preto, CHDHX-901-RW</td>\n      <td>Internacional</td>\n      <td>0</td>\n    </tr>\n    <tr>\n      <th>56</th>\n      <td>2022-05-31</td>\n      <td>https://www.amazon.com.br/Cart%C3%A3o-mem%C3%B...</td>\n      <td>AMAZON</td>\n      <td>Amazon</td>\n      <td>/gp/offer-listing/B08GYG5SVQ/ref=dp_olp_unknow...</td>\n      <td>0</td>\n      <td>0.0</td>\n      <td>0.0</td>\n      <td>B08GYG5SVQ</td>\n      <td>Cartão de memória SanDisk 400 GB Ultra...</td>\n      <td>Internacional</td>\n      <td>0</td>\n    </tr>\n    <tr>\n      <th>57</th>\n      <td>2022-05-31</td>\n      <td>https://www.amazon.com.br/Porta-Lateral-GoPro-...</td>\n      <td>AMAZON</td>\n      <td>Amazon</td>\n      <td>/gp/offer-listing/B08JCR3NTZ/ref=dp_olp_unknow...</td>\n      <td>0</td>\n      <td>0.0</td>\n      <td>0.0</td>\n      <td>B08JCR3NTZ</td>\n      <td>Porta Lateral Compatível com GoPro Her...</td>\n      <td>Internacional</td>\n      <td>0</td>\n    </tr>\n    <tr>\n      <th>59</th>\n      <td>2022-05-31</td>\n      <td>https://www.amazon.com.br/GoPro-Porta-Lateral-...</td>\n      <td>AMAZON</td>\n      <td>Amazon</td>\n      <td>/gp/offer-listing/B01L2CPKOK/ref=dp_olp_unknow...</td>\n      <td>0</td>\n      <td>0.0</td>\n      <td>0.0</td>\n      <td>B01L2CPKOK</td>\n      <td>Porta Lateral de Reposição para Hero6,...</td>\n      <td>Internacional</td>\n      <td>0</td>\n    </tr>\n    <tr>\n      <th>67</th>\n      <td>2022-05-31</td>\n      <td>https://www.amazon.com.br/grande-angular-c%C3%...</td>\n      <td>AMAZON</td>\n      <td>Amazon</td>\n      <td>/gp/offer-listing/B09JVT24PJ/ref=dp_olp_unknow...</td>\n      <td>0</td>\n      <td>0.0</td>\n      <td>0.0</td>\n      <td>B09JVT24PJ</td>\n      <td>Lente grande angular, câmera esportiva...</td>\n      <td>Internacional</td>\n      <td>0</td>\n    </tr>\n    <tr>\n      <th>68</th>\n      <td>2022-05-31</td>\n      <td>https://www.amazon.com.br/Mochila-ajust%C3%A1v...</td>\n      <td>AMAZON</td>\n      <td>Amazon</td>\n      <td>/gp/offer-listing/B07WNPTF3T/ref=dp_olp_unknow...</td>\n      <td>0</td>\n      <td>0.0</td>\n      <td>0.0</td>\n      <td>B07WNPTF3T</td>\n      <td>Mochila com alça de ombro para câmera ...</td>\n      <td>Internacional</td>\n      <td>0</td>\n    </tr>\n  </tbody>\n</table>\n</div>"
     },
     "execution_count": 18,
     "metadata": {},
     "output_type": "execute_result"
    }
   ],
   "source": [
    "#Criar a condicional da coluna More\n",
    "Df_button_sellers = Df_final[Df_final['PRICE'].str.len() > 10]\n",
    "Df_button_sellers"
   ],
   "metadata": {
    "collapsed": false,
    "pycharm": {
     "name": "#%%\n"
    }
   }
  },
  {
   "cell_type": "code",
   "execution_count": 33,
   "outputs": [],
   "source": [
    "def Get_Button_Sellers(ASIN):\n",
    "    global Amazon_Button_Sellers\n",
    "\n",
    "    time.sleep(5)\n",
    "\n",
    "    new_url = \"https://www.amazon.com.br/gp/product/ajax/?asin=\" + ASIN + \"&pageno=1&experienceId=aodAjaxMain\"\n",
    "\n",
    "    driver.get(new_url)\n",
    "\n",
    "    time.sleep(5)\n",
    "\n",
    "    body_el = driver.find_element(By.CSS_SELECTOR, 'body')\n",
    "    html_str = body_el.get_attribute('innerHTML')\n",
    "\n",
    "    Soup = BeautifulSoup(html_str, 'html.parser')\n",
    "\n",
    "    for seller in Soup.find_all(class_='a-size-small a-color-base'):\n",
    "        Amazon_Button_Sellers.append(seller.text)\n",
    "\n",
    "\n",
    "    Amazon_Button_Sellers =  [s for s in Amazon_Button_Sellers if not 'avaliações' in s]\n",
    "    Amazon_Button_Sellers =  [s for s in Amazon_Button_Sellers if not ' Amazon.com.br ' in s]\n",
    "    Amazon_Button_Sellers =  [s for s in Amazon_Button_Sellers if not 'avaliação' in s]\n",
    "    Amazon_Button_Sellers =  [s for s in Amazon_Button_Sellers if not 'Recém-lançado' in s]\n",
    "\n",
    "    for price in Soup.find_all(class_='a-offscreen'):\n",
    "        Amazon_Button_Price.append(price.text)\n",
    "        Amazon_Button_ASIN.append(ASIN)"
   ],
   "metadata": {
    "collapsed": false,
    "pycharm": {
     "name": "#%%\n"
    }
   }
  },
  {
   "cell_type": "code",
   "execution_count": 34,
   "outputs": [
    {
     "name": "stderr",
     "output_type": "stream",
     "text": [
      "100%|██████████| 20/20 [03:32<00:00, 10.64s/it]\n"
     ]
    }
   ],
   "source": [
    "for item in tqdm(Df_button_sellers['ID']):\n",
    "    Get_Button_Sellers(item)"
   ],
   "metadata": {
    "collapsed": false,
    "pycharm": {
     "name": "#%%\n"
    }
   }
  },
  {
   "cell_type": "code",
   "execution_count": 35,
   "outputs": [
    {
     "name": "stdout",
     "output_type": "stream",
     "text": [
      "29\n",
      "29\n",
      "29\n"
     ]
    }
   ],
   "source": [
    "print(len(Amazon_Button_Sellers))\n",
    "print(len(Amazon_Button_Price))\n",
    "print(len(Amazon_Button_ASIN))"
   ],
   "metadata": {
    "collapsed": false,
    "pycharm": {
     "name": "#%%\n"
    }
   }
  },
  {
   "cell_type": "code",
   "execution_count": 36,
   "outputs": [
    {
     "data": {
      "text/plain": "           Seller        Price        ASIN\n0    LIVE IMPORTS  R$ 2.599,00  B08ZSVP9T7\n1    LIVE IMPORTS  R$ 2.599,00  B08ZSVP9T7\n2  GRUPO MAVERICK  R$ 3.199,99  B08ZSVP9T7\n3  GRUPO MAVERICK  R$ 3.399,99  B08KXN6BNH\n4  GRUPO MAVERICK  R$ 3.099,99  B09MG3XKZJ",
      "text/html": "<div>\n<style scoped>\n    .dataframe tbody tr th:only-of-type {\n        vertical-align: middle;\n    }\n\n    .dataframe tbody tr th {\n        vertical-align: top;\n    }\n\n    .dataframe thead th {\n        text-align: right;\n    }\n</style>\n<table border=\"1\" class=\"dataframe\">\n  <thead>\n    <tr style=\"text-align: right;\">\n      <th></th>\n      <th>Seller</th>\n      <th>Price</th>\n      <th>ASIN</th>\n    </tr>\n  </thead>\n  <tbody>\n    <tr>\n      <th>0</th>\n      <td>LIVE IMPORTS</td>\n      <td>R$ 2.599,00</td>\n      <td>B08ZSVP9T7</td>\n    </tr>\n    <tr>\n      <th>1</th>\n      <td>LIVE IMPORTS</td>\n      <td>R$ 2.599,00</td>\n      <td>B08ZSVP9T7</td>\n    </tr>\n    <tr>\n      <th>2</th>\n      <td>GRUPO MAVERICK</td>\n      <td>R$ 3.199,99</td>\n      <td>B08ZSVP9T7</td>\n    </tr>\n    <tr>\n      <th>3</th>\n      <td>GRUPO MAVERICK</td>\n      <td>R$ 3.399,99</td>\n      <td>B08KXN6BNH</td>\n    </tr>\n    <tr>\n      <th>4</th>\n      <td>GRUPO MAVERICK</td>\n      <td>R$ 3.099,99</td>\n      <td>B09MG3XKZJ</td>\n    </tr>\n  </tbody>\n</table>\n</div>"
     },
     "execution_count": 36,
     "metadata": {},
     "output_type": "execute_result"
    }
   ],
   "source": [
    "Dataframe_Button = pd.DataFrame()\n",
    "\n",
    "Dataframe_Button['Seller'] = Amazon_Button_Sellers\n",
    "Dataframe_Button['Price'] = Amazon_Button_Price\n",
    "Dataframe_Button['ASIN'] = Amazon_Button_ASIN\n",
    "\n",
    "Dataframe_Button.head()"
   ],
   "metadata": {
    "collapsed": false,
    "pycharm": {
     "name": "#%%\n"
    }
   }
  },
  {
   "cell_type": "code",
   "execution_count": 37,
   "outputs": [
    {
     "data": {
      "text/plain": "            ID        DATE MARKETPLACE                 SELLER    PRICE  \\\n0   B08ZSVP9T7  2022-05-31      AMAZON           LIVE IMPORTS  2599.00   \n1   B08ZSVP9T7  2022-05-31      AMAZON           LIVE IMPORTS  2599.00   \n2   B08ZSVP9T7  2022-05-31      AMAZON         GRUPO MAVERICK  3199.99   \n3   B08KXN6BNH  2022-05-31      AMAZON         GRUPO MAVERICK  3399.99   \n4   B09MG3XKZJ  2022-05-31      AMAZON         GRUPO MAVERICK  3099.99   \n5   B09LZ9655F  2022-05-31      AMAZON         GRUPO MAVERICK  3099.99   \n6   B07WSRXMS8  2022-05-31      AMAZON            King Pro St  2283.60   \n7   B07WSRXMS8  2022-05-31      AMAZON           LIVE IMPORTS  2299.00   \n8   B07WSRXMS8  2022-05-31      AMAZON         GRUPO MAVERICK  2599.00   \n9   B07GSVDFTQ  2022-05-31      AMAZON         GRUPO MAVERICK  2399.99   \n10  B07GSVDFTQ  2022-05-31      AMAZON         Center Shop RS  2490.00   \n11  B07GSVDFTQ  2022-05-31      AMAZON      João e Maria Shop  2574.05   \n12  B07BPVPV14  2022-05-31      AMAZON         GRUPO MAVERICK  3485.21   \n13  B07BPVPV14  2022-05-31      AMAZON           LIVE IMPORTS  3499.00   \n14  B01C397F1C  2022-05-31      AMAZON      Ami Ventures Inc.  1034.00   \n15  B07TCY5FNV  2022-05-31      AMAZON          biaeletronico   299.00   \n16  B089X297QT  2022-05-31      AMAZON                BC INFO    35.13   \n17  B089X297QT  2022-05-31      AMAZON     Preech Informática    47.43   \n18  B09BBJTF8R  2022-05-31      AMAZON         GRUPO MAVERICK   299.99   \n19  B0792MJLNM  2022-05-31      AMAZON     Porto Seguro Store  3190.00   \n20  B0792MJLNM  2022-05-31      AMAZON       Tech With Expert  4602.00   \n21  B099KJRQ4V  2022-05-31      AMAZON             BUY SUPPLY   501.45   \n22  B00J9RO4U2  2022-05-31      AMAZON            LIG Celular   189.90   \n23  B08HPCFCSV  2022-05-31      AMAZON           LIVE IMPORTS  2699.00   \n24  B08GYG5SVQ  2022-05-31      AMAZON  Triplenet Pricing INC   811.19   \n25  B08JCR3NTZ  2022-05-31      AMAZON         GRUPO MAVERICK    59.99   \n26  B01L2CPKOK  2022-05-31      AMAZON         GRUPO MAVERICK   189.99   \n27  B09JVT24PJ  2022-05-31      AMAZON              bizoffttk   415.50   \n28  B07WNPTF3T  2022-05-31      AMAZON             BUY SUPPLY   412.74   \n\n    PARCEL  INSTALLMENT  INSTALLMENT_PAYMENT INTERNACIONAL  \\\n0       10      259.900              25990.0          ERRO   \n1       10      259.900              25990.0          ERRO   \n2       10      319.999              31999.9          ERRO   \n3       10      339.999              33999.9          ERRO   \n4       10      309.999              30999.9          ERRO   \n5       10      309.999              30999.9          ERRO   \n6       10      228.360              22836.0          ERRO   \n7       10      229.900              22990.0          ERRO   \n8       10      259.900              25990.0          ERRO   \n9       10      239.999              23999.9          ERRO   \n10      10      249.000              24900.0          ERRO   \n11      10      257.405              25740.5          ERRO   \n12      10      348.521              34852.1          ERRO   \n13      10      349.900              34990.0          ERRO   \n14      10      103.400              10340.0          ERRO   \n15      10       29.900               2990.0          ERRO   \n16      10        3.513                351.3          ERRO   \n17      10        4.743                474.3          ERRO   \n18      10       29.999               2999.9          ERRO   \n19      10      319.000              31900.0          ERRO   \n20      10      460.200              46020.0          ERRO   \n21      10       50.145               5014.5          ERRO   \n22      10       18.990               1899.0          ERRO   \n23      10      269.900              26990.0          ERRO   \n24      10       81.119               8111.9          ERRO   \n25      10        5.999                599.9          ERRO   \n26      10       18.999               1899.9          ERRO   \n27      10       41.550               4155.0          ERRO   \n28      10       41.274               4127.4          ERRO   \n\n                                                  URL  \\\n0   https://www.amazon.com.br/C%C3%82MERA-GOPRO-BL...   \n1   https://www.amazon.com.br/C%C3%82MERA-GOPRO-BL...   \n2   https://www.amazon.com.br/C%C3%82MERA-GOPRO-BL...   \n3   https://www.amazon.com.br/C%C3%A2mera-GoPro-Fr...   \n4   https://www.amazon.com.br/C%C3%82MERA-GOPRO-HE...   \n5   https://www.amazon.com.br/C%C3%82MERA-GOPRO-HE...   \n6   https://www.amazon.com.br/Gopro-Black-prova-D%...   \n7   https://www.amazon.com.br/Gopro-Black-prova-D%...   \n8   https://www.amazon.com.br/Gopro-Black-prova-D%...   \n9   https://www.amazon.com.br/Camera-Digital-12-1M...   \n10  https://www.amazon.com.br/Camera-Digital-12-1M...   \n11  https://www.amazon.com.br/Camera-Digital-12-1M...   \n12  https://www.amazon.com.br/C%C3%A2mera-GoPro-MA...   \n13  https://www.amazon.com.br/C%C3%A2mera-GoPro-MA...   \n14  https://www.amazon.com.br/GOPOLE-Reach-Mini-ex...   \n15  https://www.amazon.com.br/Kit-Gopro-Hero-Pe%C3...   \n16  https://www.amazon.com.br/CABO-USB-PARA-TIPO-P...   \n17  https://www.amazon.com.br/CABO-USB-PARA-TIPO-P...   \n18  https://www.amazon.com.br/PORTA-USB-PARA-PRONL...   \n19  https://www.amazon.com.br/C%C3%A2mera-Digital-...   \n20  https://www.amazon.com.br/C%C3%A2mera-Digital-...   \n21  https://www.amazon.com.br/compat%C3%ADvel-aces...   \n22  https://www.amazon.com.br/GoPro-Sistema-HERO3-...   \n23  https://www.amazon.com.br/GoPro-CHDHX-901-RW-H...   \n24  https://www.amazon.com.br/Cart%C3%A3o-mem%C3%B...   \n25  https://www.amazon.com.br/Porta-Lateral-GoPro-...   \n26  https://www.amazon.com.br/GoPro-Porta-Lateral-...   \n27  https://www.amazon.com.br/grande-angular-c%C3%...   \n28  https://www.amazon.com.br/Mochila-ajust%C3%A1v...   \n\n                                              PRODUCT  \n0           CÂMERA GOPRO HERO 8 BLACK ESSENCIAL BU...  \n1           CÂMERA GOPRO HERO 8 BLACK ESSENCIAL BU...  \n2           CÂMERA GOPRO HERO 8 BLACK ESSENCIAL BU...  \n3           Câmera GoPro HERO9 Black à Prova D'águ...  \n4           CÂMERA GOPRO HERO 8 BLACK – SPECIAL BU...  \n5           CÂMERA GOPRO HERO 8 BLACK - POWER BUND...  \n6           Gopro Hero 8 Black 4k à prova D'água C...  \n7           Gopro Hero 8 Black 4k à prova D'água C...  \n8           Gopro Hero 8 Black 4k à prova D'água C...  \n9           Camera Digital GoPro Hero 7 Black Ultr...  \n10          Camera Digital GoPro Hero 7 Black Ultr...  \n11          Camera Digital GoPro Hero 7 Black Ultr...  \n12                 Câmera GoPro MAX 360, Preto         \n13                 Câmera GoPro MAX 360, Preto         \n14          GOPOLE Reach Mini – Haste de extensão ...  \n15          Kit Para Gopro Hero Com 9 Peças Maleta...  \n16          CABO PARA CELULAR SMARTPHONE USB A 2.0...  \n17          CABO PARA CELULAR SMARTPHONE USB A 2.0...  \n18          PORTA USB PARA USO PRONLONGADO HERO 9 ...  \n19             Câmera Fusion 360, GoPro, Preto         \n20             Câmera Fusion 360, GoPro, Preto         \n21          Capa à prova d'água para GoPro Hero 9,...  \n22          GoPro Sistema Dual Hero para HERO3+ (c...  \n23           GoPro - HERO9 Preto, CHDHX-901-RW         \n24          Cartão de memória SanDisk 400 GB Ultra...  \n25          Porta Lateral Compatível com GoPro Her...  \n26          Porta Lateral de Reposição para Hero6,...  \n27          Lente grande angular, câmera esportiva...  \n28          Mochila com alça de ombro para câmera ...  ",
      "text/html": "<div>\n<style scoped>\n    .dataframe tbody tr th:only-of-type {\n        vertical-align: middle;\n    }\n\n    .dataframe tbody tr th {\n        vertical-align: top;\n    }\n\n    .dataframe thead th {\n        text-align: right;\n    }\n</style>\n<table border=\"1\" class=\"dataframe\">\n  <thead>\n    <tr style=\"text-align: right;\">\n      <th></th>\n      <th>ID</th>\n      <th>DATE</th>\n      <th>MARKETPLACE</th>\n      <th>SELLER</th>\n      <th>PRICE</th>\n      <th>PARCEL</th>\n      <th>INSTALLMENT</th>\n      <th>INSTALLMENT_PAYMENT</th>\n      <th>INTERNACIONAL</th>\n      <th>URL</th>\n      <th>PRODUCT</th>\n    </tr>\n  </thead>\n  <tbody>\n    <tr>\n      <th>0</th>\n      <td>B08ZSVP9T7</td>\n      <td>2022-05-31</td>\n      <td>AMAZON</td>\n      <td>LIVE IMPORTS</td>\n      <td>2599.00</td>\n      <td>10</td>\n      <td>259.900</td>\n      <td>25990.0</td>\n      <td>ERRO</td>\n      <td>https://www.amazon.com.br/C%C3%82MERA-GOPRO-BL...</td>\n      <td>CÂMERA GOPRO HERO 8 BLACK ESSENCIAL BU...</td>\n    </tr>\n    <tr>\n      <th>1</th>\n      <td>B08ZSVP9T7</td>\n      <td>2022-05-31</td>\n      <td>AMAZON</td>\n      <td>LIVE IMPORTS</td>\n      <td>2599.00</td>\n      <td>10</td>\n      <td>259.900</td>\n      <td>25990.0</td>\n      <td>ERRO</td>\n      <td>https://www.amazon.com.br/C%C3%82MERA-GOPRO-BL...</td>\n      <td>CÂMERA GOPRO HERO 8 BLACK ESSENCIAL BU...</td>\n    </tr>\n    <tr>\n      <th>2</th>\n      <td>B08ZSVP9T7</td>\n      <td>2022-05-31</td>\n      <td>AMAZON</td>\n      <td>GRUPO MAVERICK</td>\n      <td>3199.99</td>\n      <td>10</td>\n      <td>319.999</td>\n      <td>31999.9</td>\n      <td>ERRO</td>\n      <td>https://www.amazon.com.br/C%C3%82MERA-GOPRO-BL...</td>\n      <td>CÂMERA GOPRO HERO 8 BLACK ESSENCIAL BU...</td>\n    </tr>\n    <tr>\n      <th>3</th>\n      <td>B08KXN6BNH</td>\n      <td>2022-05-31</td>\n      <td>AMAZON</td>\n      <td>GRUPO MAVERICK</td>\n      <td>3399.99</td>\n      <td>10</td>\n      <td>339.999</td>\n      <td>33999.9</td>\n      <td>ERRO</td>\n      <td>https://www.amazon.com.br/C%C3%A2mera-GoPro-Fr...</td>\n      <td>Câmera GoPro HERO9 Black à Prova D'águ...</td>\n    </tr>\n    <tr>\n      <th>4</th>\n      <td>B09MG3XKZJ</td>\n      <td>2022-05-31</td>\n      <td>AMAZON</td>\n      <td>GRUPO MAVERICK</td>\n      <td>3099.99</td>\n      <td>10</td>\n      <td>309.999</td>\n      <td>30999.9</td>\n      <td>ERRO</td>\n      <td>https://www.amazon.com.br/C%C3%82MERA-GOPRO-HE...</td>\n      <td>CÂMERA GOPRO HERO 8 BLACK – SPECIAL BU...</td>\n    </tr>\n    <tr>\n      <th>5</th>\n      <td>B09LZ9655F</td>\n      <td>2022-05-31</td>\n      <td>AMAZON</td>\n      <td>GRUPO MAVERICK</td>\n      <td>3099.99</td>\n      <td>10</td>\n      <td>309.999</td>\n      <td>30999.9</td>\n      <td>ERRO</td>\n      <td>https://www.amazon.com.br/C%C3%82MERA-GOPRO-HE...</td>\n      <td>CÂMERA GOPRO HERO 8 BLACK - POWER BUND...</td>\n    </tr>\n    <tr>\n      <th>6</th>\n      <td>B07WSRXMS8</td>\n      <td>2022-05-31</td>\n      <td>AMAZON</td>\n      <td>King Pro St</td>\n      <td>2283.60</td>\n      <td>10</td>\n      <td>228.360</td>\n      <td>22836.0</td>\n      <td>ERRO</td>\n      <td>https://www.amazon.com.br/Gopro-Black-prova-D%...</td>\n      <td>Gopro Hero 8 Black 4k à prova D'água C...</td>\n    </tr>\n    <tr>\n      <th>7</th>\n      <td>B07WSRXMS8</td>\n      <td>2022-05-31</td>\n      <td>AMAZON</td>\n      <td>LIVE IMPORTS</td>\n      <td>2299.00</td>\n      <td>10</td>\n      <td>229.900</td>\n      <td>22990.0</td>\n      <td>ERRO</td>\n      <td>https://www.amazon.com.br/Gopro-Black-prova-D%...</td>\n      <td>Gopro Hero 8 Black 4k à prova D'água C...</td>\n    </tr>\n    <tr>\n      <th>8</th>\n      <td>B07WSRXMS8</td>\n      <td>2022-05-31</td>\n      <td>AMAZON</td>\n      <td>GRUPO MAVERICK</td>\n      <td>2599.00</td>\n      <td>10</td>\n      <td>259.900</td>\n      <td>25990.0</td>\n      <td>ERRO</td>\n      <td>https://www.amazon.com.br/Gopro-Black-prova-D%...</td>\n      <td>Gopro Hero 8 Black 4k à prova D'água C...</td>\n    </tr>\n    <tr>\n      <th>9</th>\n      <td>B07GSVDFTQ</td>\n      <td>2022-05-31</td>\n      <td>AMAZON</td>\n      <td>GRUPO MAVERICK</td>\n      <td>2399.99</td>\n      <td>10</td>\n      <td>239.999</td>\n      <td>23999.9</td>\n      <td>ERRO</td>\n      <td>https://www.amazon.com.br/Camera-Digital-12-1M...</td>\n      <td>Camera Digital GoPro Hero 7 Black Ultr...</td>\n    </tr>\n    <tr>\n      <th>10</th>\n      <td>B07GSVDFTQ</td>\n      <td>2022-05-31</td>\n      <td>AMAZON</td>\n      <td>Center Shop RS</td>\n      <td>2490.00</td>\n      <td>10</td>\n      <td>249.000</td>\n      <td>24900.0</td>\n      <td>ERRO</td>\n      <td>https://www.amazon.com.br/Camera-Digital-12-1M...</td>\n      <td>Camera Digital GoPro Hero 7 Black Ultr...</td>\n    </tr>\n    <tr>\n      <th>11</th>\n      <td>B07GSVDFTQ</td>\n      <td>2022-05-31</td>\n      <td>AMAZON</td>\n      <td>João e Maria Shop</td>\n      <td>2574.05</td>\n      <td>10</td>\n      <td>257.405</td>\n      <td>25740.5</td>\n      <td>ERRO</td>\n      <td>https://www.amazon.com.br/Camera-Digital-12-1M...</td>\n      <td>Camera Digital GoPro Hero 7 Black Ultr...</td>\n    </tr>\n    <tr>\n      <th>12</th>\n      <td>B07BPVPV14</td>\n      <td>2022-05-31</td>\n      <td>AMAZON</td>\n      <td>GRUPO MAVERICK</td>\n      <td>3485.21</td>\n      <td>10</td>\n      <td>348.521</td>\n      <td>34852.1</td>\n      <td>ERRO</td>\n      <td>https://www.amazon.com.br/C%C3%A2mera-GoPro-MA...</td>\n      <td>Câmera GoPro MAX 360, Preto</td>\n    </tr>\n    <tr>\n      <th>13</th>\n      <td>B07BPVPV14</td>\n      <td>2022-05-31</td>\n      <td>AMAZON</td>\n      <td>LIVE IMPORTS</td>\n      <td>3499.00</td>\n      <td>10</td>\n      <td>349.900</td>\n      <td>34990.0</td>\n      <td>ERRO</td>\n      <td>https://www.amazon.com.br/C%C3%A2mera-GoPro-MA...</td>\n      <td>Câmera GoPro MAX 360, Preto</td>\n    </tr>\n    <tr>\n      <th>14</th>\n      <td>B01C397F1C</td>\n      <td>2022-05-31</td>\n      <td>AMAZON</td>\n      <td>Ami Ventures Inc.</td>\n      <td>1034.00</td>\n      <td>10</td>\n      <td>103.400</td>\n      <td>10340.0</td>\n      <td>ERRO</td>\n      <td>https://www.amazon.com.br/GOPOLE-Reach-Mini-ex...</td>\n      <td>GOPOLE Reach Mini – Haste de extensão ...</td>\n    </tr>\n    <tr>\n      <th>15</th>\n      <td>B07TCY5FNV</td>\n      <td>2022-05-31</td>\n      <td>AMAZON</td>\n      <td>biaeletronico</td>\n      <td>299.00</td>\n      <td>10</td>\n      <td>29.900</td>\n      <td>2990.0</td>\n      <td>ERRO</td>\n      <td>https://www.amazon.com.br/Kit-Gopro-Hero-Pe%C3...</td>\n      <td>Kit Para Gopro Hero Com 9 Peças Maleta...</td>\n    </tr>\n    <tr>\n      <th>16</th>\n      <td>B089X297QT</td>\n      <td>2022-05-31</td>\n      <td>AMAZON</td>\n      <td>BC INFO</td>\n      <td>35.13</td>\n      <td>10</td>\n      <td>3.513</td>\n      <td>351.3</td>\n      <td>ERRO</td>\n      <td>https://www.amazon.com.br/CABO-USB-PARA-TIPO-P...</td>\n      <td>CABO PARA CELULAR SMARTPHONE USB A 2.0...</td>\n    </tr>\n    <tr>\n      <th>17</th>\n      <td>B089X297QT</td>\n      <td>2022-05-31</td>\n      <td>AMAZON</td>\n      <td>Preech Informática</td>\n      <td>47.43</td>\n      <td>10</td>\n      <td>4.743</td>\n      <td>474.3</td>\n      <td>ERRO</td>\n      <td>https://www.amazon.com.br/CABO-USB-PARA-TIPO-P...</td>\n      <td>CABO PARA CELULAR SMARTPHONE USB A 2.0...</td>\n    </tr>\n    <tr>\n      <th>18</th>\n      <td>B09BBJTF8R</td>\n      <td>2022-05-31</td>\n      <td>AMAZON</td>\n      <td>GRUPO MAVERICK</td>\n      <td>299.99</td>\n      <td>10</td>\n      <td>29.999</td>\n      <td>2999.9</td>\n      <td>ERRO</td>\n      <td>https://www.amazon.com.br/PORTA-USB-PARA-PRONL...</td>\n      <td>PORTA USB PARA USO PRONLONGADO HERO 9 ...</td>\n    </tr>\n    <tr>\n      <th>19</th>\n      <td>B0792MJLNM</td>\n      <td>2022-05-31</td>\n      <td>AMAZON</td>\n      <td>Porto Seguro Store</td>\n      <td>3190.00</td>\n      <td>10</td>\n      <td>319.000</td>\n      <td>31900.0</td>\n      <td>ERRO</td>\n      <td>https://www.amazon.com.br/C%C3%A2mera-Digital-...</td>\n      <td>Câmera Fusion 360, GoPro, Preto</td>\n    </tr>\n    <tr>\n      <th>20</th>\n      <td>B0792MJLNM</td>\n      <td>2022-05-31</td>\n      <td>AMAZON</td>\n      <td>Tech With Expert</td>\n      <td>4602.00</td>\n      <td>10</td>\n      <td>460.200</td>\n      <td>46020.0</td>\n      <td>ERRO</td>\n      <td>https://www.amazon.com.br/C%C3%A2mera-Digital-...</td>\n      <td>Câmera Fusion 360, GoPro, Preto</td>\n    </tr>\n    <tr>\n      <th>21</th>\n      <td>B099KJRQ4V</td>\n      <td>2022-05-31</td>\n      <td>AMAZON</td>\n      <td>BUY SUPPLY</td>\n      <td>501.45</td>\n      <td>10</td>\n      <td>50.145</td>\n      <td>5014.5</td>\n      <td>ERRO</td>\n      <td>https://www.amazon.com.br/compat%C3%ADvel-aces...</td>\n      <td>Capa à prova d'água para GoPro Hero 9,...</td>\n    </tr>\n    <tr>\n      <th>22</th>\n      <td>B00J9RO4U2</td>\n      <td>2022-05-31</td>\n      <td>AMAZON</td>\n      <td>LIG Celular</td>\n      <td>189.90</td>\n      <td>10</td>\n      <td>18.990</td>\n      <td>1899.0</td>\n      <td>ERRO</td>\n      <td>https://www.amazon.com.br/GoPro-Sistema-HERO3-...</td>\n      <td>GoPro Sistema Dual Hero para HERO3+ (c...</td>\n    </tr>\n    <tr>\n      <th>23</th>\n      <td>B08HPCFCSV</td>\n      <td>2022-05-31</td>\n      <td>AMAZON</td>\n      <td>LIVE IMPORTS</td>\n      <td>2699.00</td>\n      <td>10</td>\n      <td>269.900</td>\n      <td>26990.0</td>\n      <td>ERRO</td>\n      <td>https://www.amazon.com.br/GoPro-CHDHX-901-RW-H...</td>\n      <td>GoPro - HERO9 Preto, CHDHX-901-RW</td>\n    </tr>\n    <tr>\n      <th>24</th>\n      <td>B08GYG5SVQ</td>\n      <td>2022-05-31</td>\n      <td>AMAZON</td>\n      <td>Triplenet Pricing INC</td>\n      <td>811.19</td>\n      <td>10</td>\n      <td>81.119</td>\n      <td>8111.9</td>\n      <td>ERRO</td>\n      <td>https://www.amazon.com.br/Cart%C3%A3o-mem%C3%B...</td>\n      <td>Cartão de memória SanDisk 400 GB Ultra...</td>\n    </tr>\n    <tr>\n      <th>25</th>\n      <td>B08JCR3NTZ</td>\n      <td>2022-05-31</td>\n      <td>AMAZON</td>\n      <td>GRUPO MAVERICK</td>\n      <td>59.99</td>\n      <td>10</td>\n      <td>5.999</td>\n      <td>599.9</td>\n      <td>ERRO</td>\n      <td>https://www.amazon.com.br/Porta-Lateral-GoPro-...</td>\n      <td>Porta Lateral Compatível com GoPro Her...</td>\n    </tr>\n    <tr>\n      <th>26</th>\n      <td>B01L2CPKOK</td>\n      <td>2022-05-31</td>\n      <td>AMAZON</td>\n      <td>GRUPO MAVERICK</td>\n      <td>189.99</td>\n      <td>10</td>\n      <td>18.999</td>\n      <td>1899.9</td>\n      <td>ERRO</td>\n      <td>https://www.amazon.com.br/GoPro-Porta-Lateral-...</td>\n      <td>Porta Lateral de Reposição para Hero6,...</td>\n    </tr>\n    <tr>\n      <th>27</th>\n      <td>B09JVT24PJ</td>\n      <td>2022-05-31</td>\n      <td>AMAZON</td>\n      <td>bizoffttk</td>\n      <td>415.50</td>\n      <td>10</td>\n      <td>41.550</td>\n      <td>4155.0</td>\n      <td>ERRO</td>\n      <td>https://www.amazon.com.br/grande-angular-c%C3%...</td>\n      <td>Lente grande angular, câmera esportiva...</td>\n    </tr>\n    <tr>\n      <th>28</th>\n      <td>B07WNPTF3T</td>\n      <td>2022-05-31</td>\n      <td>AMAZON</td>\n      <td>BUY SUPPLY</td>\n      <td>412.74</td>\n      <td>10</td>\n      <td>41.274</td>\n      <td>4127.4</td>\n      <td>ERRO</td>\n      <td>https://www.amazon.com.br/Mochila-ajust%C3%A1v...</td>\n      <td>Mochila com alça de ombro para câmera ...</td>\n    </tr>\n  </tbody>\n</table>\n</div>"
     },
     "execution_count": 37,
     "metadata": {},
     "output_type": "execute_result"
    }
   ],
   "source": [
    "Dataframe_Button = pd.DataFrame()\n",
    "Dataframe_Button['ID'] = Amazon_Button_ASIN\n",
    "\n",
    "Dataframe_Button['DATE'] = pd.to_datetime('today', errors='ignore').date()\n",
    "\n",
    "Dataframe_Button['MARKETPLACE'] = 'AMAZON'\n",
    "\n",
    "Dataframe_Button['SELLER'] = Amazon_Button_Sellers\n",
    "\n",
    "Dataframe_Button['PRICE'] = Amazon_Button_Price\n",
    "Dataframe_Button['PRICE'] = Dataframe_Button['PRICE'].str.replace(\".\",\"\", regex=True)\n",
    "Dataframe_Button['PRICE'] = Dataframe_Button['PRICE'].str.replace(\"R$\",\"\", regex=False)\n",
    "Dataframe_Button['PRICE'] = Dataframe_Button['PRICE'].str.replace(\",\",\".\", regex=True)\n",
    "Dataframe_Button['PRICE'] = Dataframe_Button['PRICE'].astype('float')\n",
    "\n",
    "Dataframe_Button['PARCEL'] = 10\n",
    "\n",
    "Dataframe_Button['INSTALLMENT'] = Dataframe_Button['PRICE'] / Dataframe_Button['PARCEL']\n",
    "\n",
    "Dataframe_Button['INSTALLMENT_PAYMENT'] = Dataframe_Button['PRICE'] * Dataframe_Button['PARCEL']\n",
    "\n",
    "Dataframe_Button['INTERNACIONAL'] = 'ERRO'\n",
    "\n",
    "url_names = []\n",
    "for id in Dataframe_Button['ID']:\n",
    "    url_names.append(Df_final.loc[Df_final['ID'] == id,'URL'].values[0])\n",
    "\n",
    "products_names = []\n",
    "for id in Dataframe_Button['ID']:\n",
    "    products_names.append(Df_final.loc[Df_final['ID'] == id,'PRODUCT'].values[0])\n",
    "\n",
    "Dataframe_Button['URL'] = url_names\n",
    "Dataframe_Button['PRODUCT'] = products_names\n",
    "\n",
    "Dataframe_Button"
   ],
   "metadata": {
    "collapsed": false,
    "pycharm": {
     "name": "#%%\n"
    }
   }
  },
  {
   "cell_type": "code",
   "execution_count": null,
   "outputs": [],
   "source": [],
   "metadata": {
    "collapsed": false,
    "pycharm": {
     "name": "#%%\n"
    }
   }
  },
  {
   "cell_type": "code",
   "execution_count": null,
   "outputs": [],
   "source": [],
   "metadata": {
    "collapsed": false,
    "pycharm": {
     "name": "#%%\n"
    }
   }
  },
  {
   "cell_type": "code",
   "execution_count": 21,
   "metadata": {
    "pycharm": {
     "name": "#%%\n"
    }
   },
   "outputs": [],
   "source": [
    "Df_final.to_excel(r\"C:\\Users\\pedro\\Documents\\Turte Brand Protection\\Turtle_Thinker_Alpha_0.1\\Amazon_Motorola.xlsx\", index=False)"
   ]
  },
  {
   "cell_type": "code",
   "execution_count": 61,
   "metadata": {
    "pycharm": {
     "name": "#%%\n"
    }
   },
   "outputs": [
    {
     "data": {
      "text/plain": "DATE                    object\nURL                     object\nMARKETPLACE             object\nSELLER                  object\nPRICE                  float64\nPARCEL                   int32\nINSTALLMENT            float64\nINSTALLMENT_PAYMENT    float64\nID                      object\nPRODUCT                 object\nINTERNACIONAL           object\nMORE                     int32\ndtype: object"
     },
     "execution_count": 61,
     "metadata": {},
     "output_type": "execute_result"
    }
   ],
   "source": [
    "Df_final.dtypes"
   ]
  },
  {
   "cell_type": "code",
   "execution_count": 100,
   "outputs": [],
   "source": [
    "driver.get('https://www.amazon.com.br/CÂMERA-GOPRO-BLACK-ESSENCIAL-BUNDLE/dp/B08ZSVP9T7/')\n",
    "body_el = driver.find_element(By.CSS_SELECTOR, 'body')\n",
    "html_str = body_el.get_attribute('innerHTML')\n",
    "\n",
    "Soup = BeautifulSoup(html_str, 'html.parser')"
   ],
   "metadata": {
    "collapsed": false,
    "pycharm": {
     "name": "#%%\n"
    }
   }
  },
  {
   "cell_type": "code",
   "execution_count": 109,
   "outputs": [
    {
     "data": {
      "text/plain": "'/gp/offer-listing/B08ZSVP9T7/ref=dp_olp_unknown_mbc'"
     },
     "execution_count": 109,
     "metadata": {},
     "output_type": "execute_result"
    }
   ],
   "source": [
    "Soup.find(class_='a-button-text')['href']"
   ],
   "metadata": {
    "collapsed": false,
    "pycharm": {
     "name": "#%%\n"
    }
   }
  },
  {
   "cell_type": "code",
   "execution_count": 38,
   "metadata": {
    "pycharm": {
     "name": "#%%\n"
    }
   },
   "outputs": [
    {
     "data": {
      "text/plain": "          DATE                                                URL MARKETPLACE  \\\n2   2022-05-31  https://www.amazon.com.br/Mergulho-GoPro-AADIV...      AMAZON   \n3   2022-05-31  https://www.amazon.com.br/Kit-esportivo-Neewer...      AMAZON   \n4   2022-05-31  https://www.amazon.com.br/GoPro-Media-Mod-HERO...      AMAZON   \n7   2022-05-31  https://www.amazon.com.br/Clipe-Girat%C3%B3rio...      AMAZON   \n8   2022-05-31  https://www.amazon.com.br/GoPro-Gopro-Grande-E...      AMAZON   \n9   2022-05-31  https://www.amazon.com.br/Aventura-C%C3%A2mera...      AMAZON   \n10  2022-05-31  https://www.amazon.com.br/GoPro-M%C3%B3dulo-le...      AMAZON   \n12  2022-05-31  https://www.amazon.com.br/GoPro-Cabe%C3%A7a-Qu...      AMAZON   \n13  2022-05-31  https://www.amazon.com.br/GoPro-M%C3%B3dulo-m%...      AMAZON   \n14  2022-05-31  https://www.amazon.com.br/GoPro-Frontal-HyperS...      AMAZON   \n18  2022-05-31  https://www.amazon.com.br/GoPro-AJFRC-001-Roll...      AMAZON   \n19  2022-05-31  https://www.amazon.com.br/GoPro-3-Way-Official...      AMAZON   \n20  2022-05-31  https://www.amazon.com.br/GoPro-Garra-Manual-T...      AMAZON   \n22  2022-05-31  https://www.amazon.com.br/GoPro-Porta-Reposi%C...      AMAZON   \n23  2022-05-31  https://www.amazon.com.br/Al%C3%A7a-Pulso-M%C3...      AMAZON   \n24  2022-05-31  https://www.amazon.com.br/Camera-Acao-Action-S...      AMAZON   \n25  2022-05-31  https://www.amazon.com.br/GoPro-AFHGM-003-The-...      AMAZON   \n26  2022-05-31  https://www.amazon.com.br/MEM%C3%93RIA-SANDISK...      AMAZON   \n27  2022-05-31  https://www.amazon.com.br/Arma%C3%A7%C3%A3o-Pa...      AMAZON   \n28  2022-05-31  https://www.amazon.com.br/Bast%C3%A3o-Monopod-...      AMAZON   \n29  2022-05-31  https://www.amazon.com.br/Lateral-Reposi%C3%A7...      AMAZON   \n30  2022-05-31  https://www.amazon.com.br/Lateral-Reposi%C3%A7...      AMAZON   \n31  2022-05-31  https://www.amazon.com.br/C%C3%A2mera-Action-S...      AMAZON   \n32  2022-05-31  https://www.amazon.com.br/Al%C3%A7as-C%C3%A2me...      AMAZON   \n33  2022-05-31  https://www.amazon.com.br/Cart%C3%A3o-SanDisk-...      AMAZON   \n36  2022-05-31  https://www.amazon.com.br/GoPro-Porta-reposi%C...      AMAZON   \n37  2022-05-31  https://www.amazon.com.br/GoPro-Black-Bast%C3%...      AMAZON   \n39  2022-05-31  https://www.amazon.com.br/GoPro-AKTTR-002-Kit-...      AMAZON   \n42  2022-05-31  https://www.amazon.com.br/GoPro-Light-Mod-HERO...      AMAZON   \n47  2022-05-31  https://www.amazon.com.br/GoPro-Mand%C3%ADbula...      AMAZON   \n49  2022-05-31  https://www.amazon.com.br/GoPro-Peitoral-para-...      AMAZON   \n52  2022-05-31  https://www.amazon.com.br/Vamson-acess%C3%B3ri...      AMAZON   \n55  2022-05-31  https://www.amazon.com.br/Remov%C3%ADvel-Instr...      AMAZON   \n58  2022-05-31  https://www.amazon.com.br/SanDisk-Cart%C3%A3o-...      AMAZON   \n60  2022-05-31  https://www.amazon.com.br/Dji-Osmo-Pocket-2-Co...      AMAZON   \n66  2022-05-31  https://www.amazon.com.br/C%C3%A2mera-Filmador...      AMAZON   \n\n              SELLER    PRICE  PARCEL  INSTALLMENT  INSTALLMENT_PAYMENT  \\\n2             Amazon   100.23       3        33.41               100.23   \n3          octo.shop   264.60       8        33.11               264.88   \n4    Shop12Adventure   673.00      10        67.30               673.00   \n7      Markotec Foto   245.00       8        30.66               245.28   \n8            MeuDome   553.70      10        55.37               553.70   \n9      Markotec Foto   344.09      10        34.49               344.90   \n10        EletroTech   849.90      10        84.99               849.90   \n12           MeuDome   209.00       6        34.85               209.10   \n13       FOTO CENTRO   929.00      10        92.90               929.00   \n14           MeuDome  4799.00      10       479.90              4799.00   \n18            Amazon   178.25       5        35.65               178.25   \n19         octo.shop   506.00      10        50.60               506.00   \n20  Alfa Tecnológico   154.95       5        30.99               154.95   \n22            Amazon    90.29       3        30.11                90.33   \n23           MeuDome   399.00      10        39.90               399.00   \n24            Amazon   522.89      10        52.37               523.70   \n25         octo.shop   224.66       7        32.12               224.84   \n26           FULLLED   249.00       8        31.16               249.28   \n27        EletroTech   219.90       7        31.44               220.08   \n28         Vitrine X    43.69       0         0.00                 0.00   \n29            Amazon    87.83       2        43.92                87.84   \n30            Amazon   207.29     216       216.01             46658.16   \n31  Viver Bem Eletro   219.90       7        31.44               220.08   \n32            Amazon   209.00       6        34.85               209.10   \n33        Thaun Shop    52.90       0         0.00                 0.00   \n36           MeuDome   399.00      10        39.90               399.00   \n37     biaeletronico   349.00      10        34.90               349.00   \n39       FOTO CENTRO   699.00      10        69.90               699.00   \n42  Harma Store LTDA   569.99      10        57.08               570.80   \n47     MEIREMAGAZINE   435.90      10        43.59               435.90   \n49      I.deas.store   200.00       6        33.35               200.10   \n52     Preis Imports   243.39       8        30.45               243.60   \n55            Amazon    52.63       0         0.00                 0.00   \n58   MARIA.D.L.G LLC    85.46       2        42.73                85.46   \n60          QanHorse  3469.00      10       346.90              3469.00   \n66          RC-STORE  3585.78      10       358.65              3586.50   \n\n            ID                                            PRODUCT  \\\n2   B01L2CP126          Super Suit Caixa de Mergulho GoPro par...   \n3   B01171X0UW          Neewer Kit de acessórios para câmera d...   \n4   B0813VSY2V          GoPro Módulo de mídia - HERO8 Black   ...   \n7   B083LS7N8P          Clipe Giratório Magnético GoPro para C...   \n8   B06XHJZLXG          Grande Extension Pole para Todos os Mo...   \n9   B07GD1M8WC          Kit de Aventura GoPro para Câmeras HER...   \n10  B08QCBP1S6          GoPro Módulo de lente Max - HERO9, pre...   \n12  B00F19PYR4          Faixa de Cabeça e Quickclip para Todos...   \n13  B08FRSB1CM          GoPro Módulo de Mídia - HERO10 e HERO9...   \n14  B09D15SFMQ          Câmera GoPro HERO10 Black à Prova com ...   \n18  B083ZWTZ5T                              GoPro Rollcage          \n19  B092RK7H4C          GoPro 3-Way 2.0 (GoPro Official Mount)...   \n20  B0755PDKCN          Garra Manual para Todos os Modelos Her...   \n22  B01L2CS1W8          Porta de Reposição para Hero 5, GoPro,...   \n23  B06XHKQKDH                   Alça de Pulso E Mão GoPro          \n24  B08PC736ZW          Câmera de Ação Action+Selfie 4k Wifi T...   \n25  B08F2YNTQR                       GoPro The Handler 3.0          \n26  B07G3H5RBT          SanDisk CARTÃO DE MEMÓRIA MICRO SD 128...   \n27  B01L2CP62G          Armação GoPro The Frame (HERO7 Black, ...   \n28  B08XQWGVX3          Bastão Monopod Retrátil Action Camera ...   \n29  B07GD1M8WD          Porta Lateral de Reposição GoPro para ...   \n30  B07GD8YBMR          Porta Lateral de Reposição GoPro para ...   \n31  B076TBQWJC          Camera Action Go Cam Pro Sport Ultra 4...   \n32  B007WSNXY8          Alças para Câmera GoPro, 15.24 x 10.16...   \n33  B074B4BFHJ          Cartão SanDisk Ultra SDSQUNS-064G-GN3M...   \n36  B08FRSRRNB          GoPro Porta de reposição - HERO9 Black...   \n37  B07Z4JB47S          Dome para GoPro Hero 8 Black com Bastã...   \n39  B087XVSFM6                        GoPro Kit Viagem 2.0          \n42  B08378B8BJ          GoPro Light Mod - Acessório oficial Go...   \n47  B00F19Q2R0          GoPro Mandíbulas: braçadeira flexível ...   \n49  B00N31FQJS          GoPro Peitoral para cães Fetch – Supor...   \n52  B08L4L57SK          Vamson Kit de acessórios para GoPro He...   \n55  B00JJ2BP40          Suportes Removíveis GoPro para Instrum...   \n58  B07HHD7C7T          SanDisk Cartão Ultra SDSQUNS-128G-GN6M...   \n60  B08HWCCS6S                     Dji Osmo Pocket 2 Combo          \n66  B083R4VMMC          Câmera de ação Insta360 One R Edição T...   \n\n    INTERNACIONAL  MORE  \n2   Internacional    12  \n3   Internacional     2  \n4   Internacional     5  \n7   Internacional     3  \n8   Internacional     4  \n9   Internacional     4  \n10  Internacional     5  \n12  Internacional     5  \n13  Internacional     6  \n14  Internacional     4  \n18  Internacional     3  \n19  Internacional     8  \n20  Internacional     5  \n22  Internacional     2  \n23  Internacional     3  \n24  Internacional    20  \n25  Internacional     4  \n26  Internacional    19  \n27  Internacional     5  \n28  Internacional     3  \n29  Internacional     3  \n30  Internacional     6  \n31  Internacional     5  \n32  Internacional     2  \n33  Internacional    12  \n36  Internacional     3  \n37  Internacional     6  \n39  Internacional     2  \n42  Internacional     3  \n47  Internacional     4  \n49  Internacional     3  \n52  Internacional     2  \n55  Internacional     3  \n58  Internacional    17  \n60  Internacional     9  \n66  Internacional     2  ",
      "text/html": "<div>\n<style scoped>\n    .dataframe tbody tr th:only-of-type {\n        vertical-align: middle;\n    }\n\n    .dataframe tbody tr th {\n        vertical-align: top;\n    }\n\n    .dataframe thead th {\n        text-align: right;\n    }\n</style>\n<table border=\"1\" class=\"dataframe\">\n  <thead>\n    <tr style=\"text-align: right;\">\n      <th></th>\n      <th>DATE</th>\n      <th>URL</th>\n      <th>MARKETPLACE</th>\n      <th>SELLER</th>\n      <th>PRICE</th>\n      <th>PARCEL</th>\n      <th>INSTALLMENT</th>\n      <th>INSTALLMENT_PAYMENT</th>\n      <th>ID</th>\n      <th>PRODUCT</th>\n      <th>INTERNACIONAL</th>\n      <th>MORE</th>\n    </tr>\n  </thead>\n  <tbody>\n    <tr>\n      <th>2</th>\n      <td>2022-05-31</td>\n      <td>https://www.amazon.com.br/Mergulho-GoPro-AADIV...</td>\n      <td>AMAZON</td>\n      <td>Amazon</td>\n      <td>100.23</td>\n      <td>3</td>\n      <td>33.41</td>\n      <td>100.23</td>\n      <td>B01L2CP126</td>\n      <td>Super Suit Caixa de Mergulho GoPro par...</td>\n      <td>Internacional</td>\n      <td>12</td>\n    </tr>\n    <tr>\n      <th>3</th>\n      <td>2022-05-31</td>\n      <td>https://www.amazon.com.br/Kit-esportivo-Neewer...</td>\n      <td>AMAZON</td>\n      <td>octo.shop</td>\n      <td>264.60</td>\n      <td>8</td>\n      <td>33.11</td>\n      <td>264.88</td>\n      <td>B01171X0UW</td>\n      <td>Neewer Kit de acessórios para câmera d...</td>\n      <td>Internacional</td>\n      <td>2</td>\n    </tr>\n    <tr>\n      <th>4</th>\n      <td>2022-05-31</td>\n      <td>https://www.amazon.com.br/GoPro-Media-Mod-HERO...</td>\n      <td>AMAZON</td>\n      <td>Shop12Adventure</td>\n      <td>673.00</td>\n      <td>10</td>\n      <td>67.30</td>\n      <td>673.00</td>\n      <td>B0813VSY2V</td>\n      <td>GoPro Módulo de mídia - HERO8 Black   ...</td>\n      <td>Internacional</td>\n      <td>5</td>\n    </tr>\n    <tr>\n      <th>7</th>\n      <td>2022-05-31</td>\n      <td>https://www.amazon.com.br/Clipe-Girat%C3%B3rio...</td>\n      <td>AMAZON</td>\n      <td>Markotec Foto</td>\n      <td>245.00</td>\n      <td>8</td>\n      <td>30.66</td>\n      <td>245.28</td>\n      <td>B083LS7N8P</td>\n      <td>Clipe Giratório Magnético GoPro para C...</td>\n      <td>Internacional</td>\n      <td>3</td>\n    </tr>\n    <tr>\n      <th>8</th>\n      <td>2022-05-31</td>\n      <td>https://www.amazon.com.br/GoPro-Gopro-Grande-E...</td>\n      <td>AMAZON</td>\n      <td>MeuDome</td>\n      <td>553.70</td>\n      <td>10</td>\n      <td>55.37</td>\n      <td>553.70</td>\n      <td>B06XHJZLXG</td>\n      <td>Grande Extension Pole para Todos os Mo...</td>\n      <td>Internacional</td>\n      <td>4</td>\n    </tr>\n    <tr>\n      <th>9</th>\n      <td>2022-05-31</td>\n      <td>https://www.amazon.com.br/Aventura-C%C3%A2mera...</td>\n      <td>AMAZON</td>\n      <td>Markotec Foto</td>\n      <td>344.09</td>\n      <td>10</td>\n      <td>34.49</td>\n      <td>344.90</td>\n      <td>B07GD1M8WC</td>\n      <td>Kit de Aventura GoPro para Câmeras HER...</td>\n      <td>Internacional</td>\n      <td>4</td>\n    </tr>\n    <tr>\n      <th>10</th>\n      <td>2022-05-31</td>\n      <td>https://www.amazon.com.br/GoPro-M%C3%B3dulo-le...</td>\n      <td>AMAZON</td>\n      <td>EletroTech</td>\n      <td>849.90</td>\n      <td>10</td>\n      <td>84.99</td>\n      <td>849.90</td>\n      <td>B08QCBP1S6</td>\n      <td>GoPro Módulo de lente Max - HERO9, pre...</td>\n      <td>Internacional</td>\n      <td>5</td>\n    </tr>\n    <tr>\n      <th>12</th>\n      <td>2022-05-31</td>\n      <td>https://www.amazon.com.br/GoPro-Cabe%C3%A7a-Qu...</td>\n      <td>AMAZON</td>\n      <td>MeuDome</td>\n      <td>209.00</td>\n      <td>6</td>\n      <td>34.85</td>\n      <td>209.10</td>\n      <td>B00F19PYR4</td>\n      <td>Faixa de Cabeça e Quickclip para Todos...</td>\n      <td>Internacional</td>\n      <td>5</td>\n    </tr>\n    <tr>\n      <th>13</th>\n      <td>2022-05-31</td>\n      <td>https://www.amazon.com.br/GoPro-M%C3%B3dulo-m%...</td>\n      <td>AMAZON</td>\n      <td>FOTO CENTRO</td>\n      <td>929.00</td>\n      <td>10</td>\n      <td>92.90</td>\n      <td>929.00</td>\n      <td>B08FRSB1CM</td>\n      <td>GoPro Módulo de Mídia - HERO10 e HERO9...</td>\n      <td>Internacional</td>\n      <td>6</td>\n    </tr>\n    <tr>\n      <th>14</th>\n      <td>2022-05-31</td>\n      <td>https://www.amazon.com.br/GoPro-Frontal-HyperS...</td>\n      <td>AMAZON</td>\n      <td>MeuDome</td>\n      <td>4799.00</td>\n      <td>10</td>\n      <td>479.90</td>\n      <td>4799.00</td>\n      <td>B09D15SFMQ</td>\n      <td>Câmera GoPro HERO10 Black à Prova com ...</td>\n      <td>Internacional</td>\n      <td>4</td>\n    </tr>\n    <tr>\n      <th>18</th>\n      <td>2022-05-31</td>\n      <td>https://www.amazon.com.br/GoPro-AJFRC-001-Roll...</td>\n      <td>AMAZON</td>\n      <td>Amazon</td>\n      <td>178.25</td>\n      <td>5</td>\n      <td>35.65</td>\n      <td>178.25</td>\n      <td>B083ZWTZ5T</td>\n      <td>GoPro Rollcage</td>\n      <td>Internacional</td>\n      <td>3</td>\n    </tr>\n    <tr>\n      <th>19</th>\n      <td>2022-05-31</td>\n      <td>https://www.amazon.com.br/GoPro-3-Way-Official...</td>\n      <td>AMAZON</td>\n      <td>octo.shop</td>\n      <td>506.00</td>\n      <td>10</td>\n      <td>50.60</td>\n      <td>506.00</td>\n      <td>B092RK7H4C</td>\n      <td>GoPro 3-Way 2.0 (GoPro Official Mount)...</td>\n      <td>Internacional</td>\n      <td>8</td>\n    </tr>\n    <tr>\n      <th>20</th>\n      <td>2022-05-31</td>\n      <td>https://www.amazon.com.br/GoPro-Garra-Manual-T...</td>\n      <td>AMAZON</td>\n      <td>Alfa Tecnológico</td>\n      <td>154.95</td>\n      <td>5</td>\n      <td>30.99</td>\n      <td>154.95</td>\n      <td>B0755PDKCN</td>\n      <td>Garra Manual para Todos os Modelos Her...</td>\n      <td>Internacional</td>\n      <td>5</td>\n    </tr>\n    <tr>\n      <th>22</th>\n      <td>2022-05-31</td>\n      <td>https://www.amazon.com.br/GoPro-Porta-Reposi%C...</td>\n      <td>AMAZON</td>\n      <td>Amazon</td>\n      <td>90.29</td>\n      <td>3</td>\n      <td>30.11</td>\n      <td>90.33</td>\n      <td>B01L2CS1W8</td>\n      <td>Porta de Reposição para Hero 5, GoPro,...</td>\n      <td>Internacional</td>\n      <td>2</td>\n    </tr>\n    <tr>\n      <th>23</th>\n      <td>2022-05-31</td>\n      <td>https://www.amazon.com.br/Al%C3%A7a-Pulso-M%C3...</td>\n      <td>AMAZON</td>\n      <td>MeuDome</td>\n      <td>399.00</td>\n      <td>10</td>\n      <td>39.90</td>\n      <td>399.00</td>\n      <td>B06XHKQKDH</td>\n      <td>Alça de Pulso E Mão GoPro</td>\n      <td>Internacional</td>\n      <td>3</td>\n    </tr>\n    <tr>\n      <th>24</th>\n      <td>2022-05-31</td>\n      <td>https://www.amazon.com.br/Camera-Acao-Action-S...</td>\n      <td>AMAZON</td>\n      <td>Amazon</td>\n      <td>522.89</td>\n      <td>10</td>\n      <td>52.37</td>\n      <td>523.70</td>\n      <td>B08PC736ZW</td>\n      <td>Câmera de Ação Action+Selfie 4k Wifi T...</td>\n      <td>Internacional</td>\n      <td>20</td>\n    </tr>\n    <tr>\n      <th>25</th>\n      <td>2022-05-31</td>\n      <td>https://www.amazon.com.br/GoPro-AFHGM-003-The-...</td>\n      <td>AMAZON</td>\n      <td>octo.shop</td>\n      <td>224.66</td>\n      <td>7</td>\n      <td>32.12</td>\n      <td>224.84</td>\n      <td>B08F2YNTQR</td>\n      <td>GoPro The Handler 3.0</td>\n      <td>Internacional</td>\n      <td>4</td>\n    </tr>\n    <tr>\n      <th>26</th>\n      <td>2022-05-31</td>\n      <td>https://www.amazon.com.br/MEM%C3%93RIA-SANDISK...</td>\n      <td>AMAZON</td>\n      <td>FULLLED</td>\n      <td>249.00</td>\n      <td>8</td>\n      <td>31.16</td>\n      <td>249.28</td>\n      <td>B07G3H5RBT</td>\n      <td>SanDisk CARTÃO DE MEMÓRIA MICRO SD 128...</td>\n      <td>Internacional</td>\n      <td>19</td>\n    </tr>\n    <tr>\n      <th>27</th>\n      <td>2022-05-31</td>\n      <td>https://www.amazon.com.br/Arma%C3%A7%C3%A3o-Pa...</td>\n      <td>AMAZON</td>\n      <td>EletroTech</td>\n      <td>219.90</td>\n      <td>7</td>\n      <td>31.44</td>\n      <td>220.08</td>\n      <td>B01L2CP62G</td>\n      <td>Armação GoPro The Frame (HERO7 Black, ...</td>\n      <td>Internacional</td>\n      <td>5</td>\n    </tr>\n    <tr>\n      <th>28</th>\n      <td>2022-05-31</td>\n      <td>https://www.amazon.com.br/Bast%C3%A3o-Monopod-...</td>\n      <td>AMAZON</td>\n      <td>Vitrine X</td>\n      <td>43.69</td>\n      <td>0</td>\n      <td>0.00</td>\n      <td>0.00</td>\n      <td>B08XQWGVX3</td>\n      <td>Bastão Monopod Retrátil Action Camera ...</td>\n      <td>Internacional</td>\n      <td>3</td>\n    </tr>\n    <tr>\n      <th>29</th>\n      <td>2022-05-31</td>\n      <td>https://www.amazon.com.br/Lateral-Reposi%C3%A7...</td>\n      <td>AMAZON</td>\n      <td>Amazon</td>\n      <td>87.83</td>\n      <td>2</td>\n      <td>43.92</td>\n      <td>87.84</td>\n      <td>B07GD1M8WD</td>\n      <td>Porta Lateral de Reposição GoPro para ...</td>\n      <td>Internacional</td>\n      <td>3</td>\n    </tr>\n    <tr>\n      <th>30</th>\n      <td>2022-05-31</td>\n      <td>https://www.amazon.com.br/Lateral-Reposi%C3%A7...</td>\n      <td>AMAZON</td>\n      <td>Amazon</td>\n      <td>207.29</td>\n      <td>216</td>\n      <td>216.01</td>\n      <td>46658.16</td>\n      <td>B07GD8YBMR</td>\n      <td>Porta Lateral de Reposição GoPro para ...</td>\n      <td>Internacional</td>\n      <td>6</td>\n    </tr>\n    <tr>\n      <th>31</th>\n      <td>2022-05-31</td>\n      <td>https://www.amazon.com.br/C%C3%A2mera-Action-S...</td>\n      <td>AMAZON</td>\n      <td>Viver Bem Eletro</td>\n      <td>219.90</td>\n      <td>7</td>\n      <td>31.44</td>\n      <td>220.08</td>\n      <td>B076TBQWJC</td>\n      <td>Camera Action Go Cam Pro Sport Ultra 4...</td>\n      <td>Internacional</td>\n      <td>5</td>\n    </tr>\n    <tr>\n      <th>32</th>\n      <td>2022-05-31</td>\n      <td>https://www.amazon.com.br/Al%C3%A7as-C%C3%A2me...</td>\n      <td>AMAZON</td>\n      <td>Amazon</td>\n      <td>209.00</td>\n      <td>6</td>\n      <td>34.85</td>\n      <td>209.10</td>\n      <td>B007WSNXY8</td>\n      <td>Alças para Câmera GoPro, 15.24 x 10.16...</td>\n      <td>Internacional</td>\n      <td>2</td>\n    </tr>\n    <tr>\n      <th>33</th>\n      <td>2022-05-31</td>\n      <td>https://www.amazon.com.br/Cart%C3%A3o-SanDisk-...</td>\n      <td>AMAZON</td>\n      <td>Thaun Shop</td>\n      <td>52.90</td>\n      <td>0</td>\n      <td>0.00</td>\n      <td>0.00</td>\n      <td>B074B4BFHJ</td>\n      <td>Cartão SanDisk Ultra SDSQUNS-064G-GN3M...</td>\n      <td>Internacional</td>\n      <td>12</td>\n    </tr>\n    <tr>\n      <th>36</th>\n      <td>2022-05-31</td>\n      <td>https://www.amazon.com.br/GoPro-Porta-reposi%C...</td>\n      <td>AMAZON</td>\n      <td>MeuDome</td>\n      <td>399.00</td>\n      <td>10</td>\n      <td>39.90</td>\n      <td>399.00</td>\n      <td>B08FRSRRNB</td>\n      <td>GoPro Porta de reposição - HERO9 Black...</td>\n      <td>Internacional</td>\n      <td>3</td>\n    </tr>\n    <tr>\n      <th>37</th>\n      <td>2022-05-31</td>\n      <td>https://www.amazon.com.br/GoPro-Black-Bast%C3%...</td>\n      <td>AMAZON</td>\n      <td>biaeletronico</td>\n      <td>349.00</td>\n      <td>10</td>\n      <td>34.90</td>\n      <td>349.00</td>\n      <td>B07Z4JB47S</td>\n      <td>Dome para GoPro Hero 8 Black com Bastã...</td>\n      <td>Internacional</td>\n      <td>6</td>\n    </tr>\n    <tr>\n      <th>39</th>\n      <td>2022-05-31</td>\n      <td>https://www.amazon.com.br/GoPro-AKTTR-002-Kit-...</td>\n      <td>AMAZON</td>\n      <td>FOTO CENTRO</td>\n      <td>699.00</td>\n      <td>10</td>\n      <td>69.90</td>\n      <td>699.00</td>\n      <td>B087XVSFM6</td>\n      <td>GoPro Kit Viagem 2.0</td>\n      <td>Internacional</td>\n      <td>2</td>\n    </tr>\n    <tr>\n      <th>42</th>\n      <td>2022-05-31</td>\n      <td>https://www.amazon.com.br/GoPro-Light-Mod-HERO...</td>\n      <td>AMAZON</td>\n      <td>Harma Store LTDA</td>\n      <td>569.99</td>\n      <td>10</td>\n      <td>57.08</td>\n      <td>570.80</td>\n      <td>B08378B8BJ</td>\n      <td>GoPro Light Mod - Acessório oficial Go...</td>\n      <td>Internacional</td>\n      <td>3</td>\n    </tr>\n    <tr>\n      <th>47</th>\n      <td>2022-05-31</td>\n      <td>https://www.amazon.com.br/GoPro-Mand%C3%ADbula...</td>\n      <td>AMAZON</td>\n      <td>MEIREMAGAZINE</td>\n      <td>435.90</td>\n      <td>10</td>\n      <td>43.59</td>\n      <td>435.90</td>\n      <td>B00F19Q2R0</td>\n      <td>GoPro Mandíbulas: braçadeira flexível ...</td>\n      <td>Internacional</td>\n      <td>4</td>\n    </tr>\n    <tr>\n      <th>49</th>\n      <td>2022-05-31</td>\n      <td>https://www.amazon.com.br/GoPro-Peitoral-para-...</td>\n      <td>AMAZON</td>\n      <td>I.deas.store</td>\n      <td>200.00</td>\n      <td>6</td>\n      <td>33.35</td>\n      <td>200.10</td>\n      <td>B00N31FQJS</td>\n      <td>GoPro Peitoral para cães Fetch – Supor...</td>\n      <td>Internacional</td>\n      <td>3</td>\n    </tr>\n    <tr>\n      <th>52</th>\n      <td>2022-05-31</td>\n      <td>https://www.amazon.com.br/Vamson-acess%C3%B3ri...</td>\n      <td>AMAZON</td>\n      <td>Preis Imports</td>\n      <td>243.39</td>\n      <td>8</td>\n      <td>30.45</td>\n      <td>243.60</td>\n      <td>B08L4L57SK</td>\n      <td>Vamson Kit de acessórios para GoPro He...</td>\n      <td>Internacional</td>\n      <td>2</td>\n    </tr>\n    <tr>\n      <th>55</th>\n      <td>2022-05-31</td>\n      <td>https://www.amazon.com.br/Remov%C3%ADvel-Instr...</td>\n      <td>AMAZON</td>\n      <td>Amazon</td>\n      <td>52.63</td>\n      <td>0</td>\n      <td>0.00</td>\n      <td>0.00</td>\n      <td>B00JJ2BP40</td>\n      <td>Suportes Removíveis GoPro para Instrum...</td>\n      <td>Internacional</td>\n      <td>3</td>\n    </tr>\n    <tr>\n      <th>58</th>\n      <td>2022-05-31</td>\n      <td>https://www.amazon.com.br/SanDisk-Cart%C3%A3o-...</td>\n      <td>AMAZON</td>\n      <td>MARIA.D.L.G LLC</td>\n      <td>85.46</td>\n      <td>2</td>\n      <td>42.73</td>\n      <td>85.46</td>\n      <td>B07HHD7C7T</td>\n      <td>SanDisk Cartão Ultra SDSQUNS-128G-GN6M...</td>\n      <td>Internacional</td>\n      <td>17</td>\n    </tr>\n    <tr>\n      <th>60</th>\n      <td>2022-05-31</td>\n      <td>https://www.amazon.com.br/Dji-Osmo-Pocket-2-Co...</td>\n      <td>AMAZON</td>\n      <td>QanHorse</td>\n      <td>3469.00</td>\n      <td>10</td>\n      <td>346.90</td>\n      <td>3469.00</td>\n      <td>B08HWCCS6S</td>\n      <td>Dji Osmo Pocket 2 Combo</td>\n      <td>Internacional</td>\n      <td>9</td>\n    </tr>\n    <tr>\n      <th>66</th>\n      <td>2022-05-31</td>\n      <td>https://www.amazon.com.br/C%C3%A2mera-Filmador...</td>\n      <td>AMAZON</td>\n      <td>RC-STORE</td>\n      <td>3585.78</td>\n      <td>10</td>\n      <td>358.65</td>\n      <td>3586.50</td>\n      <td>B083R4VMMC</td>\n      <td>Câmera de ação Insta360 One R Edição T...</td>\n      <td>Internacional</td>\n      <td>2</td>\n    </tr>\n  </tbody>\n</table>\n</div>"
     },
     "execution_count": 38,
     "metadata": {},
     "output_type": "execute_result"
    }
   ],
   "source": [
    "Df_more_offers = Df_final[Df_final['MORE'] != 0]\n",
    "Df_more_offers"
   ]
  },
  {
   "cell_type": "code",
   "execution_count": 40,
   "metadata": {
    "pycharm": {
     "name": "#%%\n"
    }
   },
   "outputs": [],
   "source": [
    "def search_more_offers_1(ASIN):\n",
    "    global Amazon_seller_more\n",
    "    \n",
    "    time.sleep(5)\n",
    "\n",
    "    new_url = \"https://www.amazon.com.br/gp/product/ajax/?asin=\" + ASIN + \"&pageno=1&experienceId=aodAjaxMain\"\n",
    "\n",
    "    driver.get(new_url)\n",
    "    \n",
    "    time.sleep(5)\n",
    "\n",
    "    body_el = driver.find_element(By.CSS_SELECTOR, 'body')\n",
    "    html_str = body_el.get_attribute('innerHTML')\n",
    "\n",
    "    Soup = BeautifulSoup(html_str, 'html.parser')\n",
    "\n",
    "    for seller in Soup.find_all(class_='a-size-small a-color-base')[4:]:\n",
    "        Amazon_seller_more.append(seller.text)\n",
    "\n",
    "\n",
    "    Amazon_seller_more =  [s for s in Amazon_seller_more if not 'avaliações' in s]\n",
    "    Amazon_seller_more =  [s for s in Amazon_seller_more if not ' Amazon.com.br ' in s]\n",
    "    Amazon_seller_more =  [s for s in Amazon_seller_more if not 'avaliação' in s]\n",
    "    Amazon_seller_more =  [s for s in Amazon_seller_more if not 'Recém-lançado' in s]\n",
    "\n",
    "    for price in Soup.find_all(class_='a-offscreen')[2:]:\n",
    "        Amazon_price_more.append(price.text)\n",
    "        Amazon_ID_More.append(ASIN)"
   ]
  },
  {
   "cell_type": "code",
   "execution_count": 41,
   "outputs": [],
   "source": [
    "def search_more_offers_2(ASIN):\n",
    "    global Amazon_seller_more\n",
    "\n",
    "    time.sleep(5)\n",
    "\n",
    "    new_url = \"https://www.amazon.com.br/gp/product/ajax/?asin=\" + ASIN + \"&pageno=2&experienceId=aodAjaxMain\"\n",
    "\n",
    "    driver.get(new_url)\n",
    "\n",
    "    time.sleep(5)\n",
    "\n",
    "    body_el = driver.find_element(By.CSS_SELECTOR, 'body')\n",
    "    html_str = body_el.get_attribute('innerHTML')\n",
    "\n",
    "    Soup = BeautifulSoup(html_str, 'html.parser')\n",
    "\n",
    "    for seller in Soup.find_all(class_='a-size-small a-color-base'):\n",
    "        Amazon_seller_more.append(seller.text)\n",
    "\n",
    "\n",
    "    Amazon_seller_more =  [s for s in Amazon_seller_more if not 'avaliações' in s]\n",
    "    Amazon_seller_more =  [s for s in Amazon_seller_more if not ' Amazon.com.br ' in s]\n",
    "    Amazon_seller_more =  [s for s in Amazon_seller_more if not 'avaliação' in s]\n",
    "    Amazon_seller_more =  [s for s in Amazon_seller_more if not 'Recém-lançado' in s]\n",
    "\n",
    "    for price in Soup.find_all(class_='a-offscreen'):\n",
    "        Amazon_price_more.append(price.text)\n",
    "        Amazon_ID_More.append(ASIN)"
   ],
   "metadata": {
    "collapsed": false,
    "pycharm": {
     "name": "#%%\n"
    }
   }
  },
  {
   "cell_type": "code",
   "execution_count": 42,
   "outputs": [],
   "source": [
    "def search_more_offers_3(ASIN):\n",
    "    global Amazon_seller_more\n",
    "\n",
    "    time.sleep(5)\n",
    "\n",
    "    new_url = \"https://www.amazon.com.br/gp/product/ajax/?asin=\" + ASIN + \"&pageno=3&experienceId=aodAjaxMain\"\n",
    "\n",
    "    driver.get(new_url)\n",
    "\n",
    "    time.sleep(5)\n",
    "\n",
    "    body_el = driver.find_element(By.CSS_SELECTOR, 'body')\n",
    "    html_str = body_el.get_attribute('innerHTML')\n",
    "\n",
    "    Soup = BeautifulSoup(html_str, 'html.parser')\n",
    "\n",
    "    for seller in Soup.find_all(class_='a-size-small a-color-base'):\n",
    "        Amazon_seller_more.append(seller.text)\n",
    "\n",
    "\n",
    "    Amazon_seller_more =  [s for s in Amazon_seller_more if not 'avaliações' in s]\n",
    "    Amazon_seller_more =  [s for s in Amazon_seller_more if not ' Amazon.com.br ' in s]\n",
    "    Amazon_seller_more =  [s for s in Amazon_seller_more if not 'avaliação' in s]\n",
    "    Amazon_seller_more =  [s for s in Amazon_seller_more if not 'Recém-lançado' in s]\n",
    "\n",
    "    for price in Soup.find_all(class_='a-offscreen'):\n",
    "        Amazon_price_more.append(price.text)\n",
    "        Amazon_ID_More.append(ASIN)"
   ],
   "metadata": {
    "collapsed": false,
    "pycharm": {
     "name": "#%%\n"
    }
   }
  },
  {
   "cell_type": "code",
   "execution_count": 43,
   "outputs": [],
   "source": [
    "def search_more_offers_4(ASIN):\n",
    "    global Amazon_seller_more\n",
    "\n",
    "    time.sleep(5)\n",
    "\n",
    "    new_url = \"https://www.amazon.com.br/gp/product/ajax/?asin=\" + ASIN + \"&pageno=4&experienceId=aodAjaxMain\"\n",
    "\n",
    "    driver.get(new_url)\n",
    "\n",
    "    time.sleep(5)\n",
    "\n",
    "    body_el = driver.find_element(By.CSS_SELECTOR, 'body')\n",
    "    html_str = body_el.get_attribute('innerHTML')\n",
    "\n",
    "    Soup = BeautifulSoup(html_str, 'html.parser')\n",
    "\n",
    "    for seller in Soup.find_all(class_='a-size-small a-color-base'):\n",
    "        Amazon_seller_more.append(seller.text)\n",
    "\n",
    "\n",
    "    Amazon_seller_more =  [s for s in Amazon_seller_more if not 'avaliações' in s]\n",
    "    Amazon_seller_more =  [s for s in Amazon_seller_more if not ' Amazon.com.br ' in s]\n",
    "    Amazon_seller_more =  [s for s in Amazon_seller_more if not 'avaliação' in s]\n",
    "    Amazon_seller_more =  [s for s in Amazon_seller_more if not 'Recém-lançado' in s]\n",
    "\n",
    "    for price in Soup.find_all(class_='a-offscreen'):\n",
    "        Amazon_price_more.append(price.text)\n",
    "        Amazon_ID_More.append(ASIN)"
   ],
   "metadata": {
    "collapsed": false,
    "pycharm": {
     "name": "#%%\n"
    }
   }
  },
  {
   "cell_type": "code",
   "execution_count": 44,
   "outputs": [],
   "source": [
    "def search_more_offers_5(ASIN):\n",
    "    global Amazon_seller_more\n",
    "\n",
    "    time.sleep(5)\n",
    "\n",
    "    new_url = \"https://www.amazon.com.br/gp/product/ajax/?asin=\" + ASIN + \"&pageno=5&experienceId=aodAjaxMain\"\n",
    "\n",
    "    driver.get(new_url)\n",
    "\n",
    "    time.sleep(5)\n",
    "\n",
    "    body_el = driver.find_element(By.CSS_SELECTOR, 'body')\n",
    "    html_str = body_el.get_attribute('innerHTML')\n",
    "\n",
    "    Soup = BeautifulSoup(html_str, 'html.parser')\n",
    "\n",
    "    for seller in Soup.find_all(class_='a-size-small a-color-base'):\n",
    "        Amazon_seller_more.append(seller.text)\n",
    "\n",
    "\n",
    "    Amazon_seller_more =  [s for s in Amazon_seller_more if not 'avaliações' in s]\n",
    "    Amazon_seller_more =  [s for s in Amazon_seller_more if not ' Amazon.com.br ' in s]\n",
    "    Amazon_seller_more =  [s for s in Amazon_seller_more if not 'avaliação' in s]\n",
    "    Amazon_seller_more =  [s for s in Amazon_seller_more if not 'Recém-lançado' in s]\n",
    "\n",
    "    for price in Soup.find_all(class_='a-offscreen'):\n",
    "        Amazon_price_more.append(price.text)\n",
    "        Amazon_ID_More.append(ASIN)"
   ],
   "metadata": {
    "collapsed": false,
    "pycharm": {
     "name": "#%%\n"
    }
   }
  },
  {
   "cell_type": "code",
   "execution_count": 45,
   "metadata": {
    "pycharm": {
     "name": "#%%\n"
    }
   },
   "outputs": [],
   "source": [
    "for id,more in zip(Df_more_offers.ID, Df_more_offers.MORE):\n",
    "    if more < 10:\n",
    "        search_more_offers_1(id)\n",
    "    elif (more > 10) and (more < 20):\n",
    "        search_more_offers_1(id)\n",
    "        search_more_offers_2(id)\n",
    "    elif (more > 20) and (more < 30):\n",
    "        search_more_offers_1(id)\n",
    "        search_more_offers_2(id)\n",
    "        search_more_offers_3(id)\n",
    "    elif (more > 30) and (more < 40):\n",
    "        search_more_offers_1(id)\n",
    "        search_more_offers_2(id)\n",
    "        search_more_offers_3(id)\n",
    "        search_more_offers_4(id)\n",
    "    elif (more > 40) and (more < 50):\n",
    "        search_more_offers_1(id)\n",
    "        search_more_offers_2(id)\n",
    "        search_more_offers_3(id)\n",
    "        search_more_offers_4(id)\n",
    "        search_more_offers_5(id)"
   ]
  },
  {
   "cell_type": "code",
   "execution_count": 29,
   "outputs": [],
   "source": [
    "Amazon_seller_more = []\n",
    "Amazon_price_more = []\n",
    "Amazon_ID_More = []"
   ],
   "metadata": {
    "collapsed": false,
    "pycharm": {
     "name": "#%%\n"
    }
   }
  },
  {
   "cell_type": "code",
   "execution_count": 47,
   "outputs": [
    {
     "name": "stdout",
     "output_type": "stream",
     "text": [
      "149\n",
      "149\n",
      "149\n"
     ]
    }
   ],
   "source": [
    "print(len(Amazon_seller_more))\n",
    "print(len(Amazon_ID_More))\n",
    "print(len(Amazon_price_more))"
   ],
   "metadata": {
    "collapsed": false,
    "pycharm": {
     "name": "#%%\n"
    }
   }
  },
  {
   "cell_type": "code",
   "execution_count": 95,
   "outputs": [],
   "source": [
    "new_url = \"https://www.amazon.com.br/gp/product/ajax/?asin=\" + \"B079NWPZTF\" + \"&pageno=1&experienceId=aodAjaxMain\"\n",
    "\n",
    "driver.get(new_url)\n",
    "\n",
    "time.sleep(5)\n",
    "\n",
    "body_el = driver.find_element(By.CSS_SELECTOR, 'body')\n",
    "html_str = body_el.get_attribute('innerHTML')\n",
    "\n",
    "Soup = BeautifulSoup(html_str, 'html.parser')\n",
    "\n",
    "for seller in Soup.find_all(class_='a-size-small a-color-base')[4:]:\n",
    "    Amazon_seller_more.append(seller.text)\n",
    "\n",
    "\n",
    "Amazon_seller_more =  [s for s in Amazon_seller_more if not 'avaliações' in s]\n",
    "Amazon_seller_more =  [s for s in Amazon_seller_more if not ' Amazon.com.br ' in s]\n",
    "Amazon_seller_more =  [s for s in Amazon_seller_more if not 'avaliação' in s]\n",
    "Amazon_seller_more =  [s for s in Amazon_seller_more if not 'Recém-lançado' in s]\n",
    "\n",
    "for price in Soup.find_all(class_='a-offscreen')[2:]:\n",
    "    Amazon_price_more.append(price.text)\n",
    "    Amazon_ID_More.append('B079NWPZTF')"
   ],
   "metadata": {
    "collapsed": false,
    "pycharm": {
     "name": "#%%\n"
    }
   }
  },
  {
   "cell_type": "code",
   "execution_count": 97,
   "outputs": [
    {
     "name": "stdout",
     "output_type": "stream",
     "text": [
      "Triplenet Pricing INC\n",
      "E-SPOT\n",
      "DONA JUREMA BOUTIK\n",
      "INPOWER\n",
      "Amazon.com.br\n",
      "Megaprice Comercio\n",
      "MAGIC WORLD ELETRONICOS\n",
      "REX INFORMATICA\n",
      "Tudo à Beça\n",
      "PHOENIX ELETRONICOS\n",
      "Gigantec\n",
      "Angel Eletronicos\n",
      "SHOPAR INFO\n",
      "Qualitech Informática\n",
      "Primetek Computadores\n",
      "Pichau\n",
      "OFICINA DOS BITS\n",
      "W-TECH IMPORTS\n",
      "HD Store Oficial\n",
      "Loja iPlace\n",
      "DOTCOMP\n",
      "BRDF Informática\n",
      "Triplenet Pricing INC\n",
      "Infinity Informática\n",
      "bringIT\n",
      "E-SPOT\n",
      "Kadri Tecnologia\n",
      "RPW SERVIÇOS INTEGRADOS LTDA\n",
      "2K Shop\n",
      "StoreAtual. com\n",
      "Bits & Bytes Tecnologia\n",
      "Skill Gaming\n",
      "Unimporte\n",
      "IBYTE\n",
      "Tendinfo\n",
      "INFOSHOP.\n",
      "Tudo à Beça\n",
      "OFICINA DOS BITS\n",
      "Gigantec\n",
      "Triplenet Pricing INC\n",
      "W-TECH IMPORTS\n",
      "TechShed\n",
      "E-SPOT\n",
      "Bits & Bytes Tecnologia\n",
      "Tendinfo\n",
      "INFOSHOP.\n",
      "Mil Coisas droship\n",
      " Recém-lançado \n",
      "Mil Coisas Drop\n",
      " Recém-lançado \n",
      "Amazon.com.br\n",
      "Loja iPlace\n",
      "BalbinoShop\n",
      "E-SPOT\n",
      "W-TECH IMPORTS\n",
      "Tendinfo\n"
     ]
    }
   ],
   "source": [
    "for name in Amazon_seller_more:\n",
    "    print(name)"
   ],
   "metadata": {
    "collapsed": false,
    "pycharm": {
     "name": "#%%\n"
    }
   }
  },
  {
   "cell_type": "code",
   "execution_count": 47,
   "outputs": [
    {
     "name": "stdout",
     "output_type": "stream",
     "text": [
      "R$ 6.323,80\n",
      "R$ 8.599,00\n",
      "R$ 11.499,00\n"
     ]
    }
   ],
   "source": [
    "for price in Amazon_price_more:\n",
    "    print(price)"
   ],
   "metadata": {
    "collapsed": false,
    "pycharm": {
     "name": "#%%\n"
    }
   }
  },
  {
   "cell_type": "code",
   "execution_count": 98,
   "metadata": {
    "pycharm": {
     "name": "#%%\n"
    }
   },
   "outputs": [
    {
     "name": "stdout",
     "output_type": "stream",
     "text": [
      "56\n",
      "54\n",
      "54\n"
     ]
    }
   ],
   "source": [
    "print(len(Amazon_seller_more))\n",
    "print(len(Amazon_ID_More))\n",
    "print(len(Amazon_price_more))"
   ]
  },
  {
   "cell_type": "code",
   "execution_count": 78,
   "outputs": [],
   "source": [
    "Amazon_seller_more = []\n",
    "Amazon_price_more = []"
   ],
   "metadata": {
    "collapsed": false,
    "pycharm": {
     "name": "#%%\n"
    }
   }
  },
  {
   "cell_type": "code",
   "execution_count": 31,
   "outputs": [
    {
     "data": {
      "text/plain": "[' INFOSHOP.',\n ' INFOSHOP.',\n ' INFOSHOP.',\n ' INFOSHOP.',\n ' Tudo à Beça',\n ' OFICINA DOS BITS',\n ' Gigantec',\n ' Triplenet Pricing INC',\n ' W-TECH IMPORTS',\n ' TechShed',\n ' E-SPOT',\n ' Bits & Bytes Tecnologia',\n ' Tendinfo']"
     },
     "execution_count": 31,
     "metadata": {},
     "output_type": "execute_result"
    }
   ],
   "source": [
    "Amazon_seller_more"
   ],
   "metadata": {
    "collapsed": false,
    "pycharm": {
     "name": "#%%\n"
    }
   }
  },
  {
   "cell_type": "code",
   "execution_count": 107,
   "outputs": [],
   "source": [
    "Amazon_seller_more.append(\"Erro\")"
   ],
   "metadata": {
    "collapsed": false,
    "pycharm": {
     "name": "#%%\n"
    }
   }
  },
  {
   "cell_type": "code",
   "execution_count": 31,
   "outputs": [],
   "source": [
    "Dataframe = pd.DataFrame()\n",
    "\n",
    "Dataframe['ID'] = Amazon_ID_More\n",
    "Dataframe['SELLER'] = Amazon_seller_more\n",
    "Dataframe['PRICE'] = Amazon_price_more"
   ],
   "metadata": {
    "collapsed": false,
    "pycharm": {
     "name": "#%%\n"
    }
   }
  },
  {
   "cell_type": "code",
   "execution_count": 38,
   "outputs": [
    {
     "data": {
      "text/plain": "             ID               SELLER      PRICE\n0    B07XLML2YS             VMD SHOP  R$ 258,90\n1    B07XLML2YS          SHOPAR INFO  R$ 259,90\n2    B07XLML2YS           Onix Games  R$ 279,90\n3    B07XLML2YS   Megaprice Comercio  R$ 297,40\n4    B07XLML2YS         MAKESHOPPING  R$ 290,00\n..          ...                  ...        ...\n167  B088MFFJ1H        MEIREMAGAZINE  R$ 449,80\n168  B088MFFJ1H                BAION  R$ 465,98\n169  B088MFFJ1H             PUROZELO  R$ 489,90\n170  B088MFFJ1H             NewGifts  R$ 529,00\n171  B088MFFJ1H    Santoro Classic ✅  R$ 649,90\n\n[172 rows x 3 columns]",
      "text/html": "<div>\n<style scoped>\n    .dataframe tbody tr th:only-of-type {\n        vertical-align: middle;\n    }\n\n    .dataframe tbody tr th {\n        vertical-align: top;\n    }\n\n    .dataframe thead th {\n        text-align: right;\n    }\n</style>\n<table border=\"1\" class=\"dataframe\">\n  <thead>\n    <tr style=\"text-align: right;\">\n      <th></th>\n      <th>ID</th>\n      <th>SELLER</th>\n      <th>PRICE</th>\n    </tr>\n  </thead>\n  <tbody>\n    <tr>\n      <th>0</th>\n      <td>B07XLML2YS</td>\n      <td>VMD SHOP</td>\n      <td>R$ 258,90</td>\n    </tr>\n    <tr>\n      <th>1</th>\n      <td>B07XLML2YS</td>\n      <td>SHOPAR INFO</td>\n      <td>R$ 259,90</td>\n    </tr>\n    <tr>\n      <th>2</th>\n      <td>B07XLML2YS</td>\n      <td>Onix Games</td>\n      <td>R$ 279,90</td>\n    </tr>\n    <tr>\n      <th>3</th>\n      <td>B07XLML2YS</td>\n      <td>Megaprice Comercio</td>\n      <td>R$ 297,40</td>\n    </tr>\n    <tr>\n      <th>4</th>\n      <td>B07XLML2YS</td>\n      <td>MAKESHOPPING</td>\n      <td>R$ 290,00</td>\n    </tr>\n    <tr>\n      <th>...</th>\n      <td>...</td>\n      <td>...</td>\n      <td>...</td>\n    </tr>\n    <tr>\n      <th>167</th>\n      <td>B088MFFJ1H</td>\n      <td>MEIREMAGAZINE</td>\n      <td>R$ 449,80</td>\n    </tr>\n    <tr>\n      <th>168</th>\n      <td>B088MFFJ1H</td>\n      <td>BAION</td>\n      <td>R$ 465,98</td>\n    </tr>\n    <tr>\n      <th>169</th>\n      <td>B088MFFJ1H</td>\n      <td>PUROZELO</td>\n      <td>R$ 489,90</td>\n    </tr>\n    <tr>\n      <th>170</th>\n      <td>B088MFFJ1H</td>\n      <td>NewGifts</td>\n      <td>R$ 529,00</td>\n    </tr>\n    <tr>\n      <th>171</th>\n      <td>B088MFFJ1H</td>\n      <td>Santoro Classic ✅</td>\n      <td>R$ 649,90</td>\n    </tr>\n  </tbody>\n</table>\n<p>172 rows × 3 columns</p>\n</div>"
     },
     "execution_count": 38,
     "metadata": {},
     "output_type": "execute_result"
    }
   ],
   "source": [
    "Dataframe"
   ],
   "metadata": {
    "collapsed": false,
    "pycharm": {
     "name": "#%%\n"
    }
   }
  },
  {
   "cell_type": "code",
   "execution_count": 32,
   "outputs": [
    {
     "data": {
      "text/plain": "[' Bebê Veste Luxo',\n ' BabyeKids',\n ' TECNOTOY COMERCIAL',\n ' Avile Shop',\n ' TRP STORE',\n ' VIP STORE BRINQUEDOS']"
     },
     "execution_count": 32,
     "metadata": {},
     "output_type": "execute_result"
    }
   ],
   "source": [
    "Amazon_seller_more"
   ],
   "metadata": {
    "collapsed": false,
    "pycharm": {
     "name": "#%%\n"
    }
   }
  },
  {
   "cell_type": "code",
   "execution_count": 25,
   "outputs": [
    {
     "data": {
      "text/plain": "['R$\\xa0349,00']"
     },
     "execution_count": 25,
     "metadata": {},
     "output_type": "execute_result"
    }
   ],
   "source": [
    "Amazon_price_more"
   ],
   "metadata": {
    "collapsed": false,
    "pycharm": {
     "name": "#%%\n"
    }
   }
  },
  {
   "cell_type": "code",
   "execution_count": 48,
   "metadata": {
    "pycharm": {
     "name": "#%%\n"
    }
   },
   "outputs": [
    {
     "data": {
      "text/plain": "             ID        DATE MARKETPLACE               SELLER    PRICE  PARCEL  \\\n0    B01L2CP126  2022-05-31      AMAZON               Amazon   129.90      10   \n1    B01L2CP126  2022-05-31      AMAZON       GRUPO MAVERICK   119.99      10   \n2    B01L2CP126  2022-05-31      AMAZON    PRESTES.ECOMMERCE   159.90      10   \n3    B01L2CP126  2022-05-31      AMAZON               FUNPro   252.80      10   \n4    B01L2CP126  2022-05-31      AMAZON               Amazon   279.90      10   \n..          ...         ...         ...                  ...      ...     ...   \n144  B08HWCCS6S  2022-05-31      AMAZON          BalbinoShop  3899.99      10   \n145  B08HWCCS6S  2022-05-31      AMAZON              GearNPC  5000.00      10   \n146  B08HWCCS6S  2022-05-31      AMAZON              eFacini  5072.90      10   \n147  B08HWCCS6S  2022-05-31      AMAZON  Lucas Lapa PhotoPro  5999.00      10   \n148  B083R4VMMC  2022-05-31      AMAZON    Loja do Filmmaker  5759.00      10   \n\n     INSTALLMENT  INSTALLMENT_PAYMENT INTERNACIONAL  \\\n0         12.990               1299.0          ERRO   \n1         11.999               1199.9          ERRO   \n2         15.990               1599.0          ERRO   \n3         25.280               2528.0          ERRO   \n4         27.990               2799.0          ERRO   \n..           ...                  ...           ...   \n144      389.999              38999.9          ERRO   \n145      500.000              50000.0          ERRO   \n146      507.290              50729.0          ERRO   \n147      599.900              59990.0          ERRO   \n148      575.900              57590.0          ERRO   \n\n                                                   URL  \\\n0    https://www.amazon.com.br/Mergulho-GoPro-AADIV...   \n1    https://www.amazon.com.br/Mergulho-GoPro-AADIV...   \n2    https://www.amazon.com.br/Mergulho-GoPro-AADIV...   \n3    https://www.amazon.com.br/Mergulho-GoPro-AADIV...   \n4    https://www.amazon.com.br/Mergulho-GoPro-AADIV...   \n..                                                 ...   \n144  https://www.amazon.com.br/Dji-Osmo-Pocket-2-Co...   \n145  https://www.amazon.com.br/Dji-Osmo-Pocket-2-Co...   \n146  https://www.amazon.com.br/Dji-Osmo-Pocket-2-Co...   \n147  https://www.amazon.com.br/Dji-Osmo-Pocket-2-Co...   \n148  https://www.amazon.com.br/C%C3%A2mera-Filmador...   \n\n                                               PRODUCT  \n0            Super Suit Caixa de Mergulho GoPro par...  \n1            Super Suit Caixa de Mergulho GoPro par...  \n2            Super Suit Caixa de Mergulho GoPro par...  \n3            Super Suit Caixa de Mergulho GoPro par...  \n4            Super Suit Caixa de Mergulho GoPro par...  \n..                                                 ...  \n144                     Dji Osmo Pocket 2 Combo         \n145                     Dji Osmo Pocket 2 Combo         \n146                     Dji Osmo Pocket 2 Combo         \n147                     Dji Osmo Pocket 2 Combo         \n148          Câmera de ação Insta360 One R Edição T...  \n\n[149 rows x 11 columns]",
      "text/html": "<div>\n<style scoped>\n    .dataframe tbody tr th:only-of-type {\n        vertical-align: middle;\n    }\n\n    .dataframe tbody tr th {\n        vertical-align: top;\n    }\n\n    .dataframe thead th {\n        text-align: right;\n    }\n</style>\n<table border=\"1\" class=\"dataframe\">\n  <thead>\n    <tr style=\"text-align: right;\">\n      <th></th>\n      <th>ID</th>\n      <th>DATE</th>\n      <th>MARKETPLACE</th>\n      <th>SELLER</th>\n      <th>PRICE</th>\n      <th>PARCEL</th>\n      <th>INSTALLMENT</th>\n      <th>INSTALLMENT_PAYMENT</th>\n      <th>INTERNACIONAL</th>\n      <th>URL</th>\n      <th>PRODUCT</th>\n    </tr>\n  </thead>\n  <tbody>\n    <tr>\n      <th>0</th>\n      <td>B01L2CP126</td>\n      <td>2022-05-31</td>\n      <td>AMAZON</td>\n      <td>Amazon</td>\n      <td>129.90</td>\n      <td>10</td>\n      <td>12.990</td>\n      <td>1299.0</td>\n      <td>ERRO</td>\n      <td>https://www.amazon.com.br/Mergulho-GoPro-AADIV...</td>\n      <td>Super Suit Caixa de Mergulho GoPro par...</td>\n    </tr>\n    <tr>\n      <th>1</th>\n      <td>B01L2CP126</td>\n      <td>2022-05-31</td>\n      <td>AMAZON</td>\n      <td>GRUPO MAVERICK</td>\n      <td>119.99</td>\n      <td>10</td>\n      <td>11.999</td>\n      <td>1199.9</td>\n      <td>ERRO</td>\n      <td>https://www.amazon.com.br/Mergulho-GoPro-AADIV...</td>\n      <td>Super Suit Caixa de Mergulho GoPro par...</td>\n    </tr>\n    <tr>\n      <th>2</th>\n      <td>B01L2CP126</td>\n      <td>2022-05-31</td>\n      <td>AMAZON</td>\n      <td>PRESTES.ECOMMERCE</td>\n      <td>159.90</td>\n      <td>10</td>\n      <td>15.990</td>\n      <td>1599.0</td>\n      <td>ERRO</td>\n      <td>https://www.amazon.com.br/Mergulho-GoPro-AADIV...</td>\n      <td>Super Suit Caixa de Mergulho GoPro par...</td>\n    </tr>\n    <tr>\n      <th>3</th>\n      <td>B01L2CP126</td>\n      <td>2022-05-31</td>\n      <td>AMAZON</td>\n      <td>FUNPro</td>\n      <td>252.80</td>\n      <td>10</td>\n      <td>25.280</td>\n      <td>2528.0</td>\n      <td>ERRO</td>\n      <td>https://www.amazon.com.br/Mergulho-GoPro-AADIV...</td>\n      <td>Super Suit Caixa de Mergulho GoPro par...</td>\n    </tr>\n    <tr>\n      <th>4</th>\n      <td>B01L2CP126</td>\n      <td>2022-05-31</td>\n      <td>AMAZON</td>\n      <td>Amazon</td>\n      <td>279.90</td>\n      <td>10</td>\n      <td>27.990</td>\n      <td>2799.0</td>\n      <td>ERRO</td>\n      <td>https://www.amazon.com.br/Mergulho-GoPro-AADIV...</td>\n      <td>Super Suit Caixa de Mergulho GoPro par...</td>\n    </tr>\n    <tr>\n      <th>...</th>\n      <td>...</td>\n      <td>...</td>\n      <td>...</td>\n      <td>...</td>\n      <td>...</td>\n      <td>...</td>\n      <td>...</td>\n      <td>...</td>\n      <td>...</td>\n      <td>...</td>\n      <td>...</td>\n    </tr>\n    <tr>\n      <th>144</th>\n      <td>B08HWCCS6S</td>\n      <td>2022-05-31</td>\n      <td>AMAZON</td>\n      <td>BalbinoShop</td>\n      <td>3899.99</td>\n      <td>10</td>\n      <td>389.999</td>\n      <td>38999.9</td>\n      <td>ERRO</td>\n      <td>https://www.amazon.com.br/Dji-Osmo-Pocket-2-Co...</td>\n      <td>Dji Osmo Pocket 2 Combo</td>\n    </tr>\n    <tr>\n      <th>145</th>\n      <td>B08HWCCS6S</td>\n      <td>2022-05-31</td>\n      <td>AMAZON</td>\n      <td>GearNPC</td>\n      <td>5000.00</td>\n      <td>10</td>\n      <td>500.000</td>\n      <td>50000.0</td>\n      <td>ERRO</td>\n      <td>https://www.amazon.com.br/Dji-Osmo-Pocket-2-Co...</td>\n      <td>Dji Osmo Pocket 2 Combo</td>\n    </tr>\n    <tr>\n      <th>146</th>\n      <td>B08HWCCS6S</td>\n      <td>2022-05-31</td>\n      <td>AMAZON</td>\n      <td>eFacini</td>\n      <td>5072.90</td>\n      <td>10</td>\n      <td>507.290</td>\n      <td>50729.0</td>\n      <td>ERRO</td>\n      <td>https://www.amazon.com.br/Dji-Osmo-Pocket-2-Co...</td>\n      <td>Dji Osmo Pocket 2 Combo</td>\n    </tr>\n    <tr>\n      <th>147</th>\n      <td>B08HWCCS6S</td>\n      <td>2022-05-31</td>\n      <td>AMAZON</td>\n      <td>Lucas Lapa PhotoPro</td>\n      <td>5999.00</td>\n      <td>10</td>\n      <td>599.900</td>\n      <td>59990.0</td>\n      <td>ERRO</td>\n      <td>https://www.amazon.com.br/Dji-Osmo-Pocket-2-Co...</td>\n      <td>Dji Osmo Pocket 2 Combo</td>\n    </tr>\n    <tr>\n      <th>148</th>\n      <td>B083R4VMMC</td>\n      <td>2022-05-31</td>\n      <td>AMAZON</td>\n      <td>Loja do Filmmaker</td>\n      <td>5759.00</td>\n      <td>10</td>\n      <td>575.900</td>\n      <td>57590.0</td>\n      <td>ERRO</td>\n      <td>https://www.amazon.com.br/C%C3%A2mera-Filmador...</td>\n      <td>Câmera de ação Insta360 One R Edição T...</td>\n    </tr>\n  </tbody>\n</table>\n<p>149 rows × 11 columns</p>\n</div>"
     },
     "execution_count": 48,
     "metadata": {},
     "output_type": "execute_result"
    }
   ],
   "source": [
    "Dataframe_More = pd.DataFrame()\n",
    "Dataframe_More['ID'] = Amazon_ID_More\n",
    "\n",
    "Dataframe_More['DATE'] = pd.to_datetime('today', errors='ignore').date()\n",
    "\n",
    "Dataframe_More['MARKETPLACE'] = 'AMAZON'\n",
    "\n",
    "Dataframe_More['SELLER'] = Amazon_seller_more\n",
    "\n",
    "Dataframe_More['PRICE'] = Amazon_price_more\n",
    "Dataframe_More['PRICE'] = Dataframe_More['PRICE'].str.replace(\".\",\"\", regex=True)\n",
    "Dataframe_More['PRICE'] = Dataframe_More['PRICE'].str.replace(\"R$\",\"\", regex=False)\n",
    "Dataframe_More['PRICE'] = Dataframe_More['PRICE'].str.replace(\",\",\".\", regex=True)\n",
    "Dataframe_More['PRICE'] = Dataframe_More['PRICE'].astype('float')\n",
    "\n",
    "Dataframe_More['PARCEL'] = 10\n",
    "\n",
    "Dataframe_More['INSTALLMENT'] = Dataframe_More['PRICE'] / Dataframe_More['PARCEL']\n",
    "\n",
    "Dataframe_More['INSTALLMENT_PAYMENT'] = Dataframe_More['PRICE'] * Dataframe_More['PARCEL']\n",
    "\n",
    "Dataframe_More['INTERNACIONAL'] = 'ERRO'\n",
    "\n",
    "url_names = []\n",
    "for id in Dataframe_More['ID']:\n",
    "    url_names.append(Df_final.loc[Df_final['ID'] == id,'URL'].values[0])\n",
    "\n",
    "products_names = []\n",
    "for id in Dataframe_More['ID']:\n",
    "    products_names.append(Df_final.loc[Df_final['ID'] == id,'PRODUCT'].values[0])\n",
    "\n",
    "Dataframe_More['URL'] = url_names\n",
    "Dataframe_More['PRODUCT'] = products_names\n",
    "\n",
    "Dataframe_More"
   ]
  },
  {
   "cell_type": "code",
   "execution_count": null,
   "outputs": [],
   "source": [],
   "metadata": {
    "collapsed": false,
    "pycharm": {
     "name": "#%%\n"
    }
   }
  },
  {
   "cell_type": "code",
   "execution_count": 49,
   "outputs": [],
   "source": [
    "Df_final.to_excel(r\"C:\\Users\\pedro\\Documents\\Turte Brand Protection\\Turtle_Thinker_Alpha_0.1\\AMAZON.xlsx\", index=False)\n",
    "Dataframe_Button.to_excel(r\"C:\\Users\\pedro\\Documents\\Turte Brand Protection\\Turtle_Thinker_Alpha_0.1\\AMAZON_BUTTON.xlsx\", index=False)\n",
    "Dataframe_More.to_excel(r\"C:\\Users\\pedro\\Documents\\Turte Brand Protection\\Turtle_Thinker_Alpha_0.1\\AMAZON_MORE.xlsx\", index=False)"
   ],
   "metadata": {
    "collapsed": false,
    "pycharm": {
     "name": "#%%\n"
    }
   }
  },
  {
   "cell_type": "code",
   "execution_count": 53,
   "outputs": [
    {
     "data": {
      "text/plain": "          DATE                                                URL MARKETPLACE  \\\n1   2022-05-31  https://www.amazon.com.br/C%C3%A2mera-Black-Pr...      AMAZON   \n34  2022-05-31  https://www.amazon.com.br/Acess%C3%B3rios-para...      AMAZON   \n35  2022-05-31  https://www.amazon.com.br/fengny-Substitui%C3%...      AMAZON   \n38  2022-05-31  https://www.amazon.com.br/Zwbfu-acess%C3%B3rio...      AMAZON   \n40  2022-05-31  https://www.amazon.com.br/Conjunto-acess%C3%B3...      AMAZON   \n43  2022-05-31  https://www.amazon.com.br/Kit-50-Acess%C3%B3ri...      AMAZON   \n44  2022-05-31  https://www.amazon.com.br/GoPole-Alcan%C3%A7a-...      AMAZON   \n53  2022-05-31  https://www.amazon.com.br/Cucudy-subaqu%C3%A1t...      AMAZON   \n61  2022-05-31  https://www.amazon.com.br/Zwbfu-XTGP559-prote%...      AMAZON   \n62  2022-05-31  https://www.amazon.com.br/transporte-acess%C3%...      AMAZON   \n63  2022-05-31  https://www.amazon.com.br/Insta360-imperme%C3%...      AMAZON   \n64  2022-05-31  https://www.amazon.com.br/Porta-Lateral-Compat...      AMAZON   \n65  2022-05-31  https://www.amazon.com.br/Trip%C3%A9-Bast%C3%A...      AMAZON   \n\n         SELLER    PRICE  PARCEL  INSTALLMENT  INSTALLMENT_PAYMENT  \\\n1   Detona Shop  2269.53      10       226.98              2269.80   \n34       FUNPro   275.00       9        30.60               275.40   \n35     kokorest   183.40       6        30.60               183.60   \n38       Jeneza   177.99       5        35.63               178.15   \n40     Minimini    75.00       2        37.50                75.00   \n43       Amazon   342.14      10        34.25               342.50   \n44       FUNPro   208.40       6        34.75               208.50   \n53       Jeneza    95.18       3        31.74                95.22   \n61       Jeneza   316.99      10        31.78               317.80   \n62   wecome2021   158.00       5        31.60               158.00   \n63  EVO Gimbals  3636.86      10       363.74              3637.40   \n64       FUNPro    34.90       0         0.00                 0.00   \n65       FUNPro   142.00       4        35.50               142.00   \n\n            ID                                            PRODUCT  \\\n1   B07JH83VBW          Câmera Hero 7 Black à Prova D’água 12M...   \n34  B086M7FK58          Kit de Acessórios para GoPro Hero 8 Bl...   \n35  B09ZPB2QW3          fengny Substituição de controle remoto...   \n38  B09GJMPY6R          Zwbfu Kit de acessórios para câmera de...   \n40  B082X8HPLL          Conjunto de acessórios para câmera Mob...   \n43  B07LFLJBW4          Kit 50 Em 1 De Acessórios Para Gopro  ...   \n44  B00B3YFDBS          GoPole Alcança de extensão de 14 a 101...   \n53  B08TTPW7DW          Cucudy Câmera de ação capa protetora à...   \n61  B09GJGW62Z          Zwbfu Câmera XTGP559 Porta de cúpula c...   \n62  B01H6OP92G          Estojo de transporte para GoPro Hero(2...   \n63  B08M3B9754          Insta360 Câmera de ação impermeável ON...   \n64  B09D8NZV8J          Porta Lateral Compatível com GoPro Her...   \n65  B08HV3FYQJ          Mini Tripé e Bastão para GoPro e Câmer...   \n\n    INTERNACIONAL  MORE  \n1   Internacional     0  \n34  Internacional     0  \n35  Internacional     0  \n38  Internacional     0  \n40  Internacional     0  \n43  Internacional     0  \n44  Internacional     0  \n53  Internacional     0  \n61  Internacional     0  \n62  Internacional     0  \n63  Internacional     0  \n64  Internacional     0  \n65  Internacional     0  ",
      "text/html": "<div>\n<style scoped>\n    .dataframe tbody tr th:only-of-type {\n        vertical-align: middle;\n    }\n\n    .dataframe tbody tr th {\n        vertical-align: top;\n    }\n\n    .dataframe thead th {\n        text-align: right;\n    }\n</style>\n<table border=\"1\" class=\"dataframe\">\n  <thead>\n    <tr style=\"text-align: right;\">\n      <th></th>\n      <th>DATE</th>\n      <th>URL</th>\n      <th>MARKETPLACE</th>\n      <th>SELLER</th>\n      <th>PRICE</th>\n      <th>PARCEL</th>\n      <th>INSTALLMENT</th>\n      <th>INSTALLMENT_PAYMENT</th>\n      <th>ID</th>\n      <th>PRODUCT</th>\n      <th>INTERNACIONAL</th>\n      <th>MORE</th>\n    </tr>\n  </thead>\n  <tbody>\n    <tr>\n      <th>1</th>\n      <td>2022-05-31</td>\n      <td>https://www.amazon.com.br/C%C3%A2mera-Black-Pr...</td>\n      <td>AMAZON</td>\n      <td>Detona Shop</td>\n      <td>2269.53</td>\n      <td>10</td>\n      <td>226.98</td>\n      <td>2269.80</td>\n      <td>B07JH83VBW</td>\n      <td>Câmera Hero 7 Black à Prova D’água 12M...</td>\n      <td>Internacional</td>\n      <td>0</td>\n    </tr>\n    <tr>\n      <th>34</th>\n      <td>2022-05-31</td>\n      <td>https://www.amazon.com.br/Acess%C3%B3rios-para...</td>\n      <td>AMAZON</td>\n      <td>FUNPro</td>\n      <td>275.00</td>\n      <td>9</td>\n      <td>30.60</td>\n      <td>275.40</td>\n      <td>B086M7FK58</td>\n      <td>Kit de Acessórios para GoPro Hero 8 Bl...</td>\n      <td>Internacional</td>\n      <td>0</td>\n    </tr>\n    <tr>\n      <th>35</th>\n      <td>2022-05-31</td>\n      <td>https://www.amazon.com.br/fengny-Substitui%C3%...</td>\n      <td>AMAZON</td>\n      <td>kokorest</td>\n      <td>183.40</td>\n      <td>6</td>\n      <td>30.60</td>\n      <td>183.60</td>\n      <td>B09ZPB2QW3</td>\n      <td>fengny Substituição de controle remoto...</td>\n      <td>Internacional</td>\n      <td>0</td>\n    </tr>\n    <tr>\n      <th>38</th>\n      <td>2022-05-31</td>\n      <td>https://www.amazon.com.br/Zwbfu-acess%C3%B3rio...</td>\n      <td>AMAZON</td>\n      <td>Jeneza</td>\n      <td>177.99</td>\n      <td>5</td>\n      <td>35.63</td>\n      <td>178.15</td>\n      <td>B09GJMPY6R</td>\n      <td>Zwbfu Kit de acessórios para câmera de...</td>\n      <td>Internacional</td>\n      <td>0</td>\n    </tr>\n    <tr>\n      <th>40</th>\n      <td>2022-05-31</td>\n      <td>https://www.amazon.com.br/Conjunto-acess%C3%B3...</td>\n      <td>AMAZON</td>\n      <td>Minimini</td>\n      <td>75.00</td>\n      <td>2</td>\n      <td>37.50</td>\n      <td>75.00</td>\n      <td>B082X8HPLL</td>\n      <td>Conjunto de acessórios para câmera Mob...</td>\n      <td>Internacional</td>\n      <td>0</td>\n    </tr>\n    <tr>\n      <th>43</th>\n      <td>2022-05-31</td>\n      <td>https://www.amazon.com.br/Kit-50-Acess%C3%B3ri...</td>\n      <td>AMAZON</td>\n      <td>Amazon</td>\n      <td>342.14</td>\n      <td>10</td>\n      <td>34.25</td>\n      <td>342.50</td>\n      <td>B07LFLJBW4</td>\n      <td>Kit 50 Em 1 De Acessórios Para Gopro  ...</td>\n      <td>Internacional</td>\n      <td>0</td>\n    </tr>\n    <tr>\n      <th>44</th>\n      <td>2022-05-31</td>\n      <td>https://www.amazon.com.br/GoPole-Alcan%C3%A7a-...</td>\n      <td>AMAZON</td>\n      <td>FUNPro</td>\n      <td>208.40</td>\n      <td>6</td>\n      <td>34.75</td>\n      <td>208.50</td>\n      <td>B00B3YFDBS</td>\n      <td>GoPole Alcança de extensão de 14 a 101...</td>\n      <td>Internacional</td>\n      <td>0</td>\n    </tr>\n    <tr>\n      <th>53</th>\n      <td>2022-05-31</td>\n      <td>https://www.amazon.com.br/Cucudy-subaqu%C3%A1t...</td>\n      <td>AMAZON</td>\n      <td>Jeneza</td>\n      <td>95.18</td>\n      <td>3</td>\n      <td>31.74</td>\n      <td>95.22</td>\n      <td>B08TTPW7DW</td>\n      <td>Cucudy Câmera de ação capa protetora à...</td>\n      <td>Internacional</td>\n      <td>0</td>\n    </tr>\n    <tr>\n      <th>61</th>\n      <td>2022-05-31</td>\n      <td>https://www.amazon.com.br/Zwbfu-XTGP559-prote%...</td>\n      <td>AMAZON</td>\n      <td>Jeneza</td>\n      <td>316.99</td>\n      <td>10</td>\n      <td>31.78</td>\n      <td>317.80</td>\n      <td>B09GJGW62Z</td>\n      <td>Zwbfu Câmera XTGP559 Porta de cúpula c...</td>\n      <td>Internacional</td>\n      <td>0</td>\n    </tr>\n    <tr>\n      <th>62</th>\n      <td>2022-05-31</td>\n      <td>https://www.amazon.com.br/transporte-acess%C3%...</td>\n      <td>AMAZON</td>\n      <td>wecome2021</td>\n      <td>158.00</td>\n      <td>5</td>\n      <td>31.60</td>\n      <td>158.00</td>\n      <td>B01H6OP92G</td>\n      <td>Estojo de transporte para GoPro Hero(2...</td>\n      <td>Internacional</td>\n      <td>0</td>\n    </tr>\n    <tr>\n      <th>63</th>\n      <td>2022-05-31</td>\n      <td>https://www.amazon.com.br/Insta360-imperme%C3%...</td>\n      <td>AMAZON</td>\n      <td>EVO Gimbals</td>\n      <td>3636.86</td>\n      <td>10</td>\n      <td>363.74</td>\n      <td>3637.40</td>\n      <td>B08M3B9754</td>\n      <td>Insta360 Câmera de ação impermeável ON...</td>\n      <td>Internacional</td>\n      <td>0</td>\n    </tr>\n    <tr>\n      <th>64</th>\n      <td>2022-05-31</td>\n      <td>https://www.amazon.com.br/Porta-Lateral-Compat...</td>\n      <td>AMAZON</td>\n      <td>FUNPro</td>\n      <td>34.90</td>\n      <td>0</td>\n      <td>0.00</td>\n      <td>0.00</td>\n      <td>B09D8NZV8J</td>\n      <td>Porta Lateral Compatível com GoPro Her...</td>\n      <td>Internacional</td>\n      <td>0</td>\n    </tr>\n    <tr>\n      <th>65</th>\n      <td>2022-05-31</td>\n      <td>https://www.amazon.com.br/Trip%C3%A9-Bast%C3%A...</td>\n      <td>AMAZON</td>\n      <td>FUNPro</td>\n      <td>142.00</td>\n      <td>4</td>\n      <td>35.50</td>\n      <td>142.00</td>\n      <td>B08HV3FYQJ</td>\n      <td>Mini Tripé e Bastão para GoPro e Câmer...</td>\n      <td>Internacional</td>\n      <td>0</td>\n    </tr>\n  </tbody>\n</table>\n</div>"
     },
     "execution_count": 53,
     "metadata": {},
     "output_type": "execute_result"
    }
   ],
   "source": [
    "Df_final = Df_final[Df_final['PRICE'].str.len() < 10]\n",
    "Df_final = Df_final[Df_final['MORE'] == 0]\n",
    "Df_final"
   ],
   "metadata": {
    "collapsed": false,
    "pycharm": {
     "name": "#%%\n"
    }
   }
  },
  {
   "cell_type": "code",
   "execution_count": 54,
   "outputs": [
    {
     "data": {
      "text/plain": "          DATE                                                URL MARKETPLACE  \\\n1   2022-05-31  https://www.amazon.com.br/C%C3%A2mera-Black-Pr...      AMAZON   \n34  2022-05-31  https://www.amazon.com.br/Acess%C3%B3rios-para...      AMAZON   \n35  2022-05-31  https://www.amazon.com.br/fengny-Substitui%C3%...      AMAZON   \n38  2022-05-31  https://www.amazon.com.br/Zwbfu-acess%C3%B3rio...      AMAZON   \n40  2022-05-31  https://www.amazon.com.br/Conjunto-acess%C3%B3...      AMAZON   \n43  2022-05-31  https://www.amazon.com.br/Kit-50-Acess%C3%B3ri...      AMAZON   \n44  2022-05-31  https://www.amazon.com.br/GoPole-Alcan%C3%A7a-...      AMAZON   \n53  2022-05-31  https://www.amazon.com.br/Cucudy-subaqu%C3%A1t...      AMAZON   \n61  2022-05-31  https://www.amazon.com.br/Zwbfu-XTGP559-prote%...      AMAZON   \n62  2022-05-31  https://www.amazon.com.br/transporte-acess%C3%...      AMAZON   \n63  2022-05-31  https://www.amazon.com.br/Insta360-imperme%C3%...      AMAZON   \n64  2022-05-31  https://www.amazon.com.br/Porta-Lateral-Compat...      AMAZON   \n65  2022-05-31  https://www.amazon.com.br/Trip%C3%A9-Bast%C3%A...      AMAZON   \n\n         SELLER    PRICE  PARCEL  INSTALLMENT  INSTALLMENT_PAYMENT  \\\n1   Detona Shop  2269.53      10       226.98              2269.80   \n34       FUNPro   275.00       9        30.60               275.40   \n35     kokorest   183.40       6        30.60               183.60   \n38       Jeneza   177.99       5        35.63               178.15   \n40     Minimini    75.00       2        37.50                75.00   \n43       Amazon   342.14      10        34.25               342.50   \n44       FUNPro   208.40       6        34.75               208.50   \n53       Jeneza    95.18       3        31.74                95.22   \n61       Jeneza   316.99      10        31.78               317.80   \n62   wecome2021   158.00       5        31.60               158.00   \n63  EVO Gimbals  3636.86      10       363.74              3637.40   \n64       FUNPro    34.90       0         0.00                 0.00   \n65       FUNPro   142.00       4        35.50               142.00   \n\n            ID                                            PRODUCT  \\\n1   B07JH83VBW          Câmera Hero 7 Black à Prova D’água 12M...   \n34  B086M7FK58          Kit de Acessórios para GoPro Hero 8 Bl...   \n35  B09ZPB2QW3          fengny Substituição de controle remoto...   \n38  B09GJMPY6R          Zwbfu Kit de acessórios para câmera de...   \n40  B082X8HPLL          Conjunto de acessórios para câmera Mob...   \n43  B07LFLJBW4          Kit 50 Em 1 De Acessórios Para Gopro  ...   \n44  B00B3YFDBS          GoPole Alcança de extensão de 14 a 101...   \n53  B08TTPW7DW          Cucudy Câmera de ação capa protetora à...   \n61  B09GJGW62Z          Zwbfu Câmera XTGP559 Porta de cúpula c...   \n62  B01H6OP92G          Estojo de transporte para GoPro Hero(2...   \n63  B08M3B9754          Insta360 Câmera de ação impermeável ON...   \n64  B09D8NZV8J          Porta Lateral Compatível com GoPro Her...   \n65  B08HV3FYQJ          Mini Tripé e Bastão para GoPro e Câmer...   \n\n    INTERNACIONAL  MORE  \n1   Internacional     0  \n34  Internacional     0  \n35  Internacional     0  \n38  Internacional     0  \n40  Internacional     0  \n43  Internacional     0  \n44  Internacional     0  \n53  Internacional     0  \n61  Internacional     0  \n62  Internacional     0  \n63  Internacional     0  \n64  Internacional     0  \n65  Internacional     0  ",
      "text/html": "<div>\n<style scoped>\n    .dataframe tbody tr th:only-of-type {\n        vertical-align: middle;\n    }\n\n    .dataframe tbody tr th {\n        vertical-align: top;\n    }\n\n    .dataframe thead th {\n        text-align: right;\n    }\n</style>\n<table border=\"1\" class=\"dataframe\">\n  <thead>\n    <tr style=\"text-align: right;\">\n      <th></th>\n      <th>DATE</th>\n      <th>URL</th>\n      <th>MARKETPLACE</th>\n      <th>SELLER</th>\n      <th>PRICE</th>\n      <th>PARCEL</th>\n      <th>INSTALLMENT</th>\n      <th>INSTALLMENT_PAYMENT</th>\n      <th>ID</th>\n      <th>PRODUCT</th>\n      <th>INTERNACIONAL</th>\n      <th>MORE</th>\n    </tr>\n  </thead>\n  <tbody>\n    <tr>\n      <th>1</th>\n      <td>2022-05-31</td>\n      <td>https://www.amazon.com.br/C%C3%A2mera-Black-Pr...</td>\n      <td>AMAZON</td>\n      <td>Detona Shop</td>\n      <td>2269.53</td>\n      <td>10</td>\n      <td>226.98</td>\n      <td>2269.80</td>\n      <td>B07JH83VBW</td>\n      <td>Câmera Hero 7 Black à Prova D’água 12M...</td>\n      <td>Internacional</td>\n      <td>0</td>\n    </tr>\n    <tr>\n      <th>34</th>\n      <td>2022-05-31</td>\n      <td>https://www.amazon.com.br/Acess%C3%B3rios-para...</td>\n      <td>AMAZON</td>\n      <td>FUNPro</td>\n      <td>275.00</td>\n      <td>9</td>\n      <td>30.60</td>\n      <td>275.40</td>\n      <td>B086M7FK58</td>\n      <td>Kit de Acessórios para GoPro Hero 8 Bl...</td>\n      <td>Internacional</td>\n      <td>0</td>\n    </tr>\n    <tr>\n      <th>35</th>\n      <td>2022-05-31</td>\n      <td>https://www.amazon.com.br/fengny-Substitui%C3%...</td>\n      <td>AMAZON</td>\n      <td>kokorest</td>\n      <td>183.40</td>\n      <td>6</td>\n      <td>30.60</td>\n      <td>183.60</td>\n      <td>B09ZPB2QW3</td>\n      <td>fengny Substituição de controle remoto...</td>\n      <td>Internacional</td>\n      <td>0</td>\n    </tr>\n    <tr>\n      <th>38</th>\n      <td>2022-05-31</td>\n      <td>https://www.amazon.com.br/Zwbfu-acess%C3%B3rio...</td>\n      <td>AMAZON</td>\n      <td>Jeneza</td>\n      <td>177.99</td>\n      <td>5</td>\n      <td>35.63</td>\n      <td>178.15</td>\n      <td>B09GJMPY6R</td>\n      <td>Zwbfu Kit de acessórios para câmera de...</td>\n      <td>Internacional</td>\n      <td>0</td>\n    </tr>\n    <tr>\n      <th>40</th>\n      <td>2022-05-31</td>\n      <td>https://www.amazon.com.br/Conjunto-acess%C3%B3...</td>\n      <td>AMAZON</td>\n      <td>Minimini</td>\n      <td>75.00</td>\n      <td>2</td>\n      <td>37.50</td>\n      <td>75.00</td>\n      <td>B082X8HPLL</td>\n      <td>Conjunto de acessórios para câmera Mob...</td>\n      <td>Internacional</td>\n      <td>0</td>\n    </tr>\n    <tr>\n      <th>43</th>\n      <td>2022-05-31</td>\n      <td>https://www.amazon.com.br/Kit-50-Acess%C3%B3ri...</td>\n      <td>AMAZON</td>\n      <td>Amazon</td>\n      <td>342.14</td>\n      <td>10</td>\n      <td>34.25</td>\n      <td>342.50</td>\n      <td>B07LFLJBW4</td>\n      <td>Kit 50 Em 1 De Acessórios Para Gopro  ...</td>\n      <td>Internacional</td>\n      <td>0</td>\n    </tr>\n    <tr>\n      <th>44</th>\n      <td>2022-05-31</td>\n      <td>https://www.amazon.com.br/GoPole-Alcan%C3%A7a-...</td>\n      <td>AMAZON</td>\n      <td>FUNPro</td>\n      <td>208.40</td>\n      <td>6</td>\n      <td>34.75</td>\n      <td>208.50</td>\n      <td>B00B3YFDBS</td>\n      <td>GoPole Alcança de extensão de 14 a 101...</td>\n      <td>Internacional</td>\n      <td>0</td>\n    </tr>\n    <tr>\n      <th>53</th>\n      <td>2022-05-31</td>\n      <td>https://www.amazon.com.br/Cucudy-subaqu%C3%A1t...</td>\n      <td>AMAZON</td>\n      <td>Jeneza</td>\n      <td>95.18</td>\n      <td>3</td>\n      <td>31.74</td>\n      <td>95.22</td>\n      <td>B08TTPW7DW</td>\n      <td>Cucudy Câmera de ação capa protetora à...</td>\n      <td>Internacional</td>\n      <td>0</td>\n    </tr>\n    <tr>\n      <th>61</th>\n      <td>2022-05-31</td>\n      <td>https://www.amazon.com.br/Zwbfu-XTGP559-prote%...</td>\n      <td>AMAZON</td>\n      <td>Jeneza</td>\n      <td>316.99</td>\n      <td>10</td>\n      <td>31.78</td>\n      <td>317.80</td>\n      <td>B09GJGW62Z</td>\n      <td>Zwbfu Câmera XTGP559 Porta de cúpula c...</td>\n      <td>Internacional</td>\n      <td>0</td>\n    </tr>\n    <tr>\n      <th>62</th>\n      <td>2022-05-31</td>\n      <td>https://www.amazon.com.br/transporte-acess%C3%...</td>\n      <td>AMAZON</td>\n      <td>wecome2021</td>\n      <td>158.00</td>\n      <td>5</td>\n      <td>31.60</td>\n      <td>158.00</td>\n      <td>B01H6OP92G</td>\n      <td>Estojo de transporte para GoPro Hero(2...</td>\n      <td>Internacional</td>\n      <td>0</td>\n    </tr>\n    <tr>\n      <th>63</th>\n      <td>2022-05-31</td>\n      <td>https://www.amazon.com.br/Insta360-imperme%C3%...</td>\n      <td>AMAZON</td>\n      <td>EVO Gimbals</td>\n      <td>3636.86</td>\n      <td>10</td>\n      <td>363.74</td>\n      <td>3637.40</td>\n      <td>B08M3B9754</td>\n      <td>Insta360 Câmera de ação impermeável ON...</td>\n      <td>Internacional</td>\n      <td>0</td>\n    </tr>\n    <tr>\n      <th>64</th>\n      <td>2022-05-31</td>\n      <td>https://www.amazon.com.br/Porta-Lateral-Compat...</td>\n      <td>AMAZON</td>\n      <td>FUNPro</td>\n      <td>34.90</td>\n      <td>0</td>\n      <td>0.00</td>\n      <td>0.00</td>\n      <td>B09D8NZV8J</td>\n      <td>Porta Lateral Compatível com GoPro Her...</td>\n      <td>Internacional</td>\n      <td>0</td>\n    </tr>\n    <tr>\n      <th>65</th>\n      <td>2022-05-31</td>\n      <td>https://www.amazon.com.br/Trip%C3%A9-Bast%C3%A...</td>\n      <td>AMAZON</td>\n      <td>FUNPro</td>\n      <td>142.00</td>\n      <td>4</td>\n      <td>35.50</td>\n      <td>142.00</td>\n      <td>B08HV3FYQJ</td>\n      <td>Mini Tripé e Bastão para GoPro e Câmer...</td>\n      <td>Internacional</td>\n      <td>0</td>\n    </tr>\n  </tbody>\n</table>\n</div>"
     },
     "execution_count": 54,
     "metadata": {},
     "output_type": "execute_result"
    }
   ],
   "source": [
    "Df_final"
   ],
   "metadata": {
    "collapsed": false,
    "pycharm": {
     "name": "#%%\n"
    }
   }
  },
  {
   "cell_type": "code",
   "execution_count": 130,
   "outputs": [],
   "source": [
    "url_names = []\n",
    "for id in Dataframe_More['ID']:\n",
    "    url_names.append(Df_final.loc[Df_final['ID'] == id,'URL'])"
   ],
   "metadata": {
    "collapsed": false,
    "pycharm": {
     "name": "#%%\n"
    }
   }
  },
  {
   "cell_type": "code",
   "execution_count": 132,
   "outputs": [
    {
     "data": {
      "text/plain": "21"
     },
     "execution_count": 132,
     "metadata": {},
     "output_type": "execute_result"
    }
   ],
   "source": [
    "len(url_names)"
   ],
   "metadata": {
    "collapsed": false,
    "pycharm": {
     "name": "#%%\n"
    }
   }
  },
  {
   "cell_type": "code",
   "execution_count": 114,
   "outputs": [
    {
     "ename": "ValueError",
     "evalue": "Can only compare identically-labeled Series objects",
     "output_type": "error",
     "traceback": [
      "\u001B[1;31m---------------------------------------------------------------------------\u001B[0m",
      "\u001B[1;31mValueError\u001B[0m                                Traceback (most recent call last)",
      "Input \u001B[1;32mIn [114]\u001B[0m, in \u001B[0;36m<cell line: 1>\u001B[1;34m()\u001B[0m\n\u001B[1;32m----> 1\u001B[0m Df_final\u001B[38;5;241m.\u001B[39mloc[\u001B[43mDf_final\u001B[49m\u001B[43m[\u001B[49m\u001B[38;5;124;43m'\u001B[39;49m\u001B[38;5;124;43mID\u001B[39;49m\u001B[38;5;124;43m'\u001B[39;49m\u001B[43m]\u001B[49m\u001B[43m \u001B[49m\u001B[38;5;241;43m==\u001B[39;49m\u001B[43m \u001B[49m\u001B[43mDataframe_More\u001B[49m\u001B[43m[\u001B[49m\u001B[38;5;124;43m'\u001B[39;49m\u001B[38;5;124;43mID\u001B[39;49m\u001B[38;5;124;43m'\u001B[39;49m\u001B[43m]\u001B[49m,\u001B[38;5;124m'\u001B[39m\u001B[38;5;124mURL\u001B[39m\u001B[38;5;124m'\u001B[39m]\n",
      "File \u001B[1;32m~\\AppData\\Local\\Programs\\Python\\Python310\\lib\\site-packages\\pandas\\core\\ops\\common.py:70\u001B[0m, in \u001B[0;36m_unpack_zerodim_and_defer.<locals>.new_method\u001B[1;34m(self, other)\u001B[0m\n\u001B[0;32m     66\u001B[0m             \u001B[38;5;28;01mreturn\u001B[39;00m \u001B[38;5;28mNotImplemented\u001B[39m\n\u001B[0;32m     68\u001B[0m other \u001B[38;5;241m=\u001B[39m item_from_zerodim(other)\n\u001B[1;32m---> 70\u001B[0m \u001B[38;5;28;01mreturn\u001B[39;00m \u001B[43mmethod\u001B[49m\u001B[43m(\u001B[49m\u001B[38;5;28;43mself\u001B[39;49m\u001B[43m,\u001B[49m\u001B[43m \u001B[49m\u001B[43mother\u001B[49m\u001B[43m)\u001B[49m\n",
      "File \u001B[1;32m~\\AppData\\Local\\Programs\\Python\\Python310\\lib\\site-packages\\pandas\\core\\arraylike.py:40\u001B[0m, in \u001B[0;36mOpsMixin.__eq__\u001B[1;34m(self, other)\u001B[0m\n\u001B[0;32m     38\u001B[0m \u001B[38;5;129m@unpack_zerodim_and_defer\u001B[39m(\u001B[38;5;124m\"\u001B[39m\u001B[38;5;124m__eq__\u001B[39m\u001B[38;5;124m\"\u001B[39m)\n\u001B[0;32m     39\u001B[0m \u001B[38;5;28;01mdef\u001B[39;00m \u001B[38;5;21m__eq__\u001B[39m(\u001B[38;5;28mself\u001B[39m, other):\n\u001B[1;32m---> 40\u001B[0m     \u001B[38;5;28;01mreturn\u001B[39;00m \u001B[38;5;28;43mself\u001B[39;49m\u001B[38;5;241;43m.\u001B[39;49m\u001B[43m_cmp_method\u001B[49m\u001B[43m(\u001B[49m\u001B[43mother\u001B[49m\u001B[43m,\u001B[49m\u001B[43m \u001B[49m\u001B[43moperator\u001B[49m\u001B[38;5;241;43m.\u001B[39;49m\u001B[43meq\u001B[49m\u001B[43m)\u001B[49m\n",
      "File \u001B[1;32m~\\AppData\\Local\\Programs\\Python\\Python310\\lib\\site-packages\\pandas\\core\\series.py:5617\u001B[0m, in \u001B[0;36mSeries._cmp_method\u001B[1;34m(self, other, op)\u001B[0m\n\u001B[0;32m   5614\u001B[0m res_name \u001B[38;5;241m=\u001B[39m ops\u001B[38;5;241m.\u001B[39mget_op_result_name(\u001B[38;5;28mself\u001B[39m, other)\n\u001B[0;32m   5616\u001B[0m \u001B[38;5;28;01mif\u001B[39;00m \u001B[38;5;28misinstance\u001B[39m(other, Series) \u001B[38;5;129;01mand\u001B[39;00m \u001B[38;5;129;01mnot\u001B[39;00m \u001B[38;5;28mself\u001B[39m\u001B[38;5;241m.\u001B[39m_indexed_same(other):\n\u001B[1;32m-> 5617\u001B[0m     \u001B[38;5;28;01mraise\u001B[39;00m \u001B[38;5;167;01mValueError\u001B[39;00m(\u001B[38;5;124m\"\u001B[39m\u001B[38;5;124mCan only compare identically-labeled Series objects\u001B[39m\u001B[38;5;124m\"\u001B[39m)\n\u001B[0;32m   5619\u001B[0m lvalues \u001B[38;5;241m=\u001B[39m \u001B[38;5;28mself\u001B[39m\u001B[38;5;241m.\u001B[39m_values\n\u001B[0;32m   5620\u001B[0m rvalues \u001B[38;5;241m=\u001B[39m extract_array(other, extract_numpy\u001B[38;5;241m=\u001B[39m\u001B[38;5;28;01mTrue\u001B[39;00m, extract_range\u001B[38;5;241m=\u001B[39m\u001B[38;5;28;01mTrue\u001B[39;00m)\n",
      "\u001B[1;31mValueError\u001B[0m: Can only compare identically-labeled Series objects"
     ]
    }
   ],
   "source": [
    "Df_final.loc[Df_final['ID'] == Dataframe_More['ID'],'URL']"
   ],
   "metadata": {
    "collapsed": false,
    "pycharm": {
     "name": "#%%\n"
    }
   }
  },
  {
   "cell_type": "code",
   "execution_count": 57,
   "outputs": [],
   "source": [
    "Df_teste = pd.concat([Df_final, Dataframe_Button])\n",
    "Df_teste = Df_teste.sort_values(by='ID')"
   ],
   "metadata": {
    "collapsed": false,
    "pycharm": {
     "name": "#%%\n"
    }
   }
  },
  {
   "cell_type": "code",
   "execution_count": 58,
   "outputs": [
    {
     "data": {
      "text/plain": "          DATE                                                URL MARKETPLACE  \\\n44  2022-05-31  https://www.amazon.com.br/GoPole-Alcan%C3%A7a-...      AMAZON   \n22  2022-05-31  https://www.amazon.com.br/GoPro-Sistema-HERO3-...      AMAZON   \n14  2022-05-31  https://www.amazon.com.br/GOPOLE-Reach-Mini-ex...      AMAZON   \n62  2022-05-31  https://www.amazon.com.br/transporte-acess%C3%...      AMAZON   \n26  2022-05-31  https://www.amazon.com.br/GoPro-Porta-Lateral-...      AMAZON   \n20  2022-05-31  https://www.amazon.com.br/C%C3%A2mera-Digital-...      AMAZON   \n19  2022-05-31  https://www.amazon.com.br/C%C3%A2mera-Digital-...      AMAZON   \n13  2022-05-31  https://www.amazon.com.br/C%C3%A2mera-GoPro-MA...      AMAZON   \n12  2022-05-31  https://www.amazon.com.br/C%C3%A2mera-GoPro-MA...      AMAZON   \n11  2022-05-31  https://www.amazon.com.br/Camera-Digital-12-1M...      AMAZON   \n10  2022-05-31  https://www.amazon.com.br/Camera-Digital-12-1M...      AMAZON   \n9   2022-05-31  https://www.amazon.com.br/Camera-Digital-12-1M...      AMAZON   \n1   2022-05-31  https://www.amazon.com.br/C%C3%A2mera-Black-Pr...      AMAZON   \n43  2022-05-31  https://www.amazon.com.br/Kit-50-Acess%C3%B3ri...      AMAZON   \n15  2022-05-31  https://www.amazon.com.br/Kit-Gopro-Hero-Pe%C3...      AMAZON   \n28  2022-05-31  https://www.amazon.com.br/Mochila-ajust%C3%A1v...      AMAZON   \n7   2022-05-31  https://www.amazon.com.br/Gopro-Black-prova-D%...      AMAZON   \n6   2022-05-31  https://www.amazon.com.br/Gopro-Black-prova-D%...      AMAZON   \n8   2022-05-31  https://www.amazon.com.br/Gopro-Black-prova-D%...      AMAZON   \n40  2022-05-31  https://www.amazon.com.br/Conjunto-acess%C3%B3...      AMAZON   \n34  2022-05-31  https://www.amazon.com.br/Acess%C3%B3rios-para...      AMAZON   \n17  2022-05-31  https://www.amazon.com.br/CABO-USB-PARA-TIPO-P...      AMAZON   \n16  2022-05-31  https://www.amazon.com.br/CABO-USB-PARA-TIPO-P...      AMAZON   \n24  2022-05-31  https://www.amazon.com.br/Cart%C3%A3o-mem%C3%B...      AMAZON   \n23  2022-05-31  https://www.amazon.com.br/GoPro-CHDHX-901-RW-H...      AMAZON   \n65  2022-05-31  https://www.amazon.com.br/Trip%C3%A9-Bast%C3%A...      AMAZON   \n25  2022-05-31  https://www.amazon.com.br/Porta-Lateral-GoPro-...      AMAZON   \n3   2022-05-31  https://www.amazon.com.br/C%C3%A2mera-GoPro-Fr...      AMAZON   \n63  2022-05-31  https://www.amazon.com.br/Insta360-imperme%C3%...      AMAZON   \n53  2022-05-31  https://www.amazon.com.br/Cucudy-subaqu%C3%A1t...      AMAZON   \n2   2022-05-31  https://www.amazon.com.br/C%C3%82MERA-GOPRO-BL...      AMAZON   \n0   2022-05-31  https://www.amazon.com.br/C%C3%82MERA-GOPRO-BL...      AMAZON   \n1   2022-05-31  https://www.amazon.com.br/C%C3%82MERA-GOPRO-BL...      AMAZON   \n21  2022-05-31  https://www.amazon.com.br/compat%C3%ADvel-aces...      AMAZON   \n18  2022-05-31  https://www.amazon.com.br/PORTA-USB-PARA-PRONL...      AMAZON   \n64  2022-05-31  https://www.amazon.com.br/Porta-Lateral-Compat...      AMAZON   \n61  2022-05-31  https://www.amazon.com.br/Zwbfu-XTGP559-prote%...      AMAZON   \n38  2022-05-31  https://www.amazon.com.br/Zwbfu-acess%C3%B3rio...      AMAZON   \n27  2022-05-31  https://www.amazon.com.br/grande-angular-c%C3%...      AMAZON   \n5   2022-05-31  https://www.amazon.com.br/C%C3%82MERA-GOPRO-HE...      AMAZON   \n4   2022-05-31  https://www.amazon.com.br/C%C3%82MERA-GOPRO-HE...      AMAZON   \n35  2022-05-31  https://www.amazon.com.br/fengny-Substitui%C3%...      AMAZON   \n\n                   SELLER    PRICE  PARCEL  INSTALLMENT  INSTALLMENT_PAYMENT  \\\n44                 FUNPro   208.40       6       34.750               208.50   \n22            LIG Celular    189.9      10       18.990              1899.00   \n14      Ami Ventures Inc.   1034.0      10      103.400             10340.00   \n62             wecome2021   158.00       5       31.600               158.00   \n26         GRUPO MAVERICK   189.99      10       18.999              1899.90   \n20       Tech With Expert   4602.0      10      460.200             46020.00   \n19     Porto Seguro Store   3190.0      10      319.000             31900.00   \n13           LIVE IMPORTS   3499.0      10      349.900             34990.00   \n12         GRUPO MAVERICK  3485.21      10      348.521             34852.10   \n11      João e Maria Shop  2574.05      10      257.405             25740.50   \n10         Center Shop RS   2490.0      10      249.000             24900.00   \n9          GRUPO MAVERICK  2399.99      10      239.999             23999.90   \n1             Detona Shop  2269.53      10      226.980              2269.80   \n43                 Amazon   342.14      10       34.250               342.50   \n15          biaeletronico    299.0      10       29.900              2990.00   \n28             BUY SUPPLY   412.74      10       41.274              4127.40   \n7            LIVE IMPORTS   2299.0      10      229.900             22990.00   \n6             King Pro St   2283.6      10      228.360             22836.00   \n8          GRUPO MAVERICK   2599.0      10      259.900             25990.00   \n40               Minimini    75.00       2       37.500                75.00   \n34                 FUNPro   275.00       9       30.600               275.40   \n17     Preech Informática    47.43      10        4.743               474.30   \n16                BC INFO    35.13      10        3.513               351.30   \n24  Triplenet Pricing INC   811.19      10       81.119              8111.90   \n23           LIVE IMPORTS   2699.0      10      269.900             26990.00   \n65                 FUNPro   142.00       4       35.500               142.00   \n25         GRUPO MAVERICK    59.99      10        5.999               599.90   \n3          GRUPO MAVERICK  3399.99      10      339.999             33999.90   \n63            EVO Gimbals  3636.86      10      363.740              3637.40   \n53                 Jeneza    95.18       3       31.740                95.22   \n2          GRUPO MAVERICK  3199.99      10      319.999             31999.90   \n0            LIVE IMPORTS   2599.0      10      259.900             25990.00   \n1            LIVE IMPORTS   2599.0      10      259.900             25990.00   \n21             BUY SUPPLY   501.45      10       50.145              5014.50   \n18         GRUPO MAVERICK   299.99      10       29.999              2999.90   \n64                 FUNPro    34.90       0        0.000                 0.00   \n61                 Jeneza   316.99      10       31.780               317.80   \n38                 Jeneza   177.99       5       35.630               178.15   \n27              bizoffttk    415.5      10       41.550              4155.00   \n5          GRUPO MAVERICK  3099.99      10      309.999             30999.90   \n4          GRUPO MAVERICK  3099.99      10      309.999             30999.90   \n35               kokorest   183.40       6       30.600               183.60   \n\n            ID                                            PRODUCT  \\\n44  B00B3YFDBS          GoPole Alcança de extensão de 14 a 101...   \n22  B00J9RO4U2          GoPro Sistema Dual Hero para HERO3+ (c...   \n14  B01C397F1C          GOPOLE Reach Mini – Haste de extensão ...   \n62  B01H6OP92G          Estojo de transporte para GoPro Hero(2...   \n26  B01L2CPKOK          Porta Lateral de Reposição para Hero6,...   \n20  B0792MJLNM             Câmera Fusion 360, GoPro, Preto          \n19  B0792MJLNM             Câmera Fusion 360, GoPro, Preto          \n13  B07BPVPV14                 Câmera GoPro MAX 360, Preto          \n12  B07BPVPV14                 Câmera GoPro MAX 360, Preto          \n11  B07GSVDFTQ          Camera Digital GoPro Hero 7 Black Ultr...   \n10  B07GSVDFTQ          Camera Digital GoPro Hero 7 Black Ultr...   \n9   B07GSVDFTQ          Camera Digital GoPro Hero 7 Black Ultr...   \n1   B07JH83VBW          Câmera Hero 7 Black à Prova D’água 12M...   \n43  B07LFLJBW4          Kit 50 Em 1 De Acessórios Para Gopro  ...   \n15  B07TCY5FNV          Kit Para Gopro Hero Com 9 Peças Maleta...   \n28  B07WNPTF3T          Mochila com alça de ombro para câmera ...   \n7   B07WSRXMS8          Gopro Hero 8 Black 4k à prova D'água C...   \n6   B07WSRXMS8          Gopro Hero 8 Black 4k à prova D'água C...   \n8   B07WSRXMS8          Gopro Hero 8 Black 4k à prova D'água C...   \n40  B082X8HPLL          Conjunto de acessórios para câmera Mob...   \n34  B086M7FK58          Kit de Acessórios para GoPro Hero 8 Bl...   \n17  B089X297QT          CABO PARA CELULAR SMARTPHONE USB A 2.0...   \n16  B089X297QT          CABO PARA CELULAR SMARTPHONE USB A 2.0...   \n24  B08GYG5SVQ          Cartão de memória SanDisk 400 GB Ultra...   \n23  B08HPCFCSV           GoPro - HERO9 Preto, CHDHX-901-RW          \n65  B08HV3FYQJ          Mini Tripé e Bastão para GoPro e Câmer...   \n25  B08JCR3NTZ          Porta Lateral Compatível com GoPro Her...   \n3   B08KXN6BNH          Câmera GoPro HERO9 Black à Prova D'águ...   \n63  B08M3B9754          Insta360 Câmera de ação impermeável ON...   \n53  B08TTPW7DW          Cucudy Câmera de ação capa protetora à...   \n2   B08ZSVP9T7          CÂMERA GOPRO HERO 8 BLACK ESSENCIAL BU...   \n0   B08ZSVP9T7          CÂMERA GOPRO HERO 8 BLACK ESSENCIAL BU...   \n1   B08ZSVP9T7          CÂMERA GOPRO HERO 8 BLACK ESSENCIAL BU...   \n21  B099KJRQ4V          Capa à prova d'água para GoPro Hero 9,...   \n18  B09BBJTF8R          PORTA USB PARA USO PRONLONGADO HERO 9 ...   \n64  B09D8NZV8J          Porta Lateral Compatível com GoPro Her...   \n61  B09GJGW62Z          Zwbfu Câmera XTGP559 Porta de cúpula c...   \n38  B09GJMPY6R          Zwbfu Kit de acessórios para câmera de...   \n27  B09JVT24PJ          Lente grande angular, câmera esportiva...   \n5   B09LZ9655F          CÂMERA GOPRO HERO 8 BLACK - POWER BUND...   \n4   B09MG3XKZJ          CÂMERA GOPRO HERO 8 BLACK – SPECIAL BU...   \n35  B09ZPB2QW3          fengny Substituição de controle remoto...   \n\n    INTERNACIONAL  MORE  \n44  Internacional   0.0  \n22           ERRO   NaN  \n14           ERRO   NaN  \n62  Internacional   0.0  \n26           ERRO   NaN  \n20           ERRO   NaN  \n19           ERRO   NaN  \n13           ERRO   NaN  \n12           ERRO   NaN  \n11           ERRO   NaN  \n10           ERRO   NaN  \n9            ERRO   NaN  \n1   Internacional   0.0  \n43  Internacional   0.0  \n15           ERRO   NaN  \n28           ERRO   NaN  \n7            ERRO   NaN  \n6            ERRO   NaN  \n8            ERRO   NaN  \n40  Internacional   0.0  \n34  Internacional   0.0  \n17           ERRO   NaN  \n16           ERRO   NaN  \n24           ERRO   NaN  \n23           ERRO   NaN  \n65  Internacional   0.0  \n25           ERRO   NaN  \n3            ERRO   NaN  \n63  Internacional   0.0  \n53  Internacional   0.0  \n2            ERRO   NaN  \n0            ERRO   NaN  \n1            ERRO   NaN  \n21           ERRO   NaN  \n18           ERRO   NaN  \n64  Internacional   0.0  \n61  Internacional   0.0  \n38  Internacional   0.0  \n27           ERRO   NaN  \n5            ERRO   NaN  \n4            ERRO   NaN  \n35  Internacional   0.0  ",
      "text/html": "<div>\n<style scoped>\n    .dataframe tbody tr th:only-of-type {\n        vertical-align: middle;\n    }\n\n    .dataframe tbody tr th {\n        vertical-align: top;\n    }\n\n    .dataframe thead th {\n        text-align: right;\n    }\n</style>\n<table border=\"1\" class=\"dataframe\">\n  <thead>\n    <tr style=\"text-align: right;\">\n      <th></th>\n      <th>DATE</th>\n      <th>URL</th>\n      <th>MARKETPLACE</th>\n      <th>SELLER</th>\n      <th>PRICE</th>\n      <th>PARCEL</th>\n      <th>INSTALLMENT</th>\n      <th>INSTALLMENT_PAYMENT</th>\n      <th>ID</th>\n      <th>PRODUCT</th>\n      <th>INTERNACIONAL</th>\n      <th>MORE</th>\n    </tr>\n  </thead>\n  <tbody>\n    <tr>\n      <th>44</th>\n      <td>2022-05-31</td>\n      <td>https://www.amazon.com.br/GoPole-Alcan%C3%A7a-...</td>\n      <td>AMAZON</td>\n      <td>FUNPro</td>\n      <td>208.40</td>\n      <td>6</td>\n      <td>34.750</td>\n      <td>208.50</td>\n      <td>B00B3YFDBS</td>\n      <td>GoPole Alcança de extensão de 14 a 101...</td>\n      <td>Internacional</td>\n      <td>0.0</td>\n    </tr>\n    <tr>\n      <th>22</th>\n      <td>2022-05-31</td>\n      <td>https://www.amazon.com.br/GoPro-Sistema-HERO3-...</td>\n      <td>AMAZON</td>\n      <td>LIG Celular</td>\n      <td>189.9</td>\n      <td>10</td>\n      <td>18.990</td>\n      <td>1899.00</td>\n      <td>B00J9RO4U2</td>\n      <td>GoPro Sistema Dual Hero para HERO3+ (c...</td>\n      <td>ERRO</td>\n      <td>NaN</td>\n    </tr>\n    <tr>\n      <th>14</th>\n      <td>2022-05-31</td>\n      <td>https://www.amazon.com.br/GOPOLE-Reach-Mini-ex...</td>\n      <td>AMAZON</td>\n      <td>Ami Ventures Inc.</td>\n      <td>1034.0</td>\n      <td>10</td>\n      <td>103.400</td>\n      <td>10340.00</td>\n      <td>B01C397F1C</td>\n      <td>GOPOLE Reach Mini – Haste de extensão ...</td>\n      <td>ERRO</td>\n      <td>NaN</td>\n    </tr>\n    <tr>\n      <th>62</th>\n      <td>2022-05-31</td>\n      <td>https://www.amazon.com.br/transporte-acess%C3%...</td>\n      <td>AMAZON</td>\n      <td>wecome2021</td>\n      <td>158.00</td>\n      <td>5</td>\n      <td>31.600</td>\n      <td>158.00</td>\n      <td>B01H6OP92G</td>\n      <td>Estojo de transporte para GoPro Hero(2...</td>\n      <td>Internacional</td>\n      <td>0.0</td>\n    </tr>\n    <tr>\n      <th>26</th>\n      <td>2022-05-31</td>\n      <td>https://www.amazon.com.br/GoPro-Porta-Lateral-...</td>\n      <td>AMAZON</td>\n      <td>GRUPO MAVERICK</td>\n      <td>189.99</td>\n      <td>10</td>\n      <td>18.999</td>\n      <td>1899.90</td>\n      <td>B01L2CPKOK</td>\n      <td>Porta Lateral de Reposição para Hero6,...</td>\n      <td>ERRO</td>\n      <td>NaN</td>\n    </tr>\n    <tr>\n      <th>20</th>\n      <td>2022-05-31</td>\n      <td>https://www.amazon.com.br/C%C3%A2mera-Digital-...</td>\n      <td>AMAZON</td>\n      <td>Tech With Expert</td>\n      <td>4602.0</td>\n      <td>10</td>\n      <td>460.200</td>\n      <td>46020.00</td>\n      <td>B0792MJLNM</td>\n      <td>Câmera Fusion 360, GoPro, Preto</td>\n      <td>ERRO</td>\n      <td>NaN</td>\n    </tr>\n    <tr>\n      <th>19</th>\n      <td>2022-05-31</td>\n      <td>https://www.amazon.com.br/C%C3%A2mera-Digital-...</td>\n      <td>AMAZON</td>\n      <td>Porto Seguro Store</td>\n      <td>3190.0</td>\n      <td>10</td>\n      <td>319.000</td>\n      <td>31900.00</td>\n      <td>B0792MJLNM</td>\n      <td>Câmera Fusion 360, GoPro, Preto</td>\n      <td>ERRO</td>\n      <td>NaN</td>\n    </tr>\n    <tr>\n      <th>13</th>\n      <td>2022-05-31</td>\n      <td>https://www.amazon.com.br/C%C3%A2mera-GoPro-MA...</td>\n      <td>AMAZON</td>\n      <td>LIVE IMPORTS</td>\n      <td>3499.0</td>\n      <td>10</td>\n      <td>349.900</td>\n      <td>34990.00</td>\n      <td>B07BPVPV14</td>\n      <td>Câmera GoPro MAX 360, Preto</td>\n      <td>ERRO</td>\n      <td>NaN</td>\n    </tr>\n    <tr>\n      <th>12</th>\n      <td>2022-05-31</td>\n      <td>https://www.amazon.com.br/C%C3%A2mera-GoPro-MA...</td>\n      <td>AMAZON</td>\n      <td>GRUPO MAVERICK</td>\n      <td>3485.21</td>\n      <td>10</td>\n      <td>348.521</td>\n      <td>34852.10</td>\n      <td>B07BPVPV14</td>\n      <td>Câmera GoPro MAX 360, Preto</td>\n      <td>ERRO</td>\n      <td>NaN</td>\n    </tr>\n    <tr>\n      <th>11</th>\n      <td>2022-05-31</td>\n      <td>https://www.amazon.com.br/Camera-Digital-12-1M...</td>\n      <td>AMAZON</td>\n      <td>João e Maria Shop</td>\n      <td>2574.05</td>\n      <td>10</td>\n      <td>257.405</td>\n      <td>25740.50</td>\n      <td>B07GSVDFTQ</td>\n      <td>Camera Digital GoPro Hero 7 Black Ultr...</td>\n      <td>ERRO</td>\n      <td>NaN</td>\n    </tr>\n    <tr>\n      <th>10</th>\n      <td>2022-05-31</td>\n      <td>https://www.amazon.com.br/Camera-Digital-12-1M...</td>\n      <td>AMAZON</td>\n      <td>Center Shop RS</td>\n      <td>2490.0</td>\n      <td>10</td>\n      <td>249.000</td>\n      <td>24900.00</td>\n      <td>B07GSVDFTQ</td>\n      <td>Camera Digital GoPro Hero 7 Black Ultr...</td>\n      <td>ERRO</td>\n      <td>NaN</td>\n    </tr>\n    <tr>\n      <th>9</th>\n      <td>2022-05-31</td>\n      <td>https://www.amazon.com.br/Camera-Digital-12-1M...</td>\n      <td>AMAZON</td>\n      <td>GRUPO MAVERICK</td>\n      <td>2399.99</td>\n      <td>10</td>\n      <td>239.999</td>\n      <td>23999.90</td>\n      <td>B07GSVDFTQ</td>\n      <td>Camera Digital GoPro Hero 7 Black Ultr...</td>\n      <td>ERRO</td>\n      <td>NaN</td>\n    </tr>\n    <tr>\n      <th>1</th>\n      <td>2022-05-31</td>\n      <td>https://www.amazon.com.br/C%C3%A2mera-Black-Pr...</td>\n      <td>AMAZON</td>\n      <td>Detona Shop</td>\n      <td>2269.53</td>\n      <td>10</td>\n      <td>226.980</td>\n      <td>2269.80</td>\n      <td>B07JH83VBW</td>\n      <td>Câmera Hero 7 Black à Prova D’água 12M...</td>\n      <td>Internacional</td>\n      <td>0.0</td>\n    </tr>\n    <tr>\n      <th>43</th>\n      <td>2022-05-31</td>\n      <td>https://www.amazon.com.br/Kit-50-Acess%C3%B3ri...</td>\n      <td>AMAZON</td>\n      <td>Amazon</td>\n      <td>342.14</td>\n      <td>10</td>\n      <td>34.250</td>\n      <td>342.50</td>\n      <td>B07LFLJBW4</td>\n      <td>Kit 50 Em 1 De Acessórios Para Gopro  ...</td>\n      <td>Internacional</td>\n      <td>0.0</td>\n    </tr>\n    <tr>\n      <th>15</th>\n      <td>2022-05-31</td>\n      <td>https://www.amazon.com.br/Kit-Gopro-Hero-Pe%C3...</td>\n      <td>AMAZON</td>\n      <td>biaeletronico</td>\n      <td>299.0</td>\n      <td>10</td>\n      <td>29.900</td>\n      <td>2990.00</td>\n      <td>B07TCY5FNV</td>\n      <td>Kit Para Gopro Hero Com 9 Peças Maleta...</td>\n      <td>ERRO</td>\n      <td>NaN</td>\n    </tr>\n    <tr>\n      <th>28</th>\n      <td>2022-05-31</td>\n      <td>https://www.amazon.com.br/Mochila-ajust%C3%A1v...</td>\n      <td>AMAZON</td>\n      <td>BUY SUPPLY</td>\n      <td>412.74</td>\n      <td>10</td>\n      <td>41.274</td>\n      <td>4127.40</td>\n      <td>B07WNPTF3T</td>\n      <td>Mochila com alça de ombro para câmera ...</td>\n      <td>ERRO</td>\n      <td>NaN</td>\n    </tr>\n    <tr>\n      <th>7</th>\n      <td>2022-05-31</td>\n      <td>https://www.amazon.com.br/Gopro-Black-prova-D%...</td>\n      <td>AMAZON</td>\n      <td>LIVE IMPORTS</td>\n      <td>2299.0</td>\n      <td>10</td>\n      <td>229.900</td>\n      <td>22990.00</td>\n      <td>B07WSRXMS8</td>\n      <td>Gopro Hero 8 Black 4k à prova D'água C...</td>\n      <td>ERRO</td>\n      <td>NaN</td>\n    </tr>\n    <tr>\n      <th>6</th>\n      <td>2022-05-31</td>\n      <td>https://www.amazon.com.br/Gopro-Black-prova-D%...</td>\n      <td>AMAZON</td>\n      <td>King Pro St</td>\n      <td>2283.6</td>\n      <td>10</td>\n      <td>228.360</td>\n      <td>22836.00</td>\n      <td>B07WSRXMS8</td>\n      <td>Gopro Hero 8 Black 4k à prova D'água C...</td>\n      <td>ERRO</td>\n      <td>NaN</td>\n    </tr>\n    <tr>\n      <th>8</th>\n      <td>2022-05-31</td>\n      <td>https://www.amazon.com.br/Gopro-Black-prova-D%...</td>\n      <td>AMAZON</td>\n      <td>GRUPO MAVERICK</td>\n      <td>2599.0</td>\n      <td>10</td>\n      <td>259.900</td>\n      <td>25990.00</td>\n      <td>B07WSRXMS8</td>\n      <td>Gopro Hero 8 Black 4k à prova D'água C...</td>\n      <td>ERRO</td>\n      <td>NaN</td>\n    </tr>\n    <tr>\n      <th>40</th>\n      <td>2022-05-31</td>\n      <td>https://www.amazon.com.br/Conjunto-acess%C3%B3...</td>\n      <td>AMAZON</td>\n      <td>Minimini</td>\n      <td>75.00</td>\n      <td>2</td>\n      <td>37.500</td>\n      <td>75.00</td>\n      <td>B082X8HPLL</td>\n      <td>Conjunto de acessórios para câmera Mob...</td>\n      <td>Internacional</td>\n      <td>0.0</td>\n    </tr>\n    <tr>\n      <th>34</th>\n      <td>2022-05-31</td>\n      <td>https://www.amazon.com.br/Acess%C3%B3rios-para...</td>\n      <td>AMAZON</td>\n      <td>FUNPro</td>\n      <td>275.00</td>\n      <td>9</td>\n      <td>30.600</td>\n      <td>275.40</td>\n      <td>B086M7FK58</td>\n      <td>Kit de Acessórios para GoPro Hero 8 Bl...</td>\n      <td>Internacional</td>\n      <td>0.0</td>\n    </tr>\n    <tr>\n      <th>17</th>\n      <td>2022-05-31</td>\n      <td>https://www.amazon.com.br/CABO-USB-PARA-TIPO-P...</td>\n      <td>AMAZON</td>\n      <td>Preech Informática</td>\n      <td>47.43</td>\n      <td>10</td>\n      <td>4.743</td>\n      <td>474.30</td>\n      <td>B089X297QT</td>\n      <td>CABO PARA CELULAR SMARTPHONE USB A 2.0...</td>\n      <td>ERRO</td>\n      <td>NaN</td>\n    </tr>\n    <tr>\n      <th>16</th>\n      <td>2022-05-31</td>\n      <td>https://www.amazon.com.br/CABO-USB-PARA-TIPO-P...</td>\n      <td>AMAZON</td>\n      <td>BC INFO</td>\n      <td>35.13</td>\n      <td>10</td>\n      <td>3.513</td>\n      <td>351.30</td>\n      <td>B089X297QT</td>\n      <td>CABO PARA CELULAR SMARTPHONE USB A 2.0...</td>\n      <td>ERRO</td>\n      <td>NaN</td>\n    </tr>\n    <tr>\n      <th>24</th>\n      <td>2022-05-31</td>\n      <td>https://www.amazon.com.br/Cart%C3%A3o-mem%C3%B...</td>\n      <td>AMAZON</td>\n      <td>Triplenet Pricing INC</td>\n      <td>811.19</td>\n      <td>10</td>\n      <td>81.119</td>\n      <td>8111.90</td>\n      <td>B08GYG5SVQ</td>\n      <td>Cartão de memória SanDisk 400 GB Ultra...</td>\n      <td>ERRO</td>\n      <td>NaN</td>\n    </tr>\n    <tr>\n      <th>23</th>\n      <td>2022-05-31</td>\n      <td>https://www.amazon.com.br/GoPro-CHDHX-901-RW-H...</td>\n      <td>AMAZON</td>\n      <td>LIVE IMPORTS</td>\n      <td>2699.0</td>\n      <td>10</td>\n      <td>269.900</td>\n      <td>26990.00</td>\n      <td>B08HPCFCSV</td>\n      <td>GoPro - HERO9 Preto, CHDHX-901-RW</td>\n      <td>ERRO</td>\n      <td>NaN</td>\n    </tr>\n    <tr>\n      <th>65</th>\n      <td>2022-05-31</td>\n      <td>https://www.amazon.com.br/Trip%C3%A9-Bast%C3%A...</td>\n      <td>AMAZON</td>\n      <td>FUNPro</td>\n      <td>142.00</td>\n      <td>4</td>\n      <td>35.500</td>\n      <td>142.00</td>\n      <td>B08HV3FYQJ</td>\n      <td>Mini Tripé e Bastão para GoPro e Câmer...</td>\n      <td>Internacional</td>\n      <td>0.0</td>\n    </tr>\n    <tr>\n      <th>25</th>\n      <td>2022-05-31</td>\n      <td>https://www.amazon.com.br/Porta-Lateral-GoPro-...</td>\n      <td>AMAZON</td>\n      <td>GRUPO MAVERICK</td>\n      <td>59.99</td>\n      <td>10</td>\n      <td>5.999</td>\n      <td>599.90</td>\n      <td>B08JCR3NTZ</td>\n      <td>Porta Lateral Compatível com GoPro Her...</td>\n      <td>ERRO</td>\n      <td>NaN</td>\n    </tr>\n    <tr>\n      <th>3</th>\n      <td>2022-05-31</td>\n      <td>https://www.amazon.com.br/C%C3%A2mera-GoPro-Fr...</td>\n      <td>AMAZON</td>\n      <td>GRUPO MAVERICK</td>\n      <td>3399.99</td>\n      <td>10</td>\n      <td>339.999</td>\n      <td>33999.90</td>\n      <td>B08KXN6BNH</td>\n      <td>Câmera GoPro HERO9 Black à Prova D'águ...</td>\n      <td>ERRO</td>\n      <td>NaN</td>\n    </tr>\n    <tr>\n      <th>63</th>\n      <td>2022-05-31</td>\n      <td>https://www.amazon.com.br/Insta360-imperme%C3%...</td>\n      <td>AMAZON</td>\n      <td>EVO Gimbals</td>\n      <td>3636.86</td>\n      <td>10</td>\n      <td>363.740</td>\n      <td>3637.40</td>\n      <td>B08M3B9754</td>\n      <td>Insta360 Câmera de ação impermeável ON...</td>\n      <td>Internacional</td>\n      <td>0.0</td>\n    </tr>\n    <tr>\n      <th>53</th>\n      <td>2022-05-31</td>\n      <td>https://www.amazon.com.br/Cucudy-subaqu%C3%A1t...</td>\n      <td>AMAZON</td>\n      <td>Jeneza</td>\n      <td>95.18</td>\n      <td>3</td>\n      <td>31.740</td>\n      <td>95.22</td>\n      <td>B08TTPW7DW</td>\n      <td>Cucudy Câmera de ação capa protetora à...</td>\n      <td>Internacional</td>\n      <td>0.0</td>\n    </tr>\n    <tr>\n      <th>2</th>\n      <td>2022-05-31</td>\n      <td>https://www.amazon.com.br/C%C3%82MERA-GOPRO-BL...</td>\n      <td>AMAZON</td>\n      <td>GRUPO MAVERICK</td>\n      <td>3199.99</td>\n      <td>10</td>\n      <td>319.999</td>\n      <td>31999.90</td>\n      <td>B08ZSVP9T7</td>\n      <td>CÂMERA GOPRO HERO 8 BLACK ESSENCIAL BU...</td>\n      <td>ERRO</td>\n      <td>NaN</td>\n    </tr>\n    <tr>\n      <th>0</th>\n      <td>2022-05-31</td>\n      <td>https://www.amazon.com.br/C%C3%82MERA-GOPRO-BL...</td>\n      <td>AMAZON</td>\n      <td>LIVE IMPORTS</td>\n      <td>2599.0</td>\n      <td>10</td>\n      <td>259.900</td>\n      <td>25990.00</td>\n      <td>B08ZSVP9T7</td>\n      <td>CÂMERA GOPRO HERO 8 BLACK ESSENCIAL BU...</td>\n      <td>ERRO</td>\n      <td>NaN</td>\n    </tr>\n    <tr>\n      <th>1</th>\n      <td>2022-05-31</td>\n      <td>https://www.amazon.com.br/C%C3%82MERA-GOPRO-BL...</td>\n      <td>AMAZON</td>\n      <td>LIVE IMPORTS</td>\n      <td>2599.0</td>\n      <td>10</td>\n      <td>259.900</td>\n      <td>25990.00</td>\n      <td>B08ZSVP9T7</td>\n      <td>CÂMERA GOPRO HERO 8 BLACK ESSENCIAL BU...</td>\n      <td>ERRO</td>\n      <td>NaN</td>\n    </tr>\n    <tr>\n      <th>21</th>\n      <td>2022-05-31</td>\n      <td>https://www.amazon.com.br/compat%C3%ADvel-aces...</td>\n      <td>AMAZON</td>\n      <td>BUY SUPPLY</td>\n      <td>501.45</td>\n      <td>10</td>\n      <td>50.145</td>\n      <td>5014.50</td>\n      <td>B099KJRQ4V</td>\n      <td>Capa à prova d'água para GoPro Hero 9,...</td>\n      <td>ERRO</td>\n      <td>NaN</td>\n    </tr>\n    <tr>\n      <th>18</th>\n      <td>2022-05-31</td>\n      <td>https://www.amazon.com.br/PORTA-USB-PARA-PRONL...</td>\n      <td>AMAZON</td>\n      <td>GRUPO MAVERICK</td>\n      <td>299.99</td>\n      <td>10</td>\n      <td>29.999</td>\n      <td>2999.90</td>\n      <td>B09BBJTF8R</td>\n      <td>PORTA USB PARA USO PRONLONGADO HERO 9 ...</td>\n      <td>ERRO</td>\n      <td>NaN</td>\n    </tr>\n    <tr>\n      <th>64</th>\n      <td>2022-05-31</td>\n      <td>https://www.amazon.com.br/Porta-Lateral-Compat...</td>\n      <td>AMAZON</td>\n      <td>FUNPro</td>\n      <td>34.90</td>\n      <td>0</td>\n      <td>0.000</td>\n      <td>0.00</td>\n      <td>B09D8NZV8J</td>\n      <td>Porta Lateral Compatível com GoPro Her...</td>\n      <td>Internacional</td>\n      <td>0.0</td>\n    </tr>\n    <tr>\n      <th>61</th>\n      <td>2022-05-31</td>\n      <td>https://www.amazon.com.br/Zwbfu-XTGP559-prote%...</td>\n      <td>AMAZON</td>\n      <td>Jeneza</td>\n      <td>316.99</td>\n      <td>10</td>\n      <td>31.780</td>\n      <td>317.80</td>\n      <td>B09GJGW62Z</td>\n      <td>Zwbfu Câmera XTGP559 Porta de cúpula c...</td>\n      <td>Internacional</td>\n      <td>0.0</td>\n    </tr>\n    <tr>\n      <th>38</th>\n      <td>2022-05-31</td>\n      <td>https://www.amazon.com.br/Zwbfu-acess%C3%B3rio...</td>\n      <td>AMAZON</td>\n      <td>Jeneza</td>\n      <td>177.99</td>\n      <td>5</td>\n      <td>35.630</td>\n      <td>178.15</td>\n      <td>B09GJMPY6R</td>\n      <td>Zwbfu Kit de acessórios para câmera de...</td>\n      <td>Internacional</td>\n      <td>0.0</td>\n    </tr>\n    <tr>\n      <th>27</th>\n      <td>2022-05-31</td>\n      <td>https://www.amazon.com.br/grande-angular-c%C3%...</td>\n      <td>AMAZON</td>\n      <td>bizoffttk</td>\n      <td>415.5</td>\n      <td>10</td>\n      <td>41.550</td>\n      <td>4155.00</td>\n      <td>B09JVT24PJ</td>\n      <td>Lente grande angular, câmera esportiva...</td>\n      <td>ERRO</td>\n      <td>NaN</td>\n    </tr>\n    <tr>\n      <th>5</th>\n      <td>2022-05-31</td>\n      <td>https://www.amazon.com.br/C%C3%82MERA-GOPRO-HE...</td>\n      <td>AMAZON</td>\n      <td>GRUPO MAVERICK</td>\n      <td>3099.99</td>\n      <td>10</td>\n      <td>309.999</td>\n      <td>30999.90</td>\n      <td>B09LZ9655F</td>\n      <td>CÂMERA GOPRO HERO 8 BLACK - POWER BUND...</td>\n      <td>ERRO</td>\n      <td>NaN</td>\n    </tr>\n    <tr>\n      <th>4</th>\n      <td>2022-05-31</td>\n      <td>https://www.amazon.com.br/C%C3%82MERA-GOPRO-HE...</td>\n      <td>AMAZON</td>\n      <td>GRUPO MAVERICK</td>\n      <td>3099.99</td>\n      <td>10</td>\n      <td>309.999</td>\n      <td>30999.90</td>\n      <td>B09MG3XKZJ</td>\n      <td>CÂMERA GOPRO HERO 8 BLACK – SPECIAL BU...</td>\n      <td>ERRO</td>\n      <td>NaN</td>\n    </tr>\n    <tr>\n      <th>35</th>\n      <td>2022-05-31</td>\n      <td>https://www.amazon.com.br/fengny-Substitui%C3%...</td>\n      <td>AMAZON</td>\n      <td>kokorest</td>\n      <td>183.40</td>\n      <td>6</td>\n      <td>30.600</td>\n      <td>183.60</td>\n      <td>B09ZPB2QW3</td>\n      <td>fengny Substituição de controle remoto...</td>\n      <td>Internacional</td>\n      <td>0.0</td>\n    </tr>\n  </tbody>\n</table>\n</div>"
     },
     "execution_count": 58,
     "metadata": {},
     "output_type": "execute_result"
    }
   ],
   "source": [
    "Df_teste"
   ],
   "metadata": {
    "collapsed": false,
    "pycharm": {
     "name": "#%%\n"
    }
   }
  },
  {
   "cell_type": "code",
   "execution_count": 59,
   "outputs": [
    {
     "data": {
      "text/plain": "           DATE                                                URL  \\\n44   2022-05-31  https://www.amazon.com.br/GoPole-Alcan%C3%A7a-...   \n22   2022-05-31  https://www.amazon.com.br/GoPro-Sistema-HERO3-...   \n14   2022-05-31  https://www.amazon.com.br/GOPOLE-Reach-Mini-ex...   \n62   2022-05-31  https://www.amazon.com.br/transporte-acess%C3%...   \n26   2022-05-31  https://www.amazon.com.br/GoPro-Porta-Lateral-...   \n..          ...                                                ...   \n144  2022-05-31  https://www.amazon.com.br/Dji-Osmo-Pocket-2-Co...   \n145  2022-05-31  https://www.amazon.com.br/Dji-Osmo-Pocket-2-Co...   \n146  2022-05-31  https://www.amazon.com.br/Dji-Osmo-Pocket-2-Co...   \n147  2022-05-31  https://www.amazon.com.br/Dji-Osmo-Pocket-2-Co...   \n148  2022-05-31  https://www.amazon.com.br/C%C3%A2mera-Filmador...   \n\n    MARKETPLACE               SELLER    PRICE  PARCEL  INSTALLMENT  \\\n44       AMAZON               FUNPro   208.40       6       34.750   \n22       AMAZON          LIG Celular    189.9      10       18.990   \n14       AMAZON    Ami Ventures Inc.   1034.0      10      103.400   \n62       AMAZON           wecome2021   158.00       5       31.600   \n26       AMAZON       GRUPO MAVERICK   189.99      10       18.999   \n..          ...                  ...      ...     ...          ...   \n144      AMAZON          BalbinoShop  3899.99      10      389.999   \n145      AMAZON              GearNPC   5000.0      10      500.000   \n146      AMAZON              eFacini   5072.9      10      507.290   \n147      AMAZON  Lucas Lapa PhotoPro   5999.0      10      599.900   \n148      AMAZON    Loja do Filmmaker   5759.0      10      575.900   \n\n     INSTALLMENT_PAYMENT          ID  \\\n44                 208.5  B00B3YFDBS   \n22                1899.0  B00J9RO4U2   \n14               10340.0  B01C397F1C   \n62                 158.0  B01H6OP92G   \n26                1899.9  B01L2CPKOK   \n..                   ...         ...   \n144              38999.9  B08HWCCS6S   \n145              50000.0  B08HWCCS6S   \n146              50729.0  B08HWCCS6S   \n147              59990.0  B08HWCCS6S   \n148              57590.0  B083R4VMMC   \n\n                                               PRODUCT  INTERNACIONAL  MORE  \n44           GoPole Alcança de extensão de 14 a 101...  Internacional   0.0  \n22           GoPro Sistema Dual Hero para HERO3+ (c...           ERRO   NaN  \n14           GOPOLE Reach Mini – Haste de extensão ...           ERRO   NaN  \n62           Estojo de transporte para GoPro Hero(2...  Internacional   0.0  \n26           Porta Lateral de Reposição para Hero6,...           ERRO   NaN  \n..                                                 ...            ...   ...  \n144                     Dji Osmo Pocket 2 Combo                  ERRO   NaN  \n145                     Dji Osmo Pocket 2 Combo                  ERRO   NaN  \n146                     Dji Osmo Pocket 2 Combo                  ERRO   NaN  \n147                     Dji Osmo Pocket 2 Combo                  ERRO   NaN  \n148          Câmera de ação Insta360 One R Edição T...           ERRO   NaN  \n\n[191 rows x 12 columns]",
      "text/html": "<div>\n<style scoped>\n    .dataframe tbody tr th:only-of-type {\n        vertical-align: middle;\n    }\n\n    .dataframe tbody tr th {\n        vertical-align: top;\n    }\n\n    .dataframe thead th {\n        text-align: right;\n    }\n</style>\n<table border=\"1\" class=\"dataframe\">\n  <thead>\n    <tr style=\"text-align: right;\">\n      <th></th>\n      <th>DATE</th>\n      <th>URL</th>\n      <th>MARKETPLACE</th>\n      <th>SELLER</th>\n      <th>PRICE</th>\n      <th>PARCEL</th>\n      <th>INSTALLMENT</th>\n      <th>INSTALLMENT_PAYMENT</th>\n      <th>ID</th>\n      <th>PRODUCT</th>\n      <th>INTERNACIONAL</th>\n      <th>MORE</th>\n    </tr>\n  </thead>\n  <tbody>\n    <tr>\n      <th>44</th>\n      <td>2022-05-31</td>\n      <td>https://www.amazon.com.br/GoPole-Alcan%C3%A7a-...</td>\n      <td>AMAZON</td>\n      <td>FUNPro</td>\n      <td>208.40</td>\n      <td>6</td>\n      <td>34.750</td>\n      <td>208.5</td>\n      <td>B00B3YFDBS</td>\n      <td>GoPole Alcança de extensão de 14 a 101...</td>\n      <td>Internacional</td>\n      <td>0.0</td>\n    </tr>\n    <tr>\n      <th>22</th>\n      <td>2022-05-31</td>\n      <td>https://www.amazon.com.br/GoPro-Sistema-HERO3-...</td>\n      <td>AMAZON</td>\n      <td>LIG Celular</td>\n      <td>189.9</td>\n      <td>10</td>\n      <td>18.990</td>\n      <td>1899.0</td>\n      <td>B00J9RO4U2</td>\n      <td>GoPro Sistema Dual Hero para HERO3+ (c...</td>\n      <td>ERRO</td>\n      <td>NaN</td>\n    </tr>\n    <tr>\n      <th>14</th>\n      <td>2022-05-31</td>\n      <td>https://www.amazon.com.br/GOPOLE-Reach-Mini-ex...</td>\n      <td>AMAZON</td>\n      <td>Ami Ventures Inc.</td>\n      <td>1034.0</td>\n      <td>10</td>\n      <td>103.400</td>\n      <td>10340.0</td>\n      <td>B01C397F1C</td>\n      <td>GOPOLE Reach Mini – Haste de extensão ...</td>\n      <td>ERRO</td>\n      <td>NaN</td>\n    </tr>\n    <tr>\n      <th>62</th>\n      <td>2022-05-31</td>\n      <td>https://www.amazon.com.br/transporte-acess%C3%...</td>\n      <td>AMAZON</td>\n      <td>wecome2021</td>\n      <td>158.00</td>\n      <td>5</td>\n      <td>31.600</td>\n      <td>158.0</td>\n      <td>B01H6OP92G</td>\n      <td>Estojo de transporte para GoPro Hero(2...</td>\n      <td>Internacional</td>\n      <td>0.0</td>\n    </tr>\n    <tr>\n      <th>26</th>\n      <td>2022-05-31</td>\n      <td>https://www.amazon.com.br/GoPro-Porta-Lateral-...</td>\n      <td>AMAZON</td>\n      <td>GRUPO MAVERICK</td>\n      <td>189.99</td>\n      <td>10</td>\n      <td>18.999</td>\n      <td>1899.9</td>\n      <td>B01L2CPKOK</td>\n      <td>Porta Lateral de Reposição para Hero6,...</td>\n      <td>ERRO</td>\n      <td>NaN</td>\n    </tr>\n    <tr>\n      <th>...</th>\n      <td>...</td>\n      <td>...</td>\n      <td>...</td>\n      <td>...</td>\n      <td>...</td>\n      <td>...</td>\n      <td>...</td>\n      <td>...</td>\n      <td>...</td>\n      <td>...</td>\n      <td>...</td>\n      <td>...</td>\n    </tr>\n    <tr>\n      <th>144</th>\n      <td>2022-05-31</td>\n      <td>https://www.amazon.com.br/Dji-Osmo-Pocket-2-Co...</td>\n      <td>AMAZON</td>\n      <td>BalbinoShop</td>\n      <td>3899.99</td>\n      <td>10</td>\n      <td>389.999</td>\n      <td>38999.9</td>\n      <td>B08HWCCS6S</td>\n      <td>Dji Osmo Pocket 2 Combo</td>\n      <td>ERRO</td>\n      <td>NaN</td>\n    </tr>\n    <tr>\n      <th>145</th>\n      <td>2022-05-31</td>\n      <td>https://www.amazon.com.br/Dji-Osmo-Pocket-2-Co...</td>\n      <td>AMAZON</td>\n      <td>GearNPC</td>\n      <td>5000.0</td>\n      <td>10</td>\n      <td>500.000</td>\n      <td>50000.0</td>\n      <td>B08HWCCS6S</td>\n      <td>Dji Osmo Pocket 2 Combo</td>\n      <td>ERRO</td>\n      <td>NaN</td>\n    </tr>\n    <tr>\n      <th>146</th>\n      <td>2022-05-31</td>\n      <td>https://www.amazon.com.br/Dji-Osmo-Pocket-2-Co...</td>\n      <td>AMAZON</td>\n      <td>eFacini</td>\n      <td>5072.9</td>\n      <td>10</td>\n      <td>507.290</td>\n      <td>50729.0</td>\n      <td>B08HWCCS6S</td>\n      <td>Dji Osmo Pocket 2 Combo</td>\n      <td>ERRO</td>\n      <td>NaN</td>\n    </tr>\n    <tr>\n      <th>147</th>\n      <td>2022-05-31</td>\n      <td>https://www.amazon.com.br/Dji-Osmo-Pocket-2-Co...</td>\n      <td>AMAZON</td>\n      <td>Lucas Lapa PhotoPro</td>\n      <td>5999.0</td>\n      <td>10</td>\n      <td>599.900</td>\n      <td>59990.0</td>\n      <td>B08HWCCS6S</td>\n      <td>Dji Osmo Pocket 2 Combo</td>\n      <td>ERRO</td>\n      <td>NaN</td>\n    </tr>\n    <tr>\n      <th>148</th>\n      <td>2022-05-31</td>\n      <td>https://www.amazon.com.br/C%C3%A2mera-Filmador...</td>\n      <td>AMAZON</td>\n      <td>Loja do Filmmaker</td>\n      <td>5759.0</td>\n      <td>10</td>\n      <td>575.900</td>\n      <td>57590.0</td>\n      <td>B083R4VMMC</td>\n      <td>Câmera de ação Insta360 One R Edição T...</td>\n      <td>ERRO</td>\n      <td>NaN</td>\n    </tr>\n  </tbody>\n</table>\n<p>191 rows × 12 columns</p>\n</div>"
     },
     "execution_count": 59,
     "metadata": {},
     "output_type": "execute_result"
    }
   ],
   "source": [
    "Df_final_mesmo = pd.concat([Df_teste, Dataframe_More])\n",
    "Df_final_mesmo"
   ],
   "metadata": {
    "collapsed": false,
    "pycharm": {
     "name": "#%%\n"
    }
   }
  },
  {
   "cell_type": "code",
   "execution_count": 60,
   "outputs": [],
   "source": [
    "Df_final_mesmo.to_excel(r\"C:\\Users\\pedro\\Documents\\Turte Brand Protection\\AMAZON_FINAL_GOPRO.xlsx\", index=False)"
   ],
   "metadata": {
    "collapsed": false,
    "pycharm": {
     "name": "#%%\n"
    }
   }
  },
  {
   "cell_type": "code",
   "execution_count": 105,
   "outputs": [
    {
     "ename": "ValueError",
     "evalue": "Can only compare identically-labeled Series objects",
     "output_type": "error",
     "traceback": [
      "\u001B[1;31m---------------------------------------------------------------------------\u001B[0m",
      "\u001B[1;31mValueError\u001B[0m                                Traceback (most recent call last)",
      "Input \u001B[1;32mIn [105]\u001B[0m, in \u001B[0;36m<cell line: 2>\u001B[1;34m()\u001B[0m\n\u001B[0;32m      1\u001B[0m Dataframe_More[\u001B[38;5;124m'\u001B[39m\u001B[38;5;124mDATE\u001B[39m\u001B[38;5;124m'\u001B[39m] \u001B[38;5;241m=\u001B[39m pd\u001B[38;5;241m.\u001B[39mto_datetime(\u001B[38;5;124m'\u001B[39m\u001B[38;5;124mtoday\u001B[39m\u001B[38;5;124m'\u001B[39m, errors\u001B[38;5;241m=\u001B[39m\u001B[38;5;124m'\u001B[39m\u001B[38;5;124mignore\u001B[39m\u001B[38;5;124m'\u001B[39m)\u001B[38;5;241m.\u001B[39mdate()\n\u001B[1;32m----> 2\u001B[0m Dataframe_More[\u001B[38;5;124m'\u001B[39m\u001B[38;5;124mURL\u001B[39m\u001B[38;5;124m'\u001B[39m] \u001B[38;5;241m=\u001B[39m [Df_final\u001B[38;5;241m.\u001B[39mloc[\u001B[43mDf_final\u001B[49m\u001B[43m[\u001B[49m\u001B[38;5;124;43m'\u001B[39;49m\u001B[38;5;124;43mID\u001B[39;49m\u001B[38;5;124;43m'\u001B[39;49m\u001B[43m]\u001B[49m\u001B[43m \u001B[49m\u001B[38;5;241;43m==\u001B[39;49m\u001B[43m \u001B[49m\u001B[43mDataframe_More\u001B[49m\u001B[43m[\u001B[49m\u001B[38;5;124;43m'\u001B[39;49m\u001B[38;5;124;43mID\u001B[39;49m\u001B[38;5;124;43m'\u001B[39;49m\u001B[43m]\u001B[49m, \u001B[38;5;124m'\u001B[39m\u001B[38;5;124mURL\u001B[39m\u001B[38;5;124m'\u001B[39m]]\n",
      "File \u001B[1;32m~\\AppData\\Local\\Programs\\Python\\Python310\\lib\\site-packages\\pandas\\core\\ops\\common.py:70\u001B[0m, in \u001B[0;36m_unpack_zerodim_and_defer.<locals>.new_method\u001B[1;34m(self, other)\u001B[0m\n\u001B[0;32m     66\u001B[0m             \u001B[38;5;28;01mreturn\u001B[39;00m \u001B[38;5;28mNotImplemented\u001B[39m\n\u001B[0;32m     68\u001B[0m other \u001B[38;5;241m=\u001B[39m item_from_zerodim(other)\n\u001B[1;32m---> 70\u001B[0m \u001B[38;5;28;01mreturn\u001B[39;00m \u001B[43mmethod\u001B[49m\u001B[43m(\u001B[49m\u001B[38;5;28;43mself\u001B[39;49m\u001B[43m,\u001B[49m\u001B[43m \u001B[49m\u001B[43mother\u001B[49m\u001B[43m)\u001B[49m\n",
      "File \u001B[1;32m~\\AppData\\Local\\Programs\\Python\\Python310\\lib\\site-packages\\pandas\\core\\arraylike.py:40\u001B[0m, in \u001B[0;36mOpsMixin.__eq__\u001B[1;34m(self, other)\u001B[0m\n\u001B[0;32m     38\u001B[0m \u001B[38;5;129m@unpack_zerodim_and_defer\u001B[39m(\u001B[38;5;124m\"\u001B[39m\u001B[38;5;124m__eq__\u001B[39m\u001B[38;5;124m\"\u001B[39m)\n\u001B[0;32m     39\u001B[0m \u001B[38;5;28;01mdef\u001B[39;00m \u001B[38;5;21m__eq__\u001B[39m(\u001B[38;5;28mself\u001B[39m, other):\n\u001B[1;32m---> 40\u001B[0m     \u001B[38;5;28;01mreturn\u001B[39;00m \u001B[38;5;28;43mself\u001B[39;49m\u001B[38;5;241;43m.\u001B[39;49m\u001B[43m_cmp_method\u001B[49m\u001B[43m(\u001B[49m\u001B[43mother\u001B[49m\u001B[43m,\u001B[49m\u001B[43m \u001B[49m\u001B[43moperator\u001B[49m\u001B[38;5;241;43m.\u001B[39;49m\u001B[43meq\u001B[49m\u001B[43m)\u001B[49m\n",
      "File \u001B[1;32m~\\AppData\\Local\\Programs\\Python\\Python310\\lib\\site-packages\\pandas\\core\\series.py:5617\u001B[0m, in \u001B[0;36mSeries._cmp_method\u001B[1;34m(self, other, op)\u001B[0m\n\u001B[0;32m   5614\u001B[0m res_name \u001B[38;5;241m=\u001B[39m ops\u001B[38;5;241m.\u001B[39mget_op_result_name(\u001B[38;5;28mself\u001B[39m, other)\n\u001B[0;32m   5616\u001B[0m \u001B[38;5;28;01mif\u001B[39;00m \u001B[38;5;28misinstance\u001B[39m(other, Series) \u001B[38;5;129;01mand\u001B[39;00m \u001B[38;5;129;01mnot\u001B[39;00m \u001B[38;5;28mself\u001B[39m\u001B[38;5;241m.\u001B[39m_indexed_same(other):\n\u001B[1;32m-> 5617\u001B[0m     \u001B[38;5;28;01mraise\u001B[39;00m \u001B[38;5;167;01mValueError\u001B[39;00m(\u001B[38;5;124m\"\u001B[39m\u001B[38;5;124mCan only compare identically-labeled Series objects\u001B[39m\u001B[38;5;124m\"\u001B[39m)\n\u001B[0;32m   5619\u001B[0m lvalues \u001B[38;5;241m=\u001B[39m \u001B[38;5;28mself\u001B[39m\u001B[38;5;241m.\u001B[39m_values\n\u001B[0;32m   5620\u001B[0m rvalues \u001B[38;5;241m=\u001B[39m extract_array(other, extract_numpy\u001B[38;5;241m=\u001B[39m\u001B[38;5;28;01mTrue\u001B[39;00m, extract_range\u001B[38;5;241m=\u001B[39m\u001B[38;5;28;01mTrue\u001B[39;00m)\n",
      "\u001B[1;31mValueError\u001B[0m: Can only compare identically-labeled Series objects"
     ]
    }
   ],
   "source": [
    "Dataframe_More['DATE'] = pd.to_datetime('today', errors='ignore').date()\n",
    "#Dataframe_More['URL'] = [Df_final.loc[Df_final['ID'] == Dataframe_More['ID'], 'URL']]"
   ],
   "metadata": {
    "collapsed": false,
    "pycharm": {
     "name": "#%%\n"
    }
   }
  },
  {
   "cell_type": "code",
   "execution_count": 117,
   "outputs": [
    {
     "data": {
      "text/plain": "            ID                      Seller        Price        DATE  \\\n0   B07WSRXMS8                LIVE IMPORTS  R$ 2.299,00  2022-05-21   \n1   B07WSRXMS8                 King Pro St  R$ 2.289,00  2022-05-21   \n2   B07WSRXMS8              GRUPO MAVERICK  R$ 2.599,00  2022-05-21   \n3   B09D15SFMQ                LIVE IMPORTS  R$ 3.207,25  2022-05-21   \n4   B09D15SFMQ                 King Pro St  R$ 3.219,00  2022-05-21   \n5   B09D15SFMQ              GRUPO MAVERICK  R$ 4.299,99  2022-05-21   \n6   B09D15SFMQ                     MeuDome  R$ 4.799,00  2022-05-21   \n7   B08R2XCM9K                  EOS IMPORT  R$ 2.999,00  2022-05-21   \n8   B08KXN6BNH                 King Pro St  R$ 2.599,00  2022-05-21   \n9   B08KXN6BNH                 King Pro St  R$ 2.739,00  2022-05-21   \n10  B08KXN6BNH              GRUPO MAVERICK  R$ 3.399,99  2022-05-21   \n11  B08ZSVP9T7                  EOS IMPORT  R$ 2.599,00  2022-05-21   \n12  B08ZSVP9T7                LIVE IMPORTS  R$ 2.599,00  2022-05-21   \n13  B08ZSVP9T7                LIVE IMPORTS  R$ 2.599,00  2022-05-21   \n14  B08ZSVP9T7              GRUPO MAVERICK  R$ 3.199,99  2022-05-21   \n15  B07RJMK2GV                    QanHorse  R$ 1.983,00  2022-05-21   \n16  B07RJMK2GV   Xalo Comercio de Produtos  R$ 2.420,00  2022-05-21   \n17  B07RJMK2GV                     BC INFO  R$ 2.712,67  2022-05-21   \n18  B07RJMK2GV     Bits & Bytes Tecnologia  R$ 2.851,27  2022-05-21   \n19  B07RJMK2GV              Elefante Store  R$ 3.605,23  2022-05-21   \n20  B07RJMK2GV           DigitalShoppStore  R$ 4.100,00  2022-05-21   \n\n                                                  URL  \n0   https://www.amazon.com.br/Gopro-Black-prova-D%...  \n1   https://www.amazon.com.br/GoPro-Frontal-HyperS...  \n2   https://www.amazon.com.br/C%C3%A2mera-GoPro-HE...  \n3   https://www.amazon.com.br/C%C3%A2mera-Cart%C3%...  \n4   https://www.amazon.com.br/C%C3%A2mera-GoPro-Fr...  \n5   https://www.amazon.com.br/C%C3%82MERA-GOPRO-BL...  \n6   https://www.amazon.com.br/C%C3%A2mera-Digital-...  \n7   https://www.amazon.com.br/Camera-DJI-Osmo-Acti...  \n8                                                 NaN  \n9                                                 NaN  \n10                                                NaN  \n11                                                NaN  \n12                                                NaN  \n13                                                NaN  \n14                                                NaN  \n15                                                NaN  \n16                                                NaN  \n17                                                NaN  \n18                                                NaN  \n19                                                NaN  \n20                                                NaN  ",
      "text/html": "<div>\n<style scoped>\n    .dataframe tbody tr th:only-of-type {\n        vertical-align: middle;\n    }\n\n    .dataframe tbody tr th {\n        vertical-align: top;\n    }\n\n    .dataframe thead th {\n        text-align: right;\n    }\n</style>\n<table border=\"1\" class=\"dataframe\">\n  <thead>\n    <tr style=\"text-align: right;\">\n      <th></th>\n      <th>ID</th>\n      <th>Seller</th>\n      <th>Price</th>\n      <th>DATE</th>\n      <th>URL</th>\n    </tr>\n  </thead>\n  <tbody>\n    <tr>\n      <th>0</th>\n      <td>B07WSRXMS8</td>\n      <td>LIVE IMPORTS</td>\n      <td>R$ 2.299,00</td>\n      <td>2022-05-21</td>\n      <td>https://www.amazon.com.br/Gopro-Black-prova-D%...</td>\n    </tr>\n    <tr>\n      <th>1</th>\n      <td>B07WSRXMS8</td>\n      <td>King Pro St</td>\n      <td>R$ 2.289,00</td>\n      <td>2022-05-21</td>\n      <td>https://www.amazon.com.br/GoPro-Frontal-HyperS...</td>\n    </tr>\n    <tr>\n      <th>2</th>\n      <td>B07WSRXMS8</td>\n      <td>GRUPO MAVERICK</td>\n      <td>R$ 2.599,00</td>\n      <td>2022-05-21</td>\n      <td>https://www.amazon.com.br/C%C3%A2mera-GoPro-HE...</td>\n    </tr>\n    <tr>\n      <th>3</th>\n      <td>B09D15SFMQ</td>\n      <td>LIVE IMPORTS</td>\n      <td>R$ 3.207,25</td>\n      <td>2022-05-21</td>\n      <td>https://www.amazon.com.br/C%C3%A2mera-Cart%C3%...</td>\n    </tr>\n    <tr>\n      <th>4</th>\n      <td>B09D15SFMQ</td>\n      <td>King Pro St</td>\n      <td>R$ 3.219,00</td>\n      <td>2022-05-21</td>\n      <td>https://www.amazon.com.br/C%C3%A2mera-GoPro-Fr...</td>\n    </tr>\n    <tr>\n      <th>5</th>\n      <td>B09D15SFMQ</td>\n      <td>GRUPO MAVERICK</td>\n      <td>R$ 4.299,99</td>\n      <td>2022-05-21</td>\n      <td>https://www.amazon.com.br/C%C3%82MERA-GOPRO-BL...</td>\n    </tr>\n    <tr>\n      <th>6</th>\n      <td>B09D15SFMQ</td>\n      <td>MeuDome</td>\n      <td>R$ 4.799,00</td>\n      <td>2022-05-21</td>\n      <td>https://www.amazon.com.br/C%C3%A2mera-Digital-...</td>\n    </tr>\n    <tr>\n      <th>7</th>\n      <td>B08R2XCM9K</td>\n      <td>EOS IMPORT</td>\n      <td>R$ 2.999,00</td>\n      <td>2022-05-21</td>\n      <td>https://www.amazon.com.br/Camera-DJI-Osmo-Acti...</td>\n    </tr>\n    <tr>\n      <th>8</th>\n      <td>B08KXN6BNH</td>\n      <td>King Pro St</td>\n      <td>R$ 2.599,00</td>\n      <td>2022-05-21</td>\n      <td>NaN</td>\n    </tr>\n    <tr>\n      <th>9</th>\n      <td>B08KXN6BNH</td>\n      <td>King Pro St</td>\n      <td>R$ 2.739,00</td>\n      <td>2022-05-21</td>\n      <td>NaN</td>\n    </tr>\n    <tr>\n      <th>10</th>\n      <td>B08KXN6BNH</td>\n      <td>GRUPO MAVERICK</td>\n      <td>R$ 3.399,99</td>\n      <td>2022-05-21</td>\n      <td>NaN</td>\n    </tr>\n    <tr>\n      <th>11</th>\n      <td>B08ZSVP9T7</td>\n      <td>EOS IMPORT</td>\n      <td>R$ 2.599,00</td>\n      <td>2022-05-21</td>\n      <td>NaN</td>\n    </tr>\n    <tr>\n      <th>12</th>\n      <td>B08ZSVP9T7</td>\n      <td>LIVE IMPORTS</td>\n      <td>R$ 2.599,00</td>\n      <td>2022-05-21</td>\n      <td>NaN</td>\n    </tr>\n    <tr>\n      <th>13</th>\n      <td>B08ZSVP9T7</td>\n      <td>LIVE IMPORTS</td>\n      <td>R$ 2.599,00</td>\n      <td>2022-05-21</td>\n      <td>NaN</td>\n    </tr>\n    <tr>\n      <th>14</th>\n      <td>B08ZSVP9T7</td>\n      <td>GRUPO MAVERICK</td>\n      <td>R$ 3.199,99</td>\n      <td>2022-05-21</td>\n      <td>NaN</td>\n    </tr>\n    <tr>\n      <th>15</th>\n      <td>B07RJMK2GV</td>\n      <td>QanHorse</td>\n      <td>R$ 1.983,00</td>\n      <td>2022-05-21</td>\n      <td>NaN</td>\n    </tr>\n    <tr>\n      <th>16</th>\n      <td>B07RJMK2GV</td>\n      <td>Xalo Comercio de Produtos</td>\n      <td>R$ 2.420,00</td>\n      <td>2022-05-21</td>\n      <td>NaN</td>\n    </tr>\n    <tr>\n      <th>17</th>\n      <td>B07RJMK2GV</td>\n      <td>BC INFO</td>\n      <td>R$ 2.712,67</td>\n      <td>2022-05-21</td>\n      <td>NaN</td>\n    </tr>\n    <tr>\n      <th>18</th>\n      <td>B07RJMK2GV</td>\n      <td>Bits &amp; Bytes Tecnologia</td>\n      <td>R$ 2.851,27</td>\n      <td>2022-05-21</td>\n      <td>NaN</td>\n    </tr>\n    <tr>\n      <th>19</th>\n      <td>B07RJMK2GV</td>\n      <td>Elefante Store</td>\n      <td>R$ 3.605,23</td>\n      <td>2022-05-21</td>\n      <td>NaN</td>\n    </tr>\n    <tr>\n      <th>20</th>\n      <td>B07RJMK2GV</td>\n      <td>DigitalShoppStore</td>\n      <td>R$ 4.100,00</td>\n      <td>2022-05-21</td>\n      <td>NaN</td>\n    </tr>\n  </tbody>\n</table>\n</div>"
     },
     "execution_count": 117,
     "metadata": {},
     "output_type": "execute_result"
    }
   ],
   "source": [
    "Dataframe_More"
   ],
   "metadata": {
    "collapsed": false,
    "pycharm": {
     "name": "#%%\n"
    }
   }
  },
  {
   "cell_type": "code",
   "execution_count": 63,
   "outputs": [
    {
     "data": {
      "text/plain": "         DATE                                                URL MARKETPLACE  \\\n0  2022-05-21  https://www.amazon.com.br/Gopro-Black-prova-D%...      AMAZON   \n1  2022-05-21  https://www.amazon.com.br/GoPro-Frontal-HyperS...      AMAZON   \n2  2022-05-21  https://www.amazon.com.br/C%C3%A2mera-GoPro-HE...      AMAZON   \n3  2022-05-21  https://www.amazon.com.br/C%C3%A2mera-Cart%C3%...      AMAZON   \n4  2022-05-21  https://www.amazon.com.br/C%C3%A2mera-GoPro-Fr...      AMAZON   \n5  2022-05-21  https://www.amazon.com.br/C%C3%82MERA-GOPRO-BL...      AMAZON   \n6  2022-05-21  https://www.amazon.com.br/C%C3%A2mera-Digital-...      AMAZON   \n7  2022-05-21  https://www.amazon.com.br/Camera-DJI-Osmo-Acti...      AMAZON   \n\n       SELLER    PRICE  PARCEL  INSTALLMENT  INSTALLMENT_PAYMENT          ID  \\\n0  EOS IMPORT  2299.00      10       229.90               2299.0  B07WSRXMS8   \n1  EOS IMPORT  3207.25      10       320.77               3207.7  B09D15SFMQ   \n2      Amazon  4688.20      10       468.82               4688.2  B093JKGDJZ   \n3  EOS IMPORT  3000.00      10       300.00               3000.0  B08R2XCM9K   \n4  EOS IMPORT  2540.73      10       254.10               2541.0  B08KXN6BNH   \n5  EOS IMPORT  2599.00      10       259.90               2599.0  B08ZSVP9T7   \n6  EOS IMPORT  3799.00      10       379.90               3799.0  B087ZP2GW4   \n7  HuaYe Tech  1982.90      10       198.29               1982.9  B07RJMK2GV   \n\n                                             PRODUCT  INTERNACIONAL  \n0          Gopro Hero 8 Black 4k à prova D'água C...  Internacional  \n1          Câmera GoPro HERO10 Black à Prova com ...  Internacional  \n2          Câmera GoPro HERO9 Black - Kit Trip Pr...  Internacional  \n3          Câmera GoPro HERO9 Black à Prova D'águ...  Internacional  \n4          Câmera GoPro HERO9 Black à Prova D'águ...  Internacional  \n5          CÂMERA GOPRO HERO 8 BLACK ESSENCIAL BU...  Internacional  \n6          Câmera Digital GoPro Max 360o - CHDHZ-...  Internacional  \n7          Camera DJI Osmo Action 4K Sensor CMOS ...  Internacional  ",
      "text/html": "<div>\n<style scoped>\n    .dataframe tbody tr th:only-of-type {\n        vertical-align: middle;\n    }\n\n    .dataframe tbody tr th {\n        vertical-align: top;\n    }\n\n    .dataframe thead th {\n        text-align: right;\n    }\n</style>\n<table border=\"1\" class=\"dataframe\">\n  <thead>\n    <tr style=\"text-align: right;\">\n      <th></th>\n      <th>DATE</th>\n      <th>URL</th>\n      <th>MARKETPLACE</th>\n      <th>SELLER</th>\n      <th>PRICE</th>\n      <th>PARCEL</th>\n      <th>INSTALLMENT</th>\n      <th>INSTALLMENT_PAYMENT</th>\n      <th>ID</th>\n      <th>PRODUCT</th>\n      <th>INTERNACIONAL</th>\n    </tr>\n  </thead>\n  <tbody>\n    <tr>\n      <th>0</th>\n      <td>2022-05-21</td>\n      <td>https://www.amazon.com.br/Gopro-Black-prova-D%...</td>\n      <td>AMAZON</td>\n      <td>EOS IMPORT</td>\n      <td>2299.00</td>\n      <td>10</td>\n      <td>229.90</td>\n      <td>2299.0</td>\n      <td>B07WSRXMS8</td>\n      <td>Gopro Hero 8 Black 4k à prova D'água C...</td>\n      <td>Internacional</td>\n    </tr>\n    <tr>\n      <th>1</th>\n      <td>2022-05-21</td>\n      <td>https://www.amazon.com.br/GoPro-Frontal-HyperS...</td>\n      <td>AMAZON</td>\n      <td>EOS IMPORT</td>\n      <td>3207.25</td>\n      <td>10</td>\n      <td>320.77</td>\n      <td>3207.7</td>\n      <td>B09D15SFMQ</td>\n      <td>Câmera GoPro HERO10 Black à Prova com ...</td>\n      <td>Internacional</td>\n    </tr>\n    <tr>\n      <th>2</th>\n      <td>2022-05-21</td>\n      <td>https://www.amazon.com.br/C%C3%A2mera-GoPro-HE...</td>\n      <td>AMAZON</td>\n      <td>Amazon</td>\n      <td>4688.20</td>\n      <td>10</td>\n      <td>468.82</td>\n      <td>4688.2</td>\n      <td>B093JKGDJZ</td>\n      <td>Câmera GoPro HERO9 Black - Kit Trip Pr...</td>\n      <td>Internacional</td>\n    </tr>\n    <tr>\n      <th>3</th>\n      <td>2022-05-21</td>\n      <td>https://www.amazon.com.br/C%C3%A2mera-Cart%C3%...</td>\n      <td>AMAZON</td>\n      <td>EOS IMPORT</td>\n      <td>3000.00</td>\n      <td>10</td>\n      <td>300.00</td>\n      <td>3000.0</td>\n      <td>B08R2XCM9K</td>\n      <td>Câmera GoPro HERO9 Black à Prova D'águ...</td>\n      <td>Internacional</td>\n    </tr>\n    <tr>\n      <th>4</th>\n      <td>2022-05-21</td>\n      <td>https://www.amazon.com.br/C%C3%A2mera-GoPro-Fr...</td>\n      <td>AMAZON</td>\n      <td>EOS IMPORT</td>\n      <td>2540.73</td>\n      <td>10</td>\n      <td>254.10</td>\n      <td>2541.0</td>\n      <td>B08KXN6BNH</td>\n      <td>Câmera GoPro HERO9 Black à Prova D'águ...</td>\n      <td>Internacional</td>\n    </tr>\n    <tr>\n      <th>5</th>\n      <td>2022-05-21</td>\n      <td>https://www.amazon.com.br/C%C3%82MERA-GOPRO-BL...</td>\n      <td>AMAZON</td>\n      <td>EOS IMPORT</td>\n      <td>2599.00</td>\n      <td>10</td>\n      <td>259.90</td>\n      <td>2599.0</td>\n      <td>B08ZSVP9T7</td>\n      <td>CÂMERA GOPRO HERO 8 BLACK ESSENCIAL BU...</td>\n      <td>Internacional</td>\n    </tr>\n    <tr>\n      <th>6</th>\n      <td>2022-05-21</td>\n      <td>https://www.amazon.com.br/C%C3%A2mera-Digital-...</td>\n      <td>AMAZON</td>\n      <td>EOS IMPORT</td>\n      <td>3799.00</td>\n      <td>10</td>\n      <td>379.90</td>\n      <td>3799.0</td>\n      <td>B087ZP2GW4</td>\n      <td>Câmera Digital GoPro Max 360o - CHDHZ-...</td>\n      <td>Internacional</td>\n    </tr>\n    <tr>\n      <th>7</th>\n      <td>2022-05-21</td>\n      <td>https://www.amazon.com.br/Camera-DJI-Osmo-Acti...</td>\n      <td>AMAZON</td>\n      <td>HuaYe Tech</td>\n      <td>1982.90</td>\n      <td>10</td>\n      <td>198.29</td>\n      <td>1982.9</td>\n      <td>B07RJMK2GV</td>\n      <td>Camera DJI Osmo Action 4K Sensor CMOS ...</td>\n      <td>Internacional</td>\n    </tr>\n  </tbody>\n</table>\n</div>"
     },
     "execution_count": 63,
     "metadata": {},
     "output_type": "execute_result"
    }
   ],
   "source": [
    "#Df_final = Df_final.drop(columns=['MORE'])\n",
    "Df_final"
   ],
   "metadata": {
    "collapsed": false,
    "pycharm": {
     "name": "#%%\n"
    }
   }
  },
  {
   "cell_type": "code",
   "execution_count": null,
   "outputs": [],
   "source": [],
   "metadata": {
    "collapsed": false,
    "pycharm": {
     "name": "#%%\n"
    }
   }
  },
  {
   "cell_type": "code",
   "execution_count": 39,
   "metadata": {
    "pycharm": {
     "name": "#%%\n"
    }
   },
   "outputs": [],
   "source": [
    "Df_teste.to_excel(r\"C:\\Users\\pedro\\Documents\\Turte Brand Protection\\Turtle_Thinker_Alpha_0.1\\Motorola_Amazon.xlsx\", index=False)"
   ]
  },
  {
   "cell_type": "code",
   "execution_count": 33,
   "metadata": {
    "pycharm": {
     "name": "#%%\n"
    }
   },
   "outputs": [
    {
     "name": "stdout",
     "output_type": "stream",
     "text": [
      "187\n"
     ]
    }
   ],
   "source": [
    "Amazon_seller_more =  [s for s in Amazon_seller_more if len(s) > 1]\n",
    "print(len(Amazon_seller_more))"
   ]
  },
  {
   "cell_type": "code",
   "execution_count": 39,
   "metadata": {
    "pycharm": {
     "name": "#%%\n"
    }
   },
   "outputs": [
    {
     "name": "stdout",
     "output_type": "stream",
     "text": [
      "0\n"
     ]
    }
   ],
   "source": [
    "Amazon_seller_more =  [s for s in Amazon_seller_more if not 'Política de devolução' in s]\n",
    "Amazon_seller_more =  [s for s in Amazon_seller_more if not 'Apagar tudo' in s]\n",
    "\n",
    "print(len(Amazon_seller_more))"
   ]
  },
  {
   "cell_type": "code",
   "execution_count": null,
   "metadata": {
    "pycharm": {
     "name": "#%%\n"
    }
   },
   "outputs": [],
   "source": []
  },
  {
   "cell_type": "code",
   "execution_count": 37,
   "metadata": {
    "pycharm": {
     "name": "#%%\n"
    }
   },
   "outputs": [
    {
     "data": {
      "text/plain": [
       "[' Tudo à Beça',\n",
       " 'Política de devolução',\n",
       " ' Gigantec',\n",
       " 'Política de devolução',\n",
       " ' INFOSHOP.',\n",
       " 'Política de devolução',\n",
       " ' Thaun Shop',\n",
       " 'Política de devolução',\n",
       " ' Tendinfo',\n",
       " 'Política de devolução',\n",
       " ' Triplenet Pricing INC',\n",
       " 'Política de devolução',\n",
       " '',\n",
       " 'Apagar tudo',\n",
       " ' O MUNDO PARA VOCÊ',\n",
       " 'Política de devolução',\n",
       " ' ZAPATA STORE SP',\n",
       " 'Política de devolução',\n",
       " ' OFICINA DOS BITS',\n",
       " 'Política de devolução',\n",
       " ' Syma Solutions',\n",
       " 'Política de devolução',\n",
       " ' Conect Magazine',\n",
       " 'Política de devolução',\n",
       " ' IBYTE',\n",
       " 'Política de devolução',\n",
       " ' Triplenet Pricing INC',\n",
       " 'Política de devolução',\n",
       " ' Triplenet Pricing INC',\n",
       " 'Política de devolução',\n",
       " ' MAGIC WORLD ELETRONICOS',\n",
       " 'Política de devolução',\n",
       " ' REX INFORMATICA',\n",
       " 'Política de devolução',\n",
       " ' Tudo à Beça',\n",
       " 'Política de devolução',\n",
       " ' W-TECH IMPORTS',\n",
       " 'Política de devolução',\n",
       " ' Kadri Tecnologia',\n",
       " 'Política de devolução',\n",
       " ' E-SPOT',\n",
       " 'Política de devolução',\n",
       " ' Tendinfo',\n",
       " 'Política de devolução',\n",
       " '',\n",
       " 'Apagar tudo',\n",
       " ' Mil Coisas Drop',\n",
       " 'Política de devolução',\n",
       " ' Mil Coisas droship',\n",
       " 'Política de devolução',\n",
       " 'Política de devolução ',\n",
       " ' BalbinoShop',\n",
       " 'Política de devolução',\n",
       " ' Loja iPlace',\n",
       " 'Política de devolução',\n",
       " ' E-SPOT',\n",
       " 'Política de devolução',\n",
       " ' W-TECH IMPORTS',\n",
       " 'Política de devolução',\n",
       " ' Tendinfo',\n",
       " 'Política de devolução',\n",
       " '',\n",
       " 'Apagar tudo',\n",
       " ' Triplenet Pricing INC',\n",
       " 'Política de devolução',\n",
       " ' DONA JUREMA BOUTIK',\n",
       " 'Política de devolução',\n",
       " ' E-SPOT',\n",
       " 'Política de devolução',\n",
       " ' Triplenet Pricing INC',\n",
       " 'Política de devolução',\n",
       " '',\n",
       " 'Apagar tudo',\n",
       " 'Política de devolução ',\n",
       " ' Tendinfo',\n",
       " 'Política de devolução',\n",
       " ' Megaprice Comercio',\n",
       " 'Política de devolução',\n",
       " ' O MUNDO PARA VOCÊ',\n",
       " 'Política de devolução',\n",
       " ' Mil Coisas droship',\n",
       " 'Política de devolução',\n",
       " ' Angel Eletronicos',\n",
       " 'Política de devolução',\n",
       " ' MAGIC WORLD ELETRONICOS',\n",
       " 'Política de devolução',\n",
       " ' REX INFORMATICA',\n",
       " 'Política de devolução',\n",
       " ' Olist',\n",
       " 'Política de devolução',\n",
       " ' JHP Store',\n",
       " 'Política de devolução',\n",
       " ' Tudo à Beça',\n",
       " 'Política de devolução',\n",
       " ' TopTeck Produtos para Automação Residencial',\n",
       " 'Política de devolução',\n",
       " ' Triplenet Pricing INC',\n",
       " 'Política de devolução',\n",
       " ' Gigantec',\n",
       " 'Política de devolução',\n",
       " ' W-TECH IMPORTS',\n",
       " 'Política de devolução',\n",
       " ' E-SPOT',\n",
       " 'Política de devolução',\n",
       " ' Tendinfo',\n",
       " 'Política de devolução',\n",
       " '',\n",
       " 'Apagar tudo',\n",
       " ' INPOWER',\n",
       " 'Política de devolução',\n",
       " 'Política de devolução ',\n",
       " ' Megaprice Comercio',\n",
       " 'Política de devolução',\n",
       " ' MAGIC WORLD ELETRONICOS',\n",
       " 'Política de devolução',\n",
       " ' REX INFORMATICA',\n",
       " 'Política de devolução',\n",
       " ' PHOENIX ELETRONICOS',\n",
       " 'Política de devolução',\n",
       " ' Tudo à Beça',\n",
       " 'Política de devolução',\n",
       " ' Gigantec',\n",
       " 'Política de devolução',\n",
       " ' Angel Eletronicos',\n",
       " 'Política de devolução',\n",
       " ' SHOPAR INFO',\n",
       " 'Política de devolução',\n",
       " '',\n",
       " 'Apagar tudo',\n",
       " ' Vintage Vibes Br',\n",
       " 'Política de devolução',\n",
       " ' XPPEN-Feel Delicate Touch',\n",
       " 'Política de devolução',\n",
       " ' Dark Gamer',\n",
       " 'Política de devolução',\n",
       " ' Triplenet Pricing INC',\n",
       " 'Política de devolução',\n",
       " ' E-SHOP CITY',\n",
       " 'Política de devolução',\n",
       " ' O MUNDO PARA VOCÊ',\n",
       " 'Política de devolução',\n",
       " ' Tudo à Beça',\n",
       " 'Política de devolução',\n",
       " ' Gigantec',\n",
       " 'Política de devolução',\n",
       " ' HD Store Oficial',\n",
       " 'Política de devolução',\n",
       " ' Triplenet Pricing INC',\n",
       " 'Política de devolução',\n",
       " ' E-SPOT',\n",
       " 'Política de devolução',\n",
       " ' Loja iPlace',\n",
       " 'Política de devolução',\n",
       " ' W-TECH IMPORTS',\n",
       " 'Política de devolução',\n",
       " ' Tendinfo',\n",
       " 'Política de devolução',\n",
       " '',\n",
       " 'Apagar tudo',\n",
       " ' Promotion.Shop 💎',\n",
       " 'Política de devolução',\n",
       " ' E-SHOP CITY',\n",
       " 'Política de devolução',\n",
       " ' DONA JUREMA BOUTIK',\n",
       " 'Política de devolução',\n",
       " ' Thaun Shop',\n",
       " 'Política de devolução',\n",
       " ' INFOSHOP.',\n",
       " 'Política de devolução',\n",
       " ' Gigantec',\n",
       " 'Política de devolução',\n",
       " ' Tudo à Beça',\n",
       " 'Política de devolução',\n",
       " ' OFICINA DOS BITS',\n",
       " 'Política de devolução',\n",
       " ' W-TECH IMPORTS',\n",
       " 'Política de devolução',\n",
       " ' TechShed',\n",
       " 'Política de devolução',\n",
       " ' Triplenet Pricing INC',\n",
       " 'Política de devolução',\n",
       " ' E-SPOT',\n",
       " 'Política de devolução',\n",
       " ' Bits & Bytes Tecnologia',\n",
       " 'Política de devolução',\n",
       " ' HD Store Oficial',\n",
       " 'Política de devolução',\n",
       " ' Tudo à Beça',\n",
       " 'Política de devolução',\n",
       " ' EVOLUÇÃO IMPORT',\n",
       " 'Política de devolução',\n",
       " ' Qualitech Informática',\n",
       " 'Política de devolução',\n",
       " ' TechShed',\n",
       " 'Política de devolução',\n",
       " ' Gigantec',\n",
       " 'Política de devolução',\n",
       " ' OFICINA DOS BITS',\n",
       " 'Política de devolução',\n",
       " ' Triplenet Pricing INC',\n",
       " 'Política de devolução',\n",
       " ' W-TECH IMPORTS',\n",
       " 'Política de devolução',\n",
       " ' E-SPOT',\n",
       " 'Política de devolução',\n",
       " ' Triplenet Pricing INC',\n",
       " 'Política de devolução',\n",
       " ' W-TECH IMPORTS',\n",
       " 'Política de devolução',\n",
       " ' Gigantec',\n",
       " 'Política de devolução',\n",
       " ' Tendinfo',\n",
       " 'Política de devolução',\n",
       " '',\n",
       " 'Apagar tudo',\n",
       " ' E-SHOP CITY',\n",
       " 'Política de devolução',\n",
       " '',\n",
       " 'Apagar tudo',\n",
       " ' Gdgets4u',\n",
       " 'Política de devolução',\n",
       " ' Tudo Tem Shopp',\n",
       " 'Política de devolução',\n",
       " ' MRASHOP',\n",
       " 'Política de devolução',\n",
       " ' Joc Comercial',\n",
       " 'Política de devolução',\n",
       " ' PLANETASHOP2',\n",
       " 'Política de devolução',\n",
       " ' Mondial Shop',\n",
       " 'Política de devolução',\n",
       " ' Imports Br',\n",
       " 'Política de devolução',\n",
       " ' Pagani Mall',\n",
       " 'Política de devolução',\n",
       " ' VitrineGae',\n",
       " 'Política de devolução',\n",
       " ' Gadget Shop Express BR',\n",
       " 'Política de devolução',\n",
       " '',\n",
       " 'Apagar tudo',\n",
       " ' Gdgets4u',\n",
       " 'Política de devolução',\n",
       " ' Pagani Mall',\n",
       " 'Política de devolução',\n",
       " ' Gadget Shop Express BR',\n",
       " 'Política de devolução',\n",
       " ' VitrineGae',\n",
       " 'Política de devolução',\n",
       " ' TOTAL INFO',\n",
       " 'Política de devolução',\n",
       " ' ALB SHOP',\n",
       " 'Política de devolução',\n",
       " ' Alfa Tecnológico',\n",
       " 'Política de devolução',\n",
       " ' XPPEN-Feel Delicate Touch',\n",
       " 'Política de devolução',\n",
       " ' Tendinfo',\n",
       " 'Política de devolução',\n",
       " ' MEIREMAGAZINE',\n",
       " 'Política de devolução',\n",
       " '',\n",
       " 'Apagar tudo',\n",
       " ' MilleniumShop',\n",
       " 'Política de devolução',\n",
       " ' Ignis Imports',\n",
       " 'Política de devolução',\n",
       " ' Promotion.Shop 💎',\n",
       " 'Política de devolução',\n",
       " ' MRASHOP',\n",
       " 'Política de devolução',\n",
       " ' shoploop',\n",
       " 'Política de devolução',\n",
       " ' VitrineGae',\n",
       " 'Política de devolução',\n",
       " ' PLANETASHOP2',\n",
       " 'Política de devolução',\n",
       " ' Pagani Mall',\n",
       " 'Política de devolução',\n",
       " ' Eletro Mania ✔️',\n",
       " 'Política de devolução',\n",
       " ' NewGifts',\n",
       " 'Política de devolução',\n",
       " '',\n",
       " 'Apagar tudo',\n",
       " ' MRASHOP',\n",
       " 'Política de devolução',\n",
       " ' Pagani Mall',\n",
       " 'Política de devolução',\n",
       " ' MEIREMAGAZINE',\n",
       " 'Política de devolução',\n",
       " ' Ami Ventures Inc.',\n",
       " 'Política de devolução',\n",
       " '',\n",
       " 'Apagar tudo',\n",
       " 'Política de devolução ',\n",
       " ' Tudo à Beça',\n",
       " 'Política de devolução',\n",
       " ' INFOGORDO',\n",
       " 'Política de devolução',\n",
       " ' HD Store Oficial',\n",
       " 'Política de devolução',\n",
       " ' Gigantec',\n",
       " 'Política de devolução',\n",
       " ' Triplenet Pricing INC',\n",
       " 'Política de devolução',\n",
       " ' Loja iPlace',\n",
       " 'Política de devolução',\n",
       " ' E-SPOT',\n",
       " 'Política de devolução',\n",
       " ' DOTCOMP',\n",
       " 'Política de devolução',\n",
       " \" Castro's Outlet\",\n",
       " 'Política de devolução',\n",
       " ' Obabox Oficial',\n",
       " 'Política de devolução',\n",
       " ' Mula Games',\n",
       " 'Política de devolução',\n",
       " ' Mustache Books',\n",
       " 'Política de devolução',\n",
       " ' LT2 SHOP',\n",
       " 'Política de devolução',\n",
       " ' OFICINA DOS BITS',\n",
       " 'Política de devolução',\n",
       " ' Elementar Tech',\n",
       " 'Política de devolução',\n",
       " ' Ami Ventures Inc.',\n",
       " 'Política de devolução',\n",
       " ' Tendinfo',\n",
       " 'Política de devolução',\n",
       " ' Tendinfo',\n",
       " 'Política de devolução',\n",
       " ' MMPLACE OFICIAL',\n",
       " 'Política de devolução',\n",
       " ' Mula Games',\n",
       " 'Política de devolução',\n",
       " ' Gigantec',\n",
       " 'Política de devolução',\n",
       " ' Mustache Books',\n",
       " 'Política de devolução',\n",
       " ' LT2 SHOP',\n",
       " 'Política de devolução',\n",
       " ' OFICINA DOS BITS',\n",
       " 'Política de devolução',\n",
       " ' Elementar Tech',\n",
       " 'Política de devolução',\n",
       " ' E-SHOP CITY',\n",
       " 'Política de devolução',\n",
       " ' EGAMER',\n",
       " 'Política de devolução',\n",
       " ' TURUM',\n",
       " 'Política de devolução',\n",
       " ' TURUM MG',\n",
       " 'Política de devolução',\n",
       " ' OFICINA DOS BITS',\n",
       " 'Política de devolução',\n",
       " ' PI-DIL CHEGOU DIGITAL ⭐⭐⭐⭐⭐',\n",
       " 'Política de devolução',\n",
       " '',\n",
       " 'Apagar tudo',\n",
       " ' octo.shop',\n",
       " 'Política de devolução',\n",
       " ' INFOGORDO',\n",
       " 'Política de devolução',\n",
       " 'Política de devolução ',\n",
       " ' OFICINA DOS BITS',\n",
       " 'Política de devolução',\n",
       " '',\n",
       " 'Apagar tudo',\n",
       " ' Triplenet Pricing INC',\n",
       " 'Política de devolução',\n",
       " ' HD Store Oficial',\n",
       " 'Política de devolução']"
      ]
     },
     "execution_count": 37,
     "metadata": {},
     "output_type": "execute_result"
    }
   ],
   "source": [
    "Amazon_seller_more"
   ]
  },
  {
   "cell_type": "code",
   "execution_count": 33,
   "metadata": {
    "pycharm": {
     "name": "#%%\n"
    }
   },
   "outputs": [],
   "source": [
    "Amazon_ID_More = []"
   ]
  },
  {
   "cell_type": "code",
   "execution_count": null,
   "metadata": {
    "pycharm": {
     "name": "#%%\n"
    }
   },
   "outputs": [],
   "source": [
    "Amazon_seller_more = []\n",
    "Amazon_price_more = []\n"
   ]
  },
  {
   "cell_type": "code",
   "execution_count": null,
   "metadata": {
    "pycharm": {
     "name": "#%%\n"
    }
   },
   "outputs": [],
   "source": [
    "Amazon_seller_more"
   ]
  },
  {
   "cell_type": "code",
   "execution_count": null,
   "metadata": {
    "pycharm": {
     "name": "#%%\n"
    }
   },
   "outputs": [],
   "source": [
    "Amazon_price_more"
   ]
  },
  {
   "cell_type": "code",
   "execution_count": null,
   "metadata": {
    "pycharm": {
     "name": "#%%\n"
    }
   },
   "outputs": [],
   "source": [
    "\n",
    "new_url = \"https://www.amazon.com.br/gp/product/ajax/?asin=\" + \"B09D15SFMQ\" + \"&pageno=1&experienceId=aodAjaxMain\"\n",
    "\n",
    "driver.get(new_url)\n",
    "\n",
    "time.sleep(5)\n",
    "\n",
    "body_el = driver.find_element(By.CSS_SELECTOR, 'body')\n",
    "html_str = body_el.get_attribute('innerHTML')\n",
    "\n",
    "Soup = BeautifulSoup(html_str, 'html.parser')\n",
    "\n",
    "for seller in Soup.find_all(class_='a-size-small a-link-normal')[4:]:\n",
    "    print(seller.text)\n",
    "\n",
    "for price in Soup.find_all(class_='a-offscreen')[2:]:\n",
    "    print(price.text)\n"
   ]
  },
  {
   "cell_type": "code",
   "execution_count": null,
   "metadata": {
    "pycharm": {
     "name": "#%%\n"
    }
   },
   "outputs": [],
   "source": []
  },
  {
   "cell_type": "code",
   "execution_count": null,
   "metadata": {
    "pycharm": {
     "name": "#%%\n"
    }
   },
   "outputs": [],
   "source": []
  },
  {
   "cell_type": "code",
   "execution_count": null,
   "metadata": {
    "pycharm": {
     "name": "#%%\n"
    }
   },
   "outputs": [],
   "source": []
  },
  {
   "cell_type": "code",
   "execution_count": null,
   "metadata": {
    "pycharm": {
     "name": "#%%\n"
    }
   },
   "outputs": [],
   "source": [
    "for url in Df_more_offers['ID']:\n",
    "    time.sleep(3)\n",
    "\n",
    "    search = \"https://www.amazon.com.br/gp/product/ajax/?asin=\" + url + \"&pageno=1&experienceId=aodAjaxMain\"\n",
    "\n",
    "    driver.get(search)\n",
    "    body_el = driver.find_element(By.CSS_SELECTOR, 'body')\n",
    "    html_str = body_el.get_attribute('innerHTML')\n",
    "\n",
    "    print(search)\n",
    "\n",
    "    Soup = BeautifulSoup(html_str, 'html.parser')\n",
    "\n",
    "    for seller in Soup.find_all(class_='a-size-small a-link-normal'):\n",
    "        print(seller.text)"
   ]
  },
  {
   "cell_type": "code",
   "execution_count": null,
   "metadata": {
    "pycharm": {
     "name": "#%%\n"
    }
   },
   "outputs": [],
   "source": []
  },
  {
   "cell_type": "code",
   "execution_count": null,
   "metadata": {
    "pycharm": {
     "name": "#%%\n"
    }
   },
   "outputs": [],
   "source": []
  },
  {
   "cell_type": "code",
   "execution_count": null,
   "metadata": {
    "pycharm": {
     "name": "#%%\n"
    }
   },
   "outputs": [],
   "source": []
  },
  {
   "cell_type": "code",
   "execution_count": null,
   "metadata": {
    "pycharm": {
     "name": "#%%\n"
    }
   },
   "outputs": [],
   "source": []
  },
  {
   "cell_type": "code",
   "execution_count": null,
   "metadata": {
    "pycharm": {
     "name": "#%%\n"
    }
   },
   "outputs": [],
   "source": []
  },
  {
   "cell_type": "code",
   "execution_count": null,
   "metadata": {
    "pycharm": {
     "name": "#%%\n"
    }
   },
   "outputs": [],
   "source": [
    "#Teste gráfico \n",
    "import matplotlib.pyplot as plt"
   ]
  },
  {
   "cell_type": "code",
   "execution_count": null,
   "metadata": {
    "pycharm": {
     "name": "#%%\n"
    }
   },
   "outputs": [],
   "source": [
    "plt.figure(figsize=(10,10))\n",
    "plt.boxplot(x=Df_final['PRICE'], vert=False)\n",
    "plt.show()"
   ]
  },
  {
   "cell_type": "code",
   "execution_count": null,
   "metadata": {
    "pycharm": {
     "name": "#%%\n"
    }
   },
   "outputs": [],
   "source": [
    "df_products = Df_final[Df_final['PRICE'] > 800]"
   ]
  },
  {
   "cell_type": "code",
   "execution_count": null,
   "metadata": {
    "pycharm": {
     "name": "#%%\n"
    }
   },
   "outputs": [],
   "source": [
    "df_products"
   ]
  },
  {
   "cell_type": "code",
   "execution_count": null,
   "metadata": {
    "pycharm": {
     "name": "#%%\n"
    }
   },
   "outputs": [],
   "source": []
  }
 ],
 "metadata": {
  "interpreter": {
   "hash": "c3503f95e0e8f4afdf6702396a7a2a29cae9f67572acfe092405dcaa2579b817"
  },
  "kernelspec": {
   "display_name": "Python 3.10.4 64-bit",
   "language": "python",
   "name": "python3"
  },
  "language_info": {
   "codemirror_mode": {
    "name": "ipython",
    "version": 3
   },
   "file_extension": ".py",
   "mimetype": "text/x-python",
   "name": "python",
   "nbconvert_exporter": "python",
   "pygments_lexer": "ipython3",
   "version": "3.10.4"
  },
  "orig_nbformat": 4
 },
 "nbformat": 4,
 "nbformat_minor": 2
}