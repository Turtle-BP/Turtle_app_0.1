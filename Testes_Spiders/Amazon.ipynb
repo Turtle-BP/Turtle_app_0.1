{
 "cells": [
  {
   "cell_type": "code",
   "execution_count": 77,
   "metadata": {
    "pycharm": {
     "name": "#%%\n"
    }
   },
   "outputs": [],
   "source": [
    "#Importando as bibliotecas\n",
    "import pandas as pd\n",
    "import time\n",
    "from selenium import webdriver\n",
    "from selenium.webdriver.chrome.options import Options\n",
    "from selenium.webdriver.common.by import By\n",
    "from requests_html import HTML\n",
    "from bs4 import BeautifulSoup\n",
    "from selenium.webdriver.chrome.webdriver import WebDriver\n",
    "from selenium.common.exceptions import WebDriverException\n",
    "from tqdm import tqdm\n",
    "import sqlite3\n",
    "import datetime\n",
    "import os"
   ]
  },
  {
   "cell_type": "code",
   "execution_count": 77,
   "outputs": [],
   "source": [],
   "metadata": {
    "collapsed": false,
    "pycharm": {
     "name": "#%%\n"
    }
   }
  },
  {
   "cell_type": "code",
   "execution_count": 78,
   "metadata": {
    "pycharm": {
     "name": "#%%\n"
    }
   },
   "outputs": [],
   "source": [
    "#Congiruando o driver\n",
    "options = Options()\n",
    "options.add_argument(\"--headless\")\n",
    "options.add_argument('--disable-gpu')\n",
    "options.add_argument(\"--log-level=3\")\n",
    "options.add_argument('--no-sandbox')\n",
    "options.add_experimental_option('useAutomationExtension', False)\n",
    "options.add_experimental_option('excludeSwitches', ['enable-logging'])"
   ]
  },
  {
   "cell_type": "code",
   "execution_count": 79,
   "metadata": {
    "pycharm": {
     "name": "#%%\n"
    }
   },
   "outputs": [],
   "source": [
    "#Criando listas\n",
    "Urls_amazon = []\n",
    "\n",
    "Urls_amazon_more = []\n",
    "\n",
    "Products_Links = []\n",
    "\n",
    "Amazon_price = []\n",
    "Amazon_price_2 = []\n",
    "\n",
    "Amazon_seller = []\n",
    "Amazon_seller_2 = []\n",
    "\n",
    "Amazon_title = []\n",
    "Amazon_title_2 = []\n",
    "\n",
    "Amazon_installment_price_full = []\n",
    "Amazon_installment_price_full_2 = []\n",
    "\n",
    "Amazon_seller_more = []\n",
    "Amazon_price_more = []\n",
    "Amazon_title_more = []\n",
    "internacional_list = []\n",
    "more_offers_list = []"
   ]
  },
  {
   "cell_type": "code",
   "execution_count": 80,
   "metadata": {
    "pycharm": {
     "name": "#%%\n"
    }
   },
   "outputs": [
    {
     "name": "stderr",
     "output_type": "stream",
     "text": [
      "C:\\Users\\pedro\\AppData\\Local\\Temp\\ipykernel_17976\\3380238038.py:1: DeprecationWarning: executable_path has been deprecated, please pass in a Service object\n",
      "  driver = webdriver.Chrome(r\"C:\\Users\\pedro\\Documents\\Turte Brand Protection\\Turtle_Thinker_Alpha_0.1\\Data\\Selenium\\Selenium_101\", options=options)\n"
     ]
    }
   ],
   "source": [
    "driver = webdriver.Chrome(r\"C:\\Users\\pedro\\Documents\\Turte Brand Protection\\Turtle_Thinker_Alpha_0.1\\Data\\Selenium\\Selenium_101\", options=options)"
   ]
  },
  {
   "cell_type": "code",
   "execution_count": 81,
   "metadata": {
    "pycharm": {
     "name": "#%%\n"
    }
   },
   "outputs": [],
   "source": [
    "#Função para criar os links de busca\n",
    "def getting_n_creating_amazon(brand):\n",
    "\n",
    "    Database_path = r\"C:\\Users\\pedro\\Documents\\Turte Brand Protection\\Turtle_Thinker_Alpha_0.1\" + \"\\Data\\\\\" + brand + \"\\\\\" + brand + \".db\"\n",
    "\n",
    "    table = brand + \"_products\"\n",
    "\n",
    "    #Criando a Query\n",
    "    query = \"SELECT * FROM \" + table\n",
    "\n",
    "    #Entrando dentro do databse\n",
    "    connection = sqlite3.connect(Database_path)\n",
    "\n",
    "    #Criando o dataset em brando\n",
    "    df = pd.read_sql_query(query, connection)\n",
    "\n",
    "    #Passando todo o Dataframe para LowerCase\n",
    "    df = df.apply(lambda x: x.astype(str).str.lower())\n",
    "\n",
    "    #Arrumando espaços vazios\n",
    "    # Arrumano os espaços vazios\n",
    "    df['Product_Name'] = df['Product_Name'].str.replace(\" \", \"+\")\n",
    "\n",
    "    # Criando uma nova coluna no database com a formatação certa\n",
    "    df['Urls'] = df['Brand'] + \"+\" + df['Product_Name']\n",
    "\n",
    "    # Criando a nova coluna que são as urls de pesquisa\n",
    "    df['Urls_search'] = \"https://www.amazon.com.br/s?k=\" + df['Urls']\n",
    "\n",
    "    return df"
   ]
  },
  {
   "cell_type": "code",
   "execution_count": 82,
   "metadata": {
    "pycharm": {
     "name": "#%%\n"
    }
   },
   "outputs": [
    {
     "data": {
      "text/plain": "       Brand      Product_Name               Product_Description  \\\n0   motorola            mbp481            babá eletrônica mbp481   \n1   motorola            mbp30a            babá eletrônica mbp30a   \n2   motorola           mbp36sc           babá eletrônica mbp36sc   \n3   motorola           mbp36xl           babá eletrônica mbp36xl   \n4   motorola  comfort85connect  babá eletrônica comfort85connect   \n5   motorola      lux64connect      babá eletrônica lux64connect   \n6   motorola            ease34            babá eletrônica ease34   \n7   motorola     ease44connect     babá eletrônica ease44connect   \n8   motorola           bliss54           babá eletrônica bliss54   \n9   motorola         comfort75         babá eletrônica comfort75   \n10  motorola      lux65connect      babá eletrônica lux65connect   \n11  motorola           mbp667a           babá eletrônica mbp667a   \n12  motorola            mbp482            babá eletrônica mbp482   \n13  motorola           mbp855+            babá eletrônica mbp855   \n\n                         Urls  \\\n0             motorola+mbp481   \n1             motorola+mbp30a   \n2            motorola+mbp36sc   \n3            motorola+mbp36xl   \n4   motorola+comfort85connect   \n5       motorola+lux64connect   \n6             motorola+ease34   \n7      motorola+ease44connect   \n8            motorola+bliss54   \n9          motorola+comfort75   \n10      motorola+lux65connect   \n11           motorola+mbp667a   \n12            motorola+mbp482   \n13           motorola+mbp855+   \n\n                                          Urls_search  \n0       https://www.amazon.com.br/s?k=motorola+mbp481  \n1       https://www.amazon.com.br/s?k=motorola+mbp30a  \n2      https://www.amazon.com.br/s?k=motorola+mbp36sc  \n3      https://www.amazon.com.br/s?k=motorola+mbp36xl  \n4   https://www.amazon.com.br/s?k=motorola+comfort...  \n5   https://www.amazon.com.br/s?k=motorola+lux64co...  \n6       https://www.amazon.com.br/s?k=motorola+ease34  \n7   https://www.amazon.com.br/s?k=motorola+ease44c...  \n8      https://www.amazon.com.br/s?k=motorola+bliss54  \n9    https://www.amazon.com.br/s?k=motorola+comfort75  \n10  https://www.amazon.com.br/s?k=motorola+lux65co...  \n11     https://www.amazon.com.br/s?k=motorola+mbp667a  \n12      https://www.amazon.com.br/s?k=motorola+mbp482  \n13     https://www.amazon.com.br/s?k=motorola+mbp855+  ",
      "text/html": "<div>\n<style scoped>\n    .dataframe tbody tr th:only-of-type {\n        vertical-align: middle;\n    }\n\n    .dataframe tbody tr th {\n        vertical-align: top;\n    }\n\n    .dataframe thead th {\n        text-align: right;\n    }\n</style>\n<table border=\"1\" class=\"dataframe\">\n  <thead>\n    <tr style=\"text-align: right;\">\n      <th></th>\n      <th>Brand</th>\n      <th>Product_Name</th>\n      <th>Product_Description</th>\n      <th>Urls</th>\n      <th>Urls_search</th>\n    </tr>\n  </thead>\n  <tbody>\n    <tr>\n      <th>0</th>\n      <td>motorola</td>\n      <td>mbp481</td>\n      <td>babá eletrônica mbp481</td>\n      <td>motorola+mbp481</td>\n      <td>https://www.amazon.com.br/s?k=motorola+mbp481</td>\n    </tr>\n    <tr>\n      <th>1</th>\n      <td>motorola</td>\n      <td>mbp30a</td>\n      <td>babá eletrônica mbp30a</td>\n      <td>motorola+mbp30a</td>\n      <td>https://www.amazon.com.br/s?k=motorola+mbp30a</td>\n    </tr>\n    <tr>\n      <th>2</th>\n      <td>motorola</td>\n      <td>mbp36sc</td>\n      <td>babá eletrônica mbp36sc</td>\n      <td>motorola+mbp36sc</td>\n      <td>https://www.amazon.com.br/s?k=motorola+mbp36sc</td>\n    </tr>\n    <tr>\n      <th>3</th>\n      <td>motorola</td>\n      <td>mbp36xl</td>\n      <td>babá eletrônica mbp36xl</td>\n      <td>motorola+mbp36xl</td>\n      <td>https://www.amazon.com.br/s?k=motorola+mbp36xl</td>\n    </tr>\n    <tr>\n      <th>4</th>\n      <td>motorola</td>\n      <td>comfort85connect</td>\n      <td>babá eletrônica comfort85connect</td>\n      <td>motorola+comfort85connect</td>\n      <td>https://www.amazon.com.br/s?k=motorola+comfort...</td>\n    </tr>\n    <tr>\n      <th>5</th>\n      <td>motorola</td>\n      <td>lux64connect</td>\n      <td>babá eletrônica lux64connect</td>\n      <td>motorola+lux64connect</td>\n      <td>https://www.amazon.com.br/s?k=motorola+lux64co...</td>\n    </tr>\n    <tr>\n      <th>6</th>\n      <td>motorola</td>\n      <td>ease34</td>\n      <td>babá eletrônica ease34</td>\n      <td>motorola+ease34</td>\n      <td>https://www.amazon.com.br/s?k=motorola+ease34</td>\n    </tr>\n    <tr>\n      <th>7</th>\n      <td>motorola</td>\n      <td>ease44connect</td>\n      <td>babá eletrônica ease44connect</td>\n      <td>motorola+ease44connect</td>\n      <td>https://www.amazon.com.br/s?k=motorola+ease44c...</td>\n    </tr>\n    <tr>\n      <th>8</th>\n      <td>motorola</td>\n      <td>bliss54</td>\n      <td>babá eletrônica bliss54</td>\n      <td>motorola+bliss54</td>\n      <td>https://www.amazon.com.br/s?k=motorola+bliss54</td>\n    </tr>\n    <tr>\n      <th>9</th>\n      <td>motorola</td>\n      <td>comfort75</td>\n      <td>babá eletrônica comfort75</td>\n      <td>motorola+comfort75</td>\n      <td>https://www.amazon.com.br/s?k=motorola+comfort75</td>\n    </tr>\n    <tr>\n      <th>10</th>\n      <td>motorola</td>\n      <td>lux65connect</td>\n      <td>babá eletrônica lux65connect</td>\n      <td>motorola+lux65connect</td>\n      <td>https://www.amazon.com.br/s?k=motorola+lux65co...</td>\n    </tr>\n    <tr>\n      <th>11</th>\n      <td>motorola</td>\n      <td>mbp667a</td>\n      <td>babá eletrônica mbp667a</td>\n      <td>motorola+mbp667a</td>\n      <td>https://www.amazon.com.br/s?k=motorola+mbp667a</td>\n    </tr>\n    <tr>\n      <th>12</th>\n      <td>motorola</td>\n      <td>mbp482</td>\n      <td>babá eletrônica mbp482</td>\n      <td>motorola+mbp482</td>\n      <td>https://www.amazon.com.br/s?k=motorola+mbp482</td>\n    </tr>\n    <tr>\n      <th>13</th>\n      <td>motorola</td>\n      <td>mbp855+</td>\n      <td>babá eletrônica mbp855</td>\n      <td>motorola+mbp855+</td>\n      <td>https://www.amazon.com.br/s?k=motorola+mbp855+</td>\n    </tr>\n  </tbody>\n</table>\n</div>"
     },
     "execution_count": 82,
     "metadata": {},
     "output_type": "execute_result"
    }
   ],
   "source": [
    "Df_Products_raw = getting_n_creating_amazon(\"Wacom\")\n",
    "Df_Products_raw"
   ]
  },
  {
   "cell_type": "code",
   "execution_count": 83,
   "metadata": {
    "pycharm": {
     "name": "#%%\n"
    }
   },
   "outputs": [],
   "source": [
    "#Função pegando Links\n",
    "def search_links(url):\n",
    "    global Urls_amazon\n",
    "\n",
    "    time.sleep(3)\n",
    "\n",
    "    driver.get(url)\n",
    "    body_el = driver.find_element(By.CSS_SELECTOR, 'body')\n",
    "    html_str = body_el.get_attribute('innerHTML')\n",
    "    html_obj = HTML(html=html_str)\n",
    "\n",
    "    Links = [x for x in html_obj.links]\n",
    "    products_links = [f'https://www.amazon.com.br{x}' for x in Links]\n",
    "\n",
    "    Soup = BeautifulSoup(html_str,'html.parser')\n",
    "\n",
    "    for link in products_links:\n",
    "        Urls_amazon.append(link)\n",
    "\n",
    "    Urls_amazon = [s for s in Urls_amazon if '/dp/' in s]\n",
    "    Urls_amazon = [s for s in Urls_amazon if not '#customerReviews' in s]"
   ]
  },
  {
   "cell_type": "code",
   "execution_count": 84,
   "metadata": {
    "pycharm": {
     "name": "#%%\n"
    }
   },
   "outputs": [
    {
     "name": "stderr",
     "output_type": "stream",
     "text": [
      "100%|██████████| 14/14 [01:01<00:00,  4.42s/it]\n"
     ]
    }
   ],
   "source": [
    "for url in tqdm(Df_Products_raw['Urls_search']):\n",
    "    search_links(url)"
   ]
  },
  {
   "cell_type": "code",
   "execution_count": 85,
   "metadata": {
    "pycharm": {
     "name": "#%%\n"
    }
   },
   "outputs": [],
   "source": [
    "#Limpando as urls\n",
    "def clean_link(urls, brand):\n",
    "    #Criando a conexão com a tabela de exclusão \n",
    "    Database_exclusion = r\"C:\\Users\\pedro\\Documents\\Turte Brand Protection\\Turtle_Thinker_Alpha_0.1\" + \"\\Data\\\\\" + brand + \"\\\\\" + brand + \".db\"\n",
    "\n",
    "    table = brand + \"_exclusao\"\n",
    "\n",
    "    #Criando a Query\n",
    "    query = \"SELECT * FROM \" + table\n",
    "\n",
    "    connection = sqlite3.connect(Database_exclusion)\n",
    "\n",
    "    #Criando o dataset em brando\n",
    "    df_itens = pd.read_sql_query(query, connection)\n",
    "\n",
    "    clean_urls = pd.DataFrame()\n",
    "\n",
    "    clean_urls['Urls_Completas'] = urls\n",
    "    clean_urls['Urls_limpas'] = clean_urls['Urls_Completas'].str.partition(\"ref\")[0]\n",
    "\n",
    "    Urls_limpas = clean_urls['Urls_limpas'].tolist()\n",
    "\n",
    "    for word in df_itens['Words']:\n",
    "         Urls_limpas = [s for s in Urls_limpas if not word in s]\n",
    "\n",
    "    clean_urls = pd.DataFrame()\n",
    "\n",
    "    clean_urls['Urls_finais'] = Urls_limpas\n",
    "\n",
    "    clean_urls['ASIN'] = clean_urls['Urls_finais'].str.partition(\"/dp/\")[2].str.partition(\"/\")[0]\n",
    "\n",
    "    clean_urls.drop_duplicates(subset='ASIN',inplace=True)\n",
    "    clean_urls.reset_index(inplace=True, drop=True)\n",
    "    return clean_urls"
   ]
  },
  {
   "cell_type": "code",
   "execution_count": 86,
   "metadata": {
    "pycharm": {
     "name": "#%%\n"
    }
   },
   "outputs": [
    {
     "data": {
      "text/plain": "379"
     },
     "execution_count": 86,
     "metadata": {},
     "output_type": "execute_result"
    }
   ],
   "source": [
    "len(Urls_amazon)"
   ]
  },
  {
   "cell_type": "code",
   "execution_count": 87,
   "metadata": {
    "pycharm": {
     "name": "#%%\n"
    }
   },
   "outputs": [
    {
     "data": {
      "text/plain": "['https://www.amazon.com.br/Eletr%C3%B4nica-Motorola-Mbp-855-Connect-Noturna/dp/B01N807E5P/ref=sr_1_8?keywords=motorola+mbp481&qid=1653337129&sr=8-8&ufe=app_do%3Aamzn1.fos.25548f35-0de7-44b3-b28e-0f56f3f96147',\n 'https://www.amazon.com.br/Smartphone-Motorola-Moto-64GB-Azul/dp/B095KWKRQP/ref=sr_1_23?keywords=motorola+mbp481&qid=1653337129&sr=8-23&ufe=app_do%3Aamzn1.fos.25548f35-0de7-44b3-b28e-0f56f3f96147',\n 'https://www.amazon.com.br/Celular-Xiaomi-Redmi-64GB-Dual/dp/B08B3QSVM6/ref=sr_1_31?keywords=motorola+mbp481&qid=1653337129&sr=8-31',\n 'https://www.amazon.com.br/Eletr%C3%B4nica-Motorola-Video-Colorido-MBP481/dp/B07M9ZDJ7J/ref=sr_1_1?keywords=motorola+mbp481&qid=1653337129&sr=8-1&ufe=app_do%3Aamzn1.fos.25548f35-0de7-44b3-b28e-0f56f3f96147',\n 'https://www.amazon.com.br/Multilaser-Eletronica-Camera-Bivolt-Multikids/dp/B09FFVQC7W/ref=sr_1_16?keywords=motorola+mbp481&qid=1653337129&sr=8-16&ufe=app_do%3Aamzn1.fos.25548f35-0de7-44b3-b28e-0f56f3f96147',\n 'https://www.amazon.com.br/Eletr%C3%B4nica-Digital-Video-Noturna-Term%C3%B4metro/dp/B07HNPNC36/ref=sr_1_19?keywords=motorola+mbp481&qid=1653337129&sr=8-19&ufe=app_do%3Aamzn1.fos.25548f35-0de7-44b3-b28e-0f56f3f96147',\n 'https://www.amazon.com.br/Motorola-Moto-E7-Power-Metalico/dp/B08XY44FRF/ref=sr_1_21?keywords=motorola+mbp481&qid=1653337129&sr=8-21&ufe=app_do%3Aamzn1.fos.25548f35-0de7-44b3-b28e-0f56f3f96147',\n 'https://www.amazon.com.br/Eletronica-Motorola-MBP-855-Connect-Colorida/dp/B084QZ7JPF/ref=sr_1_18?keywords=motorola+mbp481&qid=1653337129&sr=8-18&ufe=app_do%3Aamzn1.fos.25548f35-0de7-44b3-b28e-0f56f3f96147',\n 'https://www.amazon.com.br/Motorola-Baba-Eletronica-Ease34-Branco/dp/B08FVXB74T/ref=sr_1_11?keywords=motorola+mbp481&qid=1653337129&sr=8-11&ufe=app_do%3Aamzn1.fos.25548f35-0de7-44b3-b28e-0f56f3f96147',\n 'https://www.amazon.com.br/Eletr%C3%B4nica-Digital-BB300-Multikids-Baby/dp/B07574YDHT/ref=sr_1_9?keywords=motorola+mbp481&qid=1653337129&sr=8-9&ufe=app_do%3Aamzn1.fos.25548f35-0de7-44b3-b28e-0f56f3f96147',\n 'https://www.amazon.com.br/Bab%C3%A1-Eletr%C3%B4nica-Motorola-MBP482-Branca/dp/B07BBTDDNF/ref=sr_1_5?keywords=motorola+mbp481&qid=1653337129&sr=8-5&ufe=app_do%3Aamzn1.fos.25548f35-0de7-44b3-b28e-0f56f3f96147',\n 'https://www.amazon.com.br/Smartphone-Motorola-Moto-32GB-Pink/dp/B08YRNW7S7/ref=sr_1_24?keywords=motorola+mbp481&qid=1653337129&sr=8-24&ufe=app_do%3Aamzn1.fos.25548f35-0de7-44b3-b28e-0f56f3f96147',\n 'https://www.amazon.com.br/Smartphone-Moto-G9-Play-Safira/dp/B08NFKJ67B/ref=sr_1_25?keywords=motorola+mbp481&qid=1653337129&sr=8-25&ufe=app_do%3Aamzn1.fos.25548f35-0de7-44b3-b28e-0f56f3f96147',\n 'https://www.amazon.com.br/Celular-Motorola-Moto-E6s-Marinho/dp/B08F2VLB6K/ref=sr_1_36?keywords=motorola+mbp481&qid=1653337129&sr=8-36',\n 'https://www.amazon.com.br/Smartphone-Motorola-XT2083-Turquesa-C%C3%A2mera/dp/B08KFMJH2Q/ref=sr_1_27?keywords=motorola+mbp481&qid=1653337129&sr=8-27',\n 'https://www.amazon.com.br/Motorola-Moto-E7-Power-Vermelho/dp/B08XY4SN9W/ref=sr_1_20?keywords=motorola+mbp481&qid=1653337129&sr=8-20&ufe=app_do%3Aamzn1.fos.25548f35-0de7-44b3-b28e-0f56f3f96147',\n 'https://www.amazon.com.br/Smartphone-Motorola-E6S-32GB-Azul/dp/B086M8SBDK/ref=sr_1_35?keywords=motorola+mbp481&qid=1653337129&sr=8-35',\n 'https://www.amazon.com.br/C%C3%A2mera-3-2-Polegadas-V%C3%ADdeo-Sem/dp/B081131PJQ/ref=sr_1_13?keywords=motorola+mbp481&qid=1653337129&sr=8-13&ufe=app_do%3Aamzn1.fos.25548f35-0de7-44b3-b28e-0f56f3f96147',\n 'https://www.amazon.com.br/Bab%C3%A1-Eletr%C3%B4nica-Motorola-EASE44Connect-Branca/dp/B08NFK5QCB/ref=sr_1_2?keywords=motorola+mbp481&qid=1653337129&sr=8-2&ufe=app_do%3Aamzn1.fos.25548f35-0de7-44b3-b28e-0f56f3f96147',\n 'https://www.amazon.com.br/Eletr%C3%B4nica-Motorola-Video-Colorido-MBP481/dp/B07M9ZDJ7J/ref=ice_ac_b_dpb?keywords=motorola+mbp481&qid=1653337129&sr=8-1&ufe=app_do%3Aamzn1.fos.25548f35-0de7-44b3-b28e-0f56f3f96147',\n 'https://www.amazon.com.br/Eletr%C3%B4nica-Motorola-Mbp36xl-Alcance-Noturna/dp/B01IRIVFRS/ref=sr_1_4?keywords=motorola+mbp481&qid=1653337129&sr=8-4&ufe=app_do%3Aamzn1.fos.25548f35-0de7-44b3-b28e-0f56f3f96147',\n 'https://www.amazon.com.br/C%C3%A2mera-Monitoramento-Tapo-C200-TP-Link/dp/B07XLML2YS/ref=sr_1_14?keywords=motorola+mbp481&qid=1653337129&sr=8-14&ufe=app_do%3Aamzn1.fos.4bddec23-2dcf-4403-8597-e1a02442043d',\n 'https://www.amazon.com.br/Celular-Motorola-Cinza-Titanium-C%C3%A2mera/dp/B08DFHWBFX/ref=sr_1_30?keywords=motorola+mbp481&qid=1653337129&sr=8-30&ufe=app_do%3Aamzn1.fos.25548f35-0de7-44b3-b28e-0f56f3f96147',\n 'https://www.amazon.com.br/Eletronica-Digital-C%C3%A2mera-Multikids-Baby/dp/B076LD2CMK/ref=sr_1_10?keywords=motorola+mbp481&qid=1653337129&sr=8-10&ufe=app_do%3Aamzn1.fos.25548f35-0de7-44b3-b28e-0f56f3f96147',\n 'https://www.amazon.com.br/Celular-Motorola-Preto-128gb-Camera/dp/B09151QFWJ/ref=sr_1_28?keywords=motorola+mbp481&qid=1653337129&sr=8-28&ufe=app_do%3Aamzn1.fos.25548f35-0de7-44b3-b28e-0f56f3f96147',\n 'https://www.amazon.com.br/Celular-Motorola-Branco-Floral-Qu%C3%A1drupla/dp/B0914PVKBP/ref=sr_1_33?keywords=motorola+mbp481&qid=1653337129&sr=8-33',\n 'https://www.amazon.com.br/Bab%C3%A1-Eletr%C3%B4nica-MBP668Connect-Vis%C3%A3o-Noturna/dp/B078KHB3YW/ref=sr_1_12?keywords=motorola+mbp481&qid=1653337129&sr=8-12&ufe=app_do%3Aamzn1.fos.25548f35-0de7-44b3-b28e-0f56f3f96147',\n 'https://www.amazon.com.br/Bab%C3%A1-Eletr%C3%B4nica-Motorola-MBP30A-Branca/dp/B08QFCNPXJ/ref=sr_1_3?keywords=motorola+mbp481&qid=1653337129&sr=8-3&ufe=app_do%3Aamzn1.fos.25548f35-0de7-44b3-b28e-0f56f3f96147',\n 'https://www.amazon.com.br/atualizado-infravermelha-autom%C3%A1tica-temperatura-bidirecional/dp/B097NDPXBH/ref=sr_1_15?keywords=motorola+mbp481&qid=1653337129&sr=8-15&ufe=app_do%3Aamzn1.fos.25548f35-0de7-44b3-b28e-0f56f3f96147',\n 'https://www.amazon.com.br/Celular-Motorola-Bronze-Ambar-Dupla/dp/B08NY5JV2J/ref=sr_1_29?keywords=motorola+mbp481&qid=1653337129&sr=8-29&ufe=app_do%3Aamzn1.fos.25548f35-0de7-44b3-b28e-0f56f3f96147',\n 'https://www.amazon.com.br/eletr%C3%B4nica-term%C3%B4metro-baby-monitor-VB605/dp/B088GQ387H/ref=sr_1_17?keywords=motorola+mbp481&qid=1653337129&sr=8-17&ufe=app_do%3Aamzn1.fos.25548f35-0de7-44b3-b28e-0f56f3f96147',\n 'https://www.amazon.com.br/BoxWave-Protetor-Motorola-polegadas-ClearTouch/dp/B08XR123BS/ref=sr_1_32?keywords=motorola+mbp481&qid=1653337129&sr=8-32',\n 'https://www.amazon.com.br/Celular-Motorola-Moto-Power-Camera/dp/B086XLLVPN/ref=sr_1_34?keywords=motorola+mbp481&qid=1653337129&sr=8-34&ufe=app_do%3Aamzn1.fos.25548f35-0de7-44b3-b28e-0f56f3f96147',\n 'https://www.amazon.com.br/Eletronica-Digital-MBP667A-Connect-Motorola/dp/B0731J6K8M/ref=sr_1_7?keywords=motorola+mbp481&qid=1653337129&sr=8-7&ufe=app_do%3Aamzn1.fos.25548f35-0de7-44b3-b28e-0f56f3f96147',\n 'https://www.amazon.com.br/Celular-Motorola-Moto-E7-Met%C3%A1lico/dp/B08WJP1QJ7/ref=sr_1_26?keywords=motorola+mbp481&qid=1653337129&sr=8-26',\n 'https://www.amazon.com.br/C%C3%A2mera-Seguran%C3%A7a-637JBU-Cart%C3%A3o-BRINDE/dp/B096Y551MK/ref=sr_1_22?keywords=motorola+mbp481&qid=1653337129&sr=8-22&ufe=app_do%3Aamzn1.fos.6121c6c4-c969-43ae-92f7-cc248fc6181d',\n 'https://www.amazon.com.br/Motorola-MBP-36S-SC-Eletr%C3%B4nica/dp/B00NSF730O/ref=sr_1_6?keywords=motorola+mbp481&qid=1653337129&sr=8-6&ufe=app_do%3Aamzn1.fos.25548f35-0de7-44b3-b28e-0f56f3f96147',\n 'https://www.amazon.com.br/C%C3%A2mera-3-2-Polegadas-V%C3%ADdeo-Sem/dp/B081131PJQ/ref=sr_1_6?keywords=motorola+mbp30a&qid=1653337134&sr=8-6&ufe=app_do%3Aamzn1.fos.25548f35-0de7-44b3-b28e-0f56f3f96147',\n 'https://www.amazon.com.br/Celular-Motorola-Preto-128gb-Camera/dp/B09151QFWJ/ref=sr_1_14?keywords=motorola+mbp30a&qid=1653337134&sr=8-14&ufe=app_do%3Aamzn1.fos.25548f35-0de7-44b3-b28e-0f56f3f96147',\n 'https://www.amazon.com.br/Celular-Motorola-Moto-E7-Met%C3%A1lico/dp/B08WJP1QJ7/ref=sr_1_13?keywords=motorola+mbp30a&qid=1653337134&sr=8-13',\n 'https://www.amazon.com.br/Motorola-Bab%C3%A1-Eletr%C3%B4nica-AM24/dp/B09KMDWDZP/ref=sr_1_4?keywords=motorola+mbp30a&qid=1653337134&sr=8-4&ufe=app_do%3Aamzn1.fos.25548f35-0de7-44b3-b28e-0f56f3f96147',\n 'https://www.amazon.com.br/Celular-Motorola-Branco-Floral-Qu%C3%A1drupla/dp/B0914PVKBP/ref=sr_1_20?keywords=motorola+mbp30a&qid=1653337134&sr=8-20',\n 'https://www.amazon.com.br/Bab%C3%A1-Eletr%C3%B4nica-Motorola-MBP30A-Branca/dp/B08QFCNPXJ/ref=sr_1_1?keywords=motorola+mbp30a&qid=1653337134&sr=8-1&ufe=app_do%3Aamzn1.fos.25548f35-0de7-44b3-b28e-0f56f3f96147',\n 'https://www.amazon.com.br/Bab%C3%A1-Eletr%C3%B4nica-Motorola-EASE44Connect-Branca/dp/B08NFK5QCB/ref=sr_1_2?keywords=motorola+mbp30a&qid=1653337134&sr=8-2&ufe=app_do%3Aamzn1.fos.25548f35-0de7-44b3-b28e-0f56f3f96147',\n 'https://www.amazon.com.br/Celular-Xiaomi-Redmi-64GB-Dual/dp/B08B3QSVM6/ref=sr_1_17?keywords=motorola+mbp30a&qid=1653337134&sr=8-17',\n 'https://www.amazon.com.br/Celular-Motorola-Cinza-Titanium-C%C3%A2mera/dp/B08DFHWBFX/ref=sr_1_18?keywords=motorola+mbp30a&qid=1653337134&sr=8-18&ufe=app_do%3Aamzn1.fos.25548f35-0de7-44b3-b28e-0f56f3f96147',\n 'https://www.amazon.com.br/Motorola-Moto-E7-Power-Vermelho/dp/B08XY4SN9W/ref=sr_1_15?keywords=motorola+mbp30a&qid=1653337134&sr=8-15&ufe=app_do%3Aamzn1.fos.25548f35-0de7-44b3-b28e-0f56f3f96147',\n 'https://www.amazon.com.br/Celular-Motorola-Moto-Power-Camera/dp/B086XLLVPN/ref=sr_1_19?keywords=motorola+mbp30a&qid=1653337134&sr=8-19&ufe=app_do%3Aamzn1.fos.25548f35-0de7-44b3-b28e-0f56f3f96147',\n 'https://www.amazon.com.br/Celular-Motorola-Bronze-Ambar-Dupla/dp/B08NY5JV2J/ref=sr_1_9?keywords=motorola+mbp30a&qid=1653337134&sr=8-9&ufe=app_do%3Aamzn1.fos.25548f35-0de7-44b3-b28e-0f56f3f96147',\n 'https://www.amazon.com.br/Smartphone-Motorola-Moto-64GB-Azul/dp/B095KWKRQP/ref=sr_1_16?keywords=motorola+mbp30a&qid=1653337134&sr=8-16&ufe=app_do%3Aamzn1.fos.25548f35-0de7-44b3-b28e-0f56f3f96147',\n 'https://www.amazon.com.br/Smartphone-Motorola-E6S-32GB-Azul/dp/B086M8SBDK/ref=sr_1_21?keywords=motorola+mbp30a&qid=1653337134&sr=8-21',\n 'https://www.amazon.com.br/Smartphone-Moto-G9-Play-Safira/dp/B08NFKJ67B/ref=sr_1_10?keywords=motorola+mbp30a&qid=1653337134&sr=8-10&ufe=app_do%3Aamzn1.fos.25548f35-0de7-44b3-b28e-0f56f3f96147',\n 'https://www.amazon.com.br/Smartphone-Motorola-XT2083-Turquesa-C%C3%A2mera/dp/B08KFMJH2Q/ref=sr_1_8?keywords=motorola+mbp30a&qid=1653337134&sr=8-8',\n 'https://www.amazon.com.br/Celular-Motorola-Moto-E6s-Marinho/dp/B08F2VLB6K/ref=sr_1_22?keywords=motorola+mbp30a&qid=1653337134&sr=8-22',\n 'https://www.amazon.com.br/Eletr%C3%B4nica-Motorola-Mbp36xl-Alcance-Noturna/dp/B01IRIVFRS/ref=sr_1_3?keywords=motorola+mbp30a&qid=1653337134&sr=8-3&ufe=app_do%3Aamzn1.fos.25548f35-0de7-44b3-b28e-0f56f3f96147',\n 'https://www.amazon.com.br/Smartphone-Motorola-Moto-32GB-Pink/dp/B08YRNW7S7/ref=sr_1_12?keywords=motorola+mbp30a&qid=1653337134&sr=8-12&ufe=app_do%3Aamzn1.fos.25548f35-0de7-44b3-b28e-0f56f3f96147',\n 'https://www.amazon.com.br/Eletr%C3%B4nica-Motorola-Video-Colorido-MBP481/dp/B07M9ZDJ7J/ref=sr_1_7?keywords=motorola+mbp30a&qid=1653337134&sr=8-7&ufe=app_do%3Aamzn1.fos.25548f35-0de7-44b3-b28e-0f56f3f96147',\n 'https://www.amazon.com.br/Motorola-Moto-E7-Power-Metalico/dp/B08XY44FRF/ref=sr_1_11?keywords=motorola+mbp30a&qid=1653337134&sr=8-11&ufe=app_do%3Aamzn1.fos.25548f35-0de7-44b3-b28e-0f56f3f96147',\n 'https://www.amazon.com.br/Motorola-MBP-36S-SC-Eletr%C3%B4nica/dp/B00NSF730O/ref=sr_1_5?keywords=motorola+mbp30a&qid=1653337134&sr=8-5&ufe=app_do%3Aamzn1.fos.25548f35-0de7-44b3-b28e-0f56f3f96147',\n 'https://www.amazon.com.br/Suporte-C%C3%A2mera-Motorola-MBP-36XL/dp/B0815VP3LC/ref=sr_1_12?keywords=motorola+mbp36sc&qid=1653337138&sr=8-12',\n 'https://www.amazon.com.br/Eletr%C3%B4nica-Digital-BB300-Multikids-Baby/dp/B07574YDHT/ref=sr_1_28?keywords=motorola+mbp36sc&qid=1653337138&sr=8-28&ufe=app_do%3Aamzn1.fos.25548f35-0de7-44b3-b28e-0f56f3f96147',\n 'https://www.amazon.com.br/Motorola-Baba-Eletronica-Ease34-Branco/dp/B08FVXB74T/ref=sr_1_10?keywords=motorola+mbp36sc&qid=1653337138&sr=8-10&ufe=app_do%3Aamzn1.fos.25548f35-0de7-44b3-b28e-0f56f3f96147',\n 'https://www.amazon.com.br/Dados-USB-C-Inbulk-Lifeproof-MO-SKN6473AIBI/dp/B07F7P9TQT/ref=sr_1_22?keywords=motorola+mbp36sc&qid=1653337138&sr=8-22',\n 'https://www.amazon.com.br/Bab%C3%A1-Eletr%C3%B4nica-MBP668Connect-Vis%C3%A3o-Noturna/dp/B078KHB3YW/ref=sr_1_24?keywords=motorola+mbp36sc&qid=1653337138&sr=8-24&ufe=app_do%3Aamzn1.fos.25548f35-0de7-44b3-b28e-0f56f3f96147',\n 'https://www.amazon.com.br/Motorola-Baby-Monitor-VM855-bidirecional/dp/B09BP6TMMF/ref=sr_1_11?keywords=motorola+mbp36sc&qid=1653337138&sr=8-11',\n 'https://www.amazon.com.br/eletr%C3%B4nica-Security-inteligente-compat%C3%ADvel-Assistant/dp/B089X15YTC/ref=sr_1_25?keywords=motorola+mbp36sc&qid=1653337138&sr=8-25&ufe=app_do%3Aamzn1.fos.25548f35-0de7-44b3-b28e-0f56f3f96147',\n 'https://www.amazon.com.br/Eletronica-Digital-MBP667A-Connect-Motorola/dp/B0731J6K8M/ref=sr_1_6?keywords=motorola+mbp36sc&qid=1653337138&sr=8-6&ufe=app_do%3Aamzn1.fos.25548f35-0de7-44b3-b28e-0f56f3f96147',\n 'https://www.amazon.com.br/C%C3%A2mera-3-2-Polegadas-V%C3%ADdeo-Sem/dp/B081131PJQ/ref=sr_1_8?keywords=motorola+mbp36sc&qid=1653337138&sr=8-8&ufe=app_do%3Aamzn1.fos.25548f35-0de7-44b3-b28e-0f56f3f96147',\n 'https://www.amazon.com.br/Bab%C3%A1-Eletr%C3%B4nica-Motorola-EASE44Connect-Branca/dp/B08NFK5QCB/ref=sr_1_4?keywords=motorola+mbp36sc&qid=1653337138&sr=8-4&ufe=app_do%3Aamzn1.fos.25548f35-0de7-44b3-b28e-0f56f3f96147',\n 'https://www.amazon.com.br/C%C3%A2mera-Seguran%C3%A7a-Rotacional-Interna-ESC-WR2/dp/B081TSZ7JX/ref=sr_1_27?keywords=motorola+mbp36sc&qid=1653337138&sr=8-27&ufe=app_do%3Aamzn1.fos.25548f35-0de7-44b3-b28e-0f56f3f96147',\n 'https://www.amazon.com.br/Eletr%C3%B4nica-Motorola-Video-Colorido-MBP481/dp/B07M9ZDJ7J/ref=sr_1_5?keywords=motorola+mbp36sc&qid=1653337138&sr=8-5&ufe=app_do%3Aamzn1.fos.25548f35-0de7-44b3-b28e-0f56f3f96147',\n 'https://www.amazon.com.br/Eletr%C3%B4nica-Motorola-Mbp-855-Connect-Noturna/dp/B01N807E5P/ref=sr_1_7?keywords=motorola+mbp36sc&qid=1653337138&sr=8-7&ufe=app_do%3Aamzn1.fos.25548f35-0de7-44b3-b28e-0f56f3f96147',\n 'https://www.amazon.com.br/Eletr%C3%B4nica-Monitor-Philips-Avent-Branco/dp/B07B9HZJ6J/ref=sr_1_18?keywords=motorola+mbp36sc&qid=1653337138&sr=8-18&ufe=app_do%3Aamzn1.fos.25548f35-0de7-44b3-b28e-0f56f3f96147',\n 'https://www.amazon.com.br/Motorola-MBP-36S-SC-Eletr%C3%B4nica/dp/B00NSF730O/ref=sr_1_2?keywords=motorola+mbp36sc&qid=1653337138&sr=8-2&ufe=app_do%3Aamzn1.fos.25548f35-0de7-44b3-b28e-0f56f3f96147',\n 'https://www.amazon.com.br/Eletronica-Motorola-MBP-855-Connect-Colorida/dp/B084QZ7JPF/ref=sr_1_15?keywords=motorola+mbp36sc&qid=1653337138&sr=8-15&ufe=app_do%3Aamzn1.fos.25548f35-0de7-44b3-b28e-0f56f3f96147',\n 'https://www.amazon.com.br/Bab%C3%A1-Eletr%C3%B4nica-Vis%C3%A3o-Noturna-Microfone/dp/B085JS7ZZ5/ref=sr_1_23?keywords=motorola+mbp36sc&qid=1653337138&sr=8-23&ufe=app_do%3Aamzn1.fos.25548f35-0de7-44b3-b28e-0f56f3f96147',\n 'https://www.amazon.com.br/Suporte-baba-eletr%C3%B4nica-Motorola-36BU/dp/B08153P2M9/ref=sr_1_14?keywords=motorola+mbp36sc&qid=1653337138&sr=8-14',\n 'https://www.amazon.com.br/Eletr%C3%B4nica-Motorola-Mbp36xl-Alcance-Noturna/dp/B01IRIVFRS/ref=sr_1_3?keywords=motorola+mbp36sc&qid=1653337138&sr=8-3&ufe=app_do%3Aamzn1.fos.25548f35-0de7-44b3-b28e-0f56f3f96147',\n 'https://www.amazon.com.br/universal-prateleira-ajust%C3%A1vel-flex%C3%ADvel-compat%C3%ADvel/dp/B07RXHQMVB/ref=sr_1_21?keywords=motorola+mbp36sc&qid=1653337138&sr=8-21&ufe=app_do%3Aamzn1.fos.6a09f7ec-d911-4889-ad70-de8dd83c8a74',\n 'https://www.amazon.com.br/Bab%C3%A1-Eletr%C3%B4nica-Motorola-MBP482-Branca/dp/B07BBTDDNF/ref=sr_1_9?keywords=motorola+mbp36sc&qid=1653337138&sr=8-9&ufe=app_do%3Aamzn1.fos.25548f35-0de7-44b3-b28e-0f56f3f96147',\n 'https://www.amazon.com.br/Suporte-eletr%C3%B4nica-Motorola-compat%C3%ADvel-modelos/dp/B09QWWRC8X/ref=sr_1_16?keywords=motorola+mbp36sc&qid=1653337138&sr=8-16',\n 'https://www.amazon.com.br/Smartphone-Motorola-E6S-32GB-Azul/dp/B086M8SBDK/ref=sr_1_29?keywords=motorola+mbp36sc&qid=1653337138&sr=8-29',\n 'https://www.amazon.com.br/Bab%C3%A1-Eletr%C3%B4nica-Motorola-MBP30A-Branca/dp/B08QFCNPXJ/ref=sr_1_1?keywords=motorola+mbp36sc&qid=1653337138&sr=8-1&ufe=app_do%3Aamzn1.fos.25548f35-0de7-44b3-b28e-0f56f3f96147',\n 'https://www.amazon.com.br/C%C3%A2mera-Intelbras-Sensor-Lente-3-6mm/dp/B07RSXXXV3/ref=sr_1_26?keywords=motorola+mbp36sc&qid=1653337138&sr=8-26&ufe=app_do%3Aamzn1.fos.6a09f7ec-d911-4889-ad70-de8dd83c8a74',\n 'https://www.amazon.com.br/C%C3%A2mera-Antenas-Vis%C3%A3o-Noturna-Alarme/dp/B07VBYHNYX/ref=sr_1_20?keywords=motorola+mbp36sc&qid=1653337138&sr=8-20&ufe=app_do%3Aamzn1.fos.6a09f7ec-d911-4889-ad70-de8dd83c8a74',\n 'https://www.amazon.com.br/suporte-eletr%C3%B4nica-Motorola-ber%C3%A7o-parede/dp/B085Y9PN6H/ref=sr_1_13?keywords=motorola+mbp36sc&qid=1653337138&sr=8-13&ufe=app_do%3Aamzn1.fos.6d798eae-cadf-45de-946a-f477d47705b9',\n 'https://www.amazon.com.br/Kit-Suporte-baba-eletr%C3%B4nica-Motorola/dp/B085YB3GJJ/ref=sr_1_17?keywords=motorola+mbp36sc&qid=1653337138&sr=8-17&ufe=app_do%3Aamzn1.fos.6121c6c4-c969-43ae-92f7-cc248fc6181d',\n 'https://www.amazon.com.br/Multilaser-Eletronica-Camera-Bivolt-Multikids/dp/B09FFVQC7W/ref=sr_1_19?keywords=motorola+mbp36sc&qid=1653337138&sr=8-19&ufe=app_do%3Aamzn1.fos.25548f35-0de7-44b3-b28e-0f56f3f96147',\n 'https://www.amazon.com.br/C%C3%A2mera-Alta-Resolu%C3%A7%C3%A3o-WIFI-Eletr%C3%B4nica/dp/B0796W64C8/ref=sr_1_15?keywords=motorola+mbp36xl&qid=1653337143&sr=8-15&ufe=app_do%3Aamzn1.fos.6a09f7ec-d911-4889-ad70-de8dd83c8a74',\n 'https://www.amazon.com.br/BoxWave-Protetor-polegadas-ClearTouch-embalagem/dp/B08XS7QBJH/ref=sr_1_19?keywords=motorola+mbp36xl&qid=1653337143&sr=8-19',\n 'https://www.amazon.com.br/BoxWave-mbp36xl-2-polegadas-ClearTouch-embalagem/dp/B08XS7JNR7/ref=sr_1_20?keywords=motorola+mbp36xl&qid=1653337143&sr=8-20',\n 'https://www.amazon.com.br/Bab%C3%A1-Eletr%C3%B4nica-Motorola-MBP30A-Branca/dp/B08QFCNPXJ/ref=sr_1_2?keywords=motorola+mbp36xl&qid=1653337143&sr=8-2&ufe=app_do%3Aamzn1.fos.25548f35-0de7-44b3-b28e-0f56f3f96147',\n 'https://www.amazon.com.br/Smartphone-Motorola-E6S-32GB-Azul/dp/B086M8SBDK/ref=sr_1_31?keywords=motorola+mbp36xl&qid=1653337143&sr=8-31',\n 'https://www.amazon.com.br/Smartphone-Motorola-Moto-64GB-Azul/dp/B095KWKRQP/ref=sr_1_18?keywords=motorola+mbp36xl&qid=1653337143&sr=8-18&ufe=app_do%3Aamzn1.fos.25548f35-0de7-44b3-b28e-0f56f3f96147',\n 'https://www.amazon.com.br/Smartphone-Motorola-Moto-32GB-Pink/dp/B08YRNW7S7/ref=sr_1_21?keywords=motorola+mbp36xl&qid=1653337143&sr=8-21&ufe=app_do%3Aamzn1.fos.25548f35-0de7-44b3-b28e-0f56f3f96147',\n 'https://www.amazon.com.br/Celular-Motorola-Bronze-Ambar-Dupla/dp/B08NY5JV2J/ref=sr_1_26?keywords=motorola+mbp36xl&qid=1653337143&sr=8-26&ufe=app_do%3Aamzn1.fos.25548f35-0de7-44b3-b28e-0f56f3f96147',\n 'https://www.amazon.com.br/Smartphone-Moto-G9-Play-Safira/dp/B08NFKJ67B/ref=sr_1_22?keywords=motorola+mbp36xl&qid=1653337143&sr=8-22&ufe=app_do%3Aamzn1.fos.25548f35-0de7-44b3-b28e-0f56f3f96147',\n 'https://www.amazon.com.br/Celular-Motorola-Moto-Power-Camera/dp/B086XLLVPN/ref=sr_1_30?keywords=motorola+mbp36xl&qid=1653337143&sr=8-30&ufe=app_do%3Aamzn1.fos.25548f35-0de7-44b3-b28e-0f56f3f96147',\n 'https://www.amazon.com.br/Celular-Xiaomi-Redmi-64GB-Dual/dp/B08B3QSVM6/ref=sr_1_28?keywords=motorola+mbp36xl&qid=1653337143&sr=8-28',\n 'https://www.amazon.com.br/Motorola-Moto-E7-Power-Vermelho/dp/B08XY4SN9W/ref=sr_1_16?keywords=motorola+mbp36xl&qid=1653337143&sr=8-16&ufe=app_do%3Aamzn1.fos.25548f35-0de7-44b3-b28e-0f56f3f96147',\n 'https://www.amazon.com.br/Eletr%C3%B4nica-Digital-BB300-Multikids-Baby/dp/B07574YDHT/ref=sr_1_8?keywords=motorola+mbp36xl&qid=1653337143&sr=8-8&ufe=app_do%3Aamzn1.fos.25548f35-0de7-44b3-b28e-0f56f3f96147',\n 'https://www.amazon.com.br/Bab%C3%A1-Eletr%C3%B4nica-MBP668Connect-Vis%C3%A3o-Noturna/dp/B078KHB3YW/ref=sr_1_11?keywords=motorola+mbp36xl&qid=1653337143&sr=8-11&ufe=app_do%3Aamzn1.fos.25548f35-0de7-44b3-b28e-0f56f3f96147',\n 'https://www.amazon.com.br/Motorola-MBP-36S-SC-Eletr%C3%B4nica/dp/B00NSF730O/ref=sr_1_4?keywords=motorola+mbp36xl&qid=1653337143&sr=8-4&ufe=app_do%3Aamzn1.fos.25548f35-0de7-44b3-b28e-0f56f3f96147',\n 'https://www.amazon.com.br/Motorola-Moto-E7-Power-Metalico/dp/B08XY44FRF/ref=sr_1_17?keywords=motorola+mbp36xl&qid=1653337143&sr=8-17&ufe=app_do%3Aamzn1.fos.25548f35-0de7-44b3-b28e-0f56f3f96147',\n 'https://www.amazon.com.br/Eletr%C3%B4nica-Motorola-Mbp36xl-Alcance-Noturna/dp/B01IRIVFRS/ref=sr_1_1?keywords=motorola+mbp36xl&qid=1653337143&sr=8-1&ufe=app_do%3Aamzn1.fos.25548f35-0de7-44b3-b28e-0f56f3f96147',\n 'https://www.amazon.com.br/Eletr%C3%B4nica-Motorola-Mbp-855-Connect-Noturna/dp/B01N807E5P/ref=sr_1_6?keywords=motorola+mbp36xl&qid=1653337143&sr=8-6&ufe=app_do%3Aamzn1.fos.25548f35-0de7-44b3-b28e-0f56f3f96147',\n 'https://www.amazon.com.br/Celular-Motorola-Branco-Floral-Qu%C3%A1drupla/dp/B0914PVKBP/ref=sr_1_29?keywords=motorola+mbp36xl&qid=1653337143&sr=8-29',\n 'https://www.amazon.com.br/Celular-Motorola-Moto-E7-Met%C3%A1lico/dp/B08WJP1QJ7/ref=sr_1_23?keywords=motorola+mbp36xl&qid=1653337143&sr=8-23',\n 'https://www.amazon.com.br/Motorola-Baba-Eletronica-Ease34-Branco/dp/B08FVXB74T/ref=sr_1_9?keywords=motorola+mbp36xl&qid=1653337143&sr=8-9&ufe=app_do%3Aamzn1.fos.25548f35-0de7-44b3-b28e-0f56f3f96147',\n 'https://www.amazon.com.br/Eletronica-Digital-MBP667A-Connect-Motorola/dp/B0731J6K8M/ref=sr_1_5?keywords=motorola+mbp36xl&qid=1653337143&sr=8-5&ufe=app_do%3Aamzn1.fos.25548f35-0de7-44b3-b28e-0f56f3f96147',\n 'https://www.amazon.com.br/Eletronica-Motorola-MBP-855-Connect-Colorida/dp/B084QZ7JPF/ref=sr_1_12?keywords=motorola+mbp36xl&qid=1653337143&sr=8-12&ufe=app_do%3Aamzn1.fos.25548f35-0de7-44b3-b28e-0f56f3f96147',\n 'https://www.amazon.com.br/Celular-Motorola-Preto-128gb-Camera/dp/B09151QFWJ/ref=sr_1_24?keywords=motorola+mbp36xl&qid=1653337143&sr=8-24&ufe=app_do%3Aamzn1.fos.25548f35-0de7-44b3-b28e-0f56f3f96147',\n 'https://www.amazon.com.br/Celular-Motorola-Cinza-Titanium-C%C3%A2mera/dp/B08DFHWBFX/ref=sr_1_27?keywords=motorola+mbp36xl&qid=1653337143&sr=8-27&ufe=app_do%3Aamzn1.fos.25548f35-0de7-44b3-b28e-0f56f3f96147',\n 'https://www.amazon.com.br/Eletr%C3%B4nica-Motorola-Video-Colorido-MBP481/dp/B07M9ZDJ7J/ref=sr_1_10?keywords=motorola+mbp36xl&qid=1653337143&sr=8-10&ufe=app_do%3Aamzn1.fos.25548f35-0de7-44b3-b28e-0f56f3f96147',\n 'https://www.amazon.com.br/Bab%C3%A1-Eletr%C3%B4nica-Motorola-MBP482-Branca/dp/B07BBTDDNF/ref=sr_1_7?keywords=motorola+mbp36xl&qid=1653337143&sr=8-7&ufe=app_do%3Aamzn1.fos.25548f35-0de7-44b3-b28e-0f56f3f96147',\n 'https://www.amazon.com.br/Estereo-Intra-Auricular-Microfone-Motorola-Sh006/dp/B06XX3Z8KS/ref=sr_1_13?keywords=motorola+mbp36xl&qid=1653337143&sr=8-13',\n 'https://www.amazon.com.br/Smartphone-Motorola-XT2083-Turquesa-C%C3%A2mera/dp/B08KFMJH2Q/ref=sr_1_25?keywords=motorola+mbp36xl&qid=1653337143&sr=8-25',\n 'https://www.amazon.com.br/Celular-Motorola-Moto-E6s-Marinho/dp/B08F2VLB6K/ref=sr_1_32?keywords=motorola+mbp36xl&qid=1653337143&sr=8-32',\n 'https://www.amazon.com.br/Suporte-baba-eletr%C3%B4nica-Motorola-36BU/dp/B08153P2M9/ref=sr_1_14?keywords=motorola+mbp36xl&qid=1653337143&sr=8-14',\n 'https://www.amazon.com.br/Bab%C3%A1-Eletr%C3%B4nica-Motorola-EASE44Connect-Branca/dp/B08NFK5QCB/ref=sr_1_3?keywords=motorola+mbp36xl&qid=1653337143&sr=8-3&ufe=app_do%3Aamzn1.fos.25548f35-0de7-44b3-b28e-0f56f3f96147',\n 'https://www.amazon.com.br/Eletr%C3%B4nica-Motorola-Mbp-855-Connect-Noturna/dp/B01N807E5P/ref=sr_1_12?keywords=motorola+comfort85+connect&qid=1653337147&sr=8-12&ufe=app_do%3Aamzn1.fos.25548f35-0de7-44b3-b28e-0f56f3f96147',\n 'https://www.amazon.com.br/Celular-Motorola-Preto-128gb-Camera/dp/B09151QFWJ/ref=sr_1_10?keywords=motorola+comfort85+connect&qid=1653337147&sr=8-10&ufe=app_do%3Aamzn1.fos.25548f35-0de7-44b3-b28e-0f56f3f96147',\n 'https://www.amazon.com.br/Celular-Motorola-Branco-Floral-Qu%C3%A1drupla/dp/B0914PVKBP/ref=sr_1_20?keywords=motorola+comfort85+connect&qid=1653337147&sr=8-20',\n 'https://www.amazon.com.br/Bab%C3%A1-Eletr%C3%B4nica-Motorola-EASE44Connect-Branca/dp/B08NFK5QCB/ref=sr_1_1?keywords=motorola+comfort85+connect&qid=1653337147&sr=8-1&ufe=app_do%3Aamzn1.fos.25548f35-0de7-44b3-b28e-0f56f3f96147',\n 'https://www.amazon.com.br/Celular-Xiaomi-Redmi-64GB-Dual/dp/B08B3QSVM6/ref=sr_1_16?keywords=motorola+comfort85+connect&qid=1653337147&sr=8-16',\n 'https://www.amazon.com.br/BoxWave-Protetor-Comfort85-2-ClearTouch-embalagem/dp/B08X6G63FW/ref=sr_1_19?keywords=motorola+comfort85+connect&qid=1653337147&sr=8-19',\n 'https://www.amazon.com.br/Eletronica-Motorola-MBP-855-Connect-Colorida/dp/B084QZ7JPF/ref=sr_1_8?keywords=motorola+comfort85+connect&qid=1653337147&sr=8-8&ufe=app_do%3Aamzn1.fos.25548f35-0de7-44b3-b28e-0f56f3f96147',\n 'https://www.amazon.com.br/Motorola-Baba-Eletronica-Ease34-Branco/dp/B08FVXB74T/ref=sr_1_3?keywords=motorola+comfort85+connect&qid=1653337147&sr=8-3&ufe=app_do%3Aamzn1.fos.25548f35-0de7-44b3-b28e-0f56f3f96147',\n 'https://www.amazon.com.br/Smartphone-Motorola-E6S-32GB-Azul/dp/B086M8SBDK/ref=sr_1_21?keywords=motorola+comfort85+connect&qid=1653337147&sr=8-21',\n 'https://www.amazon.com.br/Celular-Motorola-Cinza-Titanium-C%C3%A2mera/dp/B08DFHWBFX/ref=sr_1_17?keywords=motorola+comfort85+connect&qid=1653337147&sr=8-17&ufe=app_do%3Aamzn1.fos.25548f35-0de7-44b3-b28e-0f56f3f96147',\n 'https://www.amazon.com.br/Smartphone-Motorola-XT2083-Turquesa-C%C3%A2mera/dp/B08KFMJH2Q/ref=sr_1_5?keywords=motorola+comfort85+connect&qid=1653337147&sr=8-5',\n 'https://www.amazon.com.br/Motorola-MBP-36S-SC-Eletr%C3%B4nica/dp/B00NSF730O/ref=sr_1_14?keywords=motorola+comfort85+connect&qid=1653337147&sr=8-14&ufe=app_do%3Aamzn1.fos.25548f35-0de7-44b3-b28e-0f56f3f96147',\n 'https://www.amazon.com.br/Bab%C3%A1-Eletr%C3%B4nica-Motorola-MBP482-Branca/dp/B07BBTDDNF/ref=sr_1_7?keywords=motorola+comfort85+connect&qid=1653337147&sr=8-7&ufe=app_do%3Aamzn1.fos.25548f35-0de7-44b3-b28e-0f56f3f96147',\n 'https://www.amazon.com.br/Celular-Motorola-Moto-E6s-Marinho/dp/B08F2VLB6K/ref=sr_1_22?keywords=motorola+comfort85+connect&qid=1653337147&sr=8-22',\n 'https://www.amazon.com.br/Smartphone-Moto-G9-Play-Safira/dp/B08NFKJ67B/ref=sr_1_4?keywords=motorola+comfort85+connect&qid=1653337147&sr=8-4&ufe=app_do%3Aamzn1.fos.25548f35-0de7-44b3-b28e-0f56f3f96147',\n 'https://www.amazon.com.br/Controle-Universal-Infravermelho-intelbras-Compat%C3%ADvel/dp/B078JNF58M/ref=sr_1_15?keywords=motorola+comfort85+connect&qid=1653337147&sr=8-15&ufe=app_do%3Aamzn1.fos.6d798eae-cadf-45de-946a-f477d47705b9',\n 'https://www.amazon.com.br/Eletr%C3%B4nica-Motorola-Video-Colorido-MBP481/dp/B07M9ZDJ7J/ref=sr_1_11?keywords=motorola+comfort85+connect&qid=1653337147&sr=8-11&ufe=app_do%3Aamzn1.fos.25548f35-0de7-44b3-b28e-0f56f3f96147',\n 'https://www.amazon.com.br/BoxWave-Comfort85-2-ClearTouch-Anti-Glare-anti-impress%C3%A3o/dp/B08X6T84M9/ref=sr_1_18?keywords=motorola+comfort85+connect&qid=1653337147&sr=8-18',\n 'https://www.amazon.com.br/Celular-Motorola-Moto-E7-Met%C3%A1lico/dp/B08WJP1QJ7/ref=sr_1_9?keywords=motorola+comfort85+connect&qid=1653337147&sr=8-9',\n 'https://www.amazon.com.br/Celular-Motorola-Bronze-Ambar-Dupla/dp/B08NY5JV2J/ref=sr_1_6?keywords=motorola+comfort85+connect&qid=1653337147&sr=8-6&ufe=app_do%3Aamzn1.fos.25548f35-0de7-44b3-b28e-0f56f3f96147',\n 'https://www.amazon.com.br/Eletronica-Digital-MBP667A-Connect-Motorola/dp/B0731J6K8M/ref=sr_1_13?keywords=motorola+comfort85+connect&qid=1653337147&sr=8-13&ufe=app_do%3Aamzn1.fos.25548f35-0de7-44b3-b28e-0f56f3f96147',\n 'https://www.amazon.com.br/Eletr%C3%B4nica-Motorola-Mbp36xl-Alcance-Noturna/dp/B01IRIVFRS/ref=sr_1_2?keywords=motorola+comfort85+connect&qid=1653337147&sr=8-2&ufe=app_do%3Aamzn1.fos.25548f35-0de7-44b3-b28e-0f56f3f96147',\n 'https://www.amazon.com.br/Smartphone-Motorola-XT2083-Turquesa-C%C3%A2mera/dp/B08KFMJH2Q/ref=sr_1_21?keywords=motorola+lux64+connect&qid=1653337152&sr=8-21',\n 'https://www.amazon.com.br/Bab%C3%A1-Eletr%C3%B4nica-Motorola-MBP482-Branca/dp/B07BBTDDNF/ref=sr_1_13?keywords=motorola+lux64+connect&qid=1653337152&sr=8-13&ufe=app_do%3Aamzn1.fos.25548f35-0de7-44b3-b28e-0f56f3f96147',\n 'https://www.amazon.com.br/Celular-Xiaomi-Redmi-64GB-Dual/dp/B08B3QSVM6/ref=sr_1_23?keywords=motorola+lux64+connect&qid=1653337152&sr=8-23',\n 'https://www.amazon.com.br/Eletr%C3%B4nica-Digital-V%C3%ADdeo-NUK-Branco/dp/B07MLRJVYM/ref=sr_1_5?keywords=motorola+lux64+connect&qid=1653337152&sr=8-5&ufe=app_do%3Aamzn1.fos.25548f35-0de7-44b3-b28e-0f56f3f96147',\n 'https://www.amazon.com.br/Celular-Motorola-Bronze-Ambar-Dupla/dp/B08NY5JV2J/ref=sr_1_22?keywords=motorola+lux64+connect&qid=1653337152&sr=8-22&ufe=app_do%3Aamzn1.fos.25548f35-0de7-44b3-b28e-0f56f3f96147',\n 'https://www.amazon.com.br/Smartphone-Motorola-E6S-32GB-Azul/dp/B086M8SBDK/ref=sr_1_26?keywords=motorola+lux64+connect&qid=1653337152&sr=8-26',\n 'https://www.amazon.com.br/Motorola-Bab%C3%A1-Eletr%C3%B4nica-VM64C/dp/B09NCGHLN2/ref=sr_1_10?keywords=motorola+lux64+connect&qid=1653337152&sr=8-10&ufe=app_do%3Aamzn1.fos.25548f35-0de7-44b3-b28e-0f56f3f96147',\n 'https://www.amazon.com.br/Bab%C3%A1-Eletr%C3%B4nica-Motorola-EASE44Connect-Branca/dp/B08NFK5QCB/ref=sr_1_1?keywords=motorola+lux64+connect&qid=1653337152&sr=8-1&ufe=app_do%3Aamzn1.fos.25548f35-0de7-44b3-b28e-0f56f3f96147',\n 'https://www.amazon.com.br/Motorola-MBP-36S-SC-Eletr%C3%B4nica/dp/B00NSF730O/ref=sr_1_12?keywords=motorola+lux64+connect&qid=1653337152&sr=8-12&ufe=app_do%3Aamzn1.fos.25548f35-0de7-44b3-b28e-0f56f3f96147',\n 'https://www.amazon.com.br/Celular-Motorola-Branco-Floral-Qu%C3%A1drupla/dp/B0914PVKBP/ref=sr_1_25?keywords=motorola+lux64+connect&qid=1653337152&sr=8-25',\n 'https://www.amazon.com.br/Bab%C3%A1-Eletr%C3%B4nica-MBP668Connect-Vis%C3%A3o-Noturna/dp/B078KHB3YW/ref=sr_1_18?keywords=motorola+lux64+connect&qid=1653337152&sr=8-18&ufe=app_do%3Aamzn1.fos.25548f35-0de7-44b3-b28e-0f56f3f96147',\n 'https://www.amazon.com.br/Smartphone-Moto-G9-Play-Safira/dp/B08NFKJ67B/ref=sr_1_17?keywords=motorola+lux64+connect&qid=1653337152&sr=8-17&ufe=app_do%3Aamzn1.fos.25548f35-0de7-44b3-b28e-0f56f3f96147',\n 'https://www.amazon.com.br/Celular-Motorola-Preto-128gb-Camera/dp/B09151QFWJ/ref=sr_1_20?keywords=motorola+lux64+connect&qid=1653337152&sr=8-20&ufe=app_do%3Aamzn1.fos.25548f35-0de7-44b3-b28e-0f56f3f96147',\n 'https://www.amazon.com.br/Eletr%C3%B4nica-Motorola-Video-Colorido-MBP481/dp/B07M9ZDJ7J/ref=sr_1_15?keywords=motorola+lux64+connect&qid=1653337152&sr=8-15&ufe=app_do%3Aamzn1.fos.25548f35-0de7-44b3-b28e-0f56f3f96147',\n 'https://www.amazon.com.br/Camera-Baba-eletronica-antenas-audio/dp/B07944J2GX/ref=sr_1_16?keywords=motorola+lux64+connect&qid=1653337152&sr=8-16&ufe=app_do%3Aamzn1.fos.6a09f7ec-d911-4889-ad70-de8dd83c8a74',\n 'https://www.amazon.com.br/Bab%C3%A1-Eletr%C3%B4nica-Motorola-MBP30A-Branca/dp/B08QFCNPXJ/ref=sr_1_2?keywords=motorola+lux64+connect&qid=1653337152&sr=8-2&ufe=app_do%3Aamzn1.fos.25548f35-0de7-44b3-b28e-0f56f3f96147',\n 'https://www.amazon.com.br/Celular-Motorola-Moto-E6s-Marinho/dp/B08F2VLB6K/ref=sr_1_27?keywords=motorola+lux64+connect&qid=1653337152&sr=8-27',\n 'https://www.amazon.com.br/C%C3%A2mera-3-2-Polegadas-V%C3%ADdeo-Sem/dp/B088MFFJ1H/ref=sr_1_9?keywords=motorola+lux64+connect&qid=1653337152&sr=8-9&ufe=app_do%3Aamzn1.fos.25548f35-0de7-44b3-b28e-0f56f3f96147',\n 'https://www.amazon.com.br/Controle-Universal-Infravermelho-intelbras-Compat%C3%ADvel/dp/B078JNF58M/ref=sr_1_14?keywords=motorola+lux64+connect&qid=1653337152&sr=8-14&ufe=app_do%3Aamzn1.fos.6d798eae-cadf-45de-946a-f477d47705b9',\n 'https://www.amazon.com.br/Eletr%C3%B4nica-Motorola-Mbp36xl-Alcance-Noturna/dp/B01IRIVFRS/ref=sr_1_7?keywords=motorola+lux64+connect&qid=1653337152&sr=8-7&ufe=app_do%3Aamzn1.fos.25548f35-0de7-44b3-b28e-0f56f3f96147',\n 'https://www.amazon.com.br/Eletronica-Digital-MBP667A-Connect-Motorola/dp/B0731J6K8M/ref=sr_1_4?keywords=motorola+lux64+connect&qid=1653337152&sr=8-4&ufe=app_do%3Aamzn1.fos.25548f35-0de7-44b3-b28e-0f56f3f96147',\n 'https://www.amazon.com.br/Eletr%C3%B4nica-Motorola-Mbp-855-Connect-Noturna/dp/B01N807E5P/ref=sr_1_6?keywords=motorola+lux64+connect&qid=1653337152&sr=8-6&ufe=app_do%3Aamzn1.fos.25548f35-0de7-44b3-b28e-0f56f3f96147',\n 'https://www.amazon.com.br/Celular-Motorola-Moto-E7-Met%C3%A1lico/dp/B08WJP1QJ7/ref=sr_1_19?keywords=motorola+lux64+connect&qid=1653337152&sr=8-19',\n 'https://www.amazon.com.br/Motorola-Moto-E7-Power-Metalico/dp/B08XY44FRF/ref=sr_1_11?keywords=motorola+lux64+connect&qid=1653337152&sr=8-11&ufe=app_do%3Aamzn1.fos.25548f35-0de7-44b3-b28e-0f56f3f96147',\n 'https://www.amazon.com.br/Motorola-Baba-Eletronica-Ease34-Branco/dp/B08FVXB74T/ref=sr_1_3?keywords=motorola+lux64+connect&qid=1653337152&sr=8-3&ufe=app_do%3Aamzn1.fos.25548f35-0de7-44b3-b28e-0f56f3f96147',\n 'https://www.amazon.com.br/Celular-Motorola-Cinza-Titanium-C%C3%A2mera/dp/B08DFHWBFX/ref=sr_1_24?keywords=motorola+lux64+connect&qid=1653337152&sr=8-24&ufe=app_do%3Aamzn1.fos.25548f35-0de7-44b3-b28e-0f56f3f96147',\n 'https://www.amazon.com.br/Eletronica-Motorola-MBP-855-Connect-Colorida/dp/B084QZ7JPF/ref=sr_1_8?keywords=motorola+lux64+connect&qid=1653337152&sr=8-8&ufe=app_do%3Aamzn1.fos.25548f35-0de7-44b3-b28e-0f56f3f96147',\n 'https://www.amazon.com.br/Celular-Motorola-Cinza-Titanium-C%C3%A2mera/dp/B08DFHWBFX/ref=sr_1_24?keywords=motorola+ease34&qid=1653337156&sr=8-24&ufe=app_do%3Aamzn1.fos.25548f35-0de7-44b3-b28e-0f56f3f96147',\n 'https://www.amazon.com.br/Motorola-Moto-E7-Power-Vermelho/dp/B08XY4SN9W/ref=sr_1_14?keywords=motorola+ease34&qid=1653337156&sr=8-14&ufe=app_do%3Aamzn1.fos.25548f35-0de7-44b3-b28e-0f56f3f96147',\n 'https://www.amazon.com.br/Celular-Motorola-Moto-E6s-Marinho/dp/B08F2VLB6K/ref=sr_1_28?keywords=motorola+ease34&qid=1653337156&sr=8-28',\n 'https://www.amazon.com.br/Eletr%C3%B4nica-Motorola-Mbp36xl-Alcance-Noturna/dp/B01IRIVFRS/ref=sr_1_5?keywords=motorola+ease34&qid=1653337156&sr=8-5&ufe=app_do%3Aamzn1.fos.25548f35-0de7-44b3-b28e-0f56f3f96147',\n 'https://www.amazon.com.br/Estereo-Intra-Auricular-Microfone-Motorola-Sh006/dp/B06XX3Z8KS/ref=sr_1_omk_2?keywords=motorola+ease34&qid=1653337156&sr=8-2',\n 'https://www.amazon.com.br/Bab%C3%A1-Eletr%C3%B4nica-Motorola-EASE44Connect-Branca/dp/B08NFK5QCB/ref=sr_1_3?keywords=motorola+ease34&qid=1653337156&sr=8-3&ufe=app_do%3Aamzn1.fos.25548f35-0de7-44b3-b28e-0f56f3f96147',\n 'https://www.amazon.com.br/Celular-Xiaomi-Redmi-64GB-Dual/dp/B08B3QSVM6/ref=sr_1_23?keywords=motorola+ease34&qid=1653337156&sr=8-23',\n 'https://www.amazon.com.br/Smartphone-Motorola-XT2083-Turquesa-C%C3%A2mera/dp/B08KFMJH2Q/ref=sr_1_21?keywords=motorola+ease34&qid=1653337156&sr=8-21',\n 'https://www.amazon.com.br/Celular-Motorola-Moto-Power-Camera/dp/B086XLLVPN/ref=sr_1_26?keywords=motorola+ease34&qid=1653337156&sr=8-26&ufe=app_do%3Aamzn1.fos.25548f35-0de7-44b3-b28e-0f56f3f96147',\n 'https://www.amazon.com.br/Eletr%C3%B4nica-Motorola-Video-Colorido-MBP481/dp/B07M9ZDJ7J/ref=sr_1_7?keywords=motorola+ease34&qid=1653337156&sr=8-7&ufe=app_do%3Aamzn1.fos.25548f35-0de7-44b3-b28e-0f56f3f96147',\n 'https://www.amazon.com.br/Motorola-Moto-E7-Power-Metalico/dp/B08XY44FRF/ref=sr_1_9?keywords=motorola+ease34&qid=1653337156&sr=8-9&ufe=app_do%3Aamzn1.fos.25548f35-0de7-44b3-b28e-0f56f3f96147',\n 'https://www.amazon.com.br/C%C3%A2mera-3-2-Polegadas-V%C3%ADdeo-Sem/dp/B081131PJQ/ref=sr_1_16?keywords=motorola+ease34&qid=1653337156&sr=8-16&ufe=app_do%3Aamzn1.fos.25548f35-0de7-44b3-b28e-0f56f3f96147',\n 'https://www.amazon.com.br/Motorola-Baba-Eletronica-Ease34-Branco/dp/B08FVXB74T/ref=sr_1_1?keywords=motorola+ease34&qid=1653337156&sr=8-1&ufe=app_do%3Aamzn1.fos.25548f35-0de7-44b3-b28e-0f56f3f96147',\n 'https://www.amazon.com.br/Celular-Motorola-Moto-E7-Met%C3%A1lico/dp/B08WJP1QJ7/ref=sr_1_19?keywords=motorola+ease34&qid=1653337156&sr=8-19',\n 'https://www.amazon.com.br/Dados-Carga-Motorola-Conector-USB-C/dp/B08PKXBC6K/ref=sr_1_13?keywords=motorola+ease34&qid=1653337156&sr=8-13&ufe=app_do%3Aamzn1.fos.6121c6c4-c969-43ae-92f7-cc248fc6181d',\n 'https://www.amazon.com.br/Eletronica-Motorola-MBP-855-Connect-Colorida/dp/B084QZ7JPF/ref=sr_1_6?keywords=motorola+ease34&qid=1653337156&sr=8-6&ufe=app_do%3Aamzn1.fos.25548f35-0de7-44b3-b28e-0f56f3f96147',\n 'https://www.amazon.com.br/Celular-Motorola-Branco-Floral-Qu%C3%A1drupla/dp/B0914PVKBP/ref=sr_1_25?keywords=motorola+ease34&qid=1653337156&sr=8-25',\n 'https://www.amazon.com.br/Celular-Motorola-Preto-128gb-Camera/dp/B09151QFWJ/ref=sr_1_20?keywords=motorola+ease34&qid=1653337156&sr=8-20&ufe=app_do%3Aamzn1.fos.25548f35-0de7-44b3-b28e-0f56f3f96147',\n 'https://www.amazon.com.br/Smartphone-Moto-G9-Play-Safira/dp/B08NFKJ67B/ref=sr_1_8?keywords=motorola+ease34&qid=1653337156&sr=8-8&ufe=app_do%3Aamzn1.fos.25548f35-0de7-44b3-b28e-0f56f3f96147',\n 'https://www.amazon.com.br/Smartphone-Motorola-Moto-32GB-Pink/dp/B08YRNW7S7/ref=sr_1_12?keywords=motorola+ease34&qid=1653337156&sr=8-12&ufe=app_do%3Aamzn1.fos.25548f35-0de7-44b3-b28e-0f56f3f96147',\n 'https://www.amazon.com.br/Celular-Motorola-Bronze-Ambar-Dupla/dp/B08NY5JV2J/ref=sr_1_22?keywords=motorola+ease34&qid=1653337156&sr=8-22&ufe=app_do%3Aamzn1.fos.25548f35-0de7-44b3-b28e-0f56f3f96147',\n 'https://www.amazon.com.br/Smartphone-Motorola-E6S-32GB-Azul/dp/B086M8SBDK/ref=sr_1_27?keywords=motorola+ease34&qid=1653337156&sr=8-27',\n 'https://www.amazon.com.br/Bab%C3%A1-Eletr%C3%B4nica-Motorola-MBP482-Branca/dp/B07BBTDDNF/ref=sr_1_4?keywords=motorola+ease34&qid=1653337156&sr=8-4&ufe=app_do%3Aamzn1.fos.25548f35-0de7-44b3-b28e-0f56f3f96147',\n 'https://www.amazon.com.br/Motorola-MBP-36S-SC-Eletr%C3%B4nica/dp/B00NSF730O/ref=sr_1_18?keywords=motorola+ease34&qid=1653337156&sr=8-18&ufe=app_do%3Aamzn1.fos.25548f35-0de7-44b3-b28e-0f56f3f96147',\n 'https://www.amazon.com.br/C%C3%A2mera-3-2-Polegadas-V%C3%ADdeo-Sem/dp/B088MFFJ1H/ref=sr_1_15?keywords=motorola+ease34&qid=1653337156&sr=8-15&ufe=app_do%3Aamzn1.fos.25548f35-0de7-44b3-b28e-0f56f3f96147',\n 'https://www.amazon.com.br/Smartphone-Motorola-Moto-64GB-Azul/dp/B095KWKRQP/ref=sr_1_10?keywords=motorola+ease34&qid=1653337156&sr=8-10&ufe=app_do%3Aamzn1.fos.25548f35-0de7-44b3-b28e-0f56f3f96147',\n 'https://www.amazon.com.br/Eletronica-Digital-MBP667A-Connect-Motorola/dp/B0731J6K8M/ref=sr_1_11?keywords=motorola+ease34&qid=1653337156&sr=8-11&ufe=app_do%3Aamzn1.fos.25548f35-0de7-44b3-b28e-0f56f3f96147',\n 'https://www.amazon.com.br/panor%C3%A2mica-polegadas-infravermelha-temperatura-bidirecional/dp/B07N428WP1/ref=sr_1_21?keywords=motorola+ease44connect&qid=1653337161&sr=8-21',\n 'https://www.amazon.com.br/Eletr%C3%B4nica-Monitor-Philips-Avent-Branco/dp/B07B9HZJ6J/ref=sr_1_16?keywords=motorola+ease44connect&qid=1653337161&sr=8-16&ufe=app_do%3Aamzn1.fos.25548f35-0de7-44b3-b28e-0f56f3f96147',\n 'https://www.amazon.com.br/Eletr%C3%B4nica-Motorola-Video-Colorido-MBP481/dp/B07M9ZDJ7J/ref=sr_1_8?keywords=motorola+ease44connect&qid=1653337161&sr=8-8&ufe=app_do%3Aamzn1.fos.25548f35-0de7-44b3-b28e-0f56f3f96147',\n 'https://www.amazon.com.br/Eletronica-C%C3%A2mera-Noturna-Digital-Branco/dp/B08KD6BZ79/ref=sr_1_12?keywords=motorola+ease44connect&qid=1653337161&sr=8-12&ufe=app_do%3Aamzn1.fos.25548f35-0de7-44b3-b28e-0f56f3f96147',\n 'https://www.amazon.com.br/Bab%C3%A1-Eletr%C3%B4nica-MBP668Connect-Vis%C3%A3o-Noturna/dp/B078KHB3YW/ref=sr_1_10?keywords=motorola+ease44connect&qid=1653337161&sr=8-10&ufe=app_do%3Aamzn1.fos.25548f35-0de7-44b3-b28e-0f56f3f96147',\n 'https://www.amazon.com.br/eletronica-wireless-portatil-intercomunicador-temperatura/dp/B093RCXGFS/ref=sr_1_24?keywords=motorola+ease44connect&qid=1653337161&sr=8-24&ufe=app_do%3Aamzn1.fos.25548f35-0de7-44b3-b28e-0f56f3f96147',\n 'https://www.amazon.com.br/Multilaser-Eletronica-Camera-Bivolt-Multikids/dp/B09FFVQC7W/ref=sr_1_18?keywords=motorola+ease44connect&qid=1653337161&sr=8-18&ufe=app_do%3Aamzn1.fos.25548f35-0de7-44b3-b28e-0f56f3f96147',\n 'https://www.amazon.com.br/Eletronica-Motorola-MBP-855-Connect-Colorida/dp/B084QZ7JPF/ref=sr_1_7?keywords=motorola+ease44connect&qid=1653337161&sr=8-7&ufe=app_do%3Aamzn1.fos.25548f35-0de7-44b3-b28e-0f56f3f96147',\n 'https://www.amazon.com.br/Bab%C3%A1-Eletr%C3%B4nica-Motorola-MBP482-Branca/dp/B07BBTDDNF/ref=sr_1_15?keywords=motorola+ease44connect&qid=1653337161&sr=8-15&ufe=app_do%3Aamzn1.fos.25548f35-0de7-44b3-b28e-0f56f3f96147',\n 'https://www.amazon.com.br/Eletr%C3%B4nica-Motorola-Mbp36xl-Alcance-Noturna/dp/B01IRIVFRS/ref=sr_1_5?keywords=motorola+ease44connect&qid=1653337161&sr=8-5&ufe=app_do%3Aamzn1.fos.25548f35-0de7-44b3-b28e-0f56f3f96147',\n 'https://www.amazon.com.br/Eletr%C3%B4nica-Wi-Fi-C%C3%A2mera-Polegadas-Branco/dp/B08KDCPC1Z/ref=sr_1_26?keywords=motorola+ease44connect&qid=1653337161&sr=8-26&ufe=app_do%3Aamzn1.fos.25548f35-0de7-44b3-b28e-0f56f3f96147',\n 'https://www.amazon.com.br/Motorola-MBP-36S-SC-Eletr%C3%B4nica/dp/B00NSF730O/ref=sr_1_9?keywords=motorola+ease44connect&qid=1653337161&sr=8-9&ufe=app_do%3Aamzn1.fos.25548f35-0de7-44b3-b28e-0f56f3f96147',\n 'https://www.amazon.com.br/PtevSoh-movimento-infravermelha-bidirecional-temperatura/dp/B09QQQS3PV/ref=sr_1_19?keywords=motorola+ease44connect&qid=1653337161&sr=8-19&ufe=app_do%3Aamzn1.fos.25548f35-0de7-44b3-b28e-0f56f3f96147',\n 'https://www.amazon.com.br/Bab%C3%A1-Eletr%C3%B4nica-Motorola-MBP30A-Branca/dp/B08QFCNPXJ/ref=sr_1_4?keywords=motorola+ease44connect&qid=1653337161&sr=8-4&ufe=app_do%3Aamzn1.fos.25548f35-0de7-44b3-b28e-0f56f3f96147',\n 'https://www.amazon.com.br/Eletr%C3%B4nica-C%C3%A2mera-Vis%C3%A3o-Noturna-Antenas/dp/B0979CBWWG/ref=sr_1_25?keywords=motorola+ease44connect&qid=1653337161&sr=8-25&ufe=app_do%3Aamzn1.fos.4bddec23-2dcf-4403-8597-e1a02442043d',\n 'https://www.amazon.com.br/Eletr%C3%B4nica-Motorola-Mbp-855-Connect-Noturna/dp/B01N807E5P/ref=sr_1_13?keywords=motorola+ease44connect&qid=1653337161&sr=8-13&ufe=app_do%3Aamzn1.fos.25548f35-0de7-44b3-b28e-0f56f3f96147',\n 'https://www.amazon.com.br/C%C3%A2mera-3-2-Polegadas-V%C3%ADdeo-Sem/dp/B081131PJQ/ref=sr_1_11?keywords=motorola+ease44connect&qid=1653337161&sr=8-11&ufe=app_do%3Aamzn1.fos.25548f35-0de7-44b3-b28e-0f56f3f96147',\n 'https://www.amazon.com.br/Eletr%C3%B4nica-atualiza%C3%A7%C3%A3o-Bidirecional-Polegadas-Smartphone/dp/B09NQDPZRX/ref=sr_1_3?keywords=motorola+ease44connect&qid=1653337161&sr=8-3&ufe=app_do%3Aamzn1.fos.25548f35-0de7-44b3-b28e-0f56f3f96147',\n 'https://www.amazon.com.br/Eletr%C3%B4nica-Digital-BB300-Multikids-Baby/dp/B07574YDHT/ref=sr_1_14?keywords=motorola+ease44connect&qid=1653337161&sr=8-14&ufe=app_do%3Aamzn1.fos.25548f35-0de7-44b3-b28e-0f56f3f96147',\n 'https://www.amazon.com.br/Eletr%C3%B4nica-seguran%C3%A7a-nightvision-monitoramento-temperatura/dp/B088MFP63N/ref=sr_1_23?keywords=motorola+ease44connect&qid=1653337161&sr=8-23&ufe=app_do%3Aamzn1.fos.25548f35-0de7-44b3-b28e-0f56f3f96147',\n 'https://www.amazon.com.br/Motorola-Baba-Eletronica-Ease34-Branco/dp/B08FVXB74T/ref=sr_1_2?keywords=motorola+ease44connect&qid=1653337161&sr=8-2&ufe=app_do%3Aamzn1.fos.25548f35-0de7-44b3-b28e-0f56f3f96147',\n 'https://www.amazon.com.br/Eletronica-Digital-MBP667A-Connect-Motorola/dp/B0731J6K8M/ref=sr_1_6?keywords=motorola+ease44connect&qid=1653337161&sr=8-6&ufe=app_do%3Aamzn1.fos.25548f35-0de7-44b3-b28e-0f56f3f96147',\n 'https://www.amazon.com.br/PtevSoh-Monitor-de-beb%C3%AA/dp/B098DLKW4R/ref=sr_1_20?keywords=motorola+ease44connect&qid=1653337161&sr=8-20&ufe=app_do%3Aamzn1.fos.25548f35-0de7-44b3-b28e-0f56f3f96147',\n 'https://www.amazon.com.br/Eletr%C3%B4nica-C%C3%A2mera-Monitor-Noturna-Term%C3%B4metro/dp/B07TVFM9H6/ref=sr_1_22?keywords=motorola+ease44connect&qid=1653337161&sr=8-22&ufe=app_do%3Aamzn1.fos.25548f35-0de7-44b3-b28e-0f56f3f96147',\n 'https://www.amazon.com.br/Bab%C3%A1-Eletr%C3%B4nica-Motorola-EASE44Connect-Branca/dp/B08NFK5QCB/ref=sr_1_1?keywords=motorola+ease44connect&qid=1653337161&sr=8-1&ufe=app_do%3Aamzn1.fos.25548f35-0de7-44b3-b28e-0f56f3f96147',\n 'https://www.amazon.com.br/Motorola-Moto-E7-Power-Vermelho/dp/B08XY4SN9W/ref=sr_1_10?keywords=motorola+bliss54&qid=1653337165&sr=8-10&ufe=app_do%3Aamzn1.fos.25548f35-0de7-44b3-b28e-0f56f3f96147',\n 'https://www.amazon.com.br/Eletronica-Motorola-MBP-855-Connect-Colorida/dp/B084QZ7JPF/ref=sr_1_1?keywords=motorola+bliss54&qid=1653337165&sr=8-1&ufe=app_do%3Aamzn1.fos.25548f35-0de7-44b3-b28e-0f56f3f96147',\n 'https://www.amazon.com.br/Celular-Motorola-Moto-E7-Met%C3%A1lico/dp/B08WJP1QJ7/ref=sr_1_8?keywords=motorola+bliss54&qid=1653337165&sr=8-8',\n 'https://www.amazon.com.br/Smartphone-Motorola-Moto-32GB-Cinza/dp/B0927TCTGN/ref=sr_1_20?keywords=motorola+bliss54&qid=1653337165&sr=8-20&ufe=app_do%3Aamzn1.fos.25548f35-0de7-44b3-b28e-0f56f3f96147',\n 'https://www.amazon.com.br/Smartphone-Motorola-Moto-64GB-Azul/dp/B095KWKRQP/ref=sr_1_13?keywords=motorola+bliss54&qid=1653337165&sr=8-13&ufe=app_do%3Aamzn1.fos.25548f35-0de7-44b3-b28e-0f56f3f96147',\n 'https://www.amazon.com.br/Celular-Xiaomi-Redmi-64GB-Dual/dp/B08B3QSVM6/ref=sr_1_22?keywords=motorola+bliss54&qid=1653337165&sr=8-22',\n 'https://www.amazon.com.br/Eletr%C3%B4nica-Motorola-Mbp36xl-Alcance-Noturna/dp/B01IRIVFRS/ref=sr_1_2?keywords=motorola+bliss54&qid=1653337165&sr=8-2&ufe=app_do%3Aamzn1.fos.25548f35-0de7-44b3-b28e-0f56f3f96147',\n 'https://www.amazon.com.br/Smartphone-Moto-Plus-Azul-C%C3%A2mera/dp/B08NFJWM8Y/ref=sr_1_21?keywords=motorola+bliss54&qid=1653337165&sr=8-21&ufe=app_do%3Aamzn1.fos.25548f35-0de7-44b3-b28e-0f56f3f96147',\n 'https://www.amazon.com.br/Celular-Motorola-Moto-Cinza-Aurora/dp/B09155S5X8/ref=sr_1_18?keywords=motorola+bliss54&qid=1653337165&sr=8-18&ufe=app_do%3Aamzn1.fos.25548f35-0de7-44b3-b28e-0f56f3f96147',\n 'https://www.amazon.com.br/Eletronica-Digital-MBP667A-Connect-Motorola/dp/B0731J6K8M/ref=sr_1_16?keywords=motorola+bliss54&qid=1653337165&sr=8-16&ufe=app_do%3Aamzn1.fos.25548f35-0de7-44b3-b28e-0f56f3f96147',\n 'https://www.amazon.com.br/Smartphone-Motorola-One-Hyper-128GB/dp/B0851T12RJ/ref=sr_1_34?keywords=motorola+bliss54&qid=1653337165&sr=8-34&ufe=app_do%3Aamzn1.fos.25548f35-0de7-44b3-b28e-0f56f3f96147',\n 'https://www.amazon.com.br/Smartphone-Motorola-Moto-32GB-Pink/dp/B08YRNW7S7/ref=sr_1_5?keywords=motorola+bliss54&qid=1653337165&sr=8-5&ufe=app_do%3Aamzn1.fos.25548f35-0de7-44b3-b28e-0f56f3f96147',\n 'https://www.amazon.com.br/Celular-Motorola-Moto-Power-Camera/dp/B086XLLVPN/ref=sr_1_28?keywords=motorola+bliss54&qid=1653337165&sr=8-28&ufe=app_do%3Aamzn1.fos.25548f35-0de7-44b3-b28e-0f56f3f96147',\n 'https://www.amazon.com.br/Smartphone-Motorola-XT2083-Turquesa-C%C3%A2mera/dp/B08KFMJH2Q/ref=sr_1_19?keywords=motorola+bliss54&qid=1653337165&sr=8-19',\n 'https://www.amazon.com.br/Celular-Motorola-Preto-128gb-Camera/dp/B09151QFWJ/ref=sr_1_12?keywords=motorola+bliss54&qid=1653337165&sr=8-12&ufe=app_do%3Aamzn1.fos.25548f35-0de7-44b3-b28e-0f56f3f96147',\n 'https://www.amazon.com.br/Smartphone-Motorola-E6S-32GB-Azul/dp/B086M8SBDK/ref=sr_1_35?keywords=motorola+bliss54&qid=1653337165&sr=8-35',\n 'https://www.amazon.com.br/Fone-Ouvido-Motorola-VerveLoop-Sh023/dp/B07K95KVR2/ref=sr_1_23?keywords=motorola+bliss54&qid=1653337165&sr=8-23&ufe=app_do%3Aamzn1.fos.4bb5663b-6f7d-4772-84fa-7c7f565ec65b',\n 'https://www.amazon.com.br/Carregador-Parede-Motorola-Turbo-6955226407772/dp/B07FYP8NT9/ref=sr_1_38?keywords=motorola+bliss54&qid=1653337165&sr=8-38',\n 'https://www.amazon.com.br/Eletr%C3%B4nica-Motorola-Video-Colorido-MBP481/dp/B07M9ZDJ7J/ref=sr_1_9?keywords=motorola+bliss54&qid=1653337165&sr=8-9&ufe=app_do%3Aamzn1.fos.25548f35-0de7-44b3-b28e-0f56f3f96147',\n 'https://www.amazon.com.br/Ouvido-Motorola-Escape-Bluetooth-Bateria/dp/B081KJ983S/ref=sr_1_27?keywords=motorola+bliss54&qid=1653337165&sr=8-27&ufe=app_do%3Aamzn1.fos.4bddec23-2dcf-4403-8597-e1a02442043d',\n 'https://www.amazon.com.br/Smartphone-Android-Wi-Fi-C%C3%A2mera-Preto/dp/B07ZJSNBKG/ref=sr_1_17?keywords=motorola+bliss54&qid=1653337165&sr=8-17',\n 'https://www.amazon.com.br/Ouvido-Bluetooth-Motorola-Acess%C3%B3rios-Wearables/dp/B074KQR528/ref=sr_1_11?keywords=motorola+bliss54&qid=1653337165&sr=8-11&ufe=app_do%3Aamzn1.fos.e05b01e0-91a7-477e-a514-15a32325a6d6',\n 'https://www.amazon.com.br/Bab%C3%A1-Eletr%C3%B4nica-Motorola-MBP482-Branca/dp/B07BBTDDNF/ref=sr_1_4?keywords=motorola+bliss54&qid=1653337165&sr=8-4&ufe=app_do%3Aamzn1.fos.25548f35-0de7-44b3-b28e-0f56f3f96147',\n 'https://www.amazon.com.br/Smartphone-Moto-G9-Play-Safira/dp/B08NFKJ67B/ref=sr_1_6?keywords=motorola+bliss54&qid=1653337165&sr=8-6&ufe=app_do%3Aamzn1.fos.25548f35-0de7-44b3-b28e-0f56f3f96147',\n 'https://www.amazon.com.br/Smartphone-Desbloqueado-Motorola-PAB10011BR-%C3%8Dndigo/dp/B07CN96VW4/ref=sr_1_32?keywords=motorola+bliss54&qid=1653337165&sr=8-32',\n 'https://www.amazon.com.br/Smartphone-Moto-5G-Prisma-C%C3%A2mera/dp/B08Y4TPYQW/ref=sr_1_26?keywords=motorola+bliss54&qid=1653337165&sr=8-26',\n 'https://www.amazon.com.br/Motorola-Moto-E7-Power-Metalico/dp/B08XY44FRF/ref=sr_1_3?keywords=motorola+bliss54&qid=1653337165&sr=8-3&ufe=app_do%3Aamzn1.fos.25548f35-0de7-44b3-b28e-0f56f3f96147',\n 'https://www.amazon.com.br/Celular-Motorola-Cinza-Titanium-C%C3%A2mera/dp/B08DFHWBFX/ref=sr_1_25?keywords=motorola+bliss54&qid=1653337165&sr=8-25&ufe=app_do%3Aamzn1.fos.25548f35-0de7-44b3-b28e-0f56f3f96147',\n 'https://www.amazon.com.br/Celular-Motorola-Moto-E6s-Marinho/dp/B08F2VLB6K/ref=sr_1_37?keywords=motorola+bliss54&qid=1653337165&sr=8-37',\n 'https://www.amazon.com.br/Celular-Motorola-Branco-Floral-Qu%C3%A1drupla/dp/B0914PVKBP/ref=sr_1_31?keywords=motorola+bliss54&qid=1653337165&sr=8-31',\n 'https://www.amazon.com.br/Smartphone-Motorola-Moto-G60-128GB/dp/B094NY6S8T/ref=sr_1_7?keywords=motorola+bliss54&qid=1653337165&sr=8-7',\n 'https://www.amazon.com.br/Smartphone-Motorola-Play-XT1929-%C3%8Dndigo/dp/B07DNH44MV/ref=sr_1_36?keywords=motorola+bliss54&qid=1653337165&sr=8-36',\n 'https://www.amazon.com.br/Celular-Motorola-Bronze-Ambar-Dupla/dp/B08NY5JV2J/ref=sr_1_24?keywords=motorola+bliss54&qid=1653337165&sr=8-24&ufe=app_do%3Aamzn1.fos.25548f35-0de7-44b3-b28e-0f56f3f96147',\n 'https://www.amazon.com.br/Celular-Motorola-Moto-E7-Met%C3%A1lico/dp/B08TPWS32Q/ref=sr_1_29?keywords=motorola+bliss54&qid=1653337165&sr=8-29',\n 'https://www.amazon.com.br/Smartphone-Motorola-Capri-C%C3%A2mera-Laser/dp/B084JLSGVC/ref=sr_1_30?keywords=motorola+bliss54&qid=1653337165&sr=8-30&ufe=app_do%3Aamzn1.fos.25548f35-0de7-44b3-b28e-0f56f3f96147',\n 'https://www.amazon.com.br/Eletr%C3%B4nica-Motorola-Mbp-855-Connect-Noturna/dp/B01N807E5P/ref=sr_1_15?keywords=motorola+bliss54&qid=1653337165&sr=8-15&ufe=app_do%3Aamzn1.fos.25548f35-0de7-44b3-b28e-0f56f3f96147',\n 'https://www.amazon.com.br/Motorola-MBP-36S-SC-Eletr%C3%B4nica/dp/B00NSF730O/ref=sr_1_14?keywords=motorola+bliss54&qid=1653337165&sr=8-14&ufe=app_do%3Aamzn1.fos.25548f35-0de7-44b3-b28e-0f56f3f96147',\n 'https://www.amazon.com.br/Smartphone-Vision-Motorola-Modelo-XT1970-1/dp/B07QMV79WG/ref=sr_1_33?keywords=motorola+bliss54&qid=1653337165&sr=8-33&ufe=app_do%3Aamzn1.fos.25548f35-0de7-44b3-b28e-0f56f3f96147',\n 'https://www.amazon.com.br/Celular-Motorola-Bronze-Ambar-Dupla/dp/B08NY5JV2J/ref=sr_1_20?keywords=motorola+comfort75&qid=1653337169&sr=8-20&ufe=app_do%3Aamzn1.fos.25548f35-0de7-44b3-b28e-0f56f3f96147',\n 'https://www.amazon.com.br/Celular-Motorola-Moto-E6s-Marinho/dp/B08F2VLB6K/ref=sr_1_25?keywords=motorola+comfort75&qid=1653337169&sr=8-25',\n 'https://www.amazon.com.br/atualizado-infravermelha-autom%C3%A1tica-temperatura-bidirecional/dp/B097NDPXBH/ref=sr_1_7?keywords=motorola+comfort75&qid=1653337169&sr=8-7&ufe=app_do%3Aamzn1.fos.25548f35-0de7-44b3-b28e-0f56f3f96147',\n 'https://www.amazon.com.br/Bab%C3%A1-Eletr%C3%B4nica-Vis%C3%A3o-Noturna-Microfone/dp/B085JS7ZZ5/ref=sr_1_6?keywords=motorola+comfort75&qid=1653337169&sr=8-6&ufe=app_do%3Aamzn1.fos.25548f35-0de7-44b3-b28e-0f56f3f96147',\n 'https://www.amazon.com.br/Eletr%C3%B4nica-Motorola-Video-Colorido-MBP481/dp/B07M9ZDJ7J/ref=sr_1_8?keywords=motorola+comfort75&qid=1653337169&sr=8-8&ufe=app_do%3Aamzn1.fos.25548f35-0de7-44b3-b28e-0f56f3f96147',\n 'https://www.amazon.com.br/Motorola-MBP-36S-SC-Eletr%C3%B4nica/dp/B00NSF730O/ref=sr_1_4?keywords=motorola+comfort75&qid=1653337169&sr=8-4&ufe=app_do%3Aamzn1.fos.25548f35-0de7-44b3-b28e-0f56f3f96147',\n 'https://www.amazon.com.br/Eletronica-Digital-MBP667A-Connect-Motorola/dp/B0731J6K8M/ref=sr_1_18?keywords=motorola+comfort75&qid=1653337169&sr=8-18&ufe=app_do%3Aamzn1.fos.25548f35-0de7-44b3-b28e-0f56f3f96147',\n 'https://www.amazon.com.br/Celular-Motorola-Moto-E7-Aquamarine/dp/B08TPWZXHT/ref=sr_1_21?keywords=motorola+comfort75&qid=1653337169&sr=8-21',\n 'https://www.amazon.com.br/Smartphone-Motorola-E6S-32GB-Azul/dp/B086M8SBDK/ref=sr_1_26?keywords=motorola+comfort75&qid=1653337169&sr=8-26',\n 'https://www.amazon.com.br/Bab%C3%A1-Eletr%C3%B4nica-Motorola-EASE44Connect-Branca/dp/B08NFK5QCB/ref=sr_1_1?keywords=motorola+comfort75&qid=1653337169&sr=8-1&ufe=app_do%3Aamzn1.fos.25548f35-0de7-44b3-b28e-0f56f3f96147',\n 'https://www.amazon.com.br/BoxWave-Comfort75-ClearTouch-Anti-Glare-anti-impress%C3%A3o/dp/B08XQZZQMY/ref=sr_1_12?keywords=motorola+comfort75&qid=1653337169&sr=8-12',\n 'https://www.amazon.com.br/Eletr%C3%B4nica-Motorola-Mbp-855-Connect-Noturna/dp/B01N807E5P/ref=sr_1_15?keywords=motorola+comfort75&qid=1653337169&sr=8-15&ufe=app_do%3Aamzn1.fos.25548f35-0de7-44b3-b28e-0f56f3f96147',\n 'https://www.amazon.com.br/Celular-Motorola-Moto-E7-Met%C3%A1lico/dp/B08TPWS32Q/ref=sr_1_22?keywords=motorola+comfort75&qid=1653337169&sr=8-22',\n 'https://www.amazon.com.br/Smartphone-Motorola-Moto-32GB-Cinza/dp/B0927TCTGN/ref=sr_1_23?keywords=motorola+comfort75&qid=1653337169&sr=8-23&ufe=app_do%3Aamzn1.fos.25548f35-0de7-44b3-b28e-0f56f3f96147',\n 'https://www.amazon.com.br/Motorola-Baba-Eletronica-Ease34-Branco/dp/B08FVXB74T/ref=sr_1_2?keywords=motorola+comfort75&qid=1653337169&sr=8-2&ufe=app_do%3Aamzn1.fos.25548f35-0de7-44b3-b28e-0f56f3f96147',\n 'https://www.amazon.com.br/Smartphone-Motorola-Moto-32GB-Cinza/dp/B09K9NC943/ref=sr_1_13?keywords=motorola+comfort75&qid=1653337169&sr=8-13&ufe=app_do%3Aamzn1.fos.25548f35-0de7-44b3-b28e-0f56f3f96147',\n 'https://www.amazon.com.br/Bab%C3%A1-Eletr%C3%B4nica-Motorola-MBP30A-Branca/dp/B08QFCNPXJ/ref=sr_1_5?keywords=motorola+comfort75&qid=1653337169&sr=8-5&ufe=app_do%3Aamzn1.fos.25548f35-0de7-44b3-b28e-0f56f3f96147',\n 'https://www.amazon.com.br/Bab%C3%A1-Eletr%C3%B4nica-Motorola-MBP482-Branca/dp/B07BBTDDNF/ref=sr_1_10?keywords=motorola+comfort75&qid=1653337169&sr=8-10&ufe=app_do%3Aamzn1.fos.25548f35-0de7-44b3-b28e-0f56f3f96147',\n 'https://www.amazon.com.br/BoxWave-Protetor-Comfort75-polegadas-ClearTouch/dp/B08XSB15Y6/ref=sr_1_19?keywords=motorola+comfort75&qid=1653337169&sr=8-19',\n 'https://www.amazon.com.br/Smartphone-Moto-Plus-Azul-C%C3%A2mera/dp/B08NFJWM8Y/ref=sr_1_24?keywords=motorola+comfort75&qid=1653337169&sr=8-24&ufe=app_do%3Aamzn1.fos.25548f35-0de7-44b3-b28e-0f56f3f96147',\n 'https://www.amazon.com.br/Bab%C3%A1-Eletr%C3%B4nica-MBP668Connect-Vis%C3%A3o-Noturna/dp/B078KHB3YW/ref=sr_1_11?keywords=motorola+comfort75&qid=1653337169&sr=8-11&ufe=app_do%3Aamzn1.fos.25548f35-0de7-44b3-b28e-0f56f3f96147',\n 'https://www.amazon.com.br/Smartphone-Android-Wi-Fi-C%C3%A2mera-Preto/dp/B07ZJSNBKG/ref=sr_1_14?keywords=motorola+comfort75&qid=1653337169&sr=8-14',\n 'https://www.amazon.com.br/Motorola-Moto-E7-Power-Vermelho/dp/B08XY4SN9W/ref=sr_1_16?keywords=motorola+comfort75&qid=1653337169&sr=8-16&ufe=app_do%3Aamzn1.fos.25548f35-0de7-44b3-b28e-0f56f3f96147',\n 'https://www.amazon.com.br/Motorola-Moto-E7-Power-Metalico/dp/B08XY44FRF/ref=sr_1_9?keywords=motorola+comfort75&qid=1653337169&sr=8-9&ufe=app_do%3Aamzn1.fos.25548f35-0de7-44b3-b28e-0f56f3f96147',\n 'https://www.amazon.com.br/Eletr%C3%B4nica-Motorola-Mbp36xl-Alcance-Noturna/dp/B01IRIVFRS/ref=sr_1_3?keywords=motorola+comfort75&qid=1653337169&sr=8-3&ufe=app_do%3Aamzn1.fos.25548f35-0de7-44b3-b28e-0f56f3f96147',\n 'https://www.amazon.com.br/Celular-Motorola-Cinza-Titanium-C%C3%A2mera/dp/B08DFHWBFX/ref=sr_1_21?keywords=motorola+lux65+connect&qid=1653337174&sr=8-21&ufe=app_do%3Aamzn1.fos.25548f35-0de7-44b3-b28e-0f56f3f96147',\n 'https://www.amazon.com.br/Bab%C3%A1-Eletr%C3%B4nica-Motorola-MBP482-Branca/dp/B07BBTDDNF/ref=sr_1_12?keywords=motorola+lux65+connect&qid=1653337174&sr=8-12&ufe=app_do%3Aamzn1.fos.25548f35-0de7-44b3-b28e-0f56f3f96147',\n 'https://www.amazon.com.br/Celular-Xiaomi-Redmi-64GB-Dual/dp/B08B3QSVM6/ref=sr_1_20?keywords=motorola+lux65+connect&qid=1653337174&sr=8-20',\n 'https://www.amazon.com.br/Motorola-Moto-E7-Power-Metalico/dp/B08XY44FRF/ref=sr_1_14?keywords=motorola+lux65+connect&qid=1653337174&sr=8-14&ufe=app_do%3Aamzn1.fos.25548f35-0de7-44b3-b28e-0f56f3f96147',\n 'https://www.amazon.com.br/Controle-Universal-Infravermelho-intelbras-Compat%C3%ADvel/dp/B078JNF58M/ref=sr_1_13?keywords=motorola+lux65+connect&qid=1653337174&sr=8-13&ufe=app_do%3Aamzn1.fos.6d798eae-cadf-45de-946a-f477d47705b9',\n 'https://www.amazon.com.br/Celular-Motorola-Bronze-Ambar-Dupla/dp/B08NY5JV2J/ref=sr_1_19?keywords=motorola+lux65+connect&qid=1653337174&sr=8-19&ufe=app_do%3Aamzn1.fos.25548f35-0de7-44b3-b28e-0f56f3f96147',\n 'https://www.amazon.com.br/Celular-Motorola-Preto-128gb-Camera/dp/B09151QFWJ/ref=sr_1_17?keywords=motorola+lux65+connect&qid=1653337174&sr=8-17&ufe=app_do%3Aamzn1.fos.25548f35-0de7-44b3-b28e-0f56f3f96147',\n 'https://www.amazon.com.br/Motorola-Baba-Eletronica-Ease34-Branco/dp/B08FVXB74T/ref=sr_1_3?keywords=motorola+lux65+connect&qid=1653337174&sr=8-3&ufe=app_do%3Aamzn1.fos.25548f35-0de7-44b3-b28e-0f56f3f96147',\n 'https://www.amazon.com.br/Smartphone-Motorola-XT2083-Turquesa-C%C3%A2mera/dp/B08KFMJH2Q/ref=sr_1_18?keywords=motorola+lux65+connect&qid=1653337174&sr=8-18',\n 'https://www.amazon.com.br/Bab%C3%A1-Eletr%C3%B4nica-Motorola-EASE44Connect-Branca/dp/B08NFK5QCB/ref=sr_1_1?keywords=motorola+lux65+connect&qid=1653337174&sr=8-1&ufe=app_do%3Aamzn1.fos.25548f35-0de7-44b3-b28e-0f56f3f96147',\n 'https://www.amazon.com.br/Bab%C3%A1-Eletr%C3%B4nica-Motorola-MBP30A-Branca/dp/B08QFCNPXJ/ref=sr_1_2?keywords=motorola+lux65+connect&qid=1653337174&sr=8-2&ufe=app_do%3Aamzn1.fos.25548f35-0de7-44b3-b28e-0f56f3f96147',\n 'https://www.amazon.com.br/Smartphone-Moto-G9-Play-Safira/dp/B08NFKJ67B/ref=sr_1_7?keywords=motorola+lux65+connect&qid=1653337174&sr=8-7&ufe=app_do%3Aamzn1.fos.25548f35-0de7-44b3-b28e-0f56f3f96147',\n 'https://www.amazon.com.br/Celular-Motorola-Moto-E7-Met%C3%A1lico/dp/B08WJP1QJ7/ref=sr_1_16?keywords=motorola+lux65+connect&qid=1653337174&sr=8-16',\n 'https://www.amazon.com.br/Bab%C3%A1-Eletr%C3%B4nica-MBP668Connect-Vis%C3%A3o-Noturna/dp/B078KHB3YW/ref=sr_1_15?keywords=motorola+lux65+connect&qid=1653337174&sr=8-15&ufe=app_do%3Aamzn1.fos.25548f35-0de7-44b3-b28e-0f56f3f96147',\n 'https://www.amazon.com.br/Motorola-MBP-36S-SC-Eletr%C3%B4nica/dp/B00NSF730O/ref=sr_1_9?keywords=motorola+lux65+connect&qid=1653337174&sr=8-9&ufe=app_do%3Aamzn1.fos.25548f35-0de7-44b3-b28e-0f56f3f96147',\n 'https://www.amazon.com.br/Eletr%C3%B4nica-Motorola-Mbp36xl-Alcance-Noturna/dp/B01IRIVFRS/ref=sr_1_10?keywords=motorola+lux65+connect&qid=1653337174&sr=8-10&ufe=app_do%3Aamzn1.fos.25548f35-0de7-44b3-b28e-0f56f3f96147',\n 'https://www.amazon.com.br/Motorola-Bab%C3%A1-Eletr%C3%B4nica-VM64C/dp/B09NCGHLN2/ref=sr_1_11?keywords=motorola+lux65+connect&qid=1653337174&sr=8-11&ufe=app_do%3Aamzn1.fos.25548f35-0de7-44b3-b28e-0f56f3f96147',\n 'https://www.amazon.com.br/Eletronica-Digital-MBP667A-Connect-Motorola/dp/B0731J6K8M/ref=sr_1_6?keywords=motorola+lux65+connect&qid=1653337174&sr=8-6&ufe=app_do%3Aamzn1.fos.25548f35-0de7-44b3-b28e-0f56f3f96147',\n 'https://www.amazon.com.br/Celular-Motorola-Branco-Floral-Qu%C3%A1drupla/dp/B0914PVKBP/ref=sr_1_22?keywords=motorola+lux65+connect&qid=1653337174&sr=8-22',\n 'https://www.amazon.com.br/Celular-Motorola-Moto-E6s-Marinho/dp/B08F2VLB6K/ref=sr_1_24?keywords=motorola+lux65+connect&qid=1653337174&sr=8-24',\n 'https://www.amazon.com.br/Smartphone-Motorola-E6S-32GB-Azul/dp/B086M8SBDK/ref=sr_1_23?keywords=motorola+lux65+connect&qid=1653337174&sr=8-23',\n 'https://www.amazon.com.br/Eletr%C3%B4nica-Motorola-Video-Colorido-MBP481/dp/B07M9ZDJ7J/ref=sr_1_5?keywords=motorola+lux65+connect&qid=1653337174&sr=8-5&ufe=app_do%3Aamzn1.fos.25548f35-0de7-44b3-b28e-0f56f3f96147',\n 'https://www.amazon.com.br/Eletronica-Motorola-MBP-855-Connect-Colorida/dp/B084QZ7JPF/ref=sr_1_8?keywords=motorola+lux65+connect&qid=1653337174&sr=8-8&ufe=app_do%3Aamzn1.fos.25548f35-0de7-44b3-b28e-0f56f3f96147',\n 'https://www.amazon.com.br/Eletr%C3%B4nica-Motorola-Mbp-855-Connect-Noturna/dp/B01N807E5P/ref=sr_1_4?keywords=motorola+lux65+connect&qid=1653337174&sr=8-4&ufe=app_do%3Aamzn1.fos.25548f35-0de7-44b3-b28e-0f56f3f96147',\n 'https://www.amazon.com.br/Bab%C3%A1-Eletr%C3%B4nica-Motorola-MBP482-Branca/dp/B07BBTDDNF/ref=sr_1_7?keywords=motorola+mbp667a&qid=1653337178&sr=8-7&ufe=app_do%3Aamzn1.fos.25548f35-0de7-44b3-b28e-0f56f3f96147',\n 'https://www.amazon.com.br/Eletronica-Digital-MBP667A-Connect-Motorola/dp/B0731J6K8M/ref=sr_1_1?keywords=motorola+mbp667a&qid=1653337178&sr=8-1&ufe=app_do%3Aamzn1.fos.25548f35-0de7-44b3-b28e-0f56f3f96147',\n 'https://www.amazon.com.br/Smartphone-Motorola-Moto-32GB-Pink/dp/B08YRNW7S7/ref=sr_1_14?keywords=motorola+mbp667a&qid=1653337178&sr=8-14&ufe=app_do%3Aamzn1.fos.25548f35-0de7-44b3-b28e-0f56f3f96147',\n 'https://www.amazon.com.br/Smartphone-Motorola-Moto-64GB-Azul/dp/B095KWKRQP/ref=sr_1_13?keywords=motorola+mbp667a&qid=1653337178&sr=8-13&ufe=app_do%3Aamzn1.fos.25548f35-0de7-44b3-b28e-0f56f3f96147',\n 'https://www.amazon.com.br/Eletr%C3%B4nica-Motorola-Mbp-855-Connect-Noturna/dp/B01N807E5P/ref=sr_1_6?keywords=motorola+mbp667a&qid=1653337178&sr=8-6&ufe=app_do%3Aamzn1.fos.25548f35-0de7-44b3-b28e-0f56f3f96147',\n 'https://www.amazon.com.br/Motorola-Baba-Eletronica-Ease34-Branco/dp/B08FVXB74T/ref=sr_1_4?keywords=motorola+mbp667a&qid=1653337178&sr=8-4&ufe=app_do%3Aamzn1.fos.25548f35-0de7-44b3-b28e-0f56f3f96147',\n 'https://www.amazon.com.br/Smartphone-Motorola-E6S-32GB-Azul/dp/B086M8SBDK/ref=sr_1_23?keywords=motorola+mbp667a&qid=1653337178&sr=8-23',\n 'https://www.amazon.com.br/Bab%C3%A1-Eletr%C3%B4nica-Motorola-EASE44Connect-Branca/dp/B08NFK5QCB/ref=sr_1_2?keywords=motorola+mbp667a&qid=1653337178&sr=8-2&ufe=app_do%3Aamzn1.fos.25548f35-0de7-44b3-b28e-0f56f3f96147',\n 'https://www.amazon.com.br/Smartphone-Motorola-XT2083-Turquesa-C%C3%A2mera/dp/B08KFMJH2Q/ref=sr_1_17?keywords=motorola+mbp667a&qid=1653337178&sr=8-17',\n 'https://www.amazon.com.br/Celular-Motorola-Moto-E6s-Marinho/dp/B08F2VLB6K/ref=sr_1_24?keywords=motorola+mbp667a&qid=1653337178&sr=8-24',\n 'https://www.amazon.com.br/Eletr%C3%B4nica-Motorola-Mbp36xl-Alcance-Noturna/dp/B01IRIVFRS/ref=sr_1_3?keywords=motorola+mbp667a&qid=1653337178&sr=8-3&ufe=app_do%3Aamzn1.fos.25548f35-0de7-44b3-b28e-0f56f3f96147',\n 'https://www.amazon.com.br/Celular-Motorola-Bronze-Ambar-Dupla/dp/B08NY5JV2J/ref=sr_1_19?keywords=motorola+mbp667a&qid=1653337178&sr=8-19&ufe=app_do%3Aamzn1.fos.25548f35-0de7-44b3-b28e-0f56f3f96147',\n 'https://www.amazon.com.br/Motorola-Moto-E7-Power-Vermelho/dp/B08XY4SN9W/ref=sr_1_12?keywords=motorola+mbp667a&qid=1653337178&sr=8-12&ufe=app_do%3Aamzn1.fos.25548f35-0de7-44b3-b28e-0f56f3f96147',\n 'https://www.amazon.com.br/Celular-Motorola-Cinza-Titanium-C%C3%A2mera/dp/B08DFHWBFX/ref=sr_1_20?keywords=motorola+mbp667a&qid=1653337178&sr=8-20&ufe=app_do%3Aamzn1.fos.25548f35-0de7-44b3-b28e-0f56f3f96147',\n 'https://www.amazon.com.br/Smartphone-Moto-G9-Play-Safira/dp/B08NFKJ67B/ref=sr_1_10?keywords=motorola+mbp667a&qid=1653337178&sr=8-10&ufe=app_do%3Aamzn1.fos.25548f35-0de7-44b3-b28e-0f56f3f96147',\n 'https://www.amazon.com.br/Celular-Motorola-Preto-128gb-Camera/dp/B09151QFWJ/ref=sr_1_16?keywords=motorola+mbp667a&qid=1653337178&sr=8-16&ufe=app_do%3Aamzn1.fos.25548f35-0de7-44b3-b28e-0f56f3f96147',\n 'https://www.amazon.com.br/Celular-Motorola-Moto-E7-Met%C3%A1lico/dp/B08WJP1QJ7/ref=sr_1_15?keywords=motorola+mbp667a&qid=1653337178&sr=8-15',\n 'https://www.amazon.com.br/Celular-Motorola-Moto-Power-Camera/dp/B086XLLVPN/ref=sr_1_21?keywords=motorola+mbp667a&qid=1653337178&sr=8-21&ufe=app_do%3Aamzn1.fos.25548f35-0de7-44b3-b28e-0f56f3f96147',\n 'https://www.amazon.com.br/Celular-Xiaomi-Redmi-64GB-Dual/dp/B08B3QSVM6/ref=sr_1_18?keywords=motorola+mbp667a&qid=1653337178&sr=8-18',\n 'https://www.amazon.com.br/Motorola-MBP-36S-SC-Eletr%C3%B4nica/dp/B00NSF730O/ref=sr_1_5?keywords=motorola+mbp667a&qid=1653337178&sr=8-5&ufe=app_do%3Aamzn1.fos.25548f35-0de7-44b3-b28e-0f56f3f96147',\n 'https://www.amazon.com.br/Celular-Motorola-Branco-Floral-Qu%C3%A1drupla/dp/B0914PVKBP/ref=sr_1_22?keywords=motorola+mbp667a&qid=1653337178&sr=8-22',\n 'https://www.amazon.com.br/Eletronica-Motorola-MBP-855-Connect-Colorida/dp/B084QZ7JPF/ref=sr_1_9?keywords=motorola+mbp667a&qid=1653337178&sr=8-9&ufe=app_do%3Aamzn1.fos.25548f35-0de7-44b3-b28e-0f56f3f96147',\n 'https://www.amazon.com.br/Motorola-Moto-E7-Power-Metalico/dp/B08XY44FRF/ref=sr_1_11?keywords=motorola+mbp667a&qid=1653337178&sr=8-11&ufe=app_do%3Aamzn1.fos.25548f35-0de7-44b3-b28e-0f56f3f96147',\n 'https://www.amazon.com.br/Eletr%C3%B4nica-Motorola-Video-Colorido-MBP481/dp/B07M9ZDJ7J/ref=sr_1_8?keywords=motorola+mbp667a&qid=1653337178&sr=8-8&ufe=app_do%3Aamzn1.fos.25548f35-0de7-44b3-b28e-0f56f3f96147',\n 'https://www.amazon.com.br/Motorola-Moto-E7-Power-Metalico/dp/B08XY44FRF/ref=sr_1_16?keywords=motorola+mbp482&qid=1653337182&sr=8-16&ufe=app_do%3Aamzn1.fos.25548f35-0de7-44b3-b28e-0f56f3f96147',\n 'https://www.amazon.com.br/Celular-Motorola-Moto-E7-Met%C3%A1lico/dp/B08WJP1QJ7/ref=sr_1_21?keywords=motorola+mbp482&qid=1653337182&sr=8-21',\n 'https://www.amazon.com.br/Celular-Motorola-Cinza-Titanium-C%C3%A2mera/dp/B08DFHWBFX/ref=sr_1_25?keywords=motorola+mbp482&qid=1653337182&sr=8-25&ufe=app_do%3Aamzn1.fos.25548f35-0de7-44b3-b28e-0f56f3f96147',\n 'https://www.amazon.com.br/Celular-Motorola-Bronze-Ambar-Dupla/dp/B08NY5JV2J/ref=sr_1_24?keywords=motorola+mbp482&qid=1653337182&sr=8-24&ufe=app_do%3Aamzn1.fos.25548f35-0de7-44b3-b28e-0f56f3f96147',\n 'https://www.amazon.com.br/Eletronica-Digital-C%C3%A2mera-Multikids-Baby/dp/B076LD2CMK/ref=sr_1_11?keywords=motorola+mbp482&qid=1653337182&sr=8-11&ufe=app_do%3Aamzn1.fos.25548f35-0de7-44b3-b28e-0f56f3f96147',\n 'https://www.amazon.com.br/Motorola-MBP-36S-SC-Eletr%C3%B4nica/dp/B00NSF730O/ref=sr_1_7?keywords=motorola+mbp482&qid=1653337182&sr=8-7&ufe=app_do%3Aamzn1.fos.25548f35-0de7-44b3-b28e-0f56f3f96147',\n 'https://www.amazon.com.br/Motorola-Baba-Eletronica-Ease34-Branco/dp/B08FVXB74T/ref=sr_1_12?keywords=motorola+mbp482&qid=1653337182&sr=8-12&ufe=app_do%3Aamzn1.fos.25548f35-0de7-44b3-b28e-0f56f3f96147',\n 'https://www.amazon.com.br/Motorola-Moto-E7-Power-Vermelho/dp/B08XY4SN9W/ref=sr_1_15?keywords=motorola+mbp482&qid=1653337182&sr=8-15&ufe=app_do%3Aamzn1.fos.25548f35-0de7-44b3-b28e-0f56f3f96147',\n 'https://www.amazon.com.br/Smartphone-Motorola-E6S-32GB-Azul/dp/B086M8SBDK/ref=sr_1_29?keywords=motorola+mbp482&qid=1653337182&sr=8-29',\n 'https://www.amazon.com.br/Eletronica-Motorola-MBP-855-Connect-Colorida/dp/B084QZ7JPF/ref=sr_1_14?keywords=motorola+mbp482&qid=1653337182&sr=8-14&ufe=app_do%3Aamzn1.fos.25548f35-0de7-44b3-b28e-0f56f3f96147',\n 'https://www.amazon.com.br/Eletr%C3%B4nica-Digital-BB300-Multikids-Baby/dp/B07574YDHT/ref=sr_1_8?keywords=motorola+mbp482&qid=1653337182&sr=8-8&ufe=app_do%3Aamzn1.fos.25548f35-0de7-44b3-b28e-0f56f3f96147',\n 'https://www.amazon.com.br/Eletr%C3%B4nica-seguran%C3%A7a-nightvision-monitoramento-temperatura/dp/B088MFP63N/ref=sr_1_13?keywords=motorola+mbp482&qid=1653337182&sr=8-13&ufe=app_do%3Aamzn1.fos.25548f35-0de7-44b3-b28e-0f56f3f96147',\n 'https://www.amazon.com.br/Smartphone-Motorola-XT2083-Turquesa-C%C3%A2mera/dp/B08KFMJH2Q/ref=sr_1_23?keywords=motorola+mbp482&qid=1653337182&sr=8-23',\n 'https://www.amazon.com.br/Smartphone-Moto-G9-Play-Safira/dp/B08NFKJ67B/ref=sr_1_20?keywords=motorola+mbp482&qid=1653337182&sr=8-20&ufe=app_do%3Aamzn1.fos.25548f35-0de7-44b3-b28e-0f56f3f96147',\n 'https://www.amazon.com.br/Eletr%C3%B4nica-Motorola-Video-Colorido-MBP481/dp/B07M9ZDJ7J/ref=sr_1_5?keywords=motorola+mbp482&qid=1653337182&sr=8-5&ufe=app_do%3Aamzn1.fos.25548f35-0de7-44b3-b28e-0f56f3f96147',\n 'https://www.amazon.com.br/Smartphone-Motorola-Moto-32GB-Pink/dp/B08YRNW7S7/ref=sr_1_19?keywords=motorola+mbp482&qid=1653337182&sr=8-19&ufe=app_do%3Aamzn1.fos.25548f35-0de7-44b3-b28e-0f56f3f96147',\n 'https://www.amazon.com.br/Bab%C3%A1-Eletr%C3%B4nica-Motorola-EASE44Connect-Branca/dp/B08NFK5QCB/ref=sr_1_4?keywords=motorola+mbp482&qid=1653337182&sr=8-4&ufe=app_do%3Aamzn1.fos.25548f35-0de7-44b3-b28e-0f56f3f96147',\n 'https://www.amazon.com.br/Bab%C3%A1-Eletr%C3%B4nica-Motorola-MBP30A-Branca/dp/B08QFCNPXJ/ref=sr_1_3?keywords=motorola+mbp482&qid=1653337182&sr=8-3&ufe=app_do%3Aamzn1.fos.25548f35-0de7-44b3-b28e-0f56f3f96147',\n 'https://www.amazon.com.br/Celular-Motorola-Moto-Power-Camera/dp/B086XLLVPN/ref=sr_1_28?keywords=motorola+mbp482&qid=1653337182&sr=8-28&ufe=app_do%3Aamzn1.fos.25548f35-0de7-44b3-b28e-0f56f3f96147',\n 'https://www.amazon.com.br/Eletronica-Digital-MBP667A-Connect-Motorola/dp/B0731J6K8M/ref=sr_1_6?keywords=motorola+mbp482&qid=1653337182&sr=8-6&ufe=app_do%3Aamzn1.fos.25548f35-0de7-44b3-b28e-0f56f3f96147',\n 'https://www.amazon.com.br/Bab%C3%A1-Eletr%C3%B4nica-Motorola-MBP482-Branca/dp/B07BBTDDNF/ref=sr_1_2?keywords=motorola+mbp482&qid=1653337182&sr=8-2&ufe=app_do%3Aamzn1.fos.25548f35-0de7-44b3-b28e-0f56f3f96147',\n 'https://www.amazon.com.br/Smartphone-Motorola-Moto-64GB-Azul/dp/B095KWKRQP/ref=sr_1_17?keywords=motorola+mbp482&qid=1653337182&sr=8-17&ufe=app_do%3Aamzn1.fos.25548f35-0de7-44b3-b28e-0f56f3f96147',\n 'https://www.amazon.com.br/Celular-Motorola-Branco-Floral-Qu%C3%A1drupla/dp/B0914PVKBP/ref=sr_1_27?keywords=motorola+mbp482&qid=1653337182&sr=8-27',\n 'https://www.amazon.com.br/Celular-Motorola-Preto-128gb-Camera/dp/B09151QFWJ/ref=sr_1_22?keywords=motorola+mbp482&qid=1653337182&sr=8-22&ufe=app_do%3Aamzn1.fos.25548f35-0de7-44b3-b28e-0f56f3f96147',\n 'https://www.amazon.com.br/Celular-Motorola-Moto-E6s-Marinho/dp/B08F2VLB6K/ref=sr_1_30?keywords=motorola+mbp482&qid=1653337182&sr=8-30',\n 'https://www.amazon.com.br/Eletr%C3%B4nica-Motorola-Mbp-855-Connect-Noturna/dp/B01N807E5P/ref=sr_1_10?keywords=motorola+mbp482&qid=1653337182&sr=8-10&ufe=app_do%3Aamzn1.fos.25548f35-0de7-44b3-b28e-0f56f3f96147',\n 'https://www.amazon.com.br/Celular-Xiaomi-Redmi-64GB-Dual/dp/B08B3QSVM6/ref=sr_1_26?keywords=motorola+mbp482&qid=1653337182&sr=8-26',\n 'https://www.amazon.com.br/Eletr%C3%B4nica-Motorola-Mbp36xl-Alcance-Noturna/dp/B01IRIVFRS/ref=sr_1_9?keywords=motorola+mbp482&qid=1653337182&sr=8-9&ufe=app_do%3Aamzn1.fos.25548f35-0de7-44b3-b28e-0f56f3f96147',\n 'https://www.amazon.com.br/Eletr%C3%B4nica-Motorola-Mbp36xl-Alcance-Noturna/dp/B01IRIVFRS/ref=sr_1_6?keywords=motorola+mbp855&qid=1653337186&sr=8-6&ufe=app_do%3Aamzn1.fos.25548f35-0de7-44b3-b28e-0f56f3f96147',\n 'https://www.amazon.com.br/C%C3%A2mera-3-2-Polegadas-V%C3%ADdeo-Sem/dp/B088MFFJ1H/ref=sr_1_13?keywords=motorola+mbp855&qid=1653337186&sr=8-13&ufe=app_do%3Aamzn1.fos.25548f35-0de7-44b3-b28e-0f56f3f96147',\n 'https://www.amazon.com.br/Camera-Alta-Resolu%C3%A7%C3%A3o-WIFI-Eletr%C3%B4nica/dp/B00SPCI7TG/ref=sr_1_15?keywords=motorola+mbp855&qid=1653337186&sr=8-15&ufe=app_do%3Aamzn1.fos.db68964d-7c0e-4bb2-a95c-e5cb9e32eb12',\n 'https://www.amazon.com.br/Motorola-MBP-36S-SC-Eletr%C3%B4nica/dp/B00NSF730O/ref=sr_1_7?keywords=motorola+mbp855&qid=1653337186&sr=8-7&ufe=app_do%3Aamzn1.fos.25548f35-0de7-44b3-b28e-0f56f3f96147',\n 'https://www.amazon.com.br/Bab%C3%A1-Eletr%C3%B4nica-Motorola-MBP482-Branca/dp/B07BBTDDNF/ref=sr_1_9?keywords=motorola+mbp855&qid=1653337186&sr=8-9&ufe=app_do%3Aamzn1.fos.25548f35-0de7-44b3-b28e-0f56f3f96147',\n 'https://www.amazon.com.br/Bab%C3%A1-Eletr%C3%B4nica-Motorola-MBP30A-Branca/dp/B08QFCNPXJ/ref=sr_1_4?keywords=motorola+mbp855&qid=1653337186&sr=8-4&ufe=app_do%3Aamzn1.fos.25548f35-0de7-44b3-b28e-0f56f3f96147',\n 'https://www.amazon.com.br/Eletr%C3%B4nica-Motorola-Video-Colorido-MBP481/dp/B07M9ZDJ7J/ref=sr_1_14?keywords=motorola+mbp855&qid=1653337186&sr=8-14&ufe=app_do%3Aamzn1.fos.25548f35-0de7-44b3-b28e-0f56f3f96147',\n 'https://www.amazon.com.br/Eletr%C3%B4nica-atualiza%C3%A7%C3%A3o-Bidirecional-Polegadas-Smartphone/dp/B09NQDPZRX/ref=sr_1_3?keywords=motorola+mbp855&qid=1653337186&sr=8-3&ufe=app_do%3Aamzn1.fos.25548f35-0de7-44b3-b28e-0f56f3f96147',\n 'https://www.amazon.com.br/Eletr%C3%B4nica-Motorola-Mbp-855-Connect-Noturna/dp/B01N807E5P/ref=sr_1_2?keywords=motorola+mbp855&qid=1653337186&sr=8-2&ufe=app_do%3Aamzn1.fos.25548f35-0de7-44b3-b28e-0f56f3f96147',\n 'https://www.amazon.com.br/Motorola-Baby-Monitor-VM855-bidirecional/dp/B09BP6TMMF/ref=sr_1_12?keywords=motorola+mbp855&qid=1653337186&sr=8-12',\n 'https://www.amazon.com.br/Suporte-bab%C3%A1-eletr%C3%B4nica-Motorola-36XLBU/dp/B085Y9WGBS/ref=sr_1_21?keywords=motorola+mbp855&qid=1653337186&sr=8-21&ufe=app_do%3Aamzn1.fos.6121c6c4-c969-43ae-92f7-cc248fc6181d',\n 'https://www.amazon.com.br/Eletronica-Motorola-MBP-855-Connect-Colorida/dp/B084QZ7JPF/ref=sr_1_1?keywords=motorola+mbp855&qid=1653337186&sr=8-1&ufe=app_do%3Aamzn1.fos.25548f35-0de7-44b3-b28e-0f56f3f96147',\n 'https://www.amazon.com.br/Bab%C3%A1-Eletr%C3%B4nica-MBP668Connect-Vis%C3%A3o-Noturna/dp/B078KHB3YW/ref=sr_1_10?keywords=motorola+mbp855&qid=1653337186&sr=8-10&ufe=app_do%3Aamzn1.fos.25548f35-0de7-44b3-b28e-0f56f3f96147',\n 'https://www.amazon.com.br/Bab%C3%A1-Eletr%C3%B4nica-Motorola-EASE44Connect-Branca/dp/B08NFK5QCB/ref=sr_1_5?keywords=motorola+mbp855&qid=1653337186&sr=8-5&ufe=app_do%3Aamzn1.fos.25548f35-0de7-44b3-b28e-0f56f3f96147',\n 'https://www.amazon.com.br/Motorola-Bab%C3%A1-Eletr%C3%B4nica-AM24/dp/B09KMDWDZP/ref=sr_1_11?keywords=motorola+mbp855&qid=1653337186&sr=8-11&ufe=app_do%3Aamzn1.fos.25548f35-0de7-44b3-b28e-0f56f3f96147',\n 'https://www.amazon.com.br/Eletronica-Digital-MBP667A-Connect-Motorola/dp/B0731J6K8M/ref=sr_1_8?keywords=motorola+mbp855&qid=1653337186&sr=8-8&ufe=app_do%3Aamzn1.fos.25548f35-0de7-44b3-b28e-0f56f3f96147',\n 'https://www.amazon.com.br/Motorola-Baby-Monitor-VM855-bidirecional/dp/B09D1Q395Z/ref=sr_1_20?keywords=motorola+mbp855&qid=1653337186&sr=8-20',\n 'https://www.amazon.com.br/Motorola-Baba-Eletronica-Ease34-Branco/dp/B08FVXB74T/ref=sr_1_16?keywords=motorola+mbp855&qid=1653337186&sr=8-16&ufe=app_do%3Aamzn1.fos.25548f35-0de7-44b3-b28e-0f56f3f96147',\n 'https://www.amazon.com.br/Motorola-Baby-Monitor-VM85-bidirecional/dp/B09D1DLK1D/ref=sr_1_22?keywords=motorola+mbp855&qid=1653337186&sr=8-22']"
     },
     "execution_count": 87,
     "metadata": {},
     "output_type": "execute_result"
    }
   ],
   "source": [
    "Urls_amazon"
   ]
  },
  {
   "cell_type": "code",
   "execution_count": 88,
   "metadata": {
    "pycharm": {
     "name": "#%%\n"
    }
   },
   "outputs": [],
   "source": [
    "New_urls = clean_link(Urls_amazon, 'Wacom')"
   ]
  },
  {
   "cell_type": "code",
   "execution_count": 89,
   "metadata": {
    "pycharm": {
     "name": "#%%\n"
    }
   },
   "outputs": [
    {
     "data": {
      "text/plain": "(47, 2)"
     },
     "execution_count": 89,
     "metadata": {},
     "output_type": "execute_result"
    }
   ],
   "source": [
    "New_urls.shape"
   ]
  },
  {
   "cell_type": "code",
   "execution_count": 90,
   "metadata": {
    "pycharm": {
     "name": "#%%\n"
    }
   },
   "outputs": [],
   "source": [
    "def search_atributes(url):\n",
    "    #Tempo para não haver o bloqueio\n",
    "    time.sleep(10)\n",
    "\n",
    "    #Entrando dentro do site com o driver\n",
    "    driver.get(url)\n",
    "\n",
    "    body_el = driver.find_element(By.CSS_SELECTOR, 'body')\n",
    "    html_str = body_el.get_attribute('innerHTML')\n",
    "\n",
    "    #Criando o Soup\n",
    "    soup = BeautifulSoup(html_str, 'html.parser')\n",
    "\n",
    "    #Fazendo o try do nome do vendedor\n",
    "    try:\n",
    "        seller = soup.find(id='sellerProfileTriggerId').text\n",
    "        seller_2 = soup.find(\"a\", attrs={\"id\":'sellerProfileTriggerId'}).text\n",
    "        Amazon_seller.append(seller)\n",
    "        Amazon_seller_2.append(seller_2)\n",
    "    except:\n",
    "        Amazon_seller.append(\"Erro\")\n",
    "        Amazon_seller_2.append(\"Erro\")\n",
    "\n",
    "    #Fazendo o try do preço do produto a vista\n",
    "    try:\n",
    "        price = soup.find(class_='a-offscreen').text\n",
    "        Amazon_price.append(price)\n",
    "\n",
    "        Div_Price = soup.find('div', attrs={\"data-feature-name\":\"corePrice\"})\n",
    "        price_2 = Div_Price.find(class_='a-offscreen').text\n",
    "        Amazon_price_2.append(price_2)\n",
    "    except:\n",
    "        Amazon_price.append(\"Erro\")\n",
    "        Amazon_price_2.append(\"Erro\")\n",
    "\n",
    "    #Pegando o título do produto\n",
    "    try:\n",
    "        title = soup.find(id='productTitle').text\n",
    "        Amazon_title.append(title)\n",
    "    except:\n",
    "        Amazon_title.append('Erro')\n",
    "\n",
    "    #Pegando o internacional\n",
    "    try:\n",
    "        soup.find('img', attrs={'data-a-hires':'https://images-na.ssl-images-amazon.com/images/G/32/foreignseller/Foreign_Seller_Badge_v2._CB403622375_.png'})\n",
    "        internacional_list.append(\"Internacional\")\n",
    "    except:\n",
    "        internacional_list.append(\"Nacional\")\n",
    "\n",
    "    #Fazendo o try para pegar o preço da parcela\n",
    "    try:\n",
    "        installment = soup.find(class_='best-offer-name a-text-bold').text\n",
    "        Amazon_installment_price_full.append(installment)\n",
    "        \n",
    "        Div_installment = soup.find('div', attrs={'id':'installmentCalculator_feature_div'})\n",
    "        Installment_2 = Div_installment.find(class_='best-offer-name a-text-bold').text\n",
    "        Amazon_installment_price_full_2.append(Installment_2)\n",
    "    except:\n",
    "        Amazon_installment_price_full.append(\"0\")\n",
    "        Amazon_installment_price_full_2.append(\"Erro\")\n",
    "\n",
    "    #Fazendo o try para ver se tem mais ofertas\n",
    "    try:\n",
    "        Main_Div_More_offers = soup.find('div', attrs={\"id\":\"olpLinkWidget_feature_div\"})\n",
    "        Div_More_offers = Main_Div_More_offers.find('div', attrs={'class':'a-section olp-link-widget'})\n",
    "        Div_More_offers_text = Div_More_offers.find('div', attrs={'class':'olp-text-box'}).text\n",
    "        more_offers_list.append(Div_More_offers_text)\n",
    "    except:\n",
    "        more_offers_list.append(\"Comparar outras 0 ofertas\")\n"
   ]
  },
  {
   "cell_type": "code",
   "execution_count": 91,
   "metadata": {
    "pycharm": {
     "name": "#%%\n"
    }
   },
   "outputs": [
    {
     "name": "stderr",
     "output_type": "stream",
     "text": [
      "100%|██████████| 47/47 [09:43<00:00, 12.41s/it]\n"
     ]
    }
   ],
   "source": [
    "for url in tqdm(New_urls['Urls_finais']):\n",
    "    search_atributes(url)"
   ]
  },
  {
   "cell_type": "code",
   "execution_count": 92,
   "metadata": {
    "pycharm": {
     "name": "#%%\n"
    }
   },
   "outputs": [
    {
     "name": "stdout",
     "output_type": "stream",
     "text": [
      "47\n",
      "47\n",
      "47\n",
      "47\n",
      "47\n",
      "47\n"
     ]
    }
   ],
   "source": [
    "print(len(Amazon_title))\n",
    "print(len(Amazon_price_2))\n",
    "print(len(Amazon_seller_2))\n",
    "print(len(more_offers_list))\n",
    "print(len(Amazon_installment_price_full_2))\n",
    "print(len(internacional_list))"
   ]
  },
  {
   "cell_type": "code",
   "execution_count": 93,
   "metadata": {
    "pycharm": {
     "name": "#%%\n"
    }
   },
   "outputs": [],
   "source": [
    "def dataset_amazon(url, sellers, preco, titulo, more_url, brand):\n",
    "    # Criando o DataFrame\n",
    "    Dataset_amazon = pd.DataFrame()\n",
    "\n",
    "    #\n",
    "    Hoje = pd.to_datetime('today', errors='ignore').date()\n",
    "\n",
    "    # Colocando os dados\n",
    "    Dataset_amazon['URL'] = url\n",
    "    \n",
    "    Dataset_amazon['DATE'] = Hoje\n",
    "\n",
    "    Dataset_amazon['MARKETPLACE'] = \"AMAZON\"\n",
    "\n",
    "    \n",
    "\n",
    "    #Arrumando a coluna de sellers\n",
    "    Dataset_amazon['SELLER'] = sellers\n",
    "    Dataset_amazon['SELLER'] = Dataset_amazon['SELLER'].str.replace(\"Erro\",\"Amazon\", regex=False)\n",
    "\n",
    "    #Arrumando o preço \n",
    "    Dataset_amazon['PRICE'] = preco\n",
    "    Dataset_amazon['PRICE'] = Dataset_amazon['PRICE'].str.replace(\".\",\"\", regex=True)\n",
    "    Dataset_amazon['PRICE'] = Dataset_amazon['PRICE'].str.replace(\"R$\",\"\", regex=False)\n",
    "    Dataset_amazon['PRICE'] = Dataset_amazon['PRICE'].str.replace(\",\",\".\", regex=True)\n",
    "    \n",
    "\n",
    "    #Arrumando os valores de installment \n",
    "    Dataset_amazon['INSTALLMENT FULL'] = Amazon_installment_price_full\n",
    "    Dataset_amazon['PARCEL'] = Dataset_amazon['INSTALLMENT FULL'].str.extract('(\\d+)')\n",
    "    Dataset_amazon['PARCEL'] = Dataset_amazon['PARCEL'].astype(\"int\")\n",
    "    Dataset_amazon['parcel_price_bruto'] = \\\n",
    "    Dataset_amazon['INSTALLMENT FULL'].str.partition(\"R$\")[2].str.partition(\" \")[2].str.partition(\" \")[0]\n",
    "    Dataset_amazon['Installment3'] = Dataset_amazon['parcel_price_bruto'].str.extract('(\\d+)')\n",
    "    Dataset_amazon['parcel_price_bruto'] = \\\n",
    "    Dataset_amazon['INSTALLMENT FULL'].str.partition(\"R$\")[2].str.partition(\" \")[2].str.partition(\" \")[0].str.partition(\",\")[2]\n",
    "    Dataset_amazon['Installment4'] = Dataset_amazon['parcel_price_bruto'].str.extract('(\\d+)')\n",
    "    Dataset_amazon['INSTALLMENT'] = Dataset_amazon['Installment3'] + \".\" + Dataset_amazon['Installment4']\n",
    "    Dataset_amazon['INSTALLMENT'] = Dataset_amazon['INSTALLMENT'].astype(\"float\")\n",
    "    Dataset_amazon['INSTALLMENT'] = Dataset_amazon['INSTALLMENT'].fillna(0)\n",
    "    Dataset_amazon['INSTALLMENT_PAYMENT'] = Dataset_amazon['PARCEL'] * Dataset_amazon['INSTALLMENT']\n",
    "\n",
    "\n",
    "    Dataset_amazon['ID'] = Dataset_amazon['URL'].str.partition('/dp/')[2].str.partition('/')[0]\n",
    "    Dataset_amazon['PRODUCT'] = titulo\n",
    "    Dataset_amazon['INTERNACIONAL'] = internacional_list\n",
    "\n",
    "    #Arrumando valores de mais sellers\n",
    "    Dataset_amazon['MORE'] = more_url\n",
    "    Dataset_amazon['MORE'] = Dataset_amazon['MORE'].str.partition(\"outras \")[2].str.partition(\" ofertas\")[0]\n",
    "    \n",
    "    Dataset_amazon['MORE'] = Dataset_amazon['MORE'].astype('int')\n",
    "    \n",
    "\n",
    "    Dataset_amazon = Dataset_amazon.drop(columns=[\"INSTALLMENT FULL\", \"Installment3\", \"Installment4\", \"parcel_price_bruto\"])\n",
    "\n",
    "    #Pegando os itens certos \n",
    "    Dataset_amazon = Dataset_amazon[Dataset_amazon[\"PRICE\"] != \"Erro\"]\n",
    "    Dataset_amazon['PRICE'] = Dataset_amazon['PRICE'].astype('float')\n",
    "\n",
    "\n",
    "    #Colocando na ordem correta\n",
    "    Dataset_amazon = Dataset_amazon[['DATE', 'URL', 'MARKETPLACE', 'SELLER', 'PRICE', 'PARCEL', 'INSTALLMENT', 'INSTALLMENT_PAYMENT', 'ID', 'PRODUCT','INTERNACIONAL', 'MORE']]\n",
    "\n",
    "    if brand == \"GoPro\":\n",
    "        Dataset_amazon = Dataset_amazon[Dataset_amazon['PRICE'] > 900]\n",
    "    elif brand == 'Motorola':\n",
    "        Dataset_amazon = Dataset_amazon[Dataset_amazon['PRICE'] > 70]\n",
    "    elif brand == 'Wacom':\n",
    "        Dataset_amazon = Dataset_amazon[Dataset_amazon['PRICE'] > 100]\n",
    "    \n",
    "\n",
    "    return Dataset_amazon"
   ]
  },
  {
   "cell_type": "code",
   "execution_count": 101,
   "metadata": {
    "pycharm": {
     "name": "#%%\n"
    }
   },
   "outputs": [],
   "source": [
    "Df_final = dataset_amazon(New_urls['Urls_finais'], Amazon_seller_2, Amazon_price_2, Amazon_title, more_offers_list, 'Motorola')"
   ]
  },
  {
   "cell_type": "code",
   "execution_count": 95,
   "outputs": [],
   "source": [
    "Df_final=  Df_final.reset_index(drop=True)"
   ],
   "metadata": {
    "collapsed": false,
    "pycharm": {
     "name": "#%%\n"
    }
   }
  },
  {
   "cell_type": "code",
   "execution_count": 102,
   "metadata": {
    "pycharm": {
     "name": "#%%\n"
    }
   },
   "outputs": [
    {
     "data": {
      "text/plain": "          DATE                                                URL MARKETPLACE  \\\n0   2022-05-23  https://www.amazon.com.br/Eletr%C3%B4nica-Moto...      AMAZON   \n1   2022-05-23  https://www.amazon.com.br/Eletr%C3%B4nica-Moto...      AMAZON   \n2   2022-05-23  https://www.amazon.com.br/Eletr%C3%B4nica-Digi...      AMAZON   \n3   2022-05-23  https://www.amazon.com.br/Eletronica-Motorola-...      AMAZON   \n4   2022-05-23  https://www.amazon.com.br/Motorola-Baba-Eletro...      AMAZON   \n5   2022-05-23  https://www.amazon.com.br/Eletr%C3%B4nica-Digi...      AMAZON   \n6   2022-05-23  https://www.amazon.com.br/Bab%C3%A1-Eletr%C3%B...      AMAZON   \n7   2022-05-23  https://www.amazon.com.br/C%C3%A2mera-3-2-Pole...      AMAZON   \n8   2022-05-23  https://www.amazon.com.br/Bab%C3%A1-Eletr%C3%B...      AMAZON   \n9   2022-05-23  https://www.amazon.com.br/Eletr%C3%B4nica-Moto...      AMAZON   \n10  2022-05-23  https://www.amazon.com.br/C%C3%A2mera-Monitora...      AMAZON   \n11  2022-05-23  https://www.amazon.com.br/Eletronica-Digital-C...      AMAZON   \n12  2022-05-23  https://www.amazon.com.br/Bab%C3%A1-Eletr%C3%B...      AMAZON   \n13  2022-05-23  https://www.amazon.com.br/Bab%C3%A1-Eletr%C3%B...      AMAZON   \n14  2022-05-23  https://www.amazon.com.br/atualizado-infraverm...      AMAZON   \n15  2022-05-23  https://www.amazon.com.br/eletr%C3%B4nica-term...      AMAZON   \n16  2022-05-23  https://www.amazon.com.br/Eletronica-Digital-M...      AMAZON   \n17  2022-05-23  https://www.amazon.com.br/C%C3%A2mera-Seguran%...      AMAZON   \n18  2022-05-23  https://www.amazon.com.br/Motorola-MBP-36S-SC-...      AMAZON   \n19  2022-05-23  https://www.amazon.com.br/Motorola-Bab%C3%A1-E...      AMAZON   \n22  2022-05-23  https://www.amazon.com.br/eletr%C3%B4nica-Secu...      AMAZON   \n23  2022-05-23  https://www.amazon.com.br/C%C3%A2mera-Seguran%...      AMAZON   \n24  2022-05-23  https://www.amazon.com.br/Bab%C3%A1-Eletr%C3%B...      AMAZON   \n25  2022-05-23  https://www.amazon.com.br/universal-prateleira...      AMAZON   \n26  2022-05-23  https://www.amazon.com.br/C%C3%A2mera-Intelbra...      AMAZON   \n27  2022-05-23  https://www.amazon.com.br/C%C3%A2mera-Antenas-...      AMAZON   \n28  2022-05-23  https://www.amazon.com.br/suporte-eletr%C3%B4n...      AMAZON   \n29  2022-05-23  https://www.amazon.com.br/C%C3%A2mera-Alta-Res...      AMAZON   \n31  2022-05-23  https://www.amazon.com.br/Controle-Universal-I...      AMAZON   \n32  2022-05-23  https://www.amazon.com.br/Eletr%C3%B4nica-Digi...      AMAZON   \n33  2022-05-23  https://www.amazon.com.br/Motorola-Bab%C3%A1-E...      AMAZON   \n34  2022-05-23  https://www.amazon.com.br/Camera-Baba-eletroni...      AMAZON   \n35  2022-05-23  https://www.amazon.com.br/C%C3%A2mera-3-2-Pole...      AMAZON   \n36  2022-05-23  https://www.amazon.com.br/Dados-Carga-Motorola...      AMAZON   \n38  2022-05-23  https://www.amazon.com.br/Eletronica-C%C3%A2me...      AMAZON   \n39  2022-05-23  https://www.amazon.com.br/eletronica-wireless-...      AMAZON   \n40  2022-05-23  https://www.amazon.com.br/Eletr%C3%B4nica-Wi-F...      AMAZON   \n41  2022-05-23  https://www.amazon.com.br/Eletr%C3%B4nica-C%C3...      AMAZON   \n42  2022-05-23  https://www.amazon.com.br/Eletr%C3%B4nica-segu...      AMAZON   \n43  2022-05-23  https://www.amazon.com.br/Eletr%C3%B4nica-C%C3...      AMAZON   \n44  2022-05-23  https://www.amazon.com.br/Camera-Alta-Resolu%C...      AMAZON   \n\n             SELLER    PRICE  PARCEL  INSTALLMENT  INSTALLMENT_PAYMENT  \\\n0         MOTOLATAM  1699.00      10       169.90              1699.00   \n1            Amazon   926.91      10        92.70               927.00   \n2     MEIREMAGAZINE   348.97      10        34.96               349.60   \n3        Thaun Shop  1539.66      10       154.02              1540.20   \n4            Amazon  1299.00       1         1.93                 1.93   \n5            Amazon   768.90      10        76.89               768.90   \n6            Amazon   999.00      10        99.90               999.00   \n7    Belo Lar Store   426.95      10        42.74               427.40   \n8            Amazon  1727.91      10       172.80              1728.00   \n9            Amazon  1592.91      10       159.30              1593.00   \n10           Amazon   259.90     273       273.58             74687.34   \n11  MMPLACE OFICIAL   359.92      10        36.01               360.10   \n12        MOTOLATAM   999.00      10        99.90               999.00   \n13           Amazon  1484.91      10       148.50              1485.00   \n14          ♑GMTDDP   350.00      10        35.00               350.00   \n15           Wellao   375.00      10        37.50               375.00   \n16           Amazon  1279.00      10       127.90              1279.00   \n17       Thaun Shop    93.56       3        31.20                93.60   \n18           Amazon  1599.90      10       159.99              1599.90   \n19           Amazon   499.00      10        49.90               499.00   \n22            Opeco   463.90      10        46.39               463.90   \n23    RSA-eCommerce   452.24      10        45.26               452.60   \n24           Wellao   490.00      10        49.00               490.00   \n25    MEIREMAGAZINE   149.39       4        37.37               149.48   \n26       ALFA.STORE   145.90       4        36.49               145.96   \n27        NANU SHOP   134.90       4        33.74               134.96   \n28   World print 3D    77.00       2        38.50                77.00   \n29      CRISS SHOP.   136.36       4        34.09               136.36   \n31           Amazon    85.00       2        42.50                85.00   \n32           Amazon   814.51      10        81.46               814.60   \n33       Thaun Shop  1382.87      10       138.35              1383.50   \n34            MEEHO   126.89       4        31.73               126.92   \n35   Belo Lar Store   428.55      10        42.90               429.00   \n36         AZ Smart    94.90       3        31.64                94.92   \n38          ♑GMTDDP   350.00      10        35.00               350.00   \n39         PUROZELO   429.89      10        43.07               430.70   \n40    MEIREMAGAZINE   387.88      10        38.86               388.60   \n41   BRL Utilidades   298.00       9        33.12               298.08   \n42     Lojakionline   368.51      10        36.86               368.60   \n43       AllIn Shop   339.10      10        33.91               339.10   \n44    Ponto do Nerd   169.66       5        33.94               169.70   \n\n            ID                                            PRODUCT  \\\n0   B01N807E5P          Baba Eletrônica Motorola Mbp-855 Conne...   \n1   B07M9ZDJ7J          Babá Eletrônica Motorola MBP481 - Tela...   \n2   B07HNPNC36          Babá Eletrônica Digital Com Video E Vi...   \n3   B084QZ7JPF          Babá Eletronica Motorola MBP855 Connec...   \n4   B08FVXB74T          Motorola Baba Eletronica Ease34, Motor...   \n5   B07574YDHT          Babá Eletrônica Digital com Câmera Biv...   \n6   B07BBTDDNF          Babá Eletrônica Digital com Câmera MBP...   \n7   B081131PJQ          Câmera 3.2 Polegadas De Vídeo Sem Fio ...   \n8   B08NFK5QCB          Babá Eletrônica Motorola EASE44Connect...   \n9   B01IRIVFRS          Babá Eletrônica Motorola MBP36XL, Moto...   \n10  B07XLML2YS          Câmera de Monitoramento 360º, Wi-Fi Fu...   \n11  B076LD2CMK          Babá Eletrônica Digital com Câmera BB1...   \n12  B078KHB3YW          Babá Eletrônica MBP668Connect com Tela...   \n13  B08QFCNPXJ          Babá Eletrônica Motorola MBP30A, Motor...   \n14  B097NDPXBH                  Monitor de bebê atualizado          \n15  B088GQ387H          Babá eletrônica com termômetro baby mo...   \n16  B0731J6K8M          Babá Eletrônica Digital MBP667A Connec...   \n17  B096Y551MK          Câmera Segurança IP 637JBU e Cartão 16...   \n18  B00NSF730O           Baba Eletrônica, Motorola, Branco          \n19  B09KMDWDZP               Babá Eletrônica Motorola AM24          \n22  B089X15YTC          Babá eletrônica Smart Security intelig...   \n23  B081TSZ7JX          Câmera de Segurança Wifi Rotacional In...   \n24  B085JS7ZZ5          Babá Eletrônica Sem Fio Tela 4.3 Visão...   \n25  B07RXHQMVB          Monitor de bebê, suporte de câmera par...   \n26  B07RSXXXV3          Câmera Intelbras VHL 1120 B HD 720p Se...   \n27  B07VBYHNYX          Câmera Ip Sem Fio 360° 3 Antenas HD Wi...   \n28  B085Y9PN6H          Kit suporte baba eletrônica Motorola b...   \n29  B0796W64C8          Câmera Ip Hd 720 Alta Resolução WIFI b...   \n31  B078JNF58M          IZY Connect, Smart Controle Universal ...   \n32  B07MLRJVYM          Babá Eletrônica Digital com Vídeo - NU...   \n33  B09NCGHLN2              Babá Eletrônica Motorola VM64C          \n34  B07944J2GX          Camera Baba Eletronica 3 Antenas Wifi ...   \n35  B088MFFJ1H          Câmera 3.2 Polegadas De Vídeo Sem Fio ...   \n36  B08PKXBC6K          Cabo de Dados e Carga Motorola com Con...   \n38  B08KD6BZ79          Babá Eletronica Câmera Sem Fio Visão N...   \n39  B093RCXGFS          Babá eletronica wireless sem fio porta...   \n40  B08KDCPC1Z          Babá Eletrônica Wi-Fi Câmera, 2.4 Pole...   \n41  B0979CBWWG          Babá Eletrônica Wifi C/Câmera Visão No...   \n42  B088MFP63N          Babá Eletrônica Digital Monitor de Beb...   \n43  B07TVFM9H6          Babá Eletrônica Câmera Monitor Sem Fio...   \n44  B00SPCI7TG          Camera IP HD 720 Alta Resolução WiFi B...   \n\n    INTERNACIONAL  MORE  \n0   Internacional     2  \n1   Internacional     2  \n2   Internacional    10  \n3   Internacional     0  \n4   Internacional     2  \n5   Internacional    11  \n6   Internacional     0  \n7   Internacional    10  \n8   Internacional     3  \n9   Internacional     0  \n10  Internacional    29  \n11  Internacional    17  \n12  Internacional     0  \n13  Internacional     2  \n14  Internacional    11  \n15  Internacional     4  \n16  Internacional     0  \n17  Internacional     2  \n18  Internacional     2  \n19  Internacional     2  \n22  Internacional     3  \n23  Internacional     0  \n24  Internacional     5  \n25  Internacional     6  \n26  Internacional    19  \n27  Internacional    10  \n28  Internacional     0  \n29  Internacional     6  \n31  Internacional    25  \n32  Internacional     5  \n33  Internacional     3  \n34  Internacional    37  \n35  Internacional    10  \n36  Internacional     2  \n38  Internacional    15  \n39  Internacional     2  \n40  Internacional     4  \n41  Internacional     0  \n42  Internacional     5  \n43  Internacional     7  \n44  Internacional    10  ",
      "text/html": "<div>\n<style scoped>\n    .dataframe tbody tr th:only-of-type {\n        vertical-align: middle;\n    }\n\n    .dataframe tbody tr th {\n        vertical-align: top;\n    }\n\n    .dataframe thead th {\n        text-align: right;\n    }\n</style>\n<table border=\"1\" class=\"dataframe\">\n  <thead>\n    <tr style=\"text-align: right;\">\n      <th></th>\n      <th>DATE</th>\n      <th>URL</th>\n      <th>MARKETPLACE</th>\n      <th>SELLER</th>\n      <th>PRICE</th>\n      <th>PARCEL</th>\n      <th>INSTALLMENT</th>\n      <th>INSTALLMENT_PAYMENT</th>\n      <th>ID</th>\n      <th>PRODUCT</th>\n      <th>INTERNACIONAL</th>\n      <th>MORE</th>\n    </tr>\n  </thead>\n  <tbody>\n    <tr>\n      <th>0</th>\n      <td>2022-05-23</td>\n      <td>https://www.amazon.com.br/Eletr%C3%B4nica-Moto...</td>\n      <td>AMAZON</td>\n      <td>MOTOLATAM</td>\n      <td>1699.00</td>\n      <td>10</td>\n      <td>169.90</td>\n      <td>1699.00</td>\n      <td>B01N807E5P</td>\n      <td>Baba Eletrônica Motorola Mbp-855 Conne...</td>\n      <td>Internacional</td>\n      <td>2</td>\n    </tr>\n    <tr>\n      <th>1</th>\n      <td>2022-05-23</td>\n      <td>https://www.amazon.com.br/Eletr%C3%B4nica-Moto...</td>\n      <td>AMAZON</td>\n      <td>Amazon</td>\n      <td>926.91</td>\n      <td>10</td>\n      <td>92.70</td>\n      <td>927.00</td>\n      <td>B07M9ZDJ7J</td>\n      <td>Babá Eletrônica Motorola MBP481 - Tela...</td>\n      <td>Internacional</td>\n      <td>2</td>\n    </tr>\n    <tr>\n      <th>2</th>\n      <td>2022-05-23</td>\n      <td>https://www.amazon.com.br/Eletr%C3%B4nica-Digi...</td>\n      <td>AMAZON</td>\n      <td>MEIREMAGAZINE</td>\n      <td>348.97</td>\n      <td>10</td>\n      <td>34.96</td>\n      <td>349.60</td>\n      <td>B07HNPNC36</td>\n      <td>Babá Eletrônica Digital Com Video E Vi...</td>\n      <td>Internacional</td>\n      <td>10</td>\n    </tr>\n    <tr>\n      <th>3</th>\n      <td>2022-05-23</td>\n      <td>https://www.amazon.com.br/Eletronica-Motorola-...</td>\n      <td>AMAZON</td>\n      <td>Thaun Shop</td>\n      <td>1539.66</td>\n      <td>10</td>\n      <td>154.02</td>\n      <td>1540.20</td>\n      <td>B084QZ7JPF</td>\n      <td>Babá Eletronica Motorola MBP855 Connec...</td>\n      <td>Internacional</td>\n      <td>0</td>\n    </tr>\n    <tr>\n      <th>4</th>\n      <td>2022-05-23</td>\n      <td>https://www.amazon.com.br/Motorola-Baba-Eletro...</td>\n      <td>AMAZON</td>\n      <td>Amazon</td>\n      <td>1299.00</td>\n      <td>1</td>\n      <td>1.93</td>\n      <td>1.93</td>\n      <td>B08FVXB74T</td>\n      <td>Motorola Baba Eletronica Ease34, Motor...</td>\n      <td>Internacional</td>\n      <td>2</td>\n    </tr>\n    <tr>\n      <th>5</th>\n      <td>2022-05-23</td>\n      <td>https://www.amazon.com.br/Eletr%C3%B4nica-Digi...</td>\n      <td>AMAZON</td>\n      <td>Amazon</td>\n      <td>768.90</td>\n      <td>10</td>\n      <td>76.89</td>\n      <td>768.90</td>\n      <td>B07574YDHT</td>\n      <td>Babá Eletrônica Digital com Câmera Biv...</td>\n      <td>Internacional</td>\n      <td>11</td>\n    </tr>\n    <tr>\n      <th>6</th>\n      <td>2022-05-23</td>\n      <td>https://www.amazon.com.br/Bab%C3%A1-Eletr%C3%B...</td>\n      <td>AMAZON</td>\n      <td>Amazon</td>\n      <td>999.00</td>\n      <td>10</td>\n      <td>99.90</td>\n      <td>999.00</td>\n      <td>B07BBTDDNF</td>\n      <td>Babá Eletrônica Digital com Câmera MBP...</td>\n      <td>Internacional</td>\n      <td>0</td>\n    </tr>\n    <tr>\n      <th>7</th>\n      <td>2022-05-23</td>\n      <td>https://www.amazon.com.br/C%C3%A2mera-3-2-Pole...</td>\n      <td>AMAZON</td>\n      <td>Belo Lar Store</td>\n      <td>426.95</td>\n      <td>10</td>\n      <td>42.74</td>\n      <td>427.40</td>\n      <td>B081131PJQ</td>\n      <td>Câmera 3.2 Polegadas De Vídeo Sem Fio ...</td>\n      <td>Internacional</td>\n      <td>10</td>\n    </tr>\n    <tr>\n      <th>8</th>\n      <td>2022-05-23</td>\n      <td>https://www.amazon.com.br/Bab%C3%A1-Eletr%C3%B...</td>\n      <td>AMAZON</td>\n      <td>Amazon</td>\n      <td>1727.91</td>\n      <td>10</td>\n      <td>172.80</td>\n      <td>1728.00</td>\n      <td>B08NFK5QCB</td>\n      <td>Babá Eletrônica Motorola EASE44Connect...</td>\n      <td>Internacional</td>\n      <td>3</td>\n    </tr>\n    <tr>\n      <th>9</th>\n      <td>2022-05-23</td>\n      <td>https://www.amazon.com.br/Eletr%C3%B4nica-Moto...</td>\n      <td>AMAZON</td>\n      <td>Amazon</td>\n      <td>1592.91</td>\n      <td>10</td>\n      <td>159.30</td>\n      <td>1593.00</td>\n      <td>B01IRIVFRS</td>\n      <td>Babá Eletrônica Motorola MBP36XL, Moto...</td>\n      <td>Internacional</td>\n      <td>0</td>\n    </tr>\n    <tr>\n      <th>10</th>\n      <td>2022-05-23</td>\n      <td>https://www.amazon.com.br/C%C3%A2mera-Monitora...</td>\n      <td>AMAZON</td>\n      <td>Amazon</td>\n      <td>259.90</td>\n      <td>273</td>\n      <td>273.58</td>\n      <td>74687.34</td>\n      <td>B07XLML2YS</td>\n      <td>Câmera de Monitoramento 360º, Wi-Fi Fu...</td>\n      <td>Internacional</td>\n      <td>29</td>\n    </tr>\n    <tr>\n      <th>11</th>\n      <td>2022-05-23</td>\n      <td>https://www.amazon.com.br/Eletronica-Digital-C...</td>\n      <td>AMAZON</td>\n      <td>MMPLACE OFICIAL</td>\n      <td>359.92</td>\n      <td>10</td>\n      <td>36.01</td>\n      <td>360.10</td>\n      <td>B076LD2CMK</td>\n      <td>Babá Eletrônica Digital com Câmera BB1...</td>\n      <td>Internacional</td>\n      <td>17</td>\n    </tr>\n    <tr>\n      <th>12</th>\n      <td>2022-05-23</td>\n      <td>https://www.amazon.com.br/Bab%C3%A1-Eletr%C3%B...</td>\n      <td>AMAZON</td>\n      <td>MOTOLATAM</td>\n      <td>999.00</td>\n      <td>10</td>\n      <td>99.90</td>\n      <td>999.00</td>\n      <td>B078KHB3YW</td>\n      <td>Babá Eletrônica MBP668Connect com Tela...</td>\n      <td>Internacional</td>\n      <td>0</td>\n    </tr>\n    <tr>\n      <th>13</th>\n      <td>2022-05-23</td>\n      <td>https://www.amazon.com.br/Bab%C3%A1-Eletr%C3%B...</td>\n      <td>AMAZON</td>\n      <td>Amazon</td>\n      <td>1484.91</td>\n      <td>10</td>\n      <td>148.50</td>\n      <td>1485.00</td>\n      <td>B08QFCNPXJ</td>\n      <td>Babá Eletrônica Motorola MBP30A, Motor...</td>\n      <td>Internacional</td>\n      <td>2</td>\n    </tr>\n    <tr>\n      <th>14</th>\n      <td>2022-05-23</td>\n      <td>https://www.amazon.com.br/atualizado-infraverm...</td>\n      <td>AMAZON</td>\n      <td>♑GMTDDP</td>\n      <td>350.00</td>\n      <td>10</td>\n      <td>35.00</td>\n      <td>350.00</td>\n      <td>B097NDPXBH</td>\n      <td>Monitor de bebê atualizado</td>\n      <td>Internacional</td>\n      <td>11</td>\n    </tr>\n    <tr>\n      <th>15</th>\n      <td>2022-05-23</td>\n      <td>https://www.amazon.com.br/eletr%C3%B4nica-term...</td>\n      <td>AMAZON</td>\n      <td>Wellao</td>\n      <td>375.00</td>\n      <td>10</td>\n      <td>37.50</td>\n      <td>375.00</td>\n      <td>B088GQ387H</td>\n      <td>Babá eletrônica com termômetro baby mo...</td>\n      <td>Internacional</td>\n      <td>4</td>\n    </tr>\n    <tr>\n      <th>16</th>\n      <td>2022-05-23</td>\n      <td>https://www.amazon.com.br/Eletronica-Digital-M...</td>\n      <td>AMAZON</td>\n      <td>Amazon</td>\n      <td>1279.00</td>\n      <td>10</td>\n      <td>127.90</td>\n      <td>1279.00</td>\n      <td>B0731J6K8M</td>\n      <td>Babá Eletrônica Digital MBP667A Connec...</td>\n      <td>Internacional</td>\n      <td>0</td>\n    </tr>\n    <tr>\n      <th>17</th>\n      <td>2022-05-23</td>\n      <td>https://www.amazon.com.br/C%C3%A2mera-Seguran%...</td>\n      <td>AMAZON</td>\n      <td>Thaun Shop</td>\n      <td>93.56</td>\n      <td>3</td>\n      <td>31.20</td>\n      <td>93.60</td>\n      <td>B096Y551MK</td>\n      <td>Câmera Segurança IP 637JBU e Cartão 16...</td>\n      <td>Internacional</td>\n      <td>2</td>\n    </tr>\n    <tr>\n      <th>18</th>\n      <td>2022-05-23</td>\n      <td>https://www.amazon.com.br/Motorola-MBP-36S-SC-...</td>\n      <td>AMAZON</td>\n      <td>Amazon</td>\n      <td>1599.90</td>\n      <td>10</td>\n      <td>159.99</td>\n      <td>1599.90</td>\n      <td>B00NSF730O</td>\n      <td>Baba Eletrônica, Motorola, Branco</td>\n      <td>Internacional</td>\n      <td>2</td>\n    </tr>\n    <tr>\n      <th>19</th>\n      <td>2022-05-23</td>\n      <td>https://www.amazon.com.br/Motorola-Bab%C3%A1-E...</td>\n      <td>AMAZON</td>\n      <td>Amazon</td>\n      <td>499.00</td>\n      <td>10</td>\n      <td>49.90</td>\n      <td>499.00</td>\n      <td>B09KMDWDZP</td>\n      <td>Babá Eletrônica Motorola AM24</td>\n      <td>Internacional</td>\n      <td>2</td>\n    </tr>\n    <tr>\n      <th>22</th>\n      <td>2022-05-23</td>\n      <td>https://www.amazon.com.br/eletr%C3%B4nica-Secu...</td>\n      <td>AMAZON</td>\n      <td>Opeco</td>\n      <td>463.90</td>\n      <td>10</td>\n      <td>46.39</td>\n      <td>463.90</td>\n      <td>B089X15YTC</td>\n      <td>Babá eletrônica Smart Security intelig...</td>\n      <td>Internacional</td>\n      <td>3</td>\n    </tr>\n    <tr>\n      <th>23</th>\n      <td>2022-05-23</td>\n      <td>https://www.amazon.com.br/C%C3%A2mera-Seguran%...</td>\n      <td>AMAZON</td>\n      <td>RSA-eCommerce</td>\n      <td>452.24</td>\n      <td>10</td>\n      <td>45.26</td>\n      <td>452.60</td>\n      <td>B081TSZ7JX</td>\n      <td>Câmera de Segurança Wifi Rotacional In...</td>\n      <td>Internacional</td>\n      <td>0</td>\n    </tr>\n    <tr>\n      <th>24</th>\n      <td>2022-05-23</td>\n      <td>https://www.amazon.com.br/Bab%C3%A1-Eletr%C3%B...</td>\n      <td>AMAZON</td>\n      <td>Wellao</td>\n      <td>490.00</td>\n      <td>10</td>\n      <td>49.00</td>\n      <td>490.00</td>\n      <td>B085JS7ZZ5</td>\n      <td>Babá Eletrônica Sem Fio Tela 4.3 Visão...</td>\n      <td>Internacional</td>\n      <td>5</td>\n    </tr>\n    <tr>\n      <th>25</th>\n      <td>2022-05-23</td>\n      <td>https://www.amazon.com.br/universal-prateleira...</td>\n      <td>AMAZON</td>\n      <td>MEIREMAGAZINE</td>\n      <td>149.39</td>\n      <td>4</td>\n      <td>37.37</td>\n      <td>149.48</td>\n      <td>B07RXHQMVB</td>\n      <td>Monitor de bebê, suporte de câmera par...</td>\n      <td>Internacional</td>\n      <td>6</td>\n    </tr>\n    <tr>\n      <th>26</th>\n      <td>2022-05-23</td>\n      <td>https://www.amazon.com.br/C%C3%A2mera-Intelbra...</td>\n      <td>AMAZON</td>\n      <td>ALFA.STORE</td>\n      <td>145.90</td>\n      <td>4</td>\n      <td>36.49</td>\n      <td>145.96</td>\n      <td>B07RSXXXV3</td>\n      <td>Câmera Intelbras VHL 1120 B HD 720p Se...</td>\n      <td>Internacional</td>\n      <td>19</td>\n    </tr>\n    <tr>\n      <th>27</th>\n      <td>2022-05-23</td>\n      <td>https://www.amazon.com.br/C%C3%A2mera-Antenas-...</td>\n      <td>AMAZON</td>\n      <td>NANU SHOP</td>\n      <td>134.90</td>\n      <td>4</td>\n      <td>33.74</td>\n      <td>134.96</td>\n      <td>B07VBYHNYX</td>\n      <td>Câmera Ip Sem Fio 360° 3 Antenas HD Wi...</td>\n      <td>Internacional</td>\n      <td>10</td>\n    </tr>\n    <tr>\n      <th>28</th>\n      <td>2022-05-23</td>\n      <td>https://www.amazon.com.br/suporte-eletr%C3%B4n...</td>\n      <td>AMAZON</td>\n      <td>World print 3D</td>\n      <td>77.00</td>\n      <td>2</td>\n      <td>38.50</td>\n      <td>77.00</td>\n      <td>B085Y9PN6H</td>\n      <td>Kit suporte baba eletrônica Motorola b...</td>\n      <td>Internacional</td>\n      <td>0</td>\n    </tr>\n    <tr>\n      <th>29</th>\n      <td>2022-05-23</td>\n      <td>https://www.amazon.com.br/C%C3%A2mera-Alta-Res...</td>\n      <td>AMAZON</td>\n      <td>CRISS SHOP.</td>\n      <td>136.36</td>\n      <td>4</td>\n      <td>34.09</td>\n      <td>136.36</td>\n      <td>B0796W64C8</td>\n      <td>Câmera Ip Hd 720 Alta Resolução WIFI b...</td>\n      <td>Internacional</td>\n      <td>6</td>\n    </tr>\n    <tr>\n      <th>31</th>\n      <td>2022-05-23</td>\n      <td>https://www.amazon.com.br/Controle-Universal-I...</td>\n      <td>AMAZON</td>\n      <td>Amazon</td>\n      <td>85.00</td>\n      <td>2</td>\n      <td>42.50</td>\n      <td>85.00</td>\n      <td>B078JNF58M</td>\n      <td>IZY Connect, Smart Controle Universal ...</td>\n      <td>Internacional</td>\n      <td>25</td>\n    </tr>\n    <tr>\n      <th>32</th>\n      <td>2022-05-23</td>\n      <td>https://www.amazon.com.br/Eletr%C3%B4nica-Digi...</td>\n      <td>AMAZON</td>\n      <td>Amazon</td>\n      <td>814.51</td>\n      <td>10</td>\n      <td>81.46</td>\n      <td>814.60</td>\n      <td>B07MLRJVYM</td>\n      <td>Babá Eletrônica Digital com Vídeo - NU...</td>\n      <td>Internacional</td>\n      <td>5</td>\n    </tr>\n    <tr>\n      <th>33</th>\n      <td>2022-05-23</td>\n      <td>https://www.amazon.com.br/Motorola-Bab%C3%A1-E...</td>\n      <td>AMAZON</td>\n      <td>Thaun Shop</td>\n      <td>1382.87</td>\n      <td>10</td>\n      <td>138.35</td>\n      <td>1383.50</td>\n      <td>B09NCGHLN2</td>\n      <td>Babá Eletrônica Motorola VM64C</td>\n      <td>Internacional</td>\n      <td>3</td>\n    </tr>\n    <tr>\n      <th>34</th>\n      <td>2022-05-23</td>\n      <td>https://www.amazon.com.br/Camera-Baba-eletroni...</td>\n      <td>AMAZON</td>\n      <td>MEEHO</td>\n      <td>126.89</td>\n      <td>4</td>\n      <td>31.73</td>\n      <td>126.92</td>\n      <td>B07944J2GX</td>\n      <td>Camera Baba Eletronica 3 Antenas Wifi ...</td>\n      <td>Internacional</td>\n      <td>37</td>\n    </tr>\n    <tr>\n      <th>35</th>\n      <td>2022-05-23</td>\n      <td>https://www.amazon.com.br/C%C3%A2mera-3-2-Pole...</td>\n      <td>AMAZON</td>\n      <td>Belo Lar Store</td>\n      <td>428.55</td>\n      <td>10</td>\n      <td>42.90</td>\n      <td>429.00</td>\n      <td>B088MFFJ1H</td>\n      <td>Câmera 3.2 Polegadas De Vídeo Sem Fio ...</td>\n      <td>Internacional</td>\n      <td>10</td>\n    </tr>\n    <tr>\n      <th>36</th>\n      <td>2022-05-23</td>\n      <td>https://www.amazon.com.br/Dados-Carga-Motorola...</td>\n      <td>AMAZON</td>\n      <td>AZ Smart</td>\n      <td>94.90</td>\n      <td>3</td>\n      <td>31.64</td>\n      <td>94.92</td>\n      <td>B08PKXBC6K</td>\n      <td>Cabo de Dados e Carga Motorola com Con...</td>\n      <td>Internacional</td>\n      <td>2</td>\n    </tr>\n    <tr>\n      <th>38</th>\n      <td>2022-05-23</td>\n      <td>https://www.amazon.com.br/Eletronica-C%C3%A2me...</td>\n      <td>AMAZON</td>\n      <td>♑GMTDDP</td>\n      <td>350.00</td>\n      <td>10</td>\n      <td>35.00</td>\n      <td>350.00</td>\n      <td>B08KD6BZ79</td>\n      <td>Babá Eletronica Câmera Sem Fio Visão N...</td>\n      <td>Internacional</td>\n      <td>15</td>\n    </tr>\n    <tr>\n      <th>39</th>\n      <td>2022-05-23</td>\n      <td>https://www.amazon.com.br/eletronica-wireless-...</td>\n      <td>AMAZON</td>\n      <td>PUROZELO</td>\n      <td>429.89</td>\n      <td>10</td>\n      <td>43.07</td>\n      <td>430.70</td>\n      <td>B093RCXGFS</td>\n      <td>Babá eletronica wireless sem fio porta...</td>\n      <td>Internacional</td>\n      <td>2</td>\n    </tr>\n    <tr>\n      <th>40</th>\n      <td>2022-05-23</td>\n      <td>https://www.amazon.com.br/Eletr%C3%B4nica-Wi-F...</td>\n      <td>AMAZON</td>\n      <td>MEIREMAGAZINE</td>\n      <td>387.88</td>\n      <td>10</td>\n      <td>38.86</td>\n      <td>388.60</td>\n      <td>B08KDCPC1Z</td>\n      <td>Babá Eletrônica Wi-Fi Câmera, 2.4 Pole...</td>\n      <td>Internacional</td>\n      <td>4</td>\n    </tr>\n    <tr>\n      <th>41</th>\n      <td>2022-05-23</td>\n      <td>https://www.amazon.com.br/Eletr%C3%B4nica-C%C3...</td>\n      <td>AMAZON</td>\n      <td>BRL Utilidades</td>\n      <td>298.00</td>\n      <td>9</td>\n      <td>33.12</td>\n      <td>298.08</td>\n      <td>B0979CBWWG</td>\n      <td>Babá Eletrônica Wifi C/Câmera Visão No...</td>\n      <td>Internacional</td>\n      <td>0</td>\n    </tr>\n    <tr>\n      <th>42</th>\n      <td>2022-05-23</td>\n      <td>https://www.amazon.com.br/Eletr%C3%B4nica-segu...</td>\n      <td>AMAZON</td>\n      <td>Lojakionline</td>\n      <td>368.51</td>\n      <td>10</td>\n      <td>36.86</td>\n      <td>368.60</td>\n      <td>B088MFP63N</td>\n      <td>Babá Eletrônica Digital Monitor de Beb...</td>\n      <td>Internacional</td>\n      <td>5</td>\n    </tr>\n    <tr>\n      <th>43</th>\n      <td>2022-05-23</td>\n      <td>https://www.amazon.com.br/Eletr%C3%B4nica-C%C3...</td>\n      <td>AMAZON</td>\n      <td>AllIn Shop</td>\n      <td>339.10</td>\n      <td>10</td>\n      <td>33.91</td>\n      <td>339.10</td>\n      <td>B07TVFM9H6</td>\n      <td>Babá Eletrônica Câmera Monitor Sem Fio...</td>\n      <td>Internacional</td>\n      <td>7</td>\n    </tr>\n    <tr>\n      <th>44</th>\n      <td>2022-05-23</td>\n      <td>https://www.amazon.com.br/Camera-Alta-Resolu%C...</td>\n      <td>AMAZON</td>\n      <td>Ponto do Nerd</td>\n      <td>169.66</td>\n      <td>5</td>\n      <td>33.94</td>\n      <td>169.70</td>\n      <td>B00SPCI7TG</td>\n      <td>Camera IP HD 720 Alta Resolução WiFi B...</td>\n      <td>Internacional</td>\n      <td>10</td>\n    </tr>\n  </tbody>\n</table>\n</div>"
     },
     "execution_count": 102,
     "metadata": {},
     "output_type": "execute_result"
    }
   ],
   "source": [
    "Df_final"
   ]
  },
  {
   "cell_type": "code",
   "execution_count": 97,
   "metadata": {
    "pycharm": {
     "name": "#%%\n"
    }
   },
   "outputs": [],
   "source": [
    "Df_final.to_excel(r\"C:\\Users\\pedro\\Documents\\Turte Brand Protection\\Turtle_Thinker_Alpha_0.1\\Amazon_Motorola.xlsx\", index=False)"
   ]
  },
  {
   "cell_type": "code",
   "execution_count": 98,
   "metadata": {
    "pycharm": {
     "name": "#%%\n"
    }
   },
   "outputs": [
    {
     "data": {
      "text/plain": "DATE                    object\nURL                     object\nMARKETPLACE             object\nSELLER                  object\nPRICE                  float64\nPARCEL                   int32\nINSTALLMENT            float64\nINSTALLMENT_PAYMENT    float64\nID                      object\nPRODUCT                 object\nINTERNACIONAL           object\nMORE                     int32\ndtype: object"
     },
     "execution_count": 98,
     "metadata": {},
     "output_type": "execute_result"
    }
   ],
   "source": [
    "Df_final.dtypes"
   ]
  },
  {
   "cell_type": "code",
   "execution_count": 103,
   "metadata": {
    "pycharm": {
     "name": "#%%\n"
    }
   },
   "outputs": [
    {
     "data": {
      "text/plain": "          DATE                                                URL MARKETPLACE  \\\n0   2022-05-23  https://www.amazon.com.br/Eletr%C3%B4nica-Moto...      AMAZON   \n1   2022-05-23  https://www.amazon.com.br/Eletr%C3%B4nica-Moto...      AMAZON   \n2   2022-05-23  https://www.amazon.com.br/Eletr%C3%B4nica-Digi...      AMAZON   \n4   2022-05-23  https://www.amazon.com.br/Motorola-Baba-Eletro...      AMAZON   \n5   2022-05-23  https://www.amazon.com.br/Eletr%C3%B4nica-Digi...      AMAZON   \n7   2022-05-23  https://www.amazon.com.br/C%C3%A2mera-3-2-Pole...      AMAZON   \n8   2022-05-23  https://www.amazon.com.br/Bab%C3%A1-Eletr%C3%B...      AMAZON   \n10  2022-05-23  https://www.amazon.com.br/C%C3%A2mera-Monitora...      AMAZON   \n11  2022-05-23  https://www.amazon.com.br/Eletronica-Digital-C...      AMAZON   \n13  2022-05-23  https://www.amazon.com.br/Bab%C3%A1-Eletr%C3%B...      AMAZON   \n14  2022-05-23  https://www.amazon.com.br/atualizado-infraverm...      AMAZON   \n15  2022-05-23  https://www.amazon.com.br/eletr%C3%B4nica-term...      AMAZON   \n17  2022-05-23  https://www.amazon.com.br/C%C3%A2mera-Seguran%...      AMAZON   \n18  2022-05-23  https://www.amazon.com.br/Motorola-MBP-36S-SC-...      AMAZON   \n19  2022-05-23  https://www.amazon.com.br/Motorola-Bab%C3%A1-E...      AMAZON   \n22  2022-05-23  https://www.amazon.com.br/eletr%C3%B4nica-Secu...      AMAZON   \n24  2022-05-23  https://www.amazon.com.br/Bab%C3%A1-Eletr%C3%B...      AMAZON   \n25  2022-05-23  https://www.amazon.com.br/universal-prateleira...      AMAZON   \n26  2022-05-23  https://www.amazon.com.br/C%C3%A2mera-Intelbra...      AMAZON   \n27  2022-05-23  https://www.amazon.com.br/C%C3%A2mera-Antenas-...      AMAZON   \n29  2022-05-23  https://www.amazon.com.br/C%C3%A2mera-Alta-Res...      AMAZON   \n31  2022-05-23  https://www.amazon.com.br/Controle-Universal-I...      AMAZON   \n32  2022-05-23  https://www.amazon.com.br/Eletr%C3%B4nica-Digi...      AMAZON   \n33  2022-05-23  https://www.amazon.com.br/Motorola-Bab%C3%A1-E...      AMAZON   \n34  2022-05-23  https://www.amazon.com.br/Camera-Baba-eletroni...      AMAZON   \n35  2022-05-23  https://www.amazon.com.br/C%C3%A2mera-3-2-Pole...      AMAZON   \n36  2022-05-23  https://www.amazon.com.br/Dados-Carga-Motorola...      AMAZON   \n38  2022-05-23  https://www.amazon.com.br/Eletronica-C%C3%A2me...      AMAZON   \n39  2022-05-23  https://www.amazon.com.br/eletronica-wireless-...      AMAZON   \n40  2022-05-23  https://www.amazon.com.br/Eletr%C3%B4nica-Wi-F...      AMAZON   \n42  2022-05-23  https://www.amazon.com.br/Eletr%C3%B4nica-segu...      AMAZON   \n43  2022-05-23  https://www.amazon.com.br/Eletr%C3%B4nica-C%C3...      AMAZON   \n44  2022-05-23  https://www.amazon.com.br/Camera-Alta-Resolu%C...      AMAZON   \n\n             SELLER    PRICE  PARCEL  INSTALLMENT  INSTALLMENT_PAYMENT  \\\n0         MOTOLATAM  1699.00      10       169.90              1699.00   \n1            Amazon   926.91      10        92.70               927.00   \n2     MEIREMAGAZINE   348.97      10        34.96               349.60   \n4            Amazon  1299.00       1         1.93                 1.93   \n5            Amazon   768.90      10        76.89               768.90   \n7    Belo Lar Store   426.95      10        42.74               427.40   \n8            Amazon  1727.91      10       172.80              1728.00   \n10           Amazon   259.90     273       273.58             74687.34   \n11  MMPLACE OFICIAL   359.92      10        36.01               360.10   \n13           Amazon  1484.91      10       148.50              1485.00   \n14          ♑GMTDDP   350.00      10        35.00               350.00   \n15           Wellao   375.00      10        37.50               375.00   \n17       Thaun Shop    93.56       3        31.20                93.60   \n18           Amazon  1599.90      10       159.99              1599.90   \n19           Amazon   499.00      10        49.90               499.00   \n22            Opeco   463.90      10        46.39               463.90   \n24           Wellao   490.00      10        49.00               490.00   \n25    MEIREMAGAZINE   149.39       4        37.37               149.48   \n26       ALFA.STORE   145.90       4        36.49               145.96   \n27        NANU SHOP   134.90       4        33.74               134.96   \n29      CRISS SHOP.   136.36       4        34.09               136.36   \n31           Amazon    85.00       2        42.50                85.00   \n32           Amazon   814.51      10        81.46               814.60   \n33       Thaun Shop  1382.87      10       138.35              1383.50   \n34            MEEHO   126.89       4        31.73               126.92   \n35   Belo Lar Store   428.55      10        42.90               429.00   \n36         AZ Smart    94.90       3        31.64                94.92   \n38          ♑GMTDDP   350.00      10        35.00               350.00   \n39         PUROZELO   429.89      10        43.07               430.70   \n40    MEIREMAGAZINE   387.88      10        38.86               388.60   \n42     Lojakionline   368.51      10        36.86               368.60   \n43       AllIn Shop   339.10      10        33.91               339.10   \n44    Ponto do Nerd   169.66       5        33.94               169.70   \n\n            ID                                            PRODUCT  \\\n0   B01N807E5P          Baba Eletrônica Motorola Mbp-855 Conne...   \n1   B07M9ZDJ7J          Babá Eletrônica Motorola MBP481 - Tela...   \n2   B07HNPNC36          Babá Eletrônica Digital Com Video E Vi...   \n4   B08FVXB74T          Motorola Baba Eletronica Ease34, Motor...   \n5   B07574YDHT          Babá Eletrônica Digital com Câmera Biv...   \n7   B081131PJQ          Câmera 3.2 Polegadas De Vídeo Sem Fio ...   \n8   B08NFK5QCB          Babá Eletrônica Motorola EASE44Connect...   \n10  B07XLML2YS          Câmera de Monitoramento 360º, Wi-Fi Fu...   \n11  B076LD2CMK          Babá Eletrônica Digital com Câmera BB1...   \n13  B08QFCNPXJ          Babá Eletrônica Motorola MBP30A, Motor...   \n14  B097NDPXBH                  Monitor de bebê atualizado          \n15  B088GQ387H          Babá eletrônica com termômetro baby mo...   \n17  B096Y551MK          Câmera Segurança IP 637JBU e Cartão 16...   \n18  B00NSF730O           Baba Eletrônica, Motorola, Branco          \n19  B09KMDWDZP               Babá Eletrônica Motorola AM24          \n22  B089X15YTC          Babá eletrônica Smart Security intelig...   \n24  B085JS7ZZ5          Babá Eletrônica Sem Fio Tela 4.3 Visão...   \n25  B07RXHQMVB          Monitor de bebê, suporte de câmera par...   \n26  B07RSXXXV3          Câmera Intelbras VHL 1120 B HD 720p Se...   \n27  B07VBYHNYX          Câmera Ip Sem Fio 360° 3 Antenas HD Wi...   \n29  B0796W64C8          Câmera Ip Hd 720 Alta Resolução WIFI b...   \n31  B078JNF58M          IZY Connect, Smart Controle Universal ...   \n32  B07MLRJVYM          Babá Eletrônica Digital com Vídeo - NU...   \n33  B09NCGHLN2              Babá Eletrônica Motorola VM64C          \n34  B07944J2GX          Camera Baba Eletronica 3 Antenas Wifi ...   \n35  B088MFFJ1H          Câmera 3.2 Polegadas De Vídeo Sem Fio ...   \n36  B08PKXBC6K          Cabo de Dados e Carga Motorola com Con...   \n38  B08KD6BZ79          Babá Eletronica Câmera Sem Fio Visão N...   \n39  B093RCXGFS          Babá eletronica wireless sem fio porta...   \n40  B08KDCPC1Z          Babá Eletrônica Wi-Fi Câmera, 2.4 Pole...   \n42  B088MFP63N          Babá Eletrônica Digital Monitor de Beb...   \n43  B07TVFM9H6          Babá Eletrônica Câmera Monitor Sem Fio...   \n44  B00SPCI7TG          Camera IP HD 720 Alta Resolução WiFi B...   \n\n    INTERNACIONAL  MORE  \n0   Internacional     2  \n1   Internacional     2  \n2   Internacional    10  \n4   Internacional     2  \n5   Internacional    11  \n7   Internacional    10  \n8   Internacional     3  \n10  Internacional    29  \n11  Internacional    17  \n13  Internacional     2  \n14  Internacional    11  \n15  Internacional     4  \n17  Internacional     2  \n18  Internacional     2  \n19  Internacional     2  \n22  Internacional     3  \n24  Internacional     5  \n25  Internacional     6  \n26  Internacional    19  \n27  Internacional    10  \n29  Internacional     6  \n31  Internacional    25  \n32  Internacional     5  \n33  Internacional     3  \n34  Internacional    37  \n35  Internacional    10  \n36  Internacional     2  \n38  Internacional    15  \n39  Internacional     2  \n40  Internacional     4  \n42  Internacional     5  \n43  Internacional     7  \n44  Internacional    10  ",
      "text/html": "<div>\n<style scoped>\n    .dataframe tbody tr th:only-of-type {\n        vertical-align: middle;\n    }\n\n    .dataframe tbody tr th {\n        vertical-align: top;\n    }\n\n    .dataframe thead th {\n        text-align: right;\n    }\n</style>\n<table border=\"1\" class=\"dataframe\">\n  <thead>\n    <tr style=\"text-align: right;\">\n      <th></th>\n      <th>DATE</th>\n      <th>URL</th>\n      <th>MARKETPLACE</th>\n      <th>SELLER</th>\n      <th>PRICE</th>\n      <th>PARCEL</th>\n      <th>INSTALLMENT</th>\n      <th>INSTALLMENT_PAYMENT</th>\n      <th>ID</th>\n      <th>PRODUCT</th>\n      <th>INTERNACIONAL</th>\n      <th>MORE</th>\n    </tr>\n  </thead>\n  <tbody>\n    <tr>\n      <th>0</th>\n      <td>2022-05-23</td>\n      <td>https://www.amazon.com.br/Eletr%C3%B4nica-Moto...</td>\n      <td>AMAZON</td>\n      <td>MOTOLATAM</td>\n      <td>1699.00</td>\n      <td>10</td>\n      <td>169.90</td>\n      <td>1699.00</td>\n      <td>B01N807E5P</td>\n      <td>Baba Eletrônica Motorola Mbp-855 Conne...</td>\n      <td>Internacional</td>\n      <td>2</td>\n    </tr>\n    <tr>\n      <th>1</th>\n      <td>2022-05-23</td>\n      <td>https://www.amazon.com.br/Eletr%C3%B4nica-Moto...</td>\n      <td>AMAZON</td>\n      <td>Amazon</td>\n      <td>926.91</td>\n      <td>10</td>\n      <td>92.70</td>\n      <td>927.00</td>\n      <td>B07M9ZDJ7J</td>\n      <td>Babá Eletrônica Motorola MBP481 - Tela...</td>\n      <td>Internacional</td>\n      <td>2</td>\n    </tr>\n    <tr>\n      <th>2</th>\n      <td>2022-05-23</td>\n      <td>https://www.amazon.com.br/Eletr%C3%B4nica-Digi...</td>\n      <td>AMAZON</td>\n      <td>MEIREMAGAZINE</td>\n      <td>348.97</td>\n      <td>10</td>\n      <td>34.96</td>\n      <td>349.60</td>\n      <td>B07HNPNC36</td>\n      <td>Babá Eletrônica Digital Com Video E Vi...</td>\n      <td>Internacional</td>\n      <td>10</td>\n    </tr>\n    <tr>\n      <th>4</th>\n      <td>2022-05-23</td>\n      <td>https://www.amazon.com.br/Motorola-Baba-Eletro...</td>\n      <td>AMAZON</td>\n      <td>Amazon</td>\n      <td>1299.00</td>\n      <td>1</td>\n      <td>1.93</td>\n      <td>1.93</td>\n      <td>B08FVXB74T</td>\n      <td>Motorola Baba Eletronica Ease34, Motor...</td>\n      <td>Internacional</td>\n      <td>2</td>\n    </tr>\n    <tr>\n      <th>5</th>\n      <td>2022-05-23</td>\n      <td>https://www.amazon.com.br/Eletr%C3%B4nica-Digi...</td>\n      <td>AMAZON</td>\n      <td>Amazon</td>\n      <td>768.90</td>\n      <td>10</td>\n      <td>76.89</td>\n      <td>768.90</td>\n      <td>B07574YDHT</td>\n      <td>Babá Eletrônica Digital com Câmera Biv...</td>\n      <td>Internacional</td>\n      <td>11</td>\n    </tr>\n    <tr>\n      <th>7</th>\n      <td>2022-05-23</td>\n      <td>https://www.amazon.com.br/C%C3%A2mera-3-2-Pole...</td>\n      <td>AMAZON</td>\n      <td>Belo Lar Store</td>\n      <td>426.95</td>\n      <td>10</td>\n      <td>42.74</td>\n      <td>427.40</td>\n      <td>B081131PJQ</td>\n      <td>Câmera 3.2 Polegadas De Vídeo Sem Fio ...</td>\n      <td>Internacional</td>\n      <td>10</td>\n    </tr>\n    <tr>\n      <th>8</th>\n      <td>2022-05-23</td>\n      <td>https://www.amazon.com.br/Bab%C3%A1-Eletr%C3%B...</td>\n      <td>AMAZON</td>\n      <td>Amazon</td>\n      <td>1727.91</td>\n      <td>10</td>\n      <td>172.80</td>\n      <td>1728.00</td>\n      <td>B08NFK5QCB</td>\n      <td>Babá Eletrônica Motorola EASE44Connect...</td>\n      <td>Internacional</td>\n      <td>3</td>\n    </tr>\n    <tr>\n      <th>10</th>\n      <td>2022-05-23</td>\n      <td>https://www.amazon.com.br/C%C3%A2mera-Monitora...</td>\n      <td>AMAZON</td>\n      <td>Amazon</td>\n      <td>259.90</td>\n      <td>273</td>\n      <td>273.58</td>\n      <td>74687.34</td>\n      <td>B07XLML2YS</td>\n      <td>Câmera de Monitoramento 360º, Wi-Fi Fu...</td>\n      <td>Internacional</td>\n      <td>29</td>\n    </tr>\n    <tr>\n      <th>11</th>\n      <td>2022-05-23</td>\n      <td>https://www.amazon.com.br/Eletronica-Digital-C...</td>\n      <td>AMAZON</td>\n      <td>MMPLACE OFICIAL</td>\n      <td>359.92</td>\n      <td>10</td>\n      <td>36.01</td>\n      <td>360.10</td>\n      <td>B076LD2CMK</td>\n      <td>Babá Eletrônica Digital com Câmera BB1...</td>\n      <td>Internacional</td>\n      <td>17</td>\n    </tr>\n    <tr>\n      <th>13</th>\n      <td>2022-05-23</td>\n      <td>https://www.amazon.com.br/Bab%C3%A1-Eletr%C3%B...</td>\n      <td>AMAZON</td>\n      <td>Amazon</td>\n      <td>1484.91</td>\n      <td>10</td>\n      <td>148.50</td>\n      <td>1485.00</td>\n      <td>B08QFCNPXJ</td>\n      <td>Babá Eletrônica Motorola MBP30A, Motor...</td>\n      <td>Internacional</td>\n      <td>2</td>\n    </tr>\n    <tr>\n      <th>14</th>\n      <td>2022-05-23</td>\n      <td>https://www.amazon.com.br/atualizado-infraverm...</td>\n      <td>AMAZON</td>\n      <td>♑GMTDDP</td>\n      <td>350.00</td>\n      <td>10</td>\n      <td>35.00</td>\n      <td>350.00</td>\n      <td>B097NDPXBH</td>\n      <td>Monitor de bebê atualizado</td>\n      <td>Internacional</td>\n      <td>11</td>\n    </tr>\n    <tr>\n      <th>15</th>\n      <td>2022-05-23</td>\n      <td>https://www.amazon.com.br/eletr%C3%B4nica-term...</td>\n      <td>AMAZON</td>\n      <td>Wellao</td>\n      <td>375.00</td>\n      <td>10</td>\n      <td>37.50</td>\n      <td>375.00</td>\n      <td>B088GQ387H</td>\n      <td>Babá eletrônica com termômetro baby mo...</td>\n      <td>Internacional</td>\n      <td>4</td>\n    </tr>\n    <tr>\n      <th>17</th>\n      <td>2022-05-23</td>\n      <td>https://www.amazon.com.br/C%C3%A2mera-Seguran%...</td>\n      <td>AMAZON</td>\n      <td>Thaun Shop</td>\n      <td>93.56</td>\n      <td>3</td>\n      <td>31.20</td>\n      <td>93.60</td>\n      <td>B096Y551MK</td>\n      <td>Câmera Segurança IP 637JBU e Cartão 16...</td>\n      <td>Internacional</td>\n      <td>2</td>\n    </tr>\n    <tr>\n      <th>18</th>\n      <td>2022-05-23</td>\n      <td>https://www.amazon.com.br/Motorola-MBP-36S-SC-...</td>\n      <td>AMAZON</td>\n      <td>Amazon</td>\n      <td>1599.90</td>\n      <td>10</td>\n      <td>159.99</td>\n      <td>1599.90</td>\n      <td>B00NSF730O</td>\n      <td>Baba Eletrônica, Motorola, Branco</td>\n      <td>Internacional</td>\n      <td>2</td>\n    </tr>\n    <tr>\n      <th>19</th>\n      <td>2022-05-23</td>\n      <td>https://www.amazon.com.br/Motorola-Bab%C3%A1-E...</td>\n      <td>AMAZON</td>\n      <td>Amazon</td>\n      <td>499.00</td>\n      <td>10</td>\n      <td>49.90</td>\n      <td>499.00</td>\n      <td>B09KMDWDZP</td>\n      <td>Babá Eletrônica Motorola AM24</td>\n      <td>Internacional</td>\n      <td>2</td>\n    </tr>\n    <tr>\n      <th>22</th>\n      <td>2022-05-23</td>\n      <td>https://www.amazon.com.br/eletr%C3%B4nica-Secu...</td>\n      <td>AMAZON</td>\n      <td>Opeco</td>\n      <td>463.90</td>\n      <td>10</td>\n      <td>46.39</td>\n      <td>463.90</td>\n      <td>B089X15YTC</td>\n      <td>Babá eletrônica Smart Security intelig...</td>\n      <td>Internacional</td>\n      <td>3</td>\n    </tr>\n    <tr>\n      <th>24</th>\n      <td>2022-05-23</td>\n      <td>https://www.amazon.com.br/Bab%C3%A1-Eletr%C3%B...</td>\n      <td>AMAZON</td>\n      <td>Wellao</td>\n      <td>490.00</td>\n      <td>10</td>\n      <td>49.00</td>\n      <td>490.00</td>\n      <td>B085JS7ZZ5</td>\n      <td>Babá Eletrônica Sem Fio Tela 4.3 Visão...</td>\n      <td>Internacional</td>\n      <td>5</td>\n    </tr>\n    <tr>\n      <th>25</th>\n      <td>2022-05-23</td>\n      <td>https://www.amazon.com.br/universal-prateleira...</td>\n      <td>AMAZON</td>\n      <td>MEIREMAGAZINE</td>\n      <td>149.39</td>\n      <td>4</td>\n      <td>37.37</td>\n      <td>149.48</td>\n      <td>B07RXHQMVB</td>\n      <td>Monitor de bebê, suporte de câmera par...</td>\n      <td>Internacional</td>\n      <td>6</td>\n    </tr>\n    <tr>\n      <th>26</th>\n      <td>2022-05-23</td>\n      <td>https://www.amazon.com.br/C%C3%A2mera-Intelbra...</td>\n      <td>AMAZON</td>\n      <td>ALFA.STORE</td>\n      <td>145.90</td>\n      <td>4</td>\n      <td>36.49</td>\n      <td>145.96</td>\n      <td>B07RSXXXV3</td>\n      <td>Câmera Intelbras VHL 1120 B HD 720p Se...</td>\n      <td>Internacional</td>\n      <td>19</td>\n    </tr>\n    <tr>\n      <th>27</th>\n      <td>2022-05-23</td>\n      <td>https://www.amazon.com.br/C%C3%A2mera-Antenas-...</td>\n      <td>AMAZON</td>\n      <td>NANU SHOP</td>\n      <td>134.90</td>\n      <td>4</td>\n      <td>33.74</td>\n      <td>134.96</td>\n      <td>B07VBYHNYX</td>\n      <td>Câmera Ip Sem Fio 360° 3 Antenas HD Wi...</td>\n      <td>Internacional</td>\n      <td>10</td>\n    </tr>\n    <tr>\n      <th>29</th>\n      <td>2022-05-23</td>\n      <td>https://www.amazon.com.br/C%C3%A2mera-Alta-Res...</td>\n      <td>AMAZON</td>\n      <td>CRISS SHOP.</td>\n      <td>136.36</td>\n      <td>4</td>\n      <td>34.09</td>\n      <td>136.36</td>\n      <td>B0796W64C8</td>\n      <td>Câmera Ip Hd 720 Alta Resolução WIFI b...</td>\n      <td>Internacional</td>\n      <td>6</td>\n    </tr>\n    <tr>\n      <th>31</th>\n      <td>2022-05-23</td>\n      <td>https://www.amazon.com.br/Controle-Universal-I...</td>\n      <td>AMAZON</td>\n      <td>Amazon</td>\n      <td>85.00</td>\n      <td>2</td>\n      <td>42.50</td>\n      <td>85.00</td>\n      <td>B078JNF58M</td>\n      <td>IZY Connect, Smart Controle Universal ...</td>\n      <td>Internacional</td>\n      <td>25</td>\n    </tr>\n    <tr>\n      <th>32</th>\n      <td>2022-05-23</td>\n      <td>https://www.amazon.com.br/Eletr%C3%B4nica-Digi...</td>\n      <td>AMAZON</td>\n      <td>Amazon</td>\n      <td>814.51</td>\n      <td>10</td>\n      <td>81.46</td>\n      <td>814.60</td>\n      <td>B07MLRJVYM</td>\n      <td>Babá Eletrônica Digital com Vídeo - NU...</td>\n      <td>Internacional</td>\n      <td>5</td>\n    </tr>\n    <tr>\n      <th>33</th>\n      <td>2022-05-23</td>\n      <td>https://www.amazon.com.br/Motorola-Bab%C3%A1-E...</td>\n      <td>AMAZON</td>\n      <td>Thaun Shop</td>\n      <td>1382.87</td>\n      <td>10</td>\n      <td>138.35</td>\n      <td>1383.50</td>\n      <td>B09NCGHLN2</td>\n      <td>Babá Eletrônica Motorola VM64C</td>\n      <td>Internacional</td>\n      <td>3</td>\n    </tr>\n    <tr>\n      <th>34</th>\n      <td>2022-05-23</td>\n      <td>https://www.amazon.com.br/Camera-Baba-eletroni...</td>\n      <td>AMAZON</td>\n      <td>MEEHO</td>\n      <td>126.89</td>\n      <td>4</td>\n      <td>31.73</td>\n      <td>126.92</td>\n      <td>B07944J2GX</td>\n      <td>Camera Baba Eletronica 3 Antenas Wifi ...</td>\n      <td>Internacional</td>\n      <td>37</td>\n    </tr>\n    <tr>\n      <th>35</th>\n      <td>2022-05-23</td>\n      <td>https://www.amazon.com.br/C%C3%A2mera-3-2-Pole...</td>\n      <td>AMAZON</td>\n      <td>Belo Lar Store</td>\n      <td>428.55</td>\n      <td>10</td>\n      <td>42.90</td>\n      <td>429.00</td>\n      <td>B088MFFJ1H</td>\n      <td>Câmera 3.2 Polegadas De Vídeo Sem Fio ...</td>\n      <td>Internacional</td>\n      <td>10</td>\n    </tr>\n    <tr>\n      <th>36</th>\n      <td>2022-05-23</td>\n      <td>https://www.amazon.com.br/Dados-Carga-Motorola...</td>\n      <td>AMAZON</td>\n      <td>AZ Smart</td>\n      <td>94.90</td>\n      <td>3</td>\n      <td>31.64</td>\n      <td>94.92</td>\n      <td>B08PKXBC6K</td>\n      <td>Cabo de Dados e Carga Motorola com Con...</td>\n      <td>Internacional</td>\n      <td>2</td>\n    </tr>\n    <tr>\n      <th>38</th>\n      <td>2022-05-23</td>\n      <td>https://www.amazon.com.br/Eletronica-C%C3%A2me...</td>\n      <td>AMAZON</td>\n      <td>♑GMTDDP</td>\n      <td>350.00</td>\n      <td>10</td>\n      <td>35.00</td>\n      <td>350.00</td>\n      <td>B08KD6BZ79</td>\n      <td>Babá Eletronica Câmera Sem Fio Visão N...</td>\n      <td>Internacional</td>\n      <td>15</td>\n    </tr>\n    <tr>\n      <th>39</th>\n      <td>2022-05-23</td>\n      <td>https://www.amazon.com.br/eletronica-wireless-...</td>\n      <td>AMAZON</td>\n      <td>PUROZELO</td>\n      <td>429.89</td>\n      <td>10</td>\n      <td>43.07</td>\n      <td>430.70</td>\n      <td>B093RCXGFS</td>\n      <td>Babá eletronica wireless sem fio porta...</td>\n      <td>Internacional</td>\n      <td>2</td>\n    </tr>\n    <tr>\n      <th>40</th>\n      <td>2022-05-23</td>\n      <td>https://www.amazon.com.br/Eletr%C3%B4nica-Wi-F...</td>\n      <td>AMAZON</td>\n      <td>MEIREMAGAZINE</td>\n      <td>387.88</td>\n      <td>10</td>\n      <td>38.86</td>\n      <td>388.60</td>\n      <td>B08KDCPC1Z</td>\n      <td>Babá Eletrônica Wi-Fi Câmera, 2.4 Pole...</td>\n      <td>Internacional</td>\n      <td>4</td>\n    </tr>\n    <tr>\n      <th>42</th>\n      <td>2022-05-23</td>\n      <td>https://www.amazon.com.br/Eletr%C3%B4nica-segu...</td>\n      <td>AMAZON</td>\n      <td>Lojakionline</td>\n      <td>368.51</td>\n      <td>10</td>\n      <td>36.86</td>\n      <td>368.60</td>\n      <td>B088MFP63N</td>\n      <td>Babá Eletrônica Digital Monitor de Beb...</td>\n      <td>Internacional</td>\n      <td>5</td>\n    </tr>\n    <tr>\n      <th>43</th>\n      <td>2022-05-23</td>\n      <td>https://www.amazon.com.br/Eletr%C3%B4nica-C%C3...</td>\n      <td>AMAZON</td>\n      <td>AllIn Shop</td>\n      <td>339.10</td>\n      <td>10</td>\n      <td>33.91</td>\n      <td>339.10</td>\n      <td>B07TVFM9H6</td>\n      <td>Babá Eletrônica Câmera Monitor Sem Fio...</td>\n      <td>Internacional</td>\n      <td>7</td>\n    </tr>\n    <tr>\n      <th>44</th>\n      <td>2022-05-23</td>\n      <td>https://www.amazon.com.br/Camera-Alta-Resolu%C...</td>\n      <td>AMAZON</td>\n      <td>Ponto do Nerd</td>\n      <td>169.66</td>\n      <td>5</td>\n      <td>33.94</td>\n      <td>169.70</td>\n      <td>B00SPCI7TG</td>\n      <td>Camera IP HD 720 Alta Resolução WiFi B...</td>\n      <td>Internacional</td>\n      <td>10</td>\n    </tr>\n  </tbody>\n</table>\n</div>"
     },
     "execution_count": 103,
     "metadata": {},
     "output_type": "execute_result"
    }
   ],
   "source": [
    "Df_more_offers = Df_final[Df_final['MORE'] != 0]\n",
    "Df_more_offers"
   ]
  },
  {
   "cell_type": "code",
   "execution_count": 104,
   "metadata": {
    "pycharm": {
     "name": "#%%\n"
    }
   },
   "outputs": [],
   "source": [
    "Amazon_ID_More = []"
   ]
  },
  {
   "cell_type": "code",
   "execution_count": 71,
   "metadata": {
    "pycharm": {
     "name": "#%%\n"
    }
   },
   "outputs": [],
   "source": [
    "def search_more_offers_1(ASIN):\n",
    "    global Amazon_seller_more\n",
    "    \n",
    "    time.sleep(5)\n",
    "\n",
    "    new_url = \"https://www.amazon.com.br/gp/product/ajax/?asin=\" + ASIN + \"&pageno=1&experienceId=aodAjaxMain\"\n",
    "\n",
    "    driver.get(new_url)\n",
    "    \n",
    "    time.sleep(5)\n",
    "\n",
    "    body_el = driver.find_element(By.CSS_SELECTOR, 'body')\n",
    "    html_str = body_el.get_attribute('innerHTML')\n",
    "\n",
    "    Soup = BeautifulSoup(html_str, 'html.parser')\n",
    "\n",
    "    for seller in Soup.find_all(class_='a-size-small a-link-normal')[4:]:\n",
    "        Amazon_seller_more.append(seller.text)\n",
    "        \n",
    "\n",
    "    Amazon_seller_more =  [s for s in Amazon_seller_more if not 'Política de devolução' in s]\n",
    "    Amazon_seller_more =  [s for s in Amazon_seller_more if not 'Apagar tudo' in s]\n",
    "    Amazon_seller_more =  [s for s in Amazon_seller_more if len(s) > 1]\n",
    "\n",
    "    for price in Soup.find_all(class_='a-offscreen')[2:]:\n",
    "        Amazon_price_more.append(price.text)\n",
    "        Amazon_ID_More.append(ASIN)"
   ]
  },
  {
   "cell_type": "code",
   "execution_count": 72,
   "outputs": [],
   "source": [
    "def search_more_offers_2(ASIN):\n",
    "    global Amazon_seller_more\n",
    "\n",
    "    time.sleep(5)\n",
    "\n",
    "    new_url = \"https://www.amazon.com.br/gp/product/ajax/?asin=\" + ASIN + \"&pageno=2&experienceId=aodAjaxMain\"\n",
    "\n",
    "    driver.get(new_url)\n",
    "\n",
    "    time.sleep(5)\n",
    "\n",
    "    body_el = driver.find_element(By.CSS_SELECTOR, 'body')\n",
    "    html_str = body_el.get_attribute('innerHTML')\n",
    "\n",
    "    Soup = BeautifulSoup(html_str, 'html.parser')\n",
    "\n",
    "    for seller in Soup.find_all(class_='a-size-small a-link-normal'):\n",
    "        Amazon_seller_more.append(seller.text)\n",
    "\n",
    "\n",
    "    Amazon_seller_more =  [s for s in Amazon_seller_more if not 'Política de devolução' in s]\n",
    "    Amazon_seller_more =  [s for s in Amazon_seller_more if not 'Apagar tudo' in s]\n",
    "    Amazon_seller_more =  [s for s in Amazon_seller_more if len(s) > 1]\n",
    "\n",
    "    for price in Soup.find_all(class_='a-offscreen'):\n",
    "        Amazon_price_more.append(price.text)\n",
    "        Amazon_ID_More.append(ASIN)"
   ],
   "metadata": {
    "collapsed": false,
    "pycharm": {
     "name": "#%%\n"
    }
   }
  },
  {
   "cell_type": "code",
   "execution_count": 73,
   "outputs": [],
   "source": [
    "def search_more_offers_3(ASIN):\n",
    "    global Amazon_seller_more\n",
    "\n",
    "    time.sleep(5)\n",
    "\n",
    "    new_url = \"https://www.amazon.com.br/gp/product/ajax/?asin=\" + ASIN + \"&pageno=3&experienceId=aodAjaxMain\"\n",
    "\n",
    "    driver.get(new_url)\n",
    "\n",
    "    time.sleep(5)\n",
    "\n",
    "    body_el = driver.find_element(By.CSS_SELECTOR, 'body')\n",
    "    html_str = body_el.get_attribute('innerHTML')\n",
    "\n",
    "    Soup = BeautifulSoup(html_str, 'html.parser')\n",
    "\n",
    "    for seller in Soup.find_all(class_='a-size-small a-link-normal'):\n",
    "        Amazon_seller_more.append(seller.text)\n",
    "\n",
    "\n",
    "    Amazon_seller_more =  [s for s in Amazon_seller_more if not 'Política de devolução' in s]\n",
    "    Amazon_seller_more =  [s for s in Amazon_seller_more if not 'Apagar tudo' in s]\n",
    "    Amazon_seller_more =  [s for s in Amazon_seller_more if len(s) > 1]\n",
    "\n",
    "    for price in Soup.find_all(class_='a-offscreen'):\n",
    "        Amazon_price_more.append(price.text)\n",
    "        Amazon_ID_More.append(ASIN)"
   ],
   "metadata": {
    "collapsed": false,
    "pycharm": {
     "name": "#%%\n"
    }
   }
  },
  {
   "cell_type": "code",
   "execution_count": 105,
   "metadata": {
    "pycharm": {
     "name": "#%%\n"
    }
   },
   "outputs": [
    {
     "name": "stdout",
     "output_type": "stream",
     "text": [
      "Menor que 10\n",
      "Menor que 10\n",
      "Menor que 10\n",
      "Entre 10 e 20\n",
      "Menor que 10\n",
      "Mais de 20\n",
      "Entre 10 e 20\n",
      "Menor que 10\n",
      "Entre 10 e 20\n",
      "Menor que 10\n",
      "Menor que 10\n",
      "Menor que 10\n",
      "Menor que 10\n",
      "Menor que 10\n",
      "Menor que 10\n",
      "Menor que 10\n",
      "Entre 10 e 20\n",
      "Menor que 10\n",
      "Mais de 20\n",
      "Menor que 10\n",
      "Menor que 10\n",
      "Mais de 20\n",
      "Menor que 10\n",
      "Entre 10 e 20\n",
      "Menor que 10\n",
      "Menor que 10\n",
      "Menor que 10\n",
      "Menor que 10\n"
     ]
    }
   ],
   "source": [
    "for id,more in zip(Df_more_offers.ID, Df_more_offers.MORE):\n",
    "    if more < 10:\n",
    "        search_more_offers_1(id)\n",
    "        print(\"Menor que 10\")\n",
    "        if len(Amazon_seller_more) != len(Amazon_price_more):\n",
    "            print(id)\n",
    "            break\n",
    "    elif (more > 10) and (more < 20):\n",
    "        search_more_offers_1(id)\n",
    "        search_more_offers_2(id)\n",
    "        print(\"Entre 10 e 20\")\n",
    "        if len(Amazon_seller_more) != len(Amazon_price_more):\n",
    "            print(id)\n",
    "            break\n",
    "    elif more > 20:\n",
    "        search_more_offers_1(id)\n",
    "        search_more_offers_2(id)\n",
    "        search_more_offers_3(id)\n",
    "        print(\"Mais de 20\")\n",
    "        if len(Amazon_seller_more) != len(Amazon_price_more):\n",
    "            print(id)\n",
    "            break"
   ]
  },
  {
   "cell_type": "code",
   "execution_count": 39,
   "outputs": [],
   "source": [
    "new_url = \"https://www.amazon.com.br/gp/product/ajax/?asin=\" + \"B078JNF58M\" + \"&pageno=3&experienceId=aodAjaxMain\"\n",
    "\n",
    "driver.get(new_url)\n",
    "\n",
    "time.sleep(5)\n",
    "\n",
    "body_el = driver.find_element(By.CSS_SELECTOR, 'body')\n",
    "html_str = body_el.get_attribute('innerHTML')\n",
    "\n",
    "Soup = BeautifulSoup(html_str, 'html.parser')\n",
    "\n",
    "for seller in Soup.find_all(class_='a-size-small a-link-normal'):\n",
    "    Amazon_seller_more.append(seller.text)\n",
    "\n",
    "\n",
    "Amazon_seller_more =  [s for s in Amazon_seller_more if not 'Política de devolução' in s]\n",
    "Amazon_seller_more =  [s for s in Amazon_seller_more if not 'Apagar tudo' in s]\n",
    "Amazon_seller_more =  [s for s in Amazon_seller_more if len(s) > 1]\n",
    "\n",
    "for price in Soup.find_all(class_='a-offscreen'):\n",
    "    Amazon_price_more.append(price.text)"
   ],
   "metadata": {
    "collapsed": false,
    "pycharm": {
     "name": "#%%\n"
    }
   }
  },
  {
   "cell_type": "code",
   "execution_count": 37,
   "outputs": [],
   "source": [
    "Amazon_seller_more = []\n",
    "Amazon_price_more = []"
   ],
   "metadata": {
    "collapsed": false,
    "pycharm": {
     "name": "#%%\n"
    }
   }
  },
  {
   "cell_type": "code",
   "execution_count": 108,
   "metadata": {
    "pycharm": {
     "name": "#%%\n"
    }
   },
   "outputs": [
    {
     "name": "stdout",
     "output_type": "stream",
     "text": [
      "199\n",
      "199\n",
      "199\n"
     ]
    }
   ],
   "source": [
    "print(len(Amazon_seller_more))\n",
    "print(len(Amazon_ID_More))\n",
    "print(len(Amazon_price_more))"
   ]
  },
  {
   "cell_type": "code",
   "execution_count": 107,
   "outputs": [],
   "source": [
    "Amazon_seller_more.append(\"Erro\")"
   ],
   "metadata": {
    "collapsed": false,
    "pycharm": {
     "name": "#%%\n"
    }
   }
  },
  {
   "cell_type": "code",
   "execution_count": 109,
   "outputs": [],
   "source": [
    "Dataframe = pd.DataFrame()\n",
    "\n",
    "Dataframe['ID'] = Amazon_ID_More\n",
    "Dataframe['SELLER'] = Amazon_seller_more\n",
    "Dataframe['PRICE'] = Amazon_price_more"
   ],
   "metadata": {
    "collapsed": false,
    "pycharm": {
     "name": "#%%\n"
    }
   }
  },
  {
   "cell_type": "code",
   "execution_count": 110,
   "outputs": [
    {
     "data": {
      "text/plain": "             ID                   SELLER        PRICE\n0    B01N807E5P                MOTOLATAM  R$ 1.699,00\n1    B07M9ZDJ7J                 Alô Bebê    R$ 999,00\n2    B08FVXB74T   Fast Shop Loja Oficial  R$ 1.450,00\n3    B07574YDHT              MaterialMed    R$ 671,41\n4    B07574YDHT          MMPLACE OFICIAL    R$ 768,90\n..          ...                      ...          ...\n194  B07TVFM9H6              Pagani Mall    R$ 349,36\n195  B07TVFM9H6              JF Advanced    R$ 350,97\n196  B07TVFM9H6           TB Eletrônicos    R$ 350,99\n197  B07TVFM9H6             Lojakionline    R$ 337,00\n198  B07TVFM9H6                     Erro    R$ 380,24\n\n[199 rows x 3 columns]",
      "text/html": "<div>\n<style scoped>\n    .dataframe tbody tr th:only-of-type {\n        vertical-align: middle;\n    }\n\n    .dataframe tbody tr th {\n        vertical-align: top;\n    }\n\n    .dataframe thead th {\n        text-align: right;\n    }\n</style>\n<table border=\"1\" class=\"dataframe\">\n  <thead>\n    <tr style=\"text-align: right;\">\n      <th></th>\n      <th>ID</th>\n      <th>SELLER</th>\n      <th>PRICE</th>\n    </tr>\n  </thead>\n  <tbody>\n    <tr>\n      <th>0</th>\n      <td>B01N807E5P</td>\n      <td>MOTOLATAM</td>\n      <td>R$ 1.699,00</td>\n    </tr>\n    <tr>\n      <th>1</th>\n      <td>B07M9ZDJ7J</td>\n      <td>Alô Bebê</td>\n      <td>R$ 999,00</td>\n    </tr>\n    <tr>\n      <th>2</th>\n      <td>B08FVXB74T</td>\n      <td>Fast Shop Loja Oficial</td>\n      <td>R$ 1.450,00</td>\n    </tr>\n    <tr>\n      <th>3</th>\n      <td>B07574YDHT</td>\n      <td>MaterialMed</td>\n      <td>R$ 671,41</td>\n    </tr>\n    <tr>\n      <th>4</th>\n      <td>B07574YDHT</td>\n      <td>MMPLACE OFICIAL</td>\n      <td>R$ 768,90</td>\n    </tr>\n    <tr>\n      <th>...</th>\n      <td>...</td>\n      <td>...</td>\n      <td>...</td>\n    </tr>\n    <tr>\n      <th>194</th>\n      <td>B07TVFM9H6</td>\n      <td>Pagani Mall</td>\n      <td>R$ 349,36</td>\n    </tr>\n    <tr>\n      <th>195</th>\n      <td>B07TVFM9H6</td>\n      <td>JF Advanced</td>\n      <td>R$ 350,97</td>\n    </tr>\n    <tr>\n      <th>196</th>\n      <td>B07TVFM9H6</td>\n      <td>TB Eletrônicos</td>\n      <td>R$ 350,99</td>\n    </tr>\n    <tr>\n      <th>197</th>\n      <td>B07TVFM9H6</td>\n      <td>Lojakionline</td>\n      <td>R$ 337,00</td>\n    </tr>\n    <tr>\n      <th>198</th>\n      <td>B07TVFM9H6</td>\n      <td>Erro</td>\n      <td>R$ 380,24</td>\n    </tr>\n  </tbody>\n</table>\n<p>199 rows × 3 columns</p>\n</div>"
     },
     "execution_count": 110,
     "metadata": {},
     "output_type": "execute_result"
    }
   ],
   "source": [
    "Dataframe"
   ],
   "metadata": {
    "collapsed": false,
    "pycharm": {
     "name": "#%%\n"
    }
   }
  },
  {
   "cell_type": "code",
   "execution_count": 32,
   "outputs": [
    {
     "data": {
      "text/plain": "[' Bebê Veste Luxo',\n ' BabyeKids',\n ' TECNOTOY COMERCIAL',\n ' Avile Shop',\n ' TRP STORE',\n ' VIP STORE BRINQUEDOS']"
     },
     "execution_count": 32,
     "metadata": {},
     "output_type": "execute_result"
    }
   ],
   "source": [
    "Amazon_seller_more"
   ],
   "metadata": {
    "collapsed": false,
    "pycharm": {
     "name": "#%%\n"
    }
   }
  },
  {
   "cell_type": "code",
   "execution_count": 25,
   "outputs": [
    {
     "data": {
      "text/plain": "['R$\\xa0349,00']"
     },
     "execution_count": 25,
     "metadata": {},
     "output_type": "execute_result"
    }
   ],
   "source": [
    "Amazon_price_more"
   ],
   "metadata": {
    "collapsed": false,
    "pycharm": {
     "name": "#%%\n"
    }
   }
  },
  {
   "cell_type": "code",
   "execution_count": 148,
   "metadata": {
    "pycharm": {
     "name": "#%%\n"
    }
   },
   "outputs": [
    {
     "data": {
      "text/plain": "            ID        DATE MARKETPLACE                      SELLER    PRICE  \\\n0   B07WSRXMS8  2022-05-21      AMAZON                LIVE IMPORTS  2299.00   \n1   B07WSRXMS8  2022-05-21      AMAZON                 King Pro St  2289.00   \n2   B07WSRXMS8  2022-05-21      AMAZON              GRUPO MAVERICK  2599.00   \n3   B09D15SFMQ  2022-05-21      AMAZON                LIVE IMPORTS  3207.25   \n4   B09D15SFMQ  2022-05-21      AMAZON                 King Pro St  3219.00   \n5   B09D15SFMQ  2022-05-21      AMAZON              GRUPO MAVERICK  4299.99   \n6   B09D15SFMQ  2022-05-21      AMAZON                     MeuDome  4799.00   \n7   B08R2XCM9K  2022-05-21      AMAZON                  EOS IMPORT  2999.00   \n8   B08KXN6BNH  2022-05-21      AMAZON                 King Pro St  2599.00   \n9   B08KXN6BNH  2022-05-21      AMAZON                 King Pro St  2739.00   \n10  B08KXN6BNH  2022-05-21      AMAZON              GRUPO MAVERICK  3399.99   \n11  B08ZSVP9T7  2022-05-21      AMAZON                  EOS IMPORT  2599.00   \n12  B08ZSVP9T7  2022-05-21      AMAZON                LIVE IMPORTS  2599.00   \n13  B08ZSVP9T7  2022-05-21      AMAZON                LIVE IMPORTS  2599.00   \n14  B08ZSVP9T7  2022-05-21      AMAZON              GRUPO MAVERICK  3199.99   \n15  B07RJMK2GV  2022-05-21      AMAZON                    QanHorse  1983.00   \n16  B07RJMK2GV  2022-05-21      AMAZON   Xalo Comercio de Produtos  2420.00   \n17  B07RJMK2GV  2022-05-21      AMAZON                     BC INFO  2712.67   \n18  B07RJMK2GV  2022-05-21      AMAZON     Bits & Bytes Tecnologia  2851.27   \n19  B07RJMK2GV  2022-05-21      AMAZON              Elefante Store  3605.23   \n20  B07RJMK2GV  2022-05-21      AMAZON           DigitalShoppStore  4100.00   \n\n    PARCEL  INSTALLMENT  INSTALLMENT_PAYMENT INTERNACIONAL  \\\n0       10      229.900              22990.0          ERRO   \n1       10      228.900              22890.0          ERRO   \n2       10      259.900              25990.0          ERRO   \n3       10      320.725              32072.5          ERRO   \n4       10      321.900              32190.0          ERRO   \n5       10      429.999              42999.9          ERRO   \n6       10      479.900              47990.0          ERRO   \n7       10      299.900              29990.0          ERRO   \n8       10      259.900              25990.0          ERRO   \n9       10      273.900              27390.0          ERRO   \n10      10      339.999              33999.9          ERRO   \n11      10      259.900              25990.0          ERRO   \n12      10      259.900              25990.0          ERRO   \n13      10      259.900              25990.0          ERRO   \n14      10      319.999              31999.9          ERRO   \n15      10      198.300              19830.0          ERRO   \n16      10      242.000              24200.0          ERRO   \n17      10      271.267              27126.7          ERRO   \n18      10      285.127              28512.7          ERRO   \n19      10      360.523              36052.3          ERRO   \n20      10      410.000              41000.0          ERRO   \n\n                                                  URL  \\\n0   https://www.amazon.com.br/Gopro-Black-prova-D%...   \n1   https://www.amazon.com.br/Gopro-Black-prova-D%...   \n2   https://www.amazon.com.br/Gopro-Black-prova-D%...   \n3   https://www.amazon.com.br/GoPro-Frontal-HyperS...   \n4   https://www.amazon.com.br/GoPro-Frontal-HyperS...   \n5   https://www.amazon.com.br/GoPro-Frontal-HyperS...   \n6   https://www.amazon.com.br/GoPro-Frontal-HyperS...   \n7   https://www.amazon.com.br/C%C3%A2mera-Cart%C3%...   \n8   https://www.amazon.com.br/C%C3%A2mera-GoPro-Fr...   \n9   https://www.amazon.com.br/C%C3%A2mera-GoPro-Fr...   \n10  https://www.amazon.com.br/C%C3%A2mera-GoPro-Fr...   \n11  https://www.amazon.com.br/C%C3%82MERA-GOPRO-BL...   \n12  https://www.amazon.com.br/C%C3%82MERA-GOPRO-BL...   \n13  https://www.amazon.com.br/C%C3%82MERA-GOPRO-BL...   \n14  https://www.amazon.com.br/C%C3%82MERA-GOPRO-BL...   \n15  https://www.amazon.com.br/Camera-DJI-Osmo-Acti...   \n16  https://www.amazon.com.br/Camera-DJI-Osmo-Acti...   \n17  https://www.amazon.com.br/Camera-DJI-Osmo-Acti...   \n18  https://www.amazon.com.br/Camera-DJI-Osmo-Acti...   \n19  https://www.amazon.com.br/Camera-DJI-Osmo-Acti...   \n20  https://www.amazon.com.br/Camera-DJI-Osmo-Acti...   \n\n                                              PRODUCT  \n0           Gopro Hero 8 Black 4k à prova D'água C...  \n1           Gopro Hero 8 Black 4k à prova D'água C...  \n2           Gopro Hero 8 Black 4k à prova D'água C...  \n3           Câmera GoPro HERO10 Black à Prova com ...  \n4           Câmera GoPro HERO10 Black à Prova com ...  \n5           Câmera GoPro HERO10 Black à Prova com ...  \n6           Câmera GoPro HERO10 Black à Prova com ...  \n7           Câmera GoPro HERO9 Black à Prova D'águ...  \n8           Câmera GoPro HERO9 Black à Prova D'águ...  \n9           Câmera GoPro HERO9 Black à Prova D'águ...  \n10          Câmera GoPro HERO9 Black à Prova D'águ...  \n11          CÂMERA GOPRO HERO 8 BLACK ESSENCIAL BU...  \n12          CÂMERA GOPRO HERO 8 BLACK ESSENCIAL BU...  \n13          CÂMERA GOPRO HERO 8 BLACK ESSENCIAL BU...  \n14          CÂMERA GOPRO HERO 8 BLACK ESSENCIAL BU...  \n15          Camera DJI Osmo Action 4K Sensor CMOS ...  \n16          Camera DJI Osmo Action 4K Sensor CMOS ...  \n17          Camera DJI Osmo Action 4K Sensor CMOS ...  \n18          Camera DJI Osmo Action 4K Sensor CMOS ...  \n19          Camera DJI Osmo Action 4K Sensor CMOS ...  \n20          Camera DJI Osmo Action 4K Sensor CMOS ...  ",
      "text/html": "<div>\n<style scoped>\n    .dataframe tbody tr th:only-of-type {\n        vertical-align: middle;\n    }\n\n    .dataframe tbody tr th {\n        vertical-align: top;\n    }\n\n    .dataframe thead th {\n        text-align: right;\n    }\n</style>\n<table border=\"1\" class=\"dataframe\">\n  <thead>\n    <tr style=\"text-align: right;\">\n      <th></th>\n      <th>ID</th>\n      <th>DATE</th>\n      <th>MARKETPLACE</th>\n      <th>SELLER</th>\n      <th>PRICE</th>\n      <th>PARCEL</th>\n      <th>INSTALLMENT</th>\n      <th>INSTALLMENT_PAYMENT</th>\n      <th>INTERNACIONAL</th>\n      <th>URL</th>\n      <th>PRODUCT</th>\n    </tr>\n  </thead>\n  <tbody>\n    <tr>\n      <th>0</th>\n      <td>B07WSRXMS8</td>\n      <td>2022-05-21</td>\n      <td>AMAZON</td>\n      <td>LIVE IMPORTS</td>\n      <td>2299.00</td>\n      <td>10</td>\n      <td>229.900</td>\n      <td>22990.0</td>\n      <td>ERRO</td>\n      <td>https://www.amazon.com.br/Gopro-Black-prova-D%...</td>\n      <td>Gopro Hero 8 Black 4k à prova D'água C...</td>\n    </tr>\n    <tr>\n      <th>1</th>\n      <td>B07WSRXMS8</td>\n      <td>2022-05-21</td>\n      <td>AMAZON</td>\n      <td>King Pro St</td>\n      <td>2289.00</td>\n      <td>10</td>\n      <td>228.900</td>\n      <td>22890.0</td>\n      <td>ERRO</td>\n      <td>https://www.amazon.com.br/Gopro-Black-prova-D%...</td>\n      <td>Gopro Hero 8 Black 4k à prova D'água C...</td>\n    </tr>\n    <tr>\n      <th>2</th>\n      <td>B07WSRXMS8</td>\n      <td>2022-05-21</td>\n      <td>AMAZON</td>\n      <td>GRUPO MAVERICK</td>\n      <td>2599.00</td>\n      <td>10</td>\n      <td>259.900</td>\n      <td>25990.0</td>\n      <td>ERRO</td>\n      <td>https://www.amazon.com.br/Gopro-Black-prova-D%...</td>\n      <td>Gopro Hero 8 Black 4k à prova D'água C...</td>\n    </tr>\n    <tr>\n      <th>3</th>\n      <td>B09D15SFMQ</td>\n      <td>2022-05-21</td>\n      <td>AMAZON</td>\n      <td>LIVE IMPORTS</td>\n      <td>3207.25</td>\n      <td>10</td>\n      <td>320.725</td>\n      <td>32072.5</td>\n      <td>ERRO</td>\n      <td>https://www.amazon.com.br/GoPro-Frontal-HyperS...</td>\n      <td>Câmera GoPro HERO10 Black à Prova com ...</td>\n    </tr>\n    <tr>\n      <th>4</th>\n      <td>B09D15SFMQ</td>\n      <td>2022-05-21</td>\n      <td>AMAZON</td>\n      <td>King Pro St</td>\n      <td>3219.00</td>\n      <td>10</td>\n      <td>321.900</td>\n      <td>32190.0</td>\n      <td>ERRO</td>\n      <td>https://www.amazon.com.br/GoPro-Frontal-HyperS...</td>\n      <td>Câmera GoPro HERO10 Black à Prova com ...</td>\n    </tr>\n    <tr>\n      <th>5</th>\n      <td>B09D15SFMQ</td>\n      <td>2022-05-21</td>\n      <td>AMAZON</td>\n      <td>GRUPO MAVERICK</td>\n      <td>4299.99</td>\n      <td>10</td>\n      <td>429.999</td>\n      <td>42999.9</td>\n      <td>ERRO</td>\n      <td>https://www.amazon.com.br/GoPro-Frontal-HyperS...</td>\n      <td>Câmera GoPro HERO10 Black à Prova com ...</td>\n    </tr>\n    <tr>\n      <th>6</th>\n      <td>B09D15SFMQ</td>\n      <td>2022-05-21</td>\n      <td>AMAZON</td>\n      <td>MeuDome</td>\n      <td>4799.00</td>\n      <td>10</td>\n      <td>479.900</td>\n      <td>47990.0</td>\n      <td>ERRO</td>\n      <td>https://www.amazon.com.br/GoPro-Frontal-HyperS...</td>\n      <td>Câmera GoPro HERO10 Black à Prova com ...</td>\n    </tr>\n    <tr>\n      <th>7</th>\n      <td>B08R2XCM9K</td>\n      <td>2022-05-21</td>\n      <td>AMAZON</td>\n      <td>EOS IMPORT</td>\n      <td>2999.00</td>\n      <td>10</td>\n      <td>299.900</td>\n      <td>29990.0</td>\n      <td>ERRO</td>\n      <td>https://www.amazon.com.br/C%C3%A2mera-Cart%C3%...</td>\n      <td>Câmera GoPro HERO9 Black à Prova D'águ...</td>\n    </tr>\n    <tr>\n      <th>8</th>\n      <td>B08KXN6BNH</td>\n      <td>2022-05-21</td>\n      <td>AMAZON</td>\n      <td>King Pro St</td>\n      <td>2599.00</td>\n      <td>10</td>\n      <td>259.900</td>\n      <td>25990.0</td>\n      <td>ERRO</td>\n      <td>https://www.amazon.com.br/C%C3%A2mera-GoPro-Fr...</td>\n      <td>Câmera GoPro HERO9 Black à Prova D'águ...</td>\n    </tr>\n    <tr>\n      <th>9</th>\n      <td>B08KXN6BNH</td>\n      <td>2022-05-21</td>\n      <td>AMAZON</td>\n      <td>King Pro St</td>\n      <td>2739.00</td>\n      <td>10</td>\n      <td>273.900</td>\n      <td>27390.0</td>\n      <td>ERRO</td>\n      <td>https://www.amazon.com.br/C%C3%A2mera-GoPro-Fr...</td>\n      <td>Câmera GoPro HERO9 Black à Prova D'águ...</td>\n    </tr>\n    <tr>\n      <th>10</th>\n      <td>B08KXN6BNH</td>\n      <td>2022-05-21</td>\n      <td>AMAZON</td>\n      <td>GRUPO MAVERICK</td>\n      <td>3399.99</td>\n      <td>10</td>\n      <td>339.999</td>\n      <td>33999.9</td>\n      <td>ERRO</td>\n      <td>https://www.amazon.com.br/C%C3%A2mera-GoPro-Fr...</td>\n      <td>Câmera GoPro HERO9 Black à Prova D'águ...</td>\n    </tr>\n    <tr>\n      <th>11</th>\n      <td>B08ZSVP9T7</td>\n      <td>2022-05-21</td>\n      <td>AMAZON</td>\n      <td>EOS IMPORT</td>\n      <td>2599.00</td>\n      <td>10</td>\n      <td>259.900</td>\n      <td>25990.0</td>\n      <td>ERRO</td>\n      <td>https://www.amazon.com.br/C%C3%82MERA-GOPRO-BL...</td>\n      <td>CÂMERA GOPRO HERO 8 BLACK ESSENCIAL BU...</td>\n    </tr>\n    <tr>\n      <th>12</th>\n      <td>B08ZSVP9T7</td>\n      <td>2022-05-21</td>\n      <td>AMAZON</td>\n      <td>LIVE IMPORTS</td>\n      <td>2599.00</td>\n      <td>10</td>\n      <td>259.900</td>\n      <td>25990.0</td>\n      <td>ERRO</td>\n      <td>https://www.amazon.com.br/C%C3%82MERA-GOPRO-BL...</td>\n      <td>CÂMERA GOPRO HERO 8 BLACK ESSENCIAL BU...</td>\n    </tr>\n    <tr>\n      <th>13</th>\n      <td>B08ZSVP9T7</td>\n      <td>2022-05-21</td>\n      <td>AMAZON</td>\n      <td>LIVE IMPORTS</td>\n      <td>2599.00</td>\n      <td>10</td>\n      <td>259.900</td>\n      <td>25990.0</td>\n      <td>ERRO</td>\n      <td>https://www.amazon.com.br/C%C3%82MERA-GOPRO-BL...</td>\n      <td>CÂMERA GOPRO HERO 8 BLACK ESSENCIAL BU...</td>\n    </tr>\n    <tr>\n      <th>14</th>\n      <td>B08ZSVP9T7</td>\n      <td>2022-05-21</td>\n      <td>AMAZON</td>\n      <td>GRUPO MAVERICK</td>\n      <td>3199.99</td>\n      <td>10</td>\n      <td>319.999</td>\n      <td>31999.9</td>\n      <td>ERRO</td>\n      <td>https://www.amazon.com.br/C%C3%82MERA-GOPRO-BL...</td>\n      <td>CÂMERA GOPRO HERO 8 BLACK ESSENCIAL BU...</td>\n    </tr>\n    <tr>\n      <th>15</th>\n      <td>B07RJMK2GV</td>\n      <td>2022-05-21</td>\n      <td>AMAZON</td>\n      <td>QanHorse</td>\n      <td>1983.00</td>\n      <td>10</td>\n      <td>198.300</td>\n      <td>19830.0</td>\n      <td>ERRO</td>\n      <td>https://www.amazon.com.br/Camera-DJI-Osmo-Acti...</td>\n      <td>Camera DJI Osmo Action 4K Sensor CMOS ...</td>\n    </tr>\n    <tr>\n      <th>16</th>\n      <td>B07RJMK2GV</td>\n      <td>2022-05-21</td>\n      <td>AMAZON</td>\n      <td>Xalo Comercio de Produtos</td>\n      <td>2420.00</td>\n      <td>10</td>\n      <td>242.000</td>\n      <td>24200.0</td>\n      <td>ERRO</td>\n      <td>https://www.amazon.com.br/Camera-DJI-Osmo-Acti...</td>\n      <td>Camera DJI Osmo Action 4K Sensor CMOS ...</td>\n    </tr>\n    <tr>\n      <th>17</th>\n      <td>B07RJMK2GV</td>\n      <td>2022-05-21</td>\n      <td>AMAZON</td>\n      <td>BC INFO</td>\n      <td>2712.67</td>\n      <td>10</td>\n      <td>271.267</td>\n      <td>27126.7</td>\n      <td>ERRO</td>\n      <td>https://www.amazon.com.br/Camera-DJI-Osmo-Acti...</td>\n      <td>Camera DJI Osmo Action 4K Sensor CMOS ...</td>\n    </tr>\n    <tr>\n      <th>18</th>\n      <td>B07RJMK2GV</td>\n      <td>2022-05-21</td>\n      <td>AMAZON</td>\n      <td>Bits &amp; Bytes Tecnologia</td>\n      <td>2851.27</td>\n      <td>10</td>\n      <td>285.127</td>\n      <td>28512.7</td>\n      <td>ERRO</td>\n      <td>https://www.amazon.com.br/Camera-DJI-Osmo-Acti...</td>\n      <td>Camera DJI Osmo Action 4K Sensor CMOS ...</td>\n    </tr>\n    <tr>\n      <th>19</th>\n      <td>B07RJMK2GV</td>\n      <td>2022-05-21</td>\n      <td>AMAZON</td>\n      <td>Elefante Store</td>\n      <td>3605.23</td>\n      <td>10</td>\n      <td>360.523</td>\n      <td>36052.3</td>\n      <td>ERRO</td>\n      <td>https://www.amazon.com.br/Camera-DJI-Osmo-Acti...</td>\n      <td>Camera DJI Osmo Action 4K Sensor CMOS ...</td>\n    </tr>\n    <tr>\n      <th>20</th>\n      <td>B07RJMK2GV</td>\n      <td>2022-05-21</td>\n      <td>AMAZON</td>\n      <td>DigitalShoppStore</td>\n      <td>4100.00</td>\n      <td>10</td>\n      <td>410.000</td>\n      <td>41000.0</td>\n      <td>ERRO</td>\n      <td>https://www.amazon.com.br/Camera-DJI-Osmo-Acti...</td>\n      <td>Camera DJI Osmo Action 4K Sensor CMOS ...</td>\n    </tr>\n  </tbody>\n</table>\n</div>"
     },
     "execution_count": 148,
     "metadata": {},
     "output_type": "execute_result"
    }
   ],
   "source": [
    "Dataframe_More = pd.DataFrame()\n",
    "Dataframe_More['ID'] = Amazon_ID_More\n",
    "\n",
    "Dataframe_More['DATE'] = pd.to_datetime('today', errors='ignore').date()\n",
    "\n",
    "Dataframe_More['MARKETPLACE'] = 'AMAZON'\n",
    "\n",
    "Dataframe_More['SELLER'] = Amazon_seller_more\n",
    "\n",
    "Dataframe_More['PRICE'] = Amazon_price_more\n",
    "Dataframe_More['PRICE'] = Dataframe_More['PRICE'].str.replace(\".\",\"\", regex=True)\n",
    "Dataframe_More['PRICE'] = Dataframe_More['PRICE'].str.replace(\"R$\",\"\", regex=False)\n",
    "Dataframe_More['PRICE'] = Dataframe_More['PRICE'].str.replace(\",\",\".\", regex=True)\n",
    "Dataframe_More['PRICE'] = Dataframe_More['PRICE'].astype('float')\n",
    "\n",
    "Dataframe_More['PARCEL'] = 10\n",
    "\n",
    "Dataframe_More['INSTALLMENT'] = Dataframe_More['PRICE'] / Dataframe_More['PARCEL']\n",
    "\n",
    "Dataframe_More['INSTALLMENT_PAYMENT'] = Dataframe_More['PRICE'] * Dataframe_More['PARCEL']\n",
    "\n",
    "Dataframe_More['INTERNACIONAL'] = 'ERRO'\n",
    "\n",
    "url_names = []\n",
    "for id in Dataframe_More['ID']:\n",
    "    url_names.append(Df_final.loc[Df_final['ID'] == id,'URL'].values[0])\n",
    "\n",
    "products_names = []\n",
    "for id in Dataframe_More['ID']:\n",
    "    products_names.append(Df_final.loc[Df_final['ID'] == id,'PRODUCT'].values[0])\n",
    "\n",
    "Dataframe_More['URL'] = url_names\n",
    "Dataframe_More['PRODUCT'] = products_names\n",
    "\n",
    "Dataframe_More"
   ]
  },
  {
   "cell_type": "code",
   "execution_count": 130,
   "outputs": [],
   "source": [
    "url_names = []\n",
    "for id in Dataframe_More['ID']:\n",
    "    url_names.append(Df_final.loc[Df_final['ID'] == id,'URL'])"
   ],
   "metadata": {
    "collapsed": false,
    "pycharm": {
     "name": "#%%\n"
    }
   }
  },
  {
   "cell_type": "code",
   "execution_count": 132,
   "outputs": [
    {
     "data": {
      "text/plain": "21"
     },
     "execution_count": 132,
     "metadata": {},
     "output_type": "execute_result"
    }
   ],
   "source": [
    "len(url_names)"
   ],
   "metadata": {
    "collapsed": false,
    "pycharm": {
     "name": "#%%\n"
    }
   }
  },
  {
   "cell_type": "code",
   "execution_count": 114,
   "outputs": [
    {
     "ename": "ValueError",
     "evalue": "Can only compare identically-labeled Series objects",
     "output_type": "error",
     "traceback": [
      "\u001B[1;31m---------------------------------------------------------------------------\u001B[0m",
      "\u001B[1;31mValueError\u001B[0m                                Traceback (most recent call last)",
      "Input \u001B[1;32mIn [114]\u001B[0m, in \u001B[0;36m<cell line: 1>\u001B[1;34m()\u001B[0m\n\u001B[1;32m----> 1\u001B[0m Df_final\u001B[38;5;241m.\u001B[39mloc[\u001B[43mDf_final\u001B[49m\u001B[43m[\u001B[49m\u001B[38;5;124;43m'\u001B[39;49m\u001B[38;5;124;43mID\u001B[39;49m\u001B[38;5;124;43m'\u001B[39;49m\u001B[43m]\u001B[49m\u001B[43m \u001B[49m\u001B[38;5;241;43m==\u001B[39;49m\u001B[43m \u001B[49m\u001B[43mDataframe_More\u001B[49m\u001B[43m[\u001B[49m\u001B[38;5;124;43m'\u001B[39;49m\u001B[38;5;124;43mID\u001B[39;49m\u001B[38;5;124;43m'\u001B[39;49m\u001B[43m]\u001B[49m,\u001B[38;5;124m'\u001B[39m\u001B[38;5;124mURL\u001B[39m\u001B[38;5;124m'\u001B[39m]\n",
      "File \u001B[1;32m~\\AppData\\Local\\Programs\\Python\\Python310\\lib\\site-packages\\pandas\\core\\ops\\common.py:70\u001B[0m, in \u001B[0;36m_unpack_zerodim_and_defer.<locals>.new_method\u001B[1;34m(self, other)\u001B[0m\n\u001B[0;32m     66\u001B[0m             \u001B[38;5;28;01mreturn\u001B[39;00m \u001B[38;5;28mNotImplemented\u001B[39m\n\u001B[0;32m     68\u001B[0m other \u001B[38;5;241m=\u001B[39m item_from_zerodim(other)\n\u001B[1;32m---> 70\u001B[0m \u001B[38;5;28;01mreturn\u001B[39;00m \u001B[43mmethod\u001B[49m\u001B[43m(\u001B[49m\u001B[38;5;28;43mself\u001B[39;49m\u001B[43m,\u001B[49m\u001B[43m \u001B[49m\u001B[43mother\u001B[49m\u001B[43m)\u001B[49m\n",
      "File \u001B[1;32m~\\AppData\\Local\\Programs\\Python\\Python310\\lib\\site-packages\\pandas\\core\\arraylike.py:40\u001B[0m, in \u001B[0;36mOpsMixin.__eq__\u001B[1;34m(self, other)\u001B[0m\n\u001B[0;32m     38\u001B[0m \u001B[38;5;129m@unpack_zerodim_and_defer\u001B[39m(\u001B[38;5;124m\"\u001B[39m\u001B[38;5;124m__eq__\u001B[39m\u001B[38;5;124m\"\u001B[39m)\n\u001B[0;32m     39\u001B[0m \u001B[38;5;28;01mdef\u001B[39;00m \u001B[38;5;21m__eq__\u001B[39m(\u001B[38;5;28mself\u001B[39m, other):\n\u001B[1;32m---> 40\u001B[0m     \u001B[38;5;28;01mreturn\u001B[39;00m \u001B[38;5;28;43mself\u001B[39;49m\u001B[38;5;241;43m.\u001B[39;49m\u001B[43m_cmp_method\u001B[49m\u001B[43m(\u001B[49m\u001B[43mother\u001B[49m\u001B[43m,\u001B[49m\u001B[43m \u001B[49m\u001B[43moperator\u001B[49m\u001B[38;5;241;43m.\u001B[39;49m\u001B[43meq\u001B[49m\u001B[43m)\u001B[49m\n",
      "File \u001B[1;32m~\\AppData\\Local\\Programs\\Python\\Python310\\lib\\site-packages\\pandas\\core\\series.py:5617\u001B[0m, in \u001B[0;36mSeries._cmp_method\u001B[1;34m(self, other, op)\u001B[0m\n\u001B[0;32m   5614\u001B[0m res_name \u001B[38;5;241m=\u001B[39m ops\u001B[38;5;241m.\u001B[39mget_op_result_name(\u001B[38;5;28mself\u001B[39m, other)\n\u001B[0;32m   5616\u001B[0m \u001B[38;5;28;01mif\u001B[39;00m \u001B[38;5;28misinstance\u001B[39m(other, Series) \u001B[38;5;129;01mand\u001B[39;00m \u001B[38;5;129;01mnot\u001B[39;00m \u001B[38;5;28mself\u001B[39m\u001B[38;5;241m.\u001B[39m_indexed_same(other):\n\u001B[1;32m-> 5617\u001B[0m     \u001B[38;5;28;01mraise\u001B[39;00m \u001B[38;5;167;01mValueError\u001B[39;00m(\u001B[38;5;124m\"\u001B[39m\u001B[38;5;124mCan only compare identically-labeled Series objects\u001B[39m\u001B[38;5;124m\"\u001B[39m)\n\u001B[0;32m   5619\u001B[0m lvalues \u001B[38;5;241m=\u001B[39m \u001B[38;5;28mself\u001B[39m\u001B[38;5;241m.\u001B[39m_values\n\u001B[0;32m   5620\u001B[0m rvalues \u001B[38;5;241m=\u001B[39m extract_array(other, extract_numpy\u001B[38;5;241m=\u001B[39m\u001B[38;5;28;01mTrue\u001B[39;00m, extract_range\u001B[38;5;241m=\u001B[39m\u001B[38;5;28;01mTrue\u001B[39;00m)\n",
      "\u001B[1;31mValueError\u001B[0m: Can only compare identically-labeled Series objects"
     ]
    }
   ],
   "source": [
    "Df_final.loc[Df_final['ID'] == Dataframe_More['ID'],'URL']"
   ],
   "metadata": {
    "collapsed": false,
    "pycharm": {
     "name": "#%%\n"
    }
   }
  },
  {
   "cell_type": "code",
   "execution_count": 149,
   "outputs": [],
   "source": [
    "Df_teste = pd.concat([Df_final, Dataframe_More])\n",
    "Df_teste = Df_teste.sort_values(by='ID')"
   ],
   "metadata": {
    "collapsed": false,
    "pycharm": {
     "name": "#%%\n"
    }
   }
  },
  {
   "cell_type": "code",
   "execution_count": 150,
   "outputs": [
    {
     "data": {
      "text/plain": "          DATE                                                URL MARKETPLACE  \\\n20  2022-05-21  https://www.amazon.com.br/Camera-DJI-Osmo-Acti...      AMAZON   \n18  2022-05-21  https://www.amazon.com.br/Camera-DJI-Osmo-Acti...      AMAZON   \n17  2022-05-21  https://www.amazon.com.br/Camera-DJI-Osmo-Acti...      AMAZON   \n16  2022-05-21  https://www.amazon.com.br/Camera-DJI-Osmo-Acti...      AMAZON   \n15  2022-05-21  https://www.amazon.com.br/Camera-DJI-Osmo-Acti...      AMAZON   \n19  2022-05-21  https://www.amazon.com.br/Camera-DJI-Osmo-Acti...      AMAZON   \n7   2022-05-21  https://www.amazon.com.br/Camera-DJI-Osmo-Acti...      AMAZON   \n2   2022-05-21  https://www.amazon.com.br/Gopro-Black-prova-D%...      AMAZON   \n1   2022-05-21  https://www.amazon.com.br/Gopro-Black-prova-D%...      AMAZON   \n0   2022-05-21  https://www.amazon.com.br/Gopro-Black-prova-D%...      AMAZON   \n0   2022-05-21  https://www.amazon.com.br/Gopro-Black-prova-D%...      AMAZON   \n6   2022-05-21  https://www.amazon.com.br/C%C3%A2mera-Digital-...      AMAZON   \n4   2022-05-21  https://www.amazon.com.br/C%C3%A2mera-GoPro-Fr...      AMAZON   \n8   2022-05-21  https://www.amazon.com.br/C%C3%A2mera-GoPro-Fr...      AMAZON   \n9   2022-05-21  https://www.amazon.com.br/C%C3%A2mera-GoPro-Fr...      AMAZON   \n10  2022-05-21  https://www.amazon.com.br/C%C3%A2mera-GoPro-Fr...      AMAZON   \n3   2022-05-21  https://www.amazon.com.br/C%C3%A2mera-Cart%C3%...      AMAZON   \n7   2022-05-21  https://www.amazon.com.br/C%C3%A2mera-Cart%C3%...      AMAZON   \n14  2022-05-21  https://www.amazon.com.br/C%C3%82MERA-GOPRO-BL...      AMAZON   \n13  2022-05-21  https://www.amazon.com.br/C%C3%82MERA-GOPRO-BL...      AMAZON   \n11  2022-05-21  https://www.amazon.com.br/C%C3%82MERA-GOPRO-BL...      AMAZON   \n5   2022-05-21  https://www.amazon.com.br/C%C3%82MERA-GOPRO-BL...      AMAZON   \n12  2022-05-21  https://www.amazon.com.br/C%C3%82MERA-GOPRO-BL...      AMAZON   \n2   2022-05-21  https://www.amazon.com.br/C%C3%A2mera-GoPro-HE...      AMAZON   \n5   2022-05-21  https://www.amazon.com.br/GoPro-Frontal-HyperS...      AMAZON   \n4   2022-05-21  https://www.amazon.com.br/GoPro-Frontal-HyperS...      AMAZON   \n3   2022-05-21  https://www.amazon.com.br/GoPro-Frontal-HyperS...      AMAZON   \n1   2022-05-21  https://www.amazon.com.br/GoPro-Frontal-HyperS...      AMAZON   \n6   2022-05-21  https://www.amazon.com.br/GoPro-Frontal-HyperS...      AMAZON   \n\n                        SELLER    PRICE  PARCEL  INSTALLMENT  \\\n20           DigitalShoppStore  4100.00      10      410.000   \n18     Bits & Bytes Tecnologia  2851.27      10      285.127   \n17                     BC INFO  2712.67      10      271.267   \n16   Xalo Comercio de Produtos  2420.00      10      242.000   \n15                    QanHorse  1983.00      10      198.300   \n19              Elefante Store  3605.23      10      360.523   \n7                   HuaYe Tech  1982.90      10      198.290   \n2               GRUPO MAVERICK  2599.00      10      259.900   \n1                  King Pro St  2289.00      10      228.900   \n0                   EOS IMPORT  2299.00      10      229.900   \n0                 LIVE IMPORTS  2299.00      10      229.900   \n6                   EOS IMPORT  3799.00      10      379.900   \n4                   EOS IMPORT  2540.73      10      254.100   \n8                  King Pro St  2599.00      10      259.900   \n9                  King Pro St  2739.00      10      273.900   \n10              GRUPO MAVERICK  3399.99      10      339.999   \n3                   EOS IMPORT  3000.00      10      300.000   \n7                   EOS IMPORT  2999.00      10      299.900   \n14              GRUPO MAVERICK  3199.99      10      319.999   \n13                LIVE IMPORTS  2599.00      10      259.900   \n11                  EOS IMPORT  2599.00      10      259.900   \n5                   EOS IMPORT  2599.00      10      259.900   \n12                LIVE IMPORTS  2599.00      10      259.900   \n2                       Amazon  4688.20      10      468.820   \n5               GRUPO MAVERICK  4299.99      10      429.999   \n4                  King Pro St  3219.00      10      321.900   \n3                 LIVE IMPORTS  3207.25      10      320.725   \n1                   EOS IMPORT  3207.25      10      320.770   \n6                      MeuDome  4799.00      10      479.900   \n\n    INSTALLMENT_PAYMENT          ID  \\\n20              41000.0  B07RJMK2GV   \n18              28512.7  B07RJMK2GV   \n17              27126.7  B07RJMK2GV   \n16              24200.0  B07RJMK2GV   \n15              19830.0  B07RJMK2GV   \n19              36052.3  B07RJMK2GV   \n7                1982.9  B07RJMK2GV   \n2               25990.0  B07WSRXMS8   \n1               22890.0  B07WSRXMS8   \n0                2299.0  B07WSRXMS8   \n0               22990.0  B07WSRXMS8   \n6                3799.0  B087ZP2GW4   \n4                2541.0  B08KXN6BNH   \n8               25990.0  B08KXN6BNH   \n9               27390.0  B08KXN6BNH   \n10              33999.9  B08KXN6BNH   \n3                3000.0  B08R2XCM9K   \n7               29990.0  B08R2XCM9K   \n14              31999.9  B08ZSVP9T7   \n13              25990.0  B08ZSVP9T7   \n11              25990.0  B08ZSVP9T7   \n5                2599.0  B08ZSVP9T7   \n12              25990.0  B08ZSVP9T7   \n2                4688.2  B093JKGDJZ   \n5               42999.9  B09D15SFMQ   \n4               32190.0  B09D15SFMQ   \n3               32072.5  B09D15SFMQ   \n1                3207.7  B09D15SFMQ   \n6               47990.0  B09D15SFMQ   \n\n                                              PRODUCT  INTERNACIONAL  \n20          Camera DJI Osmo Action 4K Sensor CMOS ...           ERRO  \n18          Camera DJI Osmo Action 4K Sensor CMOS ...           ERRO  \n17          Camera DJI Osmo Action 4K Sensor CMOS ...           ERRO  \n16          Camera DJI Osmo Action 4K Sensor CMOS ...           ERRO  \n15          Camera DJI Osmo Action 4K Sensor CMOS ...           ERRO  \n19          Camera DJI Osmo Action 4K Sensor CMOS ...           ERRO  \n7           Camera DJI Osmo Action 4K Sensor CMOS ...  Internacional  \n2           Gopro Hero 8 Black 4k à prova D'água C...           ERRO  \n1           Gopro Hero 8 Black 4k à prova D'água C...           ERRO  \n0           Gopro Hero 8 Black 4k à prova D'água C...  Internacional  \n0           Gopro Hero 8 Black 4k à prova D'água C...           ERRO  \n6           Câmera Digital GoPro Max 360o - CHDHZ-...  Internacional  \n4           Câmera GoPro HERO9 Black à Prova D'águ...  Internacional  \n8           Câmera GoPro HERO9 Black à Prova D'águ...           ERRO  \n9           Câmera GoPro HERO9 Black à Prova D'águ...           ERRO  \n10          Câmera GoPro HERO9 Black à Prova D'águ...           ERRO  \n3           Câmera GoPro HERO9 Black à Prova D'águ...  Internacional  \n7           Câmera GoPro HERO9 Black à Prova D'águ...           ERRO  \n14          CÂMERA GOPRO HERO 8 BLACK ESSENCIAL BU...           ERRO  \n13          CÂMERA GOPRO HERO 8 BLACK ESSENCIAL BU...           ERRO  \n11          CÂMERA GOPRO HERO 8 BLACK ESSENCIAL BU...           ERRO  \n5           CÂMERA GOPRO HERO 8 BLACK ESSENCIAL BU...  Internacional  \n12          CÂMERA GOPRO HERO 8 BLACK ESSENCIAL BU...           ERRO  \n2           Câmera GoPro HERO9 Black - Kit Trip Pr...  Internacional  \n5           Câmera GoPro HERO10 Black à Prova com ...           ERRO  \n4           Câmera GoPro HERO10 Black à Prova com ...           ERRO  \n3           Câmera GoPro HERO10 Black à Prova com ...           ERRO  \n1           Câmera GoPro HERO10 Black à Prova com ...  Internacional  \n6           Câmera GoPro HERO10 Black à Prova com ...           ERRO  ",
      "text/html": "<div>\n<style scoped>\n    .dataframe tbody tr th:only-of-type {\n        vertical-align: middle;\n    }\n\n    .dataframe tbody tr th {\n        vertical-align: top;\n    }\n\n    .dataframe thead th {\n        text-align: right;\n    }\n</style>\n<table border=\"1\" class=\"dataframe\">\n  <thead>\n    <tr style=\"text-align: right;\">\n      <th></th>\n      <th>DATE</th>\n      <th>URL</th>\n      <th>MARKETPLACE</th>\n      <th>SELLER</th>\n      <th>PRICE</th>\n      <th>PARCEL</th>\n      <th>INSTALLMENT</th>\n      <th>INSTALLMENT_PAYMENT</th>\n      <th>ID</th>\n      <th>PRODUCT</th>\n      <th>INTERNACIONAL</th>\n    </tr>\n  </thead>\n  <tbody>\n    <tr>\n      <th>20</th>\n      <td>2022-05-21</td>\n      <td>https://www.amazon.com.br/Camera-DJI-Osmo-Acti...</td>\n      <td>AMAZON</td>\n      <td>DigitalShoppStore</td>\n      <td>4100.00</td>\n      <td>10</td>\n      <td>410.000</td>\n      <td>41000.0</td>\n      <td>B07RJMK2GV</td>\n      <td>Camera DJI Osmo Action 4K Sensor CMOS ...</td>\n      <td>ERRO</td>\n    </tr>\n    <tr>\n      <th>18</th>\n      <td>2022-05-21</td>\n      <td>https://www.amazon.com.br/Camera-DJI-Osmo-Acti...</td>\n      <td>AMAZON</td>\n      <td>Bits &amp; Bytes Tecnologia</td>\n      <td>2851.27</td>\n      <td>10</td>\n      <td>285.127</td>\n      <td>28512.7</td>\n      <td>B07RJMK2GV</td>\n      <td>Camera DJI Osmo Action 4K Sensor CMOS ...</td>\n      <td>ERRO</td>\n    </tr>\n    <tr>\n      <th>17</th>\n      <td>2022-05-21</td>\n      <td>https://www.amazon.com.br/Camera-DJI-Osmo-Acti...</td>\n      <td>AMAZON</td>\n      <td>BC INFO</td>\n      <td>2712.67</td>\n      <td>10</td>\n      <td>271.267</td>\n      <td>27126.7</td>\n      <td>B07RJMK2GV</td>\n      <td>Camera DJI Osmo Action 4K Sensor CMOS ...</td>\n      <td>ERRO</td>\n    </tr>\n    <tr>\n      <th>16</th>\n      <td>2022-05-21</td>\n      <td>https://www.amazon.com.br/Camera-DJI-Osmo-Acti...</td>\n      <td>AMAZON</td>\n      <td>Xalo Comercio de Produtos</td>\n      <td>2420.00</td>\n      <td>10</td>\n      <td>242.000</td>\n      <td>24200.0</td>\n      <td>B07RJMK2GV</td>\n      <td>Camera DJI Osmo Action 4K Sensor CMOS ...</td>\n      <td>ERRO</td>\n    </tr>\n    <tr>\n      <th>15</th>\n      <td>2022-05-21</td>\n      <td>https://www.amazon.com.br/Camera-DJI-Osmo-Acti...</td>\n      <td>AMAZON</td>\n      <td>QanHorse</td>\n      <td>1983.00</td>\n      <td>10</td>\n      <td>198.300</td>\n      <td>19830.0</td>\n      <td>B07RJMK2GV</td>\n      <td>Camera DJI Osmo Action 4K Sensor CMOS ...</td>\n      <td>ERRO</td>\n    </tr>\n    <tr>\n      <th>19</th>\n      <td>2022-05-21</td>\n      <td>https://www.amazon.com.br/Camera-DJI-Osmo-Acti...</td>\n      <td>AMAZON</td>\n      <td>Elefante Store</td>\n      <td>3605.23</td>\n      <td>10</td>\n      <td>360.523</td>\n      <td>36052.3</td>\n      <td>B07RJMK2GV</td>\n      <td>Camera DJI Osmo Action 4K Sensor CMOS ...</td>\n      <td>ERRO</td>\n    </tr>\n    <tr>\n      <th>7</th>\n      <td>2022-05-21</td>\n      <td>https://www.amazon.com.br/Camera-DJI-Osmo-Acti...</td>\n      <td>AMAZON</td>\n      <td>HuaYe Tech</td>\n      <td>1982.90</td>\n      <td>10</td>\n      <td>198.290</td>\n      <td>1982.9</td>\n      <td>B07RJMK2GV</td>\n      <td>Camera DJI Osmo Action 4K Sensor CMOS ...</td>\n      <td>Internacional</td>\n    </tr>\n    <tr>\n      <th>2</th>\n      <td>2022-05-21</td>\n      <td>https://www.amazon.com.br/Gopro-Black-prova-D%...</td>\n      <td>AMAZON</td>\n      <td>GRUPO MAVERICK</td>\n      <td>2599.00</td>\n      <td>10</td>\n      <td>259.900</td>\n      <td>25990.0</td>\n      <td>B07WSRXMS8</td>\n      <td>Gopro Hero 8 Black 4k à prova D'água C...</td>\n      <td>ERRO</td>\n    </tr>\n    <tr>\n      <th>1</th>\n      <td>2022-05-21</td>\n      <td>https://www.amazon.com.br/Gopro-Black-prova-D%...</td>\n      <td>AMAZON</td>\n      <td>King Pro St</td>\n      <td>2289.00</td>\n      <td>10</td>\n      <td>228.900</td>\n      <td>22890.0</td>\n      <td>B07WSRXMS8</td>\n      <td>Gopro Hero 8 Black 4k à prova D'água C...</td>\n      <td>ERRO</td>\n    </tr>\n    <tr>\n      <th>0</th>\n      <td>2022-05-21</td>\n      <td>https://www.amazon.com.br/Gopro-Black-prova-D%...</td>\n      <td>AMAZON</td>\n      <td>EOS IMPORT</td>\n      <td>2299.00</td>\n      <td>10</td>\n      <td>229.900</td>\n      <td>2299.0</td>\n      <td>B07WSRXMS8</td>\n      <td>Gopro Hero 8 Black 4k à prova D'água C...</td>\n      <td>Internacional</td>\n    </tr>\n    <tr>\n      <th>0</th>\n      <td>2022-05-21</td>\n      <td>https://www.amazon.com.br/Gopro-Black-prova-D%...</td>\n      <td>AMAZON</td>\n      <td>LIVE IMPORTS</td>\n      <td>2299.00</td>\n      <td>10</td>\n      <td>229.900</td>\n      <td>22990.0</td>\n      <td>B07WSRXMS8</td>\n      <td>Gopro Hero 8 Black 4k à prova D'água C...</td>\n      <td>ERRO</td>\n    </tr>\n    <tr>\n      <th>6</th>\n      <td>2022-05-21</td>\n      <td>https://www.amazon.com.br/C%C3%A2mera-Digital-...</td>\n      <td>AMAZON</td>\n      <td>EOS IMPORT</td>\n      <td>3799.00</td>\n      <td>10</td>\n      <td>379.900</td>\n      <td>3799.0</td>\n      <td>B087ZP2GW4</td>\n      <td>Câmera Digital GoPro Max 360o - CHDHZ-...</td>\n      <td>Internacional</td>\n    </tr>\n    <tr>\n      <th>4</th>\n      <td>2022-05-21</td>\n      <td>https://www.amazon.com.br/C%C3%A2mera-GoPro-Fr...</td>\n      <td>AMAZON</td>\n      <td>EOS IMPORT</td>\n      <td>2540.73</td>\n      <td>10</td>\n      <td>254.100</td>\n      <td>2541.0</td>\n      <td>B08KXN6BNH</td>\n      <td>Câmera GoPro HERO9 Black à Prova D'águ...</td>\n      <td>Internacional</td>\n    </tr>\n    <tr>\n      <th>8</th>\n      <td>2022-05-21</td>\n      <td>https://www.amazon.com.br/C%C3%A2mera-GoPro-Fr...</td>\n      <td>AMAZON</td>\n      <td>King Pro St</td>\n      <td>2599.00</td>\n      <td>10</td>\n      <td>259.900</td>\n      <td>25990.0</td>\n      <td>B08KXN6BNH</td>\n      <td>Câmera GoPro HERO9 Black à Prova D'águ...</td>\n      <td>ERRO</td>\n    </tr>\n    <tr>\n      <th>9</th>\n      <td>2022-05-21</td>\n      <td>https://www.amazon.com.br/C%C3%A2mera-GoPro-Fr...</td>\n      <td>AMAZON</td>\n      <td>King Pro St</td>\n      <td>2739.00</td>\n      <td>10</td>\n      <td>273.900</td>\n      <td>27390.0</td>\n      <td>B08KXN6BNH</td>\n      <td>Câmera GoPro HERO9 Black à Prova D'águ...</td>\n      <td>ERRO</td>\n    </tr>\n    <tr>\n      <th>10</th>\n      <td>2022-05-21</td>\n      <td>https://www.amazon.com.br/C%C3%A2mera-GoPro-Fr...</td>\n      <td>AMAZON</td>\n      <td>GRUPO MAVERICK</td>\n      <td>3399.99</td>\n      <td>10</td>\n      <td>339.999</td>\n      <td>33999.9</td>\n      <td>B08KXN6BNH</td>\n      <td>Câmera GoPro HERO9 Black à Prova D'águ...</td>\n      <td>ERRO</td>\n    </tr>\n    <tr>\n      <th>3</th>\n      <td>2022-05-21</td>\n      <td>https://www.amazon.com.br/C%C3%A2mera-Cart%C3%...</td>\n      <td>AMAZON</td>\n      <td>EOS IMPORT</td>\n      <td>3000.00</td>\n      <td>10</td>\n      <td>300.000</td>\n      <td>3000.0</td>\n      <td>B08R2XCM9K</td>\n      <td>Câmera GoPro HERO9 Black à Prova D'águ...</td>\n      <td>Internacional</td>\n    </tr>\n    <tr>\n      <th>7</th>\n      <td>2022-05-21</td>\n      <td>https://www.amazon.com.br/C%C3%A2mera-Cart%C3%...</td>\n      <td>AMAZON</td>\n      <td>EOS IMPORT</td>\n      <td>2999.00</td>\n      <td>10</td>\n      <td>299.900</td>\n      <td>29990.0</td>\n      <td>B08R2XCM9K</td>\n      <td>Câmera GoPro HERO9 Black à Prova D'águ...</td>\n      <td>ERRO</td>\n    </tr>\n    <tr>\n      <th>14</th>\n      <td>2022-05-21</td>\n      <td>https://www.amazon.com.br/C%C3%82MERA-GOPRO-BL...</td>\n      <td>AMAZON</td>\n      <td>GRUPO MAVERICK</td>\n      <td>3199.99</td>\n      <td>10</td>\n      <td>319.999</td>\n      <td>31999.9</td>\n      <td>B08ZSVP9T7</td>\n      <td>CÂMERA GOPRO HERO 8 BLACK ESSENCIAL BU...</td>\n      <td>ERRO</td>\n    </tr>\n    <tr>\n      <th>13</th>\n      <td>2022-05-21</td>\n      <td>https://www.amazon.com.br/C%C3%82MERA-GOPRO-BL...</td>\n      <td>AMAZON</td>\n      <td>LIVE IMPORTS</td>\n      <td>2599.00</td>\n      <td>10</td>\n      <td>259.900</td>\n      <td>25990.0</td>\n      <td>B08ZSVP9T7</td>\n      <td>CÂMERA GOPRO HERO 8 BLACK ESSENCIAL BU...</td>\n      <td>ERRO</td>\n    </tr>\n    <tr>\n      <th>11</th>\n      <td>2022-05-21</td>\n      <td>https://www.amazon.com.br/C%C3%82MERA-GOPRO-BL...</td>\n      <td>AMAZON</td>\n      <td>EOS IMPORT</td>\n      <td>2599.00</td>\n      <td>10</td>\n      <td>259.900</td>\n      <td>25990.0</td>\n      <td>B08ZSVP9T7</td>\n      <td>CÂMERA GOPRO HERO 8 BLACK ESSENCIAL BU...</td>\n      <td>ERRO</td>\n    </tr>\n    <tr>\n      <th>5</th>\n      <td>2022-05-21</td>\n      <td>https://www.amazon.com.br/C%C3%82MERA-GOPRO-BL...</td>\n      <td>AMAZON</td>\n      <td>EOS IMPORT</td>\n      <td>2599.00</td>\n      <td>10</td>\n      <td>259.900</td>\n      <td>2599.0</td>\n      <td>B08ZSVP9T7</td>\n      <td>CÂMERA GOPRO HERO 8 BLACK ESSENCIAL BU...</td>\n      <td>Internacional</td>\n    </tr>\n    <tr>\n      <th>12</th>\n      <td>2022-05-21</td>\n      <td>https://www.amazon.com.br/C%C3%82MERA-GOPRO-BL...</td>\n      <td>AMAZON</td>\n      <td>LIVE IMPORTS</td>\n      <td>2599.00</td>\n      <td>10</td>\n      <td>259.900</td>\n      <td>25990.0</td>\n      <td>B08ZSVP9T7</td>\n      <td>CÂMERA GOPRO HERO 8 BLACK ESSENCIAL BU...</td>\n      <td>ERRO</td>\n    </tr>\n    <tr>\n      <th>2</th>\n      <td>2022-05-21</td>\n      <td>https://www.amazon.com.br/C%C3%A2mera-GoPro-HE...</td>\n      <td>AMAZON</td>\n      <td>Amazon</td>\n      <td>4688.20</td>\n      <td>10</td>\n      <td>468.820</td>\n      <td>4688.2</td>\n      <td>B093JKGDJZ</td>\n      <td>Câmera GoPro HERO9 Black - Kit Trip Pr...</td>\n      <td>Internacional</td>\n    </tr>\n    <tr>\n      <th>5</th>\n      <td>2022-05-21</td>\n      <td>https://www.amazon.com.br/GoPro-Frontal-HyperS...</td>\n      <td>AMAZON</td>\n      <td>GRUPO MAVERICK</td>\n      <td>4299.99</td>\n      <td>10</td>\n      <td>429.999</td>\n      <td>42999.9</td>\n      <td>B09D15SFMQ</td>\n      <td>Câmera GoPro HERO10 Black à Prova com ...</td>\n      <td>ERRO</td>\n    </tr>\n    <tr>\n      <th>4</th>\n      <td>2022-05-21</td>\n      <td>https://www.amazon.com.br/GoPro-Frontal-HyperS...</td>\n      <td>AMAZON</td>\n      <td>King Pro St</td>\n      <td>3219.00</td>\n      <td>10</td>\n      <td>321.900</td>\n      <td>32190.0</td>\n      <td>B09D15SFMQ</td>\n      <td>Câmera GoPro HERO10 Black à Prova com ...</td>\n      <td>ERRO</td>\n    </tr>\n    <tr>\n      <th>3</th>\n      <td>2022-05-21</td>\n      <td>https://www.amazon.com.br/GoPro-Frontal-HyperS...</td>\n      <td>AMAZON</td>\n      <td>LIVE IMPORTS</td>\n      <td>3207.25</td>\n      <td>10</td>\n      <td>320.725</td>\n      <td>32072.5</td>\n      <td>B09D15SFMQ</td>\n      <td>Câmera GoPro HERO10 Black à Prova com ...</td>\n      <td>ERRO</td>\n    </tr>\n    <tr>\n      <th>1</th>\n      <td>2022-05-21</td>\n      <td>https://www.amazon.com.br/GoPro-Frontal-HyperS...</td>\n      <td>AMAZON</td>\n      <td>EOS IMPORT</td>\n      <td>3207.25</td>\n      <td>10</td>\n      <td>320.770</td>\n      <td>3207.7</td>\n      <td>B09D15SFMQ</td>\n      <td>Câmera GoPro HERO10 Black à Prova com ...</td>\n      <td>Internacional</td>\n    </tr>\n    <tr>\n      <th>6</th>\n      <td>2022-05-21</td>\n      <td>https://www.amazon.com.br/GoPro-Frontal-HyperS...</td>\n      <td>AMAZON</td>\n      <td>MeuDome</td>\n      <td>4799.00</td>\n      <td>10</td>\n      <td>479.900</td>\n      <td>47990.0</td>\n      <td>B09D15SFMQ</td>\n      <td>Câmera GoPro HERO10 Black à Prova com ...</td>\n      <td>ERRO</td>\n    </tr>\n  </tbody>\n</table>\n</div>"
     },
     "execution_count": 150,
     "metadata": {},
     "output_type": "execute_result"
    }
   ],
   "source": [
    "Df_teste"
   ],
   "metadata": {
    "collapsed": false,
    "pycharm": {
     "name": "#%%\n"
    }
   }
  },
  {
   "cell_type": "code",
   "execution_count": 105,
   "outputs": [
    {
     "ename": "ValueError",
     "evalue": "Can only compare identically-labeled Series objects",
     "output_type": "error",
     "traceback": [
      "\u001B[1;31m---------------------------------------------------------------------------\u001B[0m",
      "\u001B[1;31mValueError\u001B[0m                                Traceback (most recent call last)",
      "Input \u001B[1;32mIn [105]\u001B[0m, in \u001B[0;36m<cell line: 2>\u001B[1;34m()\u001B[0m\n\u001B[0;32m      1\u001B[0m Dataframe_More[\u001B[38;5;124m'\u001B[39m\u001B[38;5;124mDATE\u001B[39m\u001B[38;5;124m'\u001B[39m] \u001B[38;5;241m=\u001B[39m pd\u001B[38;5;241m.\u001B[39mto_datetime(\u001B[38;5;124m'\u001B[39m\u001B[38;5;124mtoday\u001B[39m\u001B[38;5;124m'\u001B[39m, errors\u001B[38;5;241m=\u001B[39m\u001B[38;5;124m'\u001B[39m\u001B[38;5;124mignore\u001B[39m\u001B[38;5;124m'\u001B[39m)\u001B[38;5;241m.\u001B[39mdate()\n\u001B[1;32m----> 2\u001B[0m Dataframe_More[\u001B[38;5;124m'\u001B[39m\u001B[38;5;124mURL\u001B[39m\u001B[38;5;124m'\u001B[39m] \u001B[38;5;241m=\u001B[39m [Df_final\u001B[38;5;241m.\u001B[39mloc[\u001B[43mDf_final\u001B[49m\u001B[43m[\u001B[49m\u001B[38;5;124;43m'\u001B[39;49m\u001B[38;5;124;43mID\u001B[39;49m\u001B[38;5;124;43m'\u001B[39;49m\u001B[43m]\u001B[49m\u001B[43m \u001B[49m\u001B[38;5;241;43m==\u001B[39;49m\u001B[43m \u001B[49m\u001B[43mDataframe_More\u001B[49m\u001B[43m[\u001B[49m\u001B[38;5;124;43m'\u001B[39;49m\u001B[38;5;124;43mID\u001B[39;49m\u001B[38;5;124;43m'\u001B[39;49m\u001B[43m]\u001B[49m, \u001B[38;5;124m'\u001B[39m\u001B[38;5;124mURL\u001B[39m\u001B[38;5;124m'\u001B[39m]]\n",
      "File \u001B[1;32m~\\AppData\\Local\\Programs\\Python\\Python310\\lib\\site-packages\\pandas\\core\\ops\\common.py:70\u001B[0m, in \u001B[0;36m_unpack_zerodim_and_defer.<locals>.new_method\u001B[1;34m(self, other)\u001B[0m\n\u001B[0;32m     66\u001B[0m             \u001B[38;5;28;01mreturn\u001B[39;00m \u001B[38;5;28mNotImplemented\u001B[39m\n\u001B[0;32m     68\u001B[0m other \u001B[38;5;241m=\u001B[39m item_from_zerodim(other)\n\u001B[1;32m---> 70\u001B[0m \u001B[38;5;28;01mreturn\u001B[39;00m \u001B[43mmethod\u001B[49m\u001B[43m(\u001B[49m\u001B[38;5;28;43mself\u001B[39;49m\u001B[43m,\u001B[49m\u001B[43m \u001B[49m\u001B[43mother\u001B[49m\u001B[43m)\u001B[49m\n",
      "File \u001B[1;32m~\\AppData\\Local\\Programs\\Python\\Python310\\lib\\site-packages\\pandas\\core\\arraylike.py:40\u001B[0m, in \u001B[0;36mOpsMixin.__eq__\u001B[1;34m(self, other)\u001B[0m\n\u001B[0;32m     38\u001B[0m \u001B[38;5;129m@unpack_zerodim_and_defer\u001B[39m(\u001B[38;5;124m\"\u001B[39m\u001B[38;5;124m__eq__\u001B[39m\u001B[38;5;124m\"\u001B[39m)\n\u001B[0;32m     39\u001B[0m \u001B[38;5;28;01mdef\u001B[39;00m \u001B[38;5;21m__eq__\u001B[39m(\u001B[38;5;28mself\u001B[39m, other):\n\u001B[1;32m---> 40\u001B[0m     \u001B[38;5;28;01mreturn\u001B[39;00m \u001B[38;5;28;43mself\u001B[39;49m\u001B[38;5;241;43m.\u001B[39;49m\u001B[43m_cmp_method\u001B[49m\u001B[43m(\u001B[49m\u001B[43mother\u001B[49m\u001B[43m,\u001B[49m\u001B[43m \u001B[49m\u001B[43moperator\u001B[49m\u001B[38;5;241;43m.\u001B[39;49m\u001B[43meq\u001B[49m\u001B[43m)\u001B[49m\n",
      "File \u001B[1;32m~\\AppData\\Local\\Programs\\Python\\Python310\\lib\\site-packages\\pandas\\core\\series.py:5617\u001B[0m, in \u001B[0;36mSeries._cmp_method\u001B[1;34m(self, other, op)\u001B[0m\n\u001B[0;32m   5614\u001B[0m res_name \u001B[38;5;241m=\u001B[39m ops\u001B[38;5;241m.\u001B[39mget_op_result_name(\u001B[38;5;28mself\u001B[39m, other)\n\u001B[0;32m   5616\u001B[0m \u001B[38;5;28;01mif\u001B[39;00m \u001B[38;5;28misinstance\u001B[39m(other, Series) \u001B[38;5;129;01mand\u001B[39;00m \u001B[38;5;129;01mnot\u001B[39;00m \u001B[38;5;28mself\u001B[39m\u001B[38;5;241m.\u001B[39m_indexed_same(other):\n\u001B[1;32m-> 5617\u001B[0m     \u001B[38;5;28;01mraise\u001B[39;00m \u001B[38;5;167;01mValueError\u001B[39;00m(\u001B[38;5;124m\"\u001B[39m\u001B[38;5;124mCan only compare identically-labeled Series objects\u001B[39m\u001B[38;5;124m\"\u001B[39m)\n\u001B[0;32m   5619\u001B[0m lvalues \u001B[38;5;241m=\u001B[39m \u001B[38;5;28mself\u001B[39m\u001B[38;5;241m.\u001B[39m_values\n\u001B[0;32m   5620\u001B[0m rvalues \u001B[38;5;241m=\u001B[39m extract_array(other, extract_numpy\u001B[38;5;241m=\u001B[39m\u001B[38;5;28;01mTrue\u001B[39;00m, extract_range\u001B[38;5;241m=\u001B[39m\u001B[38;5;28;01mTrue\u001B[39;00m)\n",
      "\u001B[1;31mValueError\u001B[0m: Can only compare identically-labeled Series objects"
     ]
    }
   ],
   "source": [
    "Dataframe_More['DATE'] = pd.to_datetime('today', errors='ignore').date()\n",
    "#Dataframe_More['URL'] = [Df_final.loc[Df_final['ID'] == Dataframe_More['ID'], 'URL']]"
   ],
   "metadata": {
    "collapsed": false,
    "pycharm": {
     "name": "#%%\n"
    }
   }
  },
  {
   "cell_type": "code",
   "execution_count": 117,
   "outputs": [
    {
     "data": {
      "text/plain": "            ID                      Seller        Price        DATE  \\\n0   B07WSRXMS8                LIVE IMPORTS  R$ 2.299,00  2022-05-21   \n1   B07WSRXMS8                 King Pro St  R$ 2.289,00  2022-05-21   \n2   B07WSRXMS8              GRUPO MAVERICK  R$ 2.599,00  2022-05-21   \n3   B09D15SFMQ                LIVE IMPORTS  R$ 3.207,25  2022-05-21   \n4   B09D15SFMQ                 King Pro St  R$ 3.219,00  2022-05-21   \n5   B09D15SFMQ              GRUPO MAVERICK  R$ 4.299,99  2022-05-21   \n6   B09D15SFMQ                     MeuDome  R$ 4.799,00  2022-05-21   \n7   B08R2XCM9K                  EOS IMPORT  R$ 2.999,00  2022-05-21   \n8   B08KXN6BNH                 King Pro St  R$ 2.599,00  2022-05-21   \n9   B08KXN6BNH                 King Pro St  R$ 2.739,00  2022-05-21   \n10  B08KXN6BNH              GRUPO MAVERICK  R$ 3.399,99  2022-05-21   \n11  B08ZSVP9T7                  EOS IMPORT  R$ 2.599,00  2022-05-21   \n12  B08ZSVP9T7                LIVE IMPORTS  R$ 2.599,00  2022-05-21   \n13  B08ZSVP9T7                LIVE IMPORTS  R$ 2.599,00  2022-05-21   \n14  B08ZSVP9T7              GRUPO MAVERICK  R$ 3.199,99  2022-05-21   \n15  B07RJMK2GV                    QanHorse  R$ 1.983,00  2022-05-21   \n16  B07RJMK2GV   Xalo Comercio de Produtos  R$ 2.420,00  2022-05-21   \n17  B07RJMK2GV                     BC INFO  R$ 2.712,67  2022-05-21   \n18  B07RJMK2GV     Bits & Bytes Tecnologia  R$ 2.851,27  2022-05-21   \n19  B07RJMK2GV              Elefante Store  R$ 3.605,23  2022-05-21   \n20  B07RJMK2GV           DigitalShoppStore  R$ 4.100,00  2022-05-21   \n\n                                                  URL  \n0   https://www.amazon.com.br/Gopro-Black-prova-D%...  \n1   https://www.amazon.com.br/GoPro-Frontal-HyperS...  \n2   https://www.amazon.com.br/C%C3%A2mera-GoPro-HE...  \n3   https://www.amazon.com.br/C%C3%A2mera-Cart%C3%...  \n4   https://www.amazon.com.br/C%C3%A2mera-GoPro-Fr...  \n5   https://www.amazon.com.br/C%C3%82MERA-GOPRO-BL...  \n6   https://www.amazon.com.br/C%C3%A2mera-Digital-...  \n7   https://www.amazon.com.br/Camera-DJI-Osmo-Acti...  \n8                                                 NaN  \n9                                                 NaN  \n10                                                NaN  \n11                                                NaN  \n12                                                NaN  \n13                                                NaN  \n14                                                NaN  \n15                                                NaN  \n16                                                NaN  \n17                                                NaN  \n18                                                NaN  \n19                                                NaN  \n20                                                NaN  ",
      "text/html": "<div>\n<style scoped>\n    .dataframe tbody tr th:only-of-type {\n        vertical-align: middle;\n    }\n\n    .dataframe tbody tr th {\n        vertical-align: top;\n    }\n\n    .dataframe thead th {\n        text-align: right;\n    }\n</style>\n<table border=\"1\" class=\"dataframe\">\n  <thead>\n    <tr style=\"text-align: right;\">\n      <th></th>\n      <th>ID</th>\n      <th>Seller</th>\n      <th>Price</th>\n      <th>DATE</th>\n      <th>URL</th>\n    </tr>\n  </thead>\n  <tbody>\n    <tr>\n      <th>0</th>\n      <td>B07WSRXMS8</td>\n      <td>LIVE IMPORTS</td>\n      <td>R$ 2.299,00</td>\n      <td>2022-05-21</td>\n      <td>https://www.amazon.com.br/Gopro-Black-prova-D%...</td>\n    </tr>\n    <tr>\n      <th>1</th>\n      <td>B07WSRXMS8</td>\n      <td>King Pro St</td>\n      <td>R$ 2.289,00</td>\n      <td>2022-05-21</td>\n      <td>https://www.amazon.com.br/GoPro-Frontal-HyperS...</td>\n    </tr>\n    <tr>\n      <th>2</th>\n      <td>B07WSRXMS8</td>\n      <td>GRUPO MAVERICK</td>\n      <td>R$ 2.599,00</td>\n      <td>2022-05-21</td>\n      <td>https://www.amazon.com.br/C%C3%A2mera-GoPro-HE...</td>\n    </tr>\n    <tr>\n      <th>3</th>\n      <td>B09D15SFMQ</td>\n      <td>LIVE IMPORTS</td>\n      <td>R$ 3.207,25</td>\n      <td>2022-05-21</td>\n      <td>https://www.amazon.com.br/C%C3%A2mera-Cart%C3%...</td>\n    </tr>\n    <tr>\n      <th>4</th>\n      <td>B09D15SFMQ</td>\n      <td>King Pro St</td>\n      <td>R$ 3.219,00</td>\n      <td>2022-05-21</td>\n      <td>https://www.amazon.com.br/C%C3%A2mera-GoPro-Fr...</td>\n    </tr>\n    <tr>\n      <th>5</th>\n      <td>B09D15SFMQ</td>\n      <td>GRUPO MAVERICK</td>\n      <td>R$ 4.299,99</td>\n      <td>2022-05-21</td>\n      <td>https://www.amazon.com.br/C%C3%82MERA-GOPRO-BL...</td>\n    </tr>\n    <tr>\n      <th>6</th>\n      <td>B09D15SFMQ</td>\n      <td>MeuDome</td>\n      <td>R$ 4.799,00</td>\n      <td>2022-05-21</td>\n      <td>https://www.amazon.com.br/C%C3%A2mera-Digital-...</td>\n    </tr>\n    <tr>\n      <th>7</th>\n      <td>B08R2XCM9K</td>\n      <td>EOS IMPORT</td>\n      <td>R$ 2.999,00</td>\n      <td>2022-05-21</td>\n      <td>https://www.amazon.com.br/Camera-DJI-Osmo-Acti...</td>\n    </tr>\n    <tr>\n      <th>8</th>\n      <td>B08KXN6BNH</td>\n      <td>King Pro St</td>\n      <td>R$ 2.599,00</td>\n      <td>2022-05-21</td>\n      <td>NaN</td>\n    </tr>\n    <tr>\n      <th>9</th>\n      <td>B08KXN6BNH</td>\n      <td>King Pro St</td>\n      <td>R$ 2.739,00</td>\n      <td>2022-05-21</td>\n      <td>NaN</td>\n    </tr>\n    <tr>\n      <th>10</th>\n      <td>B08KXN6BNH</td>\n      <td>GRUPO MAVERICK</td>\n      <td>R$ 3.399,99</td>\n      <td>2022-05-21</td>\n      <td>NaN</td>\n    </tr>\n    <tr>\n      <th>11</th>\n      <td>B08ZSVP9T7</td>\n      <td>EOS IMPORT</td>\n      <td>R$ 2.599,00</td>\n      <td>2022-05-21</td>\n      <td>NaN</td>\n    </tr>\n    <tr>\n      <th>12</th>\n      <td>B08ZSVP9T7</td>\n      <td>LIVE IMPORTS</td>\n      <td>R$ 2.599,00</td>\n      <td>2022-05-21</td>\n      <td>NaN</td>\n    </tr>\n    <tr>\n      <th>13</th>\n      <td>B08ZSVP9T7</td>\n      <td>LIVE IMPORTS</td>\n      <td>R$ 2.599,00</td>\n      <td>2022-05-21</td>\n      <td>NaN</td>\n    </tr>\n    <tr>\n      <th>14</th>\n      <td>B08ZSVP9T7</td>\n      <td>GRUPO MAVERICK</td>\n      <td>R$ 3.199,99</td>\n      <td>2022-05-21</td>\n      <td>NaN</td>\n    </tr>\n    <tr>\n      <th>15</th>\n      <td>B07RJMK2GV</td>\n      <td>QanHorse</td>\n      <td>R$ 1.983,00</td>\n      <td>2022-05-21</td>\n      <td>NaN</td>\n    </tr>\n    <tr>\n      <th>16</th>\n      <td>B07RJMK2GV</td>\n      <td>Xalo Comercio de Produtos</td>\n      <td>R$ 2.420,00</td>\n      <td>2022-05-21</td>\n      <td>NaN</td>\n    </tr>\n    <tr>\n      <th>17</th>\n      <td>B07RJMK2GV</td>\n      <td>BC INFO</td>\n      <td>R$ 2.712,67</td>\n      <td>2022-05-21</td>\n      <td>NaN</td>\n    </tr>\n    <tr>\n      <th>18</th>\n      <td>B07RJMK2GV</td>\n      <td>Bits &amp; Bytes Tecnologia</td>\n      <td>R$ 2.851,27</td>\n      <td>2022-05-21</td>\n      <td>NaN</td>\n    </tr>\n    <tr>\n      <th>19</th>\n      <td>B07RJMK2GV</td>\n      <td>Elefante Store</td>\n      <td>R$ 3.605,23</td>\n      <td>2022-05-21</td>\n      <td>NaN</td>\n    </tr>\n    <tr>\n      <th>20</th>\n      <td>B07RJMK2GV</td>\n      <td>DigitalShoppStore</td>\n      <td>R$ 4.100,00</td>\n      <td>2022-05-21</td>\n      <td>NaN</td>\n    </tr>\n  </tbody>\n</table>\n</div>"
     },
     "execution_count": 117,
     "metadata": {},
     "output_type": "execute_result"
    }
   ],
   "source": [
    "Dataframe_More"
   ],
   "metadata": {
    "collapsed": false,
    "pycharm": {
     "name": "#%%\n"
    }
   }
  },
  {
   "cell_type": "code",
   "execution_count": 63,
   "outputs": [
    {
     "data": {
      "text/plain": "         DATE                                                URL MARKETPLACE  \\\n0  2022-05-21  https://www.amazon.com.br/Gopro-Black-prova-D%...      AMAZON   \n1  2022-05-21  https://www.amazon.com.br/GoPro-Frontal-HyperS...      AMAZON   \n2  2022-05-21  https://www.amazon.com.br/C%C3%A2mera-GoPro-HE...      AMAZON   \n3  2022-05-21  https://www.amazon.com.br/C%C3%A2mera-Cart%C3%...      AMAZON   \n4  2022-05-21  https://www.amazon.com.br/C%C3%A2mera-GoPro-Fr...      AMAZON   \n5  2022-05-21  https://www.amazon.com.br/C%C3%82MERA-GOPRO-BL...      AMAZON   \n6  2022-05-21  https://www.amazon.com.br/C%C3%A2mera-Digital-...      AMAZON   \n7  2022-05-21  https://www.amazon.com.br/Camera-DJI-Osmo-Acti...      AMAZON   \n\n       SELLER    PRICE  PARCEL  INSTALLMENT  INSTALLMENT_PAYMENT          ID  \\\n0  EOS IMPORT  2299.00      10       229.90               2299.0  B07WSRXMS8   \n1  EOS IMPORT  3207.25      10       320.77               3207.7  B09D15SFMQ   \n2      Amazon  4688.20      10       468.82               4688.2  B093JKGDJZ   \n3  EOS IMPORT  3000.00      10       300.00               3000.0  B08R2XCM9K   \n4  EOS IMPORT  2540.73      10       254.10               2541.0  B08KXN6BNH   \n5  EOS IMPORT  2599.00      10       259.90               2599.0  B08ZSVP9T7   \n6  EOS IMPORT  3799.00      10       379.90               3799.0  B087ZP2GW4   \n7  HuaYe Tech  1982.90      10       198.29               1982.9  B07RJMK2GV   \n\n                                             PRODUCT  INTERNACIONAL  \n0          Gopro Hero 8 Black 4k à prova D'água C...  Internacional  \n1          Câmera GoPro HERO10 Black à Prova com ...  Internacional  \n2          Câmera GoPro HERO9 Black - Kit Trip Pr...  Internacional  \n3          Câmera GoPro HERO9 Black à Prova D'águ...  Internacional  \n4          Câmera GoPro HERO9 Black à Prova D'águ...  Internacional  \n5          CÂMERA GOPRO HERO 8 BLACK ESSENCIAL BU...  Internacional  \n6          Câmera Digital GoPro Max 360o - CHDHZ-...  Internacional  \n7          Camera DJI Osmo Action 4K Sensor CMOS ...  Internacional  ",
      "text/html": "<div>\n<style scoped>\n    .dataframe tbody tr th:only-of-type {\n        vertical-align: middle;\n    }\n\n    .dataframe tbody tr th {\n        vertical-align: top;\n    }\n\n    .dataframe thead th {\n        text-align: right;\n    }\n</style>\n<table border=\"1\" class=\"dataframe\">\n  <thead>\n    <tr style=\"text-align: right;\">\n      <th></th>\n      <th>DATE</th>\n      <th>URL</th>\n      <th>MARKETPLACE</th>\n      <th>SELLER</th>\n      <th>PRICE</th>\n      <th>PARCEL</th>\n      <th>INSTALLMENT</th>\n      <th>INSTALLMENT_PAYMENT</th>\n      <th>ID</th>\n      <th>PRODUCT</th>\n      <th>INTERNACIONAL</th>\n    </tr>\n  </thead>\n  <tbody>\n    <tr>\n      <th>0</th>\n      <td>2022-05-21</td>\n      <td>https://www.amazon.com.br/Gopro-Black-prova-D%...</td>\n      <td>AMAZON</td>\n      <td>EOS IMPORT</td>\n      <td>2299.00</td>\n      <td>10</td>\n      <td>229.90</td>\n      <td>2299.0</td>\n      <td>B07WSRXMS8</td>\n      <td>Gopro Hero 8 Black 4k à prova D'água C...</td>\n      <td>Internacional</td>\n    </tr>\n    <tr>\n      <th>1</th>\n      <td>2022-05-21</td>\n      <td>https://www.amazon.com.br/GoPro-Frontal-HyperS...</td>\n      <td>AMAZON</td>\n      <td>EOS IMPORT</td>\n      <td>3207.25</td>\n      <td>10</td>\n      <td>320.77</td>\n      <td>3207.7</td>\n      <td>B09D15SFMQ</td>\n      <td>Câmera GoPro HERO10 Black à Prova com ...</td>\n      <td>Internacional</td>\n    </tr>\n    <tr>\n      <th>2</th>\n      <td>2022-05-21</td>\n      <td>https://www.amazon.com.br/C%C3%A2mera-GoPro-HE...</td>\n      <td>AMAZON</td>\n      <td>Amazon</td>\n      <td>4688.20</td>\n      <td>10</td>\n      <td>468.82</td>\n      <td>4688.2</td>\n      <td>B093JKGDJZ</td>\n      <td>Câmera GoPro HERO9 Black - Kit Trip Pr...</td>\n      <td>Internacional</td>\n    </tr>\n    <tr>\n      <th>3</th>\n      <td>2022-05-21</td>\n      <td>https://www.amazon.com.br/C%C3%A2mera-Cart%C3%...</td>\n      <td>AMAZON</td>\n      <td>EOS IMPORT</td>\n      <td>3000.00</td>\n      <td>10</td>\n      <td>300.00</td>\n      <td>3000.0</td>\n      <td>B08R2XCM9K</td>\n      <td>Câmera GoPro HERO9 Black à Prova D'águ...</td>\n      <td>Internacional</td>\n    </tr>\n    <tr>\n      <th>4</th>\n      <td>2022-05-21</td>\n      <td>https://www.amazon.com.br/C%C3%A2mera-GoPro-Fr...</td>\n      <td>AMAZON</td>\n      <td>EOS IMPORT</td>\n      <td>2540.73</td>\n      <td>10</td>\n      <td>254.10</td>\n      <td>2541.0</td>\n      <td>B08KXN6BNH</td>\n      <td>Câmera GoPro HERO9 Black à Prova D'águ...</td>\n      <td>Internacional</td>\n    </tr>\n    <tr>\n      <th>5</th>\n      <td>2022-05-21</td>\n      <td>https://www.amazon.com.br/C%C3%82MERA-GOPRO-BL...</td>\n      <td>AMAZON</td>\n      <td>EOS IMPORT</td>\n      <td>2599.00</td>\n      <td>10</td>\n      <td>259.90</td>\n      <td>2599.0</td>\n      <td>B08ZSVP9T7</td>\n      <td>CÂMERA GOPRO HERO 8 BLACK ESSENCIAL BU...</td>\n      <td>Internacional</td>\n    </tr>\n    <tr>\n      <th>6</th>\n      <td>2022-05-21</td>\n      <td>https://www.amazon.com.br/C%C3%A2mera-Digital-...</td>\n      <td>AMAZON</td>\n      <td>EOS IMPORT</td>\n      <td>3799.00</td>\n      <td>10</td>\n      <td>379.90</td>\n      <td>3799.0</td>\n      <td>B087ZP2GW4</td>\n      <td>Câmera Digital GoPro Max 360o - CHDHZ-...</td>\n      <td>Internacional</td>\n    </tr>\n    <tr>\n      <th>7</th>\n      <td>2022-05-21</td>\n      <td>https://www.amazon.com.br/Camera-DJI-Osmo-Acti...</td>\n      <td>AMAZON</td>\n      <td>HuaYe Tech</td>\n      <td>1982.90</td>\n      <td>10</td>\n      <td>198.29</td>\n      <td>1982.9</td>\n      <td>B07RJMK2GV</td>\n      <td>Camera DJI Osmo Action 4K Sensor CMOS ...</td>\n      <td>Internacional</td>\n    </tr>\n  </tbody>\n</table>\n</div>"
     },
     "execution_count": 63,
     "metadata": {},
     "output_type": "execute_result"
    }
   ],
   "source": [
    "#Df_final = Df_final.drop(columns=['MORE'])\n",
    "Df_final"
   ],
   "metadata": {
    "collapsed": false,
    "pycharm": {
     "name": "#%%\n"
    }
   }
  },
  {
   "cell_type": "code",
   "execution_count": null,
   "outputs": [],
   "source": [],
   "metadata": {
    "collapsed": false,
    "pycharm": {
     "name": "#%%\n"
    }
   }
  },
  {
   "cell_type": "code",
   "execution_count": 38,
   "metadata": {
    "pycharm": {
     "name": "#%%\n"
    }
   },
   "outputs": [],
   "source": [
    "Dataframe_More.to_excel(r\"C:\\Users\\pedro\\Documents\\Turte Brand Protection\\Turtle_Thinker_Alpha_0.1\\Amazon_More_Wacom.xlsx\", index=False)"
   ]
  },
  {
   "cell_type": "code",
   "execution_count": 33,
   "metadata": {
    "pycharm": {
     "name": "#%%\n"
    }
   },
   "outputs": [
    {
     "name": "stdout",
     "output_type": "stream",
     "text": [
      "187\n"
     ]
    }
   ],
   "source": [
    "Amazon_seller_more =  [s for s in Amazon_seller_more if len(s) > 1]\n",
    "print(len(Amazon_seller_more))"
   ]
  },
  {
   "cell_type": "code",
   "execution_count": 39,
   "metadata": {
    "pycharm": {
     "name": "#%%\n"
    }
   },
   "outputs": [
    {
     "name": "stdout",
     "output_type": "stream",
     "text": [
      "0\n"
     ]
    }
   ],
   "source": [
    "Amazon_seller_more =  [s for s in Amazon_seller_more if not 'Política de devolução' in s]\n",
    "Amazon_seller_more =  [s for s in Amazon_seller_more if not 'Apagar tudo' in s]\n",
    "\n",
    "print(len(Amazon_seller_more))"
   ]
  },
  {
   "cell_type": "code",
   "execution_count": null,
   "metadata": {
    "pycharm": {
     "name": "#%%\n"
    }
   },
   "outputs": [],
   "source": []
  },
  {
   "cell_type": "code",
   "execution_count": 37,
   "metadata": {
    "pycharm": {
     "name": "#%%\n"
    }
   },
   "outputs": [
    {
     "data": {
      "text/plain": [
       "[' Tudo à Beça',\n",
       " 'Política de devolução',\n",
       " ' Gigantec',\n",
       " 'Política de devolução',\n",
       " ' INFOSHOP.',\n",
       " 'Política de devolução',\n",
       " ' Thaun Shop',\n",
       " 'Política de devolução',\n",
       " ' Tendinfo',\n",
       " 'Política de devolução',\n",
       " ' Triplenet Pricing INC',\n",
       " 'Política de devolução',\n",
       " '',\n",
       " 'Apagar tudo',\n",
       " ' O MUNDO PARA VOCÊ',\n",
       " 'Política de devolução',\n",
       " ' ZAPATA STORE SP',\n",
       " 'Política de devolução',\n",
       " ' OFICINA DOS BITS',\n",
       " 'Política de devolução',\n",
       " ' Syma Solutions',\n",
       " 'Política de devolução',\n",
       " ' Conect Magazine',\n",
       " 'Política de devolução',\n",
       " ' IBYTE',\n",
       " 'Política de devolução',\n",
       " ' Triplenet Pricing INC',\n",
       " 'Política de devolução',\n",
       " ' Triplenet Pricing INC',\n",
       " 'Política de devolução',\n",
       " ' MAGIC WORLD ELETRONICOS',\n",
       " 'Política de devolução',\n",
       " ' REX INFORMATICA',\n",
       " 'Política de devolução',\n",
       " ' Tudo à Beça',\n",
       " 'Política de devolução',\n",
       " ' W-TECH IMPORTS',\n",
       " 'Política de devolução',\n",
       " ' Kadri Tecnologia',\n",
       " 'Política de devolução',\n",
       " ' E-SPOT',\n",
       " 'Política de devolução',\n",
       " ' Tendinfo',\n",
       " 'Política de devolução',\n",
       " '',\n",
       " 'Apagar tudo',\n",
       " ' Mil Coisas Drop',\n",
       " 'Política de devolução',\n",
       " ' Mil Coisas droship',\n",
       " 'Política de devolução',\n",
       " 'Política de devolução ',\n",
       " ' BalbinoShop',\n",
       " 'Política de devolução',\n",
       " ' Loja iPlace',\n",
       " 'Política de devolução',\n",
       " ' E-SPOT',\n",
       " 'Política de devolução',\n",
       " ' W-TECH IMPORTS',\n",
       " 'Política de devolução',\n",
       " ' Tendinfo',\n",
       " 'Política de devolução',\n",
       " '',\n",
       " 'Apagar tudo',\n",
       " ' Triplenet Pricing INC',\n",
       " 'Política de devolução',\n",
       " ' DONA JUREMA BOUTIK',\n",
       " 'Política de devolução',\n",
       " ' E-SPOT',\n",
       " 'Política de devolução',\n",
       " ' Triplenet Pricing INC',\n",
       " 'Política de devolução',\n",
       " '',\n",
       " 'Apagar tudo',\n",
       " 'Política de devolução ',\n",
       " ' Tendinfo',\n",
       " 'Política de devolução',\n",
       " ' Megaprice Comercio',\n",
       " 'Política de devolução',\n",
       " ' O MUNDO PARA VOCÊ',\n",
       " 'Política de devolução',\n",
       " ' Mil Coisas droship',\n",
       " 'Política de devolução',\n",
       " ' Angel Eletronicos',\n",
       " 'Política de devolução',\n",
       " ' MAGIC WORLD ELETRONICOS',\n",
       " 'Política de devolução',\n",
       " ' REX INFORMATICA',\n",
       " 'Política de devolução',\n",
       " ' Olist',\n",
       " 'Política de devolução',\n",
       " ' JHP Store',\n",
       " 'Política de devolução',\n",
       " ' Tudo à Beça',\n",
       " 'Política de devolução',\n",
       " ' TopTeck Produtos para Automação Residencial',\n",
       " 'Política de devolução',\n",
       " ' Triplenet Pricing INC',\n",
       " 'Política de devolução',\n",
       " ' Gigantec',\n",
       " 'Política de devolução',\n",
       " ' W-TECH IMPORTS',\n",
       " 'Política de devolução',\n",
       " ' E-SPOT',\n",
       " 'Política de devolução',\n",
       " ' Tendinfo',\n",
       " 'Política de devolução',\n",
       " '',\n",
       " 'Apagar tudo',\n",
       " ' INPOWER',\n",
       " 'Política de devolução',\n",
       " 'Política de devolução ',\n",
       " ' Megaprice Comercio',\n",
       " 'Política de devolução',\n",
       " ' MAGIC WORLD ELETRONICOS',\n",
       " 'Política de devolução',\n",
       " ' REX INFORMATICA',\n",
       " 'Política de devolução',\n",
       " ' PHOENIX ELETRONICOS',\n",
       " 'Política de devolução',\n",
       " ' Tudo à Beça',\n",
       " 'Política de devolução',\n",
       " ' Gigantec',\n",
       " 'Política de devolução',\n",
       " ' Angel Eletronicos',\n",
       " 'Política de devolução',\n",
       " ' SHOPAR INFO',\n",
       " 'Política de devolução',\n",
       " '',\n",
       " 'Apagar tudo',\n",
       " ' Vintage Vibes Br',\n",
       " 'Política de devolução',\n",
       " ' XPPEN-Feel Delicate Touch',\n",
       " 'Política de devolução',\n",
       " ' Dark Gamer',\n",
       " 'Política de devolução',\n",
       " ' Triplenet Pricing INC',\n",
       " 'Política de devolução',\n",
       " ' E-SHOP CITY',\n",
       " 'Política de devolução',\n",
       " ' O MUNDO PARA VOCÊ',\n",
       " 'Política de devolução',\n",
       " ' Tudo à Beça',\n",
       " 'Política de devolução',\n",
       " ' Gigantec',\n",
       " 'Política de devolução',\n",
       " ' HD Store Oficial',\n",
       " 'Política de devolução',\n",
       " ' Triplenet Pricing INC',\n",
       " 'Política de devolução',\n",
       " ' E-SPOT',\n",
       " 'Política de devolução',\n",
       " ' Loja iPlace',\n",
       " 'Política de devolução',\n",
       " ' W-TECH IMPORTS',\n",
       " 'Política de devolução',\n",
       " ' Tendinfo',\n",
       " 'Política de devolução',\n",
       " '',\n",
       " 'Apagar tudo',\n",
       " ' Promotion.Shop 💎',\n",
       " 'Política de devolução',\n",
       " ' E-SHOP CITY',\n",
       " 'Política de devolução',\n",
       " ' DONA JUREMA BOUTIK',\n",
       " 'Política de devolução',\n",
       " ' Thaun Shop',\n",
       " 'Política de devolução',\n",
       " ' INFOSHOP.',\n",
       " 'Política de devolução',\n",
       " ' Gigantec',\n",
       " 'Política de devolução',\n",
       " ' Tudo à Beça',\n",
       " 'Política de devolução',\n",
       " ' OFICINA DOS BITS',\n",
       " 'Política de devolução',\n",
       " ' W-TECH IMPORTS',\n",
       " 'Política de devolução',\n",
       " ' TechShed',\n",
       " 'Política de devolução',\n",
       " ' Triplenet Pricing INC',\n",
       " 'Política de devolução',\n",
       " ' E-SPOT',\n",
       " 'Política de devolução',\n",
       " ' Bits & Bytes Tecnologia',\n",
       " 'Política de devolução',\n",
       " ' HD Store Oficial',\n",
       " 'Política de devolução',\n",
       " ' Tudo à Beça',\n",
       " 'Política de devolução',\n",
       " ' EVOLUÇÃO IMPORT',\n",
       " 'Política de devolução',\n",
       " ' Qualitech Informática',\n",
       " 'Política de devolução',\n",
       " ' TechShed',\n",
       " 'Política de devolução',\n",
       " ' Gigantec',\n",
       " 'Política de devolução',\n",
       " ' OFICINA DOS BITS',\n",
       " 'Política de devolução',\n",
       " ' Triplenet Pricing INC',\n",
       " 'Política de devolução',\n",
       " ' W-TECH IMPORTS',\n",
       " 'Política de devolução',\n",
       " ' E-SPOT',\n",
       " 'Política de devolução',\n",
       " ' Triplenet Pricing INC',\n",
       " 'Política de devolução',\n",
       " ' W-TECH IMPORTS',\n",
       " 'Política de devolução',\n",
       " ' Gigantec',\n",
       " 'Política de devolução',\n",
       " ' Tendinfo',\n",
       " 'Política de devolução',\n",
       " '',\n",
       " 'Apagar tudo',\n",
       " ' E-SHOP CITY',\n",
       " 'Política de devolução',\n",
       " '',\n",
       " 'Apagar tudo',\n",
       " ' Gdgets4u',\n",
       " 'Política de devolução',\n",
       " ' Tudo Tem Shopp',\n",
       " 'Política de devolução',\n",
       " ' MRASHOP',\n",
       " 'Política de devolução',\n",
       " ' Joc Comercial',\n",
       " 'Política de devolução',\n",
       " ' PLANETASHOP2',\n",
       " 'Política de devolução',\n",
       " ' Mondial Shop',\n",
       " 'Política de devolução',\n",
       " ' Imports Br',\n",
       " 'Política de devolução',\n",
       " ' Pagani Mall',\n",
       " 'Política de devolução',\n",
       " ' VitrineGae',\n",
       " 'Política de devolução',\n",
       " ' Gadget Shop Express BR',\n",
       " 'Política de devolução',\n",
       " '',\n",
       " 'Apagar tudo',\n",
       " ' Gdgets4u',\n",
       " 'Política de devolução',\n",
       " ' Pagani Mall',\n",
       " 'Política de devolução',\n",
       " ' Gadget Shop Express BR',\n",
       " 'Política de devolução',\n",
       " ' VitrineGae',\n",
       " 'Política de devolução',\n",
       " ' TOTAL INFO',\n",
       " 'Política de devolução',\n",
       " ' ALB SHOP',\n",
       " 'Política de devolução',\n",
       " ' Alfa Tecnológico',\n",
       " 'Política de devolução',\n",
       " ' XPPEN-Feel Delicate Touch',\n",
       " 'Política de devolução',\n",
       " ' Tendinfo',\n",
       " 'Política de devolução',\n",
       " ' MEIREMAGAZINE',\n",
       " 'Política de devolução',\n",
       " '',\n",
       " 'Apagar tudo',\n",
       " ' MilleniumShop',\n",
       " 'Política de devolução',\n",
       " ' Ignis Imports',\n",
       " 'Política de devolução',\n",
       " ' Promotion.Shop 💎',\n",
       " 'Política de devolução',\n",
       " ' MRASHOP',\n",
       " 'Política de devolução',\n",
       " ' shoploop',\n",
       " 'Política de devolução',\n",
       " ' VitrineGae',\n",
       " 'Política de devolução',\n",
       " ' PLANETASHOP2',\n",
       " 'Política de devolução',\n",
       " ' Pagani Mall',\n",
       " 'Política de devolução',\n",
       " ' Eletro Mania ✔️',\n",
       " 'Política de devolução',\n",
       " ' NewGifts',\n",
       " 'Política de devolução',\n",
       " '',\n",
       " 'Apagar tudo',\n",
       " ' MRASHOP',\n",
       " 'Política de devolução',\n",
       " ' Pagani Mall',\n",
       " 'Política de devolução',\n",
       " ' MEIREMAGAZINE',\n",
       " 'Política de devolução',\n",
       " ' Ami Ventures Inc.',\n",
       " 'Política de devolução',\n",
       " '',\n",
       " 'Apagar tudo',\n",
       " 'Política de devolução ',\n",
       " ' Tudo à Beça',\n",
       " 'Política de devolução',\n",
       " ' INFOGORDO',\n",
       " 'Política de devolução',\n",
       " ' HD Store Oficial',\n",
       " 'Política de devolução',\n",
       " ' Gigantec',\n",
       " 'Política de devolução',\n",
       " ' Triplenet Pricing INC',\n",
       " 'Política de devolução',\n",
       " ' Loja iPlace',\n",
       " 'Política de devolução',\n",
       " ' E-SPOT',\n",
       " 'Política de devolução',\n",
       " ' DOTCOMP',\n",
       " 'Política de devolução',\n",
       " \" Castro's Outlet\",\n",
       " 'Política de devolução',\n",
       " ' Obabox Oficial',\n",
       " 'Política de devolução',\n",
       " ' Mula Games',\n",
       " 'Política de devolução',\n",
       " ' Mustache Books',\n",
       " 'Política de devolução',\n",
       " ' LT2 SHOP',\n",
       " 'Política de devolução',\n",
       " ' OFICINA DOS BITS',\n",
       " 'Política de devolução',\n",
       " ' Elementar Tech',\n",
       " 'Política de devolução',\n",
       " ' Ami Ventures Inc.',\n",
       " 'Política de devolução',\n",
       " ' Tendinfo',\n",
       " 'Política de devolução',\n",
       " ' Tendinfo',\n",
       " 'Política de devolução',\n",
       " ' MMPLACE OFICIAL',\n",
       " 'Política de devolução',\n",
       " ' Mula Games',\n",
       " 'Política de devolução',\n",
       " ' Gigantec',\n",
       " 'Política de devolução',\n",
       " ' Mustache Books',\n",
       " 'Política de devolução',\n",
       " ' LT2 SHOP',\n",
       " 'Política de devolução',\n",
       " ' OFICINA DOS BITS',\n",
       " 'Política de devolução',\n",
       " ' Elementar Tech',\n",
       " 'Política de devolução',\n",
       " ' E-SHOP CITY',\n",
       " 'Política de devolução',\n",
       " ' EGAMER',\n",
       " 'Política de devolução',\n",
       " ' TURUM',\n",
       " 'Política de devolução',\n",
       " ' TURUM MG',\n",
       " 'Política de devolução',\n",
       " ' OFICINA DOS BITS',\n",
       " 'Política de devolução',\n",
       " ' PI-DIL CHEGOU DIGITAL ⭐⭐⭐⭐⭐',\n",
       " 'Política de devolução',\n",
       " '',\n",
       " 'Apagar tudo',\n",
       " ' octo.shop',\n",
       " 'Política de devolução',\n",
       " ' INFOGORDO',\n",
       " 'Política de devolução',\n",
       " 'Política de devolução ',\n",
       " ' OFICINA DOS BITS',\n",
       " 'Política de devolução',\n",
       " '',\n",
       " 'Apagar tudo',\n",
       " ' Triplenet Pricing INC',\n",
       " 'Política de devolução',\n",
       " ' HD Store Oficial',\n",
       " 'Política de devolução']"
      ]
     },
     "execution_count": 37,
     "metadata": {},
     "output_type": "execute_result"
    }
   ],
   "source": [
    "Amazon_seller_more"
   ]
  },
  {
   "cell_type": "code",
   "execution_count": 33,
   "metadata": {
    "pycharm": {
     "name": "#%%\n"
    }
   },
   "outputs": [],
   "source": [
    "Amazon_ID_More = []"
   ]
  },
  {
   "cell_type": "code",
   "execution_count": null,
   "metadata": {
    "pycharm": {
     "name": "#%%\n"
    }
   },
   "outputs": [],
   "source": [
    "Amazon_seller_more = []\n",
    "Amazon_price_more = []\n"
   ]
  },
  {
   "cell_type": "code",
   "execution_count": null,
   "metadata": {
    "pycharm": {
     "name": "#%%\n"
    }
   },
   "outputs": [],
   "source": [
    "Amazon_seller_more"
   ]
  },
  {
   "cell_type": "code",
   "execution_count": null,
   "metadata": {
    "pycharm": {
     "name": "#%%\n"
    }
   },
   "outputs": [],
   "source": [
    "Amazon_price_more"
   ]
  },
  {
   "cell_type": "code",
   "execution_count": null,
   "metadata": {
    "pycharm": {
     "name": "#%%\n"
    }
   },
   "outputs": [],
   "source": [
    "\n",
    "new_url = \"https://www.amazon.com.br/gp/product/ajax/?asin=\" + \"B09D15SFMQ\" + \"&pageno=1&experienceId=aodAjaxMain\"\n",
    "\n",
    "driver.get(new_url)\n",
    "\n",
    "time.sleep(5)\n",
    "\n",
    "body_el = driver.find_element(By.CSS_SELECTOR, 'body')\n",
    "html_str = body_el.get_attribute('innerHTML')\n",
    "\n",
    "Soup = BeautifulSoup(html_str, 'html.parser')\n",
    "\n",
    "for seller in Soup.find_all(class_='a-size-small a-link-normal')[4:]:\n",
    "    print(seller.text)\n",
    "\n",
    "for price in Soup.find_all(class_='a-offscreen')[2:]:\n",
    "    print(price.text)\n"
   ]
  },
  {
   "cell_type": "code",
   "execution_count": null,
   "metadata": {
    "pycharm": {
     "name": "#%%\n"
    }
   },
   "outputs": [],
   "source": []
  },
  {
   "cell_type": "code",
   "execution_count": null,
   "metadata": {
    "pycharm": {
     "name": "#%%\n"
    }
   },
   "outputs": [],
   "source": []
  },
  {
   "cell_type": "code",
   "execution_count": null,
   "metadata": {
    "pycharm": {
     "name": "#%%\n"
    }
   },
   "outputs": [],
   "source": []
  },
  {
   "cell_type": "code",
   "execution_count": null,
   "metadata": {
    "pycharm": {
     "name": "#%%\n"
    }
   },
   "outputs": [],
   "source": [
    "for url in Df_more_offers['ID']:\n",
    "    time.sleep(3)\n",
    "\n",
    "    search = \"https://www.amazon.com.br/gp/product/ajax/?asin=\" + url + \"&pageno=1&experienceId=aodAjaxMain\"\n",
    "\n",
    "    driver.get(search)\n",
    "    body_el = driver.find_element(By.CSS_SELECTOR, 'body')\n",
    "    html_str = body_el.get_attribute('innerHTML')\n",
    "\n",
    "    print(search)\n",
    "\n",
    "    Soup = BeautifulSoup(html_str, 'html.parser')\n",
    "\n",
    "    for seller in Soup.find_all(class_='a-size-small a-link-normal'):\n",
    "        print(seller.text)"
   ]
  },
  {
   "cell_type": "code",
   "execution_count": null,
   "metadata": {
    "pycharm": {
     "name": "#%%\n"
    }
   },
   "outputs": [],
   "source": []
  },
  {
   "cell_type": "code",
   "execution_count": null,
   "metadata": {
    "pycharm": {
     "name": "#%%\n"
    }
   },
   "outputs": [],
   "source": []
  },
  {
   "cell_type": "code",
   "execution_count": null,
   "metadata": {
    "pycharm": {
     "name": "#%%\n"
    }
   },
   "outputs": [],
   "source": []
  },
  {
   "cell_type": "code",
   "execution_count": null,
   "metadata": {
    "pycharm": {
     "name": "#%%\n"
    }
   },
   "outputs": [],
   "source": []
  },
  {
   "cell_type": "code",
   "execution_count": null,
   "metadata": {
    "pycharm": {
     "name": "#%%\n"
    }
   },
   "outputs": [],
   "source": []
  },
  {
   "cell_type": "code",
   "execution_count": null,
   "metadata": {
    "pycharm": {
     "name": "#%%\n"
    }
   },
   "outputs": [],
   "source": [
    "#Teste gráfico \n",
    "import matplotlib.pyplot as plt"
   ]
  },
  {
   "cell_type": "code",
   "execution_count": null,
   "metadata": {
    "pycharm": {
     "name": "#%%\n"
    }
   },
   "outputs": [],
   "source": [
    "plt.figure(figsize=(10,10))\n",
    "plt.boxplot(x=Df_final['PRICE'], vert=False)\n",
    "plt.show()"
   ]
  },
  {
   "cell_type": "code",
   "execution_count": null,
   "metadata": {
    "pycharm": {
     "name": "#%%\n"
    }
   },
   "outputs": [],
   "source": [
    "df_products = Df_final[Df_final['PRICE'] > 800]"
   ]
  },
  {
   "cell_type": "code",
   "execution_count": null,
   "metadata": {
    "pycharm": {
     "name": "#%%\n"
    }
   },
   "outputs": [],
   "source": [
    "df_products"
   ]
  },
  {
   "cell_type": "code",
   "execution_count": null,
   "metadata": {
    "pycharm": {
     "name": "#%%\n"
    }
   },
   "outputs": [],
   "source": []
  }
 ],
 "metadata": {
  "interpreter": {
   "hash": "c3503f95e0e8f4afdf6702396a7a2a29cae9f67572acfe092405dcaa2579b817"
  },
  "kernelspec": {
   "display_name": "Python 3.10.4 64-bit",
   "language": "python",
   "name": "python3"
  },
  "language_info": {
   "codemirror_mode": {
    "name": "ipython",
    "version": 3
   },
   "file_extension": ".py",
   "mimetype": "text/x-python",
   "name": "python",
   "nbconvert_exporter": "python",
   "pygments_lexer": "ipython3",
   "version": "3.10.4"
  },
  "orig_nbformat": 4
 },
 "nbformat": 4,
 "nbformat_minor": 2
}