{
 "cells": [
  {
   "cell_type": "code",
   "execution_count": 59,
   "metadata": {
    "collapsed": true,
    "pycharm": {
     "name": "#%%\n"
    }
   },
   "outputs": [],
   "source": [
    "#IMPORTANDO AS BIBLIOTECAS\n",
    "import pandas as pd\n",
    "import time\n",
    "from selenium import webdriver\n",
    "from selenium.webdriver.chrome.options import Options\n",
    "from bs4 import BeautifulSoup\n",
    "from selenium.webdriver.chrome.webdriver import WebDriver\n",
    "from selenium.common.exceptions import WebDriverException\n",
    "from tqdm import tqdm\n",
    "import sqlite3\n",
    "import json\n",
    "import os"
   ]
  },
  {
   "cell_type": "code",
   "execution_count": 60,
   "outputs": [],
   "source": [
    "#Congiruando o driver\n",
    "options = Options()\n",
    "options.add_argument(\"--headless\")\n",
    "options.add_argument('--disable-gpu')\n",
    "options.add_argument(\"--log-level=3\")\n",
    "options.add_argument('--no-sandbox')\n",
    "options.add_experimental_option('useAutomationExtension', False)\n",
    "options.add_argument(\"user-agent=Mozilla/5.0 (Windows NT 10.0; Win64; x64) AppleWebKit/537.36 (KHTML, like Gecko) Chrome/98.0.4758.109 Safari/537.36 OPR/84.0.4316.52\")\n",
    "options.add_experimental_option('excludeSwitches', ['enable-logging'])"
   ],
   "metadata": {
    "collapsed": false,
    "pycharm": {
     "name": "#%%\n"
    }
   }
  },
  {
   "cell_type": "code",
   "execution_count": 61,
   "outputs": [
    {
     "name": "stderr",
     "output_type": "stream",
     "text": [
      "C:\\Users\\pedro\\AppData\\Local\\Temp\\ipykernel_6644\\3380238038.py:1: DeprecationWarning: executable_path has been deprecated, please pass in a Service object\n",
      "  driver = webdriver.Chrome(r\"C:\\Users\\pedro\\Documents\\Turte Brand Protection\\Turtle_Thinker_Alpha_0.1\\Data\\Selenium\\Selenium_101\", options=options)\n"
     ]
    }
   ],
   "source": [
    "driver = webdriver.Chrome(r\"C:\\Users\\pedro\\Documents\\Turte Brand Protection\\Turtle_Thinker_Alpha_0.1\\Data\\Selenium\\Selenium_101\", options=options)"
   ],
   "metadata": {
    "collapsed": false,
    "pycharm": {
     "name": "#%%\n"
    }
   }
  },
  {
   "cell_type": "code",
   "execution_count": 62,
   "outputs": [],
   "source": [
    "#CRIANDO A LISTA DE VALORES\n",
    "Urls_Extra = []\n",
    "Sellers_Extra = []\n",
    "Country_Extra = []\n",
    "Price_Extra = []\n",
    "SKU_Extra = []\n",
    "Title_Extra = []\n",
    "Installment_Extra_quantidade = []\n",
    "Installment_Extra_valor_parcela = []\n",
    "Installment_Extra_valor_total = []\n",
    "Prox_pag = []"
   ],
   "metadata": {
    "collapsed": false,
    "pycharm": {
     "name": "#%%\n"
    }
   }
  },
  {
   "cell_type": "code",
   "execution_count": 63,
   "outputs": [],
   "source": [
    "#Função para criar os links de busca\n",
    "def getting_n_creating_viavarejo_urls(brand):\n",
    "\n",
    "    Database_path = r\"C:\\Users\\pedro\\Documents\\Turte Brand Protection\\Turtle_Thinker_Alpha_0.1\" + \"\\Data\\\\\" + brand + \"\\\\\" + brand + \".db\"\n",
    "\n",
    "    table = brand + \"_products\"\n",
    "\n",
    "    #Criando a Query\n",
    "    query = \"SELECT * FROM \" + table\n",
    "\n",
    "    #Entrando dentro do databse\n",
    "    connection = sqlite3.connect(Database_path)\n",
    "\n",
    "    #Criando o dataset em brando\n",
    "    df = pd.read_sql_query(query, connection)\n",
    "\n",
    "    #Passando todo o Dataframe para LowerCase\n",
    "    df = df.apply(lambda x: x.astype(str).str.lower())\n",
    "\n",
    "    #Arrumando espaços vazios\n",
    "    # Arrumano os espaços vazios\n",
    "    df['Product_Name'] = df['Product_Name'].str.replace(\" \", \"%2B\")\n",
    "    df['Product_Name'] = df['Product_Name'].str.replace(\"-\", \"%2B\")\n",
    "\n",
    "    # Criando uma nova coluna no database com a formatação certa\n",
    "    df['Urls'] = df['Brand'] + \"+\" + df['Product_Name']\n",
    "\n",
    "    # Criando a nova coluna que são as urls de pesquisa\n",
    "    df['Urls_search'] = \"https://prd-api-partner.viavarejo.com.br/api/search?resultsPerPage=20&terms=\" + df['Brand'][0] + \"%2B\" + df['Product_Name'] + \"&page=1&apiKey=extra&\"\n",
    "\n",
    "    return df"
   ],
   "metadata": {
    "collapsed": false,
    "pycharm": {
     "name": "#%%\n"
    }
   }
  },
  {
   "cell_type": "code",
   "execution_count": 64,
   "outputs": [
    {
     "data": {
      "text/plain": "   Brand Product_Name                                 Product_Descrition  \\\n0  wacom       ctl472  ctl 472 - mesa digitalizadora one by wacom peq...   \n1  wacom      ctl4100  ctl4100 - mesa digitalizadora wacom intuos sma...   \n2  wacom  ctl4100wle0  ctl4100wle0 - mesa digitalizadora wacom intuos...   \n3  wacom  ctl4100wlk0  ctl4100wlk0 - mesa digitalizadora wacom intuos...   \n4  wacom  ctl6100wlk0  ctl6100wlk0 - mesa digitalizadora wacom intuos...   \n5  wacom    dtc133w0a  dtc133w0a - mesa digitalizadora wacom one crea...   \n6  wacom       pth460  pth460 - mesa digitalizadora wacom intuos pro ...   \n7  wacom   dtk1660k0a  dtk1660k0a - display interativo wacom cintiq 1...   \n8  wacom       pth660  pth660 - mesa digitalizadora wacom intuos pro ...   \n9  wacom  ctl6100wle0  ctl6100wle0 - mesa digitalizadora wacom intuos...   \n\n                Urls                                        Urls_search  \n0       wacom+ctl472  https://prd-api-partner.viavarejo.com.br/api/s...  \n1      wacom+ctl4100  https://prd-api-partner.viavarejo.com.br/api/s...  \n2  wacom+ctl4100wle0  https://prd-api-partner.viavarejo.com.br/api/s...  \n3  wacom+ctl4100wlk0  https://prd-api-partner.viavarejo.com.br/api/s...  \n4  wacom+ctl6100wlk0  https://prd-api-partner.viavarejo.com.br/api/s...  \n5    wacom+dtc133w0a  https://prd-api-partner.viavarejo.com.br/api/s...  \n6       wacom+pth460  https://prd-api-partner.viavarejo.com.br/api/s...  \n7   wacom+dtk1660k0a  https://prd-api-partner.viavarejo.com.br/api/s...  \n8       wacom+pth660  https://prd-api-partner.viavarejo.com.br/api/s...  \n9  wacom+ctl6100wle0  https://prd-api-partner.viavarejo.com.br/api/s...  ",
      "text/html": "<div>\n<style scoped>\n    .dataframe tbody tr th:only-of-type {\n        vertical-align: middle;\n    }\n\n    .dataframe tbody tr th {\n        vertical-align: top;\n    }\n\n    .dataframe thead th {\n        text-align: right;\n    }\n</style>\n<table border=\"1\" class=\"dataframe\">\n  <thead>\n    <tr style=\"text-align: right;\">\n      <th></th>\n      <th>Brand</th>\n      <th>Product_Name</th>\n      <th>Product_Descrition</th>\n      <th>Urls</th>\n      <th>Urls_search</th>\n    </tr>\n  </thead>\n  <tbody>\n    <tr>\n      <th>0</th>\n      <td>wacom</td>\n      <td>ctl472</td>\n      <td>ctl 472 - mesa digitalizadora one by wacom peq...</td>\n      <td>wacom+ctl472</td>\n      <td>https://prd-api-partner.viavarejo.com.br/api/s...</td>\n    </tr>\n    <tr>\n      <th>1</th>\n      <td>wacom</td>\n      <td>ctl4100</td>\n      <td>ctl4100 - mesa digitalizadora wacom intuos sma...</td>\n      <td>wacom+ctl4100</td>\n      <td>https://prd-api-partner.viavarejo.com.br/api/s...</td>\n    </tr>\n    <tr>\n      <th>2</th>\n      <td>wacom</td>\n      <td>ctl4100wle0</td>\n      <td>ctl4100wle0 - mesa digitalizadora wacom intuos...</td>\n      <td>wacom+ctl4100wle0</td>\n      <td>https://prd-api-partner.viavarejo.com.br/api/s...</td>\n    </tr>\n    <tr>\n      <th>3</th>\n      <td>wacom</td>\n      <td>ctl4100wlk0</td>\n      <td>ctl4100wlk0 - mesa digitalizadora wacom intuos...</td>\n      <td>wacom+ctl4100wlk0</td>\n      <td>https://prd-api-partner.viavarejo.com.br/api/s...</td>\n    </tr>\n    <tr>\n      <th>4</th>\n      <td>wacom</td>\n      <td>ctl6100wlk0</td>\n      <td>ctl6100wlk0 - mesa digitalizadora wacom intuos...</td>\n      <td>wacom+ctl6100wlk0</td>\n      <td>https://prd-api-partner.viavarejo.com.br/api/s...</td>\n    </tr>\n    <tr>\n      <th>5</th>\n      <td>wacom</td>\n      <td>dtc133w0a</td>\n      <td>dtc133w0a - mesa digitalizadora wacom one crea...</td>\n      <td>wacom+dtc133w0a</td>\n      <td>https://prd-api-partner.viavarejo.com.br/api/s...</td>\n    </tr>\n    <tr>\n      <th>6</th>\n      <td>wacom</td>\n      <td>pth460</td>\n      <td>pth460 - mesa digitalizadora wacom intuos pro ...</td>\n      <td>wacom+pth460</td>\n      <td>https://prd-api-partner.viavarejo.com.br/api/s...</td>\n    </tr>\n    <tr>\n      <th>7</th>\n      <td>wacom</td>\n      <td>dtk1660k0a</td>\n      <td>dtk1660k0a - display interativo wacom cintiq 1...</td>\n      <td>wacom+dtk1660k0a</td>\n      <td>https://prd-api-partner.viavarejo.com.br/api/s...</td>\n    </tr>\n    <tr>\n      <th>8</th>\n      <td>wacom</td>\n      <td>pth660</td>\n      <td>pth660 - mesa digitalizadora wacom intuos pro ...</td>\n      <td>wacom+pth660</td>\n      <td>https://prd-api-partner.viavarejo.com.br/api/s...</td>\n    </tr>\n    <tr>\n      <th>9</th>\n      <td>wacom</td>\n      <td>ctl6100wle0</td>\n      <td>ctl6100wle0 - mesa digitalizadora wacom intuos...</td>\n      <td>wacom+ctl6100wle0</td>\n      <td>https://prd-api-partner.viavarejo.com.br/api/s...</td>\n    </tr>\n  </tbody>\n</table>\n</div>"
     },
     "execution_count": 64,
     "metadata": {},
     "output_type": "execute_result"
    }
   ],
   "source": [
    "Df_Raw = getting_n_creating_viavarejo_urls(\"Wacom\")\n",
    "Df_Raw"
   ],
   "metadata": {
    "collapsed": false,
    "pycharm": {
     "name": "#%%\n"
    }
   }
  },
  {
   "cell_type": "code",
   "execution_count": 65,
   "outputs": [],
   "source": [
    "def get_attributes(url):\n",
    "    time.sleep(5)\n",
    "    driver.get(url)\n",
    "    html = driver.page_source\n",
    "\n",
    "    soup = BeautifulSoup(html, 'html.parser')\n",
    "\n",
    "    elemento = soup.find('body')\n",
    "\n",
    "    dic = json.loads(elemento.text)\n",
    "\n",
    "    # ID\n",
    "    number_id = 0\n",
    "    for i in dic['products']:\n",
    "        try:\n",
    "            SKU_Extra.append(dic['products'][number_id]['url'])\n",
    "        except:\n",
    "            SKU_Extra.append(\"ERRO\")\n",
    "\n",
    "        number_id = number_id + 1\n",
    "\n",
    "    # NOME\n",
    "    number_name = 0\n",
    "    for i in dic['products']:\n",
    "        try:\n",
    "            Title_Extra.append(dic['products'][number_name]['name'])\n",
    "        except:\n",
    "            Title_Extra.append(\"ERRO\")\n",
    "\n",
    "        number_name = number_name + 1\n",
    "\n",
    "    # SELLER NUMBER\n",
    "    number_seller = 0\n",
    "    for i in dic['products']:\n",
    "        try:\n",
    "            Sellers_Extra.append(dic['products'][number_seller]['details']['IdLojista'])\n",
    "        except:\n",
    "            Sellers_Extra.append(\"ERRO\")\n",
    "\n",
    "        number_seller = number_seller + 1\n",
    "\n",
    "    # INTERNACIONAL\n",
    "    number_internacional = 0\n",
    "    for i in dic['products']:\n",
    "        try:\n",
    "            Country_Extra.append(dic['products'][number_internacional]['details']['categoryName'])\n",
    "        except:\n",
    "            Country_Extra.append(\"ERRO\")\n",
    "\n",
    "        number_internacional = number_internacional + 1\n",
    "\n",
    "    # PRICE\n",
    "    number_price = 0\n",
    "    for i in dic['products']:\n",
    "        try:\n",
    "            Price_Extra.append(dic['products'][number_price]['price'])\n",
    "        except:\n",
    "            Price_Extra.append(\"ERRO\")\n",
    "\n",
    "        number_price = number_price + 1\n",
    "\n",
    "    # INSTALLMENT PARCELA\n",
    "    number_parcela = 0\n",
    "    for i in dic['products']:\n",
    "        try:\n",
    "            Installment_Extra_quantidade.append(dic['products'][number_parcela]['installment']['count'])\n",
    "        except:\n",
    "            Installment_Extra_quantidade.append(\"ERRO\")\n",
    "\n",
    "        number_parcela = number_parcela + 1\n",
    "\n",
    "    # INSTALLMENT VALOR PARCELA\n",
    "    number_valor = 0\n",
    "    for i in dic['products']:\n",
    "        try:\n",
    "            Installment_Extra_valor_parcela.append(dic['products'][number_valor]['installment']['price'])\n",
    "        except:\n",
    "            Installment_Extra_valor_parcela.append(\"ERRO\")\n",
    "\n",
    "        number_valor = number_valor + 1\n",
    "\n",
    "    # try da próxima página\n",
    "    try:\n",
    "        Prox_pag.append(dic['pagination']['next'])\n",
    "    except:\n",
    "        pass"
   ],
   "metadata": {
    "collapsed": false,
    "pycharm": {
     "name": "#%%\n"
    }
   }
  },
  {
   "cell_type": "code",
   "execution_count": 66,
   "outputs": [
    {
     "name": "stderr",
     "output_type": "stream",
     "text": [
      "100%|██████████| 10/10 [00:54<00:00,  5.47s/it]\n"
     ]
    }
   ],
   "source": [
    "for url in tqdm(Df_Raw['Urls_search']):\n",
    "    get_attributes(url)"
   ],
   "metadata": {
    "collapsed": false,
    "pycharm": {
     "name": "#%%\n"
    }
   }
  },
  {
   "cell_type": "code",
   "execution_count": 67,
   "outputs": [],
   "source": [
    "def creating_dataframe(Sellers,Price,Quantidade,SKU,Title,Parcela):\n",
    "    Dataframe = pd.DataFrame()\n",
    "\n",
    "    #Colocando Url\n",
    "    Dataframe['URL'] = SKU\n",
    "\n",
    "    #Colocando Data\n",
    "    Dataframe['DATE'] = pd.to_datetime('today', errors='ignore').date()\n",
    "\n",
    "    Dataframe['MARKETPLACE'] = 'EXTRA'\n",
    "\n",
    "    correct_seller = []\n",
    "    #Arrumando sellers\n",
    "    for seller in Sellers_Extra:\n",
    "        correct_seller.append(seller[0])\n",
    "\n",
    "    Dataframe['SELLER'] = correct_seller\n",
    "\n",
    "    Dataframe['PRICE'] = Price\n",
    "\n",
    "    Dataframe['PARCEL'] = Quantidade\n",
    "    Dataframe['INSTALLMENT'] = Parcela\n",
    "\n",
    "    #Criando coluna de Installment_payment\n",
    "    Dataframe['INSTALLMENT_PAYMENT'] = Dataframe['PARCEL'] * Dataframe['INSTALLMENT']\n",
    "\n",
    "    Dataframe['ID'] = Dataframe['URL'].str.partition(\"IdSku=\")[2]\n",
    "    Dataframe['PRODUCT'] = Title\n",
    "\n",
    "    #Colocando em ordem\n",
    "    Dataframe = Dataframe[['DATE','URL','MARKETPLACE','SELLER','PRICE','PARCEL','INSTALLMENT','INSTALLMENT_PAYMENT','ID','PRODUCT']]\n",
    "\n",
    "    return Dataframe"
   ],
   "metadata": {
    "collapsed": false,
    "pycharm": {
     "name": "#%%\n"
    }
   }
  },
  {
   "cell_type": "code",
   "execution_count": 68,
   "outputs": [],
   "source": [
    "dataset_viavarejo = creating_dataframe(Sellers_Extra,Price_Extra,Installment_Extra_quantidade,SKU_Extra,Title_Extra,Installment_Extra_valor_parcela)"
   ],
   "metadata": {
    "collapsed": false,
    "pycharm": {
     "name": "#%%\n"
    }
   }
  },
  {
   "cell_type": "code",
   "execution_count": 69,
   "outputs": [
    {
     "data": {
      "text/plain": "          DATE                                                URL MARKETPLACE  \\\n0   2022-05-31  https://www.extra.com.br/acessorios-inovacoes/...       EXTRA   \n1   2022-05-31  https://www.extra.com.br/acessorios-inovacoes/...       EXTRA   \n2   2022-05-31  https://www.extra.com.br/acessorios-inovacoes/...       EXTRA   \n3   2022-05-31  https://www.extra.com.br/acessorios-inovacoes/...       EXTRA   \n4   2022-05-31  https://www.extra.com.br/acessorios-inovacoes/...       EXTRA   \n..         ...                                                ...         ...   \n83  2022-05-31  https://www.extra.com.br/acessorios-inovacoes/...       EXTRA   \n84  2022-05-31  https://www.extra.com.br/Esporte-Lazer/jogosde...       EXTRA   \n85  2022-05-31  https://www.extra.com.br/acessorios-inovacoes/...       EXTRA   \n86  2022-05-31  https://www.extra.com.br/acessorios-inovacoes/...       EXTRA   \n87  2022-05-31  https://www.extra.com.br/acessorios-inovacoes/...       EXTRA   \n\n    SELLER    PRICE  PARCEL  INSTALLMENT  INSTALLMENT_PAYMENT          ID  \\\n0    36189   449.00       4       112.25               449.00  1533946489   \n1    94202   399.95       4        99.99               399.96  1527638536   \n2   104480   599.90       6        99.98               599.88  1526206918   \n3    12231   617.90       6       102.98               617.88  1515816715   \n4    11901   476.28       4       119.07               476.28  1506135278   \n..     ...      ...     ...          ...                  ...         ...   \n83       E  4147.58      10       414.76              4147.60  1522307841   \n84       E  6599.00       3      2199.67              6599.01  1511666432   \n85       E  4408.92      10       440.89              4408.90  1522307786   \n86       E  3669.90      10       366.99              3669.90    12778347   \n87   44309  1909.90      10       190.99              1909.90  1513799717   \n\n                                              PRODUCT  \n0                    Mesa Digitalizadora Wacom CTL472  \n1           Mesa Digitalizadora One By CTL472 - Wacom  \n2             Mesa Digitalizadora One By Wacom Ctl472  \n3             Mesa Digitalizadora One By Wacom Ctl472  \n4     Mesa Digitalizadora One by Wacom CTL472 Pequena  \n..                                                ...  \n83  Mesa Digitalizadora Wacom Pth660 Intuos Pro Media  \n84  Mesa Digitalizadora Wacom Intuos Pro Média PTH660  \n85  Mesa Digitalizadora Wacom Pth660p Intuos Pro M...  \n86  Mesa Digitalizadora Wacom Intuos Pro Paper Edi...  \n87  Mesa Digitalizadora Wacom Intuos Bluetooth Méd...  \n\n[88 rows x 10 columns]",
      "text/html": "<div>\n<style scoped>\n    .dataframe tbody tr th:only-of-type {\n        vertical-align: middle;\n    }\n\n    .dataframe tbody tr th {\n        vertical-align: top;\n    }\n\n    .dataframe thead th {\n        text-align: right;\n    }\n</style>\n<table border=\"1\" class=\"dataframe\">\n  <thead>\n    <tr style=\"text-align: right;\">\n      <th></th>\n      <th>DATE</th>\n      <th>URL</th>\n      <th>MARKETPLACE</th>\n      <th>SELLER</th>\n      <th>PRICE</th>\n      <th>PARCEL</th>\n      <th>INSTALLMENT</th>\n      <th>INSTALLMENT_PAYMENT</th>\n      <th>ID</th>\n      <th>PRODUCT</th>\n    </tr>\n  </thead>\n  <tbody>\n    <tr>\n      <th>0</th>\n      <td>2022-05-31</td>\n      <td>https://www.extra.com.br/acessorios-inovacoes/...</td>\n      <td>EXTRA</td>\n      <td>36189</td>\n      <td>449.00</td>\n      <td>4</td>\n      <td>112.25</td>\n      <td>449.00</td>\n      <td>1533946489</td>\n      <td>Mesa Digitalizadora Wacom CTL472</td>\n    </tr>\n    <tr>\n      <th>1</th>\n      <td>2022-05-31</td>\n      <td>https://www.extra.com.br/acessorios-inovacoes/...</td>\n      <td>EXTRA</td>\n      <td>94202</td>\n      <td>399.95</td>\n      <td>4</td>\n      <td>99.99</td>\n      <td>399.96</td>\n      <td>1527638536</td>\n      <td>Mesa Digitalizadora One By CTL472 - Wacom</td>\n    </tr>\n    <tr>\n      <th>2</th>\n      <td>2022-05-31</td>\n      <td>https://www.extra.com.br/acessorios-inovacoes/...</td>\n      <td>EXTRA</td>\n      <td>104480</td>\n      <td>599.90</td>\n      <td>6</td>\n      <td>99.98</td>\n      <td>599.88</td>\n      <td>1526206918</td>\n      <td>Mesa Digitalizadora One By Wacom Ctl472</td>\n    </tr>\n    <tr>\n      <th>3</th>\n      <td>2022-05-31</td>\n      <td>https://www.extra.com.br/acessorios-inovacoes/...</td>\n      <td>EXTRA</td>\n      <td>12231</td>\n      <td>617.90</td>\n      <td>6</td>\n      <td>102.98</td>\n      <td>617.88</td>\n      <td>1515816715</td>\n      <td>Mesa Digitalizadora One By Wacom Ctl472</td>\n    </tr>\n    <tr>\n      <th>4</th>\n      <td>2022-05-31</td>\n      <td>https://www.extra.com.br/acessorios-inovacoes/...</td>\n      <td>EXTRA</td>\n      <td>11901</td>\n      <td>476.28</td>\n      <td>4</td>\n      <td>119.07</td>\n      <td>476.28</td>\n      <td>1506135278</td>\n      <td>Mesa Digitalizadora One by Wacom CTL472 Pequena</td>\n    </tr>\n    <tr>\n      <th>...</th>\n      <td>...</td>\n      <td>...</td>\n      <td>...</td>\n      <td>...</td>\n      <td>...</td>\n      <td>...</td>\n      <td>...</td>\n      <td>...</td>\n      <td>...</td>\n      <td>...</td>\n    </tr>\n    <tr>\n      <th>83</th>\n      <td>2022-05-31</td>\n      <td>https://www.extra.com.br/acessorios-inovacoes/...</td>\n      <td>EXTRA</td>\n      <td>E</td>\n      <td>4147.58</td>\n      <td>10</td>\n      <td>414.76</td>\n      <td>4147.60</td>\n      <td>1522307841</td>\n      <td>Mesa Digitalizadora Wacom Pth660 Intuos Pro Media</td>\n    </tr>\n    <tr>\n      <th>84</th>\n      <td>2022-05-31</td>\n      <td>https://www.extra.com.br/Esporte-Lazer/jogosde...</td>\n      <td>EXTRA</td>\n      <td>E</td>\n      <td>6599.00</td>\n      <td>3</td>\n      <td>2199.67</td>\n      <td>6599.01</td>\n      <td>1511666432</td>\n      <td>Mesa Digitalizadora Wacom Intuos Pro Média PTH660</td>\n    </tr>\n    <tr>\n      <th>85</th>\n      <td>2022-05-31</td>\n      <td>https://www.extra.com.br/acessorios-inovacoes/...</td>\n      <td>EXTRA</td>\n      <td>E</td>\n      <td>4408.92</td>\n      <td>10</td>\n      <td>440.89</td>\n      <td>4408.90</td>\n      <td>1522307786</td>\n      <td>Mesa Digitalizadora Wacom Pth660p Intuos Pro M...</td>\n    </tr>\n    <tr>\n      <th>86</th>\n      <td>2022-05-31</td>\n      <td>https://www.extra.com.br/acessorios-inovacoes/...</td>\n      <td>EXTRA</td>\n      <td>E</td>\n      <td>3669.90</td>\n      <td>10</td>\n      <td>366.99</td>\n      <td>3669.90</td>\n      <td>12778347</td>\n      <td>Mesa Digitalizadora Wacom Intuos Pro Paper Edi...</td>\n    </tr>\n    <tr>\n      <th>87</th>\n      <td>2022-05-31</td>\n      <td>https://www.extra.com.br/acessorios-inovacoes/...</td>\n      <td>EXTRA</td>\n      <td>44309</td>\n      <td>1909.90</td>\n      <td>10</td>\n      <td>190.99</td>\n      <td>1909.90</td>\n      <td>1513799717</td>\n      <td>Mesa Digitalizadora Wacom Intuos Bluetooth Méd...</td>\n    </tr>\n  </tbody>\n</table>\n<p>88 rows × 10 columns</p>\n</div>"
     },
     "execution_count": 69,
     "metadata": {},
     "output_type": "execute_result"
    }
   ],
   "source": [
    "dataset_viavarejo"
   ],
   "metadata": {
    "collapsed": false,
    "pycharm": {
     "name": "#%%\n"
    }
   }
  },
  {
   "cell_type": "code",
   "execution_count": 125,
   "outputs": [],
   "source": [
    "def get_sellers(url,sellers):\n",
    "    # driver = webdriver.Chrome(r\"C:\\Users\\pedro\\Documents\\Turte Brand Protection\\Turtle_Thinker_Alpha_0.1\\Data\\Selenium\\Selenium_101\", options=options)\n",
    "\n",
    "    #Criando o dataset para retirar as duplicadas\n",
    "    df_sellers = pd.DataFrame()\n",
    "\n",
    "    df_sellers['URL'] = url\n",
    "    df_sellers['SELLER'] = sellers\n",
    "\n",
    "    #Retirando as duplicadas\n",
    "    df_sellers.drop_duplicates(subset=['SELLER'], inplace=True)\n",
    "\n",
    "    # sellers_name  =[]\n",
    "    #\n",
    "    # for url in tqdm(df_sellers['URL']):\n",
    "    #     driver.get(url)\n",
    "    #     time.sleep(20)\n",
    "    #\n",
    "    #     html = driver.page_source\n",
    "    #\n",
    "    #     Soup = BeautifulSoup(html, 'html.parser')\n",
    "    #\n",
    "    #     try:\n",
    "    #         sellers_name.append(Soup.find(class_='e1vg858b0 css-1kq6ah1 e1g7zzz30').text)\n",
    "    #     except:\n",
    "    #         sellers_name.append(\"ERRO\")\n",
    "    #\n",
    "    # df_sellers['NAMES'] = sellers_name\n",
    "\n",
    "    return df_sellers"
   ],
   "metadata": {
    "collapsed": false,
    "pycharm": {
     "name": "#%%\n"
    }
   }
  },
  {
   "cell_type": "code",
   "execution_count": 127,
   "outputs": [
    {
     "data": {
      "text/plain": "                                                  URL  SELLER\n0   https://www.extra.com.br/acessorios-inovacoes/...   36189\n1   https://www.extra.com.br/acessorios-inovacoes/...   94202\n2   https://www.extra.com.br/acessorios-inovacoes/...  104480\n3   https://www.extra.com.br/acessorios-inovacoes/...   12231\n4   https://www.extra.com.br/acessorios-inovacoes/...   11901\n5   https://www.extra.com.br/acessorios-inovacoes/...   44309\n6   https://www.extra.com.br/acessorios-inovacoes/...   16189\n8   https://www.extra.com.br/acessorios-inovacoes/...  102177\n9   https://www.extra.com.br/acessorios-inovacoes/...   81620\n10  https://www.extra.com.br/acessorios-inovacoes/...   14201\n11  https://www.extra.com.br/Tablets/Tablet/Tablet...  109444\n13  https://www.extra.com.br/acessorios-inovacoes/...  169139\n14  https://www.extra.com.br/acessorios-inovacoes/...  169138\n15  https://www.extra.com.br/acessorios-inovacoes/...  196704\n16  https://www.extra.com.br/acessorios-inovacoes/...   74943\n17  https://www.extra.com.br/acessorios-inovacoes/...  139420\n18  https://www.extra.com.br/1538500805-MP---Mesa-...  145309\n20  https://www.extra.com.br/acessorios-inovacoes/...   47610\n21  https://www.extra.com.br/acessorios-inovacoes/...   10169\n24  https://www.extra.com.br/acessorios-inovacoes/...   88983\n30  https://www.extra.com.br/acessorios-inovacoes/...   85189\n31  https://www.extra.com.br/acessorios-inovacoes/...   69306\n34  https://www.extra.com.br/acessorios-inovacoes/...  192053\n36  https://www.extra.com.br/acessorios-inovacoes/...  100631\n43  https://www.extra.com.br/acessorios-inovacoes/...   35821\n44  https://www.extra.com.br/acessorios-inovacoes/...       E\n73  https://www.extra.com.br/acessorios-inovacoes/...  145309\n79  https://www.extra.com.br/acessorios-inovacoes/...  130703",
      "text/html": "<div>\n<style scoped>\n    .dataframe tbody tr th:only-of-type {\n        vertical-align: middle;\n    }\n\n    .dataframe tbody tr th {\n        vertical-align: top;\n    }\n\n    .dataframe thead th {\n        text-align: right;\n    }\n</style>\n<table border=\"1\" class=\"dataframe\">\n  <thead>\n    <tr style=\"text-align: right;\">\n      <th></th>\n      <th>URL</th>\n      <th>SELLER</th>\n    </tr>\n  </thead>\n  <tbody>\n    <tr>\n      <th>0</th>\n      <td>https://www.extra.com.br/acessorios-inovacoes/...</td>\n      <td>36189</td>\n    </tr>\n    <tr>\n      <th>1</th>\n      <td>https://www.extra.com.br/acessorios-inovacoes/...</td>\n      <td>94202</td>\n    </tr>\n    <tr>\n      <th>2</th>\n      <td>https://www.extra.com.br/acessorios-inovacoes/...</td>\n      <td>104480</td>\n    </tr>\n    <tr>\n      <th>3</th>\n      <td>https://www.extra.com.br/acessorios-inovacoes/...</td>\n      <td>12231</td>\n    </tr>\n    <tr>\n      <th>4</th>\n      <td>https://www.extra.com.br/acessorios-inovacoes/...</td>\n      <td>11901</td>\n    </tr>\n    <tr>\n      <th>5</th>\n      <td>https://www.extra.com.br/acessorios-inovacoes/...</td>\n      <td>44309</td>\n    </tr>\n    <tr>\n      <th>6</th>\n      <td>https://www.extra.com.br/acessorios-inovacoes/...</td>\n      <td>16189</td>\n    </tr>\n    <tr>\n      <th>8</th>\n      <td>https://www.extra.com.br/acessorios-inovacoes/...</td>\n      <td>102177</td>\n    </tr>\n    <tr>\n      <th>9</th>\n      <td>https://www.extra.com.br/acessorios-inovacoes/...</td>\n      <td>81620</td>\n    </tr>\n    <tr>\n      <th>10</th>\n      <td>https://www.extra.com.br/acessorios-inovacoes/...</td>\n      <td>14201</td>\n    </tr>\n    <tr>\n      <th>11</th>\n      <td>https://www.extra.com.br/Tablets/Tablet/Tablet...</td>\n      <td>109444</td>\n    </tr>\n    <tr>\n      <th>13</th>\n      <td>https://www.extra.com.br/acessorios-inovacoes/...</td>\n      <td>169139</td>\n    </tr>\n    <tr>\n      <th>14</th>\n      <td>https://www.extra.com.br/acessorios-inovacoes/...</td>\n      <td>169138</td>\n    </tr>\n    <tr>\n      <th>15</th>\n      <td>https://www.extra.com.br/acessorios-inovacoes/...</td>\n      <td>196704</td>\n    </tr>\n    <tr>\n      <th>16</th>\n      <td>https://www.extra.com.br/acessorios-inovacoes/...</td>\n      <td>74943</td>\n    </tr>\n    <tr>\n      <th>17</th>\n      <td>https://www.extra.com.br/acessorios-inovacoes/...</td>\n      <td>139420</td>\n    </tr>\n    <tr>\n      <th>18</th>\n      <td>https://www.extra.com.br/1538500805-MP---Mesa-...</td>\n      <td>145309</td>\n    </tr>\n    <tr>\n      <th>20</th>\n      <td>https://www.extra.com.br/acessorios-inovacoes/...</td>\n      <td>47610</td>\n    </tr>\n    <tr>\n      <th>21</th>\n      <td>https://www.extra.com.br/acessorios-inovacoes/...</td>\n      <td>10169</td>\n    </tr>\n    <tr>\n      <th>24</th>\n      <td>https://www.extra.com.br/acessorios-inovacoes/...</td>\n      <td>88983</td>\n    </tr>\n    <tr>\n      <th>30</th>\n      <td>https://www.extra.com.br/acessorios-inovacoes/...</td>\n      <td>85189</td>\n    </tr>\n    <tr>\n      <th>31</th>\n      <td>https://www.extra.com.br/acessorios-inovacoes/...</td>\n      <td>69306</td>\n    </tr>\n    <tr>\n      <th>34</th>\n      <td>https://www.extra.com.br/acessorios-inovacoes/...</td>\n      <td>192053</td>\n    </tr>\n    <tr>\n      <th>36</th>\n      <td>https://www.extra.com.br/acessorios-inovacoes/...</td>\n      <td>100631</td>\n    </tr>\n    <tr>\n      <th>43</th>\n      <td>https://www.extra.com.br/acessorios-inovacoes/...</td>\n      <td>35821</td>\n    </tr>\n    <tr>\n      <th>44</th>\n      <td>https://www.extra.com.br/acessorios-inovacoes/...</td>\n      <td>E</td>\n    </tr>\n    <tr>\n      <th>73</th>\n      <td>https://www.extra.com.br/acessorios-inovacoes/...</td>\n      <td>145309</td>\n    </tr>\n    <tr>\n      <th>79</th>\n      <td>https://www.extra.com.br/acessorios-inovacoes/...</td>\n      <td>130703</td>\n    </tr>\n  </tbody>\n</table>\n</div>"
     },
     "execution_count": 127,
     "metadata": {},
     "output_type": "execute_result"
    }
   ],
   "source": [
    "sellers_pd = get_sellers(dataset_viavarejo['URL'], dataset_viavarejo['SELLER'])\n",
    "sellers_pd"
   ],
   "metadata": {
    "collapsed": false,
    "pycharm": {
     "name": "#%%\n"
    }
   }
  },
  {
   "cell_type": "code",
   "execution_count": 109,
   "outputs": [
    {
     "name": "stderr",
     "output_type": "stream",
     "text": [
      "C:\\Users\\pedro\\AppData\\Local\\Temp\\ipykernel_6644\\3961321297.py:4: DeprecationWarning: executable_path has been deprecated, please pass in a Service object\n",
      "  driver = webdriver.Chrome(r\"C:\\Users\\pedro\\Documents\\Turte Brand Protection\\Turtle_Thinker_Alpha_0.1\\Data\\Selenium\\Selenium_101\", options=options)\n"
     ]
    }
   ],
   "source": [
    "sellers_name = []\n",
    "internacional_list = []\n",
    "for url in sellers_pd['URL']:\n",
    "    driver = webdriver.Chrome(r\"C:\\Users\\pedro\\Documents\\Turte Brand Protection\\Turtle_Thinker_Alpha_0.1\\Data\\Selenium\\Selenium_101\", options=options)\n",
    "    driver.get(url)\n",
    "    time.sleep(5)\n",
    "\n",
    "    html = driver.page_source\n",
    "\n",
    "    driver.close()\n",
    "\n",
    "    Soup = BeautifulSoup(html, 'html.parser')\n",
    "\n",
    "    try:\n",
    "        sellers_name.append(Soup.find(class_='e1vg858b0 css-1kq6ah1 e1g7zzz30').text)\n",
    "        try:\n",
    "            internacional_list.append(Soup.find('img', attrs={'data-testid':'stamps'})['alt'])\n",
    "        except:\n",
    "            internacional_list.append(\"NACIONAL\")\n",
    "    except:\n",
    "        sellers_name.append(\"ERRO\")\n",
    "        internacional_list.append(\"ERRO\")"
   ],
   "metadata": {
    "collapsed": false,
    "pycharm": {
     "name": "#%%\n"
    }
   }
  },
  {
   "cell_type": "code",
   "execution_count": 115,
   "outputs": [
    {
     "data": {
      "text/plain": "                                                  URL  SELLER  \\\n0   https://www.extra.com.br/acessorios-inovacoes/...   36189   \n1   https://www.extra.com.br/acessorios-inovacoes/...   94202   \n2   https://www.extra.com.br/acessorios-inovacoes/...  104480   \n3   https://www.extra.com.br/acessorios-inovacoes/...   12231   \n4   https://www.extra.com.br/acessorios-inovacoes/...   11901   \n5   https://www.extra.com.br/acessorios-inovacoes/...   44309   \n6   https://www.extra.com.br/acessorios-inovacoes/...   16189   \n8   https://www.extra.com.br/acessorios-inovacoes/...  102177   \n9   https://www.extra.com.br/acessorios-inovacoes/...   81620   \n10  https://www.extra.com.br/acessorios-inovacoes/...   14201   \n11  https://www.extra.com.br/Tablets/Tablet/Tablet...  109444   \n13  https://www.extra.com.br/acessorios-inovacoes/...  169139   \n14  https://www.extra.com.br/acessorios-inovacoes/...  169138   \n15  https://www.extra.com.br/acessorios-inovacoes/...  196704   \n16  https://www.extra.com.br/acessorios-inovacoes/...   74943   \n17  https://www.extra.com.br/acessorios-inovacoes/...  139420   \n18  https://www.extra.com.br/1538500805-MP---Mesa-...  145309   \n20  https://www.extra.com.br/acessorios-inovacoes/...   47610   \n21  https://www.extra.com.br/acessorios-inovacoes/...   10169   \n24  https://www.extra.com.br/acessorios-inovacoes/...   88983   \n30  https://www.extra.com.br/acessorios-inovacoes/...   85189   \n31  https://www.extra.com.br/acessorios-inovacoes/...   69306   \n34  https://www.extra.com.br/acessorios-inovacoes/...  192053   \n36  https://www.extra.com.br/acessorios-inovacoes/...  100631   \n43  https://www.extra.com.br/acessorios-inovacoes/...   35821   \n44  https://www.extra.com.br/acessorios-inovacoes/...       E   \n73  https://www.extra.com.br/acessorios-inovacoes/...  145309   \n79  https://www.extra.com.br/acessorios-inovacoes/...  130703   \n\n                      Name                         INTERNACIONAL  \n0         BRDF Informatica                              NACIONAL  \n1               Info Store                              NACIONAL  \n2               URBAN GATE                              NACIONAL  \n3                    Olist                              NACIONAL  \n4                                                           ERRO  \n5                   e-spot                              NACIONAL  \n6    Qualitech Informática                              NACIONAL  \n8           SYMA SOLUTIONS                              NACIONAL  \n9                      VSP                              NACIONAL  \n10        Oficina dos Bits                              NACIONAL  \n11                 Noc Noc  AC - Selo Produtos Importados NocNoc  \n13              MIRA STORE                              NACIONAL  \n14               EBV STORE                              NACIONAL  \n15    INFO STORE RODRIGUES                              NACIONAL  \n16                Olist SP                              NACIONAL  \n17                  EPREÇO    > AC - Selo Produtos Usados - 1108  \n18             Olist Store                              NACIONAL  \n20                  SKILL                               NACIONAL  \n21                Gigantec                              NACIONAL  \n24        KADRI TECNOLOGIA                              NACIONAL  \n30              OneCallway                              NACIONAL  \n31                 Callway                              NACIONAL  \n34               BRASILTEK                              NACIONAL  \n36               ATUAL.COM                              NACIONAL  \n43          IPLACE Oficial                              NACIONAL  \n44                                                          ERRO  \n73             Olist Store                              NACIONAL  \n79                                                          ERRO  ",
      "text/html": "<div>\n<style scoped>\n    .dataframe tbody tr th:only-of-type {\n        vertical-align: middle;\n    }\n\n    .dataframe tbody tr th {\n        vertical-align: top;\n    }\n\n    .dataframe thead th {\n        text-align: right;\n    }\n</style>\n<table border=\"1\" class=\"dataframe\">\n  <thead>\n    <tr style=\"text-align: right;\">\n      <th></th>\n      <th>URL</th>\n      <th>SELLER</th>\n      <th>Name</th>\n      <th>INTERNACIONAL</th>\n    </tr>\n  </thead>\n  <tbody>\n    <tr>\n      <th>0</th>\n      <td>https://www.extra.com.br/acessorios-inovacoes/...</td>\n      <td>36189</td>\n      <td>BRDF Informatica</td>\n      <td>NACIONAL</td>\n    </tr>\n    <tr>\n      <th>1</th>\n      <td>https://www.extra.com.br/acessorios-inovacoes/...</td>\n      <td>94202</td>\n      <td>Info Store</td>\n      <td>NACIONAL</td>\n    </tr>\n    <tr>\n      <th>2</th>\n      <td>https://www.extra.com.br/acessorios-inovacoes/...</td>\n      <td>104480</td>\n      <td>URBAN GATE</td>\n      <td>NACIONAL</td>\n    </tr>\n    <tr>\n      <th>3</th>\n      <td>https://www.extra.com.br/acessorios-inovacoes/...</td>\n      <td>12231</td>\n      <td>Olist</td>\n      <td>NACIONAL</td>\n    </tr>\n    <tr>\n      <th>4</th>\n      <td>https://www.extra.com.br/acessorios-inovacoes/...</td>\n      <td>11901</td>\n      <td></td>\n      <td>ERRO</td>\n    </tr>\n    <tr>\n      <th>5</th>\n      <td>https://www.extra.com.br/acessorios-inovacoes/...</td>\n      <td>44309</td>\n      <td>e-spot</td>\n      <td>NACIONAL</td>\n    </tr>\n    <tr>\n      <th>6</th>\n      <td>https://www.extra.com.br/acessorios-inovacoes/...</td>\n      <td>16189</td>\n      <td>Qualitech Informática</td>\n      <td>NACIONAL</td>\n    </tr>\n    <tr>\n      <th>8</th>\n      <td>https://www.extra.com.br/acessorios-inovacoes/...</td>\n      <td>102177</td>\n      <td>SYMA SOLUTIONS</td>\n      <td>NACIONAL</td>\n    </tr>\n    <tr>\n      <th>9</th>\n      <td>https://www.extra.com.br/acessorios-inovacoes/...</td>\n      <td>81620</td>\n      <td>VSP</td>\n      <td>NACIONAL</td>\n    </tr>\n    <tr>\n      <th>10</th>\n      <td>https://www.extra.com.br/acessorios-inovacoes/...</td>\n      <td>14201</td>\n      <td>Oficina dos Bits</td>\n      <td>NACIONAL</td>\n    </tr>\n    <tr>\n      <th>11</th>\n      <td>https://www.extra.com.br/Tablets/Tablet/Tablet...</td>\n      <td>109444</td>\n      <td>Noc Noc</td>\n      <td>AC - Selo Produtos Importados NocNoc</td>\n    </tr>\n    <tr>\n      <th>13</th>\n      <td>https://www.extra.com.br/acessorios-inovacoes/...</td>\n      <td>169139</td>\n      <td>MIRA STORE</td>\n      <td>NACIONAL</td>\n    </tr>\n    <tr>\n      <th>14</th>\n      <td>https://www.extra.com.br/acessorios-inovacoes/...</td>\n      <td>169138</td>\n      <td>EBV STORE</td>\n      <td>NACIONAL</td>\n    </tr>\n    <tr>\n      <th>15</th>\n      <td>https://www.extra.com.br/acessorios-inovacoes/...</td>\n      <td>196704</td>\n      <td>INFO STORE RODRIGUES</td>\n      <td>NACIONAL</td>\n    </tr>\n    <tr>\n      <th>16</th>\n      <td>https://www.extra.com.br/acessorios-inovacoes/...</td>\n      <td>74943</td>\n      <td>Olist SP</td>\n      <td>NACIONAL</td>\n    </tr>\n    <tr>\n      <th>17</th>\n      <td>https://www.extra.com.br/acessorios-inovacoes/...</td>\n      <td>139420</td>\n      <td>EPREÇO</td>\n      <td>&gt; AC - Selo Produtos Usados - 1108</td>\n    </tr>\n    <tr>\n      <th>18</th>\n      <td>https://www.extra.com.br/1538500805-MP---Mesa-...</td>\n      <td>145309</td>\n      <td>Olist Store</td>\n      <td>NACIONAL</td>\n    </tr>\n    <tr>\n      <th>20</th>\n      <td>https://www.extra.com.br/acessorios-inovacoes/...</td>\n      <td>47610</td>\n      <td>SKILL</td>\n      <td>NACIONAL</td>\n    </tr>\n    <tr>\n      <th>21</th>\n      <td>https://www.extra.com.br/acessorios-inovacoes/...</td>\n      <td>10169</td>\n      <td>Gigantec</td>\n      <td>NACIONAL</td>\n    </tr>\n    <tr>\n      <th>24</th>\n      <td>https://www.extra.com.br/acessorios-inovacoes/...</td>\n      <td>88983</td>\n      <td>KADRI TECNOLOGIA</td>\n      <td>NACIONAL</td>\n    </tr>\n    <tr>\n      <th>30</th>\n      <td>https://www.extra.com.br/acessorios-inovacoes/...</td>\n      <td>85189</td>\n      <td>OneCallway</td>\n      <td>NACIONAL</td>\n    </tr>\n    <tr>\n      <th>31</th>\n      <td>https://www.extra.com.br/acessorios-inovacoes/...</td>\n      <td>69306</td>\n      <td>Callway</td>\n      <td>NACIONAL</td>\n    </tr>\n    <tr>\n      <th>34</th>\n      <td>https://www.extra.com.br/acessorios-inovacoes/...</td>\n      <td>192053</td>\n      <td>BRASILTEK</td>\n      <td>NACIONAL</td>\n    </tr>\n    <tr>\n      <th>36</th>\n      <td>https://www.extra.com.br/acessorios-inovacoes/...</td>\n      <td>100631</td>\n      <td>ATUAL.COM</td>\n      <td>NACIONAL</td>\n    </tr>\n    <tr>\n      <th>43</th>\n      <td>https://www.extra.com.br/acessorios-inovacoes/...</td>\n      <td>35821</td>\n      <td>IPLACE Oficial</td>\n      <td>NACIONAL</td>\n    </tr>\n    <tr>\n      <th>44</th>\n      <td>https://www.extra.com.br/acessorios-inovacoes/...</td>\n      <td>E</td>\n      <td></td>\n      <td>ERRO</td>\n    </tr>\n    <tr>\n      <th>73</th>\n      <td>https://www.extra.com.br/acessorios-inovacoes/...</td>\n      <td>145309</td>\n      <td>Olist Store</td>\n      <td>NACIONAL</td>\n    </tr>\n    <tr>\n      <th>79</th>\n      <td>https://www.extra.com.br/acessorios-inovacoes/...</td>\n      <td>130703</td>\n      <td></td>\n      <td>ERRO</td>\n    </tr>\n  </tbody>\n</table>\n</div>"
     },
     "execution_count": 115,
     "metadata": {},
     "output_type": "execute_result"
    }
   ],
   "source": [
    "sellers_pd['Name'] = sellers_name\n",
    "sellers_pd['INTERNACIONAL'] = internacional_list\n",
    "\n",
    "#Mudando o nome do seller\n",
    "sellers_pd['Name'] = sellers_pd['Name'].str.partition(\"por\")[2]\n",
    "\n",
    "sellers_pd"
   ],
   "metadata": {
    "collapsed": false,
    "pycharm": {
     "name": "#%%\n"
    }
   }
  },
  {
   "cell_type": "code",
   "execution_count": 121,
   "outputs": [],
   "source": [
    "sellers_name_correct = []\n",
    "\n",
    "for code in dataset_viavarejo['SELLER']:\n",
    "    sellers_name_correct.append(sellers_pd.loc[sellers_pd['SELLER'] == code,'Name'].values[0])\n",
    "\n",
    "internacional_name_correct = []\n",
    "\n",
    "for code in dataset_viavarejo['SELLER']:\n",
    "    internacional_name_correct.append(sellers_pd.loc[sellers_pd['SELLER'] == code,'INTERNACIONAL'].values[0])"
   ],
   "metadata": {
    "collapsed": false,
    "pycharm": {
     "name": "#%%\n"
    }
   }
  },
  {
   "cell_type": "code",
   "execution_count": 117,
   "outputs": [
    {
     "data": {
      "text/plain": "' BRDF Informatica'"
     },
     "execution_count": 117,
     "metadata": {},
     "output_type": "execute_result"
    }
   ],
   "source": [
    "sellers_pd.loc[sellers_pd['SELLER'] == '36189', 'Name'].values[0]"
   ],
   "metadata": {
    "collapsed": false,
    "pycharm": {
     "name": "#%%\n"
    }
   }
  },
  {
   "cell_type": "code",
   "execution_count": 122,
   "outputs": [
    {
     "data": {
      "text/plain": "          DATE                                                URL MARKETPLACE  \\\n0   2022-05-31  https://www.extra.com.br/acessorios-inovacoes/...       EXTRA   \n1   2022-05-31  https://www.extra.com.br/acessorios-inovacoes/...       EXTRA   \n2   2022-05-31  https://www.extra.com.br/acessorios-inovacoes/...       EXTRA   \n3   2022-05-31  https://www.extra.com.br/acessorios-inovacoes/...       EXTRA   \n4   2022-05-31  https://www.extra.com.br/acessorios-inovacoes/...       EXTRA   \n..         ...                                                ...         ...   \n83  2022-05-31  https://www.extra.com.br/acessorios-inovacoes/...       EXTRA   \n84  2022-05-31  https://www.extra.com.br/Esporte-Lazer/jogosde...       EXTRA   \n85  2022-05-31  https://www.extra.com.br/acessorios-inovacoes/...       EXTRA   \n86  2022-05-31  https://www.extra.com.br/acessorios-inovacoes/...       EXTRA   \n87  2022-05-31  https://www.extra.com.br/acessorios-inovacoes/...       EXTRA   \n\n    SELLER    PRICE  PARCEL  INSTALLMENT  INSTALLMENT_PAYMENT          ID  \\\n0    36189   449.00       4       112.25               449.00  1533946489   \n1    94202   399.95       4        99.99               399.96  1527638536   \n2   104480   599.90       6        99.98               599.88  1526206918   \n3    12231   617.90       6       102.98               617.88  1515816715   \n4    11901   476.28       4       119.07               476.28  1506135278   \n..     ...      ...     ...          ...                  ...         ...   \n83       E  4147.58      10       414.76              4147.60  1522307841   \n84       E  6599.00       3      2199.67              6599.01  1511666432   \n85       E  4408.92      10       440.89              4408.90  1522307786   \n86       E  3669.90      10       366.99              3669.90    12778347   \n87   44309  1909.90      10       190.99              1909.90  1513799717   \n\n                                              PRODUCT        Seller_Name  \\\n0                    Mesa Digitalizadora Wacom CTL472   BRDF Informatica   \n1           Mesa Digitalizadora One By CTL472 - Wacom         Info Store   \n2             Mesa Digitalizadora One By Wacom Ctl472         URBAN GATE   \n3             Mesa Digitalizadora One By Wacom Ctl472              Olist   \n4     Mesa Digitalizadora One by Wacom CTL472 Pequena                      \n..                                                ...                ...   \n83  Mesa Digitalizadora Wacom Pth660 Intuos Pro Media                      \n84  Mesa Digitalizadora Wacom Intuos Pro Média PTH660                      \n85  Mesa Digitalizadora Wacom Pth660p Intuos Pro M...                      \n86  Mesa Digitalizadora Wacom Intuos Pro Paper Edi...                      \n87  Mesa Digitalizadora Wacom Intuos Bluetooth Méd...             e-spot   \n\n   INTERNACIONAL  \n0       NACIONAL  \n1       NACIONAL  \n2       NACIONAL  \n3       NACIONAL  \n4           ERRO  \n..           ...  \n83          ERRO  \n84          ERRO  \n85          ERRO  \n86          ERRO  \n87      NACIONAL  \n\n[88 rows x 12 columns]",
      "text/html": "<div>\n<style scoped>\n    .dataframe tbody tr th:only-of-type {\n        vertical-align: middle;\n    }\n\n    .dataframe tbody tr th {\n        vertical-align: top;\n    }\n\n    .dataframe thead th {\n        text-align: right;\n    }\n</style>\n<table border=\"1\" class=\"dataframe\">\n  <thead>\n    <tr style=\"text-align: right;\">\n      <th></th>\n      <th>DATE</th>\n      <th>URL</th>\n      <th>MARKETPLACE</th>\n      <th>SELLER</th>\n      <th>PRICE</th>\n      <th>PARCEL</th>\n      <th>INSTALLMENT</th>\n      <th>INSTALLMENT_PAYMENT</th>\n      <th>ID</th>\n      <th>PRODUCT</th>\n      <th>Seller_Name</th>\n      <th>INTERNACIONAL</th>\n    </tr>\n  </thead>\n  <tbody>\n    <tr>\n      <th>0</th>\n      <td>2022-05-31</td>\n      <td>https://www.extra.com.br/acessorios-inovacoes/...</td>\n      <td>EXTRA</td>\n      <td>36189</td>\n      <td>449.00</td>\n      <td>4</td>\n      <td>112.25</td>\n      <td>449.00</td>\n      <td>1533946489</td>\n      <td>Mesa Digitalizadora Wacom CTL472</td>\n      <td>BRDF Informatica</td>\n      <td>NACIONAL</td>\n    </tr>\n    <tr>\n      <th>1</th>\n      <td>2022-05-31</td>\n      <td>https://www.extra.com.br/acessorios-inovacoes/...</td>\n      <td>EXTRA</td>\n      <td>94202</td>\n      <td>399.95</td>\n      <td>4</td>\n      <td>99.99</td>\n      <td>399.96</td>\n      <td>1527638536</td>\n      <td>Mesa Digitalizadora One By CTL472 - Wacom</td>\n      <td>Info Store</td>\n      <td>NACIONAL</td>\n    </tr>\n    <tr>\n      <th>2</th>\n      <td>2022-05-31</td>\n      <td>https://www.extra.com.br/acessorios-inovacoes/...</td>\n      <td>EXTRA</td>\n      <td>104480</td>\n      <td>599.90</td>\n      <td>6</td>\n      <td>99.98</td>\n      <td>599.88</td>\n      <td>1526206918</td>\n      <td>Mesa Digitalizadora One By Wacom Ctl472</td>\n      <td>URBAN GATE</td>\n      <td>NACIONAL</td>\n    </tr>\n    <tr>\n      <th>3</th>\n      <td>2022-05-31</td>\n      <td>https://www.extra.com.br/acessorios-inovacoes/...</td>\n      <td>EXTRA</td>\n      <td>12231</td>\n      <td>617.90</td>\n      <td>6</td>\n      <td>102.98</td>\n      <td>617.88</td>\n      <td>1515816715</td>\n      <td>Mesa Digitalizadora One By Wacom Ctl472</td>\n      <td>Olist</td>\n      <td>NACIONAL</td>\n    </tr>\n    <tr>\n      <th>4</th>\n      <td>2022-05-31</td>\n      <td>https://www.extra.com.br/acessorios-inovacoes/...</td>\n      <td>EXTRA</td>\n      <td>11901</td>\n      <td>476.28</td>\n      <td>4</td>\n      <td>119.07</td>\n      <td>476.28</td>\n      <td>1506135278</td>\n      <td>Mesa Digitalizadora One by Wacom CTL472 Pequena</td>\n      <td></td>\n      <td>ERRO</td>\n    </tr>\n    <tr>\n      <th>...</th>\n      <td>...</td>\n      <td>...</td>\n      <td>...</td>\n      <td>...</td>\n      <td>...</td>\n      <td>...</td>\n      <td>...</td>\n      <td>...</td>\n      <td>...</td>\n      <td>...</td>\n      <td>...</td>\n      <td>...</td>\n    </tr>\n    <tr>\n      <th>83</th>\n      <td>2022-05-31</td>\n      <td>https://www.extra.com.br/acessorios-inovacoes/...</td>\n      <td>EXTRA</td>\n      <td>E</td>\n      <td>4147.58</td>\n      <td>10</td>\n      <td>414.76</td>\n      <td>4147.60</td>\n      <td>1522307841</td>\n      <td>Mesa Digitalizadora Wacom Pth660 Intuos Pro Media</td>\n      <td></td>\n      <td>ERRO</td>\n    </tr>\n    <tr>\n      <th>84</th>\n      <td>2022-05-31</td>\n      <td>https://www.extra.com.br/Esporte-Lazer/jogosde...</td>\n      <td>EXTRA</td>\n      <td>E</td>\n      <td>6599.00</td>\n      <td>3</td>\n      <td>2199.67</td>\n      <td>6599.01</td>\n      <td>1511666432</td>\n      <td>Mesa Digitalizadora Wacom Intuos Pro Média PTH660</td>\n      <td></td>\n      <td>ERRO</td>\n    </tr>\n    <tr>\n      <th>85</th>\n      <td>2022-05-31</td>\n      <td>https://www.extra.com.br/acessorios-inovacoes/...</td>\n      <td>EXTRA</td>\n      <td>E</td>\n      <td>4408.92</td>\n      <td>10</td>\n      <td>440.89</td>\n      <td>4408.90</td>\n      <td>1522307786</td>\n      <td>Mesa Digitalizadora Wacom Pth660p Intuos Pro M...</td>\n      <td></td>\n      <td>ERRO</td>\n    </tr>\n    <tr>\n      <th>86</th>\n      <td>2022-05-31</td>\n      <td>https://www.extra.com.br/acessorios-inovacoes/...</td>\n      <td>EXTRA</td>\n      <td>E</td>\n      <td>3669.90</td>\n      <td>10</td>\n      <td>366.99</td>\n      <td>3669.90</td>\n      <td>12778347</td>\n      <td>Mesa Digitalizadora Wacom Intuos Pro Paper Edi...</td>\n      <td></td>\n      <td>ERRO</td>\n    </tr>\n    <tr>\n      <th>87</th>\n      <td>2022-05-31</td>\n      <td>https://www.extra.com.br/acessorios-inovacoes/...</td>\n      <td>EXTRA</td>\n      <td>44309</td>\n      <td>1909.90</td>\n      <td>10</td>\n      <td>190.99</td>\n      <td>1909.90</td>\n      <td>1513799717</td>\n      <td>Mesa Digitalizadora Wacom Intuos Bluetooth Méd...</td>\n      <td>e-spot</td>\n      <td>NACIONAL</td>\n    </tr>\n  </tbody>\n</table>\n<p>88 rows × 12 columns</p>\n</div>"
     },
     "execution_count": 122,
     "metadata": {},
     "output_type": "execute_result"
    }
   ],
   "source": [
    "dataset_viavarejo['Seller_Name'] = sellers_name_correct\n",
    "dataset_viavarejo['INTERNACIONAL'] = internacional_name_correct\n",
    "dataset_viavarejo"
   ],
   "metadata": {
    "collapsed": false,
    "pycharm": {
     "name": "#%%\n"
    }
   }
  },
  {
   "cell_type": "code",
   "execution_count": null,
   "outputs": [],
   "source": [],
   "metadata": {
    "collapsed": false,
    "pycharm": {
     "name": "#%%\n"
    }
   }
  },
  {
   "cell_type": "code",
   "execution_count": 105,
   "outputs": [
    {
     "name": "stderr",
     "output_type": "stream",
     "text": [
      "C:\\Users\\pedro\\AppData\\Local\\Temp\\ipykernel_6644\\4100146394.py:1: DeprecationWarning: executable_path has been deprecated, please pass in a Service object\n",
      "  driver = webdriver.Chrome(r\"C:\\Users\\pedro\\Documents\\Turte Brand Protection\\Turtle_Thinker_Alpha_0.1\\Data\\Selenium\\Selenium_101\", options=options)\n"
     ]
    }
   ],
   "source": [
    "driver = webdriver.Chrome(r\"C:\\Users\\pedro\\Documents\\Turte Brand Protection\\Turtle_Thinker_Alpha_0.1\\Data\\Selenium\\Selenium_101\", options=options)\n",
    "driver.get('https://www.extra.com.br/Tablets/Tablet/TabletAndroid/wacom-ctl472k1a-um-por-wacom-graphic-drawing-tablet-tablet-para-iniciantes-pequeno-1515626407.html?IdSku=1515626407')\n",
    "time.sleep(10)\n",
    "\n",
    "html_str = driver.page_source\n",
    "\n",
    "Soup = BeautifulSoup(html_str, 'html.parser')"
   ],
   "metadata": {
    "collapsed": false,
    "pycharm": {
     "name": "#%%\n"
    }
   }
  },
  {
   "cell_type": "code",
   "execution_count": 106,
   "outputs": [
    {
     "name": "stdout",
     "output_type": "stream",
     "text": [
      "None\n"
     ]
    }
   ],
   "source": [
    "print(Soup.find(class_='eq9v2q60 css-1fo2kvz eym5xli0'))"
   ],
   "metadata": {
    "collapsed": false,
    "pycharm": {
     "name": "#%%\n"
    }
   }
  },
  {
   "cell_type": "code",
   "execution_count": 108,
   "outputs": [
    {
     "data": {
      "text/plain": "'AC - Selo Produtos Importados NocNoc'"
     },
     "execution_count": 108,
     "metadata": {},
     "output_type": "execute_result"
    }
   ],
   "source": [
    "Soup.find('img', attrs={'data-testid':'stamps'})['alt']"
   ],
   "metadata": {
    "collapsed": false,
    "pycharm": {
     "name": "#%%\n"
    }
   }
  },
  {
   "cell_type": "code",
   "execution_count": null,
   "outputs": [],
   "source": [],
   "metadata": {
    "collapsed": false,
    "pycharm": {
     "name": "#%%\n"
    }
   }
  }
 ],
 "metadata": {
  "kernelspec": {
   "display_name": "Python 3",
   "language": "python",
   "name": "python3"
  },
  "language_info": {
   "codemirror_mode": {
    "name": "ipython",
    "version": 2
   },
   "file_extension": ".py",
   "mimetype": "text/x-python",
   "name": "python",
   "nbconvert_exporter": "python",
   "pygments_lexer": "ipython2",
   "version": "2.7.6"
  }
 },
 "nbformat": 4,
 "nbformat_minor": 0
}