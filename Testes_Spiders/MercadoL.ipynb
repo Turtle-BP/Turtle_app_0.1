{
 "cells": [
  {
   "cell_type": "code",
   "execution_count": 64,
   "outputs": [],
   "source": [
    "#IMPORTANDO AS BIBLIOTECAS\n",
    "import pandas as pd\n",
    "import time\n",
    "from bs4 import BeautifulSoup\n",
    "from tqdm import tqdm\n",
    "from urllib.request import urlopen\n",
    "import sqlite3\n",
    "import os"
   ],
   "metadata": {
    "collapsed": false,
    "pycharm": {
     "name": "#%%\n"
    }
   }
  },
  {
   "cell_type": "code",
   "execution_count": 65,
   "outputs": [],
   "source": [
    "#Criando as listas para armazenar os dados\n",
    "ml_url_base = []\n",
    "ml_urls = []\n",
    "ml_price = []\n",
    "ml_seller = []\n",
    "ml_installment = []\n",
    "ml_catalog_id = []\n",
    "ml_catalog_db = []\n",
    "ml_idetifaction = []\n",
    "ml_title = []\n",
    "lista_identification_url = []"
   ],
   "metadata": {
    "collapsed": false,
    "pycharm": {
     "name": "#%%\n"
    }
   }
  },
  {
   "cell_type": "code",
   "execution_count": 66,
   "outputs": [],
   "source": [
    "#Função para criar os links de busca\n",
    "def getting_n_creating_mercadolivre_urls(brand):\n",
    "\n",
    "    Database_path = r\"C:\\Users\\pedro\\Documents\\Turte Brand Protection\\Turtle_Thinker_Alpha_0.1\" + \"\\Data\\\\\" + brand + \"\\\\\" + brand + \".db\"\n",
    "\n",
    "    table = brand + \"_products\"\n",
    "\n",
    "    #Criando a Query\n",
    "    query = \"SELECT * FROM \" + table\n",
    "\n",
    "    #Entrando dentro do databse\n",
    "    connection = sqlite3.connect(Database_path)\n",
    "\n",
    "    #Criando o dataset em brando\n",
    "    df = pd.read_sql_query(query, connection)\n",
    "\n",
    "    #Passando todo o Dataframe para LowerCase\n",
    "    df = df.apply(lambda x: x.astype(str).str.lower())\n",
    "\n",
    "    #Arrumando espaços vazios\n",
    "    # Arrumano os espaços vazios\n",
    "    df['Product_Name'] = df['Product_Name'].str.replace(\" \", \"-\")\n",
    "\n",
    "    # Criando uma nova coluna no database com a formatação certa\n",
    "    df['Urls'] = df['Brand'] + \"-\" + df['Product_Name']\n",
    "\n",
    "    # Criando a nova coluna que são as urls de pesquisa\n",
    "    df['Urls_search'] = \"https://lista.mercadolivre.com.br/\" + df['Urls'] + \"_ITEM*CONDITION_2230284_NoIndex_True?#applied_value_name%3DNovo%\"\n",
    "\n",
    "    return df"
   ],
   "metadata": {
    "collapsed": false,
    "pycharm": {
     "name": "#%%\n"
    }
   }
  },
  {
   "cell_type": "code",
   "execution_count": 67,
   "outputs": [
    {
     "data": {
      "text/plain": "   Brand Product_Name                                 Product_Descrition  \\\n0  wacom       ctl472  ctl 472 - mesa digitalizadora one by wacom peq...   \n1  wacom      ctl4100  ctl4100 - mesa digitalizadora wacom intuos sma...   \n2  wacom  ctl4100wle0  ctl4100wle0 - mesa digitalizadora wacom intuos...   \n3  wacom  ctl4100wlk0  ctl4100wlk0 - mesa digitalizadora wacom intuos...   \n4  wacom  ctl6100wlk0  ctl6100wlk0 - mesa digitalizadora wacom intuos...   \n5  wacom    dtc133w0a  dtc133w0a - mesa digitalizadora wacom one crea...   \n6  wacom       pth460  pth460 - mesa digitalizadora wacom intuos pro ...   \n7  wacom   dtk1660k0a  dtk1660k0a - display interativo wacom cintiq 1...   \n8  wacom       pth660  pth660 - mesa digitalizadora wacom intuos pro ...   \n9  wacom  ctl6100wle0  ctl6100wle0 - mesa digitalizadora wacom intuos...   \n\n                Urls                                        Urls_search  \n0       wacom-ctl472  https://lista.mercadolivre.com.br/wacom-ctl472...  \n1      wacom-ctl4100  https://lista.mercadolivre.com.br/wacom-ctl410...  \n2  wacom-ctl4100wle0  https://lista.mercadolivre.com.br/wacom-ctl410...  \n3  wacom-ctl4100wlk0  https://lista.mercadolivre.com.br/wacom-ctl410...  \n4  wacom-ctl6100wlk0  https://lista.mercadolivre.com.br/wacom-ctl610...  \n5    wacom-dtc133w0a  https://lista.mercadolivre.com.br/wacom-dtc133...  \n6       wacom-pth460  https://lista.mercadolivre.com.br/wacom-pth460...  \n7   wacom-dtk1660k0a  https://lista.mercadolivre.com.br/wacom-dtk166...  \n8       wacom-pth660  https://lista.mercadolivre.com.br/wacom-pth660...  \n9  wacom-ctl6100wle0  https://lista.mercadolivre.com.br/wacom-ctl610...  ",
      "text/html": "<div>\n<style scoped>\n    .dataframe tbody tr th:only-of-type {\n        vertical-align: middle;\n    }\n\n    .dataframe tbody tr th {\n        vertical-align: top;\n    }\n\n    .dataframe thead th {\n        text-align: right;\n    }\n</style>\n<table border=\"1\" class=\"dataframe\">\n  <thead>\n    <tr style=\"text-align: right;\">\n      <th></th>\n      <th>Brand</th>\n      <th>Product_Name</th>\n      <th>Product_Descrition</th>\n      <th>Urls</th>\n      <th>Urls_search</th>\n    </tr>\n  </thead>\n  <tbody>\n    <tr>\n      <th>0</th>\n      <td>wacom</td>\n      <td>ctl472</td>\n      <td>ctl 472 - mesa digitalizadora one by wacom peq...</td>\n      <td>wacom-ctl472</td>\n      <td>https://lista.mercadolivre.com.br/wacom-ctl472...</td>\n    </tr>\n    <tr>\n      <th>1</th>\n      <td>wacom</td>\n      <td>ctl4100</td>\n      <td>ctl4100 - mesa digitalizadora wacom intuos sma...</td>\n      <td>wacom-ctl4100</td>\n      <td>https://lista.mercadolivre.com.br/wacom-ctl410...</td>\n    </tr>\n    <tr>\n      <th>2</th>\n      <td>wacom</td>\n      <td>ctl4100wle0</td>\n      <td>ctl4100wle0 - mesa digitalizadora wacom intuos...</td>\n      <td>wacom-ctl4100wle0</td>\n      <td>https://lista.mercadolivre.com.br/wacom-ctl410...</td>\n    </tr>\n    <tr>\n      <th>3</th>\n      <td>wacom</td>\n      <td>ctl4100wlk0</td>\n      <td>ctl4100wlk0 - mesa digitalizadora wacom intuos...</td>\n      <td>wacom-ctl4100wlk0</td>\n      <td>https://lista.mercadolivre.com.br/wacom-ctl410...</td>\n    </tr>\n    <tr>\n      <th>4</th>\n      <td>wacom</td>\n      <td>ctl6100wlk0</td>\n      <td>ctl6100wlk0 - mesa digitalizadora wacom intuos...</td>\n      <td>wacom-ctl6100wlk0</td>\n      <td>https://lista.mercadolivre.com.br/wacom-ctl610...</td>\n    </tr>\n    <tr>\n      <th>5</th>\n      <td>wacom</td>\n      <td>dtc133w0a</td>\n      <td>dtc133w0a - mesa digitalizadora wacom one crea...</td>\n      <td>wacom-dtc133w0a</td>\n      <td>https://lista.mercadolivre.com.br/wacom-dtc133...</td>\n    </tr>\n    <tr>\n      <th>6</th>\n      <td>wacom</td>\n      <td>pth460</td>\n      <td>pth460 - mesa digitalizadora wacom intuos pro ...</td>\n      <td>wacom-pth460</td>\n      <td>https://lista.mercadolivre.com.br/wacom-pth460...</td>\n    </tr>\n    <tr>\n      <th>7</th>\n      <td>wacom</td>\n      <td>dtk1660k0a</td>\n      <td>dtk1660k0a - display interativo wacom cintiq 1...</td>\n      <td>wacom-dtk1660k0a</td>\n      <td>https://lista.mercadolivre.com.br/wacom-dtk166...</td>\n    </tr>\n    <tr>\n      <th>8</th>\n      <td>wacom</td>\n      <td>pth660</td>\n      <td>pth660 - mesa digitalizadora wacom intuos pro ...</td>\n      <td>wacom-pth660</td>\n      <td>https://lista.mercadolivre.com.br/wacom-pth660...</td>\n    </tr>\n    <tr>\n      <th>9</th>\n      <td>wacom</td>\n      <td>ctl6100wle0</td>\n      <td>ctl6100wle0 - mesa digitalizadora wacom intuos...</td>\n      <td>wacom-ctl6100wle0</td>\n      <td>https://lista.mercadolivre.com.br/wacom-ctl610...</td>\n    </tr>\n  </tbody>\n</table>\n</div>"
     },
     "execution_count": 67,
     "metadata": {},
     "output_type": "execute_result"
    }
   ],
   "source": [
    "Df_Raw = getting_n_creating_mercadolivre_urls('Wacom')\n",
    "Df_Raw"
   ],
   "metadata": {
    "collapsed": false,
    "pycharm": {
     "name": "#%%\n"
    }
   }
  },
  {
   "cell_type": "code",
   "execution_count": 68,
   "outputs": [],
   "source": [
    "def search_links(url,df):\n",
    "    # Colocando URL commo Global\n",
    "    global ml_urls\n",
    "\n",
    "    # Colocando um tempo mínimo de 3 segundos\n",
    "    time.sleep(3)\n",
    "\n",
    "    # Fazendo o response\n",
    "    response = urlopen(url)\n",
    "    html = response.read()\n",
    "\n",
    "    # Criando o BeautifulSoup\n",
    "    BS = BeautifulSoup(html, 'html.parser')\n",
    "\n",
    "    # Pegando todos os links da página\n",
    "    for link in BS.find_all(\"a\", href=True):\n",
    "        ml_urls.append(link['href'])\n",
    "\n",
    "    # Pegando as próximas páginas\n",
    "    try:\n",
    "        next_page_link = BS.find_all(class_='andes-pagination__arrow-title')[-1].text\n",
    "\n",
    "        # Vendo se na seta está escrito 'Seguinte'\n",
    "        if next_page_link == 'Seguinte':\n",
    "            next_url = BS.find_all(class_='andes-pagination__link ui-search-link')[-1]['href']\n",
    "\n",
    "            # Realizando o loop da função com o link da próxima página\n",
    "            search_links(next_url)\n",
    "    except:\n",
    "        pass\n",
    "\n",
    "    # Limpando as urls\n",
    "    ml_urls = [s for s in ml_urls if 'tracking_id' in s]\n",
    "    ml_urls = [s for s in ml_urls if 'produto' in s]\n",
    "    ml_urls = [s for s in ml_urls if df['Brand'][0] in s]\n",
    "\n",
    "    # Tirando as duplicadas\n",
    "    ml_urls = list(dict.fromkeys(ml_urls))"
   ],
   "metadata": {
    "collapsed": false,
    "pycharm": {
     "name": "#%%\n"
    }
   }
  },
  {
   "cell_type": "code",
   "execution_count": 69,
   "outputs": [
    {
     "name": "stderr",
     "output_type": "stream",
     "text": [
      "100%|██████████| 10/10 [00:39<00:00,  3.98s/it]\n"
     ]
    }
   ],
   "source": [
    "for url in tqdm(Df_Raw['Urls_search']):\n",
    "    search_links(url, Df_Raw)"
   ],
   "metadata": {
    "collapsed": false,
    "pycharm": {
     "name": "#%%\n"
    }
   }
  },
  {
   "cell_type": "code",
   "execution_count": 70,
   "outputs": [],
   "source": [
    "def search_attributes(url):\n",
    "    #Criando tempo\n",
    "    time.sleep(2)\n",
    "\n",
    "    #Fazendo o response jh\n",
    "    response = urlopen(url)\n",
    "    html = response.read()\n",
    "\n",
    "    #Criando o soup\n",
    "    BS = BeautifulSoup(html, 'html.parser')\n",
    "\n",
    "    #Buscando o preço\n",
    "    try:\n",
    "        price = BS.find(class_='andes-money-amount ui-pdp-price__part andes-money-amount--cents-superscript andes-money-amount--compact').text\n",
    "        ml_price.append(price)\n",
    "    except:\n",
    "        ml_price.append(\"ERRO\")\n",
    "\n",
    "    #Buscando o installment\n",
    "    try:\n",
    "        installment = BS.find(class_='ui-pdp-color--GREEN ui-pdp-size--MEDIUM ui-pdp-family--REGULAR').text\n",
    "        ml_installment.append(installment)\n",
    "    except:\n",
    "        installment = BS.find(class_='ui-pdp-color--BLACK ui-pdp-size--MEDIUM ui-pdp-family--REGULAR').text\n",
    "        ml_installment.append(installment)\n",
    "\n",
    "    #Catalog\n",
    "    try:\n",
    "        catalog = BS.find(class_='ui-pdp-other-sellers mt-24')\n",
    "        ml_catalog_db.append(catalog)\n",
    "    except:\n",
    "        ml_catalog_id.append(\"NORMAL\")\n",
    "\n",
    "    #Título\n",
    "    try:\n",
    "        title = BS.find(class_='ui-pdp-title')\n",
    "        ml_title.append(title.text)\n",
    "    except:\n",
    "        ml_title.append(\"Erro\")\n",
    "\n",
    "    #Vendedor\n",
    "    try:\n",
    "        seller_link = BS.find(class_='ui-pdp-media__action ui-box-component__action')['href']\n",
    "    except:\n",
    "        seller_link = \"Erro\"\n",
    "\n",
    "    try:\n",
    "        #Entrando na página do vendedor\n",
    "        response = urlopen(seller_link)\n",
    "        html = response.read()\n",
    "\n",
    "        #Criando o soup\n",
    "        BS = BeautifulSoup(html, 'html.parser')\n",
    "\n",
    "        #Achando o nome do seller\n",
    "        seller_name = BS.find(class_='store-info__name').text\n",
    "\n",
    "        #Append do nome do seller\n",
    "        ml_seller.append(seller_name)\n",
    "    except:\n",
    "        ml_seller.append(seller_link)"
   ],
   "metadata": {
    "collapsed": false,
    "pycharm": {
     "name": "#%%\n"
    }
   }
  },
  {
   "cell_type": "code",
   "execution_count": 71,
   "outputs": [
    {
     "name": "stderr",
     "output_type": "stream",
     "text": [
      "100%|██████████| 152/152 [10:53<00:00,  4.30s/it]\n"
     ]
    }
   ],
   "source": [
    "for url in tqdm(ml_urls):\n",
    "    search_attributes(url)"
   ],
   "metadata": {
    "collapsed": false,
    "pycharm": {
     "name": "#%%\n"
    }
   }
  },
  {
   "cell_type": "code",
   "execution_count": 76,
   "outputs": [],
   "source": [
    "def create_dataframe(url,seller,price,installment):\n",
    "    Dataset = pd.DataFrame()\n",
    "\n",
    "    Dataset['URL'] = url\n",
    "    Dataset['DATE'] = pd.to_datetime('today', errors='ignore').date()\n",
    "    Dataset['PRODUCT'] = ml_title\n",
    "\n",
    "    Dataset['MARKETPLACE'] = 'MERCADO LIVRE'\n",
    "    Dataset['SELLER'] = seller\n",
    "\n",
    "    Dataset['Price'] = price\n",
    "    Dataset['PRICE_1'] = Dataset['Price'].str.partition(\"reales\")[0]\n",
    "    Dataset[\"PRICE_2\"] = Dataset[\"Price\"].str.partition(\" con\")[2].str.partition(\"centavos\")[0].str.partition(\" \")[2].str.partition(\" centavo\")[0]\n",
    "\n",
    "    Dataset['PRICE'] = Dataset['PRICE_1'] + \",\" + Dataset['PRICE_2']\n",
    "    Dataset['PRICE'] = Dataset['PRICE'].str.replace(\" \",\"\")\n",
    "\n",
    "    Dataset['Installment'] = installment\n",
    "\n",
    "    # Arrumando a coluna de installment\n",
    "    Dataset['PARCEL'] = Dataset['Installment'].str.partition(\"x\")[0]\n",
    "    Dataset['PARCEL'] = Dataset['PARCEL'].str.extract(\"(\\d+)\").astype(int)\n",
    "    Dataset[\"reais\"] = Dataset[\"Installment\"].str.partition(\"reales\")[0].str.partition(\"x\")[2]\n",
    "    Dataset[\"moedas\"] = Dataset[\"Installment\"].str.partition(\" con\")[2].str.partition(\"centavos\")[0].str.partition(\" \")[2].str.partition(\" centavo\")[0]\n",
    "    # Dataset['Installment'] = Dataset['reais'] + \".\" + Dataset['moedas']\n",
    "\n",
    "    Dataset['INSTALLMENT'] = Dataset['reais'] + \",\" + Dataset['moedas']\n",
    "    Dataset['INSTALLMENT'] = Dataset['INSTALLMENT'].str.replace(\" \",\"\")\n",
    "\n",
    "    #Dataset['Catalog'] = catalogo\n",
    "\n",
    "    Dataset['ASIN'] = Dataset['URL'].str.partition(\"/\")[2].str.partition(\"/\")[2].str.partition(\"/\")[2].str.partition(\"-\")[0]\n",
    "    Dataset['ASIN_2'] = Dataset['URL'].str.partition(\"/\")[2].str.partition(\"/\")[2].str.partition(\"/\")[2].str.partition(\"-\")[2].str.partition(\"-\")[0]\n",
    "\n",
    "    Dataset['ASIN_CORRETO'] = Dataset['ASIN'] + Dataset['ASIN_2']\n",
    "\n",
    "    Dataset['SELLER'] = Dataset['SELLER'].replace(\"https://perfil.mercadolivre.com.br/HUAWEIOFICIAL?brandId=3562\",'HUAWEI LOJA OFICIAL')\n",
    "    Dataset['SELLER'] = Dataset['SELLER'].replace(\"https://perfil.mercadolivre.com.br/MPCEL+MOBILE?brandId=3430\",'Mpcel Loja Oficial')\n",
    "    Dataset['SELLER'] = Dataset['SELLER'].replace(\"https://perfil.mercadolivre.com.br/MPCEL+MOBILE?brandId=3562\",'MPCEL MOBILE')\n",
    "    Dataset['SELLER'] = Dataset['SELLER'].replace(\"https://perfil.mercadolivre.com.br/ONOFREELETROSERRA?brandId=2156\",'Onofre Loja Oficial')\n",
    "    Dataset['SELLER'] = Dataset['SELLER'].replace(\"https://perfil.mercadolivre.com.br/ZOOM_STORE?brandId=3598\",'Zoom Store Loja Oficial')\n",
    "    Dataset['SELLER'] = Dataset['SELLER'].replace(\"https://perfil.mercadolivre.com.br/FASTSHOP+OFICIAL?brandId=942\",'Fast Shop Loja oficial')\n",
    "    Dataset['SELLER'] = Dataset['SELLER'].replace(\"https://perfil.mercadolivre.com.br/MERCADOLIVRE+ELETRONICOS?brandId=2707\",'Mercado Livre Loja oficial')\n",
    "    Dataset['SELLER'] = Dataset['SELLER'].replace(\"https://perfil.mercadolivre.com.br/MERCADOLIVRE+ELETRONICOS?brandId=2707\", 'Olist Loja oficial')\n",
    "    Dataset['SELLER'] = Dataset['SELLER'].replace(\"https://www.mercadolivre.com.br/perfil/OLIST?brandId=866\", 'Olist Loja oficial')\n",
    "    Dataset['SELLER'] = Dataset['SELLER'].replace(\"https://www.mercadolivre.com.br/perfil/OLIST-STORE+PREMIUM?brandId=866\",'Olist Loja oficial')\n",
    "    Dataset['SELLER'] = Dataset['SELLER'].replace(\"https://www.mercadolivre.com.br/perfil/OLIST-STORE+SP?brandId=866\", 'Olist Loja oficial')\n",
    "    Dataset['SELLER'] = Dataset['SELLER'].replace(\"https://www.mercadolivre.com.br/perfil/SUNTEKSTOREBR?brandId=2203\",'Suntek Loja oficial')\n",
    "    Dataset['SELLER'] = Dataset['SELLER'].replace(\"https://perfil.mercadolivre.com.br/SUNTEKSTOREBR?brandId=2203\",'Suntek Loja oficial')\n",
    "    Dataset['SELLER'] = Dataset['SELLER'].replace(\"https://perfil.mercadolivre.com.br/OLIST?brandId=866\",'Olist Loja oficial')\n",
    "    Dataset['SELLER'] = Dataset['SELLER'].replace(\"https://perfil.mercadolivre.com.br/OLIST-STORE+PREMIUM?brandId=866\",'Olist Loja oficial')\n",
    "    Dataset['SELLER'] = Dataset['SELLER'].replace(\"https://perfil.mercadolivre.com.br/OLIST-STORE+SP?brandId=866\",'Olist Loja oficial')\n",
    "    Dataset['SELLER'] = Dataset['SELLER'].replace(\"https://perfil.mercadolivre.com.br/E-SPOT?brandId=4166\",'Wacom Loja Oficial')\n",
    "    Dataset['SELLER'] = Dataset['SELLER'].replace(\"https://perfil.mercadolivre.com.br/IBYTE.?brandId=3979\",'Ibyte Loja Oficial')\n",
    "    Dataset['SELLER'] = Dataset['SELLER'].replace(\"https://perfil.mercadolivre.com.br/INPOWER+INFO?brandId=1655\",'INPOWER Loja Oficial')\n",
    "    Dataset['SELLER'] = Dataset['SELLER'].replace(\"https://perfil.mercadolivre.com.br/PICHAUINFORMATICA?brandId=1436\",'Pichau Loja Oficial')\n",
    "    Dataset['SELLER'] = Dataset['SELLER'].replace(\"https://perfil.mercadolivre.com.br/PRIMETEK+COMPUTADORES?brandId=2255\",'Primetek Loja Oficial')\n",
    "    Dataset['SELLER'] = Dataset['SELLER'].replace(\"https://perfil.mercadolivre.com.br/VLSTORE+INFORMATICA?brandId=3629\", 'Leva Digital Loja Oficial')\n",
    "    Dataset['SELLER'] = Dataset['SELLER'].replace(\"https://www.mercadolivre.com.br/perfil/MIMI2231343?brandId=3396\", 'Miranda Loja Oficial')\n",
    "    Dataset['SELLER'] = Dataset['SELLER'].replace(\"https://perfil.mercadolivre.com.br/MIMI2231343?brandId=3396\",'Miranda Loja Oficial')\n",
    "\n",
    "    Dataset.drop(['ASIN','ASIN_2'], axis=1, inplace=True)\n",
    "\n",
    "    Dataset = Dataset[['DATE','URL','MARKETPLACE','SELLER','PRICE','PARCEL','INSTALLMENT','ASIN_CORRETO','PRODUCT']]\n",
    "\n",
    "    return Dataset"
   ],
   "metadata": {
    "collapsed": false,
    "pycharm": {
     "name": "#%%\n"
    }
   }
  },
  {
   "cell_type": "code",
   "execution_count": 78,
   "outputs": [],
   "source": [
    "dataset_mercadolivre = create_dataframe(ml_urls,ml_seller,ml_price,ml_installment)"
   ],
   "metadata": {
    "collapsed": false,
    "pycharm": {
     "name": "#%%\n"
    }
   }
  },
  {
   "cell_type": "code",
   "execution_count": 79,
   "outputs": [
    {
     "data": {
      "text/plain": "           DATE                                                URL  \\\n0    2022-06-01  https://produto.mercadolivre.com.br/MLB-206323...   \n1    2022-06-01  https://produto.mercadolivre.com.br/MLB-214042...   \n2    2022-06-01  https://produto.mercadolivre.com.br/MLB-214046...   \n3    2022-06-01  https://produto.mercadolivre.com.br/MLB-189829...   \n4    2022-06-01  https://produto.mercadolivre.com.br/MLB-189829...   \n..          ...                                                ...   \n147  2022-06-01  https://produto.mercadolivre.com.br/MLB-214045...   \n148  2022-06-01  https://produto.mercadolivre.com.br/MLB-189829...   \n149  2022-06-01  https://produto.mercadolivre.com.br/MLB-192608...   \n150  2022-06-01  https://produto.mercadolivre.com.br/MLB-195069...   \n151  2022-06-01  https://produto.mercadolivre.com.br/MLB-189829...   \n\n       MARKETPLACE              SELLER    PRICE  PARCEL INSTALLMENT  \\\n0    MERCADO LIVRE  Wacom Loja Oficial   332,90      12       32,27   \n1    MERCADO LIVRE  Wacom Loja Oficial   379,90      12       36,83   \n2    MERCADO LIVRE  Wacom Loja Oficial   399,90      10       39,99   \n3    MERCADO LIVRE  Wacom Loja Oficial   399,90      10       39,99   \n4    MERCADO LIVRE  Wacom Loja Oficial   379,90      12       36,83   \n..             ...                 ...      ...     ...         ...   \n147  MERCADO LIVRE  Wacom Loja Oficial    1899,      12      158,25   \n148  MERCADO LIVRE  Wacom Loja Oficial  1909,90      12      159,16   \n149  MERCADO LIVRE    TECNOLOGIA OPERA    1717,      12      166,46   \n150  MERCADO LIVRE      W-TECH-IMPORTS    1897,      12      183,91   \n151  MERCADO LIVRE  Wacom Loja Oficial  1814,90      12      175,95   \n\n      ASIN_CORRETO                                            PRODUCT  \n0    MLB2063239068  Caneta Wacom Intuos Pen Lp-190k Para Ctl472, C...  \n1    MLB2140423845  Mesa Digitalizadora One By Wacom Pequena Ctl472 F  \n2    MLB2140460461  Mesa Digitalizadora One By Wacom Pequena Ctl472 F  \n3    MLB1898299503    Mesa Digitalizadora One By Wacom Pequena Ctl472  \n4    MLB1898299487    Mesa Digitalizadora One By Wacom Pequena Ctl472  \n..             ...                                                ...  \n147  MLB2140454573  Mesa Digitalizadora Wacom Intuos Bluetooth Méd...  \n148  MLB1898299598  Mesa Digitalizadora Wacom Intuos Bluetooth Méd...  \n149  MLB1926082897  Mesa Digitalizadora Wacom Ctl6100wle0 (c/ Blue...  \n150  MLB1950693367  Mesa Digitalizadora Wacom Intuos Ctl6100wle0 B...  \n151  MLB1898296740  Mesa Digitalizadora Wacom Intuos Bluetooth Méd...  \n\n[152 rows x 9 columns]",
      "text/html": "<div>\n<style scoped>\n    .dataframe tbody tr th:only-of-type {\n        vertical-align: middle;\n    }\n\n    .dataframe tbody tr th {\n        vertical-align: top;\n    }\n\n    .dataframe thead th {\n        text-align: right;\n    }\n</style>\n<table border=\"1\" class=\"dataframe\">\n  <thead>\n    <tr style=\"text-align: right;\">\n      <th></th>\n      <th>DATE</th>\n      <th>URL</th>\n      <th>MARKETPLACE</th>\n      <th>SELLER</th>\n      <th>PRICE</th>\n      <th>PARCEL</th>\n      <th>INSTALLMENT</th>\n      <th>ASIN_CORRETO</th>\n      <th>PRODUCT</th>\n    </tr>\n  </thead>\n  <tbody>\n    <tr>\n      <th>0</th>\n      <td>2022-06-01</td>\n      <td>https://produto.mercadolivre.com.br/MLB-206323...</td>\n      <td>MERCADO LIVRE</td>\n      <td>Wacom Loja Oficial</td>\n      <td>332,90</td>\n      <td>12</td>\n      <td>32,27</td>\n      <td>MLB2063239068</td>\n      <td>Caneta Wacom Intuos Pen Lp-190k Para Ctl472, C...</td>\n    </tr>\n    <tr>\n      <th>1</th>\n      <td>2022-06-01</td>\n      <td>https://produto.mercadolivre.com.br/MLB-214042...</td>\n      <td>MERCADO LIVRE</td>\n      <td>Wacom Loja Oficial</td>\n      <td>379,90</td>\n      <td>12</td>\n      <td>36,83</td>\n      <td>MLB2140423845</td>\n      <td>Mesa Digitalizadora One By Wacom Pequena Ctl472 F</td>\n    </tr>\n    <tr>\n      <th>2</th>\n      <td>2022-06-01</td>\n      <td>https://produto.mercadolivre.com.br/MLB-214046...</td>\n      <td>MERCADO LIVRE</td>\n      <td>Wacom Loja Oficial</td>\n      <td>399,90</td>\n      <td>10</td>\n      <td>39,99</td>\n      <td>MLB2140460461</td>\n      <td>Mesa Digitalizadora One By Wacom Pequena Ctl472 F</td>\n    </tr>\n    <tr>\n      <th>3</th>\n      <td>2022-06-01</td>\n      <td>https://produto.mercadolivre.com.br/MLB-189829...</td>\n      <td>MERCADO LIVRE</td>\n      <td>Wacom Loja Oficial</td>\n      <td>399,90</td>\n      <td>10</td>\n      <td>39,99</td>\n      <td>MLB1898299503</td>\n      <td>Mesa Digitalizadora One By Wacom Pequena Ctl472</td>\n    </tr>\n    <tr>\n      <th>4</th>\n      <td>2022-06-01</td>\n      <td>https://produto.mercadolivre.com.br/MLB-189829...</td>\n      <td>MERCADO LIVRE</td>\n      <td>Wacom Loja Oficial</td>\n      <td>379,90</td>\n      <td>12</td>\n      <td>36,83</td>\n      <td>MLB1898299487</td>\n      <td>Mesa Digitalizadora One By Wacom Pequena Ctl472</td>\n    </tr>\n    <tr>\n      <th>...</th>\n      <td>...</td>\n      <td>...</td>\n      <td>...</td>\n      <td>...</td>\n      <td>...</td>\n      <td>...</td>\n      <td>...</td>\n      <td>...</td>\n      <td>...</td>\n    </tr>\n    <tr>\n      <th>147</th>\n      <td>2022-06-01</td>\n      <td>https://produto.mercadolivre.com.br/MLB-214045...</td>\n      <td>MERCADO LIVRE</td>\n      <td>Wacom Loja Oficial</td>\n      <td>1899,</td>\n      <td>12</td>\n      <td>158,25</td>\n      <td>MLB2140454573</td>\n      <td>Mesa Digitalizadora Wacom Intuos Bluetooth Méd...</td>\n    </tr>\n    <tr>\n      <th>148</th>\n      <td>2022-06-01</td>\n      <td>https://produto.mercadolivre.com.br/MLB-189829...</td>\n      <td>MERCADO LIVRE</td>\n      <td>Wacom Loja Oficial</td>\n      <td>1909,90</td>\n      <td>12</td>\n      <td>159,16</td>\n      <td>MLB1898299598</td>\n      <td>Mesa Digitalizadora Wacom Intuos Bluetooth Méd...</td>\n    </tr>\n    <tr>\n      <th>149</th>\n      <td>2022-06-01</td>\n      <td>https://produto.mercadolivre.com.br/MLB-192608...</td>\n      <td>MERCADO LIVRE</td>\n      <td>TECNOLOGIA OPERA</td>\n      <td>1717,</td>\n      <td>12</td>\n      <td>166,46</td>\n      <td>MLB1926082897</td>\n      <td>Mesa Digitalizadora Wacom Ctl6100wle0 (c/ Blue...</td>\n    </tr>\n    <tr>\n      <th>150</th>\n      <td>2022-06-01</td>\n      <td>https://produto.mercadolivre.com.br/MLB-195069...</td>\n      <td>MERCADO LIVRE</td>\n      <td>W-TECH-IMPORTS</td>\n      <td>1897,</td>\n      <td>12</td>\n      <td>183,91</td>\n      <td>MLB1950693367</td>\n      <td>Mesa Digitalizadora Wacom Intuos Ctl6100wle0 B...</td>\n    </tr>\n    <tr>\n      <th>151</th>\n      <td>2022-06-01</td>\n      <td>https://produto.mercadolivre.com.br/MLB-189829...</td>\n      <td>MERCADO LIVRE</td>\n      <td>Wacom Loja Oficial</td>\n      <td>1814,90</td>\n      <td>12</td>\n      <td>175,95</td>\n      <td>MLB1898296740</td>\n      <td>Mesa Digitalizadora Wacom Intuos Bluetooth Méd...</td>\n    </tr>\n  </tbody>\n</table>\n<p>152 rows × 9 columns</p>\n</div>"
     },
     "execution_count": 79,
     "metadata": {},
     "output_type": "execute_result"
    }
   ],
   "source": [
    "dataset_mercadolivre"
   ],
   "metadata": {
    "collapsed": false,
    "pycharm": {
     "name": "#%%\n"
    }
   }
  },
  {
   "cell_type": "code",
   "execution_count": 80,
   "outputs": [],
   "source": [
    "dataset_mercadolivre.to_excel(r\"C:\\Users\\pedro\\Documents\\Turte Brand Protection\\Turtle_Thinker_Alpha_0.1\\Data\\Wacom\\Files\\MercadoL_Wacom.xlsx\", index=False)"
   ],
   "metadata": {
    "collapsed": false,
    "pycharm": {
     "name": "#%%\n"
    }
   }
  },
  {
   "cell_type": "code",
   "execution_count": null,
   "outputs": [],
   "source": [],
   "metadata": {
    "collapsed": false,
    "pycharm": {
     "name": "#%%\n"
    }
   }
  }
 ],
 "metadata": {
  "kernelspec": {
   "display_name": "Python 3",
   "language": "python",
   "name": "python3"
  },
  "language_info": {
   "codemirror_mode": {
    "name": "ipython",
    "version": 2
   },
   "file_extension": ".py",
   "mimetype": "text/x-python",
   "name": "python",
   "nbconvert_exporter": "python",
   "pygments_lexer": "ipython2",
   "version": "2.7.6"
  }
 },
 "nbformat": 4,
 "nbformat_minor": 0
}