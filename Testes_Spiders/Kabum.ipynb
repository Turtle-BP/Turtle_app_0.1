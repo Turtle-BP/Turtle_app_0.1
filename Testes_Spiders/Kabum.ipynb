{
 "cells": [
  {
   "cell_type": "code",
   "execution_count": 36,
   "metadata": {
    "pycharm": {
     "name": "#%%\n"
    }
   },
   "outputs": [],
   "source": [
    "#Importando as bibliotecas\n",
    "import requests\n",
    "from bs4 import BeautifulSoup\n",
    "import pandas as pd\n",
    "import time\n",
    "import sqlite3\n",
    "from tqdm import tqdm\n",
    "import os\n",
    "import random\n"
   ]
  },
  {
   "cell_type": "code",
   "execution_count": 37,
   "outputs": [],
   "source": [
    "def Random_user_agents(marketplace):\n",
    "\n",
    "    #Criando a lista de user-agents\n",
    "    User_agents_list = ['Mozilla/5.0 (Windows NT 10.0; Win64; x64) AppleWebKit/537.36 (KHTML, like Gecko) Chrome/99.0.4844.84 Safari/537.36 OPR/85.0.4341.60',\n",
    "                        'Mozilla/5.0 (Windows NT 10.0; WOW64) AppleWebKit/537.36 (KHTML, like Gecko) Chrome/44.0.2403.130 Safari/537.36',\n",
    "                        'Mozilla/5.0 (Windows NT 10.0; WOW64) AppleWebKit/537.36 (KHTML, like Gecko) Chrome/43.0.2357.134 Safari/537.36',\n",
    "                        'Mozilla/5.0 (Macintosh; Intel Mac OS X 10_10_3) AppleWebKit/537.36 (KHTML, like Gecko) Chrome/43.0.2357.130 Safari/537.36',\n",
    "                        'Mozilla/5.0 (Macintosh; Intel Mac OS X 10_10_0) AppleWebKit/537.36 (KHTML, like Gecko) Chrome/38.0.2125.101 Safari/537.36',\n",
    "                        'Mozilla/5.0 (Windows NT 5.1) AppleWebKit/537.36 (KHTML, like Gecko) Chrome/41.0.2272.101 Safari/537.36',\n",
    "                        'Mozilla/5.0 (Windows NT 6.1) AppleWebKit/537.36 (KHTML, like Gecko) Chrome/43.0.2357.65 Safari/537.36',\n",
    "                        'Mozilla/5.0 (Windows NT 10.0; WOW64) AppleWebKit/537.36 (KHTML, like Gecko) Chrome/45.0.2454.85 Safari/537.36',\n",
    "                        'Mozilla/5.0 (Windows NT 6.1) AppleWebKit/537.36 (KHTML, like Gecko) Chrome/34.0.1847.131 Safari/537.36']\n",
    "\n",
    "    #Escolhendo o user aleatório\n",
    "    Choice_user_agent = random.choice(User_agents_list)\n",
    "\n",
    "    headers = {'authority':'www.' + marketplace + '.com.br',\n",
    "               'user-agent':Choice_user_agent}\n",
    "\n",
    "\n",
    "    return headers"
   ],
   "metadata": {
    "collapsed": false,
    "pycharm": {
     "name": "#%%\n"
    }
   }
  },
  {
   "cell_type": "code",
   "execution_count": 38,
   "metadata": {
    "pycharm": {
     "name": "#%%\n"
    }
   },
   "outputs": [],
   "source": [
    "Links_Kabum = []\n",
    "Urls_Kabum = []\n",
    "Sellers_Kabum = []\n",
    "Country_Kabum = []\n",
    "Price_Kabum = []\n",
    "SKU_Kabum = []\n",
    "Title_Kabum = []\n",
    "Installment_Kabum_quantidade = []\n",
    "Installment_Kabum_valor_parcela = []\n",
    "Installment_Kabum_valor_total = []"
   ]
  },
  {
   "cell_type": "code",
   "execution_count": 39,
   "metadata": {
    "pycharm": {
     "name": "#%%\n"
    }
   },
   "outputs": [],
   "source": [
    "def getting_n_creating_kabum(brand):\n",
    "\n",
    "    Database_path = r\"C:\\Users\\pedro\\Documents\\Turte Brand Protection\\Turtle_Thinker_Alpha_0.1\" + \"\\Data\\\\\" + brand + \"\\\\\" + brand + \".db\"\n",
    "\n",
    "    table = brand + \"_products\"\n",
    "\n",
    "    #Criando a Query\n",
    "    query = \"SELECT * FROM \" + table\n",
    "\n",
    "    #Entrando dentro do databse\n",
    "    connection = sqlite3.connect(Database_path)\n",
    "\n",
    "    #Criando o dataset em brando\n",
    "    df = pd.read_sql_query(query, connection)\n",
    "\n",
    "    #Passando todo o Dataframe para LowerCase\n",
    "    df = df.apply(lambda x: x.astype(str).str.lower())\n",
    "\n",
    "    #Arrumando espaços vazios\n",
    "    # Arrumano os espaços vazios\n",
    "    df['Product_Name'] = df['Product_Name'].str.replace(\" \", \"+\")\n",
    "    df['Product_Name'] = df['Product_Name'].str.replace(\"-\", \"+\")\n",
    "\n",
    "    # Criando uma nova coluna no database com a formatação certa\n",
    "    df['Urls'] = df['Brand'] + \"+\" + df['Product_Name']\n",
    "\n",
    "    # Criando a nova coluna que são as urls de pesquisa\n",
    "    df['Urls_search'] = \"https://www.kabum.com.br/busca?query=\" + df['Urls']\n",
    "\n",
    "    return df"
   ]
  },
  {
   "cell_type": "code",
   "execution_count": 40,
   "metadata": {
    "pycharm": {
     "name": "#%%\n"
    }
   },
   "outputs": [
    {
     "data": {
      "text/plain": "   Brand Product_Name                                 Product_Descrition  \\\n0  wacom       ctl472  ctl 472 - mesa digitalizadora one by wacom peq...   \n1  wacom      ctl4100  ctl4100 - mesa digitalizadora wacom intuos sma...   \n2  wacom  ctl4100wle0  ctl4100wle0 - mesa digitalizadora wacom intuos...   \n3  wacom  ctl4100wlk0  ctl4100wlk0 - mesa digitalizadora wacom intuos...   \n4  wacom  ctl6100wlk0  ctl6100wlk0 - mesa digitalizadora wacom intuos...   \n5  wacom    dtc133w0a  dtc133w0a - mesa digitalizadora wacom one crea...   \n6  wacom       pth460  pth460 - mesa digitalizadora wacom intuos pro ...   \n7  wacom   dtk1660k0a  dtk1660k0a - display interativo wacom cintiq 1...   \n8  wacom       pth660  pth660 - mesa digitalizadora wacom intuos pro ...   \n9  wacom  ctl6100wle0  ctl6100wle0 - mesa digitalizadora wacom intuos...   \n\n                Urls                                        Urls_search  \n0       wacom+ctl472  https://www.kabum.com.br/busca?query=wacom+ctl472  \n1      wacom+ctl4100  https://www.kabum.com.br/busca?query=wacom+ctl...  \n2  wacom+ctl4100wle0  https://www.kabum.com.br/busca?query=wacom+ctl...  \n3  wacom+ctl4100wlk0  https://www.kabum.com.br/busca?query=wacom+ctl...  \n4  wacom+ctl6100wlk0  https://www.kabum.com.br/busca?query=wacom+ctl...  \n5    wacom+dtc133w0a  https://www.kabum.com.br/busca?query=wacom+dtc...  \n6       wacom+pth460  https://www.kabum.com.br/busca?query=wacom+pth460  \n7   wacom+dtk1660k0a  https://www.kabum.com.br/busca?query=wacom+dtk...  \n8       wacom+pth660  https://www.kabum.com.br/busca?query=wacom+pth660  \n9  wacom+ctl6100wle0  https://www.kabum.com.br/busca?query=wacom+ctl...  ",
      "text/html": "<div>\n<style scoped>\n    .dataframe tbody tr th:only-of-type {\n        vertical-align: middle;\n    }\n\n    .dataframe tbody tr th {\n        vertical-align: top;\n    }\n\n    .dataframe thead th {\n        text-align: right;\n    }\n</style>\n<table border=\"1\" class=\"dataframe\">\n  <thead>\n    <tr style=\"text-align: right;\">\n      <th></th>\n      <th>Brand</th>\n      <th>Product_Name</th>\n      <th>Product_Descrition</th>\n      <th>Urls</th>\n      <th>Urls_search</th>\n    </tr>\n  </thead>\n  <tbody>\n    <tr>\n      <th>0</th>\n      <td>wacom</td>\n      <td>ctl472</td>\n      <td>ctl 472 - mesa digitalizadora one by wacom peq...</td>\n      <td>wacom+ctl472</td>\n      <td>https://www.kabum.com.br/busca?query=wacom+ctl472</td>\n    </tr>\n    <tr>\n      <th>1</th>\n      <td>wacom</td>\n      <td>ctl4100</td>\n      <td>ctl4100 - mesa digitalizadora wacom intuos sma...</td>\n      <td>wacom+ctl4100</td>\n      <td>https://www.kabum.com.br/busca?query=wacom+ctl...</td>\n    </tr>\n    <tr>\n      <th>2</th>\n      <td>wacom</td>\n      <td>ctl4100wle0</td>\n      <td>ctl4100wle0 - mesa digitalizadora wacom intuos...</td>\n      <td>wacom+ctl4100wle0</td>\n      <td>https://www.kabum.com.br/busca?query=wacom+ctl...</td>\n    </tr>\n    <tr>\n      <th>3</th>\n      <td>wacom</td>\n      <td>ctl4100wlk0</td>\n      <td>ctl4100wlk0 - mesa digitalizadora wacom intuos...</td>\n      <td>wacom+ctl4100wlk0</td>\n      <td>https://www.kabum.com.br/busca?query=wacom+ctl...</td>\n    </tr>\n    <tr>\n      <th>4</th>\n      <td>wacom</td>\n      <td>ctl6100wlk0</td>\n      <td>ctl6100wlk0 - mesa digitalizadora wacom intuos...</td>\n      <td>wacom+ctl6100wlk0</td>\n      <td>https://www.kabum.com.br/busca?query=wacom+ctl...</td>\n    </tr>\n    <tr>\n      <th>5</th>\n      <td>wacom</td>\n      <td>dtc133w0a</td>\n      <td>dtc133w0a - mesa digitalizadora wacom one crea...</td>\n      <td>wacom+dtc133w0a</td>\n      <td>https://www.kabum.com.br/busca?query=wacom+dtc...</td>\n    </tr>\n    <tr>\n      <th>6</th>\n      <td>wacom</td>\n      <td>pth460</td>\n      <td>pth460 - mesa digitalizadora wacom intuos pro ...</td>\n      <td>wacom+pth460</td>\n      <td>https://www.kabum.com.br/busca?query=wacom+pth460</td>\n    </tr>\n    <tr>\n      <th>7</th>\n      <td>wacom</td>\n      <td>dtk1660k0a</td>\n      <td>dtk1660k0a - display interativo wacom cintiq 1...</td>\n      <td>wacom+dtk1660k0a</td>\n      <td>https://www.kabum.com.br/busca?query=wacom+dtk...</td>\n    </tr>\n    <tr>\n      <th>8</th>\n      <td>wacom</td>\n      <td>pth660</td>\n      <td>pth660 - mesa digitalizadora wacom intuos pro ...</td>\n      <td>wacom+pth660</td>\n      <td>https://www.kabum.com.br/busca?query=wacom+pth660</td>\n    </tr>\n    <tr>\n      <th>9</th>\n      <td>wacom</td>\n      <td>ctl6100wle0</td>\n      <td>ctl6100wle0 - mesa digitalizadora wacom intuos...</td>\n      <td>wacom+ctl6100wle0</td>\n      <td>https://www.kabum.com.br/busca?query=wacom+ctl...</td>\n    </tr>\n  </tbody>\n</table>\n</div>"
     },
     "execution_count": 40,
     "metadata": {},
     "output_type": "execute_result"
    }
   ],
   "source": [
    "Df_products_raw = getting_n_creating_kabum(\"Wacom\")\n",
    "Df_products_raw"
   ]
  },
  {
   "cell_type": "code",
   "execution_count": 41,
   "metadata": {
    "pycharm": {
     "name": "#%%\n"
    }
   },
   "outputs": [],
   "source": [
    "def search_links(url):\n",
    "    global Links_Kabum\n",
    "\n",
    "    time.sleep(20)\n",
    "\n",
    "    Headers_Kabum = Random_user_agents('kabum')\n",
    "    response = requests.get(url, headers=Headers_Kabum)\n",
    "    html = response.text\n",
    "\n",
    "    Soup = BeautifulSoup(html, 'html.parser')\n",
    "\n",
    "    for a in Soup.find_all(\"a\", href=True):\n",
    "        Links_Kabum.append(\"https://www.kabum.com.br\" + a['href'])\n",
    "\n",
    "    Links_Kabum = [s for s in Links_Kabum if 'produto' in s]"
   ]
  },
  {
   "cell_type": "code",
   "execution_count": 42,
   "metadata": {
    "pycharm": {
     "name": "#%%\n"
    }
   },
   "outputs": [
    {
     "name": "stderr",
     "output_type": "stream",
     "text": [
      "100%|██████████| 10/10 [03:25<00:00, 20.56s/it]\n"
     ]
    }
   ],
   "source": [
    "for url in tqdm(Df_products_raw['Urls_search']):\n",
    "    search_links(url)"
   ]
  },
  {
   "cell_type": "code",
   "execution_count": 43,
   "metadata": {
    "pycharm": {
     "name": "#%%\n"
    }
   },
   "outputs": [],
   "source": [
    "def get_attributes(url):\n",
    "    time.sleep(20)\n",
    "\n",
    "    Headers_Kabum = Random_user_agents('kabum')\n",
    "    response = requests.get(url, headers=Headers_Kabum)\n",
    "\n",
    "    html = response.text\n",
    "\n",
    "    Soup = BeautifulSoup(html, 'html.parser')\n",
    "\n",
    "    #Titulo\n",
    "    try:\n",
    "        Title_Kabum.append(Soup.find(\"h1\", attrs={'itemprop':'name'}).text)\n",
    "    except:\n",
    "        Title_Kabum.append(\"Erro\")\n",
    "\n",
    "    #Preço\n",
    "    try:\n",
    "        Price_Kabum.append(Soup.find(\"h4\", attrs={'itemprop':'price'}).text)\n",
    "    except:\n",
    "        Price_Kabum.append(\"Erro\")\n",
    "\n",
    "    #Seller\n",
    "    try:\n",
    "        Sellers_Kabum.append(Soup.find('div', attrs={'id':'blocoValores'}).text)\n",
    "    except:\n",
    "        Sellers_Kabum.append(\"Erro\")\n",
    "\n",
    "    #Installment\n",
    "    try:\n",
    "        Installment_Kabum_quantidade.append(Soup.find(class_='cardParcels').text)\n",
    "    except:\n",
    "        Installment_Kabum_quantidade.append(\"Erro\")\n"
   ]
  },
  {
   "cell_type": "code",
   "execution_count": 44,
   "metadata": {
    "pycharm": {
     "name": "#%%\n"
    }
   },
   "outputs": [
    {
     "name": "stderr",
     "output_type": "stream",
     "text": [
      "100%|██████████| 102/102 [34:59<00:00, 20.58s/it]\n"
     ]
    }
   ],
   "source": [
    "for url in tqdm(Links_Kabum):\n",
    "    get_attributes(url)"
   ]
  },
  {
   "cell_type": "code",
   "execution_count": 54,
   "metadata": {
    "pycharm": {
     "name": "#%%\n"
    }
   },
   "outputs": [],
   "source": [
    "def dataset_creation(urls, sellers, prices, installments, titles):\n",
    "    df_raw = pd.DataFrame()\n",
    "\n",
    "    Hoje = pd.to_datetime('today', errors='ignore').date()\n",
    "\n",
    "    df_raw['URL'] = urls\n",
    "\n",
    "    df_raw['DATE'] = Hoje\n",
    "\n",
    "    df_raw['MARKETPLACE'] = 'Kabum'\n",
    "\n",
    "    df_raw['SELLER'] = sellers\n",
    "    df_raw['SELLER'] = df_raw['SELLER'].str.partition(\"Vendido e entregue por: \")[2].str.partition(\" |\")[0]\n",
    "\n",
    "    df_raw['Installment_lixo'] = installments\n",
    "\n",
    "    df_raw['PARCEL'] = df_raw['Installment_lixo'].str.partition(\"x\")[0].str.extract('(\\d+)')\n",
    "\n",
    "    df_raw['INSTALLMENT'] = df_raw['Installment_lixo'].str.partition(\"R$\")[2]\n",
    "    df_raw['INSTALLMENT'] = df_raw['INSTALLMENT'].str.partition(\" \")[0]\n",
    "    df_raw['INSTALLMENT'] = df_raw['INSTALLMENT'].str.replace(\",\",\".\", regex=True)\n",
    "    df_raw['INSTALLMENT'] = df_raw['INSTALLMENT'].str.replace(\"\\xa0\",\"\", regex=False)\n",
    "\n",
    "    #df_raw['INSTALLMENT'] = df_raw['INSTALLMENT'].astype('float')\n",
    "\n",
    "    df_raw['PRODUCT'] = titles\n",
    "\n",
    "    df_raw['PRICE'] = prices\n",
    "\n",
    "    df_raw = df_raw[df_raw['PRICE'] != \"Erro\"]\n",
    "\n",
    "    df_raw['PRICE'] = df_raw['PRICE'].str.replace(\"R$\",\"\", regex=False)\n",
    "    df_raw['PRICE'] = df_raw['PRICE'].str.replace(\".\",\"\", regex=False)\n",
    "    df_raw['PRICE'] = df_raw['PRICE'].str.replace(\",\",\".\", regex=False)\n",
    "    df_raw['PRICE'] = df_raw['PRICE'].str.replace(\"\\xa0\",\"\", regex=False)\n",
    "    df_raw['PRICE'] = df_raw['PRICE'].astype('float')\n",
    "\n",
    "    df_raw['ID'] = df_raw['URL'].str.partition(\"produto/\")[2].str.partition(\"/\")[0]\n",
    "\n",
    "    df_raw = df_raw[['DATE', 'URL', 'MARKETPLACE', 'SELLER', 'PRICE', 'PARCEL','INSTALLMENT','ID','PRODUCT']]\n",
    "\n",
    "    df_raw = df_raw.drop_duplicates(subset='URL')\n",
    "\n",
    "    return df_raw"
   ]
  },
  {
   "cell_type": "code",
   "execution_count": 55,
   "metadata": {
    "pycharm": {
     "name": "#%%\n"
    }
   },
   "outputs": [],
   "source": [
    "Dataset_Kabum = dataset_creation(Links_Kabum, Sellers_Kabum, Price_Kabum, Installment_Kabum_quantidade, Title_Kabum)"
   ]
  },
  {
   "cell_type": "code",
   "execution_count": 56,
   "outputs": [
    {
     "data": {
      "text/plain": "          DATE                                                URL MARKETPLACE  \\\n0   2022-05-26  https://www.kabum.com.br/produto/93434/mesa-di...       Kabum   \n1   2022-05-26  https://www.kabum.com.br/produto/134333/mesa-d...       Kabum   \n2   2022-05-26  https://www.kabum.com.br/produto/173541/mesa-d...       Kabum   \n3   2022-05-26  https://www.kabum.com.br/produto/208497/mesa-d...       Kabum   \n4   2022-05-26  https://www.kabum.com.br/produto/237192/mesa-d...       Kabum   \n6   2022-05-26  https://www.kabum.com.br/produto/95567/mesa-di...       Kabum   \n7   2022-05-26  https://www.kabum.com.br/produto/349488/mesa-d...       Kabum   \n8   2022-05-26  https://www.kabum.com.br/produto/121143/mesa-d...       Kabum   \n9   2022-05-26  https://www.kabum.com.br/produto/190581/mesa-d...       Kabum   \n10  2022-05-26  https://www.kabum.com.br/produto/208495/mesa-d...       Kabum   \n11  2022-05-26  https://www.kabum.com.br/produto/234930/mesa-d...       Kabum   \n18  2022-05-26  https://www.kabum.com.br/produto/97283/mesa-di...       Kabum   \n19  2022-05-26  https://www.kabum.com.br/produto/96951/mesa-di...       Kabum   \n20  2022-05-26  https://www.kabum.com.br/produto/97322/mesa-di...       Kabum   \n21  2022-05-26  https://www.kabum.com.br/produto/96950/mesa-di...       Kabum   \n22  2022-05-26  https://www.kabum.com.br/produto/310847/kit-me...       Kabum   \n23  2022-05-26  https://www.kabum.com.br/produto/254727/mesa-d...       Kabum   \n24  2022-05-26  https://www.kabum.com.br/produto/349279/mesa-d...       Kabum   \n25  2022-05-26  https://www.kabum.com.br/produto/349428/mesa-d...       Kabum   \n26  2022-05-26  https://www.kabum.com.br/produto/220696/mesa-d...       Kabum   \n27  2022-05-26  https://www.kabum.com.br/produto/349511/mesa-d...       Kabum   \n28  2022-05-26  https://www.kabum.com.br/produto/190579/mesa-d...       Kabum   \n29  2022-05-26  https://www.kabum.com.br/produto/190580/mesa-d...       Kabum   \n31  2022-05-26  https://www.kabum.com.br/produto/234858/mesa-d...       Kabum   \n63  2022-05-26  https://www.kabum.com.br/produto/234803/mesa-d...       Kabum   \n66  2022-05-26  https://www.kabum.com.br/produto/109945/mesa-d...       Kabum   \n67  2022-05-26  https://www.kabum.com.br/produto/190604/mesa-d...       Kabum   \n73  2022-05-26  https://www.kabum.com.br/produto/87846/mesa-di...       Kabum   \n74  2022-05-26  https://www.kabum.com.br/produto/349429/mesa-d...       Kabum   \n75  2022-05-26  https://www.kabum.com.br/produto/234840/mesa-d...       Kabum   \n76  2022-05-26  https://www.kabum.com.br/produto/220574/mesa-d...       Kabum   \n80  2022-05-26  https://www.kabum.com.br/produto/102931/mesa-d...       Kabum   \n81  2022-05-26  https://www.kabum.com.br/produto/349062/displa...       Kabum   \n\n                  SELLER    PRICE PARCEL INSTALLMENT      ID  \\\n0                KaBuM!    199.90      9       26.13   93434   \n1   Inpower Informatica    198.81      8       27.61  134333   \n2      Oficina dos Bits    300.59     10       33.39  173541   \n3              PRIMETEK    307.58     10       30.75  208497   \n4            Loja Ibyte    465.88     10       46.58  237192   \n6                KaBuM!    299.90     10       35.28   95567   \n7                e-spot    659.00     10       65.90  349488   \n8   Inpower Informatica    335.70     10       37.29  121143   \n9          Bits & Bytes    994.23     10      110.47  190581   \n10             PRIMETEK    549.34     10       54.93  208495   \n11           Loja Ibyte    814.33     10       81.43  234930   \n18               KaBuM!   1199.90     10      141.16   97283   \n19               KaBuM!    629.00     10       74.00   96951   \n20               KaBuM!   1249.90     10      147.04   97322   \n21               KaBuM!    579.90     10       64.43   96950   \n22               KaBuM!   1515.15     10      159.49  310847   \n23     Oficina dos Bits    863.99     10       95.99  254727   \n24               e-spot    999.00     10       99.90  349279   \n25               e-spot   1899.00     10      189.90  349428   \n26     Oficina dos Bits   1610.99     10      178.99  220696   \n27               e-spot   1899.00     10      189.90  349511   \n28  Inpower Informatica   1245.60     10      138.40  190579   \n29              2K SHOP   1043.99     10      115.99  190580   \n31           Loja Ibyte   2561.83     10      256.18  234858   \n63           Loja Ibyte   2154.08     10      215.40  234803   \n66               KaBuM!   2890.00     10      304.21  109945   \n67           Loja Ibyte   5707.33     10      570.73  190604   \n73               KaBuM!   3399.90     10      399.98   87846   \n74               e-spot   5599.00     10      559.90  349429   \n75           Loja Ibyte   2794.83     10      279.48  234840   \n76               e-spot   2299.00     10      229.90  220574   \n80               KaBuM!   8099.90     10      852.62  102931   \n81               e-spot   8599.00     10      859.90  349062   \n\n                                              PRODUCT  \n0     Mesa Digitalizadora One by Wacom CTL472 Pequena  \n1     Mesa Digitalizadora One by Wacom CTL472 Pequena  \n2   Mesa Digitalizadora One by Wacom Pequena - CTL...  \n3   Mesa Digitalizadora Wacom CTL472 Pequena 2540 ...  \n4     Mesa Digitalizadora One By Wacom Ctl472 Pequena  \n6   Mesa Digitalizadora Wacom Intuos, Pequena, Can...  \n7    Mesa Digitalizadora Wacom Intuos Pequena Ctl4100  \n8   Mesa Digitalizadora Wacom, Intuos, Pequena - C...  \n9   Mesa Digitalizadora Wacom CTL-4100WL 4096 Pont...  \n10  Mesa Digitalizadora Wacom CTL4100 Intuos Peque...  \n11  Mesa Digitalizadora Wacom Intuos, Creative Pen...  \n18  Mesa Digitalizadora Wacom Média Bluetooth Pret...  \n19  Mesa Digitalizadora Wacom Bluetooth Pequena In...  \n20  Mesa Digitalizadora Wacom Média Bluetooth Verd...  \n21  Mesa Digitalizadora Wacom Bluetooth Pequena In...  \n22  Kit Mesa Digitalizadora Wacom  - CTL4100WLE0 +...  \n23  Mesa Digitalizadora Wacom Intuos Creative - Pe...  \n24  Mesa Digitalizadora Wacom Intuos Bluetooth Peq...  \n25  Mesa Digitalizadora Wacom Intuos Bluetooth Méd...  \n26  Mesa Digitalizadora Wacom, 4096 Pontos de Pres...  \n27  Mesa Digitalizadora Wacom Intuos Bluetooth Med...  \n28  Mesa Digitalizadora Wacom, CTL-6100WLE0 4096, ...  \n29  Mesa Digitalizadora Wacom Intuos 4096, Pontos ...  \n31  Mesa Digitalizadora Wacom Média Bluetooth Pret...  \n63  Mesa Digitalizadora Wacom Intuos Média, Blueto...  \n66  Mesa Digitalizadora Wacom One Creative Pen Dis...  \n67  Mesa Digitalizadora Wacom One, Creative Pen, D...  \n73    Mesa Digitalizadora Wacom Intuos Pro L - PTH860  \n74  Mesa Digitalizadora Wacom Intuos Pro Grande  P...  \n75  Mesa Digitalizadora Wacom Intuos Pro, Pequena,...  \n76  Mesa Digitalizadora Wacom Intuos Pro Pequena P...  \n80  Mesa Digitalizadora Wacom Cintq 16, Grande - D...  \n81  Display Interativo Wacom Cintiq 16 Pen Dtk1660...  ",
      "text/html": "<div>\n<style scoped>\n    .dataframe tbody tr th:only-of-type {\n        vertical-align: middle;\n    }\n\n    .dataframe tbody tr th {\n        vertical-align: top;\n    }\n\n    .dataframe thead th {\n        text-align: right;\n    }\n</style>\n<table border=\"1\" class=\"dataframe\">\n  <thead>\n    <tr style=\"text-align: right;\">\n      <th></th>\n      <th>DATE</th>\n      <th>URL</th>\n      <th>MARKETPLACE</th>\n      <th>SELLER</th>\n      <th>PRICE</th>\n      <th>PARCEL</th>\n      <th>INSTALLMENT</th>\n      <th>ID</th>\n      <th>PRODUCT</th>\n    </tr>\n  </thead>\n  <tbody>\n    <tr>\n      <th>0</th>\n      <td>2022-05-26</td>\n      <td>https://www.kabum.com.br/produto/93434/mesa-di...</td>\n      <td>Kabum</td>\n      <td>KaBuM!</td>\n      <td>199.90</td>\n      <td>9</td>\n      <td>26.13</td>\n      <td>93434</td>\n      <td>Mesa Digitalizadora One by Wacom CTL472 Pequena</td>\n    </tr>\n    <tr>\n      <th>1</th>\n      <td>2022-05-26</td>\n      <td>https://www.kabum.com.br/produto/134333/mesa-d...</td>\n      <td>Kabum</td>\n      <td>Inpower Informatica</td>\n      <td>198.81</td>\n      <td>8</td>\n      <td>27.61</td>\n      <td>134333</td>\n      <td>Mesa Digitalizadora One by Wacom CTL472 Pequena</td>\n    </tr>\n    <tr>\n      <th>2</th>\n      <td>2022-05-26</td>\n      <td>https://www.kabum.com.br/produto/173541/mesa-d...</td>\n      <td>Kabum</td>\n      <td>Oficina dos Bits</td>\n      <td>300.59</td>\n      <td>10</td>\n      <td>33.39</td>\n      <td>173541</td>\n      <td>Mesa Digitalizadora One by Wacom Pequena - CTL...</td>\n    </tr>\n    <tr>\n      <th>3</th>\n      <td>2022-05-26</td>\n      <td>https://www.kabum.com.br/produto/208497/mesa-d...</td>\n      <td>Kabum</td>\n      <td>PRIMETEK</td>\n      <td>307.58</td>\n      <td>10</td>\n      <td>30.75</td>\n      <td>208497</td>\n      <td>Mesa Digitalizadora Wacom CTL472 Pequena 2540 ...</td>\n    </tr>\n    <tr>\n      <th>4</th>\n      <td>2022-05-26</td>\n      <td>https://www.kabum.com.br/produto/237192/mesa-d...</td>\n      <td>Kabum</td>\n      <td>Loja Ibyte</td>\n      <td>465.88</td>\n      <td>10</td>\n      <td>46.58</td>\n      <td>237192</td>\n      <td>Mesa Digitalizadora One By Wacom Ctl472 Pequena</td>\n    </tr>\n    <tr>\n      <th>6</th>\n      <td>2022-05-26</td>\n      <td>https://www.kabum.com.br/produto/95567/mesa-di...</td>\n      <td>Kabum</td>\n      <td>KaBuM!</td>\n      <td>299.90</td>\n      <td>10</td>\n      <td>35.28</td>\n      <td>95567</td>\n      <td>Mesa Digitalizadora Wacom Intuos, Pequena, Can...</td>\n    </tr>\n    <tr>\n      <th>7</th>\n      <td>2022-05-26</td>\n      <td>https://www.kabum.com.br/produto/349488/mesa-d...</td>\n      <td>Kabum</td>\n      <td>e-spot</td>\n      <td>659.00</td>\n      <td>10</td>\n      <td>65.90</td>\n      <td>349488</td>\n      <td>Mesa Digitalizadora Wacom Intuos Pequena Ctl4100</td>\n    </tr>\n    <tr>\n      <th>8</th>\n      <td>2022-05-26</td>\n      <td>https://www.kabum.com.br/produto/121143/mesa-d...</td>\n      <td>Kabum</td>\n      <td>Inpower Informatica</td>\n      <td>335.70</td>\n      <td>10</td>\n      <td>37.29</td>\n      <td>121143</td>\n      <td>Mesa Digitalizadora Wacom, Intuos, Pequena - C...</td>\n    </tr>\n    <tr>\n      <th>9</th>\n      <td>2022-05-26</td>\n      <td>https://www.kabum.com.br/produto/190581/mesa-d...</td>\n      <td>Kabum</td>\n      <td>Bits &amp; Bytes</td>\n      <td>994.23</td>\n      <td>10</td>\n      <td>110.47</td>\n      <td>190581</td>\n      <td>Mesa Digitalizadora Wacom CTL-4100WL 4096 Pont...</td>\n    </tr>\n    <tr>\n      <th>10</th>\n      <td>2022-05-26</td>\n      <td>https://www.kabum.com.br/produto/208495/mesa-d...</td>\n      <td>Kabum</td>\n      <td>PRIMETEK</td>\n      <td>549.34</td>\n      <td>10</td>\n      <td>54.93</td>\n      <td>208495</td>\n      <td>Mesa Digitalizadora Wacom CTL4100 Intuos Peque...</td>\n    </tr>\n    <tr>\n      <th>11</th>\n      <td>2022-05-26</td>\n      <td>https://www.kabum.com.br/produto/234930/mesa-d...</td>\n      <td>Kabum</td>\n      <td>Loja Ibyte</td>\n      <td>814.33</td>\n      <td>10</td>\n      <td>81.43</td>\n      <td>234930</td>\n      <td>Mesa Digitalizadora Wacom Intuos, Creative Pen...</td>\n    </tr>\n    <tr>\n      <th>18</th>\n      <td>2022-05-26</td>\n      <td>https://www.kabum.com.br/produto/97283/mesa-di...</td>\n      <td>Kabum</td>\n      <td>KaBuM!</td>\n      <td>1199.90</td>\n      <td>10</td>\n      <td>141.16</td>\n      <td>97283</td>\n      <td>Mesa Digitalizadora Wacom Média Bluetooth Pret...</td>\n    </tr>\n    <tr>\n      <th>19</th>\n      <td>2022-05-26</td>\n      <td>https://www.kabum.com.br/produto/96951/mesa-di...</td>\n      <td>Kabum</td>\n      <td>KaBuM!</td>\n      <td>629.00</td>\n      <td>10</td>\n      <td>74.00</td>\n      <td>96951</td>\n      <td>Mesa Digitalizadora Wacom Bluetooth Pequena In...</td>\n    </tr>\n    <tr>\n      <th>20</th>\n      <td>2022-05-26</td>\n      <td>https://www.kabum.com.br/produto/97322/mesa-di...</td>\n      <td>Kabum</td>\n      <td>KaBuM!</td>\n      <td>1249.90</td>\n      <td>10</td>\n      <td>147.04</td>\n      <td>97322</td>\n      <td>Mesa Digitalizadora Wacom Média Bluetooth Verd...</td>\n    </tr>\n    <tr>\n      <th>21</th>\n      <td>2022-05-26</td>\n      <td>https://www.kabum.com.br/produto/96950/mesa-di...</td>\n      <td>Kabum</td>\n      <td>KaBuM!</td>\n      <td>579.90</td>\n      <td>10</td>\n      <td>64.43</td>\n      <td>96950</td>\n      <td>Mesa Digitalizadora Wacom Bluetooth Pequena In...</td>\n    </tr>\n    <tr>\n      <th>22</th>\n      <td>2022-05-26</td>\n      <td>https://www.kabum.com.br/produto/310847/kit-me...</td>\n      <td>Kabum</td>\n      <td>KaBuM!</td>\n      <td>1515.15</td>\n      <td>10</td>\n      <td>159.49</td>\n      <td>310847</td>\n      <td>Kit Mesa Digitalizadora Wacom  - CTL4100WLE0 +...</td>\n    </tr>\n    <tr>\n      <th>23</th>\n      <td>2022-05-26</td>\n      <td>https://www.kabum.com.br/produto/254727/mesa-d...</td>\n      <td>Kabum</td>\n      <td>Oficina dos Bits</td>\n      <td>863.99</td>\n      <td>10</td>\n      <td>95.99</td>\n      <td>254727</td>\n      <td>Mesa Digitalizadora Wacom Intuos Creative - Pe...</td>\n    </tr>\n    <tr>\n      <th>24</th>\n      <td>2022-05-26</td>\n      <td>https://www.kabum.com.br/produto/349279/mesa-d...</td>\n      <td>Kabum</td>\n      <td>e-spot</td>\n      <td>999.00</td>\n      <td>10</td>\n      <td>99.90</td>\n      <td>349279</td>\n      <td>Mesa Digitalizadora Wacom Intuos Bluetooth Peq...</td>\n    </tr>\n    <tr>\n      <th>25</th>\n      <td>2022-05-26</td>\n      <td>https://www.kabum.com.br/produto/349428/mesa-d...</td>\n      <td>Kabum</td>\n      <td>e-spot</td>\n      <td>1899.00</td>\n      <td>10</td>\n      <td>189.90</td>\n      <td>349428</td>\n      <td>Mesa Digitalizadora Wacom Intuos Bluetooth Méd...</td>\n    </tr>\n    <tr>\n      <th>26</th>\n      <td>2022-05-26</td>\n      <td>https://www.kabum.com.br/produto/220696/mesa-d...</td>\n      <td>Kabum</td>\n      <td>Oficina dos Bits</td>\n      <td>1610.99</td>\n      <td>10</td>\n      <td>178.99</td>\n      <td>220696</td>\n      <td>Mesa Digitalizadora Wacom, 4096 Pontos de Pres...</td>\n    </tr>\n    <tr>\n      <th>27</th>\n      <td>2022-05-26</td>\n      <td>https://www.kabum.com.br/produto/349511/mesa-d...</td>\n      <td>Kabum</td>\n      <td>e-spot</td>\n      <td>1899.00</td>\n      <td>10</td>\n      <td>189.90</td>\n      <td>349511</td>\n      <td>Mesa Digitalizadora Wacom Intuos Bluetooth Med...</td>\n    </tr>\n    <tr>\n      <th>28</th>\n      <td>2022-05-26</td>\n      <td>https://www.kabum.com.br/produto/190579/mesa-d...</td>\n      <td>Kabum</td>\n      <td>Inpower Informatica</td>\n      <td>1245.60</td>\n      <td>10</td>\n      <td>138.40</td>\n      <td>190579</td>\n      <td>Mesa Digitalizadora Wacom, CTL-6100WLE0 4096, ...</td>\n    </tr>\n    <tr>\n      <th>29</th>\n      <td>2022-05-26</td>\n      <td>https://www.kabum.com.br/produto/190580/mesa-d...</td>\n      <td>Kabum</td>\n      <td>2K SHOP</td>\n      <td>1043.99</td>\n      <td>10</td>\n      <td>115.99</td>\n      <td>190580</td>\n      <td>Mesa Digitalizadora Wacom Intuos 4096, Pontos ...</td>\n    </tr>\n    <tr>\n      <th>31</th>\n      <td>2022-05-26</td>\n      <td>https://www.kabum.com.br/produto/234858/mesa-d...</td>\n      <td>Kabum</td>\n      <td>Loja Ibyte</td>\n      <td>2561.83</td>\n      <td>10</td>\n      <td>256.18</td>\n      <td>234858</td>\n      <td>Mesa Digitalizadora Wacom Média Bluetooth Pret...</td>\n    </tr>\n    <tr>\n      <th>63</th>\n      <td>2022-05-26</td>\n      <td>https://www.kabum.com.br/produto/234803/mesa-d...</td>\n      <td>Kabum</td>\n      <td>Loja Ibyte</td>\n      <td>2154.08</td>\n      <td>10</td>\n      <td>215.40</td>\n      <td>234803</td>\n      <td>Mesa Digitalizadora Wacom Intuos Média, Blueto...</td>\n    </tr>\n    <tr>\n      <th>66</th>\n      <td>2022-05-26</td>\n      <td>https://www.kabum.com.br/produto/109945/mesa-d...</td>\n      <td>Kabum</td>\n      <td>KaBuM!</td>\n      <td>2890.00</td>\n      <td>10</td>\n      <td>304.21</td>\n      <td>109945</td>\n      <td>Mesa Digitalizadora Wacom One Creative Pen Dis...</td>\n    </tr>\n    <tr>\n      <th>67</th>\n      <td>2022-05-26</td>\n      <td>https://www.kabum.com.br/produto/190604/mesa-d...</td>\n      <td>Kabum</td>\n      <td>Loja Ibyte</td>\n      <td>5707.33</td>\n      <td>10</td>\n      <td>570.73</td>\n      <td>190604</td>\n      <td>Mesa Digitalizadora Wacom One, Creative Pen, D...</td>\n    </tr>\n    <tr>\n      <th>73</th>\n      <td>2022-05-26</td>\n      <td>https://www.kabum.com.br/produto/87846/mesa-di...</td>\n      <td>Kabum</td>\n      <td>KaBuM!</td>\n      <td>3399.90</td>\n      <td>10</td>\n      <td>399.98</td>\n      <td>87846</td>\n      <td>Mesa Digitalizadora Wacom Intuos Pro L - PTH860</td>\n    </tr>\n    <tr>\n      <th>74</th>\n      <td>2022-05-26</td>\n      <td>https://www.kabum.com.br/produto/349429/mesa-d...</td>\n      <td>Kabum</td>\n      <td>e-spot</td>\n      <td>5599.00</td>\n      <td>10</td>\n      <td>559.90</td>\n      <td>349429</td>\n      <td>Mesa Digitalizadora Wacom Intuos Pro Grande  P...</td>\n    </tr>\n    <tr>\n      <th>75</th>\n      <td>2022-05-26</td>\n      <td>https://www.kabum.com.br/produto/234840/mesa-d...</td>\n      <td>Kabum</td>\n      <td>Loja Ibyte</td>\n      <td>2794.83</td>\n      <td>10</td>\n      <td>279.48</td>\n      <td>234840</td>\n      <td>Mesa Digitalizadora Wacom Intuos Pro, Pequena,...</td>\n    </tr>\n    <tr>\n      <th>76</th>\n      <td>2022-05-26</td>\n      <td>https://www.kabum.com.br/produto/220574/mesa-d...</td>\n      <td>Kabum</td>\n      <td>e-spot</td>\n      <td>2299.00</td>\n      <td>10</td>\n      <td>229.90</td>\n      <td>220574</td>\n      <td>Mesa Digitalizadora Wacom Intuos Pro Pequena P...</td>\n    </tr>\n    <tr>\n      <th>80</th>\n      <td>2022-05-26</td>\n      <td>https://www.kabum.com.br/produto/102931/mesa-d...</td>\n      <td>Kabum</td>\n      <td>KaBuM!</td>\n      <td>8099.90</td>\n      <td>10</td>\n      <td>852.62</td>\n      <td>102931</td>\n      <td>Mesa Digitalizadora Wacom Cintq 16, Grande - D...</td>\n    </tr>\n    <tr>\n      <th>81</th>\n      <td>2022-05-26</td>\n      <td>https://www.kabum.com.br/produto/349062/displa...</td>\n      <td>Kabum</td>\n      <td>e-spot</td>\n      <td>8599.00</td>\n      <td>10</td>\n      <td>859.90</td>\n      <td>349062</td>\n      <td>Display Interativo Wacom Cintiq 16 Pen Dtk1660...</td>\n    </tr>\n  </tbody>\n</table>\n</div>"
     },
     "execution_count": 56,
     "metadata": {},
     "output_type": "execute_result"
    }
   ],
   "source": [
    "Dataset_Kabum"
   ],
   "metadata": {
    "collapsed": false,
    "pycharm": {
     "name": "#%%\n"
    }
   }
  },
  {
   "cell_type": "code",
   "execution_count": 33,
   "outputs": [
    {
     "name": "stdout",
     "output_type": "stream",
     "text": [
      "102\n"
     ]
    }
   ],
   "source": [
    "print(len(Price_Kabum))"
   ],
   "metadata": {
    "collapsed": false,
    "pycharm": {
     "name": "#%%\n"
    }
   }
  },
  {
   "cell_type": "code",
   "execution_count": 35,
   "outputs": [
    {
     "data": {
      "text/plain": "['Erro',\n 'Erro',\n 'Erro',\n 'Erro',\n 'Erro',\n 'Erro',\n 'Erro',\n 'Erro',\n 'Erro',\n 'Erro',\n 'Erro',\n 'Erro',\n 'Erro',\n 'Erro',\n 'Erro',\n 'Erro',\n 'Erro',\n 'Erro',\n 'Erro',\n 'Erro',\n 'Erro',\n 'Erro',\n 'Erro',\n 'Erro',\n 'Erro',\n 'Erro',\n 'Erro',\n 'Erro',\n 'Erro',\n 'Erro',\n 'Erro',\n 'Erro',\n 'Erro',\n 'Erro',\n 'Erro',\n 'Erro',\n 'Erro',\n 'Erro',\n 'Erro',\n 'Erro',\n 'Erro',\n 'Erro',\n 'Erro',\n 'Erro',\n 'Erro',\n 'Erro',\n 'Erro',\n 'Erro',\n 'Erro',\n 'Erro',\n 'Erro',\n 'Erro',\n 'Erro',\n 'Erro',\n 'Erro',\n 'Erro',\n 'Erro',\n 'Erro',\n 'Erro',\n 'Erro',\n 'Erro',\n 'Erro',\n 'Erro',\n 'Erro',\n 'Erro',\n 'Erro',\n 'Erro',\n 'Erro',\n 'Erro',\n 'Erro',\n 'Erro',\n 'Erro',\n 'Erro',\n 'Erro',\n 'Erro',\n 'Erro',\n 'Erro',\n 'Erro',\n 'Erro',\n 'Erro',\n 'Erro',\n 'Erro',\n 'Erro',\n 'Erro',\n 'Erro',\n 'Erro',\n 'Erro',\n 'Erro',\n 'Erro',\n 'Erro',\n 'Erro',\n 'Erro',\n 'Erro',\n 'Erro',\n 'Erro',\n 'Erro',\n 'Erro',\n 'Erro',\n 'Erro',\n 'Erro',\n 'Erro',\n 'Erro']"
     },
     "execution_count": 35,
     "metadata": {},
     "output_type": "execute_result"
    }
   ],
   "source": [
    "Price_Kabum"
   ],
   "metadata": {
    "collapsed": false,
    "pycharm": {
     "name": "#%%\n"
    }
   }
  },
  {
   "cell_type": "code",
   "execution_count": 23,
   "metadata": {
    "pycharm": {
     "name": "#%%\n"
    }
   },
   "outputs": [
    {
     "ename": "NameError",
     "evalue": "name 'Dataset_Kabum' is not defined",
     "output_type": "error",
     "traceback": [
      "\u001B[1;31m---------------------------------------------------------------------------\u001B[0m",
      "\u001B[1;31mNameError\u001B[0m                                 Traceback (most recent call last)",
      "Input \u001B[1;32mIn [23]\u001B[0m, in \u001B[0;36m<cell line: 1>\u001B[1;34m()\u001B[0m\n\u001B[1;32m----> 1\u001B[0m \u001B[43mDataset_Kabum\u001B[49m\n",
      "\u001B[1;31mNameError\u001B[0m: name 'Dataset_Kabum' is not defined"
     ]
    }
   ],
   "source": [
    "Dataset_Kabum"
   ]
  },
  {
   "cell_type": "code",
   "execution_count": 19,
   "metadata": {
    "pycharm": {
     "name": "#%%\n"
    }
   },
   "outputs": [
    {
     "data": {
      "text/plain": "DATE            object\nURL             object\nMARKETPLACE     object\nSELLER          object\nPRICE          float64\nPARCEL          object\nINSTALLMENT     object\nID              object\nPRODUCT         object\ndtype: object"
     },
     "execution_count": 19,
     "metadata": {},
     "output_type": "execute_result"
    }
   ],
   "source": [
    "Dataset_Kabum.dtypes"
   ]
  },
  {
   "cell_type": "code",
   "execution_count": 57,
   "metadata": {
    "pycharm": {
     "name": "#%%\n"
    }
   },
   "outputs": [],
   "source": [
    "Dataset_Kabum.to_excel(r\"C:\\Users\\pedro\\Documents\\Turte Brand Protection\\Turtle_Thinker_Alpha_0.1\\Kabum_Wacom.xlsx\", index=False)"
   ]
  },
  {
   "cell_type": "code",
   "execution_count": 15,
   "metadata": {
    "pycharm": {
     "name": "#%%\n"
    }
   },
   "outputs": [],
   "source": []
  }
 ],
 "metadata": {
  "interpreter": {
   "hash": "c3503f95e0e8f4afdf6702396a7a2a29cae9f67572acfe092405dcaa2579b817"
  },
  "kernelspec": {
   "display_name": "Python 3.10.4 64-bit",
   "language": "python",
   "name": "python3"
  },
  "language_info": {
   "codemirror_mode": {
    "name": "ipython",
    "version": 3
   },
   "file_extension": ".py",
   "mimetype": "text/x-python",
   "name": "python",
   "nbconvert_exporter": "python",
   "pygments_lexer": "ipython3",
   "version": "3.10.4"
  },
  "orig_nbformat": 4
 },
 "nbformat": 4,
 "nbformat_minor": 2
}