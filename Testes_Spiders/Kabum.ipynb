{
 "cells": [
  {
   "cell_type": "code",
   "execution_count": 1,
   "metadata": {
    "pycharm": {
     "name": "#%%\n"
    }
   },
   "outputs": [],
   "source": [
    "#Importando as bibliotecas\n",
    "import requests\n",
    "from bs4 import BeautifulSoup\n",
    "import pandas as pd\n",
    "import time\n",
    "import sqlite3\n",
    "from tqdm import tqdm\n",
    "import os\n",
    "import random"
   ]
  },
  {
   "cell_type": "code",
   "execution_count": 2,
   "outputs": [],
   "source": [
    "def Random_user_agents(marketplace):\n",
    "\n",
    "    #Criando a lista de user-agents\n",
    "    User_agents_list = [\"Mozilla/5.0 (X11; Linux x86_64) AppleWebKit/537.36 (KHTML, like Gecko) Ubuntu Chromium/37.0.2062.94 Chrome/37.0.2062.94 Safari/537.36\",\n",
    "                        \"Mozilla/5.0 (Windows NT 6.1; WOW64) AppleWebKit/537.36 (KHTML, like Gecko) Chrome/45.0.2454.85 Safari/537.36\",\n",
    "                        \"Mozilla/5.0 (Windows NT 6.1; WOW64; Trident/7.0; rv:11.0) like Gecko\",\n",
    "                        \"Mozilla/5.0 (Windows NT 6.1; WOW64; rv:40.0) Gecko/20100101 Firefox/40.0\",\n",
    "                        \"Mozilla/5.0 (Macintosh; Intel Mac OS X 10_10_5) AppleWebKit/600.8.9 (KHTML, like Gecko) Version/8.0.8 Safari/600.8.9\",\n",
    "                        \"Mozilla/5.0 (iPad; CPU OS 8_4_1 like Mac OS X) AppleWebKit/600.1.4 (KHTML, like Gecko) Version/8.0 Mobile/12H321 Safari/600.1.4\",\n",
    "                        \"Mozilla/5.0 (Windows NT 6.3; WOW64) AppleWebKit/537.36 (KHTML, like Gecko) Chrome/45.0.2454.85 Safari/537.36\",\n",
    "                        \"Mozilla/5.0 (Windows NT 10.0; WOW64) AppleWebKit/537.36 (KHTML, like Gecko) Chrome/45.0.2454.85 Safari/537.36\",\n",
    "                        \"Mozilla/5.0 (X11; Linux x86_64) AppleWebKit/537.36 (KHTML, like Gecko) Ubuntu Chromium/37.0.2062.94 Chrome/37.0.2062.94 Safari/537.36\",\n",
    "                        \"Mozilla/5.0 (Windows NT 6.1; WOW64) AppleWebKit/537.36 (KHTML, like Gecko) Chrome/45.0.2454.85 Safari/537.36\",\n",
    "                        \"Mozilla/5.0 (Windows NT 6.1; WOW64; Trident/7.0; rv:11.0) like Gecko\",\n",
    "                        \"Mozilla/5.0 (Windows NT 6.1; WOW64; rv:40.0) Gecko/20100101 Firefox/40.0\",\n",
    "                        \"Mozilla/5.0 (Macintosh; Intel Mac OS X 10_10_5) AppleWebKit/600.8.9 (KHTML, like Gecko) Version/8.0.8 Safari/600.8.9\",\n",
    "                        \"Mozilla/5.0 (iPad; CPU OS 8_4_1 like Mac OS X) AppleWebKit/600.1.4 (KHTML, like Gecko) Version/8.0 Mobile/12H321 Safari/600.1.4\",\n",
    "                        \"Mozilla/5.0 (Windows NT 6.3; WOW64) AppleWebKit/537.36 (KHTML, like Gecko) Chrome/45.0.2454.85 Safari/537.36\",\n",
    "                        \"Mozilla/5.0 (Windows NT 10.0; WOW64) AppleWebKit/537.36 (KHTML, like Gecko) Chrome/45.0.2454.85 Safari/537.36\",\n",
    "                        \"Mozilla/5.0 (Windows NT 6.1; WOW64) AppleWebKit/537.36 (KHTML, like Gecko) Chrome/44.0.2403.157 Safari/537.36\",\n",
    "                        \"Mozilla/5.0 (iPhone; CPU iPhone OS 8_4_1 like Mac OS X) AppleWebKit/600.1.4 (KHTML, like Gecko) Version/8.0 Mobile/12H321 Safari/600.1.4\",\n",
    "                        \"Mozilla/5.0 (Windows NT 10.0; WOW64; Trident/7.0; rv:11.0) like Gecko\",\n",
    "                        \"Mozilla/5.0 (iPad; CPU OS 7_1_2 like Mac OS X) AppleWebKit/537.51.2 (KHTML, like Gecko) Version/7.0 Mobile/11D257 Safari/9537.53\",\n",
    "                        \"Mozilla/5.0 (compatible; MSIE 9.0; Windows NT 6.1; Trident/5.0)\",\n",
    "                        \"Mozilla/5.0 (Macintosh; Intel Mac OS X 10_9_5) AppleWebKit/537.36 (KHTML, like Gecko) Chrome/45.0.2454.85 Safari/537.36\",\n",
    "                        \"Mozilla/5.0 (Macintosh; Intel Mac OS X 10_10_4) AppleWebKit/537.36 (KHTML, like Gecko) Chrome/45.0.2454.85 Safari/537.36\",\n",
    "                        \"Mozilla/5.0 (Macintosh; Intel Mac OS X 10.9; rv:40.0) Gecko/20100101 Firefox/40.0\",\n",
    "                        \"Mozilla/5.0 (compatible; MSIE 10.0; Windows NT 6.1; Trident/6.0)\",\n",
    "                        \"Mozilla/5.0 (Windows NT 6.0) AppleWebKit/537.36 (KHTML, like Gecko) Chrome/45.0.2454.85 Safari/537.36\",\n",
    "                        \"Mozilla/5.0 (Windows NT 6.3; WOW64) AppleWebKit/537.36 (KHTML, like Gecko) Chrome/44.0.2403.157 Safari/537.36\",\n",
    "                        \"Mozilla/5.0 (X11; CrOS x86_64 7077.134.0) AppleWebKit/537.36 (KHTML, like Gecko) Chrome/44.0.2403.156 Safari/537.36\",\n",
    "                        \"Mozilla/5.0 (Macintosh; Intel Mac OS X 10_9_5) AppleWebKit/600.7.12 (KHTML, like Gecko) Version/7.1.7 Safari/537.85.16\",\n",
    "                        \"Mozilla/5.0 (Windows NT 6.0; rv:40.0) Gecko/20100101 Firefox/40.0\",\n",
    "                        \"Mozilla/5.0 (Macintosh; Intel Mac OS X 10.6; rv:40.0) Gecko/20100101 Firefox/40.0\",\n",
    "                        \"Mozilla/5.0 (iPad; CPU OS 8_1_3 like Mac OS X) AppleWebKit/600.1.4 (KHTML, like Gecko) Version/8.0 Mobile/12B466 Safari/600.1.4\",\n",
    "                        \"Mozilla/5.0 (Macintosh; Intel Mac OS X 10_10_2) AppleWebKit/600.3.18 (KHTML, like Gecko) Version/8.0.3 Safari/600.3.18\",\n",
    "                        \"Mozilla/5.0 (Macintosh; Intel Mac OS X 10_10_3) AppleWebKit/537.36 (KHTML, like Gecko) Chrome/45.0.2454.85 Safari/537.36\",\n",
    "                        \"Mozilla/5.0 (Windows NT 6.2; WOW64) AppleWebKit/537.36 (KHTML, like Gecko) Chrome/45.0.2454.85 Safari/537.36\",\n",
    "                        \"Mozilla/5.0 (Windows NT 6.1; Win64; x64; Trident/7.0; rv:11.0) like Gecko\",\n",
    "                        \"Mozilla/5.0 (Macintosh; Intel Mac OS X 10_10_5) AppleWebKit/537.36 (KHTML, like Gecko) Chrome/44.0.2403.157 Safari/537.36\",\n",
    "                        \"Mozilla/5.0 (iPad; CPU OS 8_1_2 like Mac OS X) AppleWebKit/600.1.4 (KHTML, like Gecko) Version/8.0 Mobile/12B440 Safari/600.1.4\",\n",
    "                        \"Mozilla/5.0 (Linux; U; Android 4.0.3; en-us; KFTT Build/IML74K) AppleWebKit/537.36 (KHTML, like Gecko) Silk/3.68 like Chrome/39.0.2171.93 Safari/537.36\",\n",
    "                        \"Mozilla/5.0 (iPad; CPU OS 8_2 like Mac OS X) AppleWebKit/600.1.4 (KHTML, like Gecko) Version/8.0 Mobile/12D508 Safari/600.1.4\",\n",
    "                        \"Mozilla/5.0 (Windows NT 6.1; WOW64; rv:39.0) Gecko/20100101 Firefox/39.0\",\n",
    "                        \"Mozilla/5.0 (iPad; CPU OS 7_1_1 like Mac OS X) AppleWebKit/537.51.2 (KHTML, like Gecko) Version/7.0 Mobile/11D201 Safari/9537.53\",\n",
    "                        \"Mozilla/5.0 (Linux; U; Android 4.4.3; en-us; KFTHWI Build/KTU84M) AppleWebKit/537.36 (KHTML, like Gecko) Silk/3.68 like Chrome/39.0.2171.93 Safari/537.36\",\n",
    "                        \"Mozilla/5.0 (Macintosh; Intel Mac OS X 10_9_5) AppleWebKit/600.6.3 (KHTML, like Gecko) Version/7.1.6 Safari/537.85.15\",\n",
    "                        \"Mozilla/5.0 (Macintosh; Intel Mac OS X 10_10_2) AppleWebKit/600.4.10 (KHTML, like Gecko) Version/8.0.4 Safari/600.4.10\",\n",
    "                        \"Mozilla/5.0 (Macintosh; Intel Mac OS X 10.7; rv:40.0) Gecko/20100101 Firefox/40.0\",\n",
    "                        \"Mozilla/5.0 (Macintosh; Intel Mac OS X 10_9_5) AppleWebKit/537.78.2 (KHTML, like Gecko) Version/7.0.6 Safari/537.78.2\",\n",
    "                        \"Mozilla/5.0 (iPad; CPU OS 8_4_1 like Mac OS X) AppleWebKit/600.1.4 (KHTML, like Gecko) CriOS/45.0.2454.68 Mobile/12H321 Safari/600.1.4\",\n",
    "                        \"Mozilla/5.0 (Windows NT 6.3; Win64; x64; Trident/7.0; Touch; rv:11.0) like Gecko\",\n",
    "                        \"Mozilla/5.0 (Macintosh; Intel Mac OS X 10_6_8) AppleWebKit/537.36 (KHTML, like Gecko) Chrome/45.0.2454.85 Safari/537.36\",\n",
    "                        \"Mozilla/5.0 (iPad; CPU OS 8_1 like Mac OS X) AppleWebKit/600.1.4 (KHTML, like Gecko) Version/8.0 Mobile/12B410 Safari/600.1.4\",\n",
    "                        \"Mozilla/5.0 (iPad; CPU OS 7_0_4 like Mac OS X) AppleWebKit/537.51.1 (KHTML, like Gecko) Version/7.0 Mobile/11B554a Safari/9537.53\",\n",
    "                        \"Mozilla/5.0 (Windows NT 6.0; WOW64) AppleWebKit/537.36 (KHTML, like Gecko) Chrome/45.0.2454.85 Safari/537.36\",\n",
    "                        \"Mozilla/5.0 (Windows NT 6.3; Win64; x64; Trident/7.0; rv:11.0) like Gecko\",\n",
    "                        \"Mozilla/5.0 (Windows NT 6.3; WOW64; Trident/7.0; TNJB; rv:11.0) like Gecko\",\n",
    "                        \"Mozilla/5.0 (Windows NT 6.1; WOW64) AppleWebKit/537.36 (KHTML, like Gecko) Chrome/31.0.1650.63 Safari/537.36\",\n",
    "                        \"Mozilla/5.0 (Windows NT 6.3; ARM; Trident/7.0; Touch; rv:11.0) like Gecko\",\n",
    "                        \"Mozilla/5.0 (Windows NT 6.1; Win64; x64) AppleWebKit/537.36 (KHTML, like Gecko) Chrome/45.0.2454.85 Safari/537.36\"]\n",
    "\n",
    "    #Escolhendo o user aleatório\n",
    "    Choice_user_agent = random.choice(User_agents_list)\n",
    "\n",
    "    headers = {'authority':'www.' + marketplace + '.com.br',\n",
    "               'user-agent':Choice_user_agent}\n",
    "\n",
    "\n",
    "    return headers"
   ],
   "metadata": {
    "collapsed": false,
    "pycharm": {
     "name": "#%%\n"
    }
   }
  },
  {
   "cell_type": "code",
   "execution_count": 3,
   "metadata": {
    "pycharm": {
     "name": "#%%\n"
    }
   },
   "outputs": [],
   "source": [
    "Links_Kabum = []\n",
    "Urls_Kabum = []\n",
    "Sellers_Kabum = []\n",
    "Country_Kabum = []\n",
    "Price_Kabum = []\n",
    "SKU_Kabum = []\n",
    "Title_Kabum = []\n",
    "Installment_Kabum_quantidade = []\n",
    "Installment_Kabum_valor_parcela = []\n",
    "Installment_Kabum_valor_total = []"
   ]
  },
  {
   "cell_type": "code",
   "execution_count": 4,
   "metadata": {
    "pycharm": {
     "name": "#%%\n"
    }
   },
   "outputs": [],
   "source": [
    "def getting_n_creating_kabum(brand):\n",
    "\n",
    "    Database_path = r\"C:\\Users\\pedro\\Documents\\Turte Brand Protection\\Turtle_Thinker_Alpha_0.1\" + \"\\Data\\\\\" + brand + \"\\\\\" + brand + \".db\"\n",
    "\n",
    "    table = brand + \"_products\"\n",
    "\n",
    "    #Criando a Query\n",
    "    query = \"SELECT * FROM \" + table\n",
    "\n",
    "    #Entrando dentro do databse\n",
    "    connection = sqlite3.connect(Database_path)\n",
    "\n",
    "    #Criando o dataset em brando\n",
    "    df = pd.read_sql_query(query, connection)\n",
    "\n",
    "    #Passando todo o Dataframe para LowerCase\n",
    "    df = df.apply(lambda x: x.astype(str).str.lower())\n",
    "\n",
    "    #Arrumando espaços vazios\n",
    "    # Arrumano os espaços vazios\n",
    "    df['Product_Name'] = df['Product_Name'].str.replace(\" \", \"+\")\n",
    "    df['Product_Name'] = df['Product_Name'].str.replace(\"-\", \"+\")\n",
    "\n",
    "    # Criando uma nova coluna no database com a formatação certa\n",
    "    df['Urls'] = df['Brand'] + \"+\" + df['Product_Name']\n",
    "\n",
    "    # Criando a nova coluna que são as urls de pesquisa\n",
    "    df['Urls_search'] = \"https://www.kabum.com.br/busca?query=\" + df['Urls']\n",
    "\n",
    "    return df"
   ]
  },
  {
   "cell_type": "code",
   "execution_count": 5,
   "metadata": {
    "pycharm": {
     "name": "#%%\n"
    }
   },
   "outputs": [
    {
     "data": {
      "text/plain": "   Brand Product_Name                                 Product_Descrition  \\\n0  wacom       ctl472  ctl 472 - mesa digitalizadora one by wacom peq...   \n1  wacom      ctl4100  ctl4100 - mesa digitalizadora wacom intuos sma...   \n2  wacom  ctl4100wle0  ctl4100wle0 - mesa digitalizadora wacom intuos...   \n3  wacom  ctl4100wlk0  ctl4100wlk0 - mesa digitalizadora wacom intuos...   \n4  wacom  ctl6100wlk0  ctl6100wlk0 - mesa digitalizadora wacom intuos...   \n5  wacom    dtc133w0a  dtc133w0a - mesa digitalizadora wacom one crea...   \n6  wacom       pth460  pth460 - mesa digitalizadora wacom intuos pro ...   \n7  wacom   dtk1660k0a  dtk1660k0a - display interativo wacom cintiq 1...   \n8  wacom       pth660  pth660 - mesa digitalizadora wacom intuos pro ...   \n9  wacom  ctl6100wle0  ctl6100wle0 - mesa digitalizadora wacom intuos...   \n\n                Urls                                        Urls_search  \n0       wacom+ctl472  https://www.kabum.com.br/busca?query=wacom+ctl472  \n1      wacom+ctl4100  https://www.kabum.com.br/busca?query=wacom+ctl...  \n2  wacom+ctl4100wle0  https://www.kabum.com.br/busca?query=wacom+ctl...  \n3  wacom+ctl4100wlk0  https://www.kabum.com.br/busca?query=wacom+ctl...  \n4  wacom+ctl6100wlk0  https://www.kabum.com.br/busca?query=wacom+ctl...  \n5    wacom+dtc133w0a  https://www.kabum.com.br/busca?query=wacom+dtc...  \n6       wacom+pth460  https://www.kabum.com.br/busca?query=wacom+pth460  \n7   wacom+dtk1660k0a  https://www.kabum.com.br/busca?query=wacom+dtk...  \n8       wacom+pth660  https://www.kabum.com.br/busca?query=wacom+pth660  \n9  wacom+ctl6100wle0  https://www.kabum.com.br/busca?query=wacom+ctl...  ",
      "text/html": "<div>\n<style scoped>\n    .dataframe tbody tr th:only-of-type {\n        vertical-align: middle;\n    }\n\n    .dataframe tbody tr th {\n        vertical-align: top;\n    }\n\n    .dataframe thead th {\n        text-align: right;\n    }\n</style>\n<table border=\"1\" class=\"dataframe\">\n  <thead>\n    <tr style=\"text-align: right;\">\n      <th></th>\n      <th>Brand</th>\n      <th>Product_Name</th>\n      <th>Product_Descrition</th>\n      <th>Urls</th>\n      <th>Urls_search</th>\n    </tr>\n  </thead>\n  <tbody>\n    <tr>\n      <th>0</th>\n      <td>wacom</td>\n      <td>ctl472</td>\n      <td>ctl 472 - mesa digitalizadora one by wacom peq...</td>\n      <td>wacom+ctl472</td>\n      <td>https://www.kabum.com.br/busca?query=wacom+ctl472</td>\n    </tr>\n    <tr>\n      <th>1</th>\n      <td>wacom</td>\n      <td>ctl4100</td>\n      <td>ctl4100 - mesa digitalizadora wacom intuos sma...</td>\n      <td>wacom+ctl4100</td>\n      <td>https://www.kabum.com.br/busca?query=wacom+ctl...</td>\n    </tr>\n    <tr>\n      <th>2</th>\n      <td>wacom</td>\n      <td>ctl4100wle0</td>\n      <td>ctl4100wle0 - mesa digitalizadora wacom intuos...</td>\n      <td>wacom+ctl4100wle0</td>\n      <td>https://www.kabum.com.br/busca?query=wacom+ctl...</td>\n    </tr>\n    <tr>\n      <th>3</th>\n      <td>wacom</td>\n      <td>ctl4100wlk0</td>\n      <td>ctl4100wlk0 - mesa digitalizadora wacom intuos...</td>\n      <td>wacom+ctl4100wlk0</td>\n      <td>https://www.kabum.com.br/busca?query=wacom+ctl...</td>\n    </tr>\n    <tr>\n      <th>4</th>\n      <td>wacom</td>\n      <td>ctl6100wlk0</td>\n      <td>ctl6100wlk0 - mesa digitalizadora wacom intuos...</td>\n      <td>wacom+ctl6100wlk0</td>\n      <td>https://www.kabum.com.br/busca?query=wacom+ctl...</td>\n    </tr>\n    <tr>\n      <th>5</th>\n      <td>wacom</td>\n      <td>dtc133w0a</td>\n      <td>dtc133w0a - mesa digitalizadora wacom one crea...</td>\n      <td>wacom+dtc133w0a</td>\n      <td>https://www.kabum.com.br/busca?query=wacom+dtc...</td>\n    </tr>\n    <tr>\n      <th>6</th>\n      <td>wacom</td>\n      <td>pth460</td>\n      <td>pth460 - mesa digitalizadora wacom intuos pro ...</td>\n      <td>wacom+pth460</td>\n      <td>https://www.kabum.com.br/busca?query=wacom+pth460</td>\n    </tr>\n    <tr>\n      <th>7</th>\n      <td>wacom</td>\n      <td>dtk1660k0a</td>\n      <td>dtk1660k0a - display interativo wacom cintiq 1...</td>\n      <td>wacom+dtk1660k0a</td>\n      <td>https://www.kabum.com.br/busca?query=wacom+dtk...</td>\n    </tr>\n    <tr>\n      <th>8</th>\n      <td>wacom</td>\n      <td>pth660</td>\n      <td>pth660 - mesa digitalizadora wacom intuos pro ...</td>\n      <td>wacom+pth660</td>\n      <td>https://www.kabum.com.br/busca?query=wacom+pth660</td>\n    </tr>\n    <tr>\n      <th>9</th>\n      <td>wacom</td>\n      <td>ctl6100wle0</td>\n      <td>ctl6100wle0 - mesa digitalizadora wacom intuos...</td>\n      <td>wacom+ctl6100wle0</td>\n      <td>https://www.kabum.com.br/busca?query=wacom+ctl...</td>\n    </tr>\n  </tbody>\n</table>\n</div>"
     },
     "execution_count": 5,
     "metadata": {},
     "output_type": "execute_result"
    }
   ],
   "source": [
    "Df_products_raw = getting_n_creating_kabum(\"Wacom\")\n",
    "Df_products_raw"
   ]
  },
  {
   "cell_type": "code",
   "execution_count": 6,
   "metadata": {
    "pycharm": {
     "name": "#%%\n"
    }
   },
   "outputs": [],
   "source": [
    "def search_links(url):\n",
    "    global Links_Kabum\n",
    "\n",
    "    time.sleep(10)\n",
    "\n",
    "    Headers_Kabum = Random_user_agents('kabum')\n",
    "    response = requests.get(url, headers=Headers_Kabum)\n",
    "    html = response.text\n",
    "\n",
    "    Soup = BeautifulSoup(html, 'html.parser')\n",
    "\n",
    "    for a in Soup.find_all(\"a\", href=True):\n",
    "        Links_Kabum.append(\"https://www.kabum.com.br\" + a['href'])\n",
    "\n",
    "    Links_Kabum = [s for s in Links_Kabum if 'produto' in s]"
   ]
  },
  {
   "cell_type": "code",
   "execution_count": 7,
   "metadata": {
    "pycharm": {
     "name": "#%%\n"
    }
   },
   "outputs": [
    {
     "name": "stderr",
     "output_type": "stream",
     "text": [
      "100%|██████████| 10/10 [01:46<00:00, 10.60s/it]\n"
     ]
    }
   ],
   "source": [
    "for url in tqdm(Df_products_raw['Urls_search']):\n",
    "    search_links(url)"
   ]
  },
  {
   "cell_type": "code",
   "execution_count": 8,
   "metadata": {
    "pycharm": {
     "name": "#%%\n"
    }
   },
   "outputs": [],
   "source": [
    "def get_attributes(url):\n",
    "    time.sleep(10)\n",
    "\n",
    "    Headers_Kabum = Random_user_agents('kabum')\n",
    "    response = requests.get(url, headers=Headers_Kabum)\n",
    "\n",
    "    html = response.text\n",
    "\n",
    "    Soup = BeautifulSoup(html, 'html.parser')\n",
    "\n",
    "    #Titulo\n",
    "    try:\n",
    "        Title_Kabum.append(Soup.find(\"h1\", attrs={'itemprop':'name'}).text)\n",
    "    except:\n",
    "        Title_Kabum.append(\"Erro\")\n",
    "\n",
    "    #Preço\n",
    "    try:\n",
    "        Price_Kabum.append(Soup.find(\"h4\", attrs={'itemprop':'price'}).text)\n",
    "    except:\n",
    "        Price_Kabum.append(\"Erro\")\n",
    "\n",
    "    #Seller\n",
    "    try:\n",
    "        Sellers_Kabum.append(Soup.find('div', attrs={'id':'blocoValores'}).text)\n",
    "    except:\n",
    "        Sellers_Kabum.append(\"Erro\")\n",
    "\n",
    "    #Installment\n",
    "    try:\n",
    "        Installment_Kabum_quantidade.append(Soup.find(class_='cardParcels').text)\n",
    "    except:\n",
    "        Installment_Kabum_quantidade.append(\"Erro\")\n"
   ]
  },
  {
   "cell_type": "code",
   "execution_count": 9,
   "metadata": {
    "pycharm": {
     "name": "#%%\n"
    }
   },
   "outputs": [
    {
     "name": "stderr",
     "output_type": "stream",
     "text": [
      "100%|██████████| 96/96 [16:56<00:00, 10.58s/it]\n"
     ]
    }
   ],
   "source": [
    "for url in tqdm(Links_Kabum):\n",
    "    get_attributes(url)"
   ]
  },
  {
   "cell_type": "code",
   "execution_count": 32,
   "metadata": {
    "pycharm": {
     "name": "#%%\n"
    }
   },
   "outputs": [],
   "source": [
    "def dataset_creation(urls, sellers, prices, installments, titles):\n",
    "    df_raw = pd.DataFrame()\n",
    "\n",
    "    Hoje = pd.to_datetime('today', errors='ignore').date()\n",
    "\n",
    "    df_raw['URL'] = urls\n",
    "\n",
    "    df_raw['DATE'] = Hoje\n",
    "\n",
    "    df_raw['MARKETPLACE'] = 'Kabum'\n",
    "\n",
    "    df_raw['SELLER'] = sellers\n",
    "    df_raw['SELLER'] = df_raw['SELLER'].str.partition(\"Vendido e entregue por: \")[2].str.partition(\" |\")[0]\n",
    "\n",
    "    df_raw['Installment_lixo'] = installments\n",
    "\n",
    "    df_raw['PARCEL'] = df_raw['Installment_lixo'].str.partition(\"x\")[0].str.extract('(\\d+)')\n",
    "\n",
    "    df_raw['INSTALLMENT'] = df_raw['Installment_lixo'].str.partition(\"R$\")[2]\n",
    "    df_raw['INSTALLMENT'] = df_raw['INSTALLMENT'].str.partition(\" \")[0]\n",
    "    df_raw['INSTALLMENT'] = df_raw['INSTALLMENT'].str.replace(\",\",\".\", regex=True)\n",
    "    df_raw['INSTALLMENT'] = df_raw['INSTALLMENT'].str.replace(\"\\xa0\",\"\", regex=False)\n",
    "\n",
    "    df_raw['PRODUCT'] = titles\n",
    "\n",
    "    df_raw['PRICE'] = prices\n",
    "\n",
    "    df_raw = df_raw[df_raw['PRICE'] != \"Erro\"]\n",
    "\n",
    "    df_raw['PRICE'] = df_raw['PRICE'].str.replace(\"R$\",\"\", regex=False)\n",
    "    df_raw['PRICE'] = df_raw['PRICE'].str.replace(\".\",\"\", regex=False)\n",
    "    df_raw['PRICE'] = df_raw['PRICE'].str.replace(\",\",\".\", regex=False)\n",
    "    df_raw['PRICE'] = df_raw['PRICE'].str.replace(\"\\xa0\",\"\", regex=False)\n",
    "    df_raw['PRICE'] = df_raw['PRICE'].astype('float')\n",
    "\n",
    "    df_raw['ID'] = df_raw['URL'].str.partition(\"produto/\")[2].str.partition(\"/\")[0]\n",
    "\n",
    "    df_raw = df_raw.drop_duplicates(subset='URL')\n",
    "\n",
    "    df_raw['INSTALLMENT'] = df_raw['INSTALLMENT'].astype('float')\n",
    "    df_raw['PARCEL'] = df_raw['PARCEL'].astype('int')\n",
    "\n",
    "    df_raw['INSTALLMENT_PAYMENT'] = df_raw['PARCEL'] * df_raw['INSTALLMENT']\n",
    "\n",
    "    df_raw = df_raw[['DATE', 'URL', 'MARKETPLACE', 'SELLER', 'PRICE', 'PARCEL','INSTALLMENT','INSTALLMENT_PAYMENT','ID','PRODUCT']]\n",
    "\n",
    "    return df_raw"
   ]
  },
  {
   "cell_type": "code",
   "execution_count": 33,
   "metadata": {
    "pycharm": {
     "name": "#%%\n"
    }
   },
   "outputs": [],
   "source": [
    "Dataset_Kabum = dataset_creation(Links_Kabum, Sellers_Kabum, Price_Kabum, Installment_Kabum_quantidade, Title_Kabum)"
   ]
  },
  {
   "cell_type": "code",
   "execution_count": 34,
   "outputs": [
    {
     "data": {
      "text/plain": "          DATE                                                URL MARKETPLACE  \\\n0   2022-06-01  https://www.kabum.com.br/produto/93434/mesa-di...       Kabum   \n1   2022-06-01  https://www.kabum.com.br/produto/134333/mesa-d...       Kabum   \n3   2022-06-01  https://www.kabum.com.br/produto/208497/mesa-d...       Kabum   \n6   2022-06-01  https://www.kabum.com.br/produto/95567/mesa-di...       Kabum   \n7   2022-06-01  https://www.kabum.com.br/produto/349488/mesa-d...       Kabum   \n8   2022-06-01  https://www.kabum.com.br/produto/121143/mesa-d...       Kabum   \n10  2022-06-01  https://www.kabum.com.br/produto/208495/mesa-d...       Kabum   \n19  2022-06-01  https://www.kabum.com.br/produto/96951/mesa-di...       Kabum   \n20  2022-06-01  https://www.kabum.com.br/produto/96950/mesa-di...       Kabum   \n21  2022-06-01  https://www.kabum.com.br/produto/97322/mesa-di...       Kabum   \n22  2022-06-01  https://www.kabum.com.br/produto/310847/kit-me...       Kabum   \n23  2022-06-01  https://www.kabum.com.br/produto/254727/mesa-d...       Kabum   \n25  2022-06-01  https://www.kabum.com.br/produto/349428/mesa-d...       Kabum   \n26  2022-06-01  https://www.kabum.com.br/produto/220696/mesa-d...       Kabum   \n27  2022-06-01  https://www.kabum.com.br/produto/190579/mesa-d...       Kabum   \n29  2022-06-01  https://www.kabum.com.br/produto/190581/mesa-d...       Kabum   \n30  2022-06-01  https://www.kabum.com.br/produto/234858/mesa-d...       Kabum   \n40  2022-06-01  https://www.kabum.com.br/produto/349279/mesa-d...       Kabum   \n50  2022-06-01  https://www.kabum.com.br/produto/97283/mesa-di...       Kabum   \n60  2022-06-01  https://www.kabum.com.br/produto/190580/mesa-d...       Kabum   \n66  2022-06-01  https://www.kabum.com.br/produto/109945/mesa-d...       Kabum   \n73  2022-06-01  https://www.kabum.com.br/produto/102931/mesa-d...       Kabum   \n74  2022-06-01  https://www.kabum.com.br/produto/349062/displa...       Kabum   \n76  2022-06-01  https://www.kabum.com.br/produto/87846/mesa-di...       Kabum   \n77  2022-06-01  https://www.kabum.com.br/produto/349429/mesa-d...       Kabum   \n78  2022-06-01  https://www.kabum.com.br/produto/220574/mesa-d...       Kabum   \n\n                  SELLER    PRICE  PARCEL  INSTALLMENT  INSTALLMENT_PAYMENT  \\\n0                KaBuM!    219.90      10        25.87               258.70   \n1   Inpower Informatica    198.81       8        27.61               220.88   \n3              PRIMETEK    307.58      10        30.75               307.50   \n6                KaBuM!    299.90      10        35.28               352.80   \n7                e-spot    659.00      10        65.90               659.00   \n8   Inpower Informatica    335.70      10        37.29               372.90   \n10             PRIMETEK    549.34      10        54.93               549.30   \n19               KaBuM!    629.00      10        74.00               740.00   \n20               KaBuM!    579.90      10        64.43               644.30   \n21               KaBuM!   1729.90      10       203.51              2035.10   \n22               KaBuM!   1515.15      10       159.49              1594.90   \n23     Oficina dos Bits    863.99      10        95.99               959.90   \n25               e-spot   1899.00      10       189.90              1899.00   \n26     Oficina dos Bits   1610.99      10       178.99              1789.90   \n27  Inpower Informatica   1245.60      10       138.40              1384.00   \n29         Bits & Bytes    994.23      10       110.47              1104.70   \n30           Loja Ibyte   2561.83      10       256.18              2561.80   \n40               e-spot    999.00      10        99.90               999.00   \n50               KaBuM!   1199.90      10       141.16              1411.60   \n60              2K SHOP   1043.99      10       115.99              1159.90   \n66               KaBuM!   2890.00      10       304.21              3042.10   \n73               KaBuM!   8099.90      10       852.62              8526.20   \n74               e-spot   8599.00      10       859.90              8599.00   \n76               KaBuM!   3399.90      10       399.98              3999.80   \n77               e-spot   5599.00      10       559.90              5599.00   \n78               e-spot   2299.00      10       229.90              2299.00   \n\n        ID                                            PRODUCT  \n0    93434    Mesa Digitalizadora One by Wacom CTL472 Pequena  \n1   134333    Mesa Digitalizadora One by Wacom CTL472 Pequena  \n3   208497  Mesa Digitalizadora Wacom CTL472 Pequena 2540 ...  \n6    95567  Mesa Digitalizadora Wacom Intuos, Pequena, Can...  \n7   349488   Mesa Digitalizadora Wacom Intuos Pequena Ctl4100  \n8   121143  Mesa Digitalizadora Wacom, Intuos, Pequena - C...  \n10  208495  Mesa Digitalizadora Wacom CTL4100 Intuos Peque...  \n19   96951  Mesa Digitalizadora Wacom Bluetooth Pequena In...  \n20   96950  Mesa Digitalizadora Wacom Bluetooth Pequena In...  \n21   97322  Mesa Digitalizadora Wacom Média Bluetooth Verd...  \n22  310847  Kit Mesa Digitalizadora Wacom  - CTL4100WLE0 +...  \n23  254727  Mesa Digitalizadora Wacom Intuos Creative - Pe...  \n25  349428  Mesa Digitalizadora Wacom Intuos Bluetooth Méd...  \n26  220696  Mesa Digitalizadora Wacom, 4096 Pontos de Pres...  \n27  190579  Mesa Digitalizadora Wacom, CTL-6100WLE0 4096, ...  \n29  190581  Mesa Digitalizadora Wacom CTL-4100WL 4096 Pont...  \n30  234858  Mesa Digitalizadora Wacom Média Bluetooth Pret...  \n40  349279  Mesa Digitalizadora Wacom Intuos Bluetooth Peq...  \n50   97283  Mesa Digitalizadora Wacom Média Bluetooth Pret...  \n60  190580  Mesa Digitalizadora Wacom Intuos 4096, Pontos ...  \n66  109945  Mesa Digitalizadora Wacom One Creative Pen Dis...  \n73  102931  Mesa Digitalizadora Wacom Cintq 16, Grande - D...  \n74  349062  Display Interativo Wacom Cintiq 16 Pen Dtk1660...  \n76   87846    Mesa Digitalizadora Wacom Intuos Pro L - PTH860  \n77  349429  Mesa Digitalizadora Wacom Intuos Pro Grande  P...  \n78  220574  Mesa Digitalizadora Wacom Intuos Pro Pequena P...  ",
      "text/html": "<div>\n<style scoped>\n    .dataframe tbody tr th:only-of-type {\n        vertical-align: middle;\n    }\n\n    .dataframe tbody tr th {\n        vertical-align: top;\n    }\n\n    .dataframe thead th {\n        text-align: right;\n    }\n</style>\n<table border=\"1\" class=\"dataframe\">\n  <thead>\n    <tr style=\"text-align: right;\">\n      <th></th>\n      <th>DATE</th>\n      <th>URL</th>\n      <th>MARKETPLACE</th>\n      <th>SELLER</th>\n      <th>PRICE</th>\n      <th>PARCEL</th>\n      <th>INSTALLMENT</th>\n      <th>INSTALLMENT_PAYMENT</th>\n      <th>ID</th>\n      <th>PRODUCT</th>\n    </tr>\n  </thead>\n  <tbody>\n    <tr>\n      <th>0</th>\n      <td>2022-06-01</td>\n      <td>https://www.kabum.com.br/produto/93434/mesa-di...</td>\n      <td>Kabum</td>\n      <td>KaBuM!</td>\n      <td>219.90</td>\n      <td>10</td>\n      <td>25.87</td>\n      <td>258.70</td>\n      <td>93434</td>\n      <td>Mesa Digitalizadora One by Wacom CTL472 Pequena</td>\n    </tr>\n    <tr>\n      <th>1</th>\n      <td>2022-06-01</td>\n      <td>https://www.kabum.com.br/produto/134333/mesa-d...</td>\n      <td>Kabum</td>\n      <td>Inpower Informatica</td>\n      <td>198.81</td>\n      <td>8</td>\n      <td>27.61</td>\n      <td>220.88</td>\n      <td>134333</td>\n      <td>Mesa Digitalizadora One by Wacom CTL472 Pequena</td>\n    </tr>\n    <tr>\n      <th>3</th>\n      <td>2022-06-01</td>\n      <td>https://www.kabum.com.br/produto/208497/mesa-d...</td>\n      <td>Kabum</td>\n      <td>PRIMETEK</td>\n      <td>307.58</td>\n      <td>10</td>\n      <td>30.75</td>\n      <td>307.50</td>\n      <td>208497</td>\n      <td>Mesa Digitalizadora Wacom CTL472 Pequena 2540 ...</td>\n    </tr>\n    <tr>\n      <th>6</th>\n      <td>2022-06-01</td>\n      <td>https://www.kabum.com.br/produto/95567/mesa-di...</td>\n      <td>Kabum</td>\n      <td>KaBuM!</td>\n      <td>299.90</td>\n      <td>10</td>\n      <td>35.28</td>\n      <td>352.80</td>\n      <td>95567</td>\n      <td>Mesa Digitalizadora Wacom Intuos, Pequena, Can...</td>\n    </tr>\n    <tr>\n      <th>7</th>\n      <td>2022-06-01</td>\n      <td>https://www.kabum.com.br/produto/349488/mesa-d...</td>\n      <td>Kabum</td>\n      <td>e-spot</td>\n      <td>659.00</td>\n      <td>10</td>\n      <td>65.90</td>\n      <td>659.00</td>\n      <td>349488</td>\n      <td>Mesa Digitalizadora Wacom Intuos Pequena Ctl4100</td>\n    </tr>\n    <tr>\n      <th>8</th>\n      <td>2022-06-01</td>\n      <td>https://www.kabum.com.br/produto/121143/mesa-d...</td>\n      <td>Kabum</td>\n      <td>Inpower Informatica</td>\n      <td>335.70</td>\n      <td>10</td>\n      <td>37.29</td>\n      <td>372.90</td>\n      <td>121143</td>\n      <td>Mesa Digitalizadora Wacom, Intuos, Pequena - C...</td>\n    </tr>\n    <tr>\n      <th>10</th>\n      <td>2022-06-01</td>\n      <td>https://www.kabum.com.br/produto/208495/mesa-d...</td>\n      <td>Kabum</td>\n      <td>PRIMETEK</td>\n      <td>549.34</td>\n      <td>10</td>\n      <td>54.93</td>\n      <td>549.30</td>\n      <td>208495</td>\n      <td>Mesa Digitalizadora Wacom CTL4100 Intuos Peque...</td>\n    </tr>\n    <tr>\n      <th>19</th>\n      <td>2022-06-01</td>\n      <td>https://www.kabum.com.br/produto/96951/mesa-di...</td>\n      <td>Kabum</td>\n      <td>KaBuM!</td>\n      <td>629.00</td>\n      <td>10</td>\n      <td>74.00</td>\n      <td>740.00</td>\n      <td>96951</td>\n      <td>Mesa Digitalizadora Wacom Bluetooth Pequena In...</td>\n    </tr>\n    <tr>\n      <th>20</th>\n      <td>2022-06-01</td>\n      <td>https://www.kabum.com.br/produto/96950/mesa-di...</td>\n      <td>Kabum</td>\n      <td>KaBuM!</td>\n      <td>579.90</td>\n      <td>10</td>\n      <td>64.43</td>\n      <td>644.30</td>\n      <td>96950</td>\n      <td>Mesa Digitalizadora Wacom Bluetooth Pequena In...</td>\n    </tr>\n    <tr>\n      <th>21</th>\n      <td>2022-06-01</td>\n      <td>https://www.kabum.com.br/produto/97322/mesa-di...</td>\n      <td>Kabum</td>\n      <td>KaBuM!</td>\n      <td>1729.90</td>\n      <td>10</td>\n      <td>203.51</td>\n      <td>2035.10</td>\n      <td>97322</td>\n      <td>Mesa Digitalizadora Wacom Média Bluetooth Verd...</td>\n    </tr>\n    <tr>\n      <th>22</th>\n      <td>2022-06-01</td>\n      <td>https://www.kabum.com.br/produto/310847/kit-me...</td>\n      <td>Kabum</td>\n      <td>KaBuM!</td>\n      <td>1515.15</td>\n      <td>10</td>\n      <td>159.49</td>\n      <td>1594.90</td>\n      <td>310847</td>\n      <td>Kit Mesa Digitalizadora Wacom  - CTL4100WLE0 +...</td>\n    </tr>\n    <tr>\n      <th>23</th>\n      <td>2022-06-01</td>\n      <td>https://www.kabum.com.br/produto/254727/mesa-d...</td>\n      <td>Kabum</td>\n      <td>Oficina dos Bits</td>\n      <td>863.99</td>\n      <td>10</td>\n      <td>95.99</td>\n      <td>959.90</td>\n      <td>254727</td>\n      <td>Mesa Digitalizadora Wacom Intuos Creative - Pe...</td>\n    </tr>\n    <tr>\n      <th>25</th>\n      <td>2022-06-01</td>\n      <td>https://www.kabum.com.br/produto/349428/mesa-d...</td>\n      <td>Kabum</td>\n      <td>e-spot</td>\n      <td>1899.00</td>\n      <td>10</td>\n      <td>189.90</td>\n      <td>1899.00</td>\n      <td>349428</td>\n      <td>Mesa Digitalizadora Wacom Intuos Bluetooth Méd...</td>\n    </tr>\n    <tr>\n      <th>26</th>\n      <td>2022-06-01</td>\n      <td>https://www.kabum.com.br/produto/220696/mesa-d...</td>\n      <td>Kabum</td>\n      <td>Oficina dos Bits</td>\n      <td>1610.99</td>\n      <td>10</td>\n      <td>178.99</td>\n      <td>1789.90</td>\n      <td>220696</td>\n      <td>Mesa Digitalizadora Wacom, 4096 Pontos de Pres...</td>\n    </tr>\n    <tr>\n      <th>27</th>\n      <td>2022-06-01</td>\n      <td>https://www.kabum.com.br/produto/190579/mesa-d...</td>\n      <td>Kabum</td>\n      <td>Inpower Informatica</td>\n      <td>1245.60</td>\n      <td>10</td>\n      <td>138.40</td>\n      <td>1384.00</td>\n      <td>190579</td>\n      <td>Mesa Digitalizadora Wacom, CTL-6100WLE0 4096, ...</td>\n    </tr>\n    <tr>\n      <th>29</th>\n      <td>2022-06-01</td>\n      <td>https://www.kabum.com.br/produto/190581/mesa-d...</td>\n      <td>Kabum</td>\n      <td>Bits &amp; Bytes</td>\n      <td>994.23</td>\n      <td>10</td>\n      <td>110.47</td>\n      <td>1104.70</td>\n      <td>190581</td>\n      <td>Mesa Digitalizadora Wacom CTL-4100WL 4096 Pont...</td>\n    </tr>\n    <tr>\n      <th>30</th>\n      <td>2022-06-01</td>\n      <td>https://www.kabum.com.br/produto/234858/mesa-d...</td>\n      <td>Kabum</td>\n      <td>Loja Ibyte</td>\n      <td>2561.83</td>\n      <td>10</td>\n      <td>256.18</td>\n      <td>2561.80</td>\n      <td>234858</td>\n      <td>Mesa Digitalizadora Wacom Média Bluetooth Pret...</td>\n    </tr>\n    <tr>\n      <th>40</th>\n      <td>2022-06-01</td>\n      <td>https://www.kabum.com.br/produto/349279/mesa-d...</td>\n      <td>Kabum</td>\n      <td>e-spot</td>\n      <td>999.00</td>\n      <td>10</td>\n      <td>99.90</td>\n      <td>999.00</td>\n      <td>349279</td>\n      <td>Mesa Digitalizadora Wacom Intuos Bluetooth Peq...</td>\n    </tr>\n    <tr>\n      <th>50</th>\n      <td>2022-06-01</td>\n      <td>https://www.kabum.com.br/produto/97283/mesa-di...</td>\n      <td>Kabum</td>\n      <td>KaBuM!</td>\n      <td>1199.90</td>\n      <td>10</td>\n      <td>141.16</td>\n      <td>1411.60</td>\n      <td>97283</td>\n      <td>Mesa Digitalizadora Wacom Média Bluetooth Pret...</td>\n    </tr>\n    <tr>\n      <th>60</th>\n      <td>2022-06-01</td>\n      <td>https://www.kabum.com.br/produto/190580/mesa-d...</td>\n      <td>Kabum</td>\n      <td>2K SHOP</td>\n      <td>1043.99</td>\n      <td>10</td>\n      <td>115.99</td>\n      <td>1159.90</td>\n      <td>190580</td>\n      <td>Mesa Digitalizadora Wacom Intuos 4096, Pontos ...</td>\n    </tr>\n    <tr>\n      <th>66</th>\n      <td>2022-06-01</td>\n      <td>https://www.kabum.com.br/produto/109945/mesa-d...</td>\n      <td>Kabum</td>\n      <td>KaBuM!</td>\n      <td>2890.00</td>\n      <td>10</td>\n      <td>304.21</td>\n      <td>3042.10</td>\n      <td>109945</td>\n      <td>Mesa Digitalizadora Wacom One Creative Pen Dis...</td>\n    </tr>\n    <tr>\n      <th>73</th>\n      <td>2022-06-01</td>\n      <td>https://www.kabum.com.br/produto/102931/mesa-d...</td>\n      <td>Kabum</td>\n      <td>KaBuM!</td>\n      <td>8099.90</td>\n      <td>10</td>\n      <td>852.62</td>\n      <td>8526.20</td>\n      <td>102931</td>\n      <td>Mesa Digitalizadora Wacom Cintq 16, Grande - D...</td>\n    </tr>\n    <tr>\n      <th>74</th>\n      <td>2022-06-01</td>\n      <td>https://www.kabum.com.br/produto/349062/displa...</td>\n      <td>Kabum</td>\n      <td>e-spot</td>\n      <td>8599.00</td>\n      <td>10</td>\n      <td>859.90</td>\n      <td>8599.00</td>\n      <td>349062</td>\n      <td>Display Interativo Wacom Cintiq 16 Pen Dtk1660...</td>\n    </tr>\n    <tr>\n      <th>76</th>\n      <td>2022-06-01</td>\n      <td>https://www.kabum.com.br/produto/87846/mesa-di...</td>\n      <td>Kabum</td>\n      <td>KaBuM!</td>\n      <td>3399.90</td>\n      <td>10</td>\n      <td>399.98</td>\n      <td>3999.80</td>\n      <td>87846</td>\n      <td>Mesa Digitalizadora Wacom Intuos Pro L - PTH860</td>\n    </tr>\n    <tr>\n      <th>77</th>\n      <td>2022-06-01</td>\n      <td>https://www.kabum.com.br/produto/349429/mesa-d...</td>\n      <td>Kabum</td>\n      <td>e-spot</td>\n      <td>5599.00</td>\n      <td>10</td>\n      <td>559.90</td>\n      <td>5599.00</td>\n      <td>349429</td>\n      <td>Mesa Digitalizadora Wacom Intuos Pro Grande  P...</td>\n    </tr>\n    <tr>\n      <th>78</th>\n      <td>2022-06-01</td>\n      <td>https://www.kabum.com.br/produto/220574/mesa-d...</td>\n      <td>Kabum</td>\n      <td>e-spot</td>\n      <td>2299.00</td>\n      <td>10</td>\n      <td>229.90</td>\n      <td>2299.00</td>\n      <td>220574</td>\n      <td>Mesa Digitalizadora Wacom Intuos Pro Pequena P...</td>\n    </tr>\n  </tbody>\n</table>\n</div>"
     },
     "execution_count": 34,
     "metadata": {},
     "output_type": "execute_result"
    }
   ],
   "source": [
    "Dataset_Kabum"
   ],
   "metadata": {
    "collapsed": false,
    "pycharm": {
     "name": "#%%\n"
    }
   }
  },
  {
   "cell_type": "code",
   "execution_count": 21,
   "outputs": [],
   "source": [
    "Dataset_Kabum['INSTALLMENT'] = Dataset_Kabum['INSTALLMENT'].astype('float')"
   ],
   "metadata": {
    "collapsed": false,
    "pycharm": {
     "name": "#%%\n"
    }
   }
  },
  {
   "cell_type": "code",
   "execution_count": 35,
   "outputs": [
    {
     "data": {
      "text/plain": "DATE                    object\nURL                     object\nMARKETPLACE             object\nSELLER                  object\nPRICE                  float64\nPARCEL                   int32\nINSTALLMENT            float64\nINSTALLMENT_PAYMENT    float64\nID                      object\nPRODUCT                 object\ndtype: object"
     },
     "execution_count": 35,
     "metadata": {},
     "output_type": "execute_result"
    }
   ],
   "source": [
    "Dataset_Kabum.dtypes"
   ],
   "metadata": {
    "collapsed": false,
    "pycharm": {
     "name": "#%%\n"
    }
   }
  },
  {
   "cell_type": "code",
   "execution_count": 36,
   "metadata": {
    "pycharm": {
     "name": "#%%\n"
    }
   },
   "outputs": [],
   "source": [
    "Dataset_Kabum.to_excel(r\"C:\\Users\\pedro\\Documents\\Turte Brand Protection\\Turtle_Thinker_Alpha_0.1\\Kabum_Wacom.xlsx\", index=False)"
   ]
  },
  {
   "cell_type": "code",
   "execution_count": 15,
   "metadata": {
    "pycharm": {
     "name": "#%%\n"
    }
   },
   "outputs": [],
   "source": []
  }
 ],
 "metadata": {
  "interpreter": {
   "hash": "c3503f95e0e8f4afdf6702396a7a2a29cae9f67572acfe092405dcaa2579b817"
  },
  "kernelspec": {
   "display_name": "Python 3.10.4 64-bit",
   "language": "python",
   "name": "python3"
  },
  "language_info": {
   "codemirror_mode": {
    "name": "ipython",
    "version": 3
   },
   "file_extension": ".py",
   "mimetype": "text/x-python",
   "name": "python",
   "nbconvert_exporter": "python",
   "pygments_lexer": "ipython3",
   "version": "3.10.4"
  },
  "orig_nbformat": 4
 },
 "nbformat": 4,
 "nbformat_minor": 2
}