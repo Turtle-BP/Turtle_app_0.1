{
 "cells": [
  {
   "cell_type": "code",
   "execution_count": 1,
   "metadata": {},
   "outputs": [],
   "source": [
    "#Importando as bibliotecas\n",
    "import requests\n",
    "from bs4 import BeautifulSoup\n",
    "import pandas as pd\n",
    "import time\n",
    "import sqlite3\n",
    "from tqdm import tqdm\n",
    "import os\n"
   ]
  },
  {
   "cell_type": "code",
   "execution_count": 2,
   "metadata": {},
   "outputs": [],
   "source": [
    "headers = {'authority':'www.kabum.com.br',\n",
    "           'method':'GET',\n",
    "           'scheme':'https',\n",
    "           'accept':'text/html,application/xhtml+xml,application/xml;q=0.9,image/avif,image/webp,image/apng,*/*;q=0.8,application/signed-exchange;v=b3;q=0.9',\n",
    "           'accept-encoding':'gzip, deflate, br',\n",
    "           'accept-language':'pt-BR,pt;q=0.9,en-US;q=0.8,en;q=0.7',\n",
    "           'referer':'https://www.kabum.com.br/',\n",
    "           'user-agent':'Mozilla/5.0 (Windows NT 10.0; Win64; x64) AppleWebKit/537.36 (KHTML, like Gecko) Chrome/99.0.4844.84 Safari/537.36 OPR/85.0.4341.75'}"
   ]
  },
  {
   "cell_type": "code",
   "execution_count": 3,
   "metadata": {},
   "outputs": [],
   "source": [
    "Links_Kabum = []\n",
    "Urls_Kabum = []\n",
    "Sellers_Kabum = []\n",
    "Country_Kabum = []\n",
    "Price_Kabum = []\n",
    "SKU_Kabum = []\n",
    "Title_Kabum = []\n",
    "Installment_Kabum_quantidade = []\n",
    "Installment_Kabum_valor_parcela = []\n",
    "Installment_Kabum_valor_total = []"
   ]
  },
  {
   "cell_type": "code",
   "execution_count": 4,
   "metadata": {},
   "outputs": [],
   "source": [
    "def getting_n_creating_kabum(brand):\n",
    "\n",
    "    Database_path = r\"C:\\Users\\pedro\\Documents\\Turte Brand Protection\\Turtle_Thinker_Alpha_0.1\" + \"\\Data\\\\\" + brand + \"\\\\\" + brand + \".db\"\n",
    "\n",
    "    table = brand + \"_products\"\n",
    "\n",
    "    #Criando a Query\n",
    "    query = \"SELECT * FROM \" + table\n",
    "\n",
    "    #Entrando dentro do databse\n",
    "    connection = sqlite3.connect(Database_path)\n",
    "\n",
    "    #Criando o dataset em brando\n",
    "    df = pd.read_sql_query(query, connection)\n",
    "\n",
    "    #Passando todo o Dataframe para LowerCase\n",
    "    df = df.apply(lambda x: x.astype(str).str.lower())\n",
    "\n",
    "    #Arrumando espaços vazios\n",
    "    # Arrumano os espaços vazios\n",
    "    df['Product_Name'] = df['Product_Name'].str.replace(\" \", \"+\")\n",
    "    df['Product_Name'] = df['Product_Name'].str.replace(\"-\", \"+\")\n",
    "\n",
    "    # Criando uma nova coluna no database com a formatação certa\n",
    "    df['Urls'] = df['Brand'] + \"+\" + df['Product_Name']\n",
    "\n",
    "    # Criando a nova coluna que são as urls de pesquisa\n",
    "    df['Urls_search'] = \"https://www.kabum.com.br/busca?query=\" + df['Urls']\n",
    "\n",
    "    return df"
   ]
  },
  {
   "cell_type": "code",
   "execution_count": 5,
   "metadata": {},
   "outputs": [
    {
     "data": {
      "text/html": [
       "<div>\n",
       "<style scoped>\n",
       "    .dataframe tbody tr th:only-of-type {\n",
       "        vertical-align: middle;\n",
       "    }\n",
       "\n",
       "    .dataframe tbody tr th {\n",
       "        vertical-align: top;\n",
       "    }\n",
       "\n",
       "    .dataframe thead th {\n",
       "        text-align: right;\n",
       "    }\n",
       "</style>\n",
       "<table border=\"1\" class=\"dataframe\">\n",
       "  <thead>\n",
       "    <tr style=\"text-align: right;\">\n",
       "      <th></th>\n",
       "      <th>Brand</th>\n",
       "      <th>Product_Name</th>\n",
       "      <th>Product_Descrition</th>\n",
       "      <th>Urls</th>\n",
       "      <th>Urls_search</th>\n",
       "    </tr>\n",
       "  </thead>\n",
       "  <tbody>\n",
       "    <tr>\n",
       "      <th>0</th>\n",
       "      <td>wacom</td>\n",
       "      <td>ctl472</td>\n",
       "      <td>ctl 472 - mesa digitalizadora one by wacom peq...</td>\n",
       "      <td>wacom+ctl472</td>\n",
       "      <td>https://www.kabum.com.br/busca?query=wacom+ctl472</td>\n",
       "    </tr>\n",
       "    <tr>\n",
       "      <th>1</th>\n",
       "      <td>wacom</td>\n",
       "      <td>ctl4100</td>\n",
       "      <td>ctl4100 - mesa digitalizadora wacom intuos sma...</td>\n",
       "      <td>wacom+ctl4100</td>\n",
       "      <td>https://www.kabum.com.br/busca?query=wacom+ctl...</td>\n",
       "    </tr>\n",
       "    <tr>\n",
       "      <th>2</th>\n",
       "      <td>wacom</td>\n",
       "      <td>ctl4100wle0</td>\n",
       "      <td>ctl4100wle0 - mesa digitalizadora wacom intuos...</td>\n",
       "      <td>wacom+ctl4100wle0</td>\n",
       "      <td>https://www.kabum.com.br/busca?query=wacom+ctl...</td>\n",
       "    </tr>\n",
       "    <tr>\n",
       "      <th>3</th>\n",
       "      <td>wacom</td>\n",
       "      <td>ctl4100wlk0</td>\n",
       "      <td>ctl4100wlk0 - mesa digitalizadora wacom intuos...</td>\n",
       "      <td>wacom+ctl4100wlk0</td>\n",
       "      <td>https://www.kabum.com.br/busca?query=wacom+ctl...</td>\n",
       "    </tr>\n",
       "    <tr>\n",
       "      <th>4</th>\n",
       "      <td>wacom</td>\n",
       "      <td>ctl6100wlk0</td>\n",
       "      <td>ctl6100wlk0 - mesa digitalizadora wacom intuos...</td>\n",
       "      <td>wacom+ctl6100wlk0</td>\n",
       "      <td>https://www.kabum.com.br/busca?query=wacom+ctl...</td>\n",
       "    </tr>\n",
       "    <tr>\n",
       "      <th>5</th>\n",
       "      <td>wacom</td>\n",
       "      <td>dtc133w0a</td>\n",
       "      <td>dtc133w0a - mesa digitalizadora wacom one crea...</td>\n",
       "      <td>wacom+dtc133w0a</td>\n",
       "      <td>https://www.kabum.com.br/busca?query=wacom+dtc...</td>\n",
       "    </tr>\n",
       "    <tr>\n",
       "      <th>6</th>\n",
       "      <td>wacom</td>\n",
       "      <td>pth460</td>\n",
       "      <td>pth460 - mesa digitalizadora wacom intuos pro ...</td>\n",
       "      <td>wacom+pth460</td>\n",
       "      <td>https://www.kabum.com.br/busca?query=wacom+pth460</td>\n",
       "    </tr>\n",
       "    <tr>\n",
       "      <th>7</th>\n",
       "      <td>wacom</td>\n",
       "      <td>dtk1660k0a</td>\n",
       "      <td>dtk1660k0a - display interativo wacom cintiq 1...</td>\n",
       "      <td>wacom+dtk1660k0a</td>\n",
       "      <td>https://www.kabum.com.br/busca?query=wacom+dtk...</td>\n",
       "    </tr>\n",
       "    <tr>\n",
       "      <th>8</th>\n",
       "      <td>wacom</td>\n",
       "      <td>pth660</td>\n",
       "      <td>pth660 - mesa digitalizadora wacom intuos pro ...</td>\n",
       "      <td>wacom+pth660</td>\n",
       "      <td>https://www.kabum.com.br/busca?query=wacom+pth660</td>\n",
       "    </tr>\n",
       "    <tr>\n",
       "      <th>9</th>\n",
       "      <td>wacom</td>\n",
       "      <td>ctl6100wle0</td>\n",
       "      <td>ctl6100wle0 - mesa digitalizadora wacom intuos...</td>\n",
       "      <td>wacom+ctl6100wle0</td>\n",
       "      <td>https://www.kabum.com.br/busca?query=wacom+ctl...</td>\n",
       "    </tr>\n",
       "  </tbody>\n",
       "</table>\n",
       "</div>"
      ],
      "text/plain": [
       "   Brand Product_Name                                 Product_Descrition  \\\n",
       "0  wacom       ctl472  ctl 472 - mesa digitalizadora one by wacom peq...   \n",
       "1  wacom      ctl4100  ctl4100 - mesa digitalizadora wacom intuos sma...   \n",
       "2  wacom  ctl4100wle0  ctl4100wle0 - mesa digitalizadora wacom intuos...   \n",
       "3  wacom  ctl4100wlk0  ctl4100wlk0 - mesa digitalizadora wacom intuos...   \n",
       "4  wacom  ctl6100wlk0  ctl6100wlk0 - mesa digitalizadora wacom intuos...   \n",
       "5  wacom    dtc133w0a  dtc133w0a - mesa digitalizadora wacom one crea...   \n",
       "6  wacom       pth460  pth460 - mesa digitalizadora wacom intuos pro ...   \n",
       "7  wacom   dtk1660k0a  dtk1660k0a - display interativo wacom cintiq 1...   \n",
       "8  wacom       pth660  pth660 - mesa digitalizadora wacom intuos pro ...   \n",
       "9  wacom  ctl6100wle0  ctl6100wle0 - mesa digitalizadora wacom intuos...   \n",
       "\n",
       "                Urls                                        Urls_search  \n",
       "0       wacom+ctl472  https://www.kabum.com.br/busca?query=wacom+ctl472  \n",
       "1      wacom+ctl4100  https://www.kabum.com.br/busca?query=wacom+ctl...  \n",
       "2  wacom+ctl4100wle0  https://www.kabum.com.br/busca?query=wacom+ctl...  \n",
       "3  wacom+ctl4100wlk0  https://www.kabum.com.br/busca?query=wacom+ctl...  \n",
       "4  wacom+ctl6100wlk0  https://www.kabum.com.br/busca?query=wacom+ctl...  \n",
       "5    wacom+dtc133w0a  https://www.kabum.com.br/busca?query=wacom+dtc...  \n",
       "6       wacom+pth460  https://www.kabum.com.br/busca?query=wacom+pth460  \n",
       "7   wacom+dtk1660k0a  https://www.kabum.com.br/busca?query=wacom+dtk...  \n",
       "8       wacom+pth660  https://www.kabum.com.br/busca?query=wacom+pth660  \n",
       "9  wacom+ctl6100wle0  https://www.kabum.com.br/busca?query=wacom+ctl...  "
      ]
     },
     "execution_count": 5,
     "metadata": {},
     "output_type": "execute_result"
    }
   ],
   "source": [
    "Df_products_raw = getting_n_creating_kabum(\"Wacom\")\n",
    "Df_products_raw"
   ]
  },
  {
   "cell_type": "code",
   "execution_count": 6,
   "metadata": {},
   "outputs": [],
   "source": [
    "def search_links(url):\n",
    "    global Links_Kabum\n",
    "\n",
    "    time.sleep(20)\n",
    "\n",
    "    response = requests.get(url, headers=headers)\n",
    "    html = response.text\n",
    "\n",
    "    Soup = BeautifulSoup(html, 'html.parser')\n",
    "\n",
    "    for a in Soup.find_all(\"a\", href=True):\n",
    "        Links_Kabum.append(\"https://www.kabum.com.br\" + a['href'])\n",
    "\n",
    "    Links_Kabum = [s for s in Links_Kabum if 'produto' in s]"
   ]
  },
  {
   "cell_type": "code",
   "execution_count": 7,
   "metadata": {},
   "outputs": [
    {
     "name": "stderr",
     "output_type": "stream",
     "text": [
      "100%|██████████| 10/10 [03:25<00:00, 20.59s/it]\n"
     ]
    }
   ],
   "source": [
    "for url in tqdm(Df_products_raw['Urls_search']):\n",
    "    search_links(url)"
   ]
  },
  {
   "cell_type": "code",
   "execution_count": 8,
   "metadata": {},
   "outputs": [
    {
     "data": {
      "text/plain": [
       "86"
      ]
     },
     "execution_count": 8,
     "metadata": {},
     "output_type": "execute_result"
    }
   ],
   "source": [
    "len(Links_Kabum)"
   ]
  },
  {
   "cell_type": "code",
   "execution_count": 9,
   "metadata": {},
   "outputs": [],
   "source": [
    "def get_attributes(url):\n",
    "    time.sleep(30)\n",
    "\n",
    "    response = requests.get(url, headers=headers)\n",
    "    html = response.text\n",
    "\n",
    "    Soup = BeautifulSoup(html, 'html.parser')\n",
    "\n",
    "    #Titulo\n",
    "    try:\n",
    "        Title_Kabum.append(Soup.find(\"h1\", attrs={'itemprop':'name'}).text)\n",
    "    except:\n",
    "        Title_Kabum.append(\"Erro\")\n",
    "\n",
    "    #Preço\n",
    "    try:\n",
    "        Price_Kabum.append(Soup.find(\"h4\", attrs={'itemprop':'price'}).text)\n",
    "    except:\n",
    "        Price_Kabum.append(\"Erro\")\n",
    "\n",
    "    #Seller\n",
    "    try:\n",
    "        Sellers_Kabum.append(Soup.find('div', attrs={'id':'blocoValores'}).text)\n",
    "    except:\n",
    "        Sellers_Kabum.append(\"Erro\")\n",
    "\n",
    "    #Installment\n",
    "    try:\n",
    "        Installment_Kabum_quantidade.append(Soup.find(class_='cardParcels').text)\n",
    "    except:\n",
    "        Installment_Kabum_quantidade.append(\"Erro\")\n"
   ]
  },
  {
   "cell_type": "code",
   "execution_count": 10,
   "metadata": {},
   "outputs": [
    {
     "name": "stderr",
     "output_type": "stream",
     "text": [
      "100%|██████████| 86/86 [43:45<00:00, 30.53s/it]\n"
     ]
    }
   ],
   "source": [
    "for url in tqdm(Links_Kabum):\n",
    "    get_attributes(url)"
   ]
  },
  {
   "cell_type": "code",
   "execution_count": 17,
   "metadata": {},
   "outputs": [],
   "source": [
    "def dataset_creation(urls, sellers, prices, installments, titles):\n",
    "    df_raw = pd.DataFrame()\n",
    "\n",
    "    Hoje = pd.to_datetime('today', errors='ignore').date()\n",
    "\n",
    "    df_raw['URL'] = urls\n",
    "\n",
    "    df_raw['DATE'] = Hoje\n",
    "\n",
    "    df_raw['MARKETPLACE'] = 'Kabum'\n",
    "\n",
    "    df_raw['SELLER'] = sellers\n",
    "    df_raw['SELLER'] = df_raw['SELLER'].str.partition(\"Vendido e entregue por: \")[2].str.partition(\" |\")[0]\n",
    "\n",
    "    df_raw['Installment_lixo'] = installments\n",
    "\n",
    "    df_raw['PARCEL'] = df_raw['Installment_lixo'].str.partition(\"x\")[0].str.extract('(\\d+)')\n",
    "\n",
    "    df_raw['INSTALLMENT'] = df_raw['Installment_lixo'].str.partition(\"R$\")[2]\n",
    "    df_raw['INSTALLMENT'] = df_raw['INSTALLMENT'].str.partition(\" \")[0]\n",
    "    df_raw['INSTALLMENT'] = df_raw['INSTALLMENT'].str.replace(\",\",\".\", regex=True)\n",
    "    df_raw['INSTALLMENT'] = df_raw['INSTALLMENT'].str.replace(\"\\xa0\",\"\", regex=False)\n",
    "\n",
    "    #df_raw['INSTALLMENT'] = df_raw['INSTALLMENT'].astype('float')\n",
    "\n",
    "    df_raw['PRODUCT'] = titles\n",
    "\n",
    "    df_raw['PRICE'] = prices\n",
    "\n",
    "    df_raw = df_raw[df_raw['PRICE'] != \"Erro\"]\n",
    "\n",
    "    df_raw['PRICE'] = df_raw['PRICE'].str.replace(\"R$\",\"\", regex=False)\n",
    "    df_raw['PRICE'] = df_raw['PRICE'].str.replace(\".\",\"\", regex=False)\n",
    "    df_raw['PRICE'] = df_raw['PRICE'].str.replace(\",\",\".\", regex=False)\n",
    "    df_raw['PRICE'] = df_raw['PRICE'].str.replace(\"\\xa0\",\"\", regex=False)\n",
    "    df_raw['PRICE'] = df_raw['PRICE'].astype('float')\n",
    "\n",
    "    df_raw['ID'] = df_raw['URL'].str.partition(\"produto/\")[2].str.partition(\"/\")[0]\n",
    "\n",
    "    df_raw = df_raw[['DATE', 'URL', 'MARKETPLACE', 'SELLER', 'PRICE', 'PARCEL','INSTALLMENT','ID','PRODUCT']]\n",
    "\n",
    "\n",
    "    return df_raw"
   ]
  },
  {
   "cell_type": "code",
   "execution_count": 18,
   "metadata": {},
   "outputs": [],
   "source": [
    "Dataset_Kabum = dataset_creation(Links_Kabum, Sellers_Kabum, Price_Kabum, Installment_Kabum_quantidade, Title_Kabum)"
   ]
  },
  {
   "cell_type": "code",
   "execution_count": 19,
   "metadata": {},
   "outputs": [
    {
     "data": {
      "text/html": [
       "<div>\n",
       "<style scoped>\n",
       "    .dataframe tbody tr th:only-of-type {\n",
       "        vertical-align: middle;\n",
       "    }\n",
       "\n",
       "    .dataframe tbody tr th {\n",
       "        vertical-align: top;\n",
       "    }\n",
       "\n",
       "    .dataframe thead th {\n",
       "        text-align: right;\n",
       "    }\n",
       "</style>\n",
       "<table border=\"1\" class=\"dataframe\">\n",
       "  <thead>\n",
       "    <tr style=\"text-align: right;\">\n",
       "      <th></th>\n",
       "      <th>DATE</th>\n",
       "      <th>URL</th>\n",
       "      <th>MARKETPLACE</th>\n",
       "      <th>SELLER</th>\n",
       "      <th>PRICE</th>\n",
       "      <th>PARCEL</th>\n",
       "      <th>INSTALLMENT</th>\n",
       "      <th>ID</th>\n",
       "      <th>PRODUCT</th>\n",
       "    </tr>\n",
       "  </thead>\n",
       "  <tbody>\n",
       "    <tr>\n",
       "      <th>0</th>\n",
       "      <td>2022-05-18</td>\n",
       "      <td>https://www.kabum.com.br/produto/93434/mesa-di...</td>\n",
       "      <td>Kabum</td>\n",
       "      <td>KaBuM!</td>\n",
       "      <td>199.90</td>\n",
       "      <td>9</td>\n",
       "      <td>26.13</td>\n",
       "      <td>93434</td>\n",
       "      <td>Mesa Digitalizadora One by Wacom CTL472 Pequena</td>\n",
       "    </tr>\n",
       "    <tr>\n",
       "      <th>1</th>\n",
       "      <td>2022-05-18</td>\n",
       "      <td>https://www.kabum.com.br/produto/134333/mesa-d...</td>\n",
       "      <td>Kabum</td>\n",
       "      <td>Inpower Informatica</td>\n",
       "      <td>199.80</td>\n",
       "      <td>8</td>\n",
       "      <td>27.75</td>\n",
       "      <td>134333</td>\n",
       "      <td>Mesa Digitalizadora One by Wacom CTL472 Pequena</td>\n",
       "    </tr>\n",
       "    <tr>\n",
       "      <th>2</th>\n",
       "      <td>2022-05-18</td>\n",
       "      <td>https://www.kabum.com.br/produto/173541/mesa-d...</td>\n",
       "      <td>Kabum</td>\n",
       "      <td>Oficina dos Bits</td>\n",
       "      <td>300.59</td>\n",
       "      <td>10</td>\n",
       "      <td>33.39</td>\n",
       "      <td>173541</td>\n",
       "      <td>Mesa Digitalizadora One by Wacom Pequena - CTL...</td>\n",
       "    </tr>\n",
       "    <tr>\n",
       "      <th>3</th>\n",
       "      <td>2022-05-18</td>\n",
       "      <td>https://www.kabum.com.br/produto/217140/mesa-d...</td>\n",
       "      <td>Kabum</td>\n",
       "      <td>ON LINE SHOPPING</td>\n",
       "      <td>359.10</td>\n",
       "      <td>10</td>\n",
       "      <td>35.91</td>\n",
       "      <td>217140</td>\n",
       "      <td>Mesa Digitalizadora One Wacom By Ctl472 Pequena</td>\n",
       "    </tr>\n",
       "    <tr>\n",
       "      <th>4</th>\n",
       "      <td>2022-05-18</td>\n",
       "      <td>https://www.kabum.com.br/produto/208497/mesa-d...</td>\n",
       "      <td>Kabum</td>\n",
       "      <td>PRIMETEK</td>\n",
       "      <td>307.58</td>\n",
       "      <td>10</td>\n",
       "      <td>30.75</td>\n",
       "      <td>208497</td>\n",
       "      <td>Mesa Digitalizadora Wacom CTL472 Pequena 2540 ...</td>\n",
       "    </tr>\n",
       "  </tbody>\n",
       "</table>\n",
       "</div>"
      ],
      "text/plain": [
       "         DATE                                                URL MARKETPLACE  \\\n",
       "0  2022-05-18  https://www.kabum.com.br/produto/93434/mesa-di...       Kabum   \n",
       "1  2022-05-18  https://www.kabum.com.br/produto/134333/mesa-d...       Kabum   \n",
       "2  2022-05-18  https://www.kabum.com.br/produto/173541/mesa-d...       Kabum   \n",
       "3  2022-05-18  https://www.kabum.com.br/produto/217140/mesa-d...       Kabum   \n",
       "4  2022-05-18  https://www.kabum.com.br/produto/208497/mesa-d...       Kabum   \n",
       "\n",
       "                 SELLER   PRICE PARCEL INSTALLMENT      ID  \\\n",
       "0               KaBuM!   199.90      9       26.13   93434   \n",
       "1  Inpower Informatica   199.80      8       27.75  134333   \n",
       "2     Oficina dos Bits   300.59     10       33.39  173541   \n",
       "3     ON LINE SHOPPING   359.10     10       35.91  217140   \n",
       "4             PRIMETEK   307.58     10       30.75  208497   \n",
       "\n",
       "                                             PRODUCT  \n",
       "0    Mesa Digitalizadora One by Wacom CTL472 Pequena  \n",
       "1    Mesa Digitalizadora One by Wacom CTL472 Pequena  \n",
       "2  Mesa Digitalizadora One by Wacom Pequena - CTL...  \n",
       "3    Mesa Digitalizadora One Wacom By Ctl472 Pequena  \n",
       "4  Mesa Digitalizadora Wacom CTL472 Pequena 2540 ...  "
      ]
     },
     "execution_count": 19,
     "metadata": {},
     "output_type": "execute_result"
    }
   ],
   "source": [
    "Dataset_Kabum.head()    "
   ]
  },
  {
   "cell_type": "code",
   "execution_count": 20,
   "metadata": {},
   "outputs": [
    {
     "data": {
      "text/plain": [
       "DATE            object\n",
       "URL             object\n",
       "MARKETPLACE     object\n",
       "SELLER          object\n",
       "PRICE          float64\n",
       "PARCEL          object\n",
       "INSTALLMENT     object\n",
       "ID              object\n",
       "PRODUCT         object\n",
       "dtype: object"
      ]
     },
     "execution_count": 20,
     "metadata": {},
     "output_type": "execute_result"
    }
   ],
   "source": [
    "Dataset_Kabum.dtypes"
   ]
  },
  {
   "cell_type": "code",
   "execution_count": 21,
   "metadata": {},
   "outputs": [],
   "source": [
    "Dataset_Kabum.to_excel(r\"C:\\Users\\pedro\\Documents\\Turte Brand Protection\\Turtle_Thinker_Alpha_0.1\\Kabum_Wacom.xlsx\", index=False)"
   ]
  },
  {
   "cell_type": "code",
   "execution_count": null,
   "metadata": {},
   "outputs": [],
   "source": []
  }
 ],
 "metadata": {
  "interpreter": {
   "hash": "c3503f95e0e8f4afdf6702396a7a2a29cae9f67572acfe092405dcaa2579b817"
  },
  "kernelspec": {
   "display_name": "Python 3.10.4 64-bit",
   "language": "python",
   "name": "python3"
  },
  "language_info": {
   "codemirror_mode": {
    "name": "ipython",
    "version": 3
   },
   "file_extension": ".py",
   "mimetype": "text/x-python",
   "name": "python",
   "nbconvert_exporter": "python",
   "pygments_lexer": "ipython3",
   "version": "3.10.4"
  },
  "orig_nbformat": 4
 },
 "nbformat": 4,
 "nbformat_minor": 2
}
